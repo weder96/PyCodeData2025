{
 "cells": [
  {
   "cell_type": "markdown",
   "metadata": {},
   "source": [
    "# Introdução ao Numpy "
   ]
  },
  {
   "attachments": {
    "c1e48aa6-a1ae-45a8-82d6-b16ce11d7c8d.png": {
     "image/png": "[encoded data removed]"
    }
   },
   "cell_type": "markdown",
   "metadata": {},
   "source": [
    "NumPy é uma biblioteca que serve para trabalhar com vetores dentro da programação. Uma lista de números pode ser um vetor, por exem- plo. Por mais que a biblioteca NumPy seja feita para trabalhar dentro do Python, sua estrutura é construída pela linguagem de programação C, que é considerada uma das linguagens mais rápidas do mundo.\n",
    "\n",
    "O NumPy é o alicerce da computação numérica em Python, projetado especificamente para realizar operações matemáticas em vetores e matrizes de forma extremamente eficiente. O segredo de sua velocidade reside em sua arquitetura: enquanto o Python é uma linguagem interpretada, as operações centrais do NumPy são executadas em código C compilado, eliminando gargalos de performance.\n",
    "\n",
    "Embora as listas nativas do Python possam parecer similares aos arrays do NumPy por armazenarem sequências de dados, a diferença de desempenho entre eles é abismal. Os arrays do NumPy são homogêneos (todos os elementos são do mesmo tipo) e armazenam seus dados em um bloco de memória contínuo. \n",
    "\n",
    "\n",
    "![image.png](attachment:c1e48aa6-a1ae-45a8-82d6-b16ce11d7c8d.png)"
   ]
  },
  {
   "cell_type": "markdown",
   "metadata": {},
   "source": [
    "## Criando Arrays (matrizes) através de Listas"
   ]
  },
  {
   "cell_type": "markdown",
   "metadata": {},
   "source": [
    "Uma array, ou matriz, é uma estrutura de dados com linhas e colunas. Já vimos essas estruturas nas aulas de Álgebra Linear. O Numpy é uma biblioteca que permite criar matrizes numéricas de qualquer tipo de forma eficiente. Vejamos como isso é feito."
   ]
  },
  {
   "cell_type": "code",
   "execution_count": 2,
   "metadata": {},
   "outputs": [],
   "source": [
    "import numpy as np # np é a forma habital de chamar a biblioteca"
   ]
  },
  {
   "cell_type": "code",
   "execution_count": 52,
   "metadata": {},
   "outputs": [
    {
     "data": {
      "text/plain": [
       "[1, 2, 3, 4, 5, 6, 7, 8, 9]"
      ]
     },
     "execution_count": 52,
     "metadata": {},
     "output_type": "execute_result"
    }
   ],
   "source": [
    "lista = [1,2,3,4,5,6,7,8,9] #Lista em Python\n",
    "lista"
   ]
  },
  {
   "cell_type": "code",
   "execution_count": 53,
   "metadata": {},
   "outputs": [],
   "source": [
    "array = np.array(lista)"
   ]
  },
  {
   "cell_type": "code",
   "execution_count": 4,
   "metadata": {},
   "outputs": [
    {
     "data": {
      "text/plain": [
       "array([1, 2, 3, 4, 5, 6, 7, 8, 9])"
      ]
     },
     "execution_count": 4,
     "metadata": {},
     "output_type": "execute_result"
    }
   ],
   "source": [
    "array"
   ]
  },
  {
   "cell_type": "markdown",
   "metadata": {},
   "source": [
    "Ao contrário das listas do Python, as matrizes do Numpy só podem ter um tipo de dados. Ex: Todos inteiros, todos Floats etc."
   ]
  },
  {
   "cell_type": "code",
   "execution_count": 55,
   "metadata": {},
   "outputs": [
    {
     "data": {
      "text/plain": [
       "array([1., 2., 3., 4., 5., 6., 7., 8., 9.], dtype=float32)"
      ]
     },
     "execution_count": 55,
     "metadata": {},
     "output_type": "execute_result"
    }
   ],
   "source": [
    "np.array(lista,dtype='float32') # forçando que os número da lista sejam float"
   ]
  },
  {
   "cell_type": "markdown",
   "metadata": {},
   "source": [
    "Podemos também criar matrizes com mais de uma linha. Vejamos:"
   ]
  },
  {
   "cell_type": "code",
   "execution_count": 56,
   "metadata": {},
   "outputs": [
    {
     "data": {
      "text/plain": [
       "[2, 4, 6, 8, 10, 12, 14, 16, 18]"
      ]
     },
     "execution_count": 56,
     "metadata": {},
     "output_type": "execute_result"
    }
   ],
   "source": [
    "lista2 = [x*2 for x in lista] #List Comprehension\n",
    "lista2"
   ]
  },
  {
   "cell_type": "code",
   "execution_count": 57,
   "metadata": {},
   "outputs": [
    {
     "data": {
      "text/plain": [
       "array([[ 1,  2,  3,  4,  5,  6,  7,  8,  9],\n",
       "       [ 2,  4,  6,  8, 10, 12, 14, 16, 18]])"
      ]
     },
     "execution_count": 57,
     "metadata": {},
     "output_type": "execute_result"
    }
   ],
   "source": [
    "np.array([lista,lista2]) # cria uma matriz 2 x 9 (2 linhas e 9 colunas)"
   ]
  },
  {
   "cell_type": "markdown",
   "metadata": {},
   "source": [
    "## Criando Arrays do zero"
   ]
  },
  {
   "cell_type": "code",
   "execution_count": 58,
   "metadata": {},
   "outputs": [
    {
     "data": {
      "text/plain": [
       "array([0., 0., 0., 0., 0., 0., 0., 0., 0., 0.])"
      ]
     },
     "execution_count": 58,
     "metadata": {},
     "output_type": "execute_result"
    }
   ],
   "source": [
    "# Cria uma matriz de zeros\n",
    "np.zeros(10)"
   ]
  },
  {
   "cell_type": "code",
   "execution_count": 59,
   "metadata": {},
   "outputs": [
    {
     "data": {
      "text/plain": [
       "array([[1., 1., 1., 1.],\n",
       "       [1., 1., 1., 1.],\n",
       "       [1., 1., 1., 1.]])"
      ]
     },
     "execution_count": 59,
     "metadata": {},
     "output_type": "execute_result"
    }
   ],
   "source": [
    "# Cria uma matrix de n linhas e m colunas de numeros 1. Ex: Matriz 3 x 4\n",
    "np.ones( (3,4) )"
   ]
  },
  {
   "cell_type": "code",
   "execution_count": 10,
   "metadata": {},
   "outputs": [
    {
     "data": {
      "text/plain": [
       "array([[10., 10., 10., 10.],\n",
       "       [10., 10., 10., 10.],\n",
       "       [10., 10., 10., 10.]], dtype=float32)"
      ]
     },
     "execution_count": 10,
     "metadata": {},
     "output_type": "execute_result"
    }
   ],
   "source": [
    "# Cria uma matrix de n linhas e m colunas de valores escolhidos. Ex: Matriz 3 x 4\n",
    "np.full((3,4),10,dtype='float32')"
   ]
  },
  {
   "cell_type": "code",
   "execution_count": 11,
   "metadata": {},
   "outputs": [
    {
     "data": {
      "text/plain": [
       "array([[10., 10., 10., 10.],\n",
       "       [10., 10., 10., 10.],\n",
       "       [10., 10., 10., 10.]])"
      ]
     },
     "execution_count": 11,
     "metadata": {},
     "output_type": "execute_result"
    }
   ],
   "source": [
    "# a mesma matriz acima poderia ser criada multiplicando por 10 a matriz np.ones\n",
    "np.ones((3,4))*10"
   ]
  },
  {
   "cell_type": "code",
   "execution_count": 60,
   "metadata": {},
   "outputs": [
    {
     "data": {
      "text/plain": [
       "array([0, 3, 6, 9])"
      ]
     },
     "execution_count": 60,
     "metadata": {},
     "output_type": "execute_result"
    }
   ],
   "source": [
    "# Cria uma matriz que contém números em uma data sequencia. Ex: Numeros de 0 a 10 pulando de 3 em 3.\n",
    "np.arange(0,10,3)"
   ]
  },
  {
   "cell_type": "markdown",
   "metadata": {},
   "source": [
    "### Podemos criar matrizes usando distribuições de probabilidade também. Vejamos alguns exemplos."
   ]
  },
  {
   "cell_type": "code",
   "execution_count": 63,
   "metadata": {},
   "outputs": [
    {
     "data": {
      "text/plain": [
       "array([[0.14335329, 0.94466892, 0.52184832, 0.41466194, 0.26455561],\n",
       "       [0.77423369, 0.45615033, 0.56843395, 0.0187898 , 0.6176355 ]])"
      ]
     },
     "execution_count": 63,
     "metadata": {},
     "output_type": "execute_result"
    }
   ],
   "source": [
    "# Cria matriz 2x5 usando a distribuição Uniforme (valores de 0 a 1)\n",
    "np.random.random((2,5))"
   ]
  },
  {
   "cell_type": "code",
   "execution_count": 67,
   "metadata": {},
   "outputs": [
    {
     "data": {
      "text/plain": [
       "array([[ 89,  73,  11],\n",
       "       [ 52, 132, 136],\n",
       "       [105, 185,  83]])"
      ]
     },
     "execution_count": 67,
     "metadata": {},
     "output_type": "execute_result"
    }
   ],
   "source": [
    "# Cria matriz 3x3 de números inteiros usando a distribuição Uniforme (com valores de 5 a 200)\n",
    "np.random.randint(5,200,(3,3))"
   ]
  },
  {
   "cell_type": "code",
   "execution_count": 5,
   "metadata": {},
   "outputs": [
    {
     "name": "stdout",
     "output_type": "stream",
     "text": [
      "O vetor de numeros inteiros :  [ 5 14  6  7]\n"
     ]
    }
   ],
   "source": [
    "# Cria vetor 4 de números inteiros usando a distribuição Uniforme (com valores de 5 a 15)\n",
    "print(\"O vetor de numeros inteiros : \",np.random.randint(5,15,4))"
   ]
  },
  {
   "cell_type": "code",
   "execution_count": 71,
   "metadata": {},
   "outputs": [],
   "source": [
    "# Cria matriz usando 2x2 a distribuição Normal (média 2 e desvio padrao 5)\n",
    "matriz = np.random.normal(2,5,10000)"
   ]
  },
  {
   "cell_type": "code",
   "execution_count": 72,
   "metadata": {},
   "outputs": [
    {
     "data": {
      "text/plain": [
       "np.float64(2.050529121412916)"
      ]
     },
     "execution_count": 72,
     "metadata": {},
     "output_type": "execute_result"
    }
   ],
   "source": [
    "matriz.mean()"
   ]
  },
  {
   "cell_type": "markdown",
   "metadata": {},
   "source": [
    "O que é uma Distribuição Uniforme?\n",
    "Significa que todos os números dentro de um intervalo específico têm a mesma probabilidade de serem sorteados."
   ]
  },
  {
   "cell_type": "code",
   "execution_count": 6,
   "metadata": {},
   "outputs": [
    {
     "name": "stdout",
     "output_type": "stream",
     "text": [
      "0.6227642266101613\n"
     ]
    }
   ],
   "source": [
    "import numpy as np\n",
    "\n",
    "# Gera um único float aleatório entre 0.0 e 1.0\n",
    "valor_aleatorio = np.random.uniform()\n",
    "print(valor_aleatorio)\n",
    "# Possível saída: 0.6126839393809041"
   ]
  },
  {
   "cell_type": "code",
   "execution_count": 7,
   "metadata": {},
   "outputs": [
    {
     "name": "stdout",
     "output_type": "stream",
     "text": [
      "A temperatura atual é: 20.27°C\n"
     ]
    }
   ],
   "source": [
    "# Gerar um Único Número em um Intervalo Específico\n",
    "# Você pode definir seu próprio intervalo com os parâmetros low e high.\n",
    "# Simula a medição de uma temperatura aleatória entre 18.5 e 25.5 graus\n",
    "temperatura = np.random.uniform(low=18.5, high=25.5)\n",
    "print(f\"A temperatura atual é: {temperatura:.2f}°C\")\n",
    "# Possível saída: A temperatura atual é: 21.74°C"
   ]
  },
  {
   "cell_type": "code",
   "execution_count": 10,
   "metadata": {},
   "outputs": [
    {
     "name": "stdout",
     "output_type": "stream",
     "text": [
      "[1.58881913 1.88932841 1.62102477 1.94199414 1.59293441]\n"
     ]
    }
   ],
   "source": [
    "# Gerar um Array Unidimensional (Vetor)\n",
    "# Use o parâmetro size para especificar o número de valores a serem gerados.\n",
    "# Gera um vetor com 5 alturas aleatórias entre 1.50 e 2.00 metros\n",
    "alturas = np.random.uniform(low=1.5, high=2.0, size=5)\n",
    "print(alturas)"
   ]
  },
  {
   "cell_type": "markdown",
   "metadata": {},
   "source": [
    "💡 Dica: Como obter resultados consistentes?\n",
    "\n",
    "Lembre-se que as funções de distribuições de probabilidade do NumPy geram números pseudoaleatórios, o que significa que os valores em suas matrizes mudarão a cada execução. Para garantir que seus resultados sejam sempre os mesmos — o que é crucial para testes e compartilhamento de código —, você precisa fixar um ponto de partida. Isso é feito definindo uma \"semente\" (seed). No NumPy, a função para isso é np.random.seed()."
   ]
  },
  {
   "cell_type": "code",
   "execution_count": 76,
   "metadata": {},
   "outputs": [
    {
     "data": {
      "text/plain": [
       "array([[0.87808901, 0.13756216, 0.13052313, 0.41726905, 0.30432715],\n",
       "       [0.51063342, 0.09599142, 0.96396118, 0.83842188, 0.25257693]])"
      ]
     },
     "execution_count": 76,
     "metadata": {},
     "output_type": "execute_result"
    }
   ],
   "source": [
    "np.random.seed(546546546)\n",
    "np.random.random((2,5))"
   ]
  },
  {
   "cell_type": "markdown",
   "metadata": {},
   "source": [
    "## Acessando elementos da matriz"
   ]
  },
  {
   "cell_type": "markdown",
   "metadata": {},
   "source": [
    "Vamos falar agora de uma série de formas de se acessar determinados elementos de uma matriz. Veja:"
   ]
  },
  {
   "cell_type": "code",
   "execution_count": 79,
   "metadata": {},
   "outputs": [
    {
     "data": {
      "text/plain": [
       "array([10, 11, 12, 13, 14, 15, 16, 17, 18, 19])"
      ]
     },
     "execution_count": 79,
     "metadata": {},
     "output_type": "execute_result"
    }
   ],
   "source": [
    "linha = np.arange(10)+10\n",
    "linha"
   ]
  },
  {
   "cell_type": "code",
   "execution_count": 80,
   "metadata": {},
   "outputs": [
    {
     "data": {
      "text/plain": [
       "array([10, 11, 12])"
      ]
     },
     "execution_count": 80,
     "metadata": {},
     "output_type": "execute_result"
    }
   ],
   "source": [
    "linha[:3] # acessa os primeiros 3 elementos (da esquerda para a direita)"
   ]
  },
  {
   "cell_type": "code",
   "execution_count": 81,
   "metadata": {},
   "outputs": [
    {
     "data": {
      "text/plain": [
       "array([13, 14])"
      ]
     },
     "execution_count": 81,
     "metadata": {},
     "output_type": "execute_result"
    }
   ],
   "source": [
    "linha[3:5] # acessa o elemento de indice 3 até o elemento de indice 4 (o elemento 5 não é incluído)"
   ]
  },
  {
   "cell_type": "code",
   "execution_count": 82,
   "metadata": {},
   "outputs": [
    {
     "data": {
      "text/plain": [
       "array([15, 16, 17, 18, 19])"
      ]
     },
     "execution_count": 82,
     "metadata": {},
     "output_type": "execute_result"
    }
   ],
   "source": [
    "linha[5:] # acessa a partir do elemento de indice 5"
   ]
  },
  {
   "cell_type": "code",
   "execution_count": 22,
   "metadata": {},
   "outputs": [
    {
     "data": {
      "text/plain": [
       "array([[47, 29,  8],\n",
       "       [13,  5, 26],\n",
       "       [24, 15, 48]])"
      ]
     },
     "execution_count": 22,
     "metadata": {},
     "output_type": "execute_result"
    }
   ],
   "source": [
    "np.random.seed(3)\n",
    "matriz = np.random.randint(5,50,(3,3))\n",
    "matriz"
   ]
  },
  {
   "cell_type": "code",
   "execution_count": 23,
   "metadata": {},
   "outputs": [
    {
     "data": {
      "text/plain": [
       "np.int64(47)"
      ]
     },
     "execution_count": 23,
     "metadata": {},
     "output_type": "execute_result"
    }
   ],
   "source": [
    "matriz[0,0] # elemento da linha 0 e coluna 0. Lembrando que os índices das linhas e colunas começam no 0 (zero)."
   ]
  },
  {
   "cell_type": "code",
   "execution_count": 24,
   "metadata": {},
   "outputs": [
    {
     "data": {
      "text/plain": [
       "np.int64(26)"
      ]
     },
     "execution_count": 24,
     "metadata": {},
     "output_type": "execute_result"
    }
   ],
   "source": [
    "matriz[1,2]"
   ]
  },
  {
   "cell_type": "code",
   "execution_count": 25,
   "metadata": {},
   "outputs": [
    {
     "data": {
      "text/plain": [
       "array([[47, 29,  8],\n",
       "       [13,  5, 26]])"
      ]
     },
     "execution_count": 25,
     "metadata": {},
     "output_type": "execute_result"
    }
   ],
   "source": [
    "matriz[:2,:] # acessa as primeiras duas linhas e todas as colunas"
   ]
  },
  {
   "cell_type": "code",
   "execution_count": 26,
   "metadata": {},
   "outputs": [
    {
     "data": {
      "text/plain": [
       "array([[24, 15]])"
      ]
     },
     "execution_count": 26,
     "metadata": {},
     "output_type": "execute_result"
    }
   ],
   "source": [
    "matriz[2:,:2] # acessa a partir da linha de indice 2 (2:) até a coluna de indice 1 (:2). Ou seja, a coluna de indice 2 não é incluída"
   ]
  },
  {
   "cell_type": "markdown",
   "metadata": {},
   "source": [
    "## Concatenando elementos da matriz"
   ]
  },
  {
   "cell_type": "markdown",
   "metadata": {},
   "source": [
    "Uma operação importante em matriz é a concatenação, ou seja, o empilhamento de linhas e colunas de matrizes diferentes para formar uma só. Veja:"
   ]
  },
  {
   "cell_type": "code",
   "execution_count": 17,
   "metadata": {},
   "outputs": [
    {
     "name": "stdout",
     "output_type": "stream",
     "text": [
      "Array Bidimensional : [[1 2 3]\n",
      " [4 5 6]]\n",
      "Array Tridimensional : [[1 2 3]\n",
      " [4 5 6]\n",
      " [7 8 9]]\n"
     ]
    }
   ],
   "source": [
    "arr1 = [1,2,3]\n",
    "arr2 = [4,5,6]\n",
    "arr3 = [7,8,9]\n",
    "arr2D = np.array([arr1, arr2])\n",
    "arr3D = np.array([arr1, arr2, arr3])\n",
    "print(\"Array Bidimensional :\",arr2D)\n",
    "print(\"Array Tridimensional :\",arr3D)"
   ]
  },
  {
   "cell_type": "code",
   "execution_count": null,
   "metadata": {},
   "outputs": [
    {
     "data": {
      "text/plain": [
       "array([[1, 2, 3],\n",
       "       [4, 5, 6],\n",
       "       [7, 8, 9]])"
      ]
     },
     "execution_count": 15,
     "metadata": {},
     "output_type": "execute_result"
    }
   ],
   "source": []
  },
  {
   "cell_type": "markdown",
   "metadata": {},
   "source": [
    "# Atributos e Métodos"
   ]
  },
  {
   "cell_type": "markdown",
   "metadata": {},
   "source": [
    "Entender a diferença entre atributos e métodos é fundamental para usar bibliotecas como o NumPy de forma eficaz. É um conceito-chave de programação orientada a objetos que se aplica diretamente aos arrays do NumPy.\n",
    "\n",
    "Vamos usar uma analogia simples: **pense em um array NumPy como um \"carro\".**\n",
    "\n",
    "Atributos são as propriedades do carro: sua cor, seu modelo, o número de portas. São características que você consulta.\n",
    "\n",
    "Métodos são as ações que o carro pode fazer: ligar_motor(), acelerar(), frear(). São funções que você executa.\n",
    "\n",
    "A diferença visual na sintaxe é a mais importante:\n",
    "Atributos são acessados diretamente: **meu_array.shape**\n",
    "\n",
    "Métodos são chamados com parênteses (): **meu_array.sum()**\n"
   ]
  },
  {
   "cell_type": "code",
   "execution_count": 24,
   "metadata": {},
   "outputs": [
    {
     "name": "stdout",
     "output_type": "stream",
     "text": [
      "O Array é : [0 1 2 3 4 5 6 7 8 9]\n",
      "Numero de Bytes do Array : 80\n",
      "Numero de N Bytes dentro do Array  : 8\n"
     ]
    }
   ],
   "source": [
    "import numpy as np2\n",
    "\n",
    "arr = np2.arange(10)\n",
    "print(\"O Array é :\",arr)\n",
    "print(\"Numero de Bytes do Array :\",arr.nbytes)\n",
    "print(\"Numero de N Bytes dentro do Array  :\",arr.itemsize)"
   ]
  },
  {
   "cell_type": "code",
   "execution_count": null,
   "metadata": {},
   "outputs": [
    {
     "name": "stdout",
     "output_type": "stream",
     "text": [
      "Array: 42\n",
      "Número de dimensões (ndim): 0\n"
     ]
    }
   ],
   "source": [
    "# 1. Array de 0 Dimensões (Escalar)\n",
    "# Um array que contém apenas um único número.\n",
    "\n",
    "import numpy as np\n",
    "\n",
    "escalar = np.array(42)\n",
    "print(f\"Array: {escalar}\")\n",
    "print(f\"Número de dimensões (ndim): {escalar.ndim}\")\n",
    "# Saída: Número de dimensões (ndim): 0\n"
   ]
  },
  {
   "cell_type": "code",
   "execution_count": 26,
   "metadata": {},
   "outputs": [
    {
     "name": "stdout",
     "output_type": "stream",
     "text": [
      "\n",
      "Array: [10 20 30 40]\n",
      "Número de dimensões (ndim): 1\n"
     ]
    }
   ],
   "source": [
    "# 2.  Array de 1 Dimensão (Vetor)\n",
    "# Uma sequência de números, como uma lista.\n",
    "\n",
    "vetor = np.array([10, 20, 30, 40])\n",
    "print(f\"\\nArray: {vetor}\")\n",
    "print(f\"Número de dimensões (ndim): {vetor.ndim}\")\n",
    "# Saída: Número de dimensões (ndim): 1"
   ]
  },
  {
   "cell_type": "code",
   "execution_count": 27,
   "metadata": {},
   "outputs": [
    {
     "name": "stdout",
     "output_type": "stream",
     "text": [
      "\n",
      "Array:\n",
      "[[1 2 3]\n",
      " [4 5 6]]\n",
      "Número de dimensões (ndim): 2\n"
     ]
    }
   ],
   "source": [
    "# 3. Array de 2 Dimensões (Matriz)\n",
    "# Uma lista de listas, onde todas as listas internas têm o mesmo tamanho.\n",
    "\n",
    "matriz = np.array([[1, 2, 3],\n",
    "                   [4, 5, 6]])\n",
    "print(f\"\\nArray:\\n{matriz}\")\n",
    "print(f\"Número de dimensões (ndim): {matriz.ndim}\")\n",
    "# Saída: Número de dimensões (ndim): 2"
   ]
  },
  {
   "cell_type": "code",
   "execution_count": 28,
   "metadata": {},
   "outputs": [
    {
     "name": "stdout",
     "output_type": "stream",
     "text": [
      "\n",
      "Array:\n",
      "[[[1 2]\n",
      "  [3 4]]\n",
      "\n",
      " [[5 6]\n",
      "  [7 8]]]\n",
      "Número de dimensões (ndim): 3\n"
     ]
    }
   ],
   "source": [
    "# 4. Array de 3 Dimensões (Tensor)\n",
    "# Uma lista de listas de listas. Pense nisso como uma pilha de matrizes.\n",
    "\n",
    "tensor = np.array([[[1, 2], [3, 4]],\n",
    "                   [[5, 6], [7, 8]]])\n",
    "print(f\"\\nArray:\\n{tensor}\")\n",
    "print(f\"Número de dimensões (ndim): {tensor.ndim}\")\n",
    "# Saída: Número de dimensões (ndim): 3"
   ]
  },
  {
   "cell_type": "code",
   "execution_count": null,
   "metadata": {},
   "outputs": [
    {
     "name": "stdout",
     "output_type": "stream",
     "text": [
      "Vetor: [10 20 30 40 50 60]\n",
      "Shape do vetor: (6,)\n"
     ]
    }
   ],
   "source": [
    "# Isso nos diz que o array tem uma única dimensão com 6 elementos. O (6,) indica uma tupla com um único item.\n",
    "\n",
    "import numpy as np\n",
    "\n",
    "vetor = np.array([10, 20, 30, 40, 50, 60])\n",
    "\n",
    "print(f\"Vetor: {vetor}\")\n",
    "print(f\"Shape do vetor: {vetor.shape}\")"
   ]
  },
  {
   "cell_type": "code",
   "execution_count": 32,
   "metadata": {},
   "outputs": [
    {
     "name": "stdout",
     "output_type": "stream",
     "text": [
      "\n",
      "Matriz: [[1 2 3]\n",
      " [4 5 6]]\n",
      "Shape da matriz: (2, 3)\n"
     ]
    }
   ],
   "source": [
    "# Isso nos diz que o array tem 2 dimensões: \n",
    "# a primeira dimensão tem tamanho 2 (são 2 linhas) e a segunda tem tamanho 3 (são 3 colunas).\n",
    "\n",
    "matriz = np.array([[1, 2, 3],\n",
    "                   [4, 5, 6]])\n",
    "\n",
    "print(f\"\\nMatriz: {matriz}\")\n",
    "print(f\"Shape da matriz: {matriz.shape}\")"
   ]
  },
  {
   "cell_type": "markdown",
   "metadata": {},
   "source": [
    "# Exemplos Práticos\n",
    "# Não importa o formato do array, .size sempre contará todos os elementos."
   ]
  },
  {
   "cell_type": "code",
   "execution_count": 33,
   "metadata": {},
   "outputs": [
    {
     "name": "stdout",
     "output_type": "stream",
     "text": [
      "Vetor .size: 5\n",
      "Matriz .size: 6\n",
      "Tensor .size: 40\n"
     ]
    }
   ],
   "source": [
    "#1. Em um Vetor (1D)\n",
    "import numpy as np\n",
    "\n",
    "vetor = np.array([10, 20, 30, 40, 50]) # 5 elementos\n",
    "print(f\"Vetor .size: {vetor.size}\")\n",
    "# Saída: Vetor .size: 5\n",
    "\n",
    "#2. Em uma Matriz (2D)\n",
    "matriz = np.array([[1, 2, 3],\n",
    "                   [4, 5, 6]]) # 2 linhas x 3 colunas = 6 elementos\n",
    "print(f\"Matriz .size: {matriz.size}\")\n",
    "# Saída: Matriz .size: 6\n",
    "#3. Em um Tensor (3D)\n",
    "\n",
    "tensor = np.zeros((4, 5, 2)) # 4 x 5 x 2 = 40 elementos\n",
    "print(f\"Tensor .size: {tensor.size}\")\n",
    "# Saída: Tensor .size: 40"
   ]
  },
  {
   "cell_type": "code",
   "execution_count": 19,
   "metadata": {},
   "outputs": [
    {
     "data": {
      "text/plain": [
       "array([-5, -4, -3, -2, -1,  0,  1,  2,  3,  4])"
      ]
     },
     "execution_count": 19,
     "metadata": {},
     "output_type": "execute_result"
    }
   ],
   "source": [
    "lista = np.arange(-5,5,1)\n",
    "lista"
   ]
  },
  {
   "cell_type": "code",
   "execution_count": 30,
   "metadata": {},
   "outputs": [
    {
     "data": {
      "text/plain": [
       "array([1, 2, 3, 4, 5, 6])"
      ]
     },
     "execution_count": 30,
     "metadata": {},
     "output_type": "execute_result"
    }
   ],
   "source": [
    "np.concatenate([linha1,linha2]) # junta as linhas uma ao lado da outra"
   ]
  },
  {
   "cell_type": "code",
   "execution_count": 31,
   "metadata": {},
   "outputs": [
    {
     "data": {
      "text/plain": [
       "array([[1, 2, 3],\n",
       "       [4, 5, 6]])"
      ]
     },
     "execution_count": 31,
     "metadata": {},
     "output_type": "execute_result"
    }
   ],
   "source": [
    "np.vstack([linha1,linha2]) # junta as linhas uma embaixo da outra"
   ]
  },
  {
   "cell_type": "markdown",
   "metadata": {},
   "source": [
    "# Operações matemáticas e de comparação no Numpy"
   ]
  },
  {
   "cell_type": "markdown",
   "metadata": {},
   "source": [
    "Como qualquer linguagem de programação, precisamos realizar contas e operações de comparação com os tipos de dados. Veja as principais:"
   ]
  },
  {
   "cell_type": "markdown",
   "metadata": {},
   "source": [
    "## Operações matemáticas"
   ]
  },
  {
   "cell_type": "code",
   "execution_count": 32,
   "metadata": {},
   "outputs": [
    {
     "data": {
      "text/plain": [
       "array([-5, -4, -3, -2, -1,  0,  1,  2,  3,  4])"
      ]
     },
     "execution_count": 32,
     "metadata": {},
     "output_type": "execute_result"
    }
   ],
   "source": [
    "lista = np.arange(-5,5,1)\n",
    "lista"
   ]
  },
  {
   "cell_type": "code",
   "execution_count": 33,
   "metadata": {},
   "outputs": [
    {
     "data": {
      "text/plain": [
       "array([-3, -2, -1,  0,  1,  2,  3,  4,  5,  6])"
      ]
     },
     "execution_count": 33,
     "metadata": {},
     "output_type": "execute_result"
    }
   ],
   "source": [
    "# soma 2 a cada elemento da matriz\n",
    "lista + 2 "
   ]
  },
  {
   "cell_type": "code",
   "execution_count": 34,
   "metadata": {},
   "outputs": [
    {
     "data": {
      "text/plain": [
       "array([-10,  -8,  -6,  -4,  -2,   0,   2,   4,   6,   8])"
      ]
     },
     "execution_count": 34,
     "metadata": {},
     "output_type": "execute_result"
    }
   ],
   "source": [
    "# multiplica 2 a cada elemento da matriz\n",
    "lista * 2 "
   ]
  },
  {
   "cell_type": "code",
   "execution_count": 35,
   "metadata": {},
   "outputs": [
    {
     "data": {
      "text/plain": [
       "array([-2.5, -2. , -1.5, -1. , -0.5,  0. ,  0.5,  1. ,  1.5,  2. ])"
      ]
     },
     "execution_count": 35,
     "metadata": {},
     "output_type": "execute_result"
    }
   ],
   "source": [
    "# divide por 2 a cada elemento da matriz\n",
    "lista / 2 "
   ]
  },
  {
   "cell_type": "code",
   "execution_count": 36,
   "metadata": {},
   "outputs": [
    {
     "data": {
      "text/plain": [
       "array([25, 16,  9,  4,  1,  0,  1,  4,  9, 16])"
      ]
     },
     "execution_count": 36,
     "metadata": {},
     "output_type": "execute_result"
    }
   ],
   "source": [
    "# eleva ao quadrado (potencia de 2) a cada elemento da matriz\n",
    "lista ** 2 "
   ]
  },
  {
   "cell_type": "code",
   "execution_count": 37,
   "metadata": {},
   "outputs": [
    {
     "data": {
      "text/plain": [
       "array([5, 4, 3, 2, 1, 0, 1, 2, 3, 4])"
      ]
     },
     "execution_count": 37,
     "metadata": {},
     "output_type": "execute_result"
    }
   ],
   "source": [
    "# retorna o valor absoluto\n",
    "abs(lista)"
   ]
  },
  {
   "cell_type": "code",
   "execution_count": 38,
   "metadata": {},
   "outputs": [
    {
     "data": {
      "text/plain": [
       "array([1, 2, 3, 4, 5, 6, 7, 8, 9])"
      ]
     },
     "execution_count": 38,
     "metadata": {},
     "output_type": "execute_result"
    }
   ],
   "source": [
    "lista = np.arange(1,10)\n",
    "lista"
   ]
  },
  {
   "cell_type": "code",
   "execution_count": 39,
   "metadata": {},
   "outputs": [
    {
     "data": {
      "text/plain": [
       "array([0.        , 0.69314718, 1.09861229, 1.38629436, 1.60943791,\n",
       "       1.79175947, 1.94591015, 2.07944154, 2.19722458])"
      ]
     },
     "execution_count": 39,
     "metadata": {},
     "output_type": "execute_result"
    }
   ],
   "source": [
    "# retorna o logaritmo natural ln(x) de cada número\n",
    "np.log(lista)"
   ]
  },
  {
   "cell_type": "markdown",
   "metadata": {},
   "source": [
    "\n",
    "<br>\n",
    "Existem várias outras funções matemáticas. Seguem algumas:\n",
    "\n",
    "<br>Funções trigonométricas:\n",
    "\n",
    "- np.sin(x)\n",
    "- np.cos(x)\n",
    "- np.tan(x)\n",
    "\n",
    "Funções logarítmicas:\n",
    "\n",
    "- np.log2(x)\n",
    "- np.log10(x)"
   ]
  },
  {
   "cell_type": "markdown",
   "metadata": {},
   "source": [
    "## Operações de comparação"
   ]
  },
  {
   "cell_type": "code",
   "execution_count": 84,
   "metadata": {},
   "outputs": [
    {
     "data": {
      "text/plain": [
       "array([0, 1, 2, 3, 4, 5, 6, 7, 8, 9])"
      ]
     },
     "execution_count": 84,
     "metadata": {},
     "output_type": "execute_result"
    }
   ],
   "source": [
    "lista = np.arange(10)\n",
    "lista"
   ]
  },
  {
   "cell_type": "code",
   "execution_count": 85,
   "metadata": {},
   "outputs": [
    {
     "data": {
      "text/plain": [
       "array([False, False, False, False, False,  True,  True,  True,  True,\n",
       "        True])"
      ]
     },
     "execution_count": 85,
     "metadata": {},
     "output_type": "execute_result"
    }
   ],
   "source": [
    "lista > 4 # Com o operador > (maior) o Numpy faz a comparação em cada elemento da matriz \"linha\" retorna uma nova matriz com os resultados"
   ]
  },
  {
   "cell_type": "markdown",
   "metadata": {},
   "source": [
    "A mesma lógica funciona para todos os outros operadores de comparação. São eles:\n",
    "\n",
    "- \"<\" (menor)\n",
    "- \"<=\" (menor ou igual)\n",
    "- \">=\" (maior ou igual)\n",
    "- \"==\" (igual)\n",
    "- \"!=\" (diferente)"
   ]
  },
  {
   "cell_type": "markdown",
   "metadata": {},
   "source": [
    "Podemos inclusive contar os valores <b>True</b> de uma matriz. Veja:"
   ]
  },
  {
   "cell_type": "code",
   "execution_count": 86,
   "metadata": {},
   "outputs": [
    {
     "data": {
      "text/plain": [
       "np.int64(5)"
      ]
     },
     "execution_count": 86,
     "metadata": {},
     "output_type": "execute_result"
    }
   ],
   "source": [
    "np.sum(lista > 4) # Usamos a função de agregação \"sum\" (soma) para isso. Vamos entender quais funções de agregação estão disponíveis abaixo."
   ]
  },
  {
   "cell_type": "markdown",
   "metadata": {},
   "source": [
    "# Funções de Agregação no Numpy"
   ]
  },
  {
   "cell_type": "markdown",
   "metadata": {},
   "source": [
    "Nesta última seção, vamos falar das funções de agregação (em geral, as medidas resumo da estatística). Vejamos:"
   ]
  },
  {
   "cell_type": "code",
   "execution_count": 87,
   "metadata": {},
   "outputs": [],
   "source": [
    "np.random.seed(0)\n",
    "lista = np.random.randint(1,10,5)"
   ]
  },
  {
   "cell_type": "code",
   "execution_count": 88,
   "metadata": {},
   "outputs": [
    {
     "data": {
      "text/plain": [
       "array([6, 1, 4, 4, 8])"
      ]
     },
     "execution_count": 88,
     "metadata": {},
     "output_type": "execute_result"
    }
   ],
   "source": [
    "lista"
   ]
  },
  {
   "cell_type": "code",
   "execution_count": 89,
   "metadata": {},
   "outputs": [
    {
     "data": {
      "text/plain": [
       "np.int64(23)"
      ]
     },
     "execution_count": 89,
     "metadata": {},
     "output_type": "execute_result"
    }
   ],
   "source": [
    "np.sum(lista) # soma os elementos da matriz"
   ]
  },
  {
   "cell_type": "code",
   "execution_count": 90,
   "metadata": {},
   "outputs": [
    {
     "data": {
      "text/plain": [
       "np.float64(4.6)"
      ]
     },
     "execution_count": 90,
     "metadata": {},
     "output_type": "execute_result"
    }
   ],
   "source": [
    "np.mean(lista) # retorna a média dos elementos da matriz"
   ]
  },
  {
   "cell_type": "code",
   "execution_count": 91,
   "metadata": {},
   "outputs": [
    {
     "data": {
      "text/plain": [
       "np.float64(6.0)"
      ]
     },
     "execution_count": 91,
     "metadata": {},
     "output_type": "execute_result"
    }
   ],
   "source": [
    "np.percentile(lista,75) # retorna o percentil 75% (ou Q3) da matriz"
   ]
  },
  {
   "cell_type": "markdown",
   "metadata": {},
   "source": [
    "Seguem outra funções de agregação:\n",
    "\n",
    "| Função | Descrição |\n",
    "| ------ | ------ |\n",
    "| np.median(M) | Retorna a mediana dos elementos da matrix M |\n",
    "| np.prod(M) | Retorna o produto dos elementos da matrix M |\n",
    "| np.var(M) | Retorna a variancia dos elementos da matrix M |\n",
    "| np.std(M) | Retorna o desvio padrao dos elementos da matrix M |\n",
    "| np.min(M) | Retorna o mínimo da matrix M |\n",
    "| np.max(M) | Retorna o máximo da matrix M |"
   ]
  },
  {
   "cell_type": "markdown",
   "metadata": {},
   "source": [
    "As funções de agregação também funciona nas linhas ou colunas de uma matriz. Veja:"
   ]
  },
  {
   "cell_type": "code",
   "execution_count": 48,
   "metadata": {},
   "outputs": [
    {
     "data": {
      "text/plain": [
       "array([[6, 1, 4, 4],\n",
       "       [8, 4, 6, 3]])"
      ]
     },
     "execution_count": 48,
     "metadata": {},
     "output_type": "execute_result"
    }
   ],
   "source": [
    "np.random.seed(0)\n",
    "lista = np.random.randint(1,10,(2,4))\n",
    "lista"
   ]
  },
  {
   "cell_type": "code",
   "execution_count": 49,
   "metadata": {},
   "outputs": [
    {
     "data": {
      "text/plain": [
       "array([14,  5, 10,  7])"
      ]
     },
     "execution_count": 49,
     "metadata": {},
     "output_type": "execute_result"
    }
   ],
   "source": [
    "np.sum(lista,axis=0) # retorna uma matriz com a soma dos elementos de cada coluna (axis = 0) da matriz "
   ]
  },
  {
   "cell_type": "code",
   "execution_count": 50,
   "metadata": {},
   "outputs": [
    {
     "data": {
      "text/plain": [
       "array([15])"
      ]
     },
     "execution_count": 50,
     "metadata": {},
     "output_type": "execute_result"
    }
   ],
   "source": [
    "np.sum(lista[:1],axis=1) # retorna uma matriz com a soma dos elementos de cada linha (axis = 1) da matriz "
   ]
  },
  {
   "cell_type": "markdown",
   "metadata": {},
   "source": [
    " "
   ]
  },
  {
   "cell_type": "markdown",
   "metadata": {},
   "source": [
    "**Missão Cumprida: Fundamentos do NumPy Dominados!**\n",
    "\n",
    "Chegamos ao fim desta imersão no NumPy. Você agora compreende os pilares da biblioteca que forma a espinha dorsal da ciência de dados em Python.\n",
    "\n",
    "É claro que o NumPy oferece muito mais do que vimos aqui. Parte fundamental da jornada de um desenvolvedor é aprender a navegar por conta própria e aprofundar o conhecimento conforme a necessidade. Por isso, quero que você se sinta à vontade para consultar as melhores fontes de informação da área:\n",
    "\n",
    "Para respostas definitivas: A Documentação Oficial é o lugar ideal para entender cada detalhe de uma função.\n",
    "\n",
    "Para soluções práticas: O Stack Overflow é o maior acervo de perguntas e respostas sobre problemas reais de programação.\n",
    "\n",
    "Continuaremos aplicando e descobrindo mais sobre o NumPy nos próximos módulos. \n",
    "\n",
    "**Excelente trabalho até aqui!**"
   ]
  },
  {
   "cell_type": "markdown",
   "metadata": {},
   "source": [
    "Na próxima aula, vamos falar sobre o <b>Pandas</b>! Até lá !!!"
   ]
  }
 ],
 "metadata": {
  "kernelspec": {
   "display_name": "Python 3",
   "language": "python",
   "name": "python3"
  },
  "language_info": {
   "codemirror_mode": {
    "name": "ipython",
    "version": 3
   },
   "file_extension": ".py",
   "mimetype": "text/x-python",
   "name": "python",
   "nbconvert_exporter": "python",
   "pygments_lexer": "ipython3",
   "version": "3.10.12"
  },
  "toc-autonumbering": true,
  "toc-showcode": false,
  "toc-showmarkdowntxt": false,
  "toc-showtags": false
 },
 "nbformat": 4,
 "nbformat_minor": 4
}
