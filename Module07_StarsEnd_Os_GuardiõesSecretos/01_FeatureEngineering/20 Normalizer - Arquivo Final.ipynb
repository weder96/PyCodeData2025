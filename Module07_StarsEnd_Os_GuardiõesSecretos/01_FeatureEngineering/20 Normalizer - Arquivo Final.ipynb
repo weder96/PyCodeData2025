{
 "cells": [
  {
   "cell_type": "markdown",
   "id": "d3fb3c29",
   "metadata": {},
   "source": [
    "# Normalizer\n",
    "- Já falamos de normalização ao usar o redimensionamento dos dados (a mudança de escala)\n",
    "    - Utilizar o termo \"normalizar\" é muito comum só que o termo em si é muito genérico\n",
    "    - Como cientistas, é importante sempre que esse termo for utilizado, que a gente entenda o que ele realmente quer dizer\n",
    "- É importante que a gente consiga diferenciar cada um dos termos que vimos até agora:\n",
    "    - **Redimensionar (Scaler)** é mudar a escala dos dados, mantendo a mesma distribuição\n",
    "    - **Padronizar (ou escala padrão)** é quando trazemos a média para zero e o desvio padrão para 1\n",
    "    - **Normalizar** é adequar nossos dados a alguma norma. Por ser algo muito genérico pode ser usado em vários contextos, inclusive no redimensionamento\n",
    "- **Normalizer**\n",
    "    - **O Normalizer vai funcionar nas linhas, não nas colunas**\n",
    "    - https://scikit-learn.org/stable/modules/generated/sklearn.preprocessing.Normalizer.html\n",
    "    - \"Cada linha da matriz de dados com pelo menos um componente diferente de zero é redimensionada independentemente de outras amostras para que sua norma seja igual a um\"\n",
    "    - Segundo a própria documentação, é mais usado em **classificação de texto ou agrupamento**"
   ]
  },
  {
   "cell_type": "code",
   "execution_count": 1,
   "id": "c3b4fbdf",
   "metadata": {},
   "outputs": [],
   "source": [
    "# Importando o Normalizer\n",
    "from sklearn.preprocessing import Normalizer"
   ]
  },
  {
   "cell_type": "code",
   "execution_count": 2,
   "id": "db782406",
   "metadata": {},
   "outputs": [],
   "source": [
    "# Sendo X dado pelos valores abaixo\n",
    "X = [[4, 1, 2, 2],\n",
    "[1, 3, 9, 3],\n",
    "[5, 7, 5, 1]]"
   ]
  },
  {
   "cell_type": "code",
   "execution_count": 3,
   "id": "47081529",
   "metadata": {},
   "outputs": [],
   "source": [
    "# Vamos criar o nosso \"normalizador\"\n",
    "norm = Normalizer()"
   ]
  },
  {
   "cell_type": "code",
   "execution_count": 4,
   "id": "5a9eb326",
   "metadata": {},
   "outputs": [],
   "source": [
    "# E fazer o fit com os dados\n",
    "norm = norm.fit(X)"
   ]
  },
  {
   "cell_type": "code",
   "execution_count": 5,
   "id": "f80a70ae",
   "metadata": {},
   "outputs": [
    {
     "data": {
      "text/plain": [
       "array([[0.8, 0.2, 0.4, 0.4],\n",
       "       [0.1, 0.3, 0.9, 0.3],\n",
       "       [0.5, 0.7, 0.5, 0.1]])"
      ]
     },
     "execution_count": 5,
     "metadata": {},
     "output_type": "execute_result"
    }
   ],
   "source": [
    "# E o tranform\n",
    "array_norm = norm.transform(X)\n",
    "array_norm"
   ]
  },
  {
   "cell_type": "code",
   "execution_count": 11,
   "id": "6598342c",
   "metadata": {},
   "outputs": [
    {
     "data": {
      "text/plain": [
       "array([[0.19753086, 0.01234568, 0.04938272, 0.04938272],\n",
       "       [0.00390625, 0.03515625, 0.31640625, 0.03515625],\n",
       "       [0.07716049, 0.15123457, 0.07716049, 0.00308642]])"
      ]
     },
     "execution_count": 11,
     "metadata": {},
     "output_type": "execute_result"
    }
   ],
   "source": [
    "# Elevando ao quadrado\n",
    "array_norm**2"
   ]
  },
  {
   "cell_type": "code",
   "execution_count": 6,
   "id": "2cf1800b",
   "metadata": {},
   "outputs": [
    {
     "data": {
      "text/plain": [
       "array([1., 1., 1.])"
      ]
     },
     "execution_count": 6,
     "metadata": {},
     "output_type": "execute_result"
    }
   ],
   "source": [
    "# Elevando esse array ao quadrado e somando as linhas\n",
    "(array_norm**2).sum(axis=1)"
   ]
  },
  {
   "cell_type": "markdown",
   "id": "437ebc6b",
   "metadata": {},
   "source": [
    "<a id='normas'></a>\n",
    "- Podemos escolher qual será a norma dos dados utilizado na normalização"
   ]
  },
  {
   "cell_type": "code",
   "execution_count": 12,
   "id": "0865a42e",
   "metadata": {},
   "outputs": [],
   "source": [
    "# Utilizando o l1 como parâmetro da norma\n",
    "norm = Normalizer(norm='max')"
   ]
  },
  {
   "cell_type": "code",
   "execution_count": 13,
   "id": "112ab0db",
   "metadata": {},
   "outputs": [],
   "source": [
    "# E fazer o fit com os dados\n",
    "norm = norm.fit(X)"
   ]
  },
  {
   "cell_type": "code",
   "execution_count": 14,
   "id": "103463a9",
   "metadata": {},
   "outputs": [
    {
     "data": {
      "text/plain": [
       "array([[1.        , 0.25      , 0.5       , 0.5       ],\n",
       "       [0.11111111, 0.33333333, 1.        , 0.33333333],\n",
       "       [0.71428571, 1.        , 0.71428571, 0.14285714]])"
      ]
     },
     "execution_count": 14,
     "metadata": {},
     "output_type": "execute_result"
    }
   ],
   "source": [
    "# E o tranform\n",
    "array_norm = norm.transform(X)\n",
    "array_norm"
   ]
  },
  {
   "cell_type": "code",
   "execution_count": 15,
   "id": "89a91292",
   "metadata": {},
   "outputs": [
    {
     "data": {
      "text/plain": [
       "array([2.25      , 1.77777778, 2.57142857])"
      ]
     },
     "execution_count": 15,
     "metadata": {},
     "output_type": "execute_result"
    }
   ],
   "source": [
    "# Somando as linhas desse array\n",
    "array_norm.sum(axis=1)"
   ]
  },
  {
   "cell_type": "markdown",
   "id": "6b3aae97",
   "metadata": {},
   "source": [
    "- Podemos [voltar](#normas) e utilizar o \"max\" como norma"
   ]
  },
  {
   "cell_type": "code",
   "execution_count": 16,
   "id": "4c59518e",
   "metadata": {},
   "outputs": [
    {
     "data": {
      "text/plain": [
       "array([1., 1., 1.])"
      ]
     },
     "execution_count": 16,
     "metadata": {},
     "output_type": "execute_result"
    }
   ],
   "source": [
    "# Verificando o máximo das linhas do array\n",
    "array_norm.max(axis=1)"
   ]
  }
 ],
 "metadata": {
  "kernelspec": {
   "display_name": "Python 3 (ipykernel)",
   "language": "python",
   "name": "python3"
  },
  "language_info": {
   "codemirror_mode": {
    "name": "ipython",
    "version": 3
   },
   "file_extension": ".py",
   "mimetype": "text/x-python",
   "name": "python",
   "nbconvert_exporter": "python",
   "pygments_lexer": "ipython3",
   "version": "3.9.13"
  }
 },
 "nbformat": 4,
 "nbformat_minor": 5
}
