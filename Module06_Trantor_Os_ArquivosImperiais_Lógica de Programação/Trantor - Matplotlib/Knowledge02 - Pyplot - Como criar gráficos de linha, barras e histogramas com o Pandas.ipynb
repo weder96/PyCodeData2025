{
 "cells": [
  {
   "cell_type": "markdown",
   "id": "bc8863c4",
   "metadata": {},
   "source": [
    "# Knowledge 2"
   ]
  },
  {
   "cell_type": "code",
   "execution_count": 2,
   "id": "42c539d1",
   "metadata": {},
   "outputs": [
    {
     "ename": "ModuleNotFoundError",
     "evalue": "No module named 'yfinance'",
     "output_type": "error",
     "traceback": [
      "\u001b[0;31m---------------------------------------------------------------------------\u001b[0m",
      "\u001b[0;31mModuleNotFoundError\u001b[0m                       Traceback (most recent call last)",
      "Cell \u001b[0;32mIn[2], line 4\u001b[0m\n\u001b[1;32m      2\u001b[0m \u001b[38;5;28;01mimport\u001b[39;00m\u001b[38;5;250m \u001b[39m\u001b[38;5;21;01mnumpy\u001b[39;00m\u001b[38;5;250m \u001b[39m\u001b[38;5;28;01mas\u001b[39;00m\u001b[38;5;250m \u001b[39m\u001b[38;5;21;01mnp\u001b[39;00m\n\u001b[1;32m      3\u001b[0m \u001b[38;5;28;01mimport\u001b[39;00m\u001b[38;5;250m \u001b[39m\u001b[38;5;21;01mmatplotlib\u001b[39;00m\u001b[38;5;21;01m.\u001b[39;00m\u001b[38;5;21;01mpyplot\u001b[39;00m\u001b[38;5;250m \u001b[39m\u001b[38;5;28;01mas\u001b[39;00m\u001b[38;5;250m \u001b[39m\u001b[38;5;21;01mplt\u001b[39;00m\n\u001b[0;32m----> 4\u001b[0m \u001b[38;5;28;01mimport\u001b[39;00m\u001b[38;5;250m \u001b[39m\u001b[38;5;21;01myfinance\u001b[39;00m\u001b[38;5;250m \u001b[39m\u001b[38;5;28;01mas\u001b[39;00m\u001b[38;5;250m \u001b[39m\u001b[38;5;21;01myf\u001b[39;00m\n",
      "\u001b[0;31mModuleNotFoundError\u001b[0m: No module named 'yfinance'"
     ]
    }
   ],
   "source": [
    "import pandas as pd\n",
    "import numpy as np\n",
    "import matplotlib.pyplot as plt\n",
    "import yfinance as yf"
   ]
  },
  {
   "cell_type": "code",
   "execution_count": null,
   "id": "11948806",
   "metadata": {},
   "outputs": [],
   "source": [
    "params = {\"ytick.color\" : \"w\",\n",
    "          \"xtick.color\" : \"w\",\n",
    "          \"axes.labelcolor\" : \"w\",\n",
    "          \"axes.edgecolor\" : \"w\"}\n",
    "plt.rcParams.update(params)"
   ]
  },
  {
   "cell_type": "markdown",
   "id": "f94bdae3",
   "metadata": {},
   "source": [
    "# Método pyplot"
   ]
  },
  {
   "cell_type": "code",
   "execution_count": 1,
   "id": "098d2d31",
   "metadata": {},
   "outputs": [],
   "source": [
    "x = [\"1T\", \"2T\", \"3T\", \"4T\"]\n",
    "y = [2000, 2200, 1100, 3540]"
   ]
  },
  {
   "cell_type": "code",
   "execution_count": null,
   "id": "57f26f1f",
   "metadata": {},
   "outputs": [],
   "source": [
    "plt.plot(x, y)"
   ]
  },
  {
   "cell_type": "code",
   "execution_count": null,
   "id": "d5083bde",
   "metadata": {},
   "outputs": [],
   "source": [
    "#vai ter uma aula sobre cada característica dessa.\n",
    "\n",
    "plt.plot(x, y, color=\"green\", marker='o')\n",
    "\n",
    "#quer uma super customização? Crie gráficos como objetos. "
   ]
  },
  {
   "cell_type": "markdown",
   "id": "64d2cdc6",
   "metadata": {},
   "source": [
    "# Integração Pandas + Pyplot"
   ]
  },
  {
   "cell_type": "code",
   "execution_count": null,
   "id": "2bc77e34",
   "metadata": {},
   "outputs": [],
   "source": [
    "cotacoes = yf.download(\"WEGE3.SA\")['Adj Close']\n",
    "\n",
    "cotacoes.plot()"
   ]
  },
  {
   "cell_type": "code",
   "execution_count": null,
   "id": "3840a29b",
   "metadata": {},
   "outputs": [],
   "source": [
    "df = yf.download([\"WEGE3.SA\", \"PETR4.SA\", \"VALE3.SA\", \"LREN3.SA\"])['Adj Close']\n",
    "\n",
    "df = ((df.pct_change().dropna()) + 1).cumprod() - 1\n",
    "\n",
    "df"
   ]
  },
  {
   "cell_type": "code",
   "execution_count": null,
   "id": "28c513f5",
   "metadata": {},
   "outputs": [],
   "source": [
    "df.plot()\n",
    "\n",
    "#obs: nunca faça gráficos com duas escalas. NUNCA! "
   ]
  },
  {
   "cell_type": "code",
   "execution_count": null,
   "id": "14131d55",
   "metadata": {},
   "outputs": [],
   "source": [
    "df_mudando_coluna = df.copy()\n",
    "\n",
    "df_mudando_coluna['dias'] = list(range(0, len(df)))\n",
    "\n",
    "df_mudando_coluna.plot(x = \"dias\", y = \"PETR4.SA\")"
   ]
  },
  {
   "cell_type": "markdown",
   "id": "768e9537",
   "metadata": {},
   "source": [
    "# Outros tipos de gráficos: barra, histogramas, área, dispersão, pizza...\n",
    "\n",
    "Para criar esses outros tipos de gráficos, basta utilizar o argumento \"kind\" e espeficicar o gráfico."
   ]
  },
  {
   "cell_type": "markdown",
   "id": "68cb8f46",
   "metadata": {},
   "source": [
    "### Gráfico de barra com a performance acumulada das ações"
   ]
  },
  {
   "cell_type": "code",
   "execution_count": null,
   "id": "970c02e2",
   "metadata": {},
   "outputs": [],
   "source": [
    "df.iloc[-1].plot(kind = \"bar\")\n",
    "\n",
    "#brenno quero ver o eixo y em %: faça da maneira orientada a objeto. \n",
    "#Isso aqui é pra vc ver de forma rápida quando ta progrmando"
   ]
  },
  {
   "cell_type": "markdown",
   "id": "25af8e44",
   "metadata": {},
   "source": [
    "### Gráfico de barra empilhado com a performance acumulada das ações ano a ano\n",
    "\n",
    "Essa é uma ótima forma de vizualizar como os dados evoluíram ao longo do tempo. Qual % do total eles representavam antes e atualmente. É muito utilizado pra comércio internacional"
   ]
  },
  {
   "cell_type": "code",
   "execution_count": null,
   "id": "484769e9",
   "metadata": {},
   "outputs": [],
   "source": [
    "df_anual = df.resample(\"Y\").last()\n",
    "\n",
    "df_anual.index = [2000,20001,2002,2003,2004,2005,2006,2007,2008,2009,2010,2011,2012,2013,2014,2015,2016,2017, 2018, 2019, 2020, 2021, 2022, 2023]\n",
    "\n",
    "df_anual.plot.bar(stacked = True)"
   ]
  },
  {
   "cell_type": "code",
   "execution_count": null,
   "id": "c42bc40d",
   "metadata": {},
   "outputs": [],
   "source": [
    "#horizontal\n",
    "\n",
    "df_anual.plot.barh(stacked = True)"
   ]
  },
  {
   "cell_type": "markdown",
   "id": "ef71a98b",
   "metadata": {},
   "source": [
    "# Gráfico de área\n",
    "\n",
    "Uma outra forma de visualizar isso são com gráficos de área."
   ]
  },
  {
   "cell_type": "code",
   "execution_count": null,
   "id": "76ee0bd3",
   "metadata": {},
   "outputs": [],
   "source": [
    "qtd_acoes = yf.download([\"WEGE3.SA\", \"PETR4.SA\", \"VALE3.SA\", \"LREN3.SA\"])['Volume']\n",
    "preco_original = yf.download([\"WEGE3.SA\", \"PETR4.SA\", \"VALE3.SA\", \"LREN3.SA\"])['Close']"
   ]
  },
  {
   "cell_type": "code",
   "execution_count": null,
   "id": "8cdbd3a9",
   "metadata": {},
   "outputs": [],
   "source": [
    "volume = qtd_acoes * preco_original\n",
    "volume"
   ]
  },
  {
   "cell_type": "code",
   "execution_count": null,
   "id": "937f59ce",
   "metadata": {},
   "outputs": [],
   "source": [
    "volume = volume.dropna().resample(\"M\").mean()"
   ]
  },
  {
   "cell_type": "code",
   "execution_count": null,
   "id": "c5dec9a5",
   "metadata": {},
   "outputs": [],
   "source": [
    "volume.plot.area()"
   ]
  },
  {
   "cell_type": "code",
   "execution_count": null,
   "id": "0aa134cd",
   "metadata": {},
   "outputs": [],
   "source": []
  },
  {
   "cell_type": "markdown",
   "id": "92a851b8",
   "metadata": {},
   "source": [
    "### Histograma de retornos diários"
   ]
  },
  {
   "cell_type": "code",
   "execution_count": null,
   "id": "fa24a7c4",
   "metadata": {},
   "outputs": [],
   "source": [
    "cotacoes = yf.download(\"WEGE3.SA\")['Adj Close']\n",
    "\n",
    "retornos_diarios = cotacoes.pct_change().dropna()\n",
    "\n",
    "retornos_diarios.plot.hist()"
   ]
  },
  {
   "cell_type": "code",
   "execution_count": null,
   "id": "4c1fe8aa",
   "metadata": {},
   "outputs": [],
   "source": [
    "retornos_diarios.plot.hist(bins=150)"
   ]
  },
  {
   "attachments": {
    "image.png": {
     "image/png": "[encoded data removed]"
    }
   },
   "cell_type": "markdown",
   "id": "83b7b3a1",
   "metadata": {},
   "source": [
    "# Boxsplot\n",
    "\n",
    "Graças a Deus você não está na faculdade e não precisa fazer essa merda na mão.\n",
    "\n",
    "![image.png](attachment:image.png)"
   ]
  },
  {
   "cell_type": "code",
   "execution_count": null,
   "id": "d01d899f",
   "metadata": {},
   "outputs": [],
   "source": [
    "cotacoes = yf.download([\"WEGE3.SA\", \"PETR4.SA\", \"VALE3.SA\", \"LREN3.SA\"])['Adj Close']\n",
    "\n",
    "retornos_mensais = cotacoes.resample(\"M\").last().pct_change().dropna()\n",
    "\n",
    "retornos_mensais.plot.box()"
   ]
  },
  {
   "cell_type": "markdown",
   "id": "c11cfce7",
   "metadata": {},
   "source": [
    "# Gráfico de dispersão\n",
    "\n",
    "Retornos Ibov x Dólar em cada ano"
   ]
  },
  {
   "cell_type": "code",
   "execution_count": null,
   "id": "90efd010",
   "metadata": {},
   "outputs": [],
   "source": [
    "cotacoes = yf.download([\"^BVSP\", \"USDBRL=X\"])['Close']\n",
    "\n",
    "cotacoes = cotacoes.resample(\"Y\").last().pct_change().dropna()\n",
    "\n",
    "cotacoes['ano'] = cotacoes.index.year\n",
    "cotacoes['ano'] = cotacoes['ano'].astype(\"category\")\n",
    "\n",
    "cotacoes.columns = [\"Ibovespa\", \"Dólar\", \"Ano\"]\n",
    "\n",
    "cotacoes"
   ]
  },
  {
   "cell_type": "code",
   "execution_count": null,
   "id": "f5ee67a4",
   "metadata": {},
   "outputs": [],
   "source": [
    "cotacoes.plot.scatter(x = \"Dólar\", y = \"Ibovespa\", c = \"Ano\",  cmap = \"viridis\")"
   ]
  },
  {
   "cell_type": "markdown",
   "id": "21699a7c",
   "metadata": {},
   "source": [
    "# Exercícios\n",
    "\n",
    "* Exercício 89: Mande o usuário digitar o código de 3 empresas da bolsa. Devolva pra ele:\n",
    "\n",
    "        - Um gráfico de linha com a trajetória das cotações das empresas.\n",
    "        - Um gráfico de área com o volume de cada ação.\n",
    "        - Um gráfico boxsplot com os retornos mensais de cada ação.\n",
    "        - Três gráficos de dispersão entre as ações e o ibovespa pra cada ano. "
   ]
  },
  {
   "cell_type": "code",
   "execution_count": null,
   "id": "277b13f4",
   "metadata": {},
   "outputs": [],
   "source": []
  },
  {
   "cell_type": "code",
   "execution_count": null,
   "id": "7cb40234",
   "metadata": {},
   "outputs": [],
   "source": [
    "#gabarito 89\n",
    "\n",
    "acao1 = str(input(\"Escolha a 1º ação: \"))\n",
    "acao2 = str(input(\"Escolha a 2º ação: \"))\n",
    "acao3 = str(input(\"Escolha a 3º ação: \"))\n",
    "\n",
    "lista_acoes = [acao1, acao2, acao3]\n",
    "\n",
    "lista_acoes = [acao + \".SA\" for acao in lista_acoes]\n",
    "\n",
    "lista_acoes.append(\"^BVSP\")\n",
    "\n",
    "base_dados = yf.download(lista_acoes)\n",
    "\n",
    "base_dados = base_dados.dropna()\n",
    "\n",
    "lista_acoes.remove(\"^BVSP\")\n",
    "\n",
    "ibovespa = base_dados['Adj Close']['^BVSP']\n",
    "\n",
    "retorno_anual_ibov = ibovespa.resample(\"Y\").last().pct_change().dropna()\n",
    "\n",
    "cotacoes_empresas = base_dados['Adj Close'][lista_acoes]\n",
    "\n",
    "cotacoes_empresas_original = base_dados['Close'][lista_acoes]\n",
    "\n",
    "qtd_acoes = base_dados['Volume'][lista_acoes]\n",
    "\n",
    "volume = cotacoes_empresas_original * qtd_acoes\n",
    "\n",
    "volume = volume.resample(\"M\").last()\n",
    "\n",
    "retornos_mensais = cotacoes_empresas.resample(\"M\").last().pct_change().dropna()\n",
    "\n",
    "retornos_anual = cotacoes_empresas.resample(\"Y\").last().pct_change().dropna()\n",
    "\n",
    "cotacoes_empresas.plot()\n",
    "\n",
    "volume.plot.area()\n",
    "\n",
    "retornos_mensais.plot.box()\n",
    "\n",
    "for acao in lista_acoes:\n",
    "    \n",
    "    df = pd.DataFrame({acao: retornos_anual[acao],\n",
    "                      'Ibovespa': retorno_anual_ibov}, index = retorno_anual_ibov.index)\n",
    "    \n",
    "    df['Ano'] = df.index.year\n",
    "    df['Ano'] = df['Ano'].astype(\"category\")\n",
    "    \n",
    "    df.plot.scatter(x = acao, y = \"Ibovespa\", c = \"Ano\",  cmap = \"viridis\")\n",
    "                     \n",
    "    \n",
    "    "
   ]
  }
 ],
 "metadata": {
  "kernelspec": {
   "display_name": "Python 3",
   "language": "python",
   "name": "python3"
  },
  "language_info": {
   "codemirror_mode": {
    "name": "ipython",
    "version": 3
   },
   "file_extension": ".py",
   "mimetype": "text/x-python",
   "name": "python",
   "nbconvert_exporter": "python",
   "pygments_lexer": "ipython3",
   "version": "3.10.12"
  },
  "vscode": {
   "interpreter": {
    "hash": "916dbcbb3f70747c44a77c7bcd40155683ae19c65e1c03b4aa3499c5328201f1"
   }
  }
 },
 "nbformat": 4,
 "nbformat_minor": 5
}
