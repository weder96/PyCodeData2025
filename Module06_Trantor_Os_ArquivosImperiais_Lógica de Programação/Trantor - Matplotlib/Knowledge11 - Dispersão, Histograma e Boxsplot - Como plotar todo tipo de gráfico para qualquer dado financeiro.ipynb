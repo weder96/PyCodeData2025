{
 "cells": [
  {
   "cell_type": "markdown",
   "id": "59546a41",
   "metadata": {},
   "source": [
    "# Mundo 11 - Histograma, dispersão e boxsplot"
   ]
  },
  {
   "cell_type": "code",
   "execution_count": null,
   "id": "1fd615bf",
   "metadata": {},
   "outputs": [],
   "source": [
    "import matplotlib.pyplot as plt\n",
    "import numpy as np\n",
    "import pandas as pd\n",
    "from bcb import sgs\n",
    "import matplotlib.ticker as mtick\n",
    "import matplotlib.dates as mdate\n",
    "from datetime import datetime\n",
    "from datetime import timedelta\n",
    "import yfinance as yf\n",
    "import matplotlib as mpl\n",
    "import matplotlib.pylab as lab\n",
    "import mplcyberpunk"
   ]
  },
  {
   "cell_type": "code",
   "execution_count": null,
   "id": "88b24453",
   "metadata": {},
   "outputs": [],
   "source": [
    "params = {\"ytick.color\" : \"w\",\n",
    "          \"xtick.color\" : \"w\",\n",
    "          \"axes.labelcolor\" : \"w\",\n",
    "          \"axes.edgecolor\" : \"w\"}\n",
    "plt.rcParams.update(params)"
   ]
  },
  {
   "cell_type": "code",
   "execution_count": null,
   "id": "26357c98",
   "metadata": {},
   "outputs": [],
   "source": [
    "cotacoes = yf.download([\"WEGE3.SA\"])['Adj Close']\n",
    "\n",
    "retornos_diarios = cotacoes.pct_change().dropna()"
   ]
  },
  {
   "cell_type": "code",
   "execution_count": null,
   "id": "5d273e28",
   "metadata": {},
   "outputs": [],
   "source": [
    "#histograma\n",
    "\n",
    "fig, ax = plt.subplots()\n",
    "\n",
    "ax.hist(retornos_diarios.values, bins = 120)\n",
    "ax.xaxis.set_major_formatter(mtick.PercentFormatter(1, decimals = 0))\n",
    "\n",
    "plt.show()"
   ]
  },
  {
   "cell_type": "code",
   "execution_count": null,
   "id": "43c49024",
   "metadata": {},
   "outputs": [],
   "source": [
    "cotacoes = yf.download([\"WEGE3.SA\", \"^BVSP\"])['Adj Close']\n",
    "\n",
    "retornos_anuais = cotacoes.resample(\"Y\").last().pct_change().dropna()\n",
    "\n",
    "retornos_anuais['Ano'] = retornos_anuais.index.year\n",
    "\n",
    "retornos_anuais"
   ]
  },
  {
   "cell_type": "code",
   "execution_count": null,
   "id": "97415e73",
   "metadata": {},
   "outputs": [],
   "source": [
    "plt.style.use(\"cyberpunk\")"
   ]
  },
  {
   "cell_type": "markdown",
   "id": "15be5f49",
   "metadata": {},
   "source": [
    "https://matplotlib.org/stable/tutorials/colors/colormaps.html"
   ]
  },
  {
   "cell_type": "code",
   "execution_count": null,
   "id": "53b2afb6",
   "metadata": {},
   "outputs": [],
   "source": [
    "def barra_discreta(vetor_categoria):\n",
    "    \n",
    "    cmap = lab.cm.cool  # define a cor\n",
    "    cmaplist = [cmap(i) for i in range(cmap.N)]\n",
    "    cmap = mpl.colors.LinearSegmentedColormap.from_list(\n",
    "        'cmap escolhido', cmaplist, cmap.N)\n",
    "    bounds = np.linspace(np.min(vetor_categoria), np.max(vetor_categoria) + 0.5, len(vetor_categoria) + 1)\n",
    "    norm = mpl.colors.BoundaryNorm(bounds, cmap.N)\n",
    "    \n",
    "    return bounds, norm"
   ]
  },
  {
   "cell_type": "code",
   "execution_count": null,
   "id": "f6a3e99c",
   "metadata": {},
   "outputs": [],
   "source": [
    "#Dispersão \n",
    "\n",
    "fig, ax = plt.subplots()\n",
    "\n",
    "ax.scatter(retornos_anuais['WEGE3.SA'], retornos_anuais[\"^BVSP\"], c = retornos_anuais['Ano'], cmap=\"cool\")\n",
    "\n",
    "bounds, norm = barra_discreta(retornos_anuais['Ano'])     \n",
    "\n",
    "#cria um novo eixo pra barra\n",
    "\n",
    "ax2 = fig.add_axes([0.95, 0.1, 0.03, 0.8])\n",
    "cb = mpl.colorbar.ColorbarBase(ax2, cmap=\"cool\", norm=norm,\n",
    "    spacing='proportional', ticks=bounds + 0.5, boundaries=bounds, format='%1i')\n",
    "\n",
    "ax.xaxis.set_major_formatter(mtick.PercentFormatter(1, decimals = 0))\n",
    "ax.yaxis.set_major_formatter(mtick.PercentFormatter(1, decimals = 0))\n",
    "ax.set_ylabel(\"Ibovespa\")\n",
    "ax.set_xlabel(\"WEGE3\")\n",
    "ax.axhline(y = 0)\n",
    "ax.axvline(x = 0)\n",
    "ax.set_title(\"Retornos anuais WEGE3 X Ibovespa\")\n",
    "\n",
    "plt.show()"
   ]
  },
  {
   "cell_type": "markdown",
   "id": "b722ef67",
   "metadata": {},
   "source": [
    "# Replique essa estrutura pra qualquer gráfico que você quiser.\n",
    "\n",
    "É impossível cobrir 100% de tudo de gráficos, utilize o google ao seu favor!\n",
    "No limite, a única diferença vai ser um \"ax.scatter\" para um \"ax.boxsplot\""
   ]
  },
  {
   "cell_type": "code",
   "execution_count": null,
   "id": "1da8364d",
   "metadata": {},
   "outputs": [],
   "source": [
    "plt.style.use(\"default\")"
   ]
  },
  {
   "cell_type": "code",
   "execution_count": null,
   "id": "ca69396a",
   "metadata": {},
   "outputs": [],
   "source": [
    "cotacoes = yf.download([\"WEGE3.SA\", \"^BVSP\"])['Adj Close']\n",
    "\n",
    "retornos_mensais = cotacoes.resample(\"M\").last().pct_change().dropna()"
   ]
  },
  {
   "cell_type": "code",
   "execution_count": null,
   "id": "0db19eac",
   "metadata": {
    "scrolled": false
   },
   "outputs": [],
   "source": [
    "fig, ax = plt.subplots()\n",
    "\n",
    "ax.boxplot(x = retornos_mensais)\n",
    "ax.yaxis.set_major_formatter(mtick.PercentFormatter(1, decimals = 0))\n",
    "ax.set_xticks([1, 2], [\"WEGE3\", \"Ibovespa\"])\n",
    "\n",
    "plt.show()"
   ]
  },
  {
   "cell_type": "markdown",
   "id": "7c7e8a69",
   "metadata": {},
   "source": [
    "# Exercícios\n",
    "\n",
    "* Exercício 103: Crie um histograma com os retornos mensais da Petrobras.\n",
    "* Exercício 104: Crie um gráfico de dispersão com os retornos anuais do S&P500 contra o Ibovespa.\n"
   ]
  },
  {
   "cell_type": "code",
   "execution_count": null,
   "id": "3f60245c",
   "metadata": {},
   "outputs": [],
   "source": []
  },
  {
   "cell_type": "code",
   "execution_count": null,
   "id": "2c1e86d2",
   "metadata": {},
   "outputs": [],
   "source": []
  },
  {
   "cell_type": "code",
   "execution_count": null,
   "id": "badcec06",
   "metadata": {
    "scrolled": true
   },
   "outputs": [],
   "source": [
    "#gabarito 103\n",
    "\n",
    "cotacoes = yf.download([\"PETR4.SA\"])['Adj Close']\n",
    "\n",
    "retornos_diarios = cotacoes.resample(\"M\").last().pct_change().dropna()\n",
    "\n",
    "fig, ax = plt.subplots()\n",
    "\n",
    "ax.hist(retornos_diarios.values, bins = 35)\n",
    "ax.xaxis.set_major_formatter(mtick.PercentFormatter(1, decimals = 0))\n",
    "\n",
    "plt.show()"
   ]
  },
  {
   "cell_type": "code",
   "execution_count": null,
   "id": "cd222935",
   "metadata": {},
   "outputs": [],
   "source": [
    "#gabarito 104\n",
    "\n",
    "plt.style.use(\"cyberpunk\")\n",
    "\n",
    "cotacoes = yf.download([\"^GSPC\", \"^BVSP\"])['Adj Close']\n",
    "\n",
    "retornos_anuais = cotacoes.resample(\"y\").last().pct_change().dropna()\n",
    "\n",
    "retornos_anuais['Ano'] = retornos_anuais.index.year"
   ]
  },
  {
   "cell_type": "code",
   "execution_count": null,
   "id": "195b8dd9",
   "metadata": {},
   "outputs": [],
   "source": [
    "fig, ax = plt.subplots()\n",
    "\n",
    "ax.scatter(retornos_anuais['^GSPC'], retornos_anuais[\"^BVSP\"], c = retornos_anuais['Ano'], cmap=\"cool\")\n",
    "\n",
    "bounds, norm = barra_discreta(retornos_anuais['Ano'])     \n",
    "\n",
    "\n",
    "ax2 = fig.add_axes([0.95, 0.1, 0.03, 0.8])\n",
    "cb = mpl.colorbar.ColorbarBase(ax2, cmap=\"cool\", norm=norm,\n",
    "    spacing='proportional', ticks=bounds + 0.5, boundaries=bounds, format='%1i')\n",
    "\n",
    "ax.xaxis.set_major_formatter(mtick.PercentFormatter(1, decimals = 0))\n",
    "ax.yaxis.set_major_formatter(mtick.PercentFormatter(1, decimals = 0))\n",
    "ax.set_ylabel(\"Ibovespa\")\n",
    "ax.set_xlabel(\"S&P500\")\n",
    "ax.axhline(y = 0)\n",
    "ax.axvline(x = 0)\n",
    "ax.set_title(\"Retornos anuais S&P500 X Ibovespa\")\n",
    "\n",
    "plt.show()"
   ]
  },
  {
   "cell_type": "markdown",
   "id": "80a73f97",
   "metadata": {},
   "source": []
  }
 ],
 "metadata": {
  "kernelspec": {
   "display_name": "Python 3",
   "language": "python",
   "name": "python3"
  },
  "language_info": {
   "codemirror_mode": {
    "name": "ipython",
    "version": 3
   },
   "file_extension": ".py",
   "mimetype": "text/x-python",
   "name": "python",
   "nbconvert_exporter": "python",
   "pygments_lexer": "ipython3",
   "version": "3.8.10"
  },
  "vscode": {
   "interpreter": {
    "hash": "916dbcbb3f70747c44a77c7bcd40155683ae19c65e1c03b4aa3499c5328201f1"
   }
  }
 },
 "nbformat": 4,
 "nbformat_minor": 5
}
