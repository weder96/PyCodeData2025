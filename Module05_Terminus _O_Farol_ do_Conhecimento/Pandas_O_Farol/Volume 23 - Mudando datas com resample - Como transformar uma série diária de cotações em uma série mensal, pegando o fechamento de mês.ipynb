{
 "cells": [
  {
   "cell_type": "markdown",
   "id": "a52752ed",
   "metadata": {},
   "source": [
    "# Mundo 23\n",
    "\n",
    "### Formatação de dados"
   ]
  },
  {
   "cell_type": "code",
   "execution_count": 1,
   "id": "d3e11a7a",
   "metadata": {},
   "outputs": [
    {
     "name": "stderr",
     "output_type": "stream",
     "text": [
      "/home/vinicius/.local/lib/python3.8/site-packages/pandas/core/computation/expressions.py:20: UserWarning: Pandas requires version '2.7.3' or newer of 'numexpr' (version '2.7.1' currently installed).\n",
      "  from pandas.core.computation.check import NUMEXPR_INSTALLED\n"
     ]
    }
   ],
   "source": [
    "import pandas as pd\n",
    "import yfinance as yf   "
   ]
  },
  {
   "cell_type": "code",
   "execution_count": 2,
   "id": "82a55ab4",
   "metadata": {},
   "outputs": [
    {
     "name": "stdout",
     "output_type": "stream",
     "text": [
      "[*********************100%***********************]  1 of 1 completed\n"
     ]
    },
    {
     "data": {
      "text/plain": [
       "Date\n",
       "2000-01-03     0.123840\n",
       "2000-01-04     0.119495\n",
       "2000-01-05     0.119495\n",
       "2000-01-06     0.108631\n",
       "2000-01-07     0.108631\n",
       "                ...    \n",
       "2023-01-18    37.990002\n",
       "2023-01-19    37.910000\n",
       "2023-01-20    37.330002\n",
       "2023-01-23    37.369999\n",
       "2023-01-24    37.209999\n",
       "Name: Adj Close, Length: 5795, dtype: float64"
      ]
     },
     "execution_count": 2,
     "metadata": {},
     "output_type": "execute_result"
    }
   ],
   "source": [
    "dados_weg = yf.download(\"WEGE3.SA\")['Adj Close']\n",
    "\n",
    "dados_weg"
   ]
  },
  {
   "cell_type": "code",
   "execution_count": 3,
   "id": "93ae3112",
   "metadata": {},
   "outputs": [
    {
     "data": {
      "text/plain": [
       "Date\n",
       "2000-01-31     0.119495\n",
       "2000-02-29     0.108631\n",
       "2000-03-31     0.108631\n",
       "2000-04-30     0.108631\n",
       "2000-05-31     0.103200\n",
       "                ...    \n",
       "2022-09-30    32.093353\n",
       "2022-10-31    40.221539\n",
       "2022-11-30    38.943398\n",
       "2022-12-31    38.509998\n",
       "2023-01-31    37.209999\n",
       "Freq: M, Name: Adj Close, Length: 277, dtype: float64"
      ]
     },
     "execution_count": 3,
     "metadata": {},
     "output_type": "execute_result"
    }
   ],
   "source": [
    "dados_weg_mensal = dados_weg.resample(\"M\").last()\n",
    "\n",
    "dados_weg_mensal"
   ]
  },
  {
   "cell_type": "code",
   "execution_count": 4,
   "id": "1225b877",
   "metadata": {},
   "outputs": [
    {
     "data": {
      "text/plain": [
       "Date\n",
       "2000-12-31     0.128186\n",
       "2001-12-31     0.211832\n",
       "2002-12-31     0.256371\n",
       "2003-12-31     0.543159\n",
       "2004-12-31     0.831035\n",
       "2005-12-31     0.814740\n",
       "2006-12-31     1.412216\n",
       "2007-12-31     2.737528\n",
       "2008-12-31     1.386047\n",
       "2009-12-31     2.095741\n",
       "2010-12-31     2.530779\n",
       "2011-12-31     2.245813\n",
       "2012-12-31     3.309526\n",
       "2013-12-31     3.917138\n",
       "2014-12-31     5.110185\n",
       "2015-12-31     5.127313\n",
       "2016-12-31     5.452232\n",
       "2017-12-31     8.643224\n",
       "2018-12-31     8.320034\n",
       "2019-12-31    16.698483\n",
       "2020-12-31    36.783791\n",
       "2021-12-31    32.402039\n",
       "2022-12-31    38.509998\n",
       "2023-12-31    37.209999\n",
       "Freq: A-DEC, Name: Adj Close, dtype: float64"
      ]
     },
     "execution_count": 4,
     "metadata": {},
     "output_type": "execute_result"
    }
   ],
   "source": [
    "dados_weg_anual = dados_weg.resample(\"Y\").last()\n",
    "\n",
    "dados_weg_anual"
   ]
  },
  {
   "cell_type": "code",
   "execution_count": 5,
   "id": "87d80ff9",
   "metadata": {},
   "outputs": [
    {
     "data": {
      "text/plain": [
       "Date\n",
       "2000-12-31         NaN\n",
       "2001-12-31    0.652542\n",
       "2002-12-31    0.210257\n",
       "2003-12-31    1.118644\n",
       "2004-12-31    0.530001\n",
       "2005-12-31   -0.019608\n",
       "2006-12-31    0.733334\n",
       "2007-12-31    0.938462\n",
       "2008-12-31   -0.493687\n",
       "2009-12-31    0.512027\n",
       "2010-12-31    0.207582\n",
       "2011-12-31   -0.112600\n",
       "2012-12-31    0.473643\n",
       "2013-12-31    0.183595\n",
       "2014-12-31    0.304571\n",
       "2015-12-31    0.003352\n",
       "2016-12-31    0.063370\n",
       "2017-12-31    0.585263\n",
       "2018-12-31   -0.037392\n",
       "2019-12-31    1.007021\n",
       "2020-12-31    1.202822\n",
       "2021-12-31   -0.119122\n",
       "2022-12-31    0.188505\n",
       "2023-12-31   -0.033757\n",
       "Freq: A-DEC, Name: Adj Close, dtype: float64"
      ]
     },
     "execution_count": 5,
     "metadata": {},
     "output_type": "execute_result"
    }
   ],
   "source": [
    "dados_weg_anual.pct_change()"
   ]
  },
  {
   "cell_type": "markdown",
   "id": "fad6a9f6",
   "metadata": {},
   "source": [
    "# Exercícios\n",
    "<BR>\n",
    "    \n",
    "* Exercício 78: Puxe os dados de cotação ajustada da VALE3.SA e:\n",
    "\n",
    "         - Transforme em cotações mensais\n",
    "         - Transforme em cotações semanais\n",
    "         - Transforme em cotações anuais\n",
    "         - Transforme em cotações de 30 minutos. (Não se importe com os NAs)\n",
    "         "
   ]
  },
  {
   "cell_type": "code",
   "execution_count": null,
   "id": "4677e1e7",
   "metadata": {},
   "outputs": [],
   "source": []
  },
  {
   "cell_type": "code",
   "execution_count": 6,
   "id": "60952611",
   "metadata": {},
   "outputs": [
    {
     "name": "stdout",
     "output_type": "stream",
     "text": [
      "[*********************100%***********************]  1 of 1 completed\n"
     ]
    },
    {
     "data": {
      "text/plain": [
       "Date\n",
       "2000-01-03 00:00:00     1.701703\n",
       "2000-01-03 00:30:00          NaN\n",
       "2000-01-03 01:00:00          NaN\n",
       "2000-01-03 01:30:00          NaN\n",
       "2000-01-03 02:00:00          NaN\n",
       "                         ...    \n",
       "2023-01-23 22:00:00          NaN\n",
       "2023-01-23 22:30:00          NaN\n",
       "2023-01-23 23:00:00          NaN\n",
       "2023-01-23 23:30:00          NaN\n",
       "2023-01-24 00:00:00    95.300003\n",
       "Freq: 30T, Name: Adj Close, Length: 404257, dtype: float64"
      ]
     },
     "execution_count": 6,
     "metadata": {},
     "output_type": "execute_result"
    }
   ],
   "source": [
    "#gabarito 78\n",
    "\n",
    "dados_vale = yf.download(\"VALE3.SA\")['Adj Close']\n",
    "\n",
    "dados_vale_m = dados_vale.resample(\"M\").last()\n",
    "dados_vale_w = dados_vale.resample(\"W\").last()\n",
    "dados_vale_a = dados_vale.resample(\"Y\").last()\n",
    "dados_vale_30min = dados_vale.resample(\"30min\").last()\n",
    "\n",
    "dados_vale_30min"
   ]
  },
  {
   "cell_type": "code",
   "execution_count": 7,
   "id": "77176a80",
   "metadata": {},
   "outputs": [
    {
     "data": {
      "text/plain": [
       "Date\n",
       "2000-01-09     1.721960\n",
       "2000-01-16     1.985320\n",
       "2000-01-23     1.904286\n",
       "2000-01-30     1.944803\n",
       "2000-02-06     1.892131\n",
       "                ...    \n",
       "2023-01-01    88.879997\n",
       "2023-01-08    92.339996\n",
       "2023-01-15    93.820000\n",
       "2023-01-22    93.989998\n",
       "2023-01-29    95.300003\n",
       "Freq: W-SUN, Name: Adj Close, Length: 1204, dtype: float64"
      ]
     },
     "execution_count": 7,
     "metadata": {},
     "output_type": "execute_result"
    }
   ],
   "source": [
    "dados_vale_w"
   ]
  },
  {
   "cell_type": "markdown",
   "id": "49b5bec4",
   "metadata": {},
   "source": [
    "# Mundo 24\n",
    "\n",
    "Por mais que você já tenha visto alguns spoilers, como você pode calcular a rentabilidade de uma ação ao longo do tempo? Veremos isso no mundo 24, nosso primeiro mundo de análise de dados!"
   ]
  }
 ],
 "metadata": {
  "kernelspec": {
   "display_name": "Python 3",
   "language": "python",
   "name": "python3"
  },
  "language_info": {
   "codemirror_mode": {
    "name": "ipython",
    "version": 3
   },
   "file_extension": ".py",
   "mimetype": "text/x-python",
   "name": "python",
   "nbconvert_exporter": "python",
   "pygments_lexer": "ipython3",
   "version": "3.8.10"
  },
  "vscode": {
   "interpreter": {
    "hash": "916dbcbb3f70747c44a77c7bcd40155683ae19c65e1c03b4aa3499c5328201f1"
   }
  }
 },
 "nbformat": 4,
 "nbformat_minor": 5
}
