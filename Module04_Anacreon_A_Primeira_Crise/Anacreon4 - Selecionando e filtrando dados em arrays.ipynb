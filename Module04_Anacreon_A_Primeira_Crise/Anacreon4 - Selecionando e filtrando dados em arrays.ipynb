{
  "cells": [
    {
      "cell_type": "markdown",
      "id": "39feef31",
      "metadata": {
        "id": "39feef31"
      },
      "source": [
        "# Anacreon 4"
      ]
    },
    {
      "cell_type": "code",
      "execution_count": 2,
      "id": "552c2e86",
      "metadata": {
        "id": "552c2e86"
      },
      "outputs": [],
      "source": [
        "import numpy as np"
      ]
    },
    {
      "cell_type": "code",
      "execution_count": 3,
      "id": "1e0af066",
      "metadata": {
        "id": "1e0af066"
      },
      "outputs": [],
      "source": [
        "vetor = np.array([1, 2, 3, 4, 5, 6, 7, 8, 9])\n",
        "\n",
        "vetor2d = np.array([[1, 2, 3], [4, 5, 6], [7, 8, 9]])\n"
      ]
    },
    {
      "cell_type": "code",
      "execution_count": 3,
      "id": "ef584be8",
      "metadata": {
        "id": "ef584be8",
        "outputId": "48a87eed-e2f7-49de-9dcc-47c67824d78b"
      },
      "outputs": [
        {
          "name": "stdout",
          "output_type": "stream",
          "text": [
            "1\n",
            "[1 2]\n",
            "9\n",
            "7\n",
            "2\n"
          ]
        }
      ],
      "source": [
        "#posições\n",
        "\n",
        "print(vetor[0])\n",
        "\n",
        "print(vetor[0:2])\n",
        "\n",
        "print(vetor[-1])\n",
        "\n",
        "print(vetor2d[2][0])\n",
        "print(vetor2d[0][1])"
      ]
    },
    {
      "cell_type": "code",
      "execution_count": 4,
      "id": "115f92f7",
      "metadata": {},
      "outputs": [
        {
          "name": "stdout",
          "output_type": "stream",
          "text": [
            "O elemento na posição [1, 2] é: 35\n"
          ]
        }
      ],
      "source": [
        "import numpy as np\n",
        "\n",
        "# Matriz 3x4 (3 linhas, 4 colunas)\n",
        "matriz = np.array([[ 5, 10, 15, 20],  # Linha 0\n",
        "                   [25, 30, 35, 40],  # Linha 1\n",
        "                   [45, 50, 55, 60]]) # Linha 2\n",
        "\n",
        "# Para pegar o número 35:\n",
        "# Ele está na linha de índice 1 e na coluna de índice 2.\n",
        "elemento = matriz[1, 2]\n",
        "\n",
        "print(f\"O elemento na posição [1, 2] é: {elemento}\")\n",
        "# Saída: O elemento na posição [1, 2] é: 35"
      ]
    },
    {
      "cell_type": "code",
      "execution_count": 5,
      "id": "e4f76ad8",
      "metadata": {},
      "outputs": [
        {
          "name": "stdout",
          "output_type": "stream",
          "text": [
            "Array original:\n",
            "[22.5 26.1 24.9 28.3 19.8 25.  30.2 23.7]\n",
            "\n",
            "Máscara Booleana (temperaturas > 25):\n",
            "[False  True False  True False False  True False]\n",
            "\n",
            "Temperaturas filtradas (acima de 25):\n",
            "[26.1 28.3 30.2]\n"
          ]
        }
      ],
      "source": [
        "import numpy as np\n",
        "\n",
        "# Array com registros de temperatura\n",
        "temperaturas = np.array([22.5, 26.1, 24.9, 28.3, 19.8, 25.0, 30.2, 23.7])\n",
        "\n",
        "# Passo 1: Criar a máscara booleana\n",
        "# A condição é: \"o elemento é maior que 25?\"\n",
        "mascara_maior_que_25 = temperaturas > 25\n",
        "\n",
        "print(\"Array original:\")\n",
        "print(temperaturas)\n",
        "# Saída: [22.5 26.1 24.9 28.3 19.8 25.  30.2 23.7]\n",
        "\n",
        "print(\"\\nMáscara Booleana (temperaturas > 25):\")\n",
        "print(mascara_maior_que_25)\n",
        "# Saída: [False  True False  True False False  True False]\n",
        "\n",
        "# Passo 2: Aplicar a máscara para filtrar os dados\n",
        "temps_altas = temperaturas[mascara_maior_que_25]\n",
        "\n",
        "print(\"\\nTemperaturas filtradas (acima de 25):\")\n",
        "print(temps_altas)\n",
        "# Saída: [26.1 28.3 30.2]"
      ]
    },
    {
      "cell_type": "code",
      "execution_count": null,
      "id": "a01bbf97",
      "metadata": {},
      "outputs": [
        {
          "name": "stdout",
          "output_type": "stream",
          "text": [
            "\n",
            "Matriz original:\n",
            "[[1 5 3]\n",
            " [8 2 9]\n",
            " [4 6 7]]\n",
            "\n",
            "Números >= 5 (resultado é um array 1D):\n",
            "[5 8 9 6 7]\n"
          ]
        }
      ],
      "source": [
        "# Matriz 3x3\n",
        "matriz = np.array([\n",
        "    [1, 5, 3],\n",
        "    [8, 2, 9],\n",
        "    [4, 6, 7]\n",
        "])\n",
        "\n",
        "# Filtrar todos os números maiores ou iguais a 5\n",
        "numeros_altos = matriz[matriz >= 5]\n",
        "\n",
        "print(\"\\nMatriz original:\")\n",
        "print(matriz)\n",
        "print(\"\\nNúmeros >= 5 (resultado é um array 1D):\")\n",
        "print(numeros_altos)\n",
        "# Saída: [5 8 9 6 7]"
      ]
    },
    {
      "cell_type": "code",
      "execution_count": 8,
      "id": "230f2916",
      "metadata": {},
      "outputs": [
        {
          "name": "stdout",
          "output_type": "stream",
          "text": [
            "\n",
            "Máscara Combinada ((temps > 23) & (temps < 29)):\n",
            "[False  True  True  True False  True False  True]\n",
            "\n",
            "Temperaturas moderadas (entre 23 e 29):\n",
            "[26.1 24.9 28.3 25.  23.7]\n"
          ]
        }
      ],
      "source": [
        "import numpy as np\n",
        "\n",
        "# Array com registros de temperatura\n",
        "temperaturas = np.array([22.5, 26.1, 24.9, 28.3, 19.8, 25.0, 30.2, 23.7])\n",
        "# Condição 1: temperaturas > 23\n",
        "# Condição 2: temperaturas < 29\n",
        "mascara_combinada = (temperaturas > 23) & (temperaturas < 29)\n",
        "\n",
        "print(\"\\nMáscara Combinada ((temps > 23) & (temps < 29)):\")\n",
        "print(mascara_combinada)\n",
        "# Saída: [False  True  True  True False False False  True]\n",
        "\n",
        "temps_moderadas = temperaturas[mascara_combinada]\n",
        "\n",
        "print(\"\\nTemperaturas moderadas (entre 23 e 29):\")\n",
        "print(temps_moderadas)\n",
        "# Saída: [26.1 24.9 28.3 23.7]"
      ]
    },
    {
      "cell_type": "code",
      "execution_count": 4,
      "id": "2b2b478b",
      "metadata": {
        "id": "2b2b478b",
        "outputId": "83de4dfc-2033-46f3-c058-b89cb14d7e51"
      },
      "outputs": [
        {
          "name": "stdout",
          "output_type": "stream",
          "text": [
            "[6 7 8 9]\n",
            "[2 4 6 8]\n",
            "[5]\n",
            "[6 7]\n"
          ]
        }
      ],
      "source": [
        "#filtrando dados\n",
        "\n",
        "vetor = np.array([1, 2, 3, 4, 5, 6, 7, 8, 9])\n",
        "\n",
        "maior_que_5 = vetor[vetor > 5]\n",
        "\n",
        "somente_par = vetor[vetor % 2 == 0]\n",
        "\n",
        "igual_a_5 = vetor[vetor == 5]\n",
        "\n",
        "maior_que_3_menor_que_8 = vetor[ (vetor > 5) & (vetor < 8)] \n",
        "\n",
        "print(maior_que_5)\n",
        "print(somente_par)\n",
        "print(igual_a_5)\n",
        "print(maior_que_3_menor_que_8)"
      ]
    },
    {
      "cell_type": "markdown",
      "id": "c80bcd11",
      "metadata": {
        "id": "c80bcd11"
      },
      "source": [
        "# Exercício\n",
        "\n",
        "Exercício 04: Análise de Retornos com NumPy\n",
        "\n",
        "Crie um programa que utilize a biblioteca NumPy para realizar as seguintes tarefas:\n",
        "Entrada: Peça ao usuário para inserir um número inteiro, que representará a quantidade de dias.\n",
        "Geração de Dados: Crie um array NumPy contendo a quantidade de dias informada. Cada elemento do array deve ser um número de ponto flutuante (float) aleatório, simulando um retorno diário, no intervalo de -1 a 1.\n",
        "\n",
        "Análise: A partir do array gerado, extraia as seguintes informações:\n",
        "Um novo array contendo apenas os retornos positivos.\n",
        "O valor do primeiro retorno da série.\n",
        "O valor do último retorno da série.\n",
        "\n",
        "**Saída: Exiba os resultados da análise de forma clara e organizada.**"
      ]
    },
    {
      "cell_type": "code",
      "execution_count": 5,
      "id": "3e7efb97",
      "metadata": {
        "id": "3e7efb97",
        "outputId": "ec2cca0a-5b53-4dc4-fa62-f15084be6526"
      },
      "outputs": [
        {
          "name": "stdout",
          "output_type": "stream",
          "text": [
            "Os retornos positivos são [0.26724035 0.40880079 0.39858147 0.18478914 0.64818347] \n",
            "        O primeiro retorno é 0.26724035013299496 e o último é 0.6481834670620925\n"
          ]
        }
      ],
      "source": [
        "dias = int(input(\"Digite quantos retornos devem ser gerados: \"))\n",
        "\n",
        "retorno_aleatorio = np.random.uniform(-1, 1, dias)\n",
        "\n",
        "retornos_positivos = retorno_aleatorio[retorno_aleatorio > 0]\n",
        "\n",
        "print(f'''Os retornos positivos são {retornos_positivos} \n",
        "        O primeiro retorno é {retornos_positivos[0]} e o último é {retornos_positivos[-1]}''')"
      ]
    },
    {
      "cell_type": "markdown",
      "id": "43b95d5b",
      "metadata": {
        "id": "43b95d5b"
      },
      "source": [
        "# Anacreon 5\n",
        "\n",
        "Essas últimas duas aulas foram rápidas e bem simples. Nos mundos 5 e 6 nós vamos mais a fundo no numpy, descobrindo como podemos fazer conta, extrair\n",
        "estatísticas, juntar arrays, rankear arrays, adicionar e excluir dados e muito mais. No mundo 5 descobrir como manipular esses arrays da melhor forma!"
      ]
    },
    {
      "cell_type": "code",
      "execution_count": null,
      "id": "62892236",
      "metadata": {
        "id": "62892236"
      },
      "outputs": [],
      "source": []
    },
    {
      "cell_type": "code",
      "execution_count": null,
      "id": "7ce1e783",
      "metadata": {
        "id": "7ce1e783"
      },
      "outputs": [],
      "source": []
    }
  ],
  "metadata": {
    "colab": {
      "name": "Mundo 4.ipynb",
      "provenance": []
    },
    "kernelspec": {
      "display_name": "Python 3",
      "language": "python",
      "name": "python3"
    },
    "language_info": {
      "codemirror_mode": {
        "name": "ipython",
        "version": 3
      },
      "file_extension": ".py",
      "mimetype": "text/x-python",
      "name": "python",
      "nbconvert_exporter": "python",
      "pygments_lexer": "ipython3",
      "version": "3.10.12"
    }
  },
  "nbformat": 4,
  "nbformat_minor": 5
}
