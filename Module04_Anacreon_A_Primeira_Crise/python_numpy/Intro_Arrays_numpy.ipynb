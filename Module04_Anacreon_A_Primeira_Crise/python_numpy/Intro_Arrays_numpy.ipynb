{
  "nbformat": 4,
  "nbformat_minor": 0,
  "metadata": {
    "colab": {
      "provenance": []
    },
    "kernelspec": {
      "name": "python3",
      "display_name": "Python 3"
    },
    "language_info": {
      "name": "python"
    }
  },
  "cells": [
    {
      "cell_type": "markdown",
      "source": [
        "#Arrays Numpy"
      ],
      "metadata": {
        "id": "H_TJYFz00gf1"
      }
    },
    {
      "cell_type": "code",
      "execution_count": null,
      "metadata": {
        "id": "qCpfbdL2UQnX"
      },
      "outputs": [],
      "source": [
        "import numpy as np"
      ]
    },
    {
      "cell_type": "code",
      "source": [
        "#Para criar um array numpy utilizamos a função array() - Essa função cria um array a partir de uma lista\n",
        "arr = np.array([1,2,3,4,5,6])\n",
        "print(arr)\n",
        "print(type(arr))"
      ],
      "metadata": {
        "id": "q05qcHQ8ev61"
      },
      "execution_count": null,
      "outputs": []
    },
    {
      "cell_type": "code",
      "source": [
        "#Arrays de 2 dimensões (Também conhecido como matriz)\n",
        "arr2 = np.array([[1, 2, 3], [4, 5, 6]])\n",
        "\n",
        "print(arr2)"
      ],
      "metadata": {
        "id": "CWAEnCpzfaci"
      },
      "execution_count": null,
      "outputs": []
    },
    {
      "cell_type": "code",
      "source": [
        "#Arrays de 3 dimensões\n",
        "arr3 = np.array([[[1, 2, 3], [4, 5, 6]], [[7, 8, 9], [10, 11, 12]]])\n",
        "\n",
        "print(arr3)"
      ],
      "metadata": {
        "id": "Nkq_0K1D6AcI"
      },
      "execution_count": null,
      "outputs": []
    },
    {
      "cell_type": "code",
      "source": [
        "#Criando um array com N dimensões\n",
        "arr4 = np.array([1, 2, 3, 4], ndmin=7)\n",
        "4\n",
        "print(arr4)\n",
        "print(arr4.ndim)"
      ],
      "metadata": {
        "colab": {
          "base_uri": "https://localhost:8080/"
        },
        "id": "OcNbN42X7EWn",
        "outputId": "67595a2a-e2fa-428b-a831-91299da67e18"
      },
      "execution_count": null,
      "outputs": [
        {
          "output_type": "stream",
          "name": "stdout",
          "text": [
            "[[[[[[[1 2 3 4]]]]]]]\n",
            "7\n"
          ]
        }
      ]
    },
    {
      "cell_type": "code",
      "source": [
        "#Verificando o número de dimensões de um array\n",
        "print(arr.ndim)\n",
        "print(arr2.ndim)\n",
        "print(arr3.ndim)"
      ],
      "metadata": {
        "colab": {
          "base_uri": "https://localhost:8080/"
        },
        "id": "tkMbb3ZF6Woq",
        "outputId": "17783db3-aead-4919-9ea8-453baa75ecfb"
      },
      "execution_count": null,
      "outputs": [
        {
          "output_type": "stream",
          "name": "stdout",
          "text": [
            "1\n",
            "2\n",
            "3\n"
          ]
        }
      ]
    },
    {
      "cell_type": "markdown",
      "source": [
        "##NP Arange - Arrays com Intervalo Definido\n",
        "Similar à função range() do Python, np.arange() cria arrays com valores dentro de um intervalo especificado."
      ],
      "metadata": {
        "id": "A0RiqWaV8oML"
      }
    },
    {
      "cell_type": "code",
      "source": [
        "# Criando um array de 0 a 20\n",
        "arr_arange = np.arange(21)\n",
        "print(\"Array arange (0 a 20):\", arr_arange)\n",
        "\n",
        "# Criando um array de 2 a 10 com passo de 2\n",
        "arr_arange_step = np.arange(2, 11, 2)\n",
        "print(\"Array arange (2 a 10, passo 2):\", arr_arange_step)"
      ],
      "metadata": {
        "colab": {
          "base_uri": "https://localhost:8080/"
        },
        "id": "Mxb9PhdK81eN",
        "outputId": "e8a90a95-6357-4b75-b328-80f26f70bfa0"
      },
      "execution_count": null,
      "outputs": [
        {
          "output_type": "stream",
          "name": "stdout",
          "text": [
            "Array arange (0 a 20): [ 0  1  2  3  4  5  6  7  8  9 10 11 12 13 14 15 16 17 18 19 20]\n",
            "Array arange (2 a 10, passo 2): [ 2  4  6  8 10]\n"
          ]
        }
      ]
    },
    {
      "cell_type": "markdown",
      "source": [
        "##Arrays com Espaçamento Uniforme\n",
        "np.linspace() cria arrays com um número específico de elementos igualmente espaçados dentro de um intervalo."
      ],
      "metadata": {
        "id": "dyE0QmmM9DSe"
      }
    },
    {
      "cell_type": "code",
      "source": [
        "# Criando um array com 5 elementos entre 0 e 10 (inclusive)\n",
        "arr_linspace = np.linspace(0, 10, 5)\n",
        "print(\"Array linspace (0 a 10, 5 elementos):\", arr_linspace)\n",
        "\n",
        "# Exemplo com mais elementos\n",
        "arr_linspace_more = np.linspace(1, 2, 10)\n",
        "print(\"Array linspace (1 a 2, 10 elementos):\", arr_linspace_more)"
      ],
      "metadata": {
        "colab": {
          "base_uri": "https://localhost:8080/"
        },
        "id": "Eay27o9K9CmW",
        "outputId": "f6ee0c74-a07a-4f89-cd25-431cbb073ca1"
      },
      "execution_count": null,
      "outputs": [
        {
          "output_type": "stream",
          "name": "stdout",
          "text": [
            "Array linspace (0 a 10, 5 elementos): [ 0.   2.5  5.   7.5 10. ]\n",
            "Array linspace (1 a 2, 10 elementos): [1.         1.11111111 1.22222222 1.33333333 1.44444444 1.55555556\n",
            " 1.66666667 1.77777778 1.88888889 2.        ]\n"
          ]
        }
      ]
    },
    {
      "cell_type": "markdown",
      "source": [
        "##Arrays de Zeros\n",
        "Cria um array preenchido com zeros. Útil para inicializar arrays."
      ],
      "metadata": {
        "id": "fnRYcsCh9Z5B"
      }
    },
    {
      "cell_type": "code",
      "source": [
        "# Criando um array 1D de 5 zeros\n",
        "zeros_1d = np.zeros(5)\n",
        "print(\"Array de zeros 1D:\", zeros_1d)\n",
        "\n",
        "# Criando um array 2D (3 linhas, 4 colunas) de zeros\n",
        "zeros_2d = np.zeros((3, 4))\n",
        "print(\"Array de zeros 2D:\\n\", zeros_2d)"
      ],
      "metadata": {
        "id": "EQGjQvkA9WhZ"
      },
      "execution_count": null,
      "outputs": []
    },
    {
      "cell_type": "markdown",
      "source": [
        "##Arrays de Uns\n",
        "Similar a np.zeros(), cria um array preenchido com uns."
      ],
      "metadata": {
        "id": "YfArxcxR9fu6"
      }
    },
    {
      "cell_type": "code",
      "source": [
        "# Criando um array 1D de 4 uns\n",
        "ones_1d = np.ones(4)\n",
        "print(\"Array de uns 1D:\", ones_1d)\n",
        "\n",
        "# Criando um array 2D (2 linhas, 3 colunas) de uns\n",
        "ones_2d = np.ones((2, 3))\n",
        "print(\"Array de uns 2D:\\n\", ones_2d)"
      ],
      "metadata": {
        "colab": {
          "base_uri": "https://localhost:8080/"
        },
        "id": "Kp8dEd5w9j_i",
        "outputId": "6b00a2c2-bede-43c5-e2a2-884b461c4ec3"
      },
      "execution_count": null,
      "outputs": [
        {
          "output_type": "stream",
          "name": "stdout",
          "text": [
            "Array de uns 1D: [1. 1. 1. 1.]\n",
            "Array de uns 2D:\n",
            " [[1. 1. 1.]\n",
            " [1. 1. 1.]]\n"
          ]
        }
      ]
    }
  ]
}