{
 "cells": [
  {
   "cell_type": "markdown",
   "id": "5c69c4c4",
   "metadata": {},
   "source": [
    "# OrdinalEncoder\n",
    "- Se existe uma relação entre os rótulos de dados, podemos colocá-los em uma ordem e usar números para representar cada um dos rótulos\n",
    "    - Ex: ruim / médio / bom pode ser representado como 0 / 1 / 2\n",
    "- Independente do número de rótulos, é possível fazer a transformação **resultando em 1 única coluna**\n",
    "- Vamos considerar a base de HR disponível no Kaggle:\n",
    "    - https://www.kaggle.com/datasets/arashnic/hr-analytics-job-change-of-data-scientists\n",
    "    - [Essa base está disponível no drive](https://drive.google.com/file/d/1EdQSEnNFM8ufrW3831EItxjSaRhf0Vw9/view?usp=share_link)"
   ]
  },
  {
   "cell_type": "code",
   "execution_count": 1,
   "id": "47226923",
   "metadata": {},
   "outputs": [],
   "source": [
    "# Importando o pandas\n",
    "import pandas as pd"
   ]
  },
  {
   "cell_type": "code",
   "execution_count": 2,
   "id": "b4dbc054",
   "metadata": {},
   "outputs": [],
   "source": [
    "# Importando a base\n",
    "base = pd.read_csv('aug_test.csv')"
   ]
  },
  {
   "cell_type": "code",
   "execution_count": 3,
   "id": "943959b8",
   "metadata": {},
   "outputs": [
    {
     "data": {
      "text/html": [
       "<div>\n",
       "<style scoped>\n",
       "    .dataframe tbody tr th:only-of-type {\n",
       "        vertical-align: middle;\n",
       "    }\n",
       "\n",
       "    .dataframe tbody tr th {\n",
       "        vertical-align: top;\n",
       "    }\n",
       "\n",
       "    .dataframe thead th {\n",
       "        text-align: right;\n",
       "    }\n",
       "</style>\n",
       "<table border=\"1\" class=\"dataframe\">\n",
       "  <thead>\n",
       "    <tr style=\"text-align: right;\">\n",
       "      <th></th>\n",
       "      <th>enrollee_id</th>\n",
       "      <th>city</th>\n",
       "      <th>city_development_index</th>\n",
       "      <th>gender</th>\n",
       "      <th>relevent_experience</th>\n",
       "      <th>enrolled_university</th>\n",
       "      <th>education_level</th>\n",
       "      <th>major_discipline</th>\n",
       "      <th>experience</th>\n",
       "      <th>company_size</th>\n",
       "      <th>company_type</th>\n",
       "      <th>last_new_job</th>\n",
       "      <th>training_hours</th>\n",
       "    </tr>\n",
       "  </thead>\n",
       "  <tbody>\n",
       "    <tr>\n",
       "      <th>0</th>\n",
       "      <td>32403</td>\n",
       "      <td>city_41</td>\n",
       "      <td>0.827</td>\n",
       "      <td>Male</td>\n",
       "      <td>Has relevent experience</td>\n",
       "      <td>Full time course</td>\n",
       "      <td>Graduate</td>\n",
       "      <td>STEM</td>\n",
       "      <td>9</td>\n",
       "      <td>&lt;10</td>\n",
       "      <td>NaN</td>\n",
       "      <td>1</td>\n",
       "      <td>21</td>\n",
       "    </tr>\n",
       "    <tr>\n",
       "      <th>1</th>\n",
       "      <td>9858</td>\n",
       "      <td>city_103</td>\n",
       "      <td>0.920</td>\n",
       "      <td>Female</td>\n",
       "      <td>Has relevent experience</td>\n",
       "      <td>no_enrollment</td>\n",
       "      <td>Graduate</td>\n",
       "      <td>STEM</td>\n",
       "      <td>5</td>\n",
       "      <td>NaN</td>\n",
       "      <td>Pvt Ltd</td>\n",
       "      <td>1</td>\n",
       "      <td>98</td>\n",
       "    </tr>\n",
       "  </tbody>\n",
       "</table>\n",
       "</div>"
      ],
      "text/plain": [
       "   enrollee_id      city  city_development_index  gender  \\\n",
       "0        32403   city_41                   0.827    Male   \n",
       "1         9858  city_103                   0.920  Female   \n",
       "\n",
       "       relevent_experience enrolled_university education_level  \\\n",
       "0  Has relevent experience    Full time course        Graduate   \n",
       "1  Has relevent experience       no_enrollment        Graduate   \n",
       "\n",
       "  major_discipline experience company_size company_type last_new_job  \\\n",
       "0             STEM          9          <10          NaN            1   \n",
       "1             STEM          5          NaN      Pvt Ltd            1   \n",
       "\n",
       "   training_hours  \n",
       "0              21  \n",
       "1              98  "
      ]
     },
     "execution_count": 3,
     "metadata": {},
     "output_type": "execute_result"
    }
   ],
   "source": [
    "# Visualizando a base\n",
    "base.head(2)"
   ]
  },
  {
   "cell_type": "code",
   "execution_count": 4,
   "id": "10009dcd",
   "metadata": {},
   "outputs": [
    {
     "name": "stdout",
     "output_type": "stream",
     "text": [
      "<class 'pandas.core.frame.DataFrame'>\n",
      "RangeIndex: 2129 entries, 0 to 2128\n",
      "Data columns (total 13 columns):\n",
      " #   Column                  Non-Null Count  Dtype  \n",
      "---  ------                  --------------  -----  \n",
      " 0   enrollee_id             2129 non-null   int64  \n",
      " 1   city                    2129 non-null   object \n",
      " 2   city_development_index  2129 non-null   float64\n",
      " 3   gender                  1621 non-null   object \n",
      " 4   relevent_experience     2129 non-null   object \n",
      " 5   enrolled_university     2098 non-null   object \n",
      " 6   education_level         2077 non-null   object \n",
      " 7   major_discipline        1817 non-null   object \n",
      " 8   experience              2124 non-null   object \n",
      " 9   company_size            1507 non-null   object \n",
      " 10  company_type            1495 non-null   object \n",
      " 11  last_new_job            2089 non-null   object \n",
      " 12  training_hours          2129 non-null   int64  \n",
      "dtypes: float64(1), int64(2), object(10)\n",
      "memory usage: 216.4+ KB\n"
     ]
    }
   ],
   "source": [
    "# E as informações dessa base\n",
    "base.info()"
   ]
  },
  {
   "cell_type": "markdown",
   "id": "aeb3def6",
   "metadata": {},
   "source": [
    "- Podemos verificar a coluna **education_level** para tratar o nível de educação do candidato"
   ]
  },
  {
   "cell_type": "code",
   "execution_count": 5,
   "id": "40f848f3",
   "metadata": {},
   "outputs": [
    {
     "data": {
      "text/plain": [
       "Graduate          1269\n",
       "Masters            496\n",
       "High School        222\n",
       "Phd                 54\n",
       "Primary School      36\n",
       "Name: education_level, dtype: int64"
      ]
     },
     "execution_count": 5,
     "metadata": {},
     "output_type": "execute_result"
    }
   ],
   "source": [
    "# Verificando a coluna education_level\n",
    "base.education_level.value_counts()"
   ]
  },
  {
   "cell_type": "markdown",
   "id": "b4901406",
   "metadata": {},
   "source": [
    "- Sabemos que existe uma relação entre o nível de educação\n",
    "    - Por exemplo, começamos no ensino primário, depois vamos para a high school, graduate, masters e então phd\n",
    "- Podemos começar transformando essas informações em colunas utilizando o One-Hot Encoding"
   ]
  },
  {
   "cell_type": "code",
   "execution_count": 6,
   "id": "4ac1bbab",
   "metadata": {},
   "outputs": [
    {
     "data": {
      "text/html": [
       "<div>\n",
       "<style scoped>\n",
       "    .dataframe tbody tr th:only-of-type {\n",
       "        vertical-align: middle;\n",
       "    }\n",
       "\n",
       "    .dataframe tbody tr th {\n",
       "        vertical-align: top;\n",
       "    }\n",
       "\n",
       "    .dataframe thead th {\n",
       "        text-align: right;\n",
       "    }\n",
       "</style>\n",
       "<table border=\"1\" class=\"dataframe\">\n",
       "  <thead>\n",
       "    <tr style=\"text-align: right;\">\n",
       "      <th></th>\n",
       "      <th>Graduate</th>\n",
       "      <th>High School</th>\n",
       "      <th>Masters</th>\n",
       "      <th>Phd</th>\n",
       "      <th>Primary School</th>\n",
       "    </tr>\n",
       "  </thead>\n",
       "  <tbody>\n",
       "    <tr>\n",
       "      <th>0</th>\n",
       "      <td>1</td>\n",
       "      <td>0</td>\n",
       "      <td>0</td>\n",
       "      <td>0</td>\n",
       "      <td>0</td>\n",
       "    </tr>\n",
       "    <tr>\n",
       "      <th>1</th>\n",
       "      <td>1</td>\n",
       "      <td>0</td>\n",
       "      <td>0</td>\n",
       "      <td>0</td>\n",
       "      <td>0</td>\n",
       "    </tr>\n",
       "    <tr>\n",
       "      <th>2</th>\n",
       "      <td>0</td>\n",
       "      <td>1</td>\n",
       "      <td>0</td>\n",
       "      <td>0</td>\n",
       "      <td>0</td>\n",
       "    </tr>\n",
       "    <tr>\n",
       "      <th>3</th>\n",
       "      <td>0</td>\n",
       "      <td>0</td>\n",
       "      <td>1</td>\n",
       "      <td>0</td>\n",
       "      <td>0</td>\n",
       "    </tr>\n",
       "    <tr>\n",
       "      <th>4</th>\n",
       "      <td>1</td>\n",
       "      <td>0</td>\n",
       "      <td>0</td>\n",
       "      <td>0</td>\n",
       "      <td>0</td>\n",
       "    </tr>\n",
       "    <tr>\n",
       "      <th>...</th>\n",
       "      <td>...</td>\n",
       "      <td>...</td>\n",
       "      <td>...</td>\n",
       "      <td>...</td>\n",
       "      <td>...</td>\n",
       "    </tr>\n",
       "    <tr>\n",
       "      <th>2124</th>\n",
       "      <td>1</td>\n",
       "      <td>0</td>\n",
       "      <td>0</td>\n",
       "      <td>0</td>\n",
       "      <td>0</td>\n",
       "    </tr>\n",
       "    <tr>\n",
       "      <th>2125</th>\n",
       "      <td>0</td>\n",
       "      <td>0</td>\n",
       "      <td>1</td>\n",
       "      <td>0</td>\n",
       "      <td>0</td>\n",
       "    </tr>\n",
       "    <tr>\n",
       "      <th>2126</th>\n",
       "      <td>0</td>\n",
       "      <td>0</td>\n",
       "      <td>0</td>\n",
       "      <td>0</td>\n",
       "      <td>1</td>\n",
       "    </tr>\n",
       "    <tr>\n",
       "      <th>2127</th>\n",
       "      <td>0</td>\n",
       "      <td>1</td>\n",
       "      <td>0</td>\n",
       "      <td>0</td>\n",
       "      <td>0</td>\n",
       "    </tr>\n",
       "    <tr>\n",
       "      <th>2128</th>\n",
       "      <td>0</td>\n",
       "      <td>0</td>\n",
       "      <td>1</td>\n",
       "      <td>0</td>\n",
       "      <td>0</td>\n",
       "    </tr>\n",
       "  </tbody>\n",
       "</table>\n",
       "<p>2129 rows × 5 columns</p>\n",
       "</div>"
      ],
      "text/plain": [
       "      Graduate  High School  Masters  Phd  Primary School\n",
       "0            1            0        0    0               0\n",
       "1            1            0        0    0               0\n",
       "2            0            1        0    0               0\n",
       "3            0            0        1    0               0\n",
       "4            1            0        0    0               0\n",
       "...        ...          ...      ...  ...             ...\n",
       "2124         1            0        0    0               0\n",
       "2125         0            0        1    0               0\n",
       "2126         0            0        0    0               1\n",
       "2127         0            1        0    0               0\n",
       "2128         0            0        1    0               0\n",
       "\n",
       "[2129 rows x 5 columns]"
      ]
     },
     "execution_count": 6,
     "metadata": {},
     "output_type": "execute_result"
    }
   ],
   "source": [
    "# Transformando em colunas\n",
    "pd.get_dummies(base.education_level)"
   ]
  },
  {
   "cell_type": "markdown",
   "id": "7ca6d098",
   "metadata": {},
   "source": [
    "- Só que nesse caso estamos criando 5 novas colunas no lugar de 1, então isso aumenta o tamanho da nossa base\n",
    "- **Outra opção seria utilizar valores relacionados ao nível educacional do candidato (ex: 0 para primário, 1 para ensino médio (high school), 2 para graduação, etc)**"
   ]
  },
  {
   "cell_type": "markdown",
   "id": "8f91c331",
   "metadata": {},
   "source": [
    "<a id=\"idOrdinalEncoder\"></a>\n",
    "- **Para isso, vamos utilizar o OrdinalEncoder**:\n",
    "    - https://scikit-learn.org/stable/modules/generated/sklearn.preprocessing.OrdinalEncoder.html#sklearn.preprocessing.OrdinalEncoder"
   ]
  },
  {
   "cell_type": "code",
   "execution_count": 7,
   "id": "eb9bb675",
   "metadata": {},
   "outputs": [],
   "source": [
    "# Importando\n",
    "from sklearn.preprocessing import OrdinalEncoder"
   ]
  },
  {
   "cell_type": "code",
   "execution_count": 47,
   "id": "4e597270",
   "metadata": {},
   "outputs": [],
   "source": [
    "# Criando o objeto \n",
    "oe = OrdinalEncoder(categories=[['Primary School','High School','Graduate','Masters','Phd']]\n",
    "                    ,handle_unknown='use_encoded_value',unknown_value=-1\n",
    "                   )"
   ]
  },
  {
   "cell_type": "code",
   "execution_count": 48,
   "id": "d689b27f",
   "metadata": {},
   "outputs": [],
   "source": [
    "# Fazendo o fit com os dados\n",
    "oe = oe.fit(base[['education_level']])"
   ]
  },
  {
   "cell_type": "code",
   "execution_count": 49,
   "id": "53b11db1",
   "metadata": {},
   "outputs": [
    {
     "data": {
      "text/plain": [
       "array([[2.],\n",
       "       [2.],\n",
       "       [1.],\n",
       "       ...,\n",
       "       [0.],\n",
       "       [1.],\n",
       "       [3.]])"
      ]
     },
     "execution_count": 49,
     "metadata": {},
     "output_type": "execute_result"
    }
   ],
   "source": [
    "# Transformando os dados\n",
    "oe.transform(base[['education_level']])"
   ]
  },
  {
   "cell_type": "code",
   "execution_count": 50,
   "id": "10d62235",
   "metadata": {},
   "outputs": [
    {
     "data": {
      "text/html": [
       "<div>\n",
       "<style scoped>\n",
       "    .dataframe tbody tr th:only-of-type {\n",
       "        vertical-align: middle;\n",
       "    }\n",
       "\n",
       "    .dataframe tbody tr th {\n",
       "        vertical-align: top;\n",
       "    }\n",
       "\n",
       "    .dataframe thead th {\n",
       "        text-align: right;\n",
       "    }\n",
       "</style>\n",
       "<table border=\"1\" class=\"dataframe\">\n",
       "  <thead>\n",
       "    <tr style=\"text-align: right;\">\n",
       "      <th></th>\n",
       "      <th>education_level_oe</th>\n",
       "    </tr>\n",
       "  </thead>\n",
       "  <tbody>\n",
       "    <tr>\n",
       "      <th>0</th>\n",
       "      <td>2.0</td>\n",
       "    </tr>\n",
       "    <tr>\n",
       "      <th>1</th>\n",
       "      <td>2.0</td>\n",
       "    </tr>\n",
       "    <tr>\n",
       "      <th>2</th>\n",
       "      <td>1.0</td>\n",
       "    </tr>\n",
       "    <tr>\n",
       "      <th>3</th>\n",
       "      <td>3.0</td>\n",
       "    </tr>\n",
       "    <tr>\n",
       "      <th>4</th>\n",
       "      <td>2.0</td>\n",
       "    </tr>\n",
       "    <tr>\n",
       "      <th>...</th>\n",
       "      <td>...</td>\n",
       "    </tr>\n",
       "    <tr>\n",
       "      <th>2124</th>\n",
       "      <td>2.0</td>\n",
       "    </tr>\n",
       "    <tr>\n",
       "      <th>2125</th>\n",
       "      <td>3.0</td>\n",
       "    </tr>\n",
       "    <tr>\n",
       "      <th>2126</th>\n",
       "      <td>0.0</td>\n",
       "    </tr>\n",
       "    <tr>\n",
       "      <th>2127</th>\n",
       "      <td>1.0</td>\n",
       "    </tr>\n",
       "    <tr>\n",
       "      <th>2128</th>\n",
       "      <td>3.0</td>\n",
       "    </tr>\n",
       "  </tbody>\n",
       "</table>\n",
       "<p>2129 rows × 1 columns</p>\n",
       "</div>"
      ],
      "text/plain": [
       "      education_level_oe\n",
       "0                    2.0\n",
       "1                    2.0\n",
       "2                    1.0\n",
       "3                    3.0\n",
       "4                    2.0\n",
       "...                  ...\n",
       "2124                 2.0\n",
       "2125                 3.0\n",
       "2126                 0.0\n",
       "2127                 1.0\n",
       "2128                 3.0\n",
       "\n",
       "[2129 rows x 1 columns]"
      ]
     },
     "execution_count": 50,
     "metadata": {},
     "output_type": "execute_result"
    }
   ],
   "source": [
    "# Criando um DF\n",
    "oe_df = pd.DataFrame(oe.transform(base[['education_level']]),columns=['education_level_oe'])\n",
    "oe_df"
   ]
  },
  {
   "cell_type": "code",
   "execution_count": 51,
   "id": "0d7a6462",
   "metadata": {},
   "outputs": [],
   "source": [
    "# Eliminando a coluna education_level_oe\n",
    "base = base.drop('education_level_oe',axis=1)"
   ]
  },
  {
   "cell_type": "code",
   "execution_count": 52,
   "id": "156d2b06",
   "metadata": {},
   "outputs": [],
   "source": [
    "# Unindo com o dataset original\n",
    "base = pd.concat([base,oe_df],axis=1)"
   ]
  },
  {
   "cell_type": "code",
   "execution_count": 53,
   "id": "530f1640",
   "metadata": {},
   "outputs": [
    {
     "data": {
      "text/html": [
       "<div>\n",
       "<style scoped>\n",
       "    .dataframe tbody tr th:only-of-type {\n",
       "        vertical-align: middle;\n",
       "    }\n",
       "\n",
       "    .dataframe tbody tr th {\n",
       "        vertical-align: top;\n",
       "    }\n",
       "\n",
       "    .dataframe thead th {\n",
       "        text-align: right;\n",
       "    }\n",
       "</style>\n",
       "<table border=\"1\" class=\"dataframe\">\n",
       "  <thead>\n",
       "    <tr style=\"text-align: right;\">\n",
       "      <th></th>\n",
       "      <th>enrollee_id</th>\n",
       "      <th>city</th>\n",
       "      <th>city_development_index</th>\n",
       "      <th>gender</th>\n",
       "      <th>relevent_experience</th>\n",
       "      <th>enrolled_university</th>\n",
       "      <th>education_level</th>\n",
       "      <th>major_discipline</th>\n",
       "      <th>experience</th>\n",
       "      <th>company_size</th>\n",
       "      <th>company_type</th>\n",
       "      <th>last_new_job</th>\n",
       "      <th>training_hours</th>\n",
       "      <th>education_level_oe</th>\n",
       "    </tr>\n",
       "  </thead>\n",
       "  <tbody>\n",
       "    <tr>\n",
       "      <th>0</th>\n",
       "      <td>32403</td>\n",
       "      <td>city_41</td>\n",
       "      <td>0.827</td>\n",
       "      <td>Male</td>\n",
       "      <td>Has relevent experience</td>\n",
       "      <td>Full time course</td>\n",
       "      <td>Graduate</td>\n",
       "      <td>STEM</td>\n",
       "      <td>9</td>\n",
       "      <td>&lt;10</td>\n",
       "      <td>NaN</td>\n",
       "      <td>1</td>\n",
       "      <td>21</td>\n",
       "      <td>2.0</td>\n",
       "    </tr>\n",
       "    <tr>\n",
       "      <th>1</th>\n",
       "      <td>9858</td>\n",
       "      <td>city_103</td>\n",
       "      <td>0.920</td>\n",
       "      <td>Female</td>\n",
       "      <td>Has relevent experience</td>\n",
       "      <td>no_enrollment</td>\n",
       "      <td>Graduate</td>\n",
       "      <td>STEM</td>\n",
       "      <td>5</td>\n",
       "      <td>NaN</td>\n",
       "      <td>Pvt Ltd</td>\n",
       "      <td>1</td>\n",
       "      <td>98</td>\n",
       "      <td>2.0</td>\n",
       "    </tr>\n",
       "  </tbody>\n",
       "</table>\n",
       "</div>"
      ],
      "text/plain": [
       "   enrollee_id      city  city_development_index  gender  \\\n",
       "0        32403   city_41                   0.827    Male   \n",
       "1         9858  city_103                   0.920  Female   \n",
       "\n",
       "       relevent_experience enrolled_university education_level  \\\n",
       "0  Has relevent experience    Full time course        Graduate   \n",
       "1  Has relevent experience       no_enrollment        Graduate   \n",
       "\n",
       "  major_discipline experience company_size company_type last_new_job  \\\n",
       "0             STEM          9          <10          NaN            1   \n",
       "1             STEM          5          NaN      Pvt Ltd            1   \n",
       "\n",
       "   training_hours  education_level_oe  \n",
       "0              21                 2.0  \n",
       "1              98                 2.0  "
      ]
     },
     "execution_count": 53,
     "metadata": {},
     "output_type": "execute_result"
    }
   ],
   "source": [
    "# Visualizando a nova base\n",
    "base.head(2)"
   ]
  },
  {
   "cell_type": "code",
   "execution_count": 54,
   "id": "f725fb63",
   "metadata": {},
   "outputs": [
    {
     "data": {
      "text/plain": [
       "education_level  education_level_oe\n",
       "Graduate         2.0                   1269\n",
       "Masters          3.0                    496\n",
       "High School      1.0                    222\n",
       "Phd              4.0                     54\n",
       "Primary School   0.0                     36\n",
       "dtype: int64"
      ]
     },
     "execution_count": 54,
     "metadata": {},
     "output_type": "execute_result"
    }
   ],
   "source": [
    "# Considerando apenas as colunas de nível educacional\n",
    "base[['education_level','education_level_oe']].value_counts()"
   ]
  },
  {
   "cell_type": "markdown",
   "id": "b6418c54",
   "metadata": {},
   "source": [
    "- Observe que o encoder que fizemos não está relacionando o nível correto da educação do candidato, pois ele está considerando um candidato com High School como 1, com ensino primário como 4 e graduado como 0\n",
    "- Podemos [voltar](#idOrdinalEncoder) no OrdinalEncoder e definir `categories`"
   ]
  },
  {
   "cell_type": "markdown",
   "id": "c2f99a75",
   "metadata": {},
   "source": [
    "- Obs: ao usarmos o `categories`, vamos precisar informar para o OrdinalEncoder o que ele deve fazer com os valores vazios. Caso contrário, vamos ter um erro informando:<br>\n",
    "`ValueError: Found unknown categories [nan] in column ___ during fit`"
   ]
  },
  {
   "cell_type": "code",
   "execution_count": 46,
   "id": "9d72f587",
   "metadata": {},
   "outputs": [
    {
     "data": {
      "text/plain": [
       "-1.0    52\n",
       "Name: education_level_oe, dtype: int64"
      ]
     },
     "execution_count": 46,
     "metadata": {},
     "output_type": "execute_result"
    }
   ],
   "source": [
    "# Podemos também filtrar os valores com education_level vazios\n",
    "base.loc[base.education_level.isnull(),'education_level_oe'].value_counts()"
   ]
  },
  {
   "cell_type": "markdown",
   "id": "0b0dc579",
   "metadata": {},
   "source": [
    "- Também podemos passar o `dtype` como parâmetro do próprio OrdinalEncoder para determinar o tipo dos dados"
   ]
  },
  {
   "cell_type": "markdown",
   "id": "45dbb4a2",
   "metadata": {},
   "source": [
    "- Para transformar mais de 1 coluna, basta passar essas informações nas categorias"
   ]
  },
  {
   "cell_type": "code",
   "execution_count": null,
   "id": "4ed6b5b8",
   "metadata": {},
   "outputs": [],
   "source": [
    "# Adicionando a coluna de enrolled_university na análise"
   ]
  },
  {
   "cell_type": "code",
   "execution_count": null,
   "id": "04b4ca68",
   "metadata": {},
   "outputs": [],
   "source": [
    "# Definindo a ordem dos rótulos das duas colunas"
   ]
  },
  {
   "cell_type": "code",
   "execution_count": null,
   "id": "b5777400",
   "metadata": {},
   "outputs": [],
   "source": [
    "# E usando o OrdinalEncoder"
   ]
  },
  {
   "cell_type": "code",
   "execution_count": null,
   "id": "cd090d20",
   "metadata": {},
   "outputs": [],
   "source": [
    "# Fazendo o fit com os dados"
   ]
  },
  {
   "cell_type": "code",
   "execution_count": null,
   "id": "b4a352f5",
   "metadata": {},
   "outputs": [],
   "source": [
    "# Transformando os dados"
   ]
  }
 ],
 "metadata": {
  "kernelspec": {
   "display_name": "Python 3 (ipykernel)",
   "language": "python",
   "name": "python3"
  },
  "language_info": {
   "codemirror_mode": {
    "name": "ipython",
    "version": 3
   },
   "file_extension": ".py",
   "mimetype": "text/x-python",
   "name": "python",
   "nbconvert_exporter": "python",
   "pygments_lexer": "ipython3",
   "version": "3.9.13"
  }
 },
 "nbformat": 4,
 "nbformat_minor": 5
}
