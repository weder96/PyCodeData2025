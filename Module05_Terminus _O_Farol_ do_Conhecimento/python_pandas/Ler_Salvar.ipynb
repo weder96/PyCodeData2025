{
  "nbformat": 4,
  "nbformat_minor": 0,
  "metadata": {
    "colab": {
      "provenance": []
    },
    "kernelspec": {
      "name": "python3",
      "display_name": "Python 3"
    },
    "language_info": {
      "name": "python"
    }
  },
  "cells": [
    {
      "cell_type": "markdown",
      "source": [
        "#Leitura de Arquivos com Pandas"
      ],
      "metadata": {
        "id": "2XscOGFHQUyJ"
      }
    },
    {
      "cell_type": "markdown",
      "source": [
        "##Leitura de um arquivo CSV"
      ],
      "metadata": {
        "id": "RXlHJk8RQkkn"
      }
    },
    {
      "cell_type": "code",
      "execution_count": null,
      "metadata": {
        "id": "PD_EfymOQEef"
      },
      "outputs": [],
      "source": [
        "import pandas as pd\n",
        "# Exemplo de leitura de um CSV (usando um dataset público do GitHub)\n",
        "url_csv =\n",
        "'https://raw.githubusercontent.com/plotly/datasets/master/gapminderDataFiveYear.csv'\n",
        "df_csv = pd.read_csv(url_csv)\n",
        "print('DataFrame lido de CSV (primeiras 5 linhas):')\n",
        "print(df_csv.head())"
      ]
    },
    {
      "cell_type": "markdown",
      "source": [
        "##Leitura de um arquivo XLSX"
      ],
      "metadata": {
        "id": "wEaasIGKQfRu"
      }
    },
    {
      "cell_type": "code",
      "source": [
        "import pandas as pd\n",
        "# Exemplo de leitura de um XLSX (necessário ter o pacote openpyxl instalado)\n",
        "# !pip install openpyxl # Descomente e execute no Colab se não tiver instalado\n",
        "# Criando um arquivo Excel de exemplo para leitura\n",
        "df_exemplo = pd.DataFrame({\n",
        "'Produto': ['A', 'B', 'C'],\n",
        "'Preco': [10, 20, 30]\n",
        "})\n",
        "df_exemplo.to_excel('exemplo.xlsx', index=False)\n",
        "#A partir daqui\n",
        "df_excel = pd.read_excel('exemplo.xlsx')\n",
        "print('\\nDataFrame lido de XLSX:')\n",
        "print(df_excel)"
      ],
      "metadata": {
        "id": "S41AytURQaXx"
      },
      "execution_count": null,
      "outputs": []
    },
    {
      "cell_type": "markdown",
      "source": [
        "#Salvando arquivos com Pandas"
      ],
      "metadata": {
        "id": "sE6KfT90QuVl"
      }
    },
    {
      "cell_type": "markdown",
      "source": [
        "##Savando no formato CSV"
      ],
      "metadata": {
        "id": "sbvMwsRyQx3H"
      }
    },
    {
      "cell_type": "code",
      "source": [
        "import pandas as pd\n",
        "# Criando um DataFrame de exemplo\n",
        "df_salvar_csv = pd.DataFrame({\n",
        "'Fruta': ['Maçã', 'Banana', 'Laranja'],\n",
        "'Quantidade': [100, 150, 120]\n",
        "})\n",
        "# Salvando o DataFrame em um arquivo CSV\n",
        "df_salvar_csv.to_csv('frutas.csv', index=False)\n",
        "print('\\nDataFrame salvo em frutas.csv')\n",
        "# Para verificar se o arquivo foi salvo, você pode tentar lê-lo novamente\n",
        "df_lido_csv = pd.read_csv('frutas.csv')\n",
        "print('\\nDataFrame lido de frutas.csv para verificação:')\n",
        "print(df_lido_csv)"
      ],
      "metadata": {
        "id": "4IR2eKsoQ0iS"
      },
      "execution_count": null,
      "outputs": []
    },
    {
      "cell_type": "markdown",
      "source": [
        "##Salvando no formato XLSX"
      ],
      "metadata": {
        "id": "76LOQ8C6RSIv"
      }
    },
    {
      "cell_type": "code",
      "source": [
        "import pandas as pd\n",
        "# Criando um DataFrame de exemplo\n",
        "df_salvar_excel = pd.DataFrame({\n",
        "'País': ['Brasil', 'Argentina', 'Chile'],\n",
        "'População': [215, 45, 19]\n",
        "})\n",
        "# Salvando o DataFrame em um arquivo XLSX\n",
        "df_salvar_excel.to_excel('paises.xlsx', index=False)\n",
        "print('\\nDataFrame salvo em paises.xlsx')\n",
        "# Para verificar se o arquivo foi salvo, você pode tentar lê-lo novamente\n",
        "df_lido_excel = pd.read_excel('paises.xlsx')\n",
        "print('\\nDataFrame lido de paises.xlsx para verificação:')\n",
        "print(df_lido_excel)"
      ],
      "metadata": {
        "id": "SAGKxpvqRUbG"
      },
      "execution_count": null,
      "outputs": []
    }
  ]
}