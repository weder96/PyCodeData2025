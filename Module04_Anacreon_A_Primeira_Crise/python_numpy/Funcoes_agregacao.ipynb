{
  "nbformat": 4,
  "nbformat_minor": 0,
  "metadata": {
    "colab": {
      "provenance": []
    },
    "kernelspec": {
      "name": "python3",
      "display_name": "Python 3"
    },
    "language_info": {
      "name": "python"
    }
  },
  "cells": [
    {
      "cell_type": "markdown",
      "source": [
        "#Funções de Agregação\n",
        "NumPy oferece várias funções para agregar (resumir) dados em um array."
      ],
      "metadata": {
        "id": "yve3Ay4iAS8u"
      }
    },
    {
      "cell_type": "markdown",
      "source": [
        "##sum(): Soma de Todos os Elementos\n",
        "Calcula a soma de todos os elementos no array ou ao longo de um eixo específico."
      ],
      "metadata": {
        "id": "W8AnuXwXAW8-"
      }
    },
    {
      "cell_type": "code",
      "source": [
        "arr = np.array([1, 2, 3, 4, 5])\n",
        "total_sum = arr.sum()\n",
        "print(\"Soma total:\", total_sum)\n",
        "\n",
        "matrix = np.array([[1, 2, 3], [4, 5, 6]])\n",
        "print(\"Soma de todos os elementos da matriz:\", matrix.sum())\n",
        "\n",
        "# Soma por coluna (axis=0)\n",
        "sum_by_column = matrix.sum(axis=0)\n",
        "print(\"Soma por coluna:\", sum_by_column)\n",
        "\n",
        "# Soma por linha (axis=1)\n",
        "sum_by_row = matrix.sum(axis=1)\n",
        "print(\"Soma por linha:\", sum_by_row)"
      ],
      "metadata": {
        "colab": {
          "base_uri": "https://localhost:8080/"
        },
        "id": "DrscO_rEAZUO",
        "outputId": "b3464341-9715-42be-81a8-fad0888687b1"
      },
      "execution_count": null,
      "outputs": [
        {
          "output_type": "stream",
          "name": "stdout",
          "text": [
            "Soma total: 15\n",
            "Soma de todos os elementos da matriz: 21\n",
            "Soma por coluna: [5 7 9]\n",
            "Soma por linha: [ 6 15]\n"
          ]
        }
      ]
    },
    {
      "cell_type": "markdown",
      "source": [
        "##mean(): Média dos Elementos\n",
        "Calcula a média aritmética dos elementos."
      ],
      "metadata": {
        "id": "mhFrsfakAeXv"
      }
    },
    {
      "cell_type": "code",
      "source": [
        "arr = np.array([1, 2, 3, 4, 5])\n",
        "media = arr.mean()\n",
        "print(\"Média:\", media)\n",
        "\n",
        "matrix = np.array([[1, 2, 3], [4, 5, 6]])\n",
        "print(\"Média de todos os elementos da matriz:\", matrix.mean())\n",
        "\n",
        "# Média por coluna (axis=0)\n",
        "mean_by_column = matrix.mean(axis=0)\n",
        "print(\"Média por coluna:\", mean_by_column)\n",
        "\n",
        "# Média por linha (axis=1)\n",
        "mean_by_row = matrix.mean(axis=1)\n",
        "print(\"Média por linha:\", mean_by_row)"
      ],
      "metadata": {
        "id": "vBO9mX67Ac_P"
      },
      "execution_count": null,
      "outputs": []
    },
    {
      "cell_type": "markdown",
      "source": [
        "##std(): Desvio Padrão\n",
        "Calcula o desvio padrão dos elementos."
      ],
      "metadata": {
        "id": "rmnMxA65Aj9o"
      }
    },
    {
      "cell_type": "code",
      "source": [
        "arr = np.array([1, 2, 3, 4, 5])\n",
        "desvio_padrao = arr.std()\n",
        "print(\"Desvio Padrão:\", desvio_padrao)"
      ],
      "metadata": {
        "colab": {
          "base_uri": "https://localhost:8080/"
        },
        "id": "bLKXseGRAmYw",
        "outputId": "0ba9f1ea-93ab-4640-bdcf-6c9682aa3fe7"
      },
      "execution_count": null,
      "outputs": [
        {
          "output_type": "stream",
          "name": "stdout",
          "text": [
            "Desvio Padrão: 1.4142135623730951\n"
          ]
        }
      ]
    },
    {
      "cell_type": "markdown",
      "source": [
        "##min() e max(): Valor Mínimo e Máximo\n",
        "Encontram o menor e o maior valor no array."
      ],
      "metadata": {
        "id": "3ufRWaQNAo5h"
      }
    },
    {
      "cell_type": "code",
      "source": [
        "arr = np.array([9, 2, 7, 1, 5])\n",
        "min = arr.min()\n",
        "max = arr.max()\n",
        "print(\"Valor Mínimo:\", min)\n",
        "print(\"Valor Máximo:\", max)\n",
        "\n",
        "matriz = np.array([[10, 2, 8], [4, 15, 6]])\n",
        "print(\"Mínimo na matriz:\", matriz.min())\n",
        "print(\"Máximo na matriz:\", matriz.max())\n",
        "\n",
        "# Mínimo por coluna (axis=0)\n",
        "min_coluna = matriz.min(axis=0)\n",
        "print(\"Mínimo por coluna:\", min_coluna)\n",
        "\n",
        "# Máximo por linha (axis=1)\n",
        "max_linha = matriz.max(axis=1)\n",
        "print(\"Máximo por linha:\", max_linha)"
      ],
      "metadata": {
        "colab": {
          "base_uri": "https://localhost:8080/"
        },
        "id": "2l69UUx2ArBA",
        "outputId": "4d1e2939-841b-4de2-aa57-536423d19dd8"
      },
      "execution_count": null,
      "outputs": [
        {
          "output_type": "stream",
          "name": "stdout",
          "text": [
            "Valor Mínimo: 1\n",
            "Valor Máximo: 9\n",
            "Mínimo na matriz: 2\n",
            "Máximo na matriz: 15\n",
            "Mínimo por coluna: [4 2 6]\n",
            "Máximo por linha: [10 15]\n"
          ]
        }
      ]
    },
    {
      "cell_type": "markdown",
      "source": [
        "##argmax(): Índice do Valor Máximo\n",
        "Retorna o índice (ou índices) do maior valor ao longo de um eixo."
      ],
      "metadata": {
        "id": "ZAzkf9vuAwKJ"
      }
    },
    {
      "cell_type": "code",
      "source": [
        "arr = np.array([9, 2, 7, 1, 5])\n",
        "ind_max = arr.argmax()\n",
        "print(\"Índice do valor máximo:\", ind_max) # O valor 9 está no índice 0\n",
        "\n",
        "matriz = np.array([[10, 2, 8], [4, 15, 6]])\n",
        "ind_max = matriz.argmax()\n",
        "print(\"Índice do valor máximo geral (flattened):\", ind_max) # 15 é o maior valor no array \"achatado\" (índice 4)\n",
        "\n",
        "# Índice do valor máximo por coluna (axis=0)\n",
        "ind_max_coluna = matriz.argmax(axis=0)\n",
        "print(\"Índices do valor máximo por coluna:\", ind_max_coluna) # [0, 1, 0] -> (10 está na linha 0, 15 na linha 1, 8 na linha 0)\n",
        "\n",
        "# Índice do valor máximo por linha (axis=1)\n",
        "ind_max_linha = matriz.argmax(axis=1)\n",
        "print(\"Índices do valor máximo por linha:\", ind_max_linha) # [0, 1] -> (10 na coluna 0, 15 na coluna 1)"
      ],
      "metadata": {
        "colab": {
          "base_uri": "https://localhost:8080/"
        },
        "id": "DbYfnTl7AyGJ",
        "outputId": "2f05957d-13b7-4d79-f1f4-6446def11c90"
      },
      "execution_count": null,
      "outputs": [
        {
          "output_type": "stream",
          "name": "stdout",
          "text": [
            "Índice do valor máximo: 0\n",
            "Índice do valor máximo geral (flattened): 4\n",
            "Índices do valor máximo por coluna: [0 1 0]\n",
            "Índices do valor máximo por linha: [0 1]\n"
          ]
        }
      ]
    }
  ]
}