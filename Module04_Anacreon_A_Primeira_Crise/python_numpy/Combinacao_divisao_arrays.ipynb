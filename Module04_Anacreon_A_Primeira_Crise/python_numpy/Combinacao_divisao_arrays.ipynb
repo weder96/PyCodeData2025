{
  "nbformat": 4,
  "nbformat_minor": 0,
  "metadata": {
    "colab": {
      "provenance": []
    },
    "kernelspec": {
      "name": "python3",
      "display_name": "Python 3"
    },
    "language_info": {
      "name": "python"
    }
  },
  "cells": [
    {
      "cell_type": "markdown",
      "source": [
        "#Combinação e Divisão de Arrays\n",
        "NumPy oferece diversas funções para combinar e dividir arrays, o que é fundamental para manipular conjuntos de dados maiores ou reestruturá-los para análises específicas."
      ],
      "metadata": {
        "id": "Sj17vunM450F"
      }
    },
    {
      "cell_type": "markdown",
      "source": [
        "##vstack() e hstack(): Empilhamento Vertical e Horizontal\n",
        "Essas funções são usadas para empilhar arrays ao longo de um eixo específico:\n",
        "\n",
        "np.vstack() (Vertical Stack): Empilha arrays verticalmente (ao longo das linhas). Os arrays devem ter o mesmo número de colunas.\n",
        "np.hstack() (Horizontal Stack): Empilha arrays horizontalmente (ao longo das colunas). Os arrays devem ter o mesmo número de linhas."
      ],
      "metadata": {
        "id": "dkuT3ZgiNFlV"
      }
    },
    {
      "cell_type": "code",
      "source": [
        "import numpy as np"
      ],
      "metadata": {
        "id": "poTzRo8MiZr-"
      },
      "execution_count": null,
      "outputs": []
    },
    {
      "cell_type": "code",
      "execution_count": null,
      "metadata": {
        "id": "ubF0peXF415i",
        "colab": {
          "base_uri": "https://localhost:8080/"
        },
        "outputId": "602674fb-a811-444a-903e-7bbfcba5b439"
      },
      "outputs": [
        {
          "output_type": "stream",
          "name": "stdout",
          "text": [
            "Empilhamento Vertical (vstack):\n",
            " [[1 2 3]\n",
            " [4 5 6]]\n",
            "Shape do vstack: (2, 3)\n",
            "\n",
            "Empilhamento Vertical de Matrizes:\n",
            " [[10 20]\n",
            " [30 40]\n",
            " [50 60]\n",
            " [70 80]]\n",
            "Shape do vstack de matrizes: (4, 2)\n",
            "\n",
            "Empilhamento Horizontal (hstack):\n",
            " [1 2 3 4 5 6]\n",
            "Shape do hstack: (6,)\n",
            "\n",
            "Empilhamento Horizontal de Matrizes:\n",
            " [[10 20 50 60]\n",
            " [30 40 70 80]]\n",
            "Shape do hstack de matrizes: (2, 4)\n"
          ]
        }
      ],
      "source": [
        "arr1 = np.array([1, 2, 3])\n",
        "arr2 = np.array([4, 5, 6])\n",
        "\n",
        "# Empilhamento Vertical (vstack)\n",
        "# Cria um array 2x3 a partir de dois arrays 1x3\n",
        "vertical_stack = np.vstack((arr1, arr2))\n",
        "print(\"Empilhamento Vertical (vstack):\\n\", vertical_stack)\n",
        "print(\"Shape do vstack:\", vertical_stack.shape)\n",
        "\n",
        "matrix1 = np.array([[10, 20],\n",
        "                    [30, 40]])\n",
        "matrix2 = np.array([[50, 60],\n",
        "                    [70, 80]])\n",
        "\n",
        "# Empilhamento Vertical de matrizes\n",
        "vertical_stack_matrix = np.vstack((matrix1, matrix2))\n",
        "print(\"\\nEmpilhamento Vertical de Matrizes:\\n\", vertical_stack_matrix)\n",
        "print(\"Shape do vstack de matrizes:\", vertical_stack_matrix.shape)\n",
        "\n",
        "\n",
        "# Empilhamento Horizontal (hstack)\n",
        "# Cria um array 1x6 a partir de dois arrays 1x3\n",
        "horizontal_stack = np.hstack((arr1, arr2))\n",
        "print(\"\\nEmpilhamento Horizontal (hstack):\\n\", horizontal_stack)\n",
        "print(\"Shape do hstack:\", horizontal_stack.shape)\n",
        "\n",
        "# Empilhamento Horizontal de matrizes\n",
        "horizontal_stack_matrix = np.hstack((matrix1, matrix2))\n",
        "print(\"\\nEmpilhamento Horizontal de Matrizes:\\n\", horizontal_stack_matrix)\n",
        "print(\"Shape do hstack de matrizes:\", horizontal_stack_matrix.shape)"
      ]
    },
    {
      "cell_type": "markdown",
      "source": [
        "##concatenate() e stack(): Funções Mais Gerais de Combinação\n",
        "Estas são funções mais flexíveis para combinar arrays:\n",
        "\n",
        "np.concatenate(): Concatena arrays ao longo de um eixo existente. É mais geral que vstack e hstack (que são, na verdade, wrappers para concatenate). Os arrays devem ter o mesmo shape em todos os eixos, exceto no eixo de concatenação.\n",
        "np.stack(): Empilha arrays ao longo de um novo eixo. Todos os arrays de entrada devem ter o mesmo shape."
      ],
      "metadata": {
        "id": "19Uj3XAFNKwV"
      }
    },
    {
      "cell_type": "code",
      "source": [
        "arr1 = np.array([1, 2, 3])\n",
        "arr2 = np.array([4, 5, 6])\n",
        "\n",
        "# Concatenar ao longo do eixo 0 (linhas para arrays 1D, por exemplo)\n",
        "concat_axis0 = np.concatenate((arr1, arr2), axis=0)\n",
        "print(\"Concatenar (axis=0):\", concat_axis0)\n",
        "\n",
        "matrix1 = np.array([[10, 20],\n",
        "                    [30, 40]])\n",
        "matrix2 = np.array([[50, 60],\n",
        "                    [70, 80]])\n",
        "\n",
        "# Concatenar matrizes ao longo do eixo 0 (linhas)\n",
        "concat_matrix_axis0 = np.concatenate((matrix1, matrix2), axis=0)\n",
        "print(\"\\nConcatenar Matrizes (axis=0):\\n\", concat_matrix_axis0)\n",
        "\n",
        "# Concatenar matrizes ao longo do eixo 1 (colunas)\n",
        "concat_matrix_axis1 = np.concatenate((matrix1, matrix2), axis=1)\n",
        "print(\"\\nConcatenar Matrizes (axis=1):\\n\", concat_matrix_axis1)\n",
        "\n",
        "# Usando np.stack() - Cria uma nova dimensão\n",
        "# Para arrays 1D, np.stack cria um array 2D\n",
        "stacked_arrays = np.stack((arr1, arr2))\n",
        "print(\"\\nStacking (padrão, cria novo eixo 0):\\n\", stacked_arrays)\n",
        "print(\"Shape do stacked_arrays:\", stacked_arrays.shape) # (2, 3)\n",
        "\n",
        "# Stacking no eixo 1 (o novo eixo é o segundo)\n",
        "stacked_arrays_axis1 = np.stack((arr1, arr2), axis=1)\n",
        "print(\"\\nStacking (axis=1):\\n\", stacked_arrays_axis1)\n",
        "print(\"Shape do stacked_arrays_axis1:\", stacked_arrays_axis1.shape) # (3, 2)"
      ],
      "metadata": {
        "id": "9R7NWU6gNNF9",
        "colab": {
          "base_uri": "https://localhost:8080/"
        },
        "outputId": "d1e6be10-984d-4612-df8f-4c4a789defc4"
      },
      "execution_count": null,
      "outputs": [
        {
          "output_type": "stream",
          "name": "stdout",
          "text": [
            "Concatenar (axis=0): [1 2 3 4 5 6]\n",
            "\n",
            "Concatenar Matrizes (axis=0):\n",
            " [[10 20]\n",
            " [30 40]\n",
            " [50 60]\n",
            " [70 80]]\n",
            "\n",
            "Concatenar Matrizes (axis=1):\n",
            " [[10 20 50 60]\n",
            " [30 40 70 80]]\n",
            "\n",
            "Stacking (padrão, cria novo eixo 0):\n",
            " [[1 2 3]\n",
            " [4 5 6]]\n",
            "Shape do stacked_arrays: (2, 3)\n",
            "\n",
            "Stacking (axis=1):\n",
            " [[1 4]\n",
            " [2 5]\n",
            " [3 6]]\n",
            "Shape do stacked_arrays_axis1: (3, 2)\n"
          ]
        }
      ]
    },
    {
      "cell_type": "markdown",
      "source": [
        "##split(), hsplit(), vsplit(): Divisão de Arrays\n",
        "Estas funções são o oposto das operações de combinação, permitindo que você divida um array em múltiplos sub-arrays.\n",
        "\n",
        "- np.split(): Divide um array ao longo de um eixo especificado em vários sub-arrays. Você pode especificar o número de divisões iguais ou uma lista de índices onde a divisão deve ocorrer.\n",
        "- np.hsplit() (Horizontal Split): Divide um array horizontalmente (ao longo das colunas). Equivalente a np.split(array, indices_or_sections, axis=1).\n",
        "- np.vsplit() (Vertical Split): Divide um array verticalmente (ao longo das linhas). Equivalente a np.split(array, indices_or_sections, axis=0)."
      ],
      "metadata": {
        "id": "-RAB5jM1NQHt"
      }
    },
    {
      "cell_type": "code",
      "source": [
        "arr_para_dividir = np.arange(16).reshape(4, 4)\n",
        "print(\"Array para divisão:\\n\", arr_para_dividir)\n",
        "\n",
        "# Divisão Vertical (vsplit) - Divide em 2 partes iguais\n",
        "# Note que o número de divisões deve ser um divisor do número de linhas\n",
        "v_split_arrays = np.vsplit(arr_para_dividir, 2)\n",
        "print(\"\\nDivisão Vertical (vsplit em 2):\\n\", v_split_arrays)\n",
        "print(\"Primeira parte:\\n\", v_split_arrays[0])\n",
        "print(\"Segunda parte:\\n\", v_split_arrays[1])\n",
        "\n",
        "# Divisão Horizontal (hsplit) - Divide em 4 partes iguais\n",
        "# Note que o número de divisões deve ser um divisor do número de colunas\n",
        "h_split_arrays = np.hsplit(arr_para_dividir, 4)\n",
        "print(\"\\nDivisão Horizontal (hsplit em 4):\\n\", h_split_arrays)\n",
        "print(\"Primeira parte (coluna 0):\\n\", h_split_arrays[0])\n",
        "print(\"Última parte (coluna 3):\\n\", h_split_arrays[3])\n",
        "\n",
        "# Usando np.split() para uma divisão mais genérica\n",
        "arr_1d_split = np.array([10, 20, 30, 40, 50, 60, 70, 80])\n",
        "print(\"\\nArray 1D para split:\", arr_1d_split)\n",
        "\n",
        "# Dividir em 4 partes iguais\n",
        "split_equal = np.split(arr_1d_split, 4)\n",
        "print(\"Split em 4 partes iguais:\", split_equal)\n",
        "\n",
        "# Dividir em pontos específicos (índices 2 e 5)\n",
        "split_at_indices = np.split(arr_1d_split, [2, 5])\n",
        "print(\"Split em índices [2, 5]:\", split_at_indices)\n",
        "\n",
        "# Split de matriz ao longo de um eixo específico\n",
        "matrix_split = np.arange(20).reshape(4, 5)\n",
        "print(\"\\nMatriz para split genérico:\\n\", matrix_split)\n",
        "\n",
        "# Dividir a matriz em 2 partes ao longo do eixo 0 (linhas)\n",
        "split_matrix_axis0 = np.split(matrix_split, 2, axis=0)\n",
        "print(\"\\nSplit da matriz (axis=0):\\n\", split_matrix_axis0)\n",
        "\n",
        "# Dividir a matriz em 5 partes ao longo do eixo 1 (colunas)\n",
        "split_matrix_axis1 = np.split(matrix_split, 5, axis=1)\n",
        "print(\"\\nSplit da matriz (axis=1):\\n\", split_matrix_axis1)"
      ],
      "metadata": {
        "id": "pgSX4LaMNSyG",
        "colab": {
          "base_uri": "https://localhost:8080/"
        },
        "outputId": "a9308af2-66e3-4a09-bba7-a2e033fbb9df"
      },
      "execution_count": null,
      "outputs": [
        {
          "output_type": "stream",
          "name": "stdout",
          "text": [
            "Array para divisão:\n",
            " [[ 0  1  2  3]\n",
            " [ 4  5  6  7]\n",
            " [ 8  9 10 11]\n",
            " [12 13 14 15]]\n",
            "\n",
            "Divisão Vertical (vsplit em 2):\n",
            " [array([[0, 1, 2, 3],\n",
            "       [4, 5, 6, 7]]), array([[ 8,  9, 10, 11],\n",
            "       [12, 13, 14, 15]])]\n",
            "Primeira parte:\n",
            " [[0 1 2 3]\n",
            " [4 5 6 7]]\n",
            "Segunda parte:\n",
            " [[ 8  9 10 11]\n",
            " [12 13 14 15]]\n",
            "\n",
            "Divisão Horizontal (hsplit em 4):\n",
            " [array([[ 0],\n",
            "       [ 4],\n",
            "       [ 8],\n",
            "       [12]]), array([[ 1],\n",
            "       [ 5],\n",
            "       [ 9],\n",
            "       [13]]), array([[ 2],\n",
            "       [ 6],\n",
            "       [10],\n",
            "       [14]]), array([[ 3],\n",
            "       [ 7],\n",
            "       [11],\n",
            "       [15]])]\n",
            "Primeira parte (coluna 0):\n",
            " [[ 0]\n",
            " [ 4]\n",
            " [ 8]\n",
            " [12]]\n",
            "Última parte (coluna 3):\n",
            " [[ 3]\n",
            " [ 7]\n",
            " [11]\n",
            " [15]]\n",
            "\n",
            "Array 1D para split: [10 20 30 40 50 60 70 80]\n",
            "Split em 4 partes iguais: [array([10, 20]), array([30, 40]), array([50, 60]), array([70, 80])]\n",
            "Split em índices [2, 5]: [array([10, 20]), array([30, 40, 50]), array([60, 70, 80])]\n",
            "\n",
            "Matriz para split genérico:\n",
            " [[ 0  1  2  3  4]\n",
            " [ 5  6  7  8  9]\n",
            " [10 11 12 13 14]\n",
            " [15 16 17 18 19]]\n",
            "\n",
            "Split da matriz (axis=0):\n",
            " [array([[0, 1, 2, 3, 4],\n",
            "       [5, 6, 7, 8, 9]]), array([[10, 11, 12, 13, 14],\n",
            "       [15, 16, 17, 18, 19]])]\n",
            "\n",
            "Split da matriz (axis=1):\n",
            " [array([[ 0],\n",
            "       [ 5],\n",
            "       [10],\n",
            "       [15]]), array([[ 1],\n",
            "       [ 6],\n",
            "       [11],\n",
            "       [16]]), array([[ 2],\n",
            "       [ 7],\n",
            "       [12],\n",
            "       [17]]), array([[ 3],\n",
            "       [ 8],\n",
            "       [13],\n",
            "       [18]]), array([[ 4],\n",
            "       [ 9],\n",
            "       [14],\n",
            "       [19]])]\n"
          ]
        }
      ]
    },
    {
      "cell_type": "markdown",
      "source": [
        "#Combinação e Particionamento\n",
        "O uso conjunto dessas funções de combinação e divisão permite manipular os dados de forma muito flexível. Por exemplo, você pode particionar um dataset para treinamento e teste, ou combinar resultados de diferentes processamentos."
      ],
      "metadata": {
        "id": "-qXtlQpFNVNu"
      }
    },
    {
      "cell_type": "code",
      "source": [
        "# Criando dois datasets \"simulados\"\n",
        "dataset_parte1 = np.random.rand(5, 3) # 5 amostras, 3 características\n",
        "dataset_parte2 = np.random.rand(7, 3) # 7 amostras, 3 características\n",
        "\n",
        "print(\"Dataset Parte 1 (shape):\", dataset_parte1.shape)\n",
        "print(\"Dataset Parte 2 (shape):\", dataset_parte2.shape)\n",
        "\n",
        "# Combinando os datasets verticalmente (assumindo que representam mais amostras)\n",
        "full_dataset = np.vstack((dataset_parte1, dataset_parte2))\n",
        "print(\"\\nDataset Completo (vstack) shape:\", full_dataset.shape)\n",
        "\n",
        "# Particionando o dataset completo em treino e teste (exemplo simples)\n",
        "# Vamos dividir em 10 linhas para treino e 2 para teste\n",
        "train_data, test_data = np.vsplit(full_dataset, [10])\n",
        "\n",
        "print(\"\\nDados de Treino shape:\", train_data.shape)\n",
        "print(\"Dados de Teste shape:\", test_data.shape)\n",
        "\n",
        "# Outro exemplo: combinando características\n",
        "features_a = np.array([[1, 2], [3, 4]])\n",
        "features_b = np.array([[5, 6], [7, 8]])\n",
        "\n",
        "# Combinando características horizontalmente\n",
        "combined_features = np.hstack((features_a, features_b))\n",
        "print(\"\\nCaracterísticas Combinadas (hstack):\\n\", combined_features)"
      ],
      "metadata": {
        "id": "P7JjXfvJNXqm",
        "colab": {
          "base_uri": "https://localhost:8080/"
        },
        "outputId": "96db3146-c183-4903-8228-793baf58d60d"
      },
      "execution_count": null,
      "outputs": [
        {
          "output_type": "stream",
          "name": "stdout",
          "text": [
            "Dataset Parte 1 (shape): (5, 3)\n",
            "Dataset Parte 2 (shape): (7, 3)\n",
            "\n",
            "Dataset Completo (vstack) shape: (12, 3)\n",
            "\n",
            "Dados de Treino shape: (10, 3)\n",
            "Dados de Teste shape: (2, 3)\n",
            "\n",
            "Características Combinadas (hstack):\n",
            " [[1 2 5 6]\n",
            " [3 4 7 8]]\n"
          ]
        }
      ]
    }
  ]
}