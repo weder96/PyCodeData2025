{
  "nbformat": 4,
  "nbformat_minor": 0,
  "metadata": {
    "colab": {
      "provenance": []
    },
    "kernelspec": {
      "name": "python3",
      "display_name": "Python 3"
    },
    "language_info": {
      "name": "python"
    }
  },
  "cells": [
    {
      "cell_type": "markdown",
      "source": [
        "#Indexação Booleana e Filtragem Condicional\n",
        "A indexação booleana é uma técnica poderosa para filtrar elementos de um array com base em uma ou mais condições lógicas. Você cria um array booleano (True/False) e o usa para selecionar elementos correspondentes."
      ],
      "metadata": {
        "id": "B3Or21rSy8-C"
      }
    },
    {
      "cell_type": "code",
      "source": [
        "data = np.array([1, 2, 3, 4, 5, 6, 7, 8, 9, 10])\n",
        "print(\"Dados originais:\", data)\n",
        "\n",
        "# Criando uma condição (array booleano)\n",
        "condicao = data > 5\n",
        "print(\"Condição (data > 5):\", condicao)\n",
        "\n",
        "# Filtrando o array usando a condição booleana\n",
        "elementos_maiores_que_5 = data[condicao]\n",
        "print(\"Elementos maiores que 5:\", elementos_maiores_que_5)\n",
        "\n",
        "# Combinando condições (elementos pares e maiores que 5)\n",
        "condicao_pares = data % 2 == 0\n",
        "condicao_maior_que_5 = data > 5\n",
        "\n",
        "elementos_pares_e_maiores_que_5 = data[condicao_pares & condicao_maior_que_5] # Usar '&' para AND lógico\n",
        "print(\"Elementos pares e maiores que 5:\", elementos_pares_e_maiores_que_5)\n",
        "\n",
        "# Filtragem condicional em 2D\n",
        "matrix_cond = np.array([[10, 20, 30],\n",
        "                        [40, 50, 60],\n",
        "                        [70, 80, 90]])\n",
        "print(\"\\nMatriz para filtragem:\\n\", matrix_cond)\n",
        "\n",
        "# Filtrando elementos maiores que 50\n",
        "filtro_matrix = matrix_cond > 50\n",
        "print(\"Filtro booleano na matriz:\\n\", filtro_matrix)\n",
        "\n",
        "# Ao usar o filtro booleano em uma matriz, o resultado é um array 1D\n",
        "elementos_maiores_que_50_matrix = matrix_cond[filtro_matrix]\n",
        "print(\"Elementos da matriz maiores que 50 (array 1D):\", elementos_maiores_que_50_matrix)"
      ],
      "metadata": {
        "id": "4MFzJgTWzEaj"
      },
      "execution_count": null,
      "outputs": []
    },
    {
      "cell_type": "markdown",
      "source": [
        "##copy() vs. view() (Cópia vs. Visão)\n",
        "Um ponto crucial ao trabalhar com fatiamento em NumPy é entender a diferença entre uma cópia (copy()) e uma visão (view()).\n",
        "\n",
        "Visão (view): Por padrão, quando você fatia um array NumPy, você recebe uma visão dos dados originais. Isso significa que as modificações feitas na visão afetarão o array original. Isso é feito para economizar memória e tempo de processamento.\n",
        "Cópia (copy): Se você realmente precisa de uma cópia independente dos dados, use o método .copy(). Modificações na cópia não afetarão o array original."
      ],
      "metadata": {
        "id": "GV1mrVMNzJbL"
      }
    },
    {
      "cell_type": "code",
      "source": [
        "original_array = np.array([1, 2, 3, 4, 5])\n",
        "print(\"Array original:\", original_array)\n",
        "\n",
        "# Criando uma visão (slice)\n",
        "view_array = original_array[1:4]\n",
        "print(\"Visão do array (slice):\", view_array)\n",
        "\n",
        "# Modificando a visão\n",
        "view_array[0] = 99\n",
        "print(\"Visão modificada:\", view_array)\n",
        "print(\"Array original após modificar a visão:\", original_array) # O array original foi afetado!\n",
        "\n",
        "# Criando uma cópia\n",
        "original_array_copy = np.array([10, 20, 30, 40, 50])\n",
        "print(\"\\nArray original (para cópia):\", original_array_copy)\n",
        "\n",
        "copy_array = original_array_copy[1:4].copy() # Usamos .copy() explicitamente\n",
        "print(\"Cópia do array:\", copy_array)\n",
        "\n",
        "# Modificando a cópia\n",
        "copy_array[0] = 999\n",
        "print(\"Cópia modificada:\", copy_array)\n",
        "print(\"Array original após modificar a cópia:\", original_array_copy) # O array original NÃO foi afetado!"
      ],
      "metadata": {
        "id": "uLMVg6mmzM_L"
      },
      "execution_count": null,
      "outputs": []
    }
  ]
}