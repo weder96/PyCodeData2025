{
 "cells": [
  {
   "cell_type": "markdown",
   "id": "633e3400",
   "metadata": {},
   "source": [
    "# Volume 02\n",
    "### Introdução ao Pandas\n"
   ]
  },
  {
   "cell_type": "code",
   "execution_count": 2,
   "id": "1d0cf04b",
   "metadata": {},
   "outputs": [],
   "source": [
    "import pandas as pd\n",
    "import numpy as np"
   ]
  },
  {
   "cell_type": "markdown",
   "id": "e541fd66",
   "metadata": {},
   "source": [
    "## Séries"
   ]
  },
  {
   "cell_type": "code",
   "execution_count": 1,
   "id": "28abd12f",
   "metadata": {},
   "outputs": [
    {
     "name": "stdout",
     "output_type": "stream",
     "text": [
      "São Paulo         12.3\n",
      "Rio de Janeiro     6.7\n",
      "Brasília           3.0\n",
      "Salvador           2.9\n",
      "Anápolis           0.4\n",
      "dtype: float64\n"
     ]
    }
   ],
   "source": [
    "import pandas as pd\n",
    "\n",
    "# 1. Criamos um dicionário com as cidades (chaves) e suas populações (valores)\n",
    "dados_populacao = {\n",
    "    \"São Paulo\": 12.3,\n",
    "    \"Rio de Janeiro\": 6.7,\n",
    "    \"Brasília\": 3.0,\n",
    "    \"Salvador\": 2.9,\n",
    "    \"Anápolis\": 0.4  # Adicionando sua cidade como referência :)\n",
    "}\n",
    "\n",
    "# 2. Criamos a Series a partir do dicionário\n",
    "serie_populacao = pd.Series(dados_populacao)\n",
    "\n",
    "# 3. Exibimos a Series resultante\n",
    "print(serie_populacao)"
   ]
  },
  {
   "cell_type": "code",
   "execution_count": 3,
   "id": "b44bdb7e",
   "metadata": {},
   "outputs": [
    {
     "name": "stdout",
     "output_type": "stream",
     "text": [
      "             python  estatistica  machine_learning  sql\n",
      "aluno                                                  \n",
      "João Silva      9.0          7.5               8.0  8.5\n",
      "Maria Souza     8.0          9.5               9.0  7.0\n",
      "Carlos Lima     7.0          6.5               7.0  9.0\n",
      "Ana Pereira     9.5          8.0               8.5  7.5\n"
     ]
    }
   ],
   "source": [
    "import pandas as pd\n",
    "\n",
    "# 1. Criamos a lista de dicionários com as notas dos alunos em disciplinas de Data Science\n",
    "lista_alunos_ds = [\n",
    "    {'aluno': 'João Silva', 'python': 9.0, 'estatistica': 7.5, 'machine_learning': 8.0, 'sql': 8.5},\n",
    "    {'aluno': 'Maria Souza', 'python': 8.0, 'estatistica': 9.5, 'machine_learning': 9.0, 'sql': 7.0},\n",
    "    {'aluno': 'Carlos Lima', 'python': 7.0, 'estatistica': 6.5, 'machine_learning': 7.0, 'sql': 9.0},\n",
    "    {'aluno': 'Ana Pereira', 'python': 9.5, 'estatistica': 8.0, 'machine_learning': 8.5, 'sql': 7.5}\n",
    "]\n",
    "\n",
    "# 2. Criamos o DataFrame a partir da lista\n",
    "df_notas_ds = pd.DataFrame(lista_alunos_ds)\n",
    "\n",
    "# 3. Definimos a coluna 'aluno' como o índice para melhor organização\n",
    "df_notas_ds = df_notas_ds.set_index('aluno')\n",
    "\n",
    "# 4. Exibimos o DataFrame com o tema de Ciência de Dados\n",
    "print(df_notas_ds)"
   ]
  },
  {
   "cell_type": "markdown",
   "id": "8ef0cb3f",
   "metadata": {},
   "source": [
    "## DataFrames"
   ]
  },
  {
   "cell_type": "code",
   "execution_count": null,
   "id": "42fdfbe8",
   "metadata": {},
   "outputs": [
    {
     "name": "stdout",
     "output_type": "stream",
     "text": [
      "      complexidade_ciclomatica  cobertura_testes_%  bugs_reportados  \\\n",
      "v1.0                        15                  75               12   \n",
      "v1.1                        25                  85               18   \n",
      "v2.0                        20                  95                5   \n",
      "\n",
      "      performance_ms  \n",
      "v1.0              50  \n",
      "v1.1              80  \n",
      "v2.0              45  \n"
     ]
    }
   ],
   "source": [
    "import pandas as pd\n",
    "\n",
    "indice_versoes = ['v1.0', 'v1.1', 'v2.0']\n",
    "\n",
    "# 2. Criamos um dicionário onde cada chave é uma métrica e cada valor é uma Series\n",
    "metricas_software = {\n",
    "    'complexidade_ciclomatica': pd.Series([15, 25, 20], index=indice_versoes),\n",
    "    'cobertura_testes_%': pd.Series([75, 85, 95], index=indice_versoes),\n",
    "    'bugs_reportados': pd.Series([12, 18, 5], index=indice_versoes),\n",
    "    'performance_ms': pd.Series([50, 80, 45], index=indice_versoes)\n",
    "}\n",
    "\n",
    "# 3. Criamos o DataFrame a partir do dicionário de Series\n",
    "df_metricas_dev = pd.DataFrame(metricas_software)\n",
    "\n",
    "print(df_metricas_dev)"
   ]
  },
  {
   "cell_type": "code",
   "execution_count": 8,
   "id": "9fb05108",
   "metadata": {},
   "outputs": [
    {
     "data": {
      "text/html": [
       "<div>\n",
       "<style scoped>\n",
       "    .dataframe tbody tr th:only-of-type {\n",
       "        vertical-align: middle;\n",
       "    }\n",
       "\n",
       "    .dataframe tbody tr th {\n",
       "        vertical-align: top;\n",
       "    }\n",
       "\n",
       "    .dataframe thead th {\n",
       "        text-align: right;\n",
       "    }\n",
       "</style>\n",
       "<table border=\"1\" class=\"dataframe\">\n",
       "  <thead>\n",
       "    <tr style=\"text-align: right;\">\n",
       "      <th></th>\n",
       "      <th>empresas</th>\n",
       "      <th>price</th>\n",
       "      <th>volume</th>\n",
       "    </tr>\n",
       "  </thead>\n",
       "  <tbody>\n",
       "    <tr>\n",
       "      <th>2019</th>\n",
       "      <td>Wege</td>\n",
       "      <td>20</td>\n",
       "      <td>1000</td>\n",
       "    </tr>\n",
       "    <tr>\n",
       "      <th>2020</th>\n",
       "      <td>Vale</td>\n",
       "      <td>30</td>\n",
       "      <td>4000</td>\n",
       "    </tr>\n",
       "    <tr>\n",
       "      <th>2021</th>\n",
       "      <td>Petrobras</td>\n",
       "      <td>40</td>\n",
       "      <td>7500</td>\n",
       "    </tr>\n",
       "  </tbody>\n",
       "</table>\n",
       "</div>"
      ],
      "text/plain": [
       "       empresas  price  volume\n",
       "2019       Wege     20    1000\n",
       "2020       Vale     30    4000\n",
       "2021  Petrobras     40    7500"
      ]
     },
     "execution_count": 8,
     "metadata": {},
     "output_type": "execute_result"
    }
   ],
   "source": [
    "dicionario_dados = {\n",
    "    \"empresas\": [\"Wege\", \"Vale\", \"Petrobras\"],\n",
    "    \"price\": [20, 30, 40],\n",
    "    \"volume\": [1000, 4000, 7500]\n",
    "}\n",
    "\n",
    "dados_diarios_from_dict = pd.DataFrame(dicionario_dados, index = [\"2019\", \"2020\", \"2021\"])\n",
    "\n",
    "dados_diarios_from_dict"
   ]
  },
  {
   "cell_type": "code",
   "execution_count": 11,
   "id": "b79c8e23",
   "metadata": {},
   "outputs": [
    {
     "data": {
      "text/html": [
       "<div>\n",
       "<style scoped>\n",
       "    .dataframe tbody tr th:only-of-type {\n",
       "        vertical-align: middle;\n",
       "    }\n",
       "\n",
       "    .dataframe tbody tr th {\n",
       "        vertical-align: top;\n",
       "    }\n",
       "\n",
       "    .dataframe thead th {\n",
       "        text-align: right;\n",
       "    }\n",
       "</style>\n",
       "<table border=\"1\" class=\"dataframe\">\n",
       "  <thead>\n",
       "    <tr style=\"text-align: right;\">\n",
       "      <th></th>\n",
       "      <th>volume</th>\n",
       "      <th>price</th>\n",
       "      <th>teste</th>\n",
       "    </tr>\n",
       "  </thead>\n",
       "  <tbody>\n",
       "    <tr>\n",
       "      <th>2019</th>\n",
       "      <td>1000</td>\n",
       "      <td>20</td>\n",
       "      <td>NaN</td>\n",
       "    </tr>\n",
       "    <tr>\n",
       "      <th>2020</th>\n",
       "      <td>4000</td>\n",
       "      <td>30</td>\n",
       "      <td>NaN</td>\n",
       "    </tr>\n",
       "    <tr>\n",
       "      <th>2021</th>\n",
       "      <td>7500</td>\n",
       "      <td>40</td>\n",
       "      <td>NaN</td>\n",
       "    </tr>\n",
       "  </tbody>\n",
       "</table>\n",
       "</div>"
      ],
      "text/plain": [
       "      volume  price teste\n",
       "2019    1000     20   NaN\n",
       "2020    4000     30   NaN\n",
       "2021    7500     40   NaN"
      ]
     },
     "execution_count": 11,
     "metadata": {},
     "output_type": "execute_result"
    }
   ],
   "source": [
    "#escolhendo colunas\n",
    "\n",
    "dicionario_dados = {\n",
    "    \"empresas\": [\"Wege\", \"Vale\", \"Petrobras\"],\n",
    "    \"price\": [20, 30, 40],\n",
    "    \"volume\": [1000, 4000, 7500]\n",
    "}\n",
    "\n",
    "dados_diarios_from_dict = pd.DataFrame(dicionario_dados, index = [\"2019\", \"2020\", \"2021\"],\n",
    "                                      columns = [\"volume\", \"price\", \"teste\"])\n",
    "\n",
    "dados_diarios_from_dict"
   ]
  },
  {
   "cell_type": "code",
   "execution_count": 15,
   "id": "972970e3",
   "metadata": {},
   "outputs": [
    {
     "data": {
      "text/html": [
       "<div>\n",
       "<style scoped>\n",
       "    .dataframe tbody tr th:only-of-type {\n",
       "        vertical-align: middle;\n",
       "    }\n",
       "\n",
       "    .dataframe tbody tr th {\n",
       "        vertical-align: top;\n",
       "    }\n",
       "\n",
       "    .dataframe thead th {\n",
       "        text-align: right;\n",
       "    }\n",
       "</style>\n",
       "<table border=\"1\" class=\"dataframe\">\n",
       "  <thead>\n",
       "    <tr style=\"text-align: right;\">\n",
       "      <th></th>\n",
       "      <th>cotacao</th>\n",
       "      <th>dia</th>\n",
       "    </tr>\n",
       "  </thead>\n",
       "  <tbody>\n",
       "    <tr>\n",
       "      <th>0</th>\n",
       "      <td>20</td>\n",
       "      <td>2019-12-21</td>\n",
       "    </tr>\n",
       "  </tbody>\n",
       "</table>\n",
       "</div>"
      ],
      "text/plain": [
       "   cotacao         dia\n",
       "0       20  2019-12-21"
      ]
     },
     "execution_count": 15,
     "metadata": {},
     "output_type": "execute_result"
    }
   ],
   "source": [
    "#cuidado\n",
    "\n",
    "dado = {\"cotacao\": 20, \"dia\": \"2019-12-21\"}\n",
    "\n",
    "dataframe = pd.DataFrame(dado, index = [0])\n",
    "\n",
    "dataframe"
   ]
  },
  {
   "cell_type": "markdown",
   "id": "cbd4c1ba",
   "metadata": {},
   "source": [
    "# Exercícios\n",
    "\n",
    "* Exercício 34: Crie uma série de numeros.   \n",
    "* Exercício 35: Crie uma série de cotação randomica (random walk) para os próximos 30 dias de uma ação, partindo do preço inicial definido pelo usuário. Pressuponha que a média de retornos da ação é zero e seu desvio padrão diário (volatilidade) é de 1%.  \n",
    "* Exercício 36: Crie um DataFrame com as seguintes informações:\n",
    "       tickers: “WEGE3”, \"PETR3\", \"VALE3\", \"PETR4\" e \"LREN3\"\n",
    "       cotacoes: 20, 30, 40, 12, 35  \n",
    "       nomes: \"Weg\", \"Petrobras\", \"Vale\", \"Petrobras\" e \"Lojas Renner\"\n",
    "       preco_sobre_lucro: 25, 6, 12, 7, 25  \n",
    "       volume: 5000, 1000, 4000, 7000, 1200\n",
    "       "
   ]
  },
  {
   "cell_type": "code",
   "execution_count": null,
   "id": "98705bd0",
   "metadata": {},
   "outputs": [],
   "source": [
    "#34\n",
    "\n"
   ]
  },
  {
   "cell_type": "code",
   "execution_count": null,
   "id": "5a0f8cb3",
   "metadata": {},
   "outputs": [],
   "source": [
    "#35\n",
    "\n"
   ]
  },
  {
   "cell_type": "code",
   "execution_count": null,
   "id": "ddc6cb6f",
   "metadata": {},
   "outputs": [],
   "source": [
    "#36\n",
    "\n"
   ]
  },
  {
   "cell_type": "code",
   "execution_count": 16,
   "id": "dc4674e7",
   "metadata": {},
   "outputs": [
    {
     "data": {
      "text/plain": [
       "0    20\n",
       "1    30\n",
       "2    40\n",
       "3    50\n",
       "dtype: int64"
      ]
     },
     "execution_count": 16,
     "metadata": {},
     "output_type": "execute_result"
    }
   ],
   "source": [
    "#gabarito 34\n",
    "\n",
    "numeros = [20, 30, 40, 50]\n",
    "\n",
    "serie = pd.Series(numeros)\n",
    "\n",
    "serie"
   ]
  },
  {
   "cell_type": "code",
   "execution_count": 18,
   "id": "da7740b2",
   "metadata": {},
   "outputs": [
    {
     "name": "stdout",
     "output_type": "stream",
     "text": [
      "Qual a cotação inicial da ação? 20\n",
      "0     20.000000\n",
      "1     19.977503\n",
      "2     19.868235\n",
      "3     19.624427\n",
      "4     19.837737\n",
      "5     19.884704\n",
      "6     19.919547\n",
      "7     19.866445\n",
      "8     19.875269\n",
      "9     20.058010\n",
      "10    20.017889\n",
      "11    20.255010\n",
      "12    20.451672\n",
      "13    20.601000\n",
      "14    20.529565\n",
      "15    20.458072\n",
      "16    20.250645\n",
      "17    20.298620\n",
      "18    20.764482\n",
      "19    20.699155\n",
      "20    20.659159\n",
      "21    20.529056\n",
      "22    20.424802\n",
      "23    20.422287\n",
      "24    20.316566\n",
      "25    20.024342\n",
      "26    20.393111\n",
      "27    20.299427\n",
      "28    20.282626\n",
      "29    20.306060\n",
      "dtype: float64\n"
     ]
    }
   ],
   "source": [
    "#gabarito 35\n",
    "import random\n",
    "\n",
    "cotacao_inicial = float(input(\"Qual a cotação inicial da ação? \"))\n",
    "\n",
    "periodo_projecao = 30\n",
    "lista_cotacoes = [cotacao_inicial]\n",
    "lista_dias = [0]\n",
    "volatilidade_diaria = 0.01\n",
    "\n",
    "for i in range(1, periodo_projecao):\n",
    "    \n",
    "    cotacao_seguinte = lista_cotacoes[-1] * (1 + np.random.normal(0, volatilidade_diaria))\n",
    "    \n",
    "    lista_cotacoes.append(cotacao_seguinte)\n",
    "    lista_dias.append(i)\n",
    "    \n",
    "serie_final = pd.Series(lista_cotacoes, index = lista_dias)\n",
    "\n",
    "print(serie_final)"
   ]
  },
  {
   "cell_type": "code",
   "execution_count": 19,
   "id": "aeeb27fb",
   "metadata": {},
   "outputs": [
    {
     "data": {
      "text/plain": [
       "<AxesSubplot:>"
      ]
     },
     "execution_count": 19,
     "metadata": {},
     "output_type": "execute_result"
    },
    {
     "data": {
      "image/png": "[encoded data removed]",
      "text/plain": [
       "<Figure size 432x288 with 1 Axes>"
      ]
     },
     "metadata": {
      "needs_background": "light"
     },
     "output_type": "display_data"
    }
   ],
   "source": [
    "#gabarito 35 bonus\n",
    "\n",
    "serie_final.plot()"
   ]
  },
  {
   "cell_type": "code",
   "execution_count": 20,
   "id": "b1ec1c3d",
   "metadata": {},
   "outputs": [
    {
     "data": {
      "text/html": [
       "<div>\n",
       "<style scoped>\n",
       "    .dataframe tbody tr th:only-of-type {\n",
       "        vertical-align: middle;\n",
       "    }\n",
       "\n",
       "    .dataframe tbody tr th {\n",
       "        vertical-align: top;\n",
       "    }\n",
       "\n",
       "    .dataframe thead th {\n",
       "        text-align: right;\n",
       "    }\n",
       "</style>\n",
       "<table border=\"1\" class=\"dataframe\">\n",
       "  <thead>\n",
       "    <tr style=\"text-align: right;\">\n",
       "      <th></th>\n",
       "      <th>nomes</th>\n",
       "      <th>tickers</th>\n",
       "      <th>cotacoes</th>\n",
       "      <th>preco_sobre_lucro</th>\n",
       "      <th>volume</th>\n",
       "    </tr>\n",
       "  </thead>\n",
       "  <tbody>\n",
       "    <tr>\n",
       "      <th>0</th>\n",
       "      <td>Weg</td>\n",
       "      <td>WEGE3</td>\n",
       "      <td>20</td>\n",
       "      <td>25</td>\n",
       "      <td>5000</td>\n",
       "    </tr>\n",
       "    <tr>\n",
       "      <th>1</th>\n",
       "      <td>Petrobras</td>\n",
       "      <td>PETR3</td>\n",
       "      <td>30</td>\n",
       "      <td>6</td>\n",
       "      <td>1000</td>\n",
       "    </tr>\n",
       "    <tr>\n",
       "      <th>2</th>\n",
       "      <td>Vale</td>\n",
       "      <td>VALE3</td>\n",
       "      <td>40</td>\n",
       "      <td>12</td>\n",
       "      <td>4000</td>\n",
       "    </tr>\n",
       "    <tr>\n",
       "      <th>3</th>\n",
       "      <td>Petrobras</td>\n",
       "      <td>PETR4</td>\n",
       "      <td>12</td>\n",
       "      <td>7</td>\n",
       "      <td>7000</td>\n",
       "    </tr>\n",
       "    <tr>\n",
       "      <th>4</th>\n",
       "      <td>Lojas Renner</td>\n",
       "      <td>LREN3</td>\n",
       "      <td>35</td>\n",
       "      <td>25</td>\n",
       "      <td>1200</td>\n",
       "    </tr>\n",
       "  </tbody>\n",
       "</table>\n",
       "</div>"
      ],
      "text/plain": [
       "          nomes tickers  cotacoes  preco_sobre_lucro  volume\n",
       "0           Weg   WEGE3        20                 25    5000\n",
       "1     Petrobras   PETR3        30                  6    1000\n",
       "2          Vale   VALE3        40                 12    4000\n",
       "3     Petrobras   PETR4        12                  7    7000\n",
       "4  Lojas Renner   LREN3        35                 25    1200"
      ]
     },
     "execution_count": 20,
     "metadata": {},
     "output_type": "execute_result"
    }
   ],
   "source": [
    "#gabarito 36 \n",
    "\n",
    "dicionario = {\n",
    "       \"nomes\": [\"Weg\", \"Petrobras\", \"Vale\", \"Petrobras\", \"Lojas Renner\"],\n",
    "       \"tickers\": [\"WEGE3\", \"PETR3\", \"VALE3\", \"PETR4\", \"LREN3\"],  \n",
    "       \"cotacoes\": [20, 30, 40, 12, 35],\n",
    "       \"preco_sobre_lucro\": [25, 6, 12, 7, 25],  \n",
    "       \"volume\": [5000, 1000, 4000, 7000, 1200]\n",
    "}\n",
    "\n",
    "df_info_empresas = pd.DataFrame(dicionario)\n",
    "\n",
    "df_info_empresas"
   ]
  },
  {
   "cell_type": "markdown",
   "id": "0ff8d56d",
   "metadata": {},
   "source": [
    "# Mundo 3\n",
    "\n",
    "Nesse mundo 2 nós vemos como criar séries e Dataframes, mas faltou abordar um tópico muito importante na criação dessas estruturas: índices! \n",
    "\n"
   ]
  },
  {
   "cell_type": "code",
   "execution_count": null,
   "id": "63374afa",
   "metadata": {},
   "outputs": [],
   "source": []
  }
 ],
 "metadata": {
  "kernelspec": {
   "display_name": "Python 3",
   "language": "python",
   "name": "python3"
  },
  "language_info": {
   "codemirror_mode": {
    "name": "ipython",
    "version": 3
   },
   "file_extension": ".py",
   "mimetype": "text/x-python",
   "name": "python",
   "nbconvert_exporter": "python",
   "pygments_lexer": "ipython3",
   "version": "3.10.12"
  }
 },
 "nbformat": 4,
 "nbformat_minor": 5
}
