{
 "cells": [
  {
   "cell_type": "markdown",
   "id": "e4bded77",
   "metadata": {},
   "source": [
    "# Volume IV\n",
    "### Introdução ao Pandas"
   ]
  },
  {
   "cell_type": "code",
   "execution_count": null,
   "id": "0d0bf646",
   "metadata": {},
   "outputs": [],
   "source": [
    "import pandas as pd"
   ]
  },
  {
   "cell_type": "code",
   "execution_count": null,
   "id": "2c164d8e",
   "metadata": {},
   "outputs": [
    {
     "name": "stdout",
     "output_type": "stream",
     "text": [
      "             banco  lucro_liquido_bi   ano\n",
      "0    Itaú Unibanco              35.6  2022\n",
      "1         Bradesco              28.6  2022\n",
      "2  Banco do Brasil              33.8  2022\n",
      "3    Itaú Unibanco              37.1  2023\n",
      "4         Bradesco              30.2  2023\n",
      "5  Banco do Brasil              35.9  2023\n"
     ]
    }
   ],
   "source": [
    "# Criação do DataFrame com dados de bancos brasileiros\n",
    "df_bancos = pd.DataFrame({\n",
    "    \"banco\": ['Itaú Unibanco', 'Bradesco', 'Banco do Brasil'] * 2,\n",
    "    \"lucro_liquido_bi\": [35.6, 28.6, 33.8, 37.1, 30.2, 35.9],\n",
    "    \"ano\": sorted([2022, 2023] * 3)\n",
    "})\n",
    "\n",
    "# Exibe o DataFrame criado\n",
    "print(df_bancos)"
   ]
  },
  {
   "cell_type": "code",
   "execution_count": null,
   "id": "772f3f9b",
   "metadata": {},
   "outputs": [
    {
     "name": "stdout",
     "output_type": "stream",
     "text": [
      "Index(['banco', 'lucro_liquido_bi', 'ano'], dtype='object')\n"
     ]
    }
   ],
   "source": [
    "# Criando o DataFrame de exemplo\n",
    "df_bancos = pd.DataFrame({\n",
    "    \"banco\": ['Itaú Unibanco', 'Bradesco', 'Banco do Brasil'] * 2,\n",
    "    \"lucro_liquido_bi\": [35.6, 28.6, 33.8, 37.1, 30.2, 35.9],\n",
    "    \"ano\": sorted([2022, 2023] * 3)\n",
    "})\n",
    "\n",
    "# Acessando o atributo .columns\n",
    "nomes_das_colunas = df_bancos.columns\n",
    "print(nomes_das_colunas)"
   ]
  },
  {
   "cell_type": "code",
   "execution_count": 3,
   "id": "fdb8f1ef",
   "metadata": {},
   "outputs": [
    {
     "name": "stdout",
     "output_type": "stream",
     "text": [
      "['banco', 'lucro_liquido_bi', 'ano']\n"
     ]
    }
   ],
   "source": [
    "# Convertendo os nomes das colunas para uma lista Python\n",
    "lista_de_colunas = df_bancos.columns.tolist()\n",
    "\n",
    "print(lista_de_colunas)"
   ]
  },
  {
   "cell_type": "code",
   "execution_count": 4,
   "id": "971a0635",
   "metadata": {},
   "outputs": [
    {
     "name": "stdout",
     "output_type": "stream",
     "text": [
      "Colunas antes: Index(['banco', 'lucro_liquido_bi', 'ano'], dtype='object')\n",
      "Colunas depois: Index(['Instituicao Financeira', 'Lucro (Bi)', 'Ano Fiscal'], dtype='object')\n",
      "\n",
      "DataFrame com novas colunas:\n",
      "  Instituicao Financeira  Lucro (Bi)  Ano Fiscal\n",
      "0          Itaú Unibanco        35.6        2022\n",
      "1               Bradesco        28.6        2022\n",
      "2        Banco do Brasil        33.8        2022\n",
      "3          Itaú Unibanco        37.1        2023\n",
      "4               Bradesco        30.2        2023\n"
     ]
    }
   ],
   "source": [
    "print(\"Colunas antes:\", df_bancos.columns)\n",
    "\n",
    "# Renomeando todas as colunas\n",
    "df_bancos.columns = ['Instituicao Financeira', 'Lucro (Bi)', 'Ano Fiscal']\n",
    "\n",
    "print(\"Colunas depois:\", df_bancos.columns)\n",
    "print(\"\\nDataFrame com novas colunas:\")\n",
    "print(df_bancos.head()) # .head() mostra as 5 primeiras linhas"
   ]
  },
  {
   "cell_type": "code",
   "execution_count": null,
   "id": "12d1fde5",
   "metadata": {},
   "outputs": [
    {
     "name": "stdout",
     "output_type": "stream",
     "text": [
      "Colunas originais: Index(['Nome Cliente ', '  Idade', 'CIDADE_RESIDENCIA'], dtype='object')\n",
      "Colunas limpas: Index(['nome cliente', 'idade', 'cidade residencia'], dtype='object')\n"
     ]
    }
   ],
   "source": [
    "# Criando um DataFrame com nomes de colunas \"sujos\"\n",
    "df_sujo = pd.DataFrame({\n",
    "    'Nome Cliente ': ['Ana', 'Bruno'], # Espaço no final\n",
    "    '  Idade': [25, 30],               # Espaço no início\n",
    "    'CIDADE_RESIDENCIA': ['SP', 'RJ']  # Tudo maiúsculo\n",
    "})\n",
    "\n",
    "print(\"Colunas originais:\", df_sujo.columns)\n",
    "\n",
    "# Limpando os nomes das colunas:\n",
    "df_sujo.columns = df_sujo.columns.str.strip().str.lower().str.replace('_', ' ')\n",
    "\n",
    "print(\"Colunas limpas:\", df_sujo.columns)"
   ]
  },
  {
   "cell_type": "code",
   "execution_count": null,
   "id": "89c7beed",
   "metadata": {},
   "outputs": [
    {
     "name": "stdout",
     "output_type": "stream",
     "text": [
      "Analisando a coluna: 'banco'\n",
      " -> Tipo de dado: object\n",
      "\n",
      "Analisando a coluna: 'lucro_liquido_bi'\n",
      " -> Tipo de dado: float64\n",
      "\n",
      "Analisando a coluna: 'ano'\n",
      " -> Tipo de dado: int64\n",
      "\n"
     ]
    }
   ],
   "source": [
    "# Usando o DataFrame dos bancos novamente\n",
    "# Resetando os nomes\n",
    "df_bancos.columns = ['banco', 'lucro_liquido_bi', 'ano'] \n",
    "\n",
    "for coluna in df_bancos.columns:\n",
    "    print(f\"Analisando a coluna: '{coluna}'\")\n",
    "    # Aqui você poderia, por exemplo, verificar o tipo de dados de cada coluna\n",
    "    print(f\" -> Tipo de dado: {df_bancos[coluna].dtype}\\n\")"
   ]
  },
  {
   "cell_type": "code",
   "execution_count": null,
   "id": "51b77fa9",
   "metadata": {},
   "outputs": [
    {
     "name": "stdout",
     "output_type": "stream",
     "text": [
      "             banco  lucro_liquido_bi   ano\n",
      "0    Itaú Unibanco              35.6  2022\n",
      "1         Bradesco              28.6  2022\n",
      "2  Banco do Brasil              33.8  2022\n",
      "3    Itaú Unibanco              37.1  2023\n",
      "4         Bradesco              30.2  2023\n",
      "5  Banco do Brasil              35.9  2023\n"
     ]
    }
   ],
   "source": [
    "import pandas as pd\n",
    "\n",
    "df_bancos = pd.DataFrame({\n",
    "    \"banco\": ['Itaú Unibanco', 'Bradesco', 'Banco do Brasil', \n",
    "              'Itaú Unibanco', 'Bradesco', 'Banco do Brasil'],\n",
    "    \"lucro_liquido_bi\": [35.6, 28.6, 33.8, 37.1, 30.2, 35.9],\n",
    "    \"ano\": [2022, 2022, 2022, 2023, 2023, 2023]\n",
    "})\n",
    "\n",
    "print(df_bancos)"
   ]
  },
  {
   "cell_type": "code",
   "execution_count": 9,
   "id": "69a4dd8d",
   "metadata": {},
   "outputs": [
    {
     "name": "stdout",
     "output_type": "stream",
     "text": [
      "0    False\n",
      "1     True\n",
      "2     True\n",
      "3    False\n",
      "4     True\n",
      "5    False\n",
      "Name: lucro_liquido_bi, dtype: bool\n"
     ]
    }
   ],
   "source": [
    "# A pergunta gera um vetor (Series) booleano\n",
    "pergunta = df_bancos['lucro_liquido_bi'] < 35\n",
    "print(pergunta)"
   ]
  },
  {
   "cell_type": "code",
   "execution_count": 10,
   "id": "bea473fa",
   "metadata": {},
   "outputs": [
    {
     "name": "stdout",
     "output_type": "stream",
     "text": [
      "             banco  lucro_liquido_bi   ano\n",
      "1         Bradesco              28.6  2022\n",
      "2  Banco do Brasil              33.8  2022\n",
      "4         Bradesco              30.2  2023\n"
     ]
    }
   ],
   "source": [
    "# Aplicando a máscara ao DataFrame original\n",
    "bancos_com_lucro_menor_que_35 = df_bancos[pergunta]\n",
    "\n",
    "print(bancos_com_lucro_menor_que_35)"
   ]
  },
  {
   "cell_type": "markdown",
   "id": "fc111e61",
   "metadata": {},
   "source": [
    "# Exercícios\n",
    "\n",
    "* Exercício 40: Mude o nome da coluna do dataframe do exercício 39 de \"cotacoes\" para \"precos\".\n",
    "* Exercício 41: Selecione a coluna de preços do dataframe estudado.\n",
    "* Exercício 42: Selecione as duas últimas colunas do dataframe estudado.\n",
    "* Exercício 43: Selecione as informações da Petrobras no dataframe estudado.\n",
    "* Exercício 44: Selecione apenas empresas com P/L menor que 20.\n",
    "* Exercício 45: Selecione empresas com P/L maior que 10 e volume maior que 2000.\n",
    "* Exercício 46: Selecione empresas que a cotação seja maior que 20 ou o volume é maior que 4000."
   ]
  },
  {
   "cell_type": "code",
   "execution_count": null,
   "id": "a5eca4eb",
   "metadata": {},
   "outputs": [],
   "source": []
  },
  {
   "cell_type": "code",
   "execution_count": null,
   "id": "a06146e6",
   "metadata": {},
   "outputs": [],
   "source": []
  },
  {
   "cell_type": "code",
   "execution_count": null,
   "id": "8d34314f",
   "metadata": {},
   "outputs": [],
   "source": []
  },
  {
   "cell_type": "code",
   "execution_count": null,
   "id": "fb997c09",
   "metadata": {},
   "outputs": [],
   "source": []
  },
  {
   "cell_type": "code",
   "execution_count": null,
   "id": "a171bd17",
   "metadata": {},
   "outputs": [],
   "source": []
  },
  {
   "cell_type": "code",
   "execution_count": null,
   "id": "4c7e0335",
   "metadata": {},
   "outputs": [],
   "source": []
  },
  {
   "cell_type": "code",
   "execution_count": null,
   "id": "83b7f129",
   "metadata": {},
   "outputs": [],
   "source": []
  },
  {
   "cell_type": "code",
   "execution_count": 13,
   "id": "409f9ecb",
   "metadata": {},
   "outputs": [
    {
     "data": {
      "text/html": [
       "<div>\n",
       "<style scoped>\n",
       "    .dataframe tbody tr th:only-of-type {\n",
       "        vertical-align: middle;\n",
       "    }\n",
       "\n",
       "    .dataframe tbody tr th {\n",
       "        vertical-align: top;\n",
       "    }\n",
       "\n",
       "    .dataframe thead th {\n",
       "        text-align: right;\n",
       "    }\n",
       "</style>\n",
       "<table border=\"1\" class=\"dataframe\">\n",
       "  <thead>\n",
       "    <tr style=\"text-align: right;\">\n",
       "      <th></th>\n",
       "      <th>nomes</th>\n",
       "      <th>precos</th>\n",
       "      <th>preco_sobre_lucro</th>\n",
       "      <th>volume</th>\n",
       "    </tr>\n",
       "    <tr>\n",
       "      <th>tickers</th>\n",
       "      <th></th>\n",
       "      <th></th>\n",
       "      <th></th>\n",
       "      <th></th>\n",
       "    </tr>\n",
       "  </thead>\n",
       "  <tbody>\n",
       "    <tr>\n",
       "      <th>WEGE3</th>\n",
       "      <td>Weg</td>\n",
       "      <td>20</td>\n",
       "      <td>25</td>\n",
       "      <td>5000</td>\n",
       "    </tr>\n",
       "    <tr>\n",
       "      <th>PETR3</th>\n",
       "      <td>Petrobras</td>\n",
       "      <td>30</td>\n",
       "      <td>6</td>\n",
       "      <td>1000</td>\n",
       "    </tr>\n",
       "    <tr>\n",
       "      <th>VALE3</th>\n",
       "      <td>Vale</td>\n",
       "      <td>40</td>\n",
       "      <td>12</td>\n",
       "      <td>4000</td>\n",
       "    </tr>\n",
       "    <tr>\n",
       "      <th>PETR4</th>\n",
       "      <td>Petrobras</td>\n",
       "      <td>12</td>\n",
       "      <td>7</td>\n",
       "      <td>7000</td>\n",
       "    </tr>\n",
       "    <tr>\n",
       "      <th>LREN3</th>\n",
       "      <td>Lojas Renner</td>\n",
       "      <td>35</td>\n",
       "      <td>25</td>\n",
       "      <td>1200</td>\n",
       "    </tr>\n",
       "  </tbody>\n",
       "</table>\n",
       "</div>"
      ],
      "text/plain": [
       "                nomes  precos  preco_sobre_lucro  volume\n",
       "tickers                                                 \n",
       "WEGE3             Weg      20                 25    5000\n",
       "PETR3       Petrobras      30                  6    1000\n",
       "VALE3            Vale      40                 12    4000\n",
       "PETR4       Petrobras      12                  7    7000\n",
       "LREN3    Lojas Renner      35                 25    1200"
      ]
     },
     "execution_count": 13,
     "metadata": {},
     "output_type": "execute_result"
    }
   ],
   "source": [
    "#gabarito 40\n",
    "\n",
    "dicionario = {\n",
    "       \"nomes\": [\"Weg\", \"Petrobras\", \"Vale\", \"Petrobras\", \"Lojas Renner\"],\n",
    "       \"tickers\": [\"WEGE3\", \"PETR3\", \"VALE3\", \"PETR4\", \"LREN3\"],  \n",
    "       \"cotacoes\": [20, 30, 40, 12, 35],\n",
    "       \"preco_sobre_lucro\": [25, 6, 12, 7, 25],  \n",
    "       \"volume\": [5000, 1000, 4000, 7000, 1200]\n",
    "}\n",
    "\n",
    "df_info_empresas = pd.DataFrame(dicionario)\n",
    "\n",
    "df_info_empresas = df_info_empresas.set_index(\"tickers\")\n",
    "\n",
    "df_info_empresas.columns = ['nomes', 'precos', 'preco_sobre_lucro', 'volume']\n",
    "\n",
    "df_info_empresas"
   ]
  },
  {
   "cell_type": "code",
   "execution_count": 14,
   "id": "91edae30",
   "metadata": {},
   "outputs": [
    {
     "data": {
      "text/plain": [
       "tickers\n",
       "WEGE3    20\n",
       "PETR3    30\n",
       "VALE3    40\n",
       "PETR4    12\n",
       "LREN3    35\n",
       "Name: precos, dtype: int64"
      ]
     },
     "execution_count": 14,
     "metadata": {},
     "output_type": "execute_result"
    }
   ],
   "source": [
    "#gabarito 41\n",
    "\n",
    "precinho = df_info_empresas['precos']\n",
    "precinho"
   ]
  },
  {
   "cell_type": "code",
   "execution_count": 15,
   "id": "c7ba6d0e",
   "metadata": {},
   "outputs": [
    {
     "data": {
      "text/html": [
       "<div>\n",
       "<style scoped>\n",
       "    .dataframe tbody tr th:only-of-type {\n",
       "        vertical-align: middle;\n",
       "    }\n",
       "\n",
       "    .dataframe tbody tr th {\n",
       "        vertical-align: top;\n",
       "    }\n",
       "\n",
       "    .dataframe thead th {\n",
       "        text-align: right;\n",
       "    }\n",
       "</style>\n",
       "<table border=\"1\" class=\"dataframe\">\n",
       "  <thead>\n",
       "    <tr style=\"text-align: right;\">\n",
       "      <th></th>\n",
       "      <th>preco_sobre_lucro</th>\n",
       "      <th>volume</th>\n",
       "    </tr>\n",
       "    <tr>\n",
       "      <th>tickers</th>\n",
       "      <th></th>\n",
       "      <th></th>\n",
       "    </tr>\n",
       "  </thead>\n",
       "  <tbody>\n",
       "    <tr>\n",
       "      <th>WEGE3</th>\n",
       "      <td>25</td>\n",
       "      <td>5000</td>\n",
       "    </tr>\n",
       "    <tr>\n",
       "      <th>PETR3</th>\n",
       "      <td>6</td>\n",
       "      <td>1000</td>\n",
       "    </tr>\n",
       "    <tr>\n",
       "      <th>VALE3</th>\n",
       "      <td>12</td>\n",
       "      <td>4000</td>\n",
       "    </tr>\n",
       "    <tr>\n",
       "      <th>PETR4</th>\n",
       "      <td>7</td>\n",
       "      <td>7000</td>\n",
       "    </tr>\n",
       "    <tr>\n",
       "      <th>LREN3</th>\n",
       "      <td>25</td>\n",
       "      <td>1200</td>\n",
       "    </tr>\n",
       "  </tbody>\n",
       "</table>\n",
       "</div>"
      ],
      "text/plain": [
       "         preco_sobre_lucro  volume\n",
       "tickers                           \n",
       "WEGE3                   25    5000\n",
       "PETR3                    6    1000\n",
       "VALE3                   12    4000\n",
       "PETR4                    7    7000\n",
       "LREN3                   25    1200"
      ]
     },
     "execution_count": 15,
     "metadata": {},
     "output_type": "execute_result"
    }
   ],
   "source": [
    "#gabarito 42\n",
    "\n",
    "pl_e_volume = df_info_empresas[['preco_sobre_lucro', 'volume']]\n",
    "pl_e_volume"
   ]
  },
  {
   "cell_type": "code",
   "execution_count": 16,
   "id": "ef1a5926",
   "metadata": {},
   "outputs": [
    {
     "data": {
      "text/html": [
       "<div>\n",
       "<style scoped>\n",
       "    .dataframe tbody tr th:only-of-type {\n",
       "        vertical-align: middle;\n",
       "    }\n",
       "\n",
       "    .dataframe tbody tr th {\n",
       "        vertical-align: top;\n",
       "    }\n",
       "\n",
       "    .dataframe thead th {\n",
       "        text-align: right;\n",
       "    }\n",
       "</style>\n",
       "<table border=\"1\" class=\"dataframe\">\n",
       "  <thead>\n",
       "    <tr style=\"text-align: right;\">\n",
       "      <th></th>\n",
       "      <th>nomes</th>\n",
       "      <th>precos</th>\n",
       "      <th>preco_sobre_lucro</th>\n",
       "      <th>volume</th>\n",
       "    </tr>\n",
       "    <tr>\n",
       "      <th>tickers</th>\n",
       "      <th></th>\n",
       "      <th></th>\n",
       "      <th></th>\n",
       "      <th></th>\n",
       "    </tr>\n",
       "  </thead>\n",
       "  <tbody>\n",
       "    <tr>\n",
       "      <th>PETR3</th>\n",
       "      <td>Petrobras</td>\n",
       "      <td>30</td>\n",
       "      <td>6</td>\n",
       "      <td>1000</td>\n",
       "    </tr>\n",
       "    <tr>\n",
       "      <th>PETR4</th>\n",
       "      <td>Petrobras</td>\n",
       "      <td>12</td>\n",
       "      <td>7</td>\n",
       "      <td>7000</td>\n",
       "    </tr>\n",
       "  </tbody>\n",
       "</table>\n",
       "</div>"
      ],
      "text/plain": [
       "             nomes  precos  preco_sobre_lucro  volume\n",
       "tickers                                              \n",
       "PETR3    Petrobras      30                  6    1000\n",
       "PETR4    Petrobras      12                  7    7000"
      ]
     },
     "execution_count": 16,
     "metadata": {},
     "output_type": "execute_result"
    }
   ],
   "source": [
    "#gabarito 43\n",
    "\n",
    "petrobras = df_info_empresas[df_info_empresas['nomes'] == \"Petrobras\"]\n",
    "petrobras"
   ]
  },
  {
   "cell_type": "code",
   "execution_count": 17,
   "id": "a05bbc66",
   "metadata": {},
   "outputs": [
    {
     "data": {
      "text/html": [
       "<div>\n",
       "<style scoped>\n",
       "    .dataframe tbody tr th:only-of-type {\n",
       "        vertical-align: middle;\n",
       "    }\n",
       "\n",
       "    .dataframe tbody tr th {\n",
       "        vertical-align: top;\n",
       "    }\n",
       "\n",
       "    .dataframe thead th {\n",
       "        text-align: right;\n",
       "    }\n",
       "</style>\n",
       "<table border=\"1\" class=\"dataframe\">\n",
       "  <thead>\n",
       "    <tr style=\"text-align: right;\">\n",
       "      <th></th>\n",
       "      <th>nomes</th>\n",
       "      <th>precos</th>\n",
       "      <th>preco_sobre_lucro</th>\n",
       "      <th>volume</th>\n",
       "    </tr>\n",
       "    <tr>\n",
       "      <th>tickers</th>\n",
       "      <th></th>\n",
       "      <th></th>\n",
       "      <th></th>\n",
       "      <th></th>\n",
       "    </tr>\n",
       "  </thead>\n",
       "  <tbody>\n",
       "    <tr>\n",
       "      <th>PETR3</th>\n",
       "      <td>Petrobras</td>\n",
       "      <td>30</td>\n",
       "      <td>6</td>\n",
       "      <td>1000</td>\n",
       "    </tr>\n",
       "    <tr>\n",
       "      <th>VALE3</th>\n",
       "      <td>Vale</td>\n",
       "      <td>40</td>\n",
       "      <td>12</td>\n",
       "      <td>4000</td>\n",
       "    </tr>\n",
       "    <tr>\n",
       "      <th>PETR4</th>\n",
       "      <td>Petrobras</td>\n",
       "      <td>12</td>\n",
       "      <td>7</td>\n",
       "      <td>7000</td>\n",
       "    </tr>\n",
       "  </tbody>\n",
       "</table>\n",
       "</div>"
      ],
      "text/plain": [
       "             nomes  precos  preco_sobre_lucro  volume\n",
       "tickers                                              \n",
       "PETR3    Petrobras      30                  6    1000\n",
       "VALE3         Vale      40                 12    4000\n",
       "PETR4    Petrobras      12                  7    7000"
      ]
     },
     "execution_count": 17,
     "metadata": {},
     "output_type": "execute_result"
    }
   ],
   "source": [
    "#gabarito 44\n",
    "\n",
    "pl_menor_20 = df_info_empresas[df_info_empresas['preco_sobre_lucro'] < 20]\n",
    "pl_menor_20"
   ]
  },
  {
   "cell_type": "code",
   "execution_count": 18,
   "id": "5f5c6e7f",
   "metadata": {},
   "outputs": [
    {
     "data": {
      "text/html": [
       "<div>\n",
       "<style scoped>\n",
       "    .dataframe tbody tr th:only-of-type {\n",
       "        vertical-align: middle;\n",
       "    }\n",
       "\n",
       "    .dataframe tbody tr th {\n",
       "        vertical-align: top;\n",
       "    }\n",
       "\n",
       "    .dataframe thead th {\n",
       "        text-align: right;\n",
       "    }\n",
       "</style>\n",
       "<table border=\"1\" class=\"dataframe\">\n",
       "  <thead>\n",
       "    <tr style=\"text-align: right;\">\n",
       "      <th></th>\n",
       "      <th>nomes</th>\n",
       "      <th>precos</th>\n",
       "      <th>preco_sobre_lucro</th>\n",
       "      <th>volume</th>\n",
       "    </tr>\n",
       "    <tr>\n",
       "      <th>tickers</th>\n",
       "      <th></th>\n",
       "      <th></th>\n",
       "      <th></th>\n",
       "      <th></th>\n",
       "    </tr>\n",
       "  </thead>\n",
       "  <tbody>\n",
       "    <tr>\n",
       "      <th>WEGE3</th>\n",
       "      <td>Weg</td>\n",
       "      <td>20</td>\n",
       "      <td>25</td>\n",
       "      <td>5000</td>\n",
       "    </tr>\n",
       "    <tr>\n",
       "      <th>VALE3</th>\n",
       "      <td>Vale</td>\n",
       "      <td>40</td>\n",
       "      <td>12</td>\n",
       "      <td>4000</td>\n",
       "    </tr>\n",
       "  </tbody>\n",
       "</table>\n",
       "</div>"
      ],
      "text/plain": [
       "        nomes  precos  preco_sobre_lucro  volume\n",
       "tickers                                         \n",
       "WEGE3     Weg      20                 25    5000\n",
       "VALE3    Vale      40                 12    4000"
      ]
     },
     "execution_count": 18,
     "metadata": {},
     "output_type": "execute_result"
    }
   ],
   "source": [
    "#gabarito 45 \n",
    "\n",
    "pl_maior_10_e_volume_maior_2000 = df_info_empresas[(df_info_empresas['preco_sobre_lucro'] > 10) &\n",
    "                                                      (df_info_empresas['volume'] > 2000)]\n",
    "pl_maior_10_e_volume_maior_2000"
   ]
  },
  {
   "cell_type": "code",
   "execution_count": 20,
   "id": "fbae522f",
   "metadata": {},
   "outputs": [
    {
     "data": {
      "text/html": [
       "<div>\n",
       "<style scoped>\n",
       "    .dataframe tbody tr th:only-of-type {\n",
       "        vertical-align: middle;\n",
       "    }\n",
       "\n",
       "    .dataframe tbody tr th {\n",
       "        vertical-align: top;\n",
       "    }\n",
       "\n",
       "    .dataframe thead th {\n",
       "        text-align: right;\n",
       "    }\n",
       "</style>\n",
       "<table border=\"1\" class=\"dataframe\">\n",
       "  <thead>\n",
       "    <tr style=\"text-align: right;\">\n",
       "      <th></th>\n",
       "      <th>nomes</th>\n",
       "      <th>precos</th>\n",
       "      <th>preco_sobre_lucro</th>\n",
       "      <th>volume</th>\n",
       "    </tr>\n",
       "    <tr>\n",
       "      <th>tickers</th>\n",
       "      <th></th>\n",
       "      <th></th>\n",
       "      <th></th>\n",
       "      <th></th>\n",
       "    </tr>\n",
       "  </thead>\n",
       "  <tbody>\n",
       "    <tr>\n",
       "      <th>PETR3</th>\n",
       "      <td>Petrobras</td>\n",
       "      <td>30</td>\n",
       "      <td>6</td>\n",
       "      <td>1000</td>\n",
       "    </tr>\n",
       "    <tr>\n",
       "      <th>VALE3</th>\n",
       "      <td>Vale</td>\n",
       "      <td>40</td>\n",
       "      <td>12</td>\n",
       "      <td>4000</td>\n",
       "    </tr>\n",
       "    <tr>\n",
       "      <th>LREN3</th>\n",
       "      <td>Lojas Renner</td>\n",
       "      <td>35</td>\n",
       "      <td>25</td>\n",
       "      <td>1200</td>\n",
       "    </tr>\n",
       "  </tbody>\n",
       "</table>\n",
       "</div>"
      ],
      "text/plain": [
       "                nomes  precos  preco_sobre_lucro  volume\n",
       "tickers                                                 \n",
       "PETR3       Petrobras      30                  6    1000\n",
       "VALE3            Vale      40                 12    4000\n",
       "LREN3    Lojas Renner      35                 25    1200"
      ]
     },
     "execution_count": 20,
     "metadata": {},
     "output_type": "execute_result"
    }
   ],
   "source": [
    "#gabarito 46\n",
    "\n",
    "cotacao_20_e_volume_maior_4000 = df_info_empresas[(df_info_empresas['precos'] > 20) |\n",
    "                                                      (df_info_empresas['volume'] > 7000)]\n",
    "cotacao_20_e_volume_maior_4000"
   ]
  },
  {
   "cell_type": "markdown",
   "id": "951ac161",
   "metadata": {},
   "source": [
    "# Mundo 5\n",
    "\n",
    "Agora que você aprendeu como manipular colunas, chegou a hora de aprender a selecionar dados dentro da tabela. Como pegar um dado específico, como o preço da Weg em algum dia específico? "
   ]
  },
  {
   "cell_type": "code",
   "execution_count": null,
   "id": "fc8e4a55",
   "metadata": {},
   "outputs": [],
   "source": []
  }
 ],
 "metadata": {
  "kernelspec": {
   "display_name": "Python 3",
   "language": "python",
   "name": "python3"
  },
  "language_info": {
   "codemirror_mode": {
    "name": "ipython",
    "version": 3
   },
   "file_extension": ".py",
   "mimetype": "text/x-python",
   "name": "python",
   "nbconvert_exporter": "python",
   "pygments_lexer": "ipython3",
   "version": "3.10.12"
  }
 },
 "nbformat": 4,
 "nbformat_minor": 5
}
