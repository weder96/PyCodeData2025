{
 "cells": [
  {
   "cell_type": "markdown",
   "id": "f2eb2fa5",
   "metadata": {},
   "source": [
    "# knowledge 2\n",
    "\n",
    "Nesse knowledge 2 nós iremos falar sobre o que existe de mais básico. Como atribuir objetos no python, como printar algo na tela \n",
    "e a diferença entre o igual normal, aquele que você usou em equações na escola a vida toda e o igual duplo no python."
   ]
  },
  {
   "cell_type": "code",
   "execution_count": 15,
   "id": "ccfaee6b",
   "metadata": {},
   "outputs": [
    {
     "name": "stdout",
     "output_type": "stream",
     "text": [
      "Hello world\n"
     ]
    }
   ],
   "source": [
    "print(\"Hello world\")"
   ]
  },
  {
   "cell_type": "code",
   "execution_count": 16,
   "id": "80f9dd89",
   "metadata": {},
   "outputs": [],
   "source": [
    "#podemos atribuir numeros ou strings\n",
    "\n",
    "a = 2\n",
    "b = 4\n",
    "\n",
    "codigo_py = 'o melhor curso de python brasil' #string sempre com aspas duplas ou simples"
   ]
  },
  {
   "cell_type": "code",
   "execution_count": 17,
   "id": "99af01f3",
   "metadata": {},
   "outputs": [
    {
     "name": "stdout",
     "output_type": "stream",
     "text": [
      "o melhor curso de python brasil\n",
      "2\n",
      "4\n"
     ]
    }
   ],
   "source": [
    "#podemos printar o que nós programamos\n",
    "\n",
    "print(codigo_py)\n",
    "print(a)\n",
    "print(b)"
   ]
  },
  {
   "cell_type": "code",
   "execution_count": 18,
   "id": "3987a4b1",
   "metadata": {},
   "outputs": [
    {
     "name": "stdout",
     "output_type": "stream",
     "text": [
      "27\n"
     ]
    }
   ],
   "source": [
    "# a diferença entre = de equação e atribuir\n",
    "\n",
    "a = a + 25\n",
    "\n",
    "print(a)"
   ]
  },
  {
   "cell_type": "code",
   "execution_count": 19,
   "id": "a5b2c8e9",
   "metadata": {
    "scrolled": true
   },
   "outputs": [
    {
     "name": "stdout",
     "output_type": "stream",
     "text": [
      "True\n",
      "False\n",
      "True\n"
     ]
    }
   ],
   "source": [
    "#qual é o \"=\" de igualdade no python?\n",
    "\n",
    "verificando_uma_condicao = b == 4\n",
    "\n",
    "print(verificando_uma_condicao)\n",
    "\n",
    "verificando_uma_condicao = (b == 7)\n",
    "\n",
    "print(verificando_uma_condicao)\n",
    "\n",
    "flamengo = \"maior time do mundo\"\n",
    "\n",
    "verificando_uma_condicao = flamengo == \"maior time do mundo\"\n",
    "\n",
    "print(verificando_uma_condicao)"
   ]
  },
  {
   "cell_type": "markdown",
   "id": "66a81692",
   "metadata": {},
   "source": [
    "## Exercícios \n",
    "\n",
    "* Exercício 1:  Crie uma variável que receba o nome de uma empresa da bolsa de valores e depois exiba o nome da empresa no terminal.\n",
    "* Exercício 2: Crie um programa que atribua a variável petrobras ao texto \"estatal\" (não esqueça das aspas!) e depois crie duas variáveis de condição, igualando petrobras ao texto \"privada\" e ao texto \"estatal\". Printe as duas condições na tela. O python possui sensibilidade de letras maiuscula, portanto, tome cuidado com isso! Esses primeiros exercícios são simples e rápidos, mas acredite em mim, te ajudam a fixar essas coisas ultra básicas. Se você assistir o curso todo sem praticar nada, sem nunca ter escrito esses comandos básicos pq achou fácil demais, vai chegar na parte complexa e você vai travar.\n",
    "\n",
    "### Resolva todos exercícios!"
   ]
  },
  {
   "cell_type": "code",
   "execution_count": 13,
   "id": "01a77531",
   "metadata": {},
   "outputs": [
    {
     "name": "stdout",
     "output_type": "stream",
     "text": [
      "Weg\n"
     ]
    }
   ],
   "source": [
    "empresa_da_bolsa = \"Weg\"\n",
    "\n",
    "print(empresa_da_bolsa)"
   ]
  },
  {
   "cell_type": "code",
   "execution_count": 14,
   "id": "84a43d93",
   "metadata": {},
   "outputs": [
    {
     "name": "stdout",
     "output_type": "stream",
     "text": [
      "True\n",
      "False\n"
     ]
    }
   ],
   "source": [
    "petrobras = \"estatal\"\n",
    "\n",
    "verificando_uma_condicao = petrobras == \"estatal\"\n",
    "\n",
    "print(verificando_uma_condicao)\n",
    "\n",
    "verificando_uma_condicao = petrobras == \"privada\"\n",
    "\n",
    "print(verificando_uma_condicao)"
   ]
  }
 ],
 "metadata": {
  "kernelspec": {
   "display_name": "Python 3",
   "language": "python",
   "name": "python3"
  },
  "language_info": {
   "codemirror_mode": {
    "name": "ipython",
    "version": 3
   },
   "file_extension": ".py",
   "mimetype": "text/x-python",
   "name": "python",
   "nbconvert_exporter": "python",
   "pygments_lexer": "ipython3",
   "version": "3.10.12"
  }
 },
 "nbformat": 4,
 "nbformat_minor": 5
}
