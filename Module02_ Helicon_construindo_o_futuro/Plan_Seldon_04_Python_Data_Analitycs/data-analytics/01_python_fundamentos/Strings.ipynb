{
 "cells": [
  {
   "cell_type": "markdown",
   "id": "7445cf33",
   "metadata": {},
   "source": [
    "## STRINGS\n",
    "Uma string é uma variável do tipo texto. Ela possui diversos métodos em Python. O tipo de dados de uma string em Python é o `str`. Vamos conhecer os principais métodos de string."
   ]
  },
  {
   "cell_type": "code",
   "execution_count": null,
   "id": "26aabcb9",
   "metadata": {},
   "outputs": [],
   "source": [
    "#Criando uma string em Python\n",
    "nome = 'João'\n",
    "nome2 = \"José\"\n",
    "print(type(nome))"
   ]
  },
  {
   "cell_type": "code",
   "execution_count": null,
   "id": "0b03bc8e",
   "metadata": {},
   "outputs": [],
   "source": [
    "texto = \"Estou aprendendo 'Python'\"\n",
    "print(texto)"
   ]
  },
  {
   "cell_type": "code",
   "execution_count": null,
   "id": "8319c426",
   "metadata": {},
   "outputs": [],
   "source": [
    "#Tamanho de uma String\n",
    "nome = 'Bismark William'\n",
    "email = 'bismarkwilliam@email.com.br'\n",
    "print(len(nome))\n",
    "print(len(email))"
   ]
  },
  {
   "cell_type": "code",
   "execution_count": null,
   "id": "a4477137",
   "metadata": {},
   "outputs": [],
   "source": [
    "# Operador IN - Verifica a existência de um caracter e retorna um booleano\n",
    "email = 'bismarkwilliam@email.com.br'\n",
    "print('.com.br' in email)"
   ]
  },
  {
   "cell_type": "code",
   "execution_count": null,
   "id": "c8f61c59",
   "metadata": {},
   "outputs": [],
   "source": [
    "# Operador NOT IN - Verifica a inexistência de um caracter e retorna um booleano\n",
    "email = 'bismarkwilliam@email.com.br'\n",
    "print('bwm' not in email)"
   ]
  },
  {
   "cell_type": "code",
   "execution_count": null,
   "id": "c7606c26",
   "metadata": {},
   "outputs": [],
   "source": [
    "#Cadeia de caracteres - Strings são imutáveis (erro ao tentar alterar diretamente)\n",
    "texto = \"Python\"\n",
    "texto[0] = 'J'  # Isso gera erro: TypeError"
   ]
  },
  {
   "cell_type": "code",
   "execution_count": null,
   "id": "77774786",
   "metadata": {},
   "outputs": [],
   "source": [
    "#Cadeia de caracteres - Strings são imutáveis (atribuição válida)\n",
    "texto = \"Python\"\n",
    "texto = \"Java\"\n",
    "print(texto)"
   ]
  },
  {
   "cell_type": "code",
   "execution_count": null,
   "id": "80e6f067",
   "metadata": {},
   "outputs": [],
   "source": [
    "# Método Capitalize\n",
    "print(nome)\n",
    "nome = 'bismark william'\n",
    "nome = nome.capitalize()\n",
    "print(nome)"
   ]
  },
  {
   "cell_type": "code",
   "execution_count": null,
   "id": "53e83793",
   "metadata": {},
   "outputs": [],
   "source": [
    "# deixar todas as letras da string em caixa alta\n",
    "fruta = 'laranja'\n",
    "print(fruta)\n",
    "fruta = fruta.upper()\n",
    "print(fruta)"
   ]
  },
  {
   "cell_type": "code",
   "execution_count": null,
   "id": "2ce943e9",
   "metadata": {},
   "outputs": [],
   "source": [
    "# deixar todas as letras da string em caixa baixa\n",
    "fruta = 'MORanGO'\n",
    "print(fruta)\n",
    "fruta = fruta.lower()\n",
    "print(fruta)"
   ]
  },
  {
   "cell_type": "code",
   "execution_count": null,
   "id": "43389856",
   "metadata": {},
   "outputs": [],
   "source": [
    "# contar quantas vezes um caractere aparece em uma string\n",
    "email = 'bismarkwilliam@email.com.br'\n",
    "print(email.count('a'))"
   ]
  },
  {
   "cell_type": "code",
   "execution_count": null,
   "id": "16056ed4",
   "metadata": {},
   "outputs": [],
   "source": [
    "# Método find para mostrar a posição de um caractere em uma string\n",
    "print(email.find('.com'))"
   ]
  },
  {
   "cell_type": "code",
   "execution_count": null,
   "id": "aace5e5e",
   "metadata": {},
   "outputs": [],
   "source": [
    "# Método para verificar se uma string começa com um caractere ou sequência de caracteres específicos\n",
    "print(email.startswith('bismark'))"
   ]
  },
  {
   "cell_type": "code",
   "execution_count": null,
   "id": "63616c78",
   "metadata": {},
   "outputs": [],
   "source": [
    "# Método para verificar se uma string termina com um caractere ou sequência de caracteres específicos\n",
    "print(email.endswith('.com.br'))"
   ]
  },
  {
   "cell_type": "code",
   "execution_count": null,
   "id": "88ef5b37",
   "metadata": {},
   "outputs": [],
   "source": [
    "# Método para verificar se o conteúdo de uma string é numérico ou não\n",
    "cpf = '1111111111'\n",
    "print(cpf.isnumeric())"
   ]
  },
  {
   "cell_type": "code",
   "execution_count": null,
   "id": "745ab98e",
   "metadata": {},
   "outputs": [],
   "source": [
    "# Método para verificar se o conteúdo de uma string é de apenas letras\n",
    "texto = 'abcdef'\n",
    "print(texto.isalpha())"
   ]
  },
  {
   "cell_type": "code",
   "execution_count": null,
   "id": "9747d614",
   "metadata": {},
   "outputs": [],
   "source": [
    "# Método para verificar se o conteúdo de uma string é uma combinação de letras ou números\n",
    "animal = 'Cachorro123'\n",
    "print(animal.isalnum())"
   ]
  },
  {
   "cell_type": "code",
   "execution_count": null,
   "id": "23188e18",
   "metadata": {},
   "outputs": [],
   "source": [
    "# Método para remover espaços indesejados\n",
    "animal = '   Cachorro   '\n",
    "print(animal)\n",
    "print(len(animal))\n",
    "animal = animal.strip()\n",
    "print(animal)\n",
    "print(len(animal))"
   ]
  },
  {
   "cell_type": "code",
   "execution_count": null,
   "id": "aff497db",
   "metadata": {},
   "outputs": [],
   "source": [
    "# Método para substituir um caractere por outro\n",
    "transporte = 'Helicóptero'\n",
    "print(transporte)\n",
    "transporte = transporte.replace('H', 'G')\n",
    "print(transporte)"
   ]
  },
  {
   "cell_type": "code",
   "execution_count": null,
   "id": "afd8ee5c",
   "metadata": {},
   "outputs": [],
   "source": [
    "# Método para 'recortar uma string' com um determinado delimitador\n",
    "nome_completo = 'João,da,Silva,Santos,Albuquerque'\n",
    "print(nome_completo)\n",
    "nome_completo = nome_completo.split(',')\n",
    "print(nome_completo)"
   ]
  }
 ],
 "metadata": {},
 "nbformat": 4,
 "nbformat_minor": 5
}
