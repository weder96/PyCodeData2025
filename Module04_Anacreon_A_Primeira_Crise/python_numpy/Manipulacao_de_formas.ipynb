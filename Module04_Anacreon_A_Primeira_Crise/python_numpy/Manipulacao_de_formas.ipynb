{
  "nbformat": 4,
  "nbformat_minor": 0,
  "metadata": {
    "colab": {
      "provenance": []
    },
    "kernelspec": {
      "name": "python3",
      "display_name": "Python 3"
    },
    "language_info": {
      "name": "python"
    }
  },
  "cells": [
    {
      "cell_type": "markdown",
      "source": [
        "#Manipulação de Formas (Shapes)\n",
        "A manipulação da forma (shape) de um array é uma operação fundamental no NumPy, permitindo que você reestruture seus dados sem alterá-los. Isso é muito comum em tarefas de Machine Learning e Deep Learning."
      ],
      "metadata": {
        "id": "nYSSKjfb3z7d"
      }
    },
    {
      "cell_type": "markdown",
      "source": [
        "##reshape(): Reformatando Arrays\n",
        "A função reshape() permite que você altere a forma de um array, desde que o novo shape tenha o mesmo número total de elementos que o original. Você pode usar -1 em uma das dimensões para que o NumPy calcule automaticamente o tamanho dessa dimensão."
      ],
      "metadata": {
        "id": "CGYme10T36DF"
      }
    },
    {
      "cell_type": "code",
      "source": [
        "import numpy as np"
      ],
      "metadata": {
        "id": "aP41YST7e0wm"
      },
      "execution_count": null,
      "outputs": []
    },
    {
      "cell_type": "code",
      "execution_count": null,
      "metadata": {
        "id": "DIEeSKSb0KXR",
        "colab": {
          "base_uri": "https://localhost:8080/"
        },
        "outputId": "1669fa2f-cd20-4d66-c528-89edc624d93b"
      },
      "outputs": [
        {
          "output_type": "stream",
          "name": "stdout",
          "text": [
            "Array original: [ 0  1  2  3  4  5  6  7  8  9 10 11]\n",
            "Shape original: (12,)\n",
            "\n",
            "Matriz 3x4:\n",
            " [[ 0  1  2  3]\n",
            " [ 4  5  6  7]\n",
            " [ 8  9 10 11]]\n",
            "Shape da matriz 3x4: (3, 4)\n",
            "\n",
            "Matriz 4x3:\n",
            " [[ 0  1  2]\n",
            " [ 3  4  5]\n",
            " [ 6  7  8]\n",
            " [ 9 10 11]]\n",
            "Shape da matriz 4x3: (4, 3)\n",
            "\n",
            "Matriz 2x(-1):\n",
            " [[ 0  1  2  3  4  5]\n",
            " [ 6  7  8  9 10 11]]\n",
            "Shape da matriz 2x(-1): (2, 6)\n",
            "\n",
            "Tensor 2x2x3:\n",
            " [[[ 0  1  2]\n",
            "  [ 3  4  5]]\n",
            "\n",
            " [[ 6  7  8]\n",
            "  [ 9 10 11]]]\n",
            "Shape do tensor 2x2x3: (2, 2, 3)\n"
          ]
        }
      ],
      "source": [
        "# Array 1D com 12 elementos\n",
        "arr_original = np.arange(12)\n",
        "print(\"Array original:\", arr_original)\n",
        "print(\"Shape original:\", arr_original.shape)\n",
        "\n",
        "# Remodelando para uma matriz 3x4\n",
        "matriz_3x4 = arr_original.reshape(3, 4)\n",
        "print(\"\\nMatriz 3x4:\\n\", matriz_3x4)\n",
        "print(\"Shape da matriz 3x4:\", matriz_3x4.shape)\n",
        "\n",
        "# Remodelando para uma matriz 4x3\n",
        "matriz_4x3 = arr_original.reshape(4, 3)\n",
        "print(\"\\nMatriz 4x3:\\n\", matriz_4x3)\n",
        "print(\"Shape da matriz 4x3:\", matriz_4x3.shape)\n",
        "\n",
        "# Usando -1 para que o NumPy calcule a dimensão\n",
        "# Remodelando para 2 linhas e o NumPy calcula as colunas (2x6)\n",
        "matrix_2x_neg1 = arr_original.reshape(2, -1)\n",
        "print(\"\\nMatriz 2x(-1):\\n\", matrix_2x_neg1)\n",
        "print(\"Shape da matriz 2x(-1):\", matrix_2x_neg1.shape)\n",
        "\n",
        "# Remodelando para 3 dimensões (2x2x3)\n",
        "arr_3_dim = arr_original.reshape(2, 2, 3)\n",
        "print(\"\\Array 2x2x3:\\n\", arr_3_dim)\n",
        "print(\"Shape do array 2x2x3:\", arr_3_dim.shape)"
      ]
    },
    {
      "cell_type": "markdown",
      "source": [
        "##newaxis, expand_dims, squeeze: Adicionando e Removendo Dimensões\n",
        "Essas ferramentas são essenciais para ajustar as dimensões de um array, especialmente quando você precisa que ele se adeque aos requisitos de entrada de certas funções ou modelos.\n",
        "\n",
        "- np.newaxis: Uma constante que, quando usada na indexação, adiciona uma nova dimensão ao array.\n",
        "- np.expand_dims(): Uma função que explicitamente adiciona uma nova dimensão em um eixo específico.\n",
        "- np.squeeze(): Remove dimensões que têm apenas um elemento (dimensões \"redundantes\")."
      ],
      "metadata": {
        "id": "PDJtWDJC4InP"
      }
    },
    {
      "cell_type": "code",
      "source": [
        "arr = np.array([1, 2, 3, 4])\n",
        "print(\"Array original:\", arr)\n",
        "print(\"Shape original:\", arr.shape) # (4,)\n",
        "\n",
        "# Adicionando uma nova dimensão usando newaxis\n",
        "# Transforma um vetor linha em uma matriz coluna (4, -> 4,1)\n",
        "arr_coluna = arr[:, np.newaxis]\n",
        "print(\"\\nArray como coluna (newaxis):\\n\", arr_coluna)\n",
        "print(\"Shape do array como coluna:\", arr_coluna.shape) # (4, 1)\n",
        "\n",
        "# Transforma um vetor coluna em uma matriz linha (4, -> 1,4)\n",
        "arr_linha = arr[np.newaxis, :]\n",
        "print(\"\\nArray como linha (newaxis):\\n\", arr_linha)\n",
        "print(\"Shape do array como linha:\", arr_linha.shape) # (1, 4)\n",
        "\n",
        "# Adicionando uma nova dimensão usando np.expand_dims()\n",
        "# Adiciona dimensão no eixo 0 (início)\n",
        "arr_expanded_0 = np.expand_dims(arr, axis=0)\n",
        "print(\"\\nArray expandido no eixo 0:\\n\", arr_expanded_0)\n",
        "print(\"Shape do array expandido no eixo 0:\", arr_expanded_0.shape) # (1, 4)\n",
        "\n",
        "# Adiciona dimensão no eixo 1 (depois da primeira dimensão)\n",
        "arr_expanded_1 = np.expand_dims(arr, axis=1)\n",
        "print(\"\\nArray expandido no eixo 1:\\n\", arr_expanded_1)\n",
        "print(\"Shape do array expandido no eixo 1:\", arr_expanded_1.shape) # (4, 1)\n",
        "\n",
        "# Removendo dimensões com np.squeeze()\n",
        "arr_com_dimensoes_redundantes = np.array([[[1, 2, 3]]])\n",
        "print(\"\\nArray com dimensões redundantes:\\n\", arr_com_dimensoes_redundantes)\n",
        "print(\"Shape do array com redundância:\", arr_com_dimensoes_redundantes.shape) # (1, 1, 3)\n",
        "\n",
        "arr_squeezed = np.squeeze(arr_com_dimensoes_redundantes)\n",
        "print(\"Array após squeeze:\\n\", arr_squeezed)\n",
        "print(\"Shape do array após squeeze:\", arr_squeezed.shape) # (3,)"
      ],
      "metadata": {
        "id": "UgHBVvys4K8v",
        "colab": {
          "base_uri": "https://localhost:8080/"
        },
        "outputId": "ff8a7531-0ffe-4267-b8e2-6138f0f6fc0d"
      },
      "execution_count": null,
      "outputs": [
        {
          "output_type": "stream",
          "name": "stdout",
          "text": [
            "Array original: [1 2 3 4]\n",
            "Shape original: (4,)\n",
            "\n",
            "Array como coluna (newaxis):\n",
            " [[1]\n",
            " [2]\n",
            " [3]\n",
            " [4]]\n",
            "Shape do array como coluna: (4, 1)\n",
            "\n",
            "Array como linha (newaxis):\n",
            " [[1 2 3 4]]\n",
            "Shape do array como linha: (1, 4)\n",
            "\n",
            "Array expandido no eixo 0:\n",
            " [[1 2 3 4]]\n",
            "Shape do array expandido no eixo 0: (1, 4)\n",
            "\n",
            "Array expandido no eixo 1:\n",
            " [[1]\n",
            " [2]\n",
            " [3]\n",
            " [4]]\n",
            "Shape do array expandido no eixo 1: (4, 1)\n",
            "\n",
            "Array com dimensões redundantes:\n",
            " [[[1 2 3]]]\n",
            "Shape do array com redundância: (1, 1, 3)\n",
            "Array após squeeze:\n",
            " [1 2 3]\n",
            "Shape do array após squeeze: (3,)\n"
          ]
        }
      ]
    },
    {
      "cell_type": "markdown",
      "source": [
        "##Transposição de Arrays (.T)\n",
        "A transposição é uma operação que inverte as dimensões de um array, ou seja, as linhas se tornam colunas e as colunas se tornam linhas. Para matrizes 2D, isso significa que o elemento na posição [i, j] se move para [j, i]. Para arrays de dimensões mais altas, a transposição inverte a ordem dos eixos."
      ],
      "metadata": {
        "id": "sClu1yeJ4P8P"
      }
    },
    {
      "cell_type": "code",
      "source": [
        "matrix = np.array([[1, 2, 3],\n",
        "                   [4, 5, 6]])\n",
        "print(\"Matriz original:\\n\", matrix)\n",
        "print(\"Shape da matriz original:\", matrix.shape) # (2, 3)\n",
        "\n",
        "# Transpondo a matriz usando .T\n",
        "matrix_transposed = matrix.T\n",
        "print(\"\\nMatriz transposta:\\n\", matrix_transposed)\n",
        "print(\"Shape da matriz transposta:\", matrix_transposed.shape) # (3, 2)\n",
        "\n",
        "# Exemplo com tensor 3D\n",
        "tensor = np.arange(24).reshape(2, 3, 4)\n",
        "print(\"\\nTensor original (2x3x4):\\n\", tensor)\n",
        "print(\"Shape do tensor original:\", tensor.shape)\n",
        "\n",
        "# Transpondo o tensor\n",
        "# A transposição reverte a ordem dos eixos\n",
        "tensor_transposed = tensor.T\n",
        "print(\"\\nTensor transposto (4x3x2):\\n\", tensor_transposed)\n",
        "print(\"Shape do tensor transposto:\", tensor_transposed.shape)"
      ],
      "metadata": {
        "id": "l9PCO_Fc4SbA"
      },
      "execution_count": null,
      "outputs": []
    },
    {
      "cell_type": "markdown",
      "source": [
        "##flatten() vs. ravel(): Achatar Arrays\n",
        "Ambos os métodos são usados para \"achatar\" um array em uma única dimensão (1D). A principal diferença reside na forma como lidam com a memória:\n",
        "\n",
        "flatten(): Sempre retorna uma cópia do array original. Modificações no array resultante não afetam o original.\n",
        "ravel(): Retorna uma visão do array original sempre que possível (se os dados forem contíguos na memória). Se os dados não forem contíguos, ele pode retornar uma cópia. Modificações na visão afetam o array original. Geralmente é mais eficiente se você não precisa de uma cópia independente."
      ],
      "metadata": {
        "id": "RF5QXI-N4WD5"
      }
    },
    {
      "cell_type": "code",
      "source": [
        "\n",
        "\n",
        "matrix = np.array([[1, 2, 3],\n",
        "                   [4, 5, 6]])\n",
        "print(\"Matriz original:\\n\", matrix)\n",
        "\n",
        "# Usando flatten() - retorna uma CÓPIA\n",
        "flattened_copy = matrix.flatten()\n",
        "print(\"\\nArray achatado com flatten():\", flattened_copy)\n",
        "flattened_copy[0] = 99 # Modificando a cópia\n",
        "print(\"Flattened copy após modificação:\", flattened_copy)\n",
        "print(\"Matriz original após modificar a cópia (sem alteração):\\n\", matrix)\n",
        "\n",
        "# Usando ravel() - retorna uma VISÃO (se possível)\n",
        "raveled_view = matrix.ravel()\n",
        "print(\"\\nArray achatado com ravel():\", raveled_view)\n",
        "raveled_view[0] = 88 # Modificando a visão\n",
        "print(\"Raveled view após modificação:\", raveled_view)\n",
        "print(\"Matriz original após modificar a visão (alterada):\\n\", matrix)\n",
        "\n",
        "# Resetando a matriz para o próximo exemplo\n",
        "matrix = np.array([[1, 2, 3],\n",
        "                   [4, 5, 6]])\n",
        "\n",
        "# Verificando se ravel() retornou uma visão\n",
        "# Em muitos casos, is not None resultará em True, mas pode ser False se uma cópia for feita\n",
        "# Se o array original for modificado através da vista, é uma vista.\n",
        "is_view = raveled_view.base is not None and raveled_view.base is matrix\n",
        "print(f\"\\nravel() retornou uma visão? {is_view}\") # Deve ser True neste caso"
      ],
      "metadata": {
        "id": "bB1GPP5H4Ylo"
      },
      "execution_count": null,
      "outputs": []
    }
  ]
}