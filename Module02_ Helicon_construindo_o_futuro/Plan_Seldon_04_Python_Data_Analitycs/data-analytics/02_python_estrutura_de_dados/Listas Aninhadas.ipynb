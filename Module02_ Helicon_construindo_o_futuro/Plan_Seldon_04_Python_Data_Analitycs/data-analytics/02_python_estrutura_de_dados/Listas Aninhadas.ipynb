{
 "cells": [
  {
   "cell_type": "markdown",
   "id": "b2809603",
   "metadata": {},
   "source": [
    "## Listas Aninhadas em Python  \n",
    "Uma lista aninhada é uma estrutura de dados onde listas estão dentro de outras listas. Vamos explorar a criação, acesso, modificação e iteração dessas estruturas."
   ]
  },
  {
   "cell_type": "code",
   "execution_count": null,
   "id": "592b03f9",
   "metadata": {},
   "outputs": [],
   "source": [
    "#Criando uma lista aninhada\n",
    "colaboradores = [\n",
    "    [\"Nome\", \"Cargo\", \"Departamento\"],\n",
    "    [\"Alice\", \"Analista\", \"Financeiro\"],\n",
    "    [\"Carlos\", \"Gerente\", \"Vendas\"],\n",
    "    [\"Júlia\", \"Estagiária\", \"RH\"]\n",
    "]\n",
    "print(colaboradores)"
   ]
  },
  {
   "cell_type": "code",
   "execution_count": null,
   "id": "7ea09ff7",
   "metadata": {},
   "outputs": [],
   "source": [
    "#Acessando um item da lista aninhada\n",
    "print(colaboradores[2][1])"
   ]
  },
  {
   "cell_type": "code",
   "execution_count": null,
   "id": "903930e2",
   "metadata": {},
   "outputs": [],
   "source": [
    "#Acessando um item da lista aninhada com índices negativos\n",
    "print(colaboradores[-1][-1])"
   ]
  },
  {
   "cell_type": "code",
   "execution_count": null,
   "id": "2ad71d87",
   "metadata": {},
   "outputs": [],
   "source": [
    "#Acessando outro item da lista aninhada\n",
    "print(colaboradores[3][2])"
   ]
  },
  {
   "cell_type": "code",
   "execution_count": null,
   "id": "c61353e3",
   "metadata": {},
   "outputs": [],
   "source": [
    "#Modificando um elemento da lista aninhada\n",
    "colaboradores[1][1] = \"Coordenadora\"\n",
    "print(colaboradores[1])"
   ]
  },
  {
   "cell_type": "code",
   "execution_count": null,
   "id": "ddb0f150",
   "metadata": {},
   "outputs": [],
   "source": [
    "#Percorrendo uma lista aninhada (modo 1)\n",
    "for lista in colaboradores:\n",
    "    for dados in lista:\n",
    "        print(dados, end=\" \")\n",
    "    print()"
   ]
  },
  {
   "cell_type": "code",
   "execution_count": null,
   "id": "a80051d0",
   "metadata": {},
   "outputs": [],
   "source": [
    "#Percorrendo uma lista aninhada (modo 2 com f-string)\n",
    "for dados in colaboradores[1:]:\n",
    "    nome, cargo, departamento = dados\n",
    "    print(f\"{nome} trabalha como {cargo} no departamento de {departamento}\")"
   ]
  },
  {
   "cell_type": "code",
   "execution_count": null,
   "id": "ffbe9a63",
   "metadata": {},
   "outputs": [],
   "source": [
    "#Exemplo com range\n",
    "for i in range(len(colaboradores)):\n",
    "    for j in range(len(colaboradores[i])):\n",
    "        print(colaboradores[i][j])\n",
    "    print()"
   ]
  }
 ],
 "metadata": {},
 "nbformat": 4,
 "nbformat_minor": 5
}
