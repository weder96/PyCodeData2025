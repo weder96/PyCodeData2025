{
  "nbformat": 4,
  "nbformat_minor": 0,
  "metadata": {
    "colab": {
      "provenance": []
    },
    "kernelspec": {
      "name": "python3",
      "display_name": "Python 3"
    },
    "language_info": {
      "name": "python"
    }
  },
  "cells": [
    {
      "cell_type": "markdown",
      "source": [
        "#Apply e Map\n",
        "\n",
        "Esses métodos permitem aplicar funções a elementos de um DataFrame ou Series.\n",
        "- apply() : Pode ser usado para aplicar uma função ao longo de um eixo de um\n",
        "DataFrame (linhas ou colunas) ou a elementos de uma Series. É mais flexível e\n",
        "pode ser usado com funções mais complexas.\n",
        "- map() : É um método de Series usado para mapear valores de uma Series para\n",
        "outros valores usando um dicionário ou uma função. É mais eficiente para\n",
        "mapeamento de valores um-para-um."
      ],
      "metadata": {
        "id": "C-Vfc-3ygjB2"
      }
    },
    {
      "cell_type": "code",
      "execution_count": null,
      "metadata": {
        "id": "64_q6ylvgiSp"
      },
      "outputs": [],
      "source": [
        "#Criando o DataFrame\n",
        "import pandas as pd\n",
        "df = pd.DataFrame({\n",
        "'Nome': ['Alice', 'Bob', 'Charlie'],\n",
        "'Idade': [25, 30, 35],\n",
        "'Status': ['ativo', 'inativo', 'ativo']\n",
        "})\n",
        "print('--- DataFrame Original ---\\n', df)"
      ]
    },
    {
      "cell_type": "code",
      "source": [
        "# Usando apply() para criar uma nova coluna baseada em uma função\n",
        "def categoria_idade(idade):\n",
        "    if idade < 30:\n",
        "        return 'Jovem'\n",
        "    else:\n",
        "        return 'Adulto'\n",
        "df['Categoria_Idade'] = df['Idade'].apply(categoria_idade)\n",
        "print('\\n--- DataFrame com Categoria_Idade (usando apply) ---\\n', df)"
      ],
      "metadata": {
        "id": "4zOwrBW8h0VO"
      },
      "execution_count": null,
      "outputs": []
    },
    {
      "cell_type": "code",
      "source": [
        "# Usando map() para mapear valores de 'Status'\n",
        "mapeamento_status = {'ativo': 'Ativo', 'inativo': 'Inativo'}\n",
        "df['Status_Formatado'] = df['Status'].map(mapeamento_status)\n",
        "print('\\n--- DataFrame com Status_Formatado (usando map) ---\\n', df)"
      ],
      "metadata": {
        "id": "_LL_HfUvh1WO"
      },
      "execution_count": null,
      "outputs": []
    },
    {
      "cell_type": "code",
      "source": [
        "# Usando apply() com função lambda para uma operação simples\n",
        "df['Idade_Dobrada'] = df['Idade'].apply(lambda x: x * 2)\n",
        "print('\\n--- DataFrame com Idade_Dobrada (usando apply com lambda) ---\\n', df)"
      ],
      "metadata": {
        "id": "ivdh4u7Wh2kD"
      },
      "execution_count": null,
      "outputs": []
    }
  ]
}