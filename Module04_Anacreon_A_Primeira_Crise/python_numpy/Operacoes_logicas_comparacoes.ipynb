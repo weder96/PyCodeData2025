{
  "nbformat": 4,
  "nbformat_minor": 0,
  "metadata": {
    "colab": {
      "provenance": []
    },
    "kernelspec": {
      "name": "python3",
      "display_name": "Python 3"
    },
    "language_info": {
      "name": "python"
    }
  },
  "cells": [
    {
      "cell_type": "markdown",
      "source": [
        "#Operações Lógicas e Comparações\n",
        "As operações lógicas e comparações com arrays NumPy também são realizadas elemento a elemento, resultando em arrays booleanos."
      ],
      "metadata": {
        "id": "dG1jCWVWA5Ti"
      }
    },
    {
      "cell_type": "code",
      "source": [
        "arr1 = np.array([10, 20, 30, 40, 50])\n",
        "arr2 = np.array([5, 20, 35, 40, 45])\n",
        "\n",
        "# Igualdade\n",
        "igual = arr1 == arr2\n",
        "print(\"Igualdade (arr1 == arr2):\", igual)\n",
        "\n",
        "# Maior que\n",
        "maior_que = arr1 > arr2\n",
        "print(\"Maior que (arr1 > arr2):\", maior_que)\n",
        "\n",
        "# Menor ou igual\n",
        "menor_ou_igual = arr1 <= arr2\n",
        "print(\"Menor ou igual (arr1 <= arr2):\", menor_ou_igual)\n",
        "\n",
        "# Operadores lógicos\n",
        "arr_bool1 = np.array([True, False, True])\n",
        "arr_bool2 = np.array([False, False, True])\n",
        "\n",
        "# AND lógico\n",
        "and_op = arr_bool1 & arr_bool2 # ou np.logical_and(arr_bool1, arr_bool2)\n",
        "print(\"AND Lógico:\", and_op)\n",
        "\n",
        "# OR lógico\n",
        "or_op = arr_bool1 | arr_bool2 # ou np.logical_or(arr_bool1, arr_bool2)\n",
        "print(\"OR Lógico:\", or_op)\n",
        "\n",
        "# NOT lógico\n",
        "not_op = ~arr_bool1 # ou np.logical_not(arr_bool1)\n",
        "print(\"NOT Lógico:\", not_op)\n",
        "\n",
        "# Filtrando elementos com base em uma condição\n",
        "arr_dados = np.array([1, 5, 10, 15, 20, 25])\n",
        "filtro = arr_dados > 10\n",
        "print(\"Filtro (maior que 10):\", filtro)\n",
        "\n",
        "# Usando o filtro para selecionar elementos\n",
        "elementos_filtrados = arr_dados[filtro]\n",
        "print(\"Elementos filtrados:\", elementos_filtrados)"
      ],
      "metadata": {
        "id": "J0F_zub6A8LS"
      },
      "execution_count": null,
      "outputs": []
    }
  ]
}