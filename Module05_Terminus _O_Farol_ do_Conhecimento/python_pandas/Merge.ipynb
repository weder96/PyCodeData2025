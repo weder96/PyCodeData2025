{
  "nbformat": 4,
  "nbformat_minor": 0,
  "metadata": {
    "colab": {
      "provenance": []
    },
    "kernelspec": {
      "name": "python3",
      "display_name": "Python 3"
    },
    "language_info": {
      "name": "python"
    }
  },
  "cells": [
    {
      "cell_type": "markdown",
      "source": [
        "#Merge\n",
        "\n",
        "A função pd.merge() é usada para combinar DataFrames com base em colunas\n",
        "comuns ou índices, de forma semelhante a operações de JOIN em SQL. É ideal para\n",
        "combinar DataFrames que compartilham uma ou mais chaves.\n",
        "- left , right : Os DataFrames a serem mesclados.\n",
        "- on : Nome da coluna (ou lista de colunas) para mesclar. Deve estar presente em\n",
        "ambos os DataFrames.\n",
        "- how : Tipo de mesclagem a ser realizada. Opções comuns: inner (padrão),\n",
        "left , right , outer .\n",
        "- inner : Retorna apenas as linhas onde a chave de mesclagem existe em\n",
        "ambos os DataFrames.\n",
        "- left : Retorna todas as linhas do DataFrame esquerdo e as linhas\n",
        "correspondentes do direito. Valores NaN para não correspondências no\n",
        "direito.\n",
        "- right : Retorna todas as linhas do DataFrame direito e as linhas\n",
        "correspondentes do esquerdo. Valores NaN para não correspondências no\n",
        "esquerdo.\n",
        "- outer : Retorna todas as linhas quando há uma correspondência em um\n",
        "dos DataFrames. Valores NaN para não correspondências.\n"
      ],
      "metadata": {
        "id": "B2vKPYCap3_O"
      }
    },
    {
      "cell_type": "code",
      "execution_count": null,
      "metadata": {
        "id": "wHvbUzVBp3fI"
      },
      "outputs": [],
      "source": [
        "import pandas as pd\n",
        "# DataFrames para mesclagem\n",
        "df_clientes = pd.DataFrame({\n",
        "'ID_Cliente': [1, 2, 3, 4],\n",
        "'Nome': ['Alice', 'Bob', 'Charlie', 'David']\n",
        "})\n",
        "\n",
        "df_pedidos = pd.DataFrame({\n",
        "'ID_Pedido': [101, 102, 103, 104, 105],\n",
        "'ID_Cliente': [2, 1, 3, 2, 5], # Cliente 5 não existe em df_clientes\n",
        "'Produto': ['Livro', 'Caneta', 'Caderno', 'Mochila', 'Lápis']\n",
        "})"
      ]
    },
    {
      "cell_type": "code",
      "source": [
        "print('--- DataFrame Clientes ---\\n', df_clientes)"
      ],
      "metadata": {
        "id": "tBrWqL62qH2R"
      },
      "execution_count": null,
      "outputs": []
    },
    {
      "cell_type": "code",
      "source": [
        "print('\\n--- DataFrame Pedidos ---\\n', df_pedidos)"
      ],
      "metadata": {
        "id": "P5AtCbbxqIv-"
      },
      "execution_count": null,
      "outputs": []
    },
    {
      "cell_type": "code",
      "source": [
        "# Inner Merge (padrão): Retorna apenas clientes com pedidos\n",
        "merged_inner = pd.merge(df_clientes, df_pedidos, on='ID_Cliente', how='inner')\n",
        "print('\\n--- Inner Merge ---\\n', merged_inner)"
      ],
      "metadata": {
        "id": "P0estfA_qJ5J"
      },
      "execution_count": null,
      "outputs": []
    },
    {
      "cell_type": "code",
      "source": [
        "# Left Merge: Retorna todos os clientes e seus pedidos (se houver)\n",
        "merged_left = pd.merge(df_clientes, df_pedidos, on='ID_Cliente', how='left')\n",
        "print('\\n--- Left Merge ---\\n', merged_left)"
      ],
      "metadata": {
        "id": "gSdTiIkxqLEh"
      },
      "execution_count": null,
      "outputs": []
    },
    {
      "cell_type": "code",
      "source": [
        "# Right Merge: Retorna todos os pedidos e seus clientes (se houver)\n",
        "merged_right = pd.merge(df_clientes, df_pedidos, on='ID_Cliente', how='right')\n",
        "print('\\n--- Right Merge ---\\n', merged_right)"
      ],
      "metadata": {
        "id": "IPZsDmYOqMUu"
      },
      "execution_count": null,
      "outputs": []
    },
    {
      "cell_type": "code",
      "source": [
        "# Outer Merge: Retorna todos os clientes e todos os pedidos\n",
        "merged_outer = pd.merge(df_clientes, df_pedidos, on='ID_Cliente', how='outer')\n",
        "print('\\n--- Outer Merge ---\\n', merged_outer)"
      ],
      "metadata": {
        "id": "aCwyS_XWqNja"
      },
      "execution_count": null,
      "outputs": []
    }
  ]
}