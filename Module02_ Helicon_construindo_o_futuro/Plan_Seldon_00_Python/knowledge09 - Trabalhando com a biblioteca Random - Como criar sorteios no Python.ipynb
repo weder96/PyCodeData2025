{
 "cells": [
  {
   "cell_type": "markdown",
   "id": "6b6071ff",
   "metadata": {},
   "source": [
    "# Knowledge 9"
   ]
  },
  {
   "cell_type": "code",
   "execution_count": 20,
   "id": "40e722f8",
   "metadata": {},
   "outputs": [],
   "source": [
    "import random\n",
    "\n",
    "from random import choice"
   ]
  },
  {
   "cell_type": "code",
   "execution_count": 11,
   "id": "db081958",
   "metadata": {},
   "outputs": [
    {
     "name": "stdout",
     "output_type": "stream",
     "text": [
      "0.6438615974113465\n"
     ]
    }
   ],
   "source": [
    "valor_entre_0_ou_1 = random.random()\n",
    "\n",
    "print(valor_entre_0_ou_1)"
   ]
  },
  {
   "cell_type": "code",
   "execution_count": 13,
   "id": "f8e08d08",
   "metadata": {},
   "outputs": [
    {
     "name": "stdout",
     "output_type": "stream",
     "text": [
      "12.136936734208994\n"
     ]
    }
   ],
   "source": [
    "valor_decimal_de_igual_probabilidade_entre_valores = random.uniform(10, 100)\n",
    "\n",
    "print(valor_decimal_de_igual_probabilidade_entre_valores)"
   ]
  },
  {
   "cell_type": "code",
   "execution_count": 16,
   "id": "6e9e5a23",
   "metadata": {},
   "outputs": [
    {
     "name": "stdout",
     "output_type": "stream",
     "text": [
      "19\n"
     ]
    }
   ],
   "source": [
    "valor_inteiro_de_igual_probabilidade_entre_valores = random.randint(10, 100)\n",
    "\n",
    "print(valor_inteiro_de_igual_probabilidade_entre_valores)"
   ]
  },
  {
   "cell_type": "code",
   "execution_count": 19,
   "id": "0f12714d",
   "metadata": {},
   "outputs": [
    {
     "name": "stdout",
     "output_type": "stream",
     "text": [
      "72.88257157202528\n"
     ]
    }
   ],
   "source": [
    "valor_dist_normal = random.gauss(10, 30)\n",
    "\n",
    "print(valor_dist_normal)"
   ]
  },
  {
   "cell_type": "code",
   "execution_count": 29,
   "id": "c9969ebd",
   "metadata": {},
   "outputs": [
    {
     "name": "stdout",
     "output_type": "stream",
     "text": [
      "PCAR3\n"
     ]
    }
   ],
   "source": [
    "#sorteio, importando a função direto. \n",
    "\n",
    "tickers = ['WEGE3', 'PCAR3', 'LREN3']\n",
    "\n",
    "empresa_escolhida = choice(tickers)\n",
    "\n",
    "print(empresa_escolhida)"
   ]
  },
  {
   "cell_type": "markdown",
   "id": "d6769546",
   "metadata": {},
   "source": [
    "# Desafios\n",
    "\n",
    "* Exercício 9: Crie um programa que escolha entre cara ou coroa e printe o resultado na tela.\n",
    "* Exercício 10: Se inspire em alguns professores de faculdade e crie um programa que escolhe uma nota de 0 a 10 e mostra a seguinte mensagem na tela \"a nota da sua prova foi x\" sendo x a nota escolhida."
   ]
  },
  {
   "cell_type": "code",
   "execution_count": 32,
   "id": "3b5964da",
   "metadata": {},
   "outputs": [
    {
     "name": "stdout",
     "output_type": "stream",
     "text": [
      "coroa\n"
     ]
    }
   ],
   "source": [
    "resultados_moeda = ['cara', 'coroa']\n",
    "\n",
    "lado_moeda = choice(resultados_moeda)\n",
    "\n",
    "print(lado_moeda)"
   ]
  },
  {
   "cell_type": "code",
   "execution_count": 42,
   "id": "442af11c",
   "metadata": {},
   "outputs": [
    {
     "name": "stdout",
     "output_type": "stream",
     "text": [
      "A nota da sua prova foi 10!\n"
     ]
    }
   ],
   "source": [
    "nota = random.randint(0, 10)\n",
    "\n",
    "print(f\"A nota da sua prova foi {nota}!\")"
   ]
  }
 ],
 "metadata": {
  "kernelspec": {
   "display_name": "Python 3 (ipykernel)",
   "language": "python",
   "name": "python3"
  },
  "language_info": {
   "codemirror_mode": {
    "name": "ipython",
    "version": 3
   },
   "file_extension": ".py",
   "mimetype": "text/x-python",
   "name": "python",
   "nbconvert_exporter": "python",
   "pygments_lexer": "ipython3",
   "version": "3.9.12"
  }
 },
 "nbformat": 4,
 "nbformat_minor": 5
}
