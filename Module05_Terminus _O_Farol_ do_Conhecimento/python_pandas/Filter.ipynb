{
  "nbformat": 4,
  "nbformat_minor": 0,
  "metadata": {
    "colab": {
      "provenance": []
    },
    "kernelspec": {
      "name": "python3",
      "display_name": "Python 3"
    },
    "language_info": {
      "name": "python"
    }
  },
  "cells": [
    {
      "cell_type": "code",
      "execution_count": null,
      "metadata": {
        "id": "kp_ZqgPAXN2c"
      },
      "outputs": [],
      "source": [
        "#Criando o DataFrame\n",
        "import pandas as pd\n",
        "dados = {\n",
        "'Nome': ['Alice', 'Roberto', 'Carlos', 'Davi', 'Everaldo', 'Franklin'],\n",
        "'Idade': [25, 30, 35, 40, 28, 32],\n",
        "'Cidade': ['São Paulo', 'Goiania', 'Fortaleza', 'Campina Grande', 'Campinas', 'Rio de Janeiro'],\n",
        "'Pontuacao': [85, 92, 78, 95, 88, 70]\n",
        "}\n",
        "\n",
        "df = pd.DataFrame(dados)"
      ]
    },
    {
      "cell_type": "code",
      "source": [
        "#Exibindo o DataFrame\n",
        "print(df)"
      ],
      "metadata": {
        "colab": {
          "base_uri": "https://localhost:8080/"
        },
        "id": "H86dhFFsYfcZ",
        "outputId": "628ad1cf-cd8c-4002-f512-b19872f27c26"
      },
      "execution_count": null,
      "outputs": [
        {
          "output_type": "stream",
          "name": "stdout",
          "text": [
            "      Nome  Idade     Cidade  Pontuacao\n",
            "0    Alice     25  Nova York         85\n",
            "1      Bob     30      Paris         92\n",
            "2  Charlie     35    Londres         78\n",
            "3    David     40     Tóquio         95\n",
            "4      Eva     28     Berlim         88\n",
            "5    Frank     32       Roma         70\n"
          ]
        }
      ]
    },
    {
      "cell_type": "code",
      "source": [
        "# Filtrar por idade maior que 30\n",
        "filtro_idade = df[df['Idade'] > 30]\n",
        "print('--- Pessoas com mais de 30 anos ---')\n",
        "print(filtro_idade)"
      ],
      "metadata": {
        "colab": {
          "base_uri": "https://localhost:8080/"
        },
        "id": "9bBg-EmOYlVx",
        "outputId": "dacd2bd2-f815-474e-a68a-f779e78782e7"
      },
      "execution_count": null,
      "outputs": [
        {
          "output_type": "stream",
          "name": "stdout",
          "text": [
            "--- Pessoas com mais de 30 anos ---\n",
            "      Nome  Idade   Cidade  Pontuacao\n",
            "2  Charlie     35  Londres         78\n",
            "3    David     40   Tóquio         95\n",
            "5    Frank     32     Roma         70\n"
          ]
        }
      ]
    },
    {
      "cell_type": "code",
      "source": [
        "# Filtrar por cidade 'São Paulo' E pontuação maior que 80\n",
        "filtro_multiplo = df[(df['Cidade'] == 'São Paulo') &\n",
        "(df['Pontuacao'] > 80)]\n",
        "print('\\n--- Pessoas de São Paulo com pontuação > 80 ---')\n",
        "print(filtro_multiplo)"
      ],
      "metadata": {
        "colab": {
          "base_uri": "https://localhost:8080/"
        },
        "id": "0jIWfDT4Ym8i",
        "outputId": "a9049198-dd5d-4e27-bd30-be7472c84fbc"
      },
      "execution_count": null,
      "outputs": [
        {
          "output_type": "stream",
          "name": "stdout",
          "text": [
            "\n",
            "--- Pessoas de Nova York com pontuação > 80 ---\n",
            "    Nome  Idade     Cidade  Pontuacao\n",
            "0  Alice     25  Nova York         85\n"
          ]
        }
      ]
    },
    {
      "cell_type": "code",
      "source": [
        "# Filtrar por cidade 'Fortaleza' OU 'Campina Grande'\n",
        "filtro_ou = df[(df['Cidade'] == 'Fortaleza') | (df['Cidade']\n",
        "== 'Campina Grande')]\n",
        "print('\\n--- Pessoas de Fortaleza ou Campina Grande ---')\n",
        "print(filtro_ou)"
      ],
      "metadata": {
        "colab": {
          "base_uri": "https://localhost:8080/"
        },
        "id": "puBntXKWYob3",
        "outputId": "284fd4cc-452b-4f01-8534-5ad1d34abac3"
      },
      "execution_count": null,
      "outputs": [
        {
          "output_type": "stream",
          "name": "stdout",
          "text": [
            "\n",
            "--- Pessoas de Paris ou Berlim ---\n",
            "  Nome  Idade  Cidade  Pontuacao\n",
            "1  Bob     30   Paris         92\n",
            "4  Eva     28  Berlim         88\n"
          ]
        }
      ]
    },
    {
      "cell_type": "code",
      "source": [
        "# Usando .isin() para múltiplas condições em uma coluna\n",
        "filtro_isin = df[df['Cidade'].isin(['Goiania', 'Campinas'])]\n",
        "print('\\n--- Pessoas de Goiania ou Campinas (usando isin) ---')\n",
        "print(filtro_isin)"
      ],
      "metadata": {
        "colab": {
          "base_uri": "https://localhost:8080/"
        },
        "id": "1_00Q8n_YqEa",
        "outputId": "b9ee30ec-50f8-4aa9-db9b-b583f7c23677"
      },
      "execution_count": null,
      "outputs": [
        {
          "output_type": "stream",
          "name": "stdout",
          "text": [
            "\n",
            "--- Pessoas de Londres ou Tóquio (usando isin) ---\n",
            "      Nome  Idade   Cidade  Pontuacao\n",
            "2  Charlie     35  Londres         78\n",
            "3    David     40   Tóquio         95\n"
          ]
        }
      ]
    }
  ]
}