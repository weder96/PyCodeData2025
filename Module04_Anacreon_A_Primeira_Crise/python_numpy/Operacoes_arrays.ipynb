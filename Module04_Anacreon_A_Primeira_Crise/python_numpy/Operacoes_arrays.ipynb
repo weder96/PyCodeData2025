{
  "nbformat": 4,
  "nbformat_minor": 0,
  "metadata": {
    "colab": {
      "provenance": []
    },
    "kernelspec": {
      "name": "python3",
      "display_name": "Python 3"
    },
    "language_info": {
      "name": "python"
    }
  },
  "cells": [
    {
      "cell_type": "markdown",
      "source": [
        "#Operações Elementares (Aritméticas)\n",
        "As operações aritméticas com arrays NumPy são realizadas elemento a elemento."
      ],
      "metadata": {
        "id": "zsTH-GFE_0dq"
      }
    },
    {
      "cell_type": "code",
      "source": [
        "arr1 = np.array([1, 2, 3, 4])\n",
        "arr2 = np.array([5, 6, 7, 8])\n",
        "\n",
        "# Soma\n",
        "soma = arr1 + arr2\n",
        "print(\"Soma:\", soma)\n",
        "\n",
        "# Subtração\n",
        "subtracao = arr2 - arr1\n",
        "print(\"Subtração:\", subtracao)\n",
        "\n",
        "# Multiplicação (elemento a elemento)\n",
        "multiplicacao = arr1 * arr2\n",
        "print(\"Multiplicação (elemento a elemento):\", multiplicacao)\n",
        "\n",
        "# Divisão (elemento a elemento)\n",
        "divisao = arr2 / arr1\n",
        "print(\"Divisão (elemento a elemento):\", divisao)\n",
        "\n",
        "# Potência\n",
        "potencia = arr1 ** 2\n",
        "print(\"Potência (arr1 ao quadrado):\", potencia)"
      ],
      "metadata": {
        "id": "ONnaDScW_27L"
      },
      "execution_count": null,
      "outputs": []
    },
    {
      "cell_type": "markdown",
      "source": [
        "#Operações com Escalar\n",
        "Quando você realiza uma operação entre um array e um valor escalar (um único número), o NumPy aplica essa operação a cada elemento do array."
      ],
      "metadata": {
        "id": "ywaN8NpZAAGk"
      }
    },
    {
      "cell_type": "code",
      "source": [
        "arr = np.array([10, 20, 30, 40])\n",
        "escalar = 5\n",
        "\n",
        "# Soma com escalar\n",
        "soma_escalar = arr + escalar\n",
        "print(\"Soma com escalar:\", soma_escalar)\n",
        "\n",
        "# Multiplicação com escalar\n",
        "mult_escalar = arr * scalar\n",
        "print(\"Multiplicação com escalar:\", mult_escalar)"
      ],
      "metadata": {
        "id": "Ab9ZmzNQACPU"
      },
      "execution_count": null,
      "outputs": []
    },
    {
      "cell_type": "markdown",
      "source": [
        "#Broadcasting\n",
        "Broadcasting é a capacidade do NumPy de tratar arrays com diferentes shapes durante operações aritméticas. Ele permite que arrays menores sejam \"esticados\" para combinar com o shape de arrays maiores, de modo que a operação elemento a elemento possa ser realizada."
      ],
      "metadata": {
        "id": "5kNiav4OAFSt"
      }
    },
    {
      "cell_type": "code",
      "source": [
        "import numpy as np"
      ],
      "metadata": {
        "id": "j3zIOLUxyUpj"
      },
      "execution_count": null,
      "outputs": []
    },
    {
      "cell_type": "code",
      "source": [
        "arr_a = np.array([[1, 2, 3],\n",
        "                  [4, 5, 6]]) # Shape (2, 3)\n",
        "\n",
        "arr_b = np.array([10, 20, 30]) # Shape (3,)\n",
        "\n",
        "# arr_b é \"broadcast\" para corresponder ao número de linhas de arr_a\n",
        "# [10, 20, 30]\n",
        "# [10, 20, 30]\n",
        "resultado_broadcasting = arr_a + arr_b\n",
        "print(\"Resultado do Broadcasting:\\n\", resultado_broadcasting)\n",
        "\n",
        "# Outro exemplo de broadcasting\n",
        "arr_c = np.array([[100],\n",
        "                  [200]]) # Shape (2, 1)\n",
        "\n",
        "resultado_broadcasting_2 = arr_a + arr_c\n",
        "print(\"Resultado do Broadcasting 2:\\n\", resultado_broadcasting_2)\n"
      ],
      "metadata": {
        "colab": {
          "base_uri": "https://localhost:8080/"
        },
        "id": "lj5FWvFGAHd1",
        "outputId": "75ce4714-5e2f-4a25-f4a9-6749db6400f9"
      },
      "execution_count": null,
      "outputs": [
        {
          "output_type": "stream",
          "name": "stdout",
          "text": [
            "Resultado do Broadcasting:\n",
            " [[11 22 33]\n",
            " [14 25 36]]\n",
            "Resultado do Broadcasting 2:\n",
            " [[101 102 103]\n",
            " [204 205 206]]\n"
          ]
        }
      ]
    }
  ]
}