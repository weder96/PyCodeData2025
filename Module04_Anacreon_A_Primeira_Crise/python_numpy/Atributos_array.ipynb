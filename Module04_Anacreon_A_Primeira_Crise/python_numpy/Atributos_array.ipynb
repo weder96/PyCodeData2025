{
  "nbformat": 4,
  "nbformat_minor": 0,
  "metadata": {
    "colab": {
      "provenance": []
    },
    "kernelspec": {
      "name": "python3",
      "display_name": "Python 3"
    },
    "language_info": {
      "name": "python"
    }
  },
  "cells": [
    {
      "cell_type": "markdown",
      "source": [
        "#Atributos de um Array NumPy\n",
        "Os arrays NumPy possuem vários atributos que fornecem informações sobre sua estrutura e dados."
      ],
      "metadata": {
        "id": "SG4GyZo2-8g0"
      }
    },
    {
      "cell_type": "markdown",
      "source": [
        "##dtype: Tipo de Dado dos Elementos\n",
        "Indica o tipo de dado dos elementos armazenados no array (e.g., int64, float64)."
      ],
      "metadata": {
        "id": "n-a14L3P_CJV"
      }
    },
    {
      "cell_type": "code",
      "source": [
        "import numpy as np"
      ],
      "metadata": {
        "id": "p1Xh2zMiIbzM"
      },
      "execution_count": null,
      "outputs": []
    },
    {
      "cell_type": "code",
      "source": [
        "arr_int = np.array([1, 2, 3])\n",
        "print(\"Tipo de dado de arr_int:\", arr_int.dtype)\n",
        "\n",
        "arr_float = np.array([1.0, 2.5, 3.0])\n",
        "print(\"Tipo de dado de arr_float:\", arr_float.dtype)\n",
        "\n",
        "arr_bool = np.array([True, False, True])\n",
        "print(\"Tipo de dado de arr_bool:\", arr_bool.dtype)"
      ],
      "metadata": {
        "id": "iNUctZzn_Bgt",
        "colab": {
          "base_uri": "https://localhost:8080/"
        },
        "outputId": "4fb8fa04-61e1-42a5-b415-69f87bad0417"
      },
      "execution_count": null,
      "outputs": [
        {
          "output_type": "stream",
          "name": "stdout",
          "text": [
            "Tipo de dado de arr_int: int64\n",
            "Tipo de dado de arr_float: float64\n",
            "Tipo de dado de arr_bool: bool\n"
          ]
        }
      ]
    },
    {
      "cell_type": "markdown",
      "source": [
        "##shape: Formato do Array\n",
        "Retorna uma tupla indicando o número de elementos em cada dimensão."
      ],
      "metadata": {
        "id": "C4Y4qNu9_f3I"
      }
    },
    {
      "cell_type": "code",
      "source": [
        "arr_1d = np.array([1, 2, 3, 4, 5])\n",
        "print(\"Shape de arr_1d:\", arr_1d.shape)\n",
        "\n",
        "arr_2d = np.array([[1, 2, 3], [4, 5, 6]])\n",
        "print(\"Shape de arr_2d:\", arr_2d.shape) # (linhas, colunas)"
      ],
      "metadata": {
        "id": "YcAGgit6_igg",
        "colab": {
          "base_uri": "https://localhost:8080/"
        },
        "outputId": "2ced6b5b-dbc2-44af-bf62-d668b3668782"
      },
      "execution_count": null,
      "outputs": [
        {
          "output_type": "stream",
          "name": "stdout",
          "text": [
            "Shape de arr_1d: (5,)\n",
            "Shape de arr_2d: (2, 3)\n"
          ]
        }
      ]
    },
    {
      "cell_type": "markdown",
      "source": [
        "##size: Número Total de Elementos\n",
        "Retorna o número total de elementos no array."
      ],
      "metadata": {
        "id": "z75LV23n_kzo"
      }
    },
    {
      "cell_type": "code",
      "source": [
        "arr_1d = np.array([1, 2, 3, 4, 5])\n",
        "print(\"Size de arr_1d:\", arr_1d.size)\n",
        "\n",
        "arr_2d = np.array([[1, 2, 3], [4, 5, 6]])\n",
        "print(\"Size de arr_2d:\", arr_2d.size)"
      ],
      "metadata": {
        "id": "lKol-FFF_nAB",
        "colab": {
          "base_uri": "https://localhost:8080/"
        },
        "outputId": "9995f12d-9757-436f-cb14-c7b88cb8d34d"
      },
      "execution_count": null,
      "outputs": [
        {
          "output_type": "stream",
          "name": "stdout",
          "text": [
            "Size de arr_1d: 5\n",
            "Size de arr_2d: 6\n"
          ]
        }
      ]
    },
    {
      "cell_type": "markdown",
      "source": [
        "##ndim: Número de Dimensões\n",
        "Retorna o número de dimensões (eixos) do array. É o mesmo que a dimensão do array, conforme vimos anteriormente."
      ],
      "metadata": {
        "id": "qPPZ1r5g_p9B"
      }
    },
    {
      "cell_type": "code",
      "source": [
        "arr_scalar = np.array(10)\n",
        "print(\"ndim de arr_scalar:\", arr_scalar.ndim)\n",
        "\n",
        "arr_vector = np.array([1, 2, 3])\n",
        "print(\"ndim de arr_vector:\", arr_vector.ndim)\n",
        "\n",
        "arr_matrix = np.array([[1, 2], [3, 4]])\n",
        "print(\"ndim de arr_matrix:\", arr_matrix.ndim)"
      ],
      "metadata": {
        "id": "McjdumYX_pX5",
        "colab": {
          "base_uri": "https://localhost:8080/"
        },
        "outputId": "a038ee23-39b1-4147-e899-814ce998b89d"
      },
      "execution_count": null,
      "outputs": [
        {
          "output_type": "stream",
          "name": "stdout",
          "text": [
            "ndim de arr_scalar: 0\n",
            "ndim de arr_vector: 1\n",
            "ndim de arr_matrix: 2\n"
          ]
        }
      ]
    },
    {
      "cell_type": "markdown",
      "source": [
        "#Conversões de Arrays\n",
        "Você pode converter o tipo de dado de um array usando o método .astype()."
      ],
      "metadata": {
        "id": "Etc65aka_vMj"
      }
    },
    {
      "cell_type": "code",
      "source": [
        "arr1 = np.array([1.5, 2.7, 3.2])\n",
        "print(arr1)\n",
        "print(arr1.dtype)\n",
        "\n",
        "# Convertendo para int (trunca a parte decimal)\n",
        "arr2 = arr1.astype(int)\n",
        "print(arr2)\n",
        "print(arr2.dtype)\n",
        "\n",
        "# Convertendo para float\n",
        "arr3 = np.array([1, 2, 3])\n",
        "\n",
        "print(arr3)\n",
        "print(arr3.dtype)\n",
        "\n",
        "arr4 = arr3.astype(float)\n",
        "print(arr4)\n",
        "print(arr4.dtype)"
      ],
      "metadata": {
        "id": "UWILmACu_x8i",
        "colab": {
          "base_uri": "https://localhost:8080/"
        },
        "outputId": "7f037893-673d-494d-8690-d8960a94ee94"
      },
      "execution_count": null,
      "outputs": [
        {
          "output_type": "stream",
          "name": "stdout",
          "text": [
            "[1.5 2.7 3.2]\n",
            "float64\n",
            "[1 2 3]\n",
            "int64\n",
            "[1 2 3]\n",
            "int64\n",
            "[1. 2. 3.]\n",
            "float64\n"
          ]
        }
      ]
    }
  ]
}