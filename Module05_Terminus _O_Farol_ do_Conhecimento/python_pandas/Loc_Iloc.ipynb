{
  "nbformat": 4,
  "nbformat_minor": 0,
  "metadata": {
    "colab": {
      "provenance": []
    },
    "kernelspec": {
      "name": "python3",
      "display_name": "Python 3"
    },
    "language_info": {
      "name": "python"
    }
  },
  "cells": [
    {
      "cell_type": "markdown",
      "source": [
        "#Seleção de dados de um DataFrame\n",
        "Esses são os principais métodos para selecionar dados em um DataFrame.\n",
        "\n",
        "- [] (Indexação Básica): Usado para selecionar colunas ou fatiar linhas. Para\n",
        "colunas, você passa o nome da coluna (ou uma lista de nomes para múltiplas\n",
        "colunas). Para linhas, você pode usar fatiamento numérico.\n",
        "- .loc[] (Indexação Baseada em Rótulos): Usado para selecionar dados por\n",
        "rótulos de linhas e colunas. É mais explícito e seguro para seleção baseada em\n",
        "nomes.\n",
        "- .iloc[] (Indexação Baseada em Posição Inteira): Usado para selecionar\n",
        "dados por posições inteiras (índices numéricos) de linhas e colunas. É útil\n",
        "quando você precisa selecionar por posição, independentemente dos rótulos."
      ],
      "metadata": {
        "id": "dZQrATVAV6ct"
      }
    },
    {
      "cell_type": "code",
      "execution_count": null,
      "metadata": {
        "id": "MoehCZYrV5O2"
      },
      "outputs": [],
      "source": [
        "import pandas as pd\n",
        "df_selecao = pd.DataFrame({\n",
        "'Produto': ['A', 'B', 'C', 'D', 'E'],\n",
        "'Preco': [10.5, 20.0, 15.75, 30.0, 25.25],\n",
        "'Estoque': [100, 50, 75, 20, 90]\n",
        "}, index=['item1', 'item2', 'item3', 'item4', 'item5'])"
      ]
    },
    {
      "cell_type": "code",
      "source": [
        "#Seleção de coluna com []\n",
        "print('--- Seleção de coluna com [] ---')\n",
        "print(df_selecao['Produto'])"
      ],
      "metadata": {
        "id": "2ouRXPUXWUzR"
      },
      "execution_count": null,
      "outputs": []
    },
    {
      "cell_type": "code",
      "source": [
        "#Seleção de múltiplas colunas com []\n",
        "print('\\n--- Seleção de múltiplas colunas com [] ---')\n",
        "print(df_selecao[['Produto', 'Preco']])"
      ],
      "metadata": {
        "id": "hKLBjgQiWZKZ"
      },
      "execution_count": null,
      "outputs": []
    },
    {
      "cell_type": "code",
      "source": [
        "#Seleção de linha com .loc[]\n",
        "print('\\n--- Seleção de linha com .loc[] (por rótulo) ---')\n",
        "print(df_selecao.loc['item3'])"
      ],
      "metadata": {
        "id": "0yRevKyfWfaN"
      },
      "execution_count": null,
      "outputs": []
    },
    {
      "cell_type": "code",
      "source": [
        "#Seleção de linhas e colunas com .loc[]\n",
        "print('\\n--- Seleção de linhas e colunas com .loc[] ---')\n",
        "print(df_selecao.loc[['item1', 'item5'], ['Preco', 'Estoque']])"
      ],
      "metadata": {
        "id": "zUy5uyhcWkfe"
      },
      "execution_count": null,
      "outputs": []
    },
    {
      "cell_type": "code",
      "source": [
        "#Seleção de linha por posição com .iloc[]\n",
        "print('\\n--- Seleção de linha com .iloc[] (por posição) ---')\n",
        "print(df_selecao.iloc[2]) # Seleciona a terceira linha (índice 2)"
      ],
      "metadata": {
        "id": "tXEGtmPDWpIX"
      },
      "execution_count": null,
      "outputs": []
    },
    {
      "cell_type": "code",
      "source": [
        "#Seleção de linhas e colunas com .iloc[]\n",
        "print('\\n--- Seleção de linhas e colunas com .iloc[] ---')\n",
        "print(df_selecao.iloc[0:2, 1:3]) # Seleciona as duas primeiras linhas e as colunas 1 e 2"
      ],
      "metadata": {
        "id": "anx3nc8zWuWC"
      },
      "execution_count": null,
      "outputs": []
    }
  ]
}