{
 "cells": [
  {
   "cell_type": "markdown",
   "id": "76280d9d",
   "metadata": {},
   "source": [
    "# Volume 06\n",
    "\n",
    "### Introdução ao Pandas"
   ]
  },
  {
   "cell_type": "code",
   "execution_count": 1,
   "id": "7248e396",
   "metadata": {},
   "outputs": [],
   "source": [
    "import pandas as pd\n",
    "import numpy as np"
   ]
  },
  {
   "cell_type": "code",
   "execution_count": 9,
   "id": "265a8ff6",
   "metadata": {},
   "outputs": [],
   "source": [
    "def generate_historical_series(initial_value, volatility, periods, start_date, frequency=\"ME\"):\n",
    "    \"\"\"\n",
    "    Generates a historical time series based on an initial value and volatility.\n",
    "    Args:\n",
    "        initial_value (float): The starting value of the series.\n",
    "        volatility (float): The volatility for the random walk (e.g., 0.02 for 2%).\n",
    "        periods (int): The number of periods to generate.\n",
    "        start_date (str or datetime): The starting date for the series.\n",
    "        frequency (str, optional): The frequency for the date range (Pandas offset alias). \n",
    "                                   Defaults to \"ME\" (Month End).\n",
    "\n",
    "    Returns:\n",
    "        pd.Series: A Pandas Series with a DatetimeIndex.\n",
    "    \"\"\"    \n",
    "    prices = [initial_value]\n",
    "    \n",
    "    for i in range(periods - 1):\n",
    "        price = prices[i] * (1 + np.random.normal(0, volatility))\n",
    "        prices.append(price)\n",
    "    \n",
    "    series = pd.Series(prices, index=pd.date_range(start_date, \n",
    "                                                   periods=periods, \n",
    "                                                   freq=frequency))\n",
    "                                \n",
    "    return series"
   ]
  },
  {
   "cell_type": "code",
   "execution_count": 11,
   "id": "4b781fda",
   "metadata": {
    "scrolled": true
   },
   "outputs": [
    {
     "data": {
      "text/plain": [
       "2025-01-31    20.000000\n",
       "2025-02-28    19.422512\n",
       "2025-03-31    19.188287\n",
       "2025-04-30    20.626133\n",
       "2025-05-31    22.359943\n",
       "Freq: ME, dtype: float64"
      ]
     },
     "execution_count": 11,
     "metadata": {},
     "output_type": "execute_result"
    }
   ],
   "source": [
    "serie_euro = generate_historical_series(5, 0.01, 5, \"2025-01-01\")\n",
    "serie_cotation = generate_historical_series(20, 0.05, 5, \"2025-01-01\")\n",
    "serie_cotation"
   ]
  },
  {
   "cell_type": "code",
   "execution_count": 12,
   "id": "bbd44525",
   "metadata": {},
   "outputs": [
    {
     "data": {
      "text/plain": [
       "2025-01-31    5.000000\n",
       "2025-02-28    4.982732\n",
       "2025-03-31    4.933459\n",
       "2025-04-30    4.933073\n",
       "2025-05-31    4.909296\n",
       "Freq: ME, dtype: float64"
      ]
     },
     "execution_count": 12,
     "metadata": {},
     "output_type": "execute_result"
    }
   ],
   "source": [
    "serie_euro"
   ]
  },
  {
   "cell_type": "code",
   "execution_count": 15,
   "id": "2fff8be0",
   "metadata": {},
   "outputs": [
    {
     "data": {
      "text/plain": [
       "2025-01-31    4.000000\n",
       "2025-02-28    3.897965\n",
       "2025-03-31    3.889418\n",
       "2025-04-30    4.181193\n",
       "2025-05-31    4.554613\n",
       "Freq: ME, dtype: float64"
      ]
     },
     "execution_count": 15,
     "metadata": {},
     "output_type": "execute_result"
    }
   ],
   "source": [
    "#as operações aritméticas são feitas através dos índices! \n",
    "\n",
    "serie_cotation_euro = serie_cotation/serie_euro\n",
    "serie_cotation_euro"
   ]
  },
  {
   "cell_type": "code",
   "execution_count": 16,
   "id": "08aace19",
   "metadata": {},
   "outputs": [
    {
     "data": {
      "text/html": [
       "<div>\n",
       "<style scoped>\n",
       "    .dataframe tbody tr th:only-of-type {\n",
       "        vertical-align: middle;\n",
       "    }\n",
       "\n",
       "    .dataframe tbody tr th {\n",
       "        vertical-align: top;\n",
       "    }\n",
       "\n",
       "    .dataframe thead th {\n",
       "        text-align: right;\n",
       "    }\n",
       "</style>\n",
       "<table border=\"1\" class=\"dataframe\">\n",
       "  <thead>\n",
       "    <tr style=\"text-align: right;\">\n",
       "      <th></th>\n",
       "      <th>cotation</th>\n",
       "      <th>profit_by_stock</th>\n",
       "    </tr>\n",
       "  </thead>\n",
       "  <tbody>\n",
       "    <tr>\n",
       "      <th>2022-01-31</th>\n",
       "      <td>20.000000</td>\n",
       "      <td>2.000000</td>\n",
       "    </tr>\n",
       "    <tr>\n",
       "      <th>2022-02-28</th>\n",
       "      <td>19.128728</td>\n",
       "      <td>2.354524</td>\n",
       "    </tr>\n",
       "    <tr>\n",
       "      <th>2022-03-31</th>\n",
       "      <td>18.661708</td>\n",
       "      <td>3.468132</td>\n",
       "    </tr>\n",
       "    <tr>\n",
       "      <th>2022-04-30</th>\n",
       "      <td>19.165788</td>\n",
       "      <td>1.623564</td>\n",
       "    </tr>\n",
       "    <tr>\n",
       "      <th>2022-05-31</th>\n",
       "      <td>19.549347</td>\n",
       "      <td>2.219507</td>\n",
       "    </tr>\n",
       "  </tbody>\n",
       "</table>\n",
       "</div>"
      ],
      "text/plain": [
       "             cotation  profit_by_stock\n",
       "2022-01-31  20.000000         2.000000\n",
       "2022-02-28  19.128728         2.354524\n",
       "2022-03-31  18.661708         3.468132\n",
       "2022-04-30  19.165788         1.623564\n",
       "2022-05-31  19.549347         2.219507"
      ]
     },
     "execution_count": 16,
     "metadata": {},
     "output_type": "execute_result"
    }
   ],
   "source": [
    "serie_profit = generate_historical_series(2, 0.5, 5, \"2022-01-01\")\n",
    "serie_cotation = generate_historical_series(20, 0.05, 5, \"2022-01-01\")\n",
    "\n",
    "\n",
    "df = pd.DataFrame({\"cotation\": serie_cotation,\n",
    "                   \"profit_by_stock\": serie_profit})\n",
    "\n",
    "df"
   ]
  },
  {
   "cell_type": "code",
   "execution_count": 17,
   "id": "fae71440",
   "metadata": {},
   "outputs": [
    {
     "data": {
      "text/html": [
       "<div>\n",
       "<style scoped>\n",
       "    .dataframe tbody tr th:only-of-type {\n",
       "        vertical-align: middle;\n",
       "    }\n",
       "\n",
       "    .dataframe tbody tr th {\n",
       "        vertical-align: top;\n",
       "    }\n",
       "\n",
       "    .dataframe thead th {\n",
       "        text-align: right;\n",
       "    }\n",
       "</style>\n",
       "<table border=\"1\" class=\"dataframe\">\n",
       "  <thead>\n",
       "    <tr style=\"text-align: right;\">\n",
       "      <th></th>\n",
       "      <th>cotation</th>\n",
       "      <th>profit_by_stock</th>\n",
       "      <th>PL</th>\n",
       "    </tr>\n",
       "  </thead>\n",
       "  <tbody>\n",
       "    <tr>\n",
       "      <th>2022-01-31</th>\n",
       "      <td>20.000000</td>\n",
       "      <td>2.000000</td>\n",
       "      <td>10.000000</td>\n",
       "    </tr>\n",
       "    <tr>\n",
       "      <th>2022-02-28</th>\n",
       "      <td>19.128728</td>\n",
       "      <td>2.354524</td>\n",
       "      <td>8.124242</td>\n",
       "    </tr>\n",
       "    <tr>\n",
       "      <th>2022-03-31</th>\n",
       "      <td>18.661708</td>\n",
       "      <td>3.468132</td>\n",
       "      <td>5.380911</td>\n",
       "    </tr>\n",
       "    <tr>\n",
       "      <th>2022-04-30</th>\n",
       "      <td>19.165788</td>\n",
       "      <td>1.623564</td>\n",
       "      <td>11.804761</td>\n",
       "    </tr>\n",
       "    <tr>\n",
       "      <th>2022-05-31</th>\n",
       "      <td>19.549347</td>\n",
       "      <td>2.219507</td>\n",
       "      <td>8.807968</td>\n",
       "    </tr>\n",
       "  </tbody>\n",
       "</table>\n",
       "</div>"
      ],
      "text/plain": [
       "             cotation  profit_by_stock         PL\n",
       "2022-01-31  20.000000         2.000000  10.000000\n",
       "2022-02-28  19.128728         2.354524   8.124242\n",
       "2022-03-31  18.661708         3.468132   5.380911\n",
       "2022-04-30  19.165788         1.623564  11.804761\n",
       "2022-05-31  19.549347         2.219507   8.807968"
      ]
     },
     "execution_count": 17,
     "metadata": {},
     "output_type": "execute_result"
    }
   ],
   "source": [
    "#criando coluna P/L\n",
    "\n",
    "df['PL'] = df['cotation']/df['profit_by_stock']\n",
    "\n",
    "df"
   ]
  },
  {
   "cell_type": "code",
   "execution_count": 21,
   "id": "04c71e80",
   "metadata": {},
   "outputs": [
    {
     "name": "stdout",
     "output_type": "stream",
     "text": [
      "2022-01-31    22.000000\n",
      "2022-02-28    21.483252\n",
      "2022-03-31    22.129840\n",
      "2022-04-30    20.789352\n",
      "2022-05-31    21.768854\n",
      "Freq: ME, dtype: float64\n",
      "2022-01-31    18.000000\n",
      "2022-02-28    16.774203\n",
      "2022-03-31    15.193576\n",
      "2022-04-30    17.542224\n",
      "2022-05-31    17.329840\n",
      "Freq: ME, dtype: float64\n",
      "2022-01-31      400.000000\n",
      "2022-02-28     1041.744657\n",
      "2022-03-31    25575.677904\n",
      "2022-04-30      120.854964\n",
      "2022-05-31      733.968300\n",
      "Freq: ME, dtype: float64\n"
     ]
    }
   ],
   "source": [
    "#pode fazer qualquer operação \n",
    "\n",
    "print(df['cotation'] + df['profit_by_stock'])\n",
    "print(df['cotation'] - df['profit_by_stock'])\n",
    "print(df['cotation'] ** df['profit_by_stock'])"
   ]
  },
  {
   "cell_type": "code",
   "execution_count": 29,
   "id": "86208892",
   "metadata": {},
   "outputs": [
    {
     "name": "stdout",
     "output_type": "stream",
     "text": [
      "--- Série de Lucro Trimestral ---\n",
      "2025-03-31    20000.000000\n",
      "2025-06-30    22313.514139\n",
      "2025-09-30    25091.351669\n",
      "2025-12-31    28361.587131\n",
      "Freq: QE-DEC, dtype: float64\n",
      "\n",
      "--- Soma do Lucro Anual ---\n",
      "95766.45293904367\n"
     ]
    }
   ],
   "source": [
    "# O nome do argumento foi corrigido de \"frequencia\" para \"frequency\".\n",
    "# O argumento \"freq\" é \"Q\" para \"Quarter\" (Trimestre), o que está correto para a sua necessidade.\n",
    "serie_profit_trimestral = generate_historical_series(20000, 0.1, 4, \"2025-01-01\", frequency=\"QE\") # Ajustei a volatilidade para 0.1 (10%) para um resultado mais realista\n",
    "\n",
    "print(\"--- Série de Lucro Trimestral ---\")\n",
    "print(serie_profit_trimestral)\n",
    "\n",
    "# A sua lógica para somar está perfeitamente correta.\n",
    "profit_anual = serie_profit_trimestral.sum()\n",
    "\n",
    "# CORREÇÃO 3: Usar print() para garantir que o resultado seja exibido.\n",
    "print(\"\\n--- Soma do Lucro Anual ---\")\n",
    "print(profit_anual)"
   ]
  },
  {
   "cell_type": "code",
   "execution_count": 30,
   "id": "39e72bf8",
   "metadata": {},
   "outputs": [
    {
     "name": "stdout",
     "output_type": "stream",
     "text": [
      "2025-03-31    20000.000000\n",
      "2025-06-30      163.949699\n",
      "2025-09-30      404.038873\n",
      "2025-12-31     -227.935495\n",
      "Freq: QE-DEC, dtype: float64\n"
     ]
    },
    {
     "data": {
      "text/plain": [
       "2025-03-31    20000.000000\n",
       "2025-06-30    20163.949699\n",
       "2025-09-30    20567.988571\n",
       "2025-12-31    20340.053076\n",
       "Freq: QE-DEC, dtype: float64"
      ]
     },
     "execution_count": 30,
     "metadata": {},
     "output_type": "execute_result"
    }
   ],
   "source": [
    "#acumular dados de uma coluna\n",
    "\n",
    "serie_profit_trimestral = generate_historical_series(20000, 2, 4, \"2025-01-01\", frequency = \"QE\")\n",
    "\n",
    "print(serie_profit_trimestral)\n",
    "\n",
    "crescimento_lucros  = serie_profit_trimestral.cumsum()\n",
    "\n",
    "crescimento_lucros"
   ]
  },
  {
   "cell_type": "code",
   "execution_count": null,
   "id": "573a6bf6",
   "metadata": {},
   "outputs": [],
   "source": [
    "#maior e menor dado de lucro no trimestre"
   ]
  },
  {
   "cell_type": "code",
   "execution_count": 33,
   "id": "2147d92c",
   "metadata": {},
   "outputs": [
    {
     "name": "stdout",
     "output_type": "stream",
     "text": [
      "2025-03-31    20000.000000\n",
      "2025-06-30    21634.872864\n",
      "2025-09-30    39527.002786\n",
      "2025-12-31    24136.039725\n",
      "Freq: QE-DEC, dtype: float64\n",
      "20000.0\n",
      "39527.002786248355\n"
     ]
    }
   ],
   "source": [
    "serie_profit_trimestral = generate_historical_series(20000, 2, 4, \"2025-01-01\", frequency = \"QE\")\n",
    "\n",
    "print(serie_profit_trimestral)\n",
    "\n",
    "profit_max = serie_profit_trimestral.max()\n",
    "profit_min = serie_profit_trimestral.min()\n",
    "\n",
    "print(profit_min)\n",
    "print(profit_max)"
   ]
  },
  {
   "cell_type": "markdown",
   "id": "21e3586e",
   "metadata": {},
   "source": [
    "# Exercícios \n",
    "\n",
    "No dataframe base trabalhado em todas as aulas:\n",
    "\n",
    "* Exercício 50: Crie uma nova coluna chamada \"lucro_por_acao\" e calcule o lucro por ação baseado nas informações de PL e preço. Obs: LPA = P/Indicador(PL)\n",
    "* Exercício 51: Assuma a cotação do dólar como 5.25 e crie a coluna de cotações dolarizadas na tabela.\n",
    "* Exercício 52: Encontre qual volume total negociado por todas as ações. \n",
    "* Exercício 53: Selecione as ações com maior e menor Lucro por ação do dataframe. Dica: use métodos de seleção ensinados na aula passada! \n"
   ]
  },
  {
   "cell_type": "code",
   "execution_count": null,
   "id": "c3254fd5",
   "metadata": {},
   "outputs": [],
   "source": []
  }
 ],
 "metadata": {
  "kernelspec": {
   "display_name": "Python 3",
   "language": "python",
   "name": "python3"
  },
  "language_info": {
   "codemirror_mode": {
    "name": "ipython",
    "version": 3
   },
   "file_extension": ".py",
   "mimetype": "text/x-python",
   "name": "python",
   "nbconvert_exporter": "python",
   "pygments_lexer": "ipython3",
   "version": "3.10.12"
  }
 },
 "nbformat": 4,
 "nbformat_minor": 5
}
