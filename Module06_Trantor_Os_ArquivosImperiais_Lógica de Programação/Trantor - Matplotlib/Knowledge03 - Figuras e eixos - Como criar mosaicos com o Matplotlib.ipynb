{
 "cells": [
  {
   "cell_type": "markdown",
   "id": "554c5c9a",
   "metadata": {},
   "source": [
    "# Mundo 3 - Criando Figuras e Eixos"
   ]
  },
  {
   "cell_type": "code",
   "execution_count": null,
   "id": "ba4b8e26",
   "metadata": {},
   "outputs": [],
   "source": [
    "import matplotlib.pyplot as plt\n",
    "import numpy as np\n",
    "import pandas as pd\n",
    "import yfinance as yf"
   ]
  },
  {
   "cell_type": "code",
   "execution_count": null,
   "id": "11f8f6ef",
   "metadata": {},
   "outputs": [],
   "source": [
    "params = {\"ytick.color\" : \"w\",\n",
    "          \"xtick.color\" : \"w\",\n",
    "          \"axes.labelcolor\" : \"w\",\n",
    "          \"axes.edgecolor\" : \"w\"}\n",
    "plt.rcParams.update(params)"
   ]
  },
  {
   "cell_type": "code",
   "execution_count": null,
   "id": "3954738f",
   "metadata": {
    "scrolled": true
   },
   "outputs": [],
   "source": [
    "fig, ax = plt.subplots()\n",
    "\n",
    "ax.plot([2, 4, 6], [1, 2, 3])"
   ]
  },
  {
   "cell_type": "code",
   "execution_count": null,
   "id": "9866afb4",
   "metadata": {},
   "outputs": [],
   "source": [
    "fig, ax = plt.subplots(10, 10, figsize = (20, 15))\n",
    "\n",
    "for i in range(10):\n",
    "    for j in range(10):\n",
    "        \n",
    "        ax[i, j].plot(np.random.random(10))\n",
    "        \n",
    "plt.show()"
   ]
  },
  {
   "cell_type": "code",
   "execution_count": null,
   "id": "9dd6d05e",
   "metadata": {},
   "outputs": [],
   "source": [
    "fig, ax = plt.subplots()\n",
    "\n",
    "\n",
    "ax.plot([10, 20, 30], [40, 50, 60])"
   ]
  },
  {
   "cell_type": "code",
   "execution_count": null,
   "id": "332c607d",
   "metadata": {},
   "outputs": [],
   "source": [
    "cotacao_weg = yf.download(\"WEGE3.SA\")['Adj Close']\n",
    "\n",
    "fig, ax = plt.subplots()\n",
    "\n",
    "\n",
    "ax.plot(cotacao_weg.index, cotacao_weg.values)"
   ]
  },
  {
   "cell_type": "code",
   "execution_count": null,
   "id": "42527a4e",
   "metadata": {},
   "outputs": [],
   "source": [
    "cotacao_weg.plot()"
   ]
  },
  {
   "cell_type": "code",
   "execution_count": null,
   "id": "1c28eaf2",
   "metadata": {},
   "outputs": [],
   "source": [
    "cotacoes = yf.download([\"WEGE3.SA\", \"PETR4.SA\", \"VALE3.SA\", \"LREN3.SA\"])['Adj Close']\n",
    "\n",
    "fig, ax = plt.subplots(2, 2, figsize = (20, 7))#, sharey = True)\n",
    "\n",
    "coluna = 0\n",
    "\n",
    "for i in range(2):\n",
    "    for j in range(2):\n",
    "        \n",
    "        ax[i, j].plot(cotacoes.index, cotacoes.iloc[:, coluna])\n",
    "        ax[i, j].set_title(cotacoes.columns[coluna])\n",
    "        \n",
    "        coluna = coluna + 1"
   ]
  },
  {
   "cell_type": "code",
   "execution_count": null,
   "id": "f2d21f32",
   "metadata": {},
   "outputs": [],
   "source": [
    "fig = plt.figure()\n",
    "\n",
    "#existem N formas de crias eixos e figuras mas 99% da internet cria assim e isso que importa."
   ]
  },
  {
   "cell_type": "markdown",
   "id": "c28cd4dd",
   "metadata": {},
   "source": [
    "# Exercícios \n",
    "\n",
    "* Exercício 90: Crie uma figura e um eixo genérico dentro do Python.\n",
    "* Exercício 91: Peça para o usuário inserir o nome de 3 ações e crie o gráfico de cotações das 3 ações e o do ibovespa em um quadrante 2x2."
   ]
  },
  {
   "cell_type": "code",
   "execution_count": null,
   "id": "a8c70cc2",
   "metadata": {},
   "outputs": [],
   "source": []
  },
  {
   "cell_type": "code",
   "execution_count": null,
   "id": "ad862e8a",
   "metadata": {},
   "outputs": [],
   "source": []
  },
  {
   "cell_type": "code",
   "execution_count": null,
   "id": "8b9348a1",
   "metadata": {},
   "outputs": [],
   "source": [
    "#gabarito 90\n",
    "\n",
    "fig, ax = plt.subplots()"
   ]
  },
  {
   "cell_type": "code",
   "execution_count": null,
   "id": "e2285a0a",
   "metadata": {},
   "outputs": [],
   "source": [
    "#gabarito 91\n",
    "\n",
    "acao1 = str(input(\"Escolha a 1º ação: \"))\n",
    "acao2 = str(input(\"Escolha a 2º ação: \"))\n",
    "acao3 = str(input(\"Escolha a 3º ação: \"))\n",
    "\n",
    "lista_acoes = [acao1, acao2, acao3]\n",
    "\n",
    "lista_acoes = [acao + \".SA\" for acao in lista_acoes]\n",
    "\n",
    "lista_acoes.append(\"^BVSP\")\n",
    "\n",
    "base_dados = yf.download(lista_acoes)['Adj Close']\n",
    "\n",
    "fig, ax = plt.subplots(2, 2, figsize = (20, 7))\n",
    "\n",
    "coluna = 0\n",
    "\n",
    "for i in range(2):\n",
    "    for j in range(2):\n",
    "        \n",
    "        ax[i, j].plot(base_dados.index, base_dados.iloc[:, coluna])\n",
    "        ax[i, j].set_title(base_dados.columns[coluna])\n",
    "        \n",
    "        coluna = coluna + 1\n"
   ]
  },
  {
   "cell_type": "markdown",
   "id": "dd6ea7df",
   "metadata": {},
   "source": [
    "# Mundo 4 \n",
    "\n",
    "Como mudar a legenda do eixo x e y?"
   ]
  }
 ],
 "metadata": {
  "kernelspec": {
   "display_name": "Python 3",
   "language": "python",
   "name": "python3"
  },
  "language_info": {
   "codemirror_mode": {
    "name": "ipython",
    "version": 3
   },
   "file_extension": ".py",
   "mimetype": "text/x-python",
   "name": "python",
   "nbconvert_exporter": "python",
   "pygments_lexer": "ipython3",
   "version": "3.8.10"
  },
  "vscode": {
   "interpreter": {
    "hash": "916dbcbb3f70747c44a77c7bcd40155683ae19c65e1c03b4aa3499c5328201f1"
   }
  }
 },
 "nbformat": 4,
 "nbformat_minor": 5
}
