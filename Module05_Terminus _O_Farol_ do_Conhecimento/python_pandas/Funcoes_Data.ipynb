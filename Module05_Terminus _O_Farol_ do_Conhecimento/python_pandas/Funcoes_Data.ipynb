{
  "nbformat": 4,
  "nbformat_minor": 0,
  "metadata": {
    "colab": {
      "provenance": []
    },
    "kernelspec": {
      "name": "python3",
      "display_name": "Python 3"
    },
    "language_info": {
      "name": "python"
    }
  },
  "cells": [
    {
      "cell_type": "markdown",
      "source": [
        "#pd.to_datetime()\n",
        "A função pd.to_datetime() é usada para converter argumentos para datetime. Isso é\n",
        "crucial quando você lê dados e as colunas de data são importadas como strings ou\n",
        "objetos."
      ],
      "metadata": {
        "id": "v9trbUBgmFto"
      }
    },
    {
      "cell_type": "code",
      "execution_count": null,
      "metadata": {
        "id": "IDwJfKH2l8sF"
      },
      "outputs": [],
      "source": [
        "import pandas as pd\n",
        "# Criando um DataFrame com datas em formato string\n",
        "df_datas = pd.DataFrame({\n",
        "'Data_String': ['2023-01-01', '2023-01-02', '2023-01-03', '2023-01-04'],\n",
        "'Evento': ['Feriado', 'Reunião', 'Lançamento', 'Manutenção']\n",
        "})\n",
        "print('--- DataFrame Original (tipos de dados) ---\\n', df_datas.dtypes)"
      ]
    },
    {
      "cell_type": "code",
      "source": [
        "# Convertendo a coluna 'Data_String' para datetime\n",
        "df_datas['Data'] = pd.to_datetime(df_datas['Data_String'])\n",
        "print('\\n--- DataFrame após pd.to_datetime() (tipos de dados) ---\\n', df_datas.dtypes)\n",
        "print('\\n--- DataFrame após pd.to_datetime() ---\\n', df_datas)"
      ],
      "metadata": {
        "id": "1_Sgwp4Ym86f"
      },
      "execution_count": null,
      "outputs": []
    },
    {
      "cell_type": "code",
      "source": [
        "# Lidando com formatos diferentes\n",
        "df_datas_formatos = pd.DataFrame({\n",
        "'Data_Custom': ['01/01/2023', '02-Jan-2023', '20230103'], 'Valor': [10, 20, 30] })\n",
        "df_datas_formatos['Data_Custom_Convertida'] =\n",
        "pd.to_datetime(df_datas_formatos['Data_Custom'], format='mixed')\n",
        "print('\\n--- DataFrame com formatos mistos ---\\n', df_datas_formatos)"
      ],
      "metadata": {
        "id": "7VsdTPmQm-L3"
      },
      "execution_count": null,
      "outputs": []
    },
    {
      "cell_type": "markdown",
      "source": [
        "Uma vez que uma coluna é do tipo datetime, você pode facilmente extrair\n",
        "componentes como ano, mês, dia, dia da semana, hora, etc., usando o acessor .dt ."
      ],
      "metadata": {
        "id": "ccMT1RLgmP8V"
      }
    },
    {
      "cell_type": "code",
      "source": [
        "#Extração de datas\n",
        "df_partes_data = pd.DataFrame({\n",
        "'Timestamp': pd.to_datetime(['2023-01-15 10:30:00', '2023-02-20 14:00:00',\n",
        "'2023-03-25 08:45:00'])\n",
        "})\n",
        "print('--- DataFrame Original ---\\n', df_partes_data)\n",
        "df_partes_data['Ano'] = df_partes_data['Timestamp'].dt.year\n",
        "df_partes_data['Mes'] = df_partes_data['Timestamp'].dt.month\n",
        "df_partes_data['Dia'] = df_partes_data['Timestamp'].dt.day\n",
        "df_partes_data['Hora'] = df_partes_data['Timestamp'].dt.hour\n",
        "df_partes_data['Dia_da_Semana'] = df_partes_data['Timestamp'].dt.dayofweek #\n",
        "Segunda=0, Domingo=6\n",
        "df_partes_data['Nome_Dia_Semana'] = df_partes_data['Timestamp'].dt.day_name()\n",
        "print('\\n--- DataFrame com partes da data extraídas ---\\n', df_partes_data)"
      ],
      "metadata": {
        "id": "zeBlf73AmRPf"
      },
      "execution_count": null,
      "outputs": []
    },
    {
      "cell_type": "markdown",
      "source": [
        "##**Filtragem por data e intervalo de tempo**\n",
        "Filtrar dados por datas ou intervalos de tempo é uma operação comum e eficiente no Pandas.\n"
      ],
      "metadata": {
        "id": "ZnqbJqU5mYoP"
      }
    },
    {
      "cell_type": "code",
      "source": [
        "#Criação do segundo DataFrame\n",
        "df2 = pd.DataFrame({\n",
        "'Data': pd.to_datetime(['2023-01-01', '2023-01-15', '2023-02-01', '2023-02-10', '2023-03-05', '2023-03-20']),\n",
        "'Valor': [100, 120, 150, 130, 180, 160]\n",
        "})\n",
        "print('--- DataFrame Original ---\\n', df2)"
      ],
      "metadata": {
        "id": "3Jxwi-ICmjVS"
      },
      "execution_count": null,
      "outputs": []
    },
    {
      "cell_type": "code",
      "source": [
        "# Filtrar por uma data específica\n",
        "filtro_data_especifica = df2[df2['Data'] == '2023-01-15']\n",
        "print('\\n--- Dados de 2023-01-15 ---\\n', filtro_data_especifica)"
      ],
      "metadata": {
        "id": "8-91DFjOmpwG"
      },
      "execution_count": null,
      "outputs": []
    },
    {
      "cell_type": "code",
      "source": [
        "# Filtrar por um mês específico\n",
        "filtro_mes = df2[df2['Data'].dt.month == 2]\n",
        "print('\\n--- Dados de Fevereiro ---\\n', filtro_mes)"
      ],
      "metadata": {
        "id": "naMl10IUmrIh"
      },
      "execution_count": null,
      "outputs": []
    },
    {
      "cell_type": "code",
      "source": [
        "# Filtrar por um intervalo de tempo\n",
        "filtro_intervalo = df2[(df2['Data'] >= '2023-01-01') & (df2['Data'] <= '2023-02-15')]\n",
        "print('\\n--- Dados entre 01/Jan e 15/Fev ---\\n', filtro_intervalo)"
      ],
      "metadata": {
        "id": "_Af_GEa_msY6"
      },
      "execution_count": null,
      "outputs": []
    },
    {
      "cell_type": "code",
      "source": [
        "# Usando .between() para intervalos\n",
        "filtro_between = df2[df2['Data'].between('2023-01-01', '2023-02-15')]\n",
        "print('\\n--- Dados entre 01/Jan e 15/Fev (usando between) ---\\n', filtro_between)"
      ],
      "metadata": {
        "id": "-bZFlpoNmtix"
      },
      "execution_count": null,
      "outputs": []
    }
  ]
}