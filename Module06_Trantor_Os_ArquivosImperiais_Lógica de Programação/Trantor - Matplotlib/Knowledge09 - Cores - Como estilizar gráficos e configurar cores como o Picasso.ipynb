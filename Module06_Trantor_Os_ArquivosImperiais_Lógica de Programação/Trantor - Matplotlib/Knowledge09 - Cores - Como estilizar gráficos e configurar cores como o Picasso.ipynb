{
 "cells": [
  {
   "cell_type": "markdown",
   "id": "6563bc5a",
   "metadata": {},
   "source": [
    "# Mundo 9 - Configurar cores no matplotlib"
   ]
  },
  {
   "cell_type": "markdown",
   "id": "02f65081",
   "metadata": {},
   "source": [
    "https://matplotlib.org/stable/tutorials/colors/colors.html#sphx-glr-tutorials-colors-colors-py"
   ]
  },
  {
   "cell_type": "code",
   "execution_count": null,
   "id": "1a7bdd8c",
   "metadata": {},
   "outputs": [],
   "source": [
    "import matplotlib.pyplot as plt\n",
    "import numpy as np\n",
    "import pandas as pd\n",
    "import yfinance as yf"
   ]
  },
  {
   "cell_type": "code",
   "execution_count": null,
   "id": "adc243a1",
   "metadata": {},
   "outputs": [],
   "source": [
    "params = {\"ytick.color\" : \"w\",\n",
    "          \"xtick.color\" : \"w\",\n",
    "          \"axes.labelcolor\" : \"w\",\n",
    "          \"axes.edgecolor\" : \"w\"}\n",
    "plt.rcParams.update(params)"
   ]
  },
  {
   "cell_type": "code",
   "execution_count": null,
   "id": "ba690fd2",
   "metadata": {},
   "outputs": [],
   "source": [
    "cotacoes = yf.download([\"WEGE3.SA\"])['Adj Close']"
   ]
  },
  {
   "cell_type": "code",
   "execution_count": null,
   "id": "b21ed316",
   "metadata": {
    "scrolled": true
   },
   "outputs": [],
   "source": [
    "#trocando a cor pelo nome\n",
    "\n",
    "fig, ax = plt.subplots()\n",
    "\n",
    "ax.plot(cotacoes.index, cotacoes.values, color = \"black\")\n",
    "ax.set_facecolor('c')"
   ]
  },
  {
   "cell_type": "markdown",
   "id": "807dc0a6",
   "metadata": {},
   "source": [
    "# Cores por código\n",
    "\n",
    "https://www.hexcolortool.com/#42eaf0"
   ]
  },
  {
   "cell_type": "code",
   "execution_count": null,
   "id": "187a00a4",
   "metadata": {},
   "outputs": [],
   "source": [
    "#trocando a cor pelo código da cor\n",
    "\n",
    "fig, ax = plt.subplots()\n",
    "\n",
    "ax.plot(cotacoes.index, cotacoes.values, color = \"#42eaf0\")\n",
    "ax.set_facecolor('black')"
   ]
  },
  {
   "cell_type": "code",
   "execution_count": null,
   "id": "2b97e523",
   "metadata": {},
   "outputs": [],
   "source": [
    "#trocando a cor pelo número da cor\n",
    "\n",
    "fig, ax = plt.subplots()\n",
    "\n",
    "ax.plot(cotacoes.index, cotacoes.values, color = (65/255, 234/255, 240/255))\n",
    "ax.set_facecolor((10/255, 0/255, 0/255))\n",
    "\n"
   ]
  },
  {
   "cell_type": "markdown",
   "id": "1e7b3a6e",
   "metadata": {},
   "source": [
    "# Configurando cores por estilos\n",
    "\n",
    "https://matplotlib.org/stable/gallery/style_sheets/style_sheets_reference.html"
   ]
  },
  {
   "cell_type": "code",
   "execution_count": null,
   "id": "75b19cab",
   "metadata": {},
   "outputs": [],
   "source": [
    "plt.style.available"
   ]
  },
  {
   "cell_type": "code",
   "execution_count": null,
   "id": "8caaf407",
   "metadata": {},
   "outputs": [],
   "source": [
    "plt.style.use(\"default\")\n",
    "#plt.style.use(\"ggplot\")\n",
    "\n",
    "fig, ax = plt.subplots()\n",
    "\n",
    "ax.plot(cotacoes.index, cotacoes.values)"
   ]
  },
  {
   "cell_type": "code",
   "execution_count": null,
   "id": "3e7a9026",
   "metadata": {},
   "outputs": [],
   "source": [
    "!pip install -q mplcyberpunk"
   ]
  },
  {
   "cell_type": "code",
   "execution_count": null,
   "id": "b3b39e17",
   "metadata": {},
   "outputs": [],
   "source": [
    "import mplcyberpunk\n",
    "import matplotlib.ticker as mtick\n",
    "\n",
    "plt.style.use(\"cyberpunk\")"
   ]
  },
  {
   "cell_type": "code",
   "execution_count": null,
   "id": "61893366",
   "metadata": {},
   "outputs": [],
   "source": [
    "cotacoes = yf.download([\"WEGE3.SA\", \"PETR4.SA\"])['Adj Close']\n",
    "\n",
    "retornos = cotacoes.pct_change().dropna()\n",
    "\n",
    "retornos_acum = (1 + retornos).cumprod() - 1\n",
    "\n",
    "fig, ax = plt.subplots()\n",
    "\n",
    "ax.plot(retornos_acum.index, retornos_acum['WEGE3.SA'], label = \"WEGE3\")\n",
    "ax.plot(retornos_acum.index, retornos_acum['PETR4.SA'], label = \"PETR4\")\n",
    "ax.legend()\n",
    "ax.yaxis.set_major_formatter(mtick.PercentFormatter(1))\n",
    "\n",
    "mplcyberpunk.add_glow_effects()\n",
    "\n",
    "plt.show()"
   ]
  },
  {
   "cell_type": "code",
   "execution_count": null,
   "id": "f8df482a",
   "metadata": {
    "scrolled": false
   },
   "outputs": [],
   "source": [
    "acoes = [\"WEGE3.SA\", \"PETR4.SA\", \"LREN3.SA\", \"VALE3.SA\"]\n",
    "\n",
    "cotacoes = yf.download(acoes)['Adj Close']\n",
    "\n",
    "retornos = cotacoes.pct_change().dropna()\n",
    "\n",
    "retornos_acum = (1 + retornos).cumprod() - 1\n",
    "\n",
    "fig, ax = plt.subplots()\n",
    "\n",
    "for acao in acoes:\n",
    "\n",
    "    ax.plot(retornos_acum.index, retornos_acum[acao], label = acao.replace(\".SA\", \"\"))\n",
    "\n",
    "ax.legend()\n",
    "ax.yaxis.set_major_formatter(mtick.PercentFormatter(1))\n",
    "ax.grid(False)\n",
    "\n",
    "\n",
    "plt.show()"
   ]
  },
  {
   "cell_type": "markdown",
   "id": "9326de1a",
   "metadata": {},
   "source": [
    "# Exercícios\n",
    "\n",
    "* Exercício 100: Puxe as cotações de 4 ações a sua escolha, calcule a correlação de 12 meses das ações com o ibovespa e plote um gráfico dessas correlações, escolhendo as cores das linhas a sua escolha.\n",
    "\n",
    "* Exercício 101: Crie o mesmo gráfico utilizando o estilo Cyberpunk. "
   ]
  },
  {
   "cell_type": "code",
   "execution_count": null,
   "id": "1d7a994c",
   "metadata": {},
   "outputs": [],
   "source": []
  },
  {
   "cell_type": "code",
   "execution_count": null,
   "id": "7bfd8a62",
   "metadata": {},
   "outputs": [],
   "source": []
  },
  {
   "cell_type": "code",
   "execution_count": null,
   "id": "53156eb8",
   "metadata": {},
   "outputs": [],
   "source": [
    "import matplotlib.dates as mdate"
   ]
  },
  {
   "cell_type": "code",
   "execution_count": null,
   "id": "91e9e419",
   "metadata": {},
   "outputs": [],
   "source": [
    "plt.style.use(\"default\")\n",
    "\n",
    "acoes = [\"WEGE3.SA\", \"PETR4.SA\", \"LREN3.SA\", \"VALE3.SA\", \"^BVSP\"]\n",
    "\n",
    "cotacoes = yf.download(acoes)['Adj Close']\n",
    "\n",
    "retornos = cotacoes.pct_change().dropna()\n",
    "\n",
    "fig, ax = plt.subplots()\n",
    "\n",
    "acoes.remove(\"^BVSP\")\n",
    "\n",
    "cores = ['#76EEC6', '#00008B', '#00CDCD', '#050505']\n",
    "\n",
    "for i, acao in enumerate(acoes):\n",
    "    \n",
    "    janela_cor = retornos[acao].rolling(252).corr(retornos[\"^BVSP\"]).dropna()\n",
    "    ax.plot(janela_cor.index, janela_cor.values, label = acao.replace(\".SA\", \"\"), color = cores[i])\n",
    "\n",
    "ax.xaxis.set_major_locator(mdate.YearLocator(1))\n",
    "ax.legend()\n",
    "ax.grid(False)\n",
    "ax.set_title(\"Janela de correlação 12M x Ibovespa\", fontweight =\"bold\")\n",
    "\n",
    "\n",
    "plt.show()"
   ]
  },
  {
   "cell_type": "code",
   "execution_count": null,
   "id": "679383c3",
   "metadata": {
    "scrolled": false
   },
   "outputs": [],
   "source": [
    "#gabarito 101\n",
    "\n",
    "plt.style.use(\"cyberpunk\")\n",
    "\n",
    "acoes = [\"WEGE3.SA\", \"PETR4.SA\", \"LREN3.SA\", \"VALE3.SA\", \"^BVSP\"]\n",
    "\n",
    "cotacoes = yf.download(acoes)['Adj Close']\n",
    "\n",
    "retornos = cotacoes.pct_change().dropna()\n",
    "\n",
    "fig, ax = plt.subplots()\n",
    "\n",
    "acoes.remove(\"^BVSP\")\n",
    "\n",
    "for i, acao in enumerate(acoes):\n",
    "    \n",
    "    janela_cor = retornos[acao].rolling(252).corr(retornos[\"^BVSP\"]).dropna()\n",
    "    ax.plot(janela_cor.index, janela_cor.values, label = acao.replace(\".SA\", \"\"))\n",
    "\n",
    "ax.xaxis.set_major_locator(mdate.YearLocator(1))\n",
    "ax.legend()\n",
    "ax.grid(False)\n",
    "ax.set_title(\"Janela de correlação 12M x Ibovespa\", fontweight =\"bold\")\n",
    "\n",
    "\n",
    "plt.show()"
   ]
  },
  {
   "cell_type": "markdown",
   "id": "a93f22a8",
   "metadata": {},
   "source": [
    "# Mundo 10\n",
    "\n",
    "Gráfico de barras"
   ]
  },
  {
   "cell_type": "code",
   "execution_count": null,
   "id": "cda0d2f4",
   "metadata": {},
   "outputs": [],
   "source": []
  }
 ],
 "metadata": {
  "kernelspec": {
   "display_name": "Python 3",
   "language": "python",
   "name": "python3"
  },
  "language_info": {
   "codemirror_mode": {
    "name": "ipython",
    "version": 3
   },
   "file_extension": ".py",
   "mimetype": "text/x-python",
   "name": "python",
   "nbconvert_exporter": "python",
   "pygments_lexer": "ipython3",
   "version": "3.8.10"
  },
  "vscode": {
   "interpreter": {
    "hash": "916dbcbb3f70747c44a77c7bcd40155683ae19c65e1c03b4aa3499c5328201f1"
   }
  }
 },
 "nbformat": 4,
 "nbformat_minor": 5
}
