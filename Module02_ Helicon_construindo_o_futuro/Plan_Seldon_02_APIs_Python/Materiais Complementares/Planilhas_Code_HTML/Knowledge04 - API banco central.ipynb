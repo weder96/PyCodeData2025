{
 "cells": [
  {
   "cell_type": "markdown",
   "id": "4ba15c9c",
   "metadata": {},
   "source": [
    "# Knowledge 4 - API do banco central do zero ao avançado"
   ]
  },
  {
   "cell_type": "markdown",
   "id": "71d74b3a",
   "metadata": {},
   "source": [
    "### Conceitos importantes de hoje:\n",
    "\n",
    "* APIs que possuem paginação.\n",
    "* Só a prática fortalece seu conhecimento.\n",
    "* Cada API é diferente uma da outra e você vai ter que aprender a construir as chamadas.\n",
    "\n",
    "# A melhor forma de aprender sobre qualquer API é na documentação dela mesma!!!!!!!!!!\n",
    "\n",
    "* 99% dos vídeos de youtube vão só te atrapalhar, não vão te ensinar a construir chamadas (igual a gente vai fazer nessa aula) e, pior, se a API for pequena, você vai perder mais tempo tentando achar algo bom do que lendo a documentação.\n",
    "\n",
    "* Para caso de APIs enormes, tipo google maps, pode até servir."
   ]
  },
  {
   "cell_type": "markdown",
   "id": "5ece3a25",
   "metadata": {},
   "source": [
    "# URL BASE\n",
    "\n",
    "https://dadosabertos.bcb.gov.br/dataset?res_format=API\n",
    "\n",
    "* O banco central disponibiliza um construtor de Querys (milagre)\n",
    "* Construir a query de dinheiro em circulação, sendo atento ao parâmetro SKIP.\n",
    "* Existem várias formas de paginar uma API. \n",
    "\n",
    "        Você pode receber um parâmetro dentro do Json que te leva até a próxima página. Quando esse parâmetro for vazio, você para.\n",
    "        Você pode testar alguma consulta que certamente vai dar errado e vê o que a API vai te retornar, para gerar a condição do break. \n"
   ]
  },
  {
   "cell_type": "code",
   "execution_count": null,
   "id": "4838f7e9",
   "metadata": {},
   "outputs": [],
   "source": [
    "import requests\n",
    "import pandas as pd\n",
    "from pprint import pprint"
   ]
  },
  {
   "cell_type": "code",
   "execution_count": null,
   "id": "d5933c8a",
   "metadata": {},
   "outputs": [],
   "source": [
    "!pip install pprintpp"
   ]
  },
  {
   "cell_type": "code",
   "execution_count": null,
   "id": "27ab2f96",
   "metadata": {},
   "outputs": [],
   "source": []
  },
  {
   "cell_type": "code",
   "execution_count": null,
   "id": "509ed1e9",
   "metadata": {},
   "outputs": [],
   "source": [
    "pular = 0\n",
    "\n",
    "lista_dfs_moedas = []\n",
    "\n",
    "while True: \n",
    "    \n",
    "    url_base = f'''https://olinda.bcb.gov.br/olinda/servico/mecir_dinheiro_em_circulacao/versao/v1/odata/informacoes_diarias?$top=10000&$skip={pular}&$format=json'''                    \n",
    "    \n",
    "    response = requests.get(url_base)\n",
    "    \n",
    "    pular = pular + 10000\n",
    "\n",
    "    json_moedas = response.json()\n",
    "\n",
    "    df_moedas = pd.DataFrame(json_moedas['value'])\n",
    "    \n",
    "    lista_dfs_moedas.append(df_moedas)\n",
    "    \n",
    "    if len(json_moedas['value']) < 1:\n",
    "        \n",
    "        break\n",
    "    \n",
    "base_completa = pd.concat(lista_dfs_moedas)\n",
    "\n",
    "base_completa"
   ]
  },
  {
   "cell_type": "markdown",
   "id": "be12aff9",
   "metadata": {},
   "source": [
    "# Ponto importante do código\n",
    "\n",
    "* pd.concat SEMPRE fora do loop. Essa é uma das mais, se não a mais lenta função do pandas. A própria documentação original recomenda fortemente você nunca usar concat dentro."
   ]
  },
  {
   "cell_type": "markdown",
   "id": "9cda40bf",
   "metadata": {},
   "source": [
    "# Exercícios\n",
    "\n",
    "* Exercício 135: Consulte os dados de moedas comemorativas na API do banco central. Construa um dataframe com todas as informações históricas.  \n",
    "* Exercício 136: Filtre as moedas mais raras, com menos de 100 unidades. "
   ]
  },
  {
   "cell_type": "code",
   "execution_count": null,
   "id": "8f58f37a",
   "metadata": {},
   "outputs": [],
   "source": []
  },
  {
   "cell_type": "code",
   "execution_count": null,
   "id": "f7195d34",
   "metadata": {},
   "outputs": [],
   "source": []
  },
  {
   "cell_type": "code",
   "execution_count": null,
   "id": "c5056ca4",
   "metadata": {},
   "outputs": [],
   "source": [
    "#gabarito 135\n",
    "\n",
    "pular = 0\n",
    "\n",
    "lista_df_moedas_comemorativas = []\n",
    "\n",
    "while True:\n",
    "    \n",
    "    url_base = f'''https://olinda.bcb.gov.br/olinda/servico/mecir_moedas_comemorativas/versao/v1/odata/informacoes_diarias?$top=10000&$skip={pular}&$format=json'''\n",
    "    \n",
    "    response_bc = requests.get(url_base)\n",
    "    \n",
    "    pular = pular + 10000\n",
    "    \n",
    "    json_moedas_comemorativas = response_bc.json()\n",
    "    \n",
    "    df_moedas_comemorativas = pd.DataFrame(json_moedas_comemorativas['value'])\n",
    "    \n",
    "    lista_df_moedas_comemorativas.append(df_moedas_comemorativas)\n",
    "    \n",
    "    if len(json_moedas_comemorativas['value']) < 1:\n",
    "        \n",
    "        break\n",
    "        \n",
    "moedas_comemorativas = pd.concat(lista_df_moedas_comemorativas)\n",
    "\n",
    "moedas_comemorativas"
   ]
  },
  {
   "cell_type": "code",
   "execution_count": null,
   "id": "cb2da937",
   "metadata": {},
   "outputs": [],
   "source": [
    "#gabarito 136\n",
    "\n",
    "moedas_comemorativas[moedas_comemorativas['Quantidade'] < 100]\n"
   ]
  }
 ],
 "metadata": {
  "kernelspec": {
   "display_name": "Python 3 (ipykernel)",
   "language": "python",
   "name": "python3"
  },
  "language_info": {
   "codemirror_mode": {
    "name": "ipython",
    "version": 3
   },
   "file_extension": ".py",
   "mimetype": "text/x-python",
   "name": "python",
   "nbconvert_exporter": "python",
   "pygments_lexer": "ipython3",
   "version": "3.9.12"
  }
 },
 "nbformat": 4,
 "nbformat_minor": 5
}
