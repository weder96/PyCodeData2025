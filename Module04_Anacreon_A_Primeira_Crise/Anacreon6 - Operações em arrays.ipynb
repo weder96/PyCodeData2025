{
  "cells": [
    {
      "cell_type": "markdown",
      "id": "da342286",
      "metadata": {
        "id": "da342286"
      },
      "source": [
        " # Anacreon 6"
      ]
    },
    {
      "cell_type": "code",
      "execution_count": 2,
      "id": "11a6d5a3",
      "metadata": {
        "id": "11a6d5a3"
      },
      "outputs": [],
      "source": [
        "import numpy as np"
      ]
    },
    {
      "cell_type": "code",
      "execution_count": 3,
      "id": "fde599ae",
      "metadata": {
        "id": "fde599ae"
      },
      "outputs": [
        {
          "name": "stdout",
          "output_type": "stream",
          "text": [
            "[5 3 7 3]\n",
            "[1, 1, 1, 1, 4, 2, 6, 2]\n"
          ]
        }
      ],
      "source": [
        "#todas as operações funcionam com os vetores.\n",
        "\n",
        "array1 = np.array([1, 1, 1, 1])\n",
        "array2 = np.array([4, 2, 6, 2])\n",
        "array3 = np.array([2, 2])\n",
        "\n",
        "lista_normal = [1, 1, 1, 1]\n",
        "lista_normal2 = [4, 2, 6, 2]\n",
        "\n",
        "print(array1 + array2)\n",
        "print(lista_normal + lista_normal2)"
      ]
    },
    {
      "cell_type": "code",
      "execution_count": null,
      "id": "8195b273",
      "metadata": {
        "id": "8195b273"
      },
      "outputs": [],
      "source": [
        "print(array1 + array3)"
      ]
    },
    {
      "cell_type": "code",
      "execution_count": 4,
      "id": "19eb2563",
      "metadata": {},
      "outputs": [
        {
          "name": "stdout",
          "output_type": "stream",
          "text": [
            "Soma dos vetores: [5 3 7 3]\n",
            "Soma das listas:  [1, 1, 1, 1, 4, 2, 6, 2]\n",
            "Não conseguiu somar os vetores de tamanhos diferentes, pois...\n",
            "Erro: operands could not be broadcast together with shapes (4,) (2,) \n"
          ]
        }
      ],
      "source": [
        "import numpy as np\n",
        "\n",
        "# Vetores com o mesmo tamanho\n",
        "array1 = np.array([1, 1, 1, 1])\n",
        "array2 = np.array([4, 2, 6, 2])\n",
        "array3 = np.array([2, 7])\n",
        "\n",
        "lista_normal1 = [1, 1, 1, 1]\n",
        "lista_normal2 = [4, 2, 6, 2] # Substituí os '?' para manter a consistência\n",
        "\n",
        "# 1. Soma de Vetores (operação matemática elemento a elemento)\n",
        "print(\"Soma dos vetores:\", array1 + array2)\n",
        "print(\"Soma das listas: \", lista_normal1 + lista_normal2)\n",
        "\n",
        "try:\n",
        "  # Tenta somar dois vetores de tamanhos incompatíveis (4 e 2)\n",
        "  soma_vetores_tamanhos_diferentes = array1 + array3\n",
        "  print(\"Resultado da soma de vetores de tamanhos diferentes:\", soma_vetores_tamanhos_diferentes)\n",
        "\n",
        "except ValueError as error:\n",
        "  # Captura o erro esperado e exibe uma mensagem amigável\n",
        "  print(\"Não conseguiu somar os vetores de tamanhos diferentes, pois...\")\n",
        "  print(f\"Erro: {error}\")"
      ]
    },
    {
      "cell_type": "code",
      "execution_count": null,
      "id": "f1dd9131",
      "metadata": {
        "id": "f1dd9131",
        "outputId": "21d75d92-955b-4a6c-bba0-8f8e54670d27"
      },
      "outputs": [
        {
          "name": "stdout",
          "output_type": "stream",
          "text": [
            "[21 21 21 21]\n"
          ]
        }
      ],
      "source": [
        "#E se eu quiser somar um número só?\n",
        "\n",
        "soma_a_todos_os_elementos = np.array([1, 1, 1, 1]) + 20\n",
        "\n",
        "print(soma_a_todos_os_elementos)"
      ]
    },
    {
      "cell_type": "code",
      "execution_count": null,
      "id": "1bc394e6",
      "metadata": {
        "id": "1bc394e6",
        "outputId": "e1f35bc7-6122-4148-bb58-535e17ac07a0"
      },
      "outputs": [
        {
          "name": "stdout",
          "output_type": "stream",
          "text": [
            "[-3 -1 -5 -1]\n",
            "[0.25       0.5        0.16666667 0.5       ]\n",
            "[4 2 6 2]\n",
            "[1 1 1 1]\n"
          ]
        }
      ],
      "source": [
        "#todas as operações funcionam normal\n",
        "array1 = np.array([1, 1, 1, 1])\n",
        "array2 = np.array([4, 2, 6, 2])\n",
        "\n",
        "subtracao = array1 - array2\n",
        "divisao = array1/array2\n",
        "multiplicacao = array1 * array2\n",
        "exponenciacao = array1 ** array2\n",
        "\n",
        "print(subtracao)\n",
        "print(divisao)\n",
        "print(multiplicacao)\n",
        "print(exponenciacao)"
      ]
    },
    {
      "cell_type": "code",
      "execution_count": null,
      "id": "6e7656a1",
      "metadata": {
        "id": "6e7656a1",
        "outputId": "e676162f-d75e-40c0-cbca-d304617a1e67"
      },
      "outputs": [
        {
          "name": "stdout",
          "output_type": "stream",
          "text": [
            "[ 1  4 -4 -1  2]\n",
            "2\n",
            "4\n",
            "-4\n",
            "[1 4 4 1 2]\n"
          ]
        }
      ],
      "source": [
        "#Operações dentro do próprio vetor\n",
        "\n",
        "vetor = np.array([1, 4, -4, -1, 2])\n",
        "\n",
        "print(vetor)\n",
        "print(vetor.sum())\n",
        "print(vetor.max())\n",
        "print(vetor.min())\n",
        "print(np.abs(vetor))"
      ]
    },
    {
      "cell_type": "code",
      "execution_count": null,
      "id": "0e3c70c1",
      "metadata": {
        "id": "0e3c70c1",
        "outputId": "594d7b96-a644-4704-e7bf-17f365c8ad13"
      },
      "outputs": [
        {
          "name": "stdout",
          "output_type": "stream",
          "text": [
            "401.0\n",
            "1.0\n",
            "799.56938410622\n",
            "639311.2\n"
          ]
        }
      ],
      "source": [
        "#Estatisticas descritivas\n",
        "\n",
        "vetor = np.array([1, 20, -4, -12, 2000])\n",
        "\n",
        "media = np.mean(vetor)\n",
        "mediana = np.median(vetor)\n",
        "desvio_p = np.std(vetor)\n",
        "var = np.var(vetor)\n",
        "\n",
        "print(media) #media\n",
        "print(mediana) #mediana\n",
        "print(desvio_p) #desvio padrao\n",
        "print(var) #variancia"
      ]
    },
    {
      "cell_type": "code",
      "execution_count": null,
      "id": "ab4f64a0",
      "metadata": {
        "id": "ab4f64a0",
        "outputId": "54a2b316-9e9b-43fd-9634-c0997d2fe368"
      },
      "outputs": [
        {
          "data": {
            "text/plain": [
              "array([[ 1.        ,  0.25471058, -0.13247913],\n",
              "       [ 0.25471058,  1.        ,  0.76783876],\n",
              "       [-0.13247913,  0.76783876,  1.        ]])"
            ]
          },
          "execution_count": 21,
          "metadata": {},
          "output_type": "execute_result"
        }
      ],
      "source": [
        "#matriz de correlação \n",
        "\n",
        "vetor2 = np.array([5, 4, 3, -5, 4])\n",
        "vetor3 = np.array([2, 6, 7, -5, 1])\n",
        "\n",
        "correlacao = np.corrcoef((vetor, vetor2, vetor3))\n",
        "\n",
        "correlacao"
      ]
    },
    {
      "cell_type": "code",
      "execution_count": null,
      "id": "dca37d3c",
      "metadata": {},
      "outputs": [
        {
          "name": "stdout",
          "output_type": "stream",
          "text": [
            "Array 1: [1 1 1 1]\n",
            "Array 2: [4 2 6 2]\n",
            "------------------------------\n",
            "Operação de adição:  [5 3 7 3]\n",
            "Operação de subtração:  [-3 -1 -5 -1]\n",
            "Operação de multiplicação:  [4 2 6 2]\n",
            "Operação de divisão:  [0.25 0.5  0.17 0.5 ]\n",
            "Operação de Módulo (resto da divisão '%'): [1 1 1 1]\n",
            "Operação de divisão inteira '//':  [0 0 0 0]\n",
            "Operação de exponenciação:  [1 1 1 1]\n"
          ]
        }
      ],
      "source": [
        "import numpy as np\n",
        "\n",
        "# Criação dos dois vetores (arrays NumPy)\n",
        "array1 = np.array([1, 1, 1, 1])\n",
        "array2 = np.array([4, 2, 6, 2])\n",
        "\n",
        "# Realiza as operações matemáticas elemento a elemento\n",
        "adicao = array1 + array2\n",
        "subtracao = array1 - array2\n",
        "multiplicacao = array1 * array2\n",
        "divisao = (array1 / array2).round(2) \n",
        "modulo = array1 % array2 \n",
        "divisao_inteira = array1 // array2 # Esta é a divisão inteira real\n",
        "exponenciacao = array1 ** array2\n",
        "\n",
        "# Imprime os resultados de cada operação\n",
        "print(\"Array 1:\", array1)\n",
        "print(\"Array 2:\", array2)\n",
        "print(\"-\" * 30) # Linha separadora\n",
        "print(\"Operação de adição: \", adicao)\n",
        "print(\"Operação de subtração: \", subtracao)\n",
        "print(\"Operação de multiplicação: \", multiplicacao)\n",
        "print(\"Operação de divisão: \", divisao)\n",
        "print(\"Operação de Módulo (resto da divisão '%'):\", modulo)\n",
        "print(\"Operação de divisão inteira '//': \", divisao_inteira)\n",
        "print(\"Operação de exponenciação: \", exponenciacao)"
      ]
    },
    {
      "cell_type": "code",
      "execution_count": 6,
      "id": "c32b9449",
      "metadata": {},
      "outputs": [
        {
          "name": "stdout",
          "output_type": "stream",
          "text": [
            "Vetor inicial:  [ 1  4 -4 -1  2]\n",
            "Soma dos itens do vetor:  2\n",
            "O maior número do vetor:  4\n",
            "O menor número do vetor:  -4\n",
            "Números absolutos do vetor:  [1 4 4 1 2]\n"
          ]
        }
      ],
      "source": [
        "import numpy as np\n",
        "\n",
        "# Cria o vetor (array NumPy) com números positivos e negativos\n",
        "vetor = np.array([1, 4, -4, -1, 2])\n",
        "\n",
        "\n",
        "print(\"Vetor inicial: \", vetor)\n",
        "\n",
        "print(\"Soma dos itens do vetor: \", vetor.sum())\n",
        "print(\"O maior número do vetor: \", vetor.max())\n",
        "print(\"O menor número do vetor: \", vetor.min())\n",
        "print(\"Números absolutos do vetor: \", np.abs(vetor))"
      ]
    },
    {
      "cell_type": "markdown",
      "id": "c4cfcc82",
      "metadata": {
        "id": "c4cfcc82"
      },
      "source": [
        "# Exercício\n",
        "\n",
        "* Exercício 05: Faça um programa que o usuário digite a rentabilidade de ações, com quantas ações o usuário quiser. Transforme essas listas em arrays e devolva pro usuário:\n",
        "\n",
        "        A média de rentabilidade da carteira.\n",
        "        O Desvio padrão da carteira.\n",
        "        A mediana de retornos da carteira.\n",
        "        O maior retorno.\n",
        "        O menor retorno."
      ]
    },
    {
      "cell_type": "code",
      "execution_count": 9,
      "id": "08f728d3",
      "metadata": {},
      "outputs": [
        {
          "name": "stdout",
          "output_type": "stream",
          "text": [
            "Vetor de dados: [   1   20   -4  -12 2000]\n",
            "\n",
            "A média dos números do vetor é: 401.0\n",
            "A mediana dos números do vetor é: 1.0\n",
            "O desvio padrão dos números do vetor é: 799.56938410622\n",
            "A variância dos números do vetor é: 639311.2\n",
            "O máximo dos números do vetor é: 2000\n",
            "O minimo dos números do vetor é: -12\n"
          ]
        }
      ],
      "source": [
        "import numpy as np\n",
        "\n",
        "vetor = np.array([1, 20, -4, -12, 2000])\n",
        "media = np.mean(vetor)\n",
        "mediana = np.median(vetor)\n",
        "desvio_p = np.std(vetor)\n",
        "var = np.var(vetor)\n",
        "max = vetor.max()\n",
        "min = vetor.min()\n",
        "\n",
        "print(f\"Vetor de dados: {vetor}\\n\") # Adicionei esta linha para clareza\n",
        "print(f\"A média dos números do vetor é: {media}\")\n",
        "print(f\"A mediana dos números do vetor é: {mediana}\")\n",
        "print(f\"O desvio padrão dos números do vetor é: {desvio_p}\")\n",
        "print(f\"A variância dos números do vetor é: {var}\")\n",
        "print(f\"O máximo dos números do vetor é: {max}\")\n",
        "print(f\"O minimo dos números do vetor é: {min}\")\n"
      ]
    },
    {
      "cell_type": "code",
      "execution_count": 10,
      "id": "0a1440bb",
      "metadata": {},
      "outputs": [
        {
          "name": "stdout",
          "output_type": "stream",
          "text": [
            "A matriz de correlação entre os 3 vetores é:\n",
            "\n",
            "[[ 1.    0.25 -0.13]\n",
            " [ 0.25  1.    0.77]\n",
            " [-0.13  0.77  1.  ]]\n"
          ]
        }
      ],
      "source": [
        "import numpy as np\n",
        "\n",
        "vetor = np.array([1, 20, -4, -12, 2000])\n",
        "vetor2 = np.array([5, 4, 3, -5, 4])\n",
        "vetor3 = np.array([2, 6, 7, -5, 1])\n",
        "\n",
        "# A função np.corrcoef espera uma lista ou tupla de arrays, por isso usamos (vetor, vetor2, vetor3)\n",
        "correlacao = np.corrcoef((vetor, vetor2, vetor3))\n",
        "\n",
        "# Imprime a matriz resultante, arredondando os valores para 2 casas decimais\n",
        "print(\"A matriz de correlação entre os 3 vetores é:\\n\")\n",
        "print(correlacao.round(2))"
      ]
    },
    {
      "cell_type": "code",
      "execution_count": 7,
      "id": "b8a55d89",
      "metadata": {
        "id": "b8a55d89",
        "outputId": "309da061-2da2-4beb-cace-e7a06757deb0"
      },
      "outputs": [
        {
          "ename": "ValueError",
          "evalue": "could not convert string to float: ''",
          "output_type": "error",
          "traceback": [
            "\u001b[0;31m---------------------------------------------------------------------------\u001b[0m",
            "\u001b[0;31mValueError\u001b[0m                                Traceback (most recent call last)",
            "Cell \u001b[0;32mIn[7], line 7\u001b[0m\n\u001b[1;32m      3\u001b[0m array_rentabilidade \u001b[38;5;241m=\u001b[39m np\u001b[38;5;241m.\u001b[39marray([])\n\u001b[1;32m      5\u001b[0m \u001b[38;5;28;01mwhile\u001b[39;00m continuar:\n\u001b[0;32m----> 7\u001b[0m     rent \u001b[38;5;241m=\u001b[39m \u001b[38;5;28;43mfloat\u001b[39;49m\u001b[43m(\u001b[49m\u001b[38;5;28;43minput\u001b[39;49m\u001b[43m(\u001b[49m\u001b[38;5;124;43m\"\u001b[39;49m\u001b[38;5;124;43mDigite uma rentabilidade: \u001b[39;49m\u001b[38;5;124;43m\"\u001b[39;49m\u001b[43m)\u001b[49m\u001b[43m)\u001b[49m\n\u001b[1;32m      9\u001b[0m     array_rentabilidade \u001b[38;5;241m=\u001b[39m np\u001b[38;5;241m.\u001b[39mappend(array_rentabilidade, rent)\n\u001b[1;32m     11\u001b[0m     deseja_continuar \u001b[38;5;241m=\u001b[39m \u001b[38;5;28mstr\u001b[39m(\u001b[38;5;28minput\u001b[39m(\u001b[38;5;124m\"\u001b[39m\u001b[38;5;124mDeseja cadastrar mais rentabilidades? [S/N]\u001b[39m\u001b[38;5;124m\"\u001b[39m))\u001b[38;5;241m.\u001b[39mlower()\n",
            "\u001b[0;31mValueError\u001b[0m: could not convert string to float: ''"
          ]
        }
      ],
      "source": [
        "continuar = True\n",
        "\n",
        "array_rentabilidade = np.array([])\n",
        "\n",
        "while continuar:\n",
        "\n",
        "    rent = float(input(\"Digite uma rentabilidade: \"))\n",
        "\n",
        "    array_rentabilidade = np.append(array_rentabilidade, rent)\n",
        "\n",
        "    deseja_continuar = str(input(\"Deseja cadastrar mais rentabilidades? [S/N]\")).lower()\n",
        "\n",
        "    if deseja_continuar != \"n\" and deseja_continuar != \"s\":\n",
        "\n",
        "        invalido = True\n",
        "\n",
        "        while invalido:\n",
        "\n",
        "            deseja_continuar = str(input(\"Por favor, digite um comando válido: [S/N]\")).lower()\n",
        "\n",
        "            if deseja_continuar == \"n\" or deseja_continuar == \"s\":\n",
        "\n",
        "                break\n",
        "\n",
        "    if deseja_continuar == \"n\":\n",
        "\n",
        "        break\n",
        "\n",
        "media = np.mean(array_rentabilidade)\n",
        "mediana = np.median(array_rentabilidade)\n",
        "desvio_padrao = np.std(array_rentabilidade)\n",
        "rent_max = array_rentabilidade.max()\n",
        "rent_min = array_rentabilidade.min()\n",
        "\n",
        "media = \"{:.0%}\".format(media)\n",
        "mediana = \"{:.0%}\".format(mediana)\n",
        "desvio_padrao = \"{:.0%}\".format(desvio_padrao)\n",
        "rent_max = \"{:.0%}\".format(rent_max)\n",
        "rent_min = \"{:.0%}\".format(rent_min)\n",
        "\n",
        "print(\"\")\n",
        "print(\"Aqui estão as estatísticas das rentabilidades:\")\n",
        "print(f\"Média: {media}\")\n",
        "print(f\"Mediana: {mediana}\")\n",
        "print(f\"Desvio padrão: {desvio_padrao}\")\n",
        "print(f\"Rentabilidade máxima: {rent_max}\")\n",
        "print(f\"Rentabilidade mínima: {rent_min}\")"
      ]
    },
    {
      "cell_type": "markdown",
      "id": "f49d2a38",
      "metadata": {
        "id": "f49d2a38"
      },
      "source": [
        "# Terminus 5 nossa Próxima Parada\n",
        "\n",
        "Fim do módulo do Numpy! Em Terminus nosso 5 planeta nós iremos abordar o módulo Pandas, a principal biblioteca de análise de dados que existe.\n",
        "Vamos aprender a puxar cotações, criar médias móveis, tratar dados, ler planilhas de excel e muito mais. Te vejo lá!"
      ]
    },
    {
      "cell_type": "code",
      "execution_count": null,
      "id": "24fa54f2",
      "metadata": {
        "id": "24fa54f2"
      },
      "outputs": [],
      "source": []
    }
  ],
  "metadata": {
    "colab": {
      "name": "Mundo 6.ipynb",
      "provenance": []
    },
    "kernelspec": {
      "display_name": "Python 3",
      "language": "python",
      "name": "python3"
    },
    "language_info": {
      "codemirror_mode": {
        "name": "ipython",
        "version": 3
      },
      "file_extension": ".py",
      "mimetype": "text/x-python",
      "name": "python",
      "nbconvert_exporter": "python",
      "pygments_lexer": "ipython3",
      "version": "3.10.12"
    }
  },
  "nbformat": 4,
  "nbformat_minor": 5
}
