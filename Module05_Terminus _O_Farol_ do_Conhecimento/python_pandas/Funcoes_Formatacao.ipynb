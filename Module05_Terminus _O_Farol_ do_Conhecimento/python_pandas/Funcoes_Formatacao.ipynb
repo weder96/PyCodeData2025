{
  "nbformat": 4,
  "nbformat_minor": 0,
  "metadata": {
    "colab": {
      "provenance": []
    },
    "kernelspec": {
      "name": "python3",
      "display_name": "Python 3"
    },
    "language_info": {
      "name": "python"
    }
  },
  "cells": [
    {
      "cell_type": "markdown",
      "source": [
        "#Criando colunas"
      ],
      "metadata": {
        "id": "9T9Ri3NjakKp"
      }
    },
    {
      "cell_type": "code",
      "execution_count": null,
      "metadata": {
        "id": "AW3CORKBaThM"
      },
      "outputs": [],
      "source": [
        "import pandas as pd\n",
        "df = pd.DataFrame({\n",
        "'Produto': ['A', 'B', 'C', 'D'],\n",
        "'Preco_Unitario': [10, 20, 15, 25],\n",
        "'Quantidade_Vendida': [5, 3, 7, 2]\n",
        "})\n",
        "print('--- DataFrame Original ---\\n', df)"
      ]
    },
    {
      "cell_type": "code",
      "source": [
        "# Criar uma nova coluna 'Valor_Total'\n",
        "df['Valor_Total'] = df['Preco_Unitario'] * df['Quantidade_Vendida']\n",
        "print('\\n--- DataFrame com Valor_Total ---\\n', df)"
      ],
      "metadata": {
        "id": "mYski6Vva7X_"
      },
      "execution_count": null,
      "outputs": []
    },
    {
      "cell_type": "code",
      "source": [
        "# Criar uma nova coluna com valor fixo\n",
        "df['Desconto_Aplicado'] = 0.10\n",
        "print('\\n--- DataFrame com Desconto_Aplicado ---\\n', df)"
      ],
      "metadata": {
        "id": "6PEcoqc3a8SI"
      },
      "execution_count": null,
      "outputs": []
    },
    {
      "cell_type": "markdown",
      "source": [
        "#Renomeando Colunas"
      ],
      "metadata": {
        "id": "Qnd5_kKcbk9a"
      }
    },
    {
      "cell_type": "code",
      "source": [
        "print('--- DataFrame Original ---\\n', df)\n",
        "# Renomear 'old_col_1' para 'new_col_A'\n",
        "df_novo = df.rename(columns={'Produto': 'Produto_loja'})\n",
        "print('\\n--- DataFrame com coluna renomeada ---\\n', df_novo)\n",
        "# Renomear múltiplas colunas usando inplace=True\n",
        "df.rename(columns={'Produto': 'Produto_loja', 'Quantidade_Vendida':\n",
        "'Quantidade_vendas'}, inplace=True)\n",
        "print('\\n--- DataFrame com múltiplas colunas renomeadas (inplace) ---\\n', df)"
      ],
      "metadata": {
        "id": "MNXw5-1tbmsx"
      },
      "execution_count": null,
      "outputs": []
    },
    {
      "cell_type": "markdown",
      "source": [
        "#Removendo Colunas"
      ],
      "metadata": {
        "id": "vEZM4zmnap1A"
      }
    },
    {
      "cell_type": "code",
      "source": [
        "print('--- DataFrame ---\\n', df)"
      ],
      "metadata": {
        "id": "0CQ2X9Z2arhr"
      },
      "execution_count": null,
      "outputs": []
    },
    {
      "cell_type": "code",
      "source": [
        "# Remover a coluna 'Produto'\n",
        "df = df.drop('Produto_loja', axis=1)\n",
        "print('\\n--- DataFrame sem a coluna Produto ---\\n', df)"
      ],
      "metadata": {
        "id": "pbCBZBxAbV_K"
      },
      "execution_count": null,
      "outputs": []
    },
    {
      "cell_type": "code",
      "source": [
        "# Remover múltiplas colunas usando inplace=True\n",
        "df.drop(['Preco_Unitario', 'Quantidade_Vendas'], axis=1, inplace=True)\n",
        "print('\\n--- DataFrame sem as colunas Preco_Unitario e Quantidade_Vendida (após inplace) ---\\n', df)"
      ],
      "metadata": {
        "id": "aHRduTpFbXJN"
      },
      "execution_count": null,
      "outputs": []
    }
  ]
}