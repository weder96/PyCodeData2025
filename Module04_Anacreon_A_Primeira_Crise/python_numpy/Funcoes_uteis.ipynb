{
  "cells": [
    {
      "cell_type": "code",
      "execution_count": 2,
      "metadata": {
        "id": "ibfwDBqWbCgW"
      },
      "outputs": [],
      "source": [
        "import numpy as np"
      ]
    },
    {
      "cell_type": "code",
      "execution_count": null,
      "metadata": {
        "colab": {
          "base_uri": "https://localhost:8080/"
        },
        "id": "BAaBNDw9bFKt",
        "outputId": "48d21b69-db54-4e0d-d656-ac132a3ec1e9"
      },
      "outputs": [
        {
          "name": "stdout",
          "output_type": "stream",
          "text": [
            "0.8745761067289681\n"
          ]
        }
      ],
      "source": [
        "#Gera um número aleatório entre 0 e 1\n",
        "num = np.random.rand()\n",
        "print(num)"
      ]
    },
    {
      "cell_type": "code",
      "execution_count": null,
      "metadata": {
        "colab": {
          "base_uri": "https://localhost:8080/"
        },
        "id": "lAcQQaX2bS4Q",
        "outputId": "34d085cc-6a54-4ed5-e5b3-4ec72c8216f6"
      },
      "outputs": [
        {
          "name": "stdout",
          "output_type": "stream",
          "text": [
            "Array com 5 números aleatórios entre 0 e 1: [0.87699059 0.14284722 0.98075049 0.67628399 0.52066751]\n"
          ]
        }
      ],
      "source": [
        "#Gerando um array de 1 dimensão com 5 números aleatórios\n",
        "array_1d = np.random.rand(5)\n",
        "print(f\"Array com 5 números aleatórios entre 0 e 1: {array_1d}\")"
      ]
    },
    {
      "cell_type": "code",
      "execution_count": null,
      "metadata": {
        "colab": {
          "base_uri": "https://localhost:8080/"
        },
        "id": "QfyXpfeAc24a",
        "outputId": "7feeee3b-6dfb-432f-c4b7-97e6623d43d5"
      },
      "outputs": [
        {
          "name": "stdout",
          "output_type": "stream",
          "text": [
            "Matriz 2 x 3 de números aleatórios entre 0 e 1: \n",
            "[[1.54072040e-01 7.05309712e-01 5.45945791e-01]\n",
            " [6.25094905e-01 1.61812919e-04 3.39285186e-01]]\n"
          ]
        }
      ],
      "source": [
        "#Gerando uma matriz 2x3 de números aleatórios entre 0 e 1\n",
        "matriz_2x3 = np.random.rand(2, 3)\n",
        "print(f\"Matriz 2 x 3 de números aleatórios entre 0 e 1: \\n{matriz_2x3}\")"
      ]
    },
    {
      "cell_type": "code",
      "execution_count": null,
      "metadata": {
        "colab": {
          "base_uri": "https://localhost:8080/"
        },
        "id": "DF2VtEcRdPEM",
        "outputId": "c4be34d0-4ce4-4858-f0f6-79eb046ef297"
      },
      "outputs": [
        {
          "name": "stdout",
          "output_type": "stream",
          "text": [
            "4\n"
          ]
        }
      ],
      "source": [
        "#Gerando números inteiros entre o e 9\n",
        "num = np.random.randint(10)\n",
        "print(num)"
      ]
    },
    {
      "cell_type": "code",
      "execution_count": null,
      "metadata": {
        "colab": {
          "base_uri": "https://localhost:8080/"
        },
        "id": "-DhO-Nasdq2Q",
        "outputId": "09ffdfaa-0037-4431-f228-316038a8c89f"
      },
      "outputs": [
        {
          "name": "stdout",
          "output_type": "stream",
          "text": [
            "Array de inteiros aleatórios entre 10 e 20: [15 11 19]\n"
          ]
        }
      ],
      "source": [
        "#Gerando um array de 3 inteiros aleatórios entre 10 e 20\n",
        "array_inteiros = np.random.randint(10, 21, size=3)\n",
        "print(f\"Array de inteiros aleatórios entre 10 e 20: {array_inteiros}\")"
      ]
    },
    {
      "cell_type": "code",
      "execution_count": null,
      "metadata": {
        "colab": {
          "base_uri": "https://localhost:8080/"
        },
        "id": "vyoWZyyLeDyK",
        "outputId": "0436708f-517c-4406-d072-945285fb4896"
      },
      "outputs": [
        {
          "name": "stdout",
          "output_type": "stream",
          "text": [
            "Matriz 2 x 2 de números aleatórios entre 1 e 100: \n",
            " [[19 62]\n",
            " [91 97]]\n"
          ]
        }
      ],
      "source": [
        "#Gerando uma matriz 2x2 de inteiros aleatórios entre 1 e 100\n",
        "matriz_2x2 = np.random.randint(1, 101, size=(2, 2))\n",
        "print(f\"Matriz 2 x 2 de números aleatórios entre 1 e 100: \\n {matriz_2x2}\")"
      ]
    },
    {
      "cell_type": "code",
      "execution_count": 4,
      "metadata": {
        "colab": {
          "base_uri": "https://localhost:8080/"
        },
        "id": "lCz6RstledQS",
        "outputId": "1a401b88-9196-4082-bb59-658d879c0c28"
      },
      "outputs": [
        {
          "name": "stdout",
          "output_type": "stream",
          "text": [
            "Array de frutas: ['maçã' 'banana' 'laranja' 'limão' 'abacaxi']\n",
            "['banana' 'laranja']\n"
          ]
        }
      ],
      "source": [
        "#Escolhendo elementos aleatoriamente de um array existente\n",
        "array_frutas = np.array(['maçã', 'banana', 'laranja', 'limão', 'abacaxi'])\n",
        "print(f\"Array de frutas: {array_frutas}\")\n",
        "\n",
        "fruta = np.random.choice(array_frutas, size=2)\n",
        "print(fruta)"
      ]
    },
    {
      "cell_type": "code",
      "execution_count": null,
      "metadata": {
        "colab": {
          "base_uri": "https://localhost:8080/"
        },
        "id": "seDJwevRfrpd",
        "outputId": "9324dffa-2cb8-497c-db50-142b3b6244bd"
      },
      "outputs": [
        {
          "name": "stdout",
          "output_type": "stream",
          "text": [
            "Array original: [ 1  5 10  3  8  2 10  7]\n"
          ]
        }
      ],
      "source": [
        "arr = np.array([1, 5, 10, 3, 8, 2, 10, 7])\n",
        "print(\"Array original:\", arr)"
      ]
    },
    {
      "cell_type": "code",
      "execution_count": null,
      "metadata": {
        "colab": {
          "base_uri": "https://localhost:8080/"
        },
        "id": "cXC0tX4mfske",
        "outputId": "27e9bd5e-11a7-4691-8b3f-fecc13639773"
      },
      "outputs": [
        {
          "name": "stdout",
          "output_type": "stream",
          "text": [
            "\n",
            "Elementos únicos: [ 1  2  3  5  7  8 10]\n"
          ]
        }
      ],
      "source": [
        "unique_elements = np.unique(arr)\n",
        "print(\"\\nElementos únicos:\", unique_elements)"
      ]
    },
    {
      "cell_type": "code",
      "execution_count": null,
      "metadata": {
        "colab": {
          "base_uri": "https://localhost:8080/"
        },
        "id": "tQlyelU0gH-B",
        "outputId": "7cf7ea00-b4bf-4c4e-82f2-ce4667ab8c52"
      },
      "outputs": [
        {
          "name": "stdout",
          "output_type": "stream",
          "text": [
            "Elementos únicos e suas contagens: {np.int64(1): np.int64(1), np.int64(2): np.int64(1), np.int64(3): np.int64(1), np.int64(5): np.int64(1), np.int64(7): np.int64(1), np.int64(8): np.int64(1), np.int64(10): np.int64(2)}\n"
          ]
        }
      ],
      "source": [
        "unique_elements, counts = np.unique(arr, return_counts=True)\n",
        "print(\"Elementos únicos e suas contagens:\", dict(zip(unique_elements, counts)))"
      ]
    },
    {
      "cell_type": "code",
      "execution_count": null,
      "metadata": {
        "colab": {
          "base_uri": "https://localhost:8080/"
        },
        "id": "NC9eFq7QgOWL",
        "outputId": "34eb2fa8-abf7-44ce-9600-b07bb8e1b043"
      },
      "outputs": [
        {
          "name": "stdout",
          "output_type": "stream",
          "text": [
            "\n",
            "np.any([False, False, True, False]): True\n",
            "np.any([False, False, False]): False\n"
          ]
        }
      ],
      "source": [
        "# np.any() - Verifica se há ALGUM True\n",
        "bool_array1 = np.array([False, False, True, False])\n",
        "bool_array2 = np.array([False, False, False])\n",
        "print(\"\\nnp.any([False, False, True, False]):\", np.any(bool_array1))\n",
        "print(\"np.any([False, False, False]):\", np.any(bool_array2))"
      ]
    },
    {
      "cell_type": "code",
      "execution_count": null,
      "metadata": {
        "colab": {
          "base_uri": "https://localhost:8080/"
        },
        "id": "WeDxNWHugRKq",
        "outputId": "5f6aceed-472d-47e5-8265-29ce50b2d761"
      },
      "outputs": [
        {
          "name": "stdout",
          "output_type": "stream",
          "text": [
            "np.all([True, True, True]): True\n",
            "np.all([True, False, True]): False\n"
          ]
        }
      ],
      "source": [
        "# np.all() - Verifica se TODOS são True\n",
        "bool_array3 = np.array([True, True, True])\n",
        "bool_array4 = np.array([True, False, True])\n",
        "print(\"np.all([True, True, True]):\", np.all(bool_array3))\n",
        "print(\"np.all([True, False, True]):\", np.all(bool_array4))"
      ]
    },
    {
      "cell_type": "code",
      "execution_count": null,
      "metadata": {
        "colab": {
          "base_uri": "https://localhost:8080/"
        },
        "id": "PrCxjUjYgss6",
        "outputId": "22b7434e-91be-4461-ae34-d05bd9dace43"
      },
      "outputs": [
        {
          "name": "stdout",
          "output_type": "stream",
          "text": [
            "Array não ordenado: [9 2 7 1 5 3]\n",
            "Array ordenado (np.sort): [1 2 3 5 7 9]\n",
            "Array original após np.sort (inalterado): [9 2 7 1 5 3]\n"
          ]
        }
      ],
      "source": [
        "arr_unsorted = np.array([9, 2, 7, 1, 5, 3])\n",
        "print(\"Array não ordenado:\", arr_unsorted)\n",
        "\n",
        "# np.sort() - Retorna uma cópia ordenada\n",
        "sorted_copy = np.sort(arr_unsorted)\n",
        "print(\"Array ordenado (np.sort):\", sorted_copy)\n",
        "print(\"Array original após np.sort (inalterado):\", arr_unsorted) # Original permanece o mesmo"
      ]
    },
    {
      "cell_type": "code",
      "execution_count": null,
      "metadata": {
        "colab": {
          "base_uri": "https://localhost:8080/"
        },
        "id": "SJwYNKQ4gxs-",
        "outputId": "c0f31eea-2fbb-4339-e919-b14042ea52db"
      },
      "outputs": [
        {
          "name": "stdout",
          "output_type": "stream",
          "text": [
            "\n",
            "Array para sort in-place: [9 2 7 1 5 3]\n",
            "Array após .sort() (modificado): [1 2 3 5 7 9]\n"
          ]
        }
      ],
      "source": [
        "# .sort() - Ordena o array no lugar (modifica o original)\n",
        "arr_inplace_sort = np.array([9, 2, 7, 1, 5, 3])\n",
        "print(\"\\nArray para sort in-place:\", arr_inplace_sort)\n",
        "arr_inplace_sort.sort()\n",
        "print(\"Array após .sort() (modificado):\", arr_inplace_sort)"
      ]
    },
    {
      "cell_type": "code",
      "execution_count": null,
      "metadata": {
        "colab": {
          "base_uri": "https://localhost:8080/"
        },
        "id": "k-lV97xQg3ae",
        "outputId": "01336f0a-de65-4156-9f21-ba9e141c96e0"
      },
      "outputs": [
        {
          "name": "stdout",
          "output_type": "stream",
          "text": [
            "\n",
            "Array para argsort: [9 2 7 1 5 3]\n",
            "Índices que ordenariam o array: [3 1 5 4 2 0]\n"
          ]
        }
      ],
      "source": [
        "# np.argsort() - Retorna os índices que ordenariam\n",
        "arr_to_argsort = np.array([9, 2, 7, 1, 5, 3])\n",
        "sorted_indices = np.argsort(arr_to_argsort)\n",
        "print(\"\\nArray para argsort:\", arr_to_argsort)\n",
        "print(\"Índices que ordenariam o array:\", sorted_indices)"
      ]
    },
    {
      "cell_type": "code",
      "execution_count": null,
      "metadata": {
        "colab": {
          "base_uri": "https://localhost:8080/"
        },
        "id": "Rjs0hthFg7XH",
        "outputId": "50f2874c-6328-4ab6-cc91-c77194846201"
      },
      "outputs": [
        {
          "name": "stdout",
          "output_type": "stream",
          "text": [
            "\n",
            "Matriz não ordenada:\n",
            " [[3 1 2]\n",
            " [6 5 4]]\n"
          ]
        }
      ],
      "source": [
        "# Ordenando em matrizes (por linha ou coluna)\n",
        "matrix_unsorted = np.array([[3, 1, 2],\n",
        "                            [6, 5, 4]])\n",
        "print(\"\\nMatriz não ordenada:\\n\", matrix_unsorted)"
      ]
    },
    {
      "cell_type": "code",
      "execution_count": null,
      "metadata": {
        "colab": {
          "base_uri": "https://localhost:8080/"
        },
        "id": "ESVt9MfohDPo",
        "outputId": "385cf712-9119-4f44-a563-5510b53d943a"
      },
      "outputs": [
        {
          "name": "stdout",
          "output_type": "stream",
          "text": [
            "Matriz ordenada por linha (axis=1):\n",
            " [[1 2 3]\n",
            " [4 5 6]]\n",
            "Matriz ordenada por coluna (axis=0):\n",
            " [[3 1 2]\n",
            " [6 5 4]]\n"
          ]
        }
      ],
      "source": [
        "# Ordenar por linha (axis=1)\n",
        "sorted_by_row = np.sort(matrix_unsorted, axis=1)\n",
        "print(\"Matriz ordenada por linha (axis=1):\\n\", sorted_by_row)\n",
        "\n",
        "# Ordenar por coluna (axis=0)\n",
        "sorted_by_column = np.sort(matrix_unsorted, axis=0)\n",
        "print(\"Matriz ordenada por coluna (axis=0):\\n\", sorted_by_column)"
      ]
    }
  ],
  "metadata": {
    "colab": {
      "provenance": []
    },
    "kernelspec": {
      "display_name": "Python 3",
      "name": "python3"
    },
    "language_info": {
      "codemirror_mode": {
        "name": "ipython",
        "version": 3
      },
      "file_extension": ".py",
      "mimetype": "text/x-python",
      "name": "python",
      "nbconvert_exporter": "python",
      "pygments_lexer": "ipython3",
      "version": "3.10.12"
    }
  },
  "nbformat": 4,
  "nbformat_minor": 0
}
