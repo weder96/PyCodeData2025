{
 "cells": [
  {
   "cell_type": "markdown",
   "id": "0a3acd50",
   "metadata": {
    "id": "0a3acd50"
   },
   "source": [
    "# Regressão Logística: Prevendo Categorias\n",
    "\n",
    "## 🎯 Objetivo da Aula\n",
    "Aprender quando e como usar a regressão logística para prever **categorias**, especialmente em situações reais como churn de clientes, conversão de leads e respostas a campanhas."
   ]
  },
  {
   "cell_type": "markdown",
   "id": "035a8829",
   "metadata": {
    "id": "035a8829"
   },
   "source": [
    "## 🧠 O que é Regressão Logística?\n",
    "A regressão logística é usada quando a variável que queremos prever (**variável dependente**) é **categórica**. Exemplo:\n",
    "\n",
    "- Vai comprar ou não? (`0` ou `1`)\n",
    "- Vai cancelar o plano? (`Sim` ou `Não`)\n",
    "- Vai clicar no anúncio? (`True` ou `False`)\n",
    "\n",
    "**Importante:** diferente da regressão linear, ela não prevê um número contínuo, mas **probabilidades** entre 0 e 1."
   ]
  },
  {
   "cell_type": "markdown",
   "id": "8261ee22",
   "metadata": {
    "id": "8261ee22"
   },
   "source": [
    "## 📌 Quando usar Regressão Logística?\n",
    "- Quando a variável de saída (Y) tem **dois valores** (binária)\n",
    "- Quando queremos estimar **probabilidade de ocorrência** de um evento\n",
    "- Quando queremos classificar algo em **sim/não**, **0/1**, **positivo/negativo**"
   ]
  },
  {
   "cell_type": "markdown",
   "id": "4efc072c",
   "metadata": {
    "id": "4efc072c"
   },
   "source": [
    "## 🌍 Aplicações reais\n",
    "- **Churn**: prever se um cliente vai cancelar o plano\n",
    "- **Conversão**: prever se um lead vai virar cliente\n",
    "- **Campanha**: prever se alguém vai clicar no anúncio ou responder\n",
    "- **Diagnóstico médico**: prever se um paciente tem ou não uma doença"
   ]
  },
  {
   "cell_type": "markdown",
   "id": "3d3c9014",
   "metadata": {
    "id": "3d3c9014"
   },
   "source": [
    "## 🔧 Exemplo prático com dados simulados"
   ]
  },
  {
   "cell_type": "code",
   "execution_count": 1,
   "id": "d815c4e4",
   "metadata": {
    "colab": {
     "base_uri": "https://localhost:8080/",
     "height": 206
    },
    "executionInfo": {
     "elapsed": 4182,
     "status": "ok",
     "timestamp": 1748392592611,
     "user": {
      "displayName": "Isla Marques",
      "userId": "10478357607822723653"
     },
     "user_tz": 180
    },
    "id": "d815c4e4",
    "outputId": "567c135d-1adc-4286-fbc1-2b3e1096c3ee"
   },
   "outputs": [
    {
     "data": {
      "application/vnd.google.colaboratory.intrinsic+json": {
       "summary": "{\n  \"name\": \"df\",\n  \"rows\": 3000,\n  \"fields\": [\n    {\n      \"column\": \"Idade\",\n      \"properties\": {\n        \"dtype\": \"number\",\n        \"std\": 14,\n        \"min\": 18,\n        \"max\": 69,\n        \"num_unique_values\": 52,\n        \"samples\": [\n          50,\n          51,\n          18\n        ],\n        \"semantic_type\": \"\",\n        \"description\": \"\"\n      }\n    },\n    {\n      \"column\": \"Salario\",\n      \"properties\": {\n        \"dtype\": \"number\",\n        \"std\": 3795,\n        \"min\": 2002,\n        \"max\": 14996,\n        \"num_unique_values\": 2668,\n        \"samples\": [\n          8566,\n          4994,\n          5109\n        ],\n        \"semantic_type\": \"\",\n        \"description\": \"\"\n      }\n    },\n    {\n      \"column\": \"Respondeu\",\n      \"properties\": {\n        \"dtype\": \"number\",\n        \"std\": 0,\n        \"min\": 0,\n        \"max\": 1,\n        \"num_unique_values\": 2,\n        \"samples\": [\n          0,\n          1\n        ],\n        \"semantic_type\": \"\",\n        \"description\": \"\"\n      }\n    }\n  ]\n}",
       "type": "dataframe",
       "variable_name": "df"
      },
      "text/html": [
       "\n",
       "  <div id=\"df-e11284ab-7d12-4c90-beb6-4d6487ce918f\" class=\"colab-df-container\">\n",
       "    <div>\n",
       "<style scoped>\n",
       "    .dataframe tbody tr th:only-of-type {\n",
       "        vertical-align: middle;\n",
       "    }\n",
       "\n",
       "    .dataframe tbody tr th {\n",
       "        vertical-align: top;\n",
       "    }\n",
       "\n",
       "    .dataframe thead th {\n",
       "        text-align: right;\n",
       "    }\n",
       "</style>\n",
       "<table border=\"1\" class=\"dataframe\">\n",
       "  <thead>\n",
       "    <tr style=\"text-align: right;\">\n",
       "      <th></th>\n",
       "      <th>Idade</th>\n",
       "      <th>Salario</th>\n",
       "      <th>Respondeu</th>\n",
       "    </tr>\n",
       "  </thead>\n",
       "  <tbody>\n",
       "    <tr>\n",
       "      <th>0</th>\n",
       "      <td>56</td>\n",
       "      <td>12736</td>\n",
       "      <td>1</td>\n",
       "    </tr>\n",
       "    <tr>\n",
       "      <th>1</th>\n",
       "      <td>69</td>\n",
       "      <td>6875</td>\n",
       "      <td>1</td>\n",
       "    </tr>\n",
       "    <tr>\n",
       "      <th>2</th>\n",
       "      <td>46</td>\n",
       "      <td>3256</td>\n",
       "      <td>0</td>\n",
       "    </tr>\n",
       "    <tr>\n",
       "      <th>3</th>\n",
       "      <td>32</td>\n",
       "      <td>13182</td>\n",
       "      <td>1</td>\n",
       "    </tr>\n",
       "    <tr>\n",
       "      <th>4</th>\n",
       "      <td>60</td>\n",
       "      <td>9697</td>\n",
       "      <td>1</td>\n",
       "    </tr>\n",
       "  </tbody>\n",
       "</table>\n",
       "</div>\n",
       "    <div class=\"colab-df-buttons\">\n",
       "\n",
       "  <div class=\"colab-df-container\">\n",
       "    <button class=\"colab-df-convert\" onclick=\"convertToInteractive('df-e11284ab-7d12-4c90-beb6-4d6487ce918f')\"\n",
       "            title=\"Convert this dataframe to an interactive table.\"\n",
       "            style=\"display:none;\">\n",
       "\n",
       "  <svg xmlns=\"http://www.w3.org/2000/svg\" height=\"24px\" viewBox=\"0 -960 960 960\">\n",
       "    <path d=\"M120-120v-720h720v720H120Zm60-500h600v-160H180v160Zm220 220h160v-160H400v160Zm0 220h160v-160H400v160ZM180-400h160v-160H180v160Zm440 0h160v-160H620v160ZM180-180h160v-160H180v160Zm440 0h160v-160H620v160Z\"/>\n",
       "  </svg>\n",
       "    </button>\n",
       "\n",
       "  <style>\n",
       "    .colab-df-container {\n",
       "      display:flex;\n",
       "      gap: 12px;\n",
       "    }\n",
       "\n",
       "    .colab-df-convert {\n",
       "      background-color: #E8F0FE;\n",
       "      border: none;\n",
       "      border-radius: 50%;\n",
       "      cursor: pointer;\n",
       "      display: none;\n",
       "      fill: #1967D2;\n",
       "      height: 32px;\n",
       "      padding: 0 0 0 0;\n",
       "      width: 32px;\n",
       "    }\n",
       "\n",
       "    .colab-df-convert:hover {\n",
       "      background-color: #E2EBFA;\n",
       "      box-shadow: 0px 1px 2px rgba(60, 64, 67, 0.3), 0px 1px 3px 1px rgba(60, 64, 67, 0.15);\n",
       "      fill: #174EA6;\n",
       "    }\n",
       "\n",
       "    .colab-df-buttons div {\n",
       "      margin-bottom: 4px;\n",
       "    }\n",
       "\n",
       "    [theme=dark] .colab-df-convert {\n",
       "      background-color: #3B4455;\n",
       "      fill: #D2E3FC;\n",
       "    }\n",
       "\n",
       "    [theme=dark] .colab-df-convert:hover {\n",
       "      background-color: #434B5C;\n",
       "      box-shadow: 0px 1px 3px 1px rgba(0, 0, 0, 0.15);\n",
       "      filter: drop-shadow(0px 1px 2px rgba(0, 0, 0, 0.3));\n",
       "      fill: #FFFFFF;\n",
       "    }\n",
       "  </style>\n",
       "\n",
       "    <script>\n",
       "      const buttonEl =\n",
       "        document.querySelector('#df-e11284ab-7d12-4c90-beb6-4d6487ce918f button.colab-df-convert');\n",
       "      buttonEl.style.display =\n",
       "        google.colab.kernel.accessAllowed ? 'block' : 'none';\n",
       "\n",
       "      async function convertToInteractive(key) {\n",
       "        const element = document.querySelector('#df-e11284ab-7d12-4c90-beb6-4d6487ce918f');\n",
       "        const dataTable =\n",
       "          await google.colab.kernel.invokeFunction('convertToInteractive',\n",
       "                                                    [key], {});\n",
       "        if (!dataTable) return;\n",
       "\n",
       "        const docLinkHtml = 'Like what you see? Visit the ' +\n",
       "          '<a target=\"_blank\" href=https://colab.research.google.com/notebooks/data_table.ipynb>data table notebook</a>'\n",
       "          + ' to learn more about interactive tables.';\n",
       "        element.innerHTML = '';\n",
       "        dataTable['output_type'] = 'display_data';\n",
       "        await google.colab.output.renderOutput(dataTable, element);\n",
       "        const docLink = document.createElement('div');\n",
       "        docLink.innerHTML = docLinkHtml;\n",
       "        element.appendChild(docLink);\n",
       "      }\n",
       "    </script>\n",
       "  </div>\n",
       "\n",
       "\n",
       "    <div id=\"df-d14b30e5-fbc4-4c8a-a0ea-a7e84a248ca7\">\n",
       "      <button class=\"colab-df-quickchart\" onclick=\"quickchart('df-d14b30e5-fbc4-4c8a-a0ea-a7e84a248ca7')\"\n",
       "                title=\"Suggest charts\"\n",
       "                style=\"display:none;\">\n",
       "\n",
       "<svg xmlns=\"http://www.w3.org/2000/svg\" height=\"24px\"viewBox=\"0 0 24 24\"\n",
       "     width=\"24px\">\n",
       "    <g>\n",
       "        <path d=\"M19 3H5c-1.1 0-2 .9-2 2v14c0 1.1.9 2 2 2h14c1.1 0 2-.9 2-2V5c0-1.1-.9-2-2-2zM9 17H7v-7h2v7zm4 0h-2V7h2v10zm4 0h-2v-4h2v4z\"/>\n",
       "    </g>\n",
       "</svg>\n",
       "      </button>\n",
       "\n",
       "<style>\n",
       "  .colab-df-quickchart {\n",
       "      --bg-color: #E8F0FE;\n",
       "      --fill-color: #1967D2;\n",
       "      --hover-bg-color: #E2EBFA;\n",
       "      --hover-fill-color: #174EA6;\n",
       "      --disabled-fill-color: #AAA;\n",
       "      --disabled-bg-color: #DDD;\n",
       "  }\n",
       "\n",
       "  [theme=dark] .colab-df-quickchart {\n",
       "      --bg-color: #3B4455;\n",
       "      --fill-color: #D2E3FC;\n",
       "      --hover-bg-color: #434B5C;\n",
       "      --hover-fill-color: #FFFFFF;\n",
       "      --disabled-bg-color: #3B4455;\n",
       "      --disabled-fill-color: #666;\n",
       "  }\n",
       "\n",
       "  .colab-df-quickchart {\n",
       "    background-color: var(--bg-color);\n",
       "    border: none;\n",
       "    border-radius: 50%;\n",
       "    cursor: pointer;\n",
       "    display: none;\n",
       "    fill: var(--fill-color);\n",
       "    height: 32px;\n",
       "    padding: 0;\n",
       "    width: 32px;\n",
       "  }\n",
       "\n",
       "  .colab-df-quickchart:hover {\n",
       "    background-color: var(--hover-bg-color);\n",
       "    box-shadow: 0 1px 2px rgba(60, 64, 67, 0.3), 0 1px 3px 1px rgba(60, 64, 67, 0.15);\n",
       "    fill: var(--button-hover-fill-color);\n",
       "  }\n",
       "\n",
       "  .colab-df-quickchart-complete:disabled,\n",
       "  .colab-df-quickchart-complete:disabled:hover {\n",
       "    background-color: var(--disabled-bg-color);\n",
       "    fill: var(--disabled-fill-color);\n",
       "    box-shadow: none;\n",
       "  }\n",
       "\n",
       "  .colab-df-spinner {\n",
       "    border: 2px solid var(--fill-color);\n",
       "    border-color: transparent;\n",
       "    border-bottom-color: var(--fill-color);\n",
       "    animation:\n",
       "      spin 1s steps(1) infinite;\n",
       "  }\n",
       "\n",
       "  @keyframes spin {\n",
       "    0% {\n",
       "      border-color: transparent;\n",
       "      border-bottom-color: var(--fill-color);\n",
       "      border-left-color: var(--fill-color);\n",
       "    }\n",
       "    20% {\n",
       "      border-color: transparent;\n",
       "      border-left-color: var(--fill-color);\n",
       "      border-top-color: var(--fill-color);\n",
       "    }\n",
       "    30% {\n",
       "      border-color: transparent;\n",
       "      border-left-color: var(--fill-color);\n",
       "      border-top-color: var(--fill-color);\n",
       "      border-right-color: var(--fill-color);\n",
       "    }\n",
       "    40% {\n",
       "      border-color: transparent;\n",
       "      border-right-color: var(--fill-color);\n",
       "      border-top-color: var(--fill-color);\n",
       "    }\n",
       "    60% {\n",
       "      border-color: transparent;\n",
       "      border-right-color: var(--fill-color);\n",
       "    }\n",
       "    80% {\n",
       "      border-color: transparent;\n",
       "      border-right-color: var(--fill-color);\n",
       "      border-bottom-color: var(--fill-color);\n",
       "    }\n",
       "    90% {\n",
       "      border-color: transparent;\n",
       "      border-bottom-color: var(--fill-color);\n",
       "    }\n",
       "  }\n",
       "</style>\n",
       "\n",
       "      <script>\n",
       "        async function quickchart(key) {\n",
       "          const quickchartButtonEl =\n",
       "            document.querySelector('#' + key + ' button');\n",
       "          quickchartButtonEl.disabled = true;  // To prevent multiple clicks.\n",
       "          quickchartButtonEl.classList.add('colab-df-spinner');\n",
       "          try {\n",
       "            const charts = await google.colab.kernel.invokeFunction(\n",
       "                'suggestCharts', [key], {});\n",
       "          } catch (error) {\n",
       "            console.error('Error during call to suggestCharts:', error);\n",
       "          }\n",
       "          quickchartButtonEl.classList.remove('colab-df-spinner');\n",
       "          quickchartButtonEl.classList.add('colab-df-quickchart-complete');\n",
       "        }\n",
       "        (() => {\n",
       "          let quickchartButtonEl =\n",
       "            document.querySelector('#df-d14b30e5-fbc4-4c8a-a0ea-a7e84a248ca7 button');\n",
       "          quickchartButtonEl.style.display =\n",
       "            google.colab.kernel.accessAllowed ? 'block' : 'none';\n",
       "        })();\n",
       "      </script>\n",
       "    </div>\n",
       "\n",
       "    </div>\n",
       "  </div>\n"
      ],
      "text/plain": [
       "   Idade  Salario  Respondeu\n",
       "0     56    12736          1\n",
       "1     69     6875          1\n",
       "2     46     3256          0\n",
       "3     32    13182          1\n",
       "4     60     9697          1"
      ]
     },
     "execution_count": 1,
     "metadata": {},
     "output_type": "execute_result"
    }
   ],
   "source": [
    "import numpy as np\n",
    "import pandas as pd\n",
    "from sklearn.linear_model import LogisticRegression\n",
    "from sklearn.model_selection import train_test_split\n",
    "from sklearn.metrics import (\n",
    "    accuracy_score, precision_score, recall_score,\n",
    "    f1_score, roc_auc_score, confusion_matrix, roc_curve\n",
    ")\n",
    "import seaborn as sns\n",
    "import matplotlib.pyplot as plt\n",
    "import statsmodels.api as sm\n",
    "from statsmodels.stats.outliers_influence import variance_inflation_factor\n",
    "\n",
    "np.random.seed(42)\n",
    "n = 3000\n",
    "idade = np.random.randint(18, 70, n)\n",
    "salario = np.random.randint(2000, 15000, n)\n",
    "\n",
    "# Combinação linear com peso + ruído\n",
    "logit = -10 + 0.05 * idade + 0.0015 * salario + np.random.normal(0, 1, n)\n",
    "\n",
    "# Aplicar função sigmoide (logística) para transformar em probabilidade\n",
    "probabilidade_resposta = 1 / (1 + np.exp(-logit))\n",
    "\n",
    "# Gerar resposta binária com base na probabilidade\n",
    "resposta = np.random.binomial(1, probabilidade_resposta)\n",
    "\n",
    "df = pd.DataFrame({'Idade': idade, 'Salario': salario, 'Respondeu': resposta})\n",
    "df.head()"
   ]
  },
  {
   "cell_type": "markdown",
   "id": "3RONU-SuUgjF",
   "metadata": {
    "id": "3RONU-SuUgjF"
   },
   "source": [
    "Y = a + bx (eq. da reta da regressão linear)"
   ]
  },
  {
   "cell_type": "markdown",
   "id": "LAtL_nu_aPgx",
   "metadata": {
    "id": "LAtL_nu_aPgx"
   },
   "source": [
    "![image.png](data:image/png;base64,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)"
   ]
  },
  {
   "cell_type": "code",
   "execution_count": 11,
   "id": "Kjd950OdXQmh",
   "metadata": {
    "colab": {
     "base_uri": "https://localhost:8080/",
     "height": 143
    },
    "executionInfo": {
     "elapsed": 83,
     "status": "ok",
     "timestamp": 1748393335204,
     "user": {
      "displayName": "Isla Marques",
      "userId": "10478357607822723653"
     },
     "user_tz": 180
    },
    "id": "Kjd950OdXQmh",
    "outputId": "55e0a091-43b3-4df5-aea7-0fb820e1a602"
   },
   "outputs": [
    {
     "data": {
      "application/vnd.google.colaboratory.intrinsic+json": {
       "summary": "{\n  \"name\": \"df\",\n  \"rows\": 3,\n  \"fields\": [\n    {\n      \"column\": \"Idade\",\n      \"properties\": {\n        \"dtype\": \"number\",\n        \"std\": 0.5553722674454163,\n        \"min\": 0.00202892082074198,\n        \"max\": 1.0,\n        \"num_unique_values\": 3,\n        \"samples\": [\n          1.0,\n          0.00202892082074198,\n          0.07869306599170135\n        ],\n        \"semantic_type\": \"\",\n        \"description\": \"\"\n      }\n    },\n    {\n      \"column\": \"Salario\",\n      \"properties\": {\n        \"dtype\": \"number\",\n        \"std\": 0.5125492792248254,\n        \"min\": 0.00202892082074198,\n        \"max\": 1.0,\n        \"num_unique_values\": 3,\n        \"samples\": [\n          0.00202892082074198,\n          1.0,\n          0.7038951759626497\n        ],\n        \"semantic_type\": \"\",\n        \"description\": \"\"\n      }\n    },\n    {\n      \"column\": \"Respondeu\",\n      \"properties\": {\n        \"dtype\": \"number\",\n        \"std\": 0.4703477812183391,\n        \"min\": 0.07869306599170135,\n        \"max\": 1.0,\n        \"num_unique_values\": 3,\n        \"samples\": [\n          0.07869306599170135,\n          0.7038951759626497,\n          1.0\n        ],\n        \"semantic_type\": \"\",\n        \"description\": \"\"\n      }\n    }\n  ]\n}",
       "type": "dataframe"
      },
      "text/html": [
       "\n",
       "  <div id=\"df-4b8316b2-2a7d-44b9-9539-6fd58c165dc0\" class=\"colab-df-container\">\n",
       "    <div>\n",
       "<style scoped>\n",
       "    .dataframe tbody tr th:only-of-type {\n",
       "        vertical-align: middle;\n",
       "    }\n",
       "\n",
       "    .dataframe tbody tr th {\n",
       "        vertical-align: top;\n",
       "    }\n",
       "\n",
       "    .dataframe thead th {\n",
       "        text-align: right;\n",
       "    }\n",
       "</style>\n",
       "<table border=\"1\" class=\"dataframe\">\n",
       "  <thead>\n",
       "    <tr style=\"text-align: right;\">\n",
       "      <th></th>\n",
       "      <th>Idade</th>\n",
       "      <th>Salario</th>\n",
       "      <th>Respondeu</th>\n",
       "    </tr>\n",
       "  </thead>\n",
       "  <tbody>\n",
       "    <tr>\n",
       "      <th>Idade</th>\n",
       "      <td>1.000000</td>\n",
       "      <td>0.002029</td>\n",
       "      <td>0.078693</td>\n",
       "    </tr>\n",
       "    <tr>\n",
       "      <th>Salario</th>\n",
       "      <td>0.002029</td>\n",
       "      <td>1.000000</td>\n",
       "      <td>0.703895</td>\n",
       "    </tr>\n",
       "    <tr>\n",
       "      <th>Respondeu</th>\n",
       "      <td>0.078693</td>\n",
       "      <td>0.703895</td>\n",
       "      <td>1.000000</td>\n",
       "    </tr>\n",
       "  </tbody>\n",
       "</table>\n",
       "</div>\n",
       "    <div class=\"colab-df-buttons\">\n",
       "\n",
       "  <div class=\"colab-df-container\">\n",
       "    <button class=\"colab-df-convert\" onclick=\"convertToInteractive('df-4b8316b2-2a7d-44b9-9539-6fd58c165dc0')\"\n",
       "            title=\"Convert this dataframe to an interactive table.\"\n",
       "            style=\"display:none;\">\n",
       "\n",
       "  <svg xmlns=\"http://www.w3.org/2000/svg\" height=\"24px\" viewBox=\"0 -960 960 960\">\n",
       "    <path d=\"M120-120v-720h720v720H120Zm60-500h600v-160H180v160Zm220 220h160v-160H400v160Zm0 220h160v-160H400v160ZM180-400h160v-160H180v160Zm440 0h160v-160H620v160ZM180-180h160v-160H180v160Zm440 0h160v-160H620v160Z\"/>\n",
       "  </svg>\n",
       "    </button>\n",
       "\n",
       "  <style>\n",
       "    .colab-df-container {\n",
       "      display:flex;\n",
       "      gap: 12px;\n",
       "    }\n",
       "\n",
       "    .colab-df-convert {\n",
       "      background-color: #E8F0FE;\n",
       "      border: none;\n",
       "      border-radius: 50%;\n",
       "      cursor: pointer;\n",
       "      display: none;\n",
       "      fill: #1967D2;\n",
       "      height: 32px;\n",
       "      padding: 0 0 0 0;\n",
       "      width: 32px;\n",
       "    }\n",
       "\n",
       "    .colab-df-convert:hover {\n",
       "      background-color: #E2EBFA;\n",
       "      box-shadow: 0px 1px 2px rgba(60, 64, 67, 0.3), 0px 1px 3px 1px rgba(60, 64, 67, 0.15);\n",
       "      fill: #174EA6;\n",
       "    }\n",
       "\n",
       "    .colab-df-buttons div {\n",
       "      margin-bottom: 4px;\n",
       "    }\n",
       "\n",
       "    [theme=dark] .colab-df-convert {\n",
       "      background-color: #3B4455;\n",
       "      fill: #D2E3FC;\n",
       "    }\n",
       "\n",
       "    [theme=dark] .colab-df-convert:hover {\n",
       "      background-color: #434B5C;\n",
       "      box-shadow: 0px 1px 3px 1px rgba(0, 0, 0, 0.15);\n",
       "      filter: drop-shadow(0px 1px 2px rgba(0, 0, 0, 0.3));\n",
       "      fill: #FFFFFF;\n",
       "    }\n",
       "  </style>\n",
       "\n",
       "    <script>\n",
       "      const buttonEl =\n",
       "        document.querySelector('#df-4b8316b2-2a7d-44b9-9539-6fd58c165dc0 button.colab-df-convert');\n",
       "      buttonEl.style.display =\n",
       "        google.colab.kernel.accessAllowed ? 'block' : 'none';\n",
       "\n",
       "      async function convertToInteractive(key) {\n",
       "        const element = document.querySelector('#df-4b8316b2-2a7d-44b9-9539-6fd58c165dc0');\n",
       "        const dataTable =\n",
       "          await google.colab.kernel.invokeFunction('convertToInteractive',\n",
       "                                                    [key], {});\n",
       "        if (!dataTable) return;\n",
       "\n",
       "        const docLinkHtml = 'Like what you see? Visit the ' +\n",
       "          '<a target=\"_blank\" href=https://colab.research.google.com/notebooks/data_table.ipynb>data table notebook</a>'\n",
       "          + ' to learn more about interactive tables.';\n",
       "        element.innerHTML = '';\n",
       "        dataTable['output_type'] = 'display_data';\n",
       "        await google.colab.output.renderOutput(dataTable, element);\n",
       "        const docLink = document.createElement('div');\n",
       "        docLink.innerHTML = docLinkHtml;\n",
       "        element.appendChild(docLink);\n",
       "      }\n",
       "    </script>\n",
       "  </div>\n",
       "\n",
       "\n",
       "    <div id=\"df-c4a27d74-5896-4d91-abf7-2564b54433d1\">\n",
       "      <button class=\"colab-df-quickchart\" onclick=\"quickchart('df-c4a27d74-5896-4d91-abf7-2564b54433d1')\"\n",
       "                title=\"Suggest charts\"\n",
       "                style=\"display:none;\">\n",
       "\n",
       "<svg xmlns=\"http://www.w3.org/2000/svg\" height=\"24px\"viewBox=\"0 0 24 24\"\n",
       "     width=\"24px\">\n",
       "    <g>\n",
       "        <path d=\"M19 3H5c-1.1 0-2 .9-2 2v14c0 1.1.9 2 2 2h14c1.1 0 2-.9 2-2V5c0-1.1-.9-2-2-2zM9 17H7v-7h2v7zm4 0h-2V7h2v10zm4 0h-2v-4h2v4z\"/>\n",
       "    </g>\n",
       "</svg>\n",
       "      </button>\n",
       "\n",
       "<style>\n",
       "  .colab-df-quickchart {\n",
       "      --bg-color: #E8F0FE;\n",
       "      --fill-color: #1967D2;\n",
       "      --hover-bg-color: #E2EBFA;\n",
       "      --hover-fill-color: #174EA6;\n",
       "      --disabled-fill-color: #AAA;\n",
       "      --disabled-bg-color: #DDD;\n",
       "  }\n",
       "\n",
       "  [theme=dark] .colab-df-quickchart {\n",
       "      --bg-color: #3B4455;\n",
       "      --fill-color: #D2E3FC;\n",
       "      --hover-bg-color: #434B5C;\n",
       "      --hover-fill-color: #FFFFFF;\n",
       "      --disabled-bg-color: #3B4455;\n",
       "      --disabled-fill-color: #666;\n",
       "  }\n",
       "\n",
       "  .colab-df-quickchart {\n",
       "    background-color: var(--bg-color);\n",
       "    border: none;\n",
       "    border-radius: 50%;\n",
       "    cursor: pointer;\n",
       "    display: none;\n",
       "    fill: var(--fill-color);\n",
       "    height: 32px;\n",
       "    padding: 0;\n",
       "    width: 32px;\n",
       "  }\n",
       "\n",
       "  .colab-df-quickchart:hover {\n",
       "    background-color: var(--hover-bg-color);\n",
       "    box-shadow: 0 1px 2px rgba(60, 64, 67, 0.3), 0 1px 3px 1px rgba(60, 64, 67, 0.15);\n",
       "    fill: var(--button-hover-fill-color);\n",
       "  }\n",
       "\n",
       "  .colab-df-quickchart-complete:disabled,\n",
       "  .colab-df-quickchart-complete:disabled:hover {\n",
       "    background-color: var(--disabled-bg-color);\n",
       "    fill: var(--disabled-fill-color);\n",
       "    box-shadow: none;\n",
       "  }\n",
       "\n",
       "  .colab-df-spinner {\n",
       "    border: 2px solid var(--fill-color);\n",
       "    border-color: transparent;\n",
       "    border-bottom-color: var(--fill-color);\n",
       "    animation:\n",
       "      spin 1s steps(1) infinite;\n",
       "  }\n",
       "\n",
       "  @keyframes spin {\n",
       "    0% {\n",
       "      border-color: transparent;\n",
       "      border-bottom-color: var(--fill-color);\n",
       "      border-left-color: var(--fill-color);\n",
       "    }\n",
       "    20% {\n",
       "      border-color: transparent;\n",
       "      border-left-color: var(--fill-color);\n",
       "      border-top-color: var(--fill-color);\n",
       "    }\n",
       "    30% {\n",
       "      border-color: transparent;\n",
       "      border-left-color: var(--fill-color);\n",
       "      border-top-color: var(--fill-color);\n",
       "      border-right-color: var(--fill-color);\n",
       "    }\n",
       "    40% {\n",
       "      border-color: transparent;\n",
       "      border-right-color: var(--fill-color);\n",
       "      border-top-color: var(--fill-color);\n",
       "    }\n",
       "    60% {\n",
       "      border-color: transparent;\n",
       "      border-right-color: var(--fill-color);\n",
       "    }\n",
       "    80% {\n",
       "      border-color: transparent;\n",
       "      border-right-color: var(--fill-color);\n",
       "      border-bottom-color: var(--fill-color);\n",
       "    }\n",
       "    90% {\n",
       "      border-color: transparent;\n",
       "      border-bottom-color: var(--fill-color);\n",
       "    }\n",
       "  }\n",
       "</style>\n",
       "\n",
       "      <script>\n",
       "        async function quickchart(key) {\n",
       "          const quickchartButtonEl =\n",
       "            document.querySelector('#' + key + ' button');\n",
       "          quickchartButtonEl.disabled = true;  // To prevent multiple clicks.\n",
       "          quickchartButtonEl.classList.add('colab-df-spinner');\n",
       "          try {\n",
       "            const charts = await google.colab.kernel.invokeFunction(\n",
       "                'suggestCharts', [key], {});\n",
       "          } catch (error) {\n",
       "            console.error('Error during call to suggestCharts:', error);\n",
       "          }\n",
       "          quickchartButtonEl.classList.remove('colab-df-spinner');\n",
       "          quickchartButtonEl.classList.add('colab-df-quickchart-complete');\n",
       "        }\n",
       "        (() => {\n",
       "          let quickchartButtonEl =\n",
       "            document.querySelector('#df-c4a27d74-5896-4d91-abf7-2564b54433d1 button');\n",
       "          quickchartButtonEl.style.display =\n",
       "            google.colab.kernel.accessAllowed ? 'block' : 'none';\n",
       "        })();\n",
       "      </script>\n",
       "    </div>\n",
       "\n",
       "    </div>\n",
       "  </div>\n"
      ],
      "text/plain": [
       "              Idade   Salario  Respondeu\n",
       "Idade      1.000000  0.002029   0.078693\n",
       "Salario    0.002029  1.000000   0.703895\n",
       "Respondeu  0.078693  0.703895   1.000000"
      ]
     },
     "execution_count": 11,
     "metadata": {},
     "output_type": "execute_result"
    }
   ],
   "source": [
    "df.corr()"
   ]
  },
  {
   "cell_type": "markdown",
   "id": "g0ZUV6vyVpT2",
   "metadata": {
    "id": "g0ZUV6vyVpT2"
   },
   "source": [
    "## Análise de multicolinearidade (VIF + Correlacao)"
   ]
  },
  {
   "cell_type": "code",
   "execution_count": 2,
   "id": "LwwXQwz4Vtb-",
   "metadata": {
    "colab": {
     "base_uri": "https://localhost:8080/"
    },
    "executionInfo": {
     "elapsed": 141,
     "status": "ok",
     "timestamp": 1748392686300,
     "user": {
      "displayName": "Isla Marques",
      "userId": "10478357607822723653"
     },
     "user_tz": 180
    },
    "id": "LwwXQwz4Vtb-",
    "outputId": "bab22080-93f5-4ec7-f9bf-e3ee04ad4ed3"
   },
   "outputs": [
    {
     "name": "stdout",
     "output_type": "stream",
     "text": [
      "\n",
      "VIF (Multicolinearidade):\n",
      "  Variável        VIF\n",
      "0    const  14.492233\n",
      "1    Idade   1.000004\n",
      "2  Salario   1.000004\n"
     ]
    }
   ],
   "source": [
    "X = df[['Idade', 'Salario']]\n",
    "X_const = sm.add_constant(X)\n",
    "\n",
    "vif_data = pd.DataFrame()\n",
    "vif_data[\"Variável\"] = X_const.columns\n",
    "vif_data[\"VIF\"] = [variance_inflation_factor(X_const.values, i) for i in range(X_const.shape[1])]\n",
    "\n",
    "print(\"\\nVIF (Multicolinearidade):\")\n",
    "print(vif_data)"
   ]
  },
  {
   "cell_type": "code",
   "execution_count": 3,
   "id": "Qg70TPVHVz_J",
   "metadata": {
    "colab": {
     "base_uri": "https://localhost:8080/",
     "height": 147
    },
    "executionInfo": {
     "elapsed": 112,
     "status": "ok",
     "timestamp": 1748392697139,
     "user": {
      "displayName": "Isla Marques",
      "userId": "10478357607822723653"
     },
     "user_tz": 180
    },
    "id": "Qg70TPVHVz_J",
    "outputId": "4ee05dac-520c-4fe4-aff8-aec468b7babe"
   },
   "outputs": [
    {
     "name": "stdout",
     "output_type": "stream",
     "text": [
      "\n",
      "Correlação entre variáveis:\n"
     ]
    },
    {
     "data": {
      "application/vnd.google.colaboratory.intrinsic+json": {
       "summary": "{\n  \"name\": \"X\",\n  \"rows\": 2,\n  \"fields\": [\n    {\n      \"column\": \"Idade\",\n      \"properties\": {\n        \"dtype\": \"number\",\n        \"std\": 0.7056721175157104,\n        \"min\": 0.00202892082074198,\n        \"max\": 1.0,\n        \"num_unique_values\": 2,\n        \"samples\": [\n          0.00202892082074198,\n          1.0\n        ],\n        \"semantic_type\": \"\",\n        \"description\": \"\"\n      }\n    },\n    {\n      \"column\": \"Salario\",\n      \"properties\": {\n        \"dtype\": \"number\",\n        \"std\": 0.7056721175157104,\n        \"min\": 0.00202892082074198,\n        \"max\": 1.0,\n        \"num_unique_values\": 2,\n        \"samples\": [\n          1.0,\n          0.00202892082074198\n        ],\n        \"semantic_type\": \"\",\n        \"description\": \"\"\n      }\n    }\n  ]\n}",
       "type": "dataframe"
      },
      "text/html": [
       "\n",
       "  <div id=\"df-379390d1-f784-41b1-8d48-0f0748bd90fe\" class=\"colab-df-container\">\n",
       "    <div>\n",
       "<style scoped>\n",
       "    .dataframe tbody tr th:only-of-type {\n",
       "        vertical-align: middle;\n",
       "    }\n",
       "\n",
       "    .dataframe tbody tr th {\n",
       "        vertical-align: top;\n",
       "    }\n",
       "\n",
       "    .dataframe thead th {\n",
       "        text-align: right;\n",
       "    }\n",
       "</style>\n",
       "<table border=\"1\" class=\"dataframe\">\n",
       "  <thead>\n",
       "    <tr style=\"text-align: right;\">\n",
       "      <th></th>\n",
       "      <th>Idade</th>\n",
       "      <th>Salario</th>\n",
       "    </tr>\n",
       "  </thead>\n",
       "  <tbody>\n",
       "    <tr>\n",
       "      <th>Idade</th>\n",
       "      <td>1.000000</td>\n",
       "      <td>0.002029</td>\n",
       "    </tr>\n",
       "    <tr>\n",
       "      <th>Salario</th>\n",
       "      <td>0.002029</td>\n",
       "      <td>1.000000</td>\n",
       "    </tr>\n",
       "  </tbody>\n",
       "</table>\n",
       "</div>\n",
       "    <div class=\"colab-df-buttons\">\n",
       "\n",
       "  <div class=\"colab-df-container\">\n",
       "    <button class=\"colab-df-convert\" onclick=\"convertToInteractive('df-379390d1-f784-41b1-8d48-0f0748bd90fe')\"\n",
       "            title=\"Convert this dataframe to an interactive table.\"\n",
       "            style=\"display:none;\">\n",
       "\n",
       "  <svg xmlns=\"http://www.w3.org/2000/svg\" height=\"24px\" viewBox=\"0 -960 960 960\">\n",
       "    <path d=\"M120-120v-720h720v720H120Zm60-500h600v-160H180v160Zm220 220h160v-160H400v160Zm0 220h160v-160H400v160ZM180-400h160v-160H180v160Zm440 0h160v-160H620v160ZM180-180h160v-160H180v160Zm440 0h160v-160H620v160Z\"/>\n",
       "  </svg>\n",
       "    </button>\n",
       "\n",
       "  <style>\n",
       "    .colab-df-container {\n",
       "      display:flex;\n",
       "      gap: 12px;\n",
       "    }\n",
       "\n",
       "    .colab-df-convert {\n",
       "      background-color: #E8F0FE;\n",
       "      border: none;\n",
       "      border-radius: 50%;\n",
       "      cursor: pointer;\n",
       "      display: none;\n",
       "      fill: #1967D2;\n",
       "      height: 32px;\n",
       "      padding: 0 0 0 0;\n",
       "      width: 32px;\n",
       "    }\n",
       "\n",
       "    .colab-df-convert:hover {\n",
       "      background-color: #E2EBFA;\n",
       "      box-shadow: 0px 1px 2px rgba(60, 64, 67, 0.3), 0px 1px 3px 1px rgba(60, 64, 67, 0.15);\n",
       "      fill: #174EA6;\n",
       "    }\n",
       "\n",
       "    .colab-df-buttons div {\n",
       "      margin-bottom: 4px;\n",
       "    }\n",
       "\n",
       "    [theme=dark] .colab-df-convert {\n",
       "      background-color: #3B4455;\n",
       "      fill: #D2E3FC;\n",
       "    }\n",
       "\n",
       "    [theme=dark] .colab-df-convert:hover {\n",
       "      background-color: #434B5C;\n",
       "      box-shadow: 0px 1px 3px 1px rgba(0, 0, 0, 0.15);\n",
       "      filter: drop-shadow(0px 1px 2px rgba(0, 0, 0, 0.3));\n",
       "      fill: #FFFFFF;\n",
       "    }\n",
       "  </style>\n",
       "\n",
       "    <script>\n",
       "      const buttonEl =\n",
       "        document.querySelector('#df-379390d1-f784-41b1-8d48-0f0748bd90fe button.colab-df-convert');\n",
       "      buttonEl.style.display =\n",
       "        google.colab.kernel.accessAllowed ? 'block' : 'none';\n",
       "\n",
       "      async function convertToInteractive(key) {\n",
       "        const element = document.querySelector('#df-379390d1-f784-41b1-8d48-0f0748bd90fe');\n",
       "        const dataTable =\n",
       "          await google.colab.kernel.invokeFunction('convertToInteractive',\n",
       "                                                    [key], {});\n",
       "        if (!dataTable) return;\n",
       "\n",
       "        const docLinkHtml = 'Like what you see? Visit the ' +\n",
       "          '<a target=\"_blank\" href=https://colab.research.google.com/notebooks/data_table.ipynb>data table notebook</a>'\n",
       "          + ' to learn more about interactive tables.';\n",
       "        element.innerHTML = '';\n",
       "        dataTable['output_type'] = 'display_data';\n",
       "        await google.colab.output.renderOutput(dataTable, element);\n",
       "        const docLink = document.createElement('div');\n",
       "        docLink.innerHTML = docLinkHtml;\n",
       "        element.appendChild(docLink);\n",
       "      }\n",
       "    </script>\n",
       "  </div>\n",
       "\n",
       "\n",
       "    <div id=\"df-b3ce42e9-7cb0-4470-ac3f-86587c0cc6cf\">\n",
       "      <button class=\"colab-df-quickchart\" onclick=\"quickchart('df-b3ce42e9-7cb0-4470-ac3f-86587c0cc6cf')\"\n",
       "                title=\"Suggest charts\"\n",
       "                style=\"display:none;\">\n",
       "\n",
       "<svg xmlns=\"http://www.w3.org/2000/svg\" height=\"24px\"viewBox=\"0 0 24 24\"\n",
       "     width=\"24px\">\n",
       "    <g>\n",
       "        <path d=\"M19 3H5c-1.1 0-2 .9-2 2v14c0 1.1.9 2 2 2h14c1.1 0 2-.9 2-2V5c0-1.1-.9-2-2-2zM9 17H7v-7h2v7zm4 0h-2V7h2v10zm4 0h-2v-4h2v4z\"/>\n",
       "    </g>\n",
       "</svg>\n",
       "      </button>\n",
       "\n",
       "<style>\n",
       "  .colab-df-quickchart {\n",
       "      --bg-color: #E8F0FE;\n",
       "      --fill-color: #1967D2;\n",
       "      --hover-bg-color: #E2EBFA;\n",
       "      --hover-fill-color: #174EA6;\n",
       "      --disabled-fill-color: #AAA;\n",
       "      --disabled-bg-color: #DDD;\n",
       "  }\n",
       "\n",
       "  [theme=dark] .colab-df-quickchart {\n",
       "      --bg-color: #3B4455;\n",
       "      --fill-color: #D2E3FC;\n",
       "      --hover-bg-color: #434B5C;\n",
       "      --hover-fill-color: #FFFFFF;\n",
       "      --disabled-bg-color: #3B4455;\n",
       "      --disabled-fill-color: #666;\n",
       "  }\n",
       "\n",
       "  .colab-df-quickchart {\n",
       "    background-color: var(--bg-color);\n",
       "    border: none;\n",
       "    border-radius: 50%;\n",
       "    cursor: pointer;\n",
       "    display: none;\n",
       "    fill: var(--fill-color);\n",
       "    height: 32px;\n",
       "    padding: 0;\n",
       "    width: 32px;\n",
       "  }\n",
       "\n",
       "  .colab-df-quickchart:hover {\n",
       "    background-color: var(--hover-bg-color);\n",
       "    box-shadow: 0 1px 2px rgba(60, 64, 67, 0.3), 0 1px 3px 1px rgba(60, 64, 67, 0.15);\n",
       "    fill: var(--button-hover-fill-color);\n",
       "  }\n",
       "\n",
       "  .colab-df-quickchart-complete:disabled,\n",
       "  .colab-df-quickchart-complete:disabled:hover {\n",
       "    background-color: var(--disabled-bg-color);\n",
       "    fill: var(--disabled-fill-color);\n",
       "    box-shadow: none;\n",
       "  }\n",
       "\n",
       "  .colab-df-spinner {\n",
       "    border: 2px solid var(--fill-color);\n",
       "    border-color: transparent;\n",
       "    border-bottom-color: var(--fill-color);\n",
       "    animation:\n",
       "      spin 1s steps(1) infinite;\n",
       "  }\n",
       "\n",
       "  @keyframes spin {\n",
       "    0% {\n",
       "      border-color: transparent;\n",
       "      border-bottom-color: var(--fill-color);\n",
       "      border-left-color: var(--fill-color);\n",
       "    }\n",
       "    20% {\n",
       "      border-color: transparent;\n",
       "      border-left-color: var(--fill-color);\n",
       "      border-top-color: var(--fill-color);\n",
       "    }\n",
       "    30% {\n",
       "      border-color: transparent;\n",
       "      border-left-color: var(--fill-color);\n",
       "      border-top-color: var(--fill-color);\n",
       "      border-right-color: var(--fill-color);\n",
       "    }\n",
       "    40% {\n",
       "      border-color: transparent;\n",
       "      border-right-color: var(--fill-color);\n",
       "      border-top-color: var(--fill-color);\n",
       "    }\n",
       "    60% {\n",
       "      border-color: transparent;\n",
       "      border-right-color: var(--fill-color);\n",
       "    }\n",
       "    80% {\n",
       "      border-color: transparent;\n",
       "      border-right-color: var(--fill-color);\n",
       "      border-bottom-color: var(--fill-color);\n",
       "    }\n",
       "    90% {\n",
       "      border-color: transparent;\n",
       "      border-bottom-color: var(--fill-color);\n",
       "    }\n",
       "  }\n",
       "</style>\n",
       "\n",
       "      <script>\n",
       "        async function quickchart(key) {\n",
       "          const quickchartButtonEl =\n",
       "            document.querySelector('#' + key + ' button');\n",
       "          quickchartButtonEl.disabled = true;  // To prevent multiple clicks.\n",
       "          quickchartButtonEl.classList.add('colab-df-spinner');\n",
       "          try {\n",
       "            const charts = await google.colab.kernel.invokeFunction(\n",
       "                'suggestCharts', [key], {});\n",
       "          } catch (error) {\n",
       "            console.error('Error during call to suggestCharts:', error);\n",
       "          }\n",
       "          quickchartButtonEl.classList.remove('colab-df-spinner');\n",
       "          quickchartButtonEl.classList.add('colab-df-quickchart-complete');\n",
       "        }\n",
       "        (() => {\n",
       "          let quickchartButtonEl =\n",
       "            document.querySelector('#df-b3ce42e9-7cb0-4470-ac3f-86587c0cc6cf button');\n",
       "          quickchartButtonEl.style.display =\n",
       "            google.colab.kernel.accessAllowed ? 'block' : 'none';\n",
       "        })();\n",
       "      </script>\n",
       "    </div>\n",
       "\n",
       "    </div>\n",
       "  </div>\n"
      ],
      "text/plain": [
       "            Idade   Salario\n",
       "Idade    1.000000  0.002029\n",
       "Salario  0.002029  1.000000"
      ]
     },
     "execution_count": 3,
     "metadata": {},
     "output_type": "execute_result"
    }
   ],
   "source": [
    "print(\"\\nCorrelação entre variáveis:\")\n",
    "X.corr()"
   ]
  },
  {
   "cell_type": "markdown",
   "id": "8631fc12",
   "metadata": {
    "id": "8631fc12"
   },
   "source": [
    "## 🤖 Treinando uma Regressão Logística"
   ]
  },
  {
   "cell_type": "code",
   "execution_count": 21,
   "id": "e5b68ab3",
   "metadata": {
    "colab": {
     "base_uri": "https://localhost:8080/"
    },
    "executionInfo": {
     "elapsed": 273,
     "status": "ok",
     "timestamp": 1748393455520,
     "user": {
      "displayName": "Isla Marques",
      "userId": "10478357607822723653"
     },
     "user_tz": 180
    },
    "id": "e5b68ab3",
    "outputId": "213764d1-4924-4c95-ec23-896881adf172"
   },
   "outputs": [
    {
     "name": "stdout",
     "output_type": "stream",
     "text": [
      "Acurácia: 0.8866666666666667\n"
     ]
    }
   ],
   "source": [
    "X = df[['Idade', 'Salario']]\n",
    "y = df['Respondeu']\n",
    "\n",
    "X_train, X_test, y_train, y_test = train_test_split(X, y, test_size=0.2, random_state=42)\n",
    "modelo = LogisticRegression()\n",
    "modelo.fit(X_train, y_train)\n",
    "\n",
    "y_pred = modelo.predict(X_test)\n",
    "y_prob = modelo.predict_proba(X_test)[:,1]\n",
    "residuos = y_test - y_prob  # resíduo = real - previsto\n",
    "print('Acurácia:', accuracy_score(y_test, y_pred))"
   ]
  },
  {
   "cell_type": "markdown",
   "id": "YrVdBIJzVwQX",
   "metadata": {
    "id": "YrVdBIJzVwQX"
   },
   "source": [
    "## Visualização da dispersão  de resíduos"
   ]
  },
  {
   "cell_type": "code",
   "execution_count": 15,
   "id": "N4xbilG5WA30",
   "metadata": {
    "colab": {
     "base_uri": "https://localhost:8080/",
     "height": 507
    },
    "executionInfo": {
     "elapsed": 411,
     "status": "ok",
     "timestamp": 1748393377247,
     "user": {
      "displayName": "Isla Marques",
      "userId": "10478357607822723653"
     },
     "user_tz": 180
    },
    "id": "N4xbilG5WA30",
    "outputId": "584a5aa6-4242-4ef6-9a24-586c4f439c6b"
   },
   "outputs": [
    {
     "data": {
      "image/png": "[encoded data removed]",
      "text/plain": [
       "<Figure size 600x500 with 1 Axes>"
      ]
     },
     "metadata": {},
     "output_type": "display_data"
    }
   ],
   "source": [
    "#Gráfico de resíduos vs. probabilidade prevista\n",
    "\n",
    "plt.figure(figsize=(6, 5))\n",
    "plt.scatter(y_prob, residuos, alpha=0.7)\n",
    "plt.axhline(0, color='gray', linestyle='--')\n",
    "plt.xlabel('Probabilidade Prevista')\n",
    "plt.ylabel('Resíduo (Real - Previsto)')\n",
    "plt.title('Resíduos vs Probabilidade Prevista')\n",
    "plt.tight_layout()\n",
    "plt.show()\n",
    "\n",
    "#Esse padrão em “V” ou “duplo triângulo” é o comportamento natural da regressão logística"
   ]
  },
  {
   "cell_type": "markdown",
   "id": "714a02b5",
   "metadata": {
    "id": "714a02b5"
   },
   "source": [
    "## 🧾 Interpretando os Coeficientes"
   ]
  },
  {
   "cell_type": "markdown",
   "id": "ulb33ZZ7WQls",
   "metadata": {
    "id": "ulb33ZZ7WQls"
   },
   "source": [
    "logit = -10 + 0.05 * idade + 0.0015 * salario"
   ]
  },
  {
   "cell_type": "code",
   "execution_count": 16,
   "id": "_uFf8D5hZRBk",
   "metadata": {
    "colab": {
     "base_uri": "https://localhost:8080/"
    },
    "executionInfo": {
     "elapsed": 119,
     "status": "ok",
     "timestamp": 1748393381390,
     "user": {
      "displayName": "Isla Marques",
      "userId": "10478357607822723653"
     },
     "user_tz": 180
    },
    "id": "_uFf8D5hZRBk",
    "outputId": "4a0e1564-b694-4bf7-d0de-07475edba418"
   },
   "outputs": [
    {
     "name": "stdout",
     "output_type": "stream",
     "text": [
      "Optimization terminated successfully.\n",
      "         Current function value: 0.199900\n",
      "         Iterations 9\n",
      "                           Logit Regression Results                           \n",
      "==============================================================================\n",
      "Dep. Variable:              Respondeu   No. Observations:                 3000\n",
      "Model:                          Logit   Df Residuals:                     2998\n",
      "Method:                           MLE   Df Model:                            1\n",
      "Date:                Wed, 28 May 2025   Pseudo R-squ.:                  0.6490\n",
      "Time:                        00:49:40   Log-Likelihood:                -599.70\n",
      "converged:                       True   LL-Null:                       -1708.6\n",
      "Covariance Type:            nonrobust   LLR p-value:                     0.000\n",
      "==============================================================================\n",
      "                 coef    std err          z      P>|z|      [0.025      0.975]\n",
      "------------------------------------------------------------------------------\n",
      "const         -6.5794      0.301    -21.892      0.000      -7.168      -5.990\n",
      "Salario        0.0013   5.51e-05     22.716      0.000       0.001       0.001\n",
      "==============================================================================\n",
      "\n",
      "Possibly complete quasi-separation: A fraction 0.20 of observations can be\n",
      "perfectly predicted. This might indicate that there is complete\n",
      "quasi-separation. In this case some parameters will not be identified.\n"
     ]
    }
   ],
   "source": [
    "X_const = sm.add_constant(X) #Adiciona uma constante (intercepto) ao conjunto de variáveis\n",
    "modelo_logit = sm.Logit(y, X_const).fit() #Cria e ajusta um modelo de regressão logística com\n",
    "print(modelo_logit.summary())"
   ]
  },
  {
   "cell_type": "markdown",
   "id": "d4300894",
   "metadata": {
    "id": "d4300894"
   },
   "source": [
    "## 📊 Matriz de Confusão"
   ]
  },
  {
   "cell_type": "markdown",
   "id": "kEyXhdkHjhFL",
   "metadata": {
    "id": "kEyXhdkHjhFL"
   },
   "source": [
    "| Resultado previsto | Resultado real | Nome técnico               |\n",
    "| ------------------ | -------------- | -------------------------- |\n",
    "| 1 (positivo)       | 1 (positivo)   | ✅ Verdadeiro Positivo (TP) |\n",
    "| 0 (negativo)       | 0 (negativo)   | ✅ Verdadeiro Negativo (TN) |\n",
    "| 1 (positivo)       | 0 (negativo)   | ❌ **Falso Positivo (FP)**  |\n",
    "| 0 (negativo)       | 1 (positivo)   | ❌ **Falso Negativo (FN)**  |\n"
   ]
  },
  {
   "cell_type": "code",
   "execution_count": 17,
   "id": "a032042a",
   "metadata": {
    "colab": {
     "base_uri": "https://localhost:8080/",
     "height": 472
    },
    "executionInfo": {
     "elapsed": 79,
     "status": "ok",
     "timestamp": 1748393394159,
     "user": {
      "displayName": "Isla Marques",
      "userId": "10478357607822723653"
     },
     "user_tz": 180
    },
    "id": "a032042a",
    "outputId": "3a9cba8d-d9fd-4c91-cb27-f44f7e84cc6e"
   },
   "outputs": [
    {
     "data": {
      "image/png": "[encoded data removed]",
      "text/plain": [
       "<Figure size 640x480 with 2 Axes>"
      ]
     },
     "metadata": {},
     "output_type": "display_data"
    }
   ],
   "source": [
    "cm = confusion_matrix(y_test, y_pred)\n",
    "sns.heatmap(cm, annot=True, fmt='d', cmap='Blues')\n",
    "plt.title('Matriz de Confusão')\n",
    "plt.xlabel('Previsto')\n",
    "plt.ylabel('Real')\n",
    "plt.show()"
   ]
  },
  {
   "cell_type": "markdown",
   "id": "6uU5FiAIimHW",
   "metadata": {
    "id": "6uU5FiAIimHW"
   },
   "source": [
    "## Outras métricas"
   ]
  },
  {
   "cell_type": "code",
   "execution_count": 22,
   "id": "DlKWo3hei0IN",
   "metadata": {
    "colab": {
     "base_uri": "https://localhost:8080/"
    },
    "executionInfo": {
     "elapsed": 68,
     "status": "ok",
     "timestamp": 1748393460010,
     "user": {
      "displayName": "Isla Marques",
      "userId": "10478357607822723653"
     },
     "user_tz": 180
    },
    "id": "DlKWo3hei0IN",
    "outputId": "08489592-d75a-40f0-833e-66f5dd866b2a"
   },
   "outputs": [
    {
     "name": "stdout",
     "output_type": "stream",
     "text": [
      "Acurácia: 0.8866666666666667\n",
      "Precisão: 0.9252747252747253\n",
      "Recall: 0.9252747252747253\n",
      "F1-Score: 0.9252747252747253\n",
      "AUC: 0.9612428950359986\n"
     ]
    }
   ],
   "source": [
    "# Métricas\n",
    "print(\"Acurácia:\", accuracy_score(y_test, y_pred))\n",
    "print(\"Precisão:\", precision_score(y_test, y_pred)) #Use se falsos positivos forem críticos (ex: spam, fraude bancária)\n",
    "print(\"Recall:\", recall_score(y_test, y_pred)) #Use se falsos negativos forem críticos (ex: doenças, falhas)\n",
    "print(\"F1-Score:\", f1_score(y_test, y_pred)) #Use para equilibrar precisão e recall (ex: churn, classificação de risco)\n",
    "print(\"AUC:\", roc_auc_score(y_test, y_prob)) #Use para avaliar o desempenho global do modelo (quanto maior, melhor)"
   ]
  },
  {
   "cell_type": "code",
   "execution_count": 19,
   "id": "ZCNpWdxIi3SU",
   "metadata": {
    "colab": {
     "base_uri": "https://localhost:8080/",
     "height": 507
    },
    "executionInfo": {
     "elapsed": 372,
     "status": "ok",
     "timestamp": 1748393426927,
     "user": {
      "displayName": "Isla Marques",
      "userId": "10478357607822723653"
     },
     "user_tz": 180
    },
    "id": "ZCNpWdxIi3SU",
    "outputId": "c7db0a2b-df15-46fa-be3e-3c4a0e9a4c0b"
   },
   "outputs": [
    {
     "data": {
      "image/png": "[encoded data removed]",
      "text/plain": [
       "<Figure size 600x500 with 1 Axes>"
      ]
     },
     "metadata": {},
     "output_type": "display_data"
    }
   ],
   "source": [
    "# Curva ROC - Quanto mais para o canto superior esquerdo, melhor o modelo.\n",
    "fpr, tpr, thresholds = roc_curve(y_test, y_prob)\n",
    "plt.figure(figsize=(6, 5))\n",
    "plt.plot(fpr, tpr, label=f\"AUC = {roc_auc_score(y_test, y_prob):.2f}\")\n",
    "plt.plot([0, 1], [0, 1], 'k--', label=\"Random Guess\")\n",
    "plt.xlabel(\"Taxa de Falsos Positivos (FPR)\")\n",
    "plt.ylabel(\"Taxa de Verdadeiros Positivos (TPR)\")\n",
    "plt.title(\"Curva ROC\")\n",
    "plt.legend()\n",
    "plt.grid(True)\n",
    "plt.tight_layout()\n",
    "plt.show()"
   ]
  },
  {
   "cell_type": "markdown",
   "id": "1e7c12f4",
   "metadata": {
    "id": "1e7c12f4"
   },
   "source": [
    "## ✅ Conclusões\n",
    "- A regressão logística estima a **probabilidade** de um evento acontecer.\n",
    "- Pode ser aplicada em diversos contextos reais (negócios, saúde, marketing).\n",
    "- A interpretação dos coeficientes mostra **quanto cada variável influencia na chance de resposta**."
   ]
  }
 ],
 "metadata": {
  "colab": {
   "provenance": []
  },
  "kernelspec": {
   "display_name": "Python 3",
   "name": "python3"
  },
  "language_info": {
   "name": "python"
  }
 },
 "nbformat": 4,
 "nbformat_minor": 5
}
