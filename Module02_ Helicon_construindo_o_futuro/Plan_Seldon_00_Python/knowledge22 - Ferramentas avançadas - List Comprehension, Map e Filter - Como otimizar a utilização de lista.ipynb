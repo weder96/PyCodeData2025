{
 "cells": [
  {
   "cell_type": "markdown",
   "id": "6b6071ff",
   "metadata": {},
   "source": [
    "# Knowledge 22"
   ]
  },
  {
   "cell_type": "code",
   "execution_count": 3,
   "id": "40e722f8",
   "metadata": {},
   "outputs": [],
   "source": [
    "#vamos supor que você tem uma lista\n",
    "\n",
    "lista_codigos_negociacao = ['WEGE3', 'PETR4', 'PETR3', 'PCAR3', 'ALPA4']\n",
    "\n",
    "#como selecionar todos os itens da lista que são ON? \n"
   ]
  },
  {
   "cell_type": "code",
   "execution_count": 4,
   "id": "db081958",
   "metadata": {},
   "outputs": [
    {
     "name": "stdout",
     "output_type": "stream",
     "text": [
      "['WEGE3', 'PETR3', 'PCAR3']\n"
     ]
    }
   ],
   "source": [
    "nova_lista_codigos = []\n",
    "\n",
    "for ticker in lista_codigos_negociacao:\n",
    "\n",
    "    if \"3\" in ticker:\n",
    "\n",
    "        nova_lista_codigos.append(ticker)\n",
    "        \n",
    "\n",
    "print(nova_lista_codigos)"
   ]
  },
  {
   "cell_type": "code",
   "execution_count": 5,
   "id": "f8e08d08",
   "metadata": {},
   "outputs": [
    {
     "name": "stdout",
     "output_type": "stream",
     "text": [
      "['WEGE3', 'PETR3', 'PCAR3']\n"
     ]
    }
   ],
   "source": [
    "nova_lista_codigos = [ticker for ticker in lista_codigos_negociacao if \"3\" in ticker]\n",
    "\n",
    "print(nova_lista_codigos)"
   ]
  },
  {
   "cell_type": "markdown",
   "id": "560d934d",
   "metadata": {},
   "source": [
    "# Estrutura\n",
    " \n",
    "Ação -> for loop -> condição (se necessário)"
   ]
  },
  {
   "cell_type": "code",
   "execution_count": 6,
   "id": "6e9e5a23",
   "metadata": {},
   "outputs": [
    {
     "name": "stdout",
     "output_type": "stream",
     "text": [
      "['wege3', 'petr3', 'pcar3']\n",
      "['wege3', 'petr4', 'petr3', 'pcar3', 'alpa4']\n"
     ]
    }
   ],
   "source": [
    "#Como deixar todos os códigos em letra minúscula?\n",
    "\n",
    "minusculo_on = [ticker.lower() for ticker in lista_codigos_negociacao if \"3\" in ticker]\n",
    "minusculo_todos = [ticker.lower() for ticker in lista_codigos_negociacao]\n",
    "\n",
    "print(minusculo_on)\n",
    "print(minusculo_todos)\n",
    "\n",
    "#use com sabedoria sempre que você precisar de uma lista a partir de um outro objeto, \n",
    "#que pode ou não ser uma lista."
   ]
  },
  {
   "cell_type": "code",
   "execution_count": 7,
   "id": "0f12714d",
   "metadata": {},
   "outputs": [
    {
     "data": {
      "text/plain": [
       "['PETR4', 'PETR3', 'ALPA4']"
      ]
     },
     "execution_count": 7,
     "metadata": {},
     "output_type": "execute_result"
    }
   ],
   "source": [
    "#filter é uma opção pra filtrar listas\n",
    "\n",
    "lista_codigos_negociacao = ['WEGE3', 'PETR4', 'PETR3', 'PCAR3', 'ALPA4']\n",
    "\n",
    "lista_restrita = ['WEGE3', 'PCAR3']\n",
    "\n",
    "nova_lista_codigos = list(filter(lambda ticker: ticker not in lista_restrita, lista_codigos_negociacao))\n",
    "\n",
    "nova_lista_codigos"
   ]
  },
  {
   "cell_type": "code",
   "execution_count": 8,
   "id": "c9969ebd",
   "metadata": {},
   "outputs": [
    {
     "name": "stdout",
     "output_type": "stream",
     "text": [
      "['9', '8', '3', '4']\n"
     ]
    }
   ],
   "source": [
    "#comando map serve pra aplicar alguma função a todos os elementos da lista\n",
    "\n",
    "lista_numeros = [9, 8, 3, 4]\n",
    "\n",
    "#converter todos os numeros pra string\n",
    "\n",
    "lista_string_numeros = list(map(lambda x: str(x), lista_numeros))\n",
    "\n",
    "print(lista_string_numeros)"
   ]
  },
  {
   "cell_type": "code",
   "execution_count": 9,
   "id": "295cceed",
   "metadata": {},
   "outputs": [
    {
     "name": "stdout",
     "output_type": "stream",
     "text": [
      "[11, 10, 5, 6]\n"
     ]
    }
   ],
   "source": [
    "#somar dois a todos os numeros\n",
    "\n",
    "lista_somado_dois = list(map(lambda x: x + 2, lista_numeros))\n",
    "\n",
    "print(lista_somado_dois)"
   ]
  },
  {
   "cell_type": "markdown",
   "id": "d6769546",
   "metadata": {},
   "source": [
    "# Desafios\n",
    "\n",
    "* Exercício 25: Crie um programa que filtre a lista [2, 4, 5, 6, 10] apenas para números acima de 5.\n",
    "\n",
    "\n",
    "* Exercício 26: Crie um programa que converta a lista [2, 4, 5, 6, 10] para tipo float.\n",
    "\n",
    "\n",
    "* Exercício 27: Crie um programa que selecione na lista ['WEGE3', 'PETR4', 'PETR3', 'PCAR3', 'ALPA4'] todos os tickers que começam com P."
   ]
  },
  {
   "cell_type": "code",
   "execution_count": 11,
   "id": "3b5964da",
   "metadata": {},
   "outputs": [],
   "source": [
    "lista = [2, 4, 5, 6, 10]"
   ]
  },
  {
   "cell_type": "code",
   "execution_count": 12,
   "id": "442af11c",
   "metadata": {},
   "outputs": [
    {
     "name": "stdout",
     "output_type": "stream",
     "text": [
      "[6, 10]\n",
      "[2.0, 4.0, 5.0, 6.0, 10.0]\n"
     ]
    }
   ],
   "source": [
    "lista_maior_5 = list(filter(lambda x: x > 5, lista))\n",
    "\n",
    "lista_float = list(map(lambda x: float(x), lista))\n",
    "\n",
    "print(lista_maior_5)\n",
    "\n",
    "print(lista_float)"
   ]
  },
  {
   "cell_type": "code",
   "execution_count": 13,
   "id": "965de282",
   "metadata": {},
   "outputs": [
    {
     "name": "stdout",
     "output_type": "stream",
     "text": [
      "['PETR4', 'PETR3', 'PCAR3']\n"
     ]
    }
   ],
   "source": [
    "lista_codigos_negociacao = ['WEGE3', 'PETR4', 'PETR3', 'PCAR3', 'ALPA4']\n",
    "\n",
    "lista_comeca_com_p = [ticker for ticker in lista_codigos_negociacao if ticker.startswith(\"P\")]\n",
    "\n",
    "print(lista_comeca_com_p)\n"
   ]
  }
 ],
 "metadata": {
  "kernelspec": {
   "display_name": "Python 3 (ipykernel)",
   "language": "python",
   "name": "python3"
  },
  "language_info": {
   "codemirror_mode": {
    "name": "ipython",
    "version": 3
   },
   "file_extension": ".py",
   "mimetype": "text/x-python",
   "name": "python",
   "nbconvert_exporter": "python",
   "pygments_lexer": "ipython3",
   "version": "3.9.12"
  }
 },
 "nbformat": 4,
 "nbformat_minor": 5
}
