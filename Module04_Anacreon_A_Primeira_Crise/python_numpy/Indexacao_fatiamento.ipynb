{
  "nbformat": 4,
  "nbformat_minor": 0,
  "metadata": {
    "colab": {
      "provenance": []
    },
    "kernelspec": {
      "name": "python3",
      "display_name": "Python 3"
    },
    "language_info": {
      "name": "python"
    }
  },
  "cells": [
    {
      "cell_type": "markdown",
      "source": [
        "#Indexação e Fatiamento\n",
        "A indexação e o fatiamento são operações cruciais para acessar e manipular subconjuntos de dados dentro dos arrays NumPy."
      ],
      "metadata": {
        "id": "aaqbfk0iGoCj"
      }
    },
    {
      "cell_type": "markdown",
      "source": [
        "##Acessando Elementos\n",
        "Você pode acessar elementos individuais de um array usando colchetes [] e especificando o índice. Lembre-se que a indexação em Python (e NumPy) começa em 0."
      ],
      "metadata": {
        "id": "jZeysK6dGsTz"
      }
    },
    {
      "cell_type": "code",
      "execution_count": null,
      "metadata": {
        "id": "qkee6UH9GV6m"
      },
      "outputs": [],
      "source": [
        "# Array 1D\n",
        "arr_1d = np.array([10, 20, 30, 40, 50])\n",
        "print(\"Array 1D:\", arr_1d)\n",
        "\n",
        "# Acessando o primeiro elemento (índice 0)\n",
        "print(\"Primeiro elemento:\", arr_1d[0])\n",
        "\n",
        "# Acessando o terceiro elemento (índice 2)\n",
        "print(\"Terceiro elemento:\", arr_1d[2])\n",
        "\n",
        "# Acessando o último elemento (índice -1)\n",
        "print(\"Último elemento:\", arr_1d[-1])\n",
        "\n",
        "# Array 2D (Matriz)\n",
        "matrix = np.array([[1, 2, 3],\n",
        "                   [4, 5, 6],\n",
        "                   [7, 8, 9]])\n",
        "print(\"\\nMatriz:\\n\", matrix)\n",
        "\n",
        "# Acessando um elemento na matriz: [linha, coluna]\n",
        "# Acessando o elemento na primeira linha, segunda coluna (valor 2)\n",
        "print(\"Elemento [0, 1]:\", matrix[0, 1])\n",
        "\n",
        "# Acessando o elemento na segunda linha, terceira coluna (valor 6)\n",
        "print(\"Elemento [1, 2]:\", matrix[1, 2])"
      ]
    },
    {
      "cell_type": "markdown",
      "source": [
        "#Fatiamento (Slicing)\n",
        "O fatiamento permite que você extraia sub-arrays (partes) de um array existente. A sintaxe básica é [start:stop:step].\n",
        "\n",
        "start: O índice inicial (inclusive). Se omitido, assume 0.\n",
        "stop: O índice final (exclusive). Se omitido, assume o final do array.\n",
        "step: O passo (salto) entre os índices. Se omitido, assume 1."
      ],
      "metadata": {
        "id": "w6-p-6sUyZ3m"
      }
    },
    {
      "cell_type": "code",
      "source": [
        "arr = np.array([0, 1, 2, 3, 4, 5, 6, 7, 8, 9])\n",
        "print(\"Array original:\", arr)\n",
        "\n",
        "# Fatiando do índice 2 ao 5 (exclusive)\n",
        "fat1 = arr[2:6]\n",
        "print(\"Fatiamento [2:6]:\", fat1)\n",
        "\n",
        "# Fatiando do início ao índice 4 (exclusive)\n",
        "fat2 = arr[:5]\n",
        "print(\"Fatiamento [:5]:\", fat2)\n",
        "\n",
        "# Fatiando do índice 5 ao final\n",
        "fat3 = arr[5:]\n",
        "print(\"Fatiamento [5:]:\", fat3)\n",
        "\n",
        "# Fatiando com passo: do início ao fim, pulando de 2 em 2\n",
        "fat4 = arr[::2]\n",
        "print(\"Fatiamento [::2]:\", fat4)\n",
        "\n",
        "# Fatiamento em arrays 2D (Matrizes)\n",
        "matriz = np.array([[10, 20, 30, 40],\n",
        "                   [50, 60, 70, 80],\n",
        "                   [90, 100, 110, 120]])\n",
        "print(\"\\nMatriz:\\n\", matriz)\n",
        "\n",
        "# Acessando todas as linhas, mas apenas as colunas 1 e 2\n",
        "fat1 = matrix[:, 1:3]\n",
        "print(\"Fatiamento da matriz (todas as linhas, colunas 1 e 2):\\n\", fat1)\n",
        "\n",
        "# Acessando as duas primeiras linhas e todas as colunas\n",
        "fat2 = matrix[0:2, :]\n",
        "print(\"Fatiamento da matriz (duas primeiras linhas, todas as colunas):\\n\", fat2)\n",
        "\n",
        "# Acessando uma sub-matriz específica (linhas 0 e 1, colunas 0 e 1)\n",
        "fat3 = matrix[0:2, 0:2]\n",
        "print(\"Fatiamento da matriz (linhas 0 e 1, colunas 0 e 1):\\n\", fat3)"
      ],
      "metadata": {
        "id": "JvOp_4BWycjW"
      },
      "execution_count": null,
      "outputs": []
    }
  ]
}