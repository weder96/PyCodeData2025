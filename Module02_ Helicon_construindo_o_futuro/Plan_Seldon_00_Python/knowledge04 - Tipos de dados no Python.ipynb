{
 "cells": [
  {
   "cell_type": "markdown",
   "id": "c729e24a",
   "metadata": {},
   "source": [
    "# Knowledge 4\n",
    "\n",
    "Essa vai ser uma aula curta e que vai te ensinar os tipos de dados dentro do python. Além disso, nós vamos aprender a colocar textos variáveis dentro do nosso programa, para que as strings sejam melhor aproveitadas nos nossos códigos. Isso acontece principalmente quando\n",
    "precisamos colocar um texto no nosso programa que se encaixe em diferentes cenários mas tem a mesma estrutura. "
   ]
  },
  {
   "cell_type": "code",
   "execution_count": 11,
   "id": "38afb01f",
   "metadata": {},
   "outputs": [],
   "source": [
    "inteiro = int(5)\n",
    "flutuante_ou_decimal = float(1.5) #lembrando que nos EUA casa decimal é separada por ponto!\n",
    "string = str(\"codigo.py\")\n",
    "string2 = str('curso de python') #sempre entre as duplas ou simples\n",
    "boleano = bool(True)\n",
    "boleano2 = bool(False) #letra maiscula!"
   ]
  },
  {
   "cell_type": "code",
   "execution_count": 12,
   "id": "e7885711",
   "metadata": {},
   "outputs": [
    {
     "name": "stdout",
     "output_type": "stream",
     "text": [
      "<class 'int'>\n",
      "5\n"
     ]
    }
   ],
   "source": [
    "#como verificar o tipo de um objeto?\n",
    "\n",
    "print(type(inteiro))\n",
    "print(inteiro)"
   ]
  },
  {
   "cell_type": "code",
   "execution_count": 14,
   "id": "69867a0c",
   "metadata": {},
   "outputs": [
    {
     "name": "stdout",
     "output_type": "stream",
     "text": [
      "<class 'str'>\n",
      "5\n",
      "True\n"
     ]
    }
   ],
   "source": [
    "#como converter um tipo para o outro?\n",
    "\n",
    "inteiro = str(inteiro)\n",
    "print(type(inteiro))\n",
    "print(inteiro)\n",
    "\n",
    "print(inteiro == '5') #vai dar false porque agora 5 é uma string."
   ]
  },
  {
   "cell_type": "code",
   "execution_count": 17,
   "id": "2a9d4eee",
   "metadata": {},
   "outputs": [
    {
     "name": "stdout",
     "output_type": "stream",
     "text": [
      "A melhor empresa do Brasil é a Petrobras, Petrobras\n"
     ]
    }
   ],
   "source": [
    "#como criar strings variáveis?\n",
    "\n",
    "string_normal = \"A melhor empresa do Brasil é a Weg\"\n",
    "\n",
    "empresa = \"Petrobras\" #podemos colocar um input de usuário aqui\n",
    "\n",
    "string_variavel = f\"A melhor empresa do Brasil é a {empresa}, {empresa}\"\n",
    "\n",
    "print(string_variavel)"
   ]
  },
  {
   "cell_type": "markdown",
   "id": "16b2eb3f",
   "metadata": {},
   "source": [
    "# Desafios\n",
    "\n",
    "* Exercício 3: Crie um objeto de cada tipo no python. Depois, verifique o tipo de cada um deles com o comando type e converta o objeto inteiro para string.\n",
    "* Exercício 4: Crie uma string variável que receba um nome de uma pessoa e devolva uma frase dizendo que essa pessoa é a mais rica do mundo."
   ]
  },
  {
   "cell_type": "code",
   "execution_count": 18,
   "id": "96c43223",
   "metadata": {},
   "outputs": [
    {
     "name": "stdout",
     "output_type": "stream",
     "text": [
      "<class 'int'> <class 'bool'> <class 'str'> <class 'float'>\n",
      "3\n"
     ]
    }
   ],
   "source": [
    "numero = 3\n",
    "numero_decimal = 3.14\n",
    "string = \"Brenno\"\n",
    "bolean = True\n",
    "\n",
    "print(type(numero), type(bolean), type(string), type(numero_decimal))\n",
    "\n",
    "numero = str(numero)\n",
    "print(numero)"
   ]
  },
  {
   "cell_type": "code",
   "execution_count": 21,
   "id": "4d1eec07",
   "metadata": {},
   "outputs": [
    {
     "name": "stdout",
     "output_type": "stream",
     "text": [
      "Escolha um nomebrenno\n",
      "brenno é a pessoa mais rica do mundo!\n"
     ]
    }
   ],
   "source": [
    "nome = input(\"Escolha um nome\")\n",
    "\n",
    "string_pessoa_rica  = f'{nome} é a pessoa mais rica do mundo!'\n",
    "\n",
    "print(string_pessoa_rica)"
   ]
  }
 ],
 "metadata": {
  "kernelspec": {
   "display_name": "Python 3 (ipykernel)",
   "language": "python",
   "name": "python3"
  },
  "language_info": {
   "codemirror_mode": {
    "name": "ipython",
    "version": 3
   },
   "file_extension": ".py",
   "mimetype": "text/x-python",
   "name": "python",
   "nbconvert_exporter": "python",
   "pygments_lexer": "ipython3",
   "version": "3.9.12"
  }
 },
 "nbformat": 4,
 "nbformat_minor": 5
}
