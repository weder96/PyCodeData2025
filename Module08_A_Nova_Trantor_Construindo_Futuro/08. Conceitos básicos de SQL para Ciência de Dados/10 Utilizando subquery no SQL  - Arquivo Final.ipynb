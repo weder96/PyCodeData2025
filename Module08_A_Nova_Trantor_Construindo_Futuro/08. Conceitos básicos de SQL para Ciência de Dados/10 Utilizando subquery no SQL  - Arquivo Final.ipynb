{
 "cells": [
  {
   "cell_type": "markdown",
   "metadata": {},
   "source": [
    "### Utilizando subquery no SQL"
   ]
  },
  {
   "cell_type": "code",
   "execution_count": 1,
   "metadata": {},
   "outputs": [],
   "source": [
    "# Importando o pandas\n",
    "import pandas as pd"
   ]
  },
  {
   "cell_type": "code",
   "execution_count": 2,
   "metadata": {},
   "outputs": [],
   "source": [
    "# Criando a conexão\n",
    "import sqlite3\n",
    "con = sqlite3.connect('BaseDados.db')"
   ]
  },
  {
   "cell_type": "code",
   "execution_count": 3,
   "metadata": {},
   "outputs": [],
   "source": [
    "# Criando um cursor\n",
    "cur = con.cursor()"
   ]
  },
  {
   "cell_type": "code",
   "execution_count": 4,
   "metadata": {},
   "outputs": [],
   "source": [
    "# Criando uma função para consultar os dados\n",
    "def executa_sql(comando):\n",
    "    cur.execute(comando)\n",
    "    resultado = cur.fetchall()\n",
    "    resultado = pd.DataFrame(resultado)\n",
    "    if resultado.shape[1] > 0:\n",
    "        resultado.columns = [i[0] for i in cur.description]\n",
    "    print(resultado.shape)\n",
    "    display(resultado.head())\n",
    "    return resultado"
   ]
  },
  {
   "cell_type": "code",
   "execution_count": 6,
   "metadata": {},
   "outputs": [
    {
     "name": "stdout",
     "output_type": "stream",
     "text": [
      "(15, 5)\n"
     ]
    },
    {
     "data": {
      "text/html": [
       "<div>\n",
       "<style scoped>\n",
       "    .dataframe tbody tr th:only-of-type {\n",
       "        vertical-align: middle;\n",
       "    }\n",
       "\n",
       "    .dataframe tbody tr th {\n",
       "        vertical-align: top;\n",
       "    }\n",
       "\n",
       "    .dataframe thead th {\n",
       "        text-align: right;\n",
       "    }\n",
       "</style>\n",
       "<table border=\"1\" class=\"dataframe\">\n",
       "  <thead>\n",
       "    <tr style=\"text-align: right;\">\n",
       "      <th></th>\n",
       "      <th>nome_aluno</th>\n",
       "      <th>cod_matricula</th>\n",
       "      <th>media_prova</th>\n",
       "      <th>qtd_provas</th>\n",
       "      <th>situacao_aluno</th>\n",
       "    </tr>\n",
       "  </thead>\n",
       "  <tbody>\n",
       "    <tr>\n",
       "      <th>0</th>\n",
       "      <td>Bárbara da Cunha</td>\n",
       "      <td>63546</td>\n",
       "      <td>10.0</td>\n",
       "      <td>1</td>\n",
       "      <td>Aprovado</td>\n",
       "    </tr>\n",
       "    <tr>\n",
       "      <th>1</th>\n",
       "      <td>Bárbara Freitas</td>\n",
       "      <td>19442</td>\n",
       "      <td>8.0</td>\n",
       "      <td>2</td>\n",
       "      <td>Aprovado</td>\n",
       "    </tr>\n",
       "    <tr>\n",
       "      <th>2</th>\n",
       "      <td>Gabriela Costela</td>\n",
       "      <td>21262</td>\n",
       "      <td>8.0</td>\n",
       "      <td>1</td>\n",
       "      <td>Aprovado</td>\n",
       "    </tr>\n",
       "    <tr>\n",
       "      <th>3</th>\n",
       "      <td>Júlia Pinto</td>\n",
       "      <td>47086</td>\n",
       "      <td>8.0</td>\n",
       "      <td>2</td>\n",
       "      <td>Aprovado</td>\n",
       "    </tr>\n",
       "    <tr>\n",
       "      <th>4</th>\n",
       "      <td>Lívia Jesus</td>\n",
       "      <td>22284</td>\n",
       "      <td>8.0</td>\n",
       "      <td>1</td>\n",
       "      <td>Aprovado</td>\n",
       "    </tr>\n",
       "  </tbody>\n",
       "</table>\n",
       "</div>"
      ],
      "text/plain": [
       "         nome_aluno  cod_matricula  media_prova  qtd_provas situacao_aluno\n",
       "0  Bárbara da Cunha          63546         10.0           1       Aprovado\n",
       "1   Bárbara Freitas          19442          8.0           2       Aprovado\n",
       "2  Gabriela Costela          21262          8.0           1       Aprovado\n",
       "3       Júlia Pinto          47086          8.0           2       Aprovado\n",
       "4       Lívia Jesus          22284          8.0           1       Aprovado"
      ]
     },
     "metadata": {},
     "output_type": "display_data"
    }
   ],
   "source": [
    "# Utilizando parte do CASE que vimos na última aula\n",
    "resultado_sql = executa_sql('SELECT nome_aluno, cod_matricula, \\\n",
    "                            AVG(nota_prova) as media_prova, \\\n",
    "                            count(nota_prova) as qtd_provas, \\\n",
    "                            (CASE \\\n",
    "                                WHEN AVG(nota_prova) > 7 THEN \"Aprovado\" \\\n",
    "                                WHEN AVG(nota_prova) > 5 AND count(nota_prova) = 1 THEN \"Fazer prova 2\" \\\n",
    "                            END) as situacao_aluno \\\n",
    "                            FROM dados \\\n",
    "                            WHERE nota_prova IS NOT NULL \\\n",
    "                            GROUP BY nome_aluno,cod_matricula \\\n",
    "                            ORDER BY AVG(nota_prova) desc')"
   ]
  },
  {
   "cell_type": "markdown",
   "metadata": {},
   "source": [
    "### SUBQUERY\n",
    "- No SQL conseguimos fazer uma \"query dentro da query\", o que chamamos de subquery\n",
    "- Isso será muito útil quando falarmos de junção entre várias tabelas e quando utilizamos cálculos, como no caso do CASE da última aula"
   ]
  },
  {
   "cell_type": "code",
   "execution_count": 18,
   "metadata": {},
   "outputs": [
    {
     "name": "stdout",
     "output_type": "stream",
     "text": [
      "(15, 5)\n"
     ]
    },
    {
     "data": {
      "text/html": [
       "<div>\n",
       "<style scoped>\n",
       "    .dataframe tbody tr th:only-of-type {\n",
       "        vertical-align: middle;\n",
       "    }\n",
       "\n",
       "    .dataframe tbody tr th {\n",
       "        vertical-align: top;\n",
       "    }\n",
       "\n",
       "    .dataframe thead th {\n",
       "        text-align: right;\n",
       "    }\n",
       "</style>\n",
       "<table border=\"1\" class=\"dataframe\">\n",
       "  <thead>\n",
       "    <tr style=\"text-align: right;\">\n",
       "      <th></th>\n",
       "      <th>nome_aluno</th>\n",
       "      <th>cod_matricula</th>\n",
       "      <th>media_prova</th>\n",
       "      <th>qtd_provas</th>\n",
       "      <th>situacao_aluno</th>\n",
       "    </tr>\n",
       "  </thead>\n",
       "  <tbody>\n",
       "    <tr>\n",
       "      <th>0</th>\n",
       "      <td>Bárbara da Cunha</td>\n",
       "      <td>63546</td>\n",
       "      <td>10.0</td>\n",
       "      <td>1</td>\n",
       "      <td>Aprovado</td>\n",
       "    </tr>\n",
       "    <tr>\n",
       "      <th>1</th>\n",
       "      <td>Bárbara Freitas</td>\n",
       "      <td>19442</td>\n",
       "      <td>8.0</td>\n",
       "      <td>2</td>\n",
       "      <td>Aprovado</td>\n",
       "    </tr>\n",
       "    <tr>\n",
       "      <th>2</th>\n",
       "      <td>Gabriela Costela</td>\n",
       "      <td>21262</td>\n",
       "      <td>8.0</td>\n",
       "      <td>1</td>\n",
       "      <td>Aprovado</td>\n",
       "    </tr>\n",
       "    <tr>\n",
       "      <th>3</th>\n",
       "      <td>Júlia Pinto</td>\n",
       "      <td>47086</td>\n",
       "      <td>8.0</td>\n",
       "      <td>2</td>\n",
       "      <td>Aprovado</td>\n",
       "    </tr>\n",
       "    <tr>\n",
       "      <th>4</th>\n",
       "      <td>Lívia Jesus</td>\n",
       "      <td>22284</td>\n",
       "      <td>8.0</td>\n",
       "      <td>1</td>\n",
       "      <td>Aprovado</td>\n",
       "    </tr>\n",
       "  </tbody>\n",
       "</table>\n",
       "</div>"
      ],
      "text/plain": [
       "         nome_aluno  cod_matricula  media_prova  qtd_provas situacao_aluno\n",
       "0  Bárbara da Cunha          63546         10.0           1       Aprovado\n",
       "1   Bárbara Freitas          19442          8.0           2       Aprovado\n",
       "2  Gabriela Costela          21262          8.0           1       Aprovado\n",
       "3       Júlia Pinto          47086          8.0           2       Aprovado\n",
       "4       Lívia Jesus          22284          8.0           1       Aprovado"
      ]
     },
     "metadata": {},
     "output_type": "display_data"
    }
   ],
   "source": [
    "# Transformando a query sem o CASE em uma subquery\n",
    "resultado_sql = executa_sql('SELECT nome_aluno, cod_matricula, media_prova, qtd_provas, \\\n",
    "                            (CASE \\\n",
    "                                WHEN media_prova > 7 THEN \"Aprovado\" \\\n",
    "                                WHEN media_prova > 5 AND qtd_provas = 1 THEN \"Fazer prova 2\" \\\n",
    "                             END) as situacao_aluno \\\n",
    "                            FROM (SELECT nome_aluno, cod_matricula, \\\n",
    "                            AVG(nota_prova) as media_prova, \\\n",
    "                            count(nota_prova) as qtd_provas \\\n",
    "                            FROM dados \\\n",
    "                            WHERE nota_prova IS NOT NULL \\\n",
    "                            GROUP BY nome_aluno,cod_matricula \\\n",
    "                            ORDER BY AVG(nota_prova) desc)')"
   ]
  },
  {
   "cell_type": "code",
   "execution_count": 20,
   "metadata": {},
   "outputs": [
    {
     "name": "stdout",
     "output_type": "stream",
     "text": [
      "(15, 5)\n"
     ]
    },
    {
     "data": {
      "text/html": [
       "<div>\n",
       "<style scoped>\n",
       "    .dataframe tbody tr th:only-of-type {\n",
       "        vertical-align: middle;\n",
       "    }\n",
       "\n",
       "    .dataframe tbody tr th {\n",
       "        vertical-align: top;\n",
       "    }\n",
       "\n",
       "    .dataframe thead th {\n",
       "        text-align: right;\n",
       "    }\n",
       "</style>\n",
       "<table border=\"1\" class=\"dataframe\">\n",
       "  <thead>\n",
       "    <tr style=\"text-align: right;\">\n",
       "      <th></th>\n",
       "      <th>nome_aluno</th>\n",
       "      <th>cod_matricula</th>\n",
       "      <th>media_prova</th>\n",
       "      <th>qtd_provas</th>\n",
       "      <th>situacao_aluno</th>\n",
       "    </tr>\n",
       "  </thead>\n",
       "  <tbody>\n",
       "    <tr>\n",
       "      <th>0</th>\n",
       "      <td>Bárbara da Cunha</td>\n",
       "      <td>63546</td>\n",
       "      <td>10.5</td>\n",
       "      <td>1</td>\n",
       "      <td>Aprovado</td>\n",
       "    </tr>\n",
       "    <tr>\n",
       "      <th>1</th>\n",
       "      <td>Bárbara Freitas</td>\n",
       "      <td>19442</td>\n",
       "      <td>8.5</td>\n",
       "      <td>2</td>\n",
       "      <td>Aprovado</td>\n",
       "    </tr>\n",
       "    <tr>\n",
       "      <th>2</th>\n",
       "      <td>Gabriela Costela</td>\n",
       "      <td>21262</td>\n",
       "      <td>8.5</td>\n",
       "      <td>1</td>\n",
       "      <td>Aprovado</td>\n",
       "    </tr>\n",
       "    <tr>\n",
       "      <th>3</th>\n",
       "      <td>Júlia Pinto</td>\n",
       "      <td>47086</td>\n",
       "      <td>8.5</td>\n",
       "      <td>2</td>\n",
       "      <td>Aprovado</td>\n",
       "    </tr>\n",
       "    <tr>\n",
       "      <th>4</th>\n",
       "      <td>Lívia Jesus</td>\n",
       "      <td>22284</td>\n",
       "      <td>8.5</td>\n",
       "      <td>1</td>\n",
       "      <td>Aprovado</td>\n",
       "    </tr>\n",
       "  </tbody>\n",
       "</table>\n",
       "</div>"
      ],
      "text/plain": [
       "         nome_aluno  cod_matricula  media_prova  qtd_provas situacao_aluno\n",
       "0  Bárbara da Cunha          63546         10.5           1       Aprovado\n",
       "1   Bárbara Freitas          19442          8.5           2       Aprovado\n",
       "2  Gabriela Costela          21262          8.5           1       Aprovado\n",
       "3       Júlia Pinto          47086          8.5           2       Aprovado\n",
       "4       Lívia Jesus          22284          8.5           1       Aprovado"
      ]
     },
     "metadata": {},
     "output_type": "display_data"
    }
   ],
   "source": [
    "# Utilizando a subquery para fazer o CASE\n",
    "resultado_sql = executa_sql('SELECT nome_aluno, cod_matricula, media_prova, qtd_provas, \\\n",
    "                            (CASE \\\n",
    "                                WHEN media_prova > 7 THEN \"Aprovado\" \\\n",
    "                                WHEN media_prova > 5 AND qtd_provas = 1 THEN \"Fazer prova 2\" \\\n",
    "                                WHEN media_prova > 5 AND qtd_provas = 2 THEN \"Fazer prova final\" \\\n",
    "                             END) as situacao_aluno \\\n",
    "                            FROM (SELECT nome_aluno, cod_matricula, \\\n",
    "                            (AVG(nota_prova)+0.5) as media_prova, \\\n",
    "                            count(nota_prova) as qtd_provas \\\n",
    "                            FROM dados \\\n",
    "                            WHERE nota_prova IS NOT NULL \\\n",
    "                            GROUP BY nome_aluno,cod_matricula \\\n",
    "                            ORDER BY AVG(nota_prova) desc)')"
   ]
  }
 ],
 "metadata": {
  "kernelspec": {
   "display_name": "Python 3",
   "language": "python",
   "name": "python3"
  },
  "language_info": {
   "codemirror_mode": {
    "name": "ipython",
    "version": 3
   },
   "file_extension": ".py",
   "mimetype": "text/x-python",
   "name": "python",
   "nbconvert_exporter": "python",
   "pygments_lexer": "ipython3",
   "version": "3.8.5"
  }
 },
 "nbformat": 4,
 "nbformat_minor": 4
}
