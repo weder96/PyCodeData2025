{
 "cells": [
  {
   "cell_type": "markdown",
   "id": "e4bded77",
   "metadata": {},
   "source": [
    "# Volume IV\n",
    "### Introdução ao Pandas"
   ]
  },
  {
   "cell_type": "code",
   "execution_count": null,
   "id": "0d0bf646",
   "metadata": {},
   "outputs": [],
   "source": [
    "import pandas as pd"
   ]
  },
  {
   "cell_type": "code",
   "execution_count": null,
   "id": "2c164d8e",
   "metadata": {},
   "outputs": [],
   "source": [
    "df_cambio = pd.DataFrame({\n",
    "    \"moeda\": ['dolar/real', 'libra/real'] * 2,\n",
    "    \"price\": [5.24, 4.15, 5.26, 4.23],\n",
    "    \"data\": sorted(list(pd.date_range(\"1/5/2014\", periods = 2)) * 2)\n",
    "})\n",
    "\n",
    "df_cambio"
   ]
  },
  {
   "cell_type": "code",
   "execution_count": null,
   "id": "971a0635",
   "metadata": {},
   "outputs": [],
   "source": [
    "#Como trocar o nome das colunas \n",
    "\n",
    "df_cambio.columns\n",
    "\n",
    "df_cambio.columns = ['moeda', 'cotacao', 'data']\n",
    "\n",
    "df_cambio"
   ]
  },
  {
   "cell_type": "code",
   "execution_count": null,
   "id": "12d1fde5",
   "metadata": {},
   "outputs": [],
   "source": [
    "#como selecionar colunas \n",
    "\n",
    "cotacao = df_cambio['cotacao'] #te devolve uma serie\n",
    "\n",
    "cotacao\n",
    "df_cambio.cotacao #pode selecionar colunas assim tambem"
   ]
  },
  {
   "cell_type": "code",
   "execution_count": null,
   "id": "89c7beed",
   "metadata": {},
   "outputs": [],
   "source": [
    "#2 colunas\n",
    "cotacao_e_data = df_cambio[['cotacao', 'data']] #lista dentro da lista\n",
    "\n",
    "print(cotacao_e_data)\n",
    "\n",
    "#vantagem da data como indice\n",
    "\n",
    "df_cambio = df_cambio.set_index(\"data\")\n",
    "\n",
    "cotacao = df_cambio['cotacao'] \n",
    "\n",
    "cotacao"
   ]
  },
  {
   "cell_type": "code",
   "execution_count": null,
   "id": "51b77fa9",
   "metadata": {},
   "outputs": [],
   "source": [
    "#selecionando colunas por condições\n",
    "\n",
    "cambio_menor_que_5 = df_cambio[df_cambio['cotacao'] < 5]\n",
    "\n",
    "print(cambio_menor_que_5)\n",
    "\n",
    "#selecionando o cambio\n",
    "\n",
    "cambio_dolar = df_cambio[df_cambio['moeda'] == 'dolar/real']\n",
    "\n",
    "cambio_dolar"
   ]
  },
  {
   "cell_type": "code",
   "execution_count": null,
   "id": "69a4dd8d",
   "metadata": {},
   "outputs": [],
   "source": [
    "#selecionando duas condições ao mesmo tempo (operadores & e |)\n",
    "\n",
    "#dolar e maior que 5.25\n",
    "cambio_dolar_e_maior_que_525 = df_cambio[(df_cambio['moeda'] == 'dolar/real') &\n",
    "                                                      (df_cambio['cotacao'] > 5.25)]\n",
    "\n",
    "print(cambio_dolar_e_maior_que_525)\n",
    "\n",
    "#libra ou maior que 5.25\n",
    "cambio_libra_ou_maior_que_525 = df_cambio[(df_cambio['moeda'] == 'libra/real') |\n",
    "                                                      (df_cambio['cotacao'] > 5.25)]\n",
    "\n",
    "print(cambio_libra_ou_maior_que_525)\n",
    "\n",
    "\n",
    "#podemos filtrar o indice também\n",
    "\n",
    "#libra no dia 5 de janeiro de 2014\n",
    "\n",
    "libra_5_jan = df_cambio[(df_cambio['moeda'] == 'libra/real') &\n",
    "                        (df_cambio.index == \"2014-01-05\")]\n",
    "\n",
    "libra_5_jan"
   ]
  },
  {
   "cell_type": "markdown",
   "id": "fc111e61",
   "metadata": {},
   "source": [
    "# Exercícios\n",
    "\n",
    "* Exercício 40: Mude o nome da coluna do dataframe do exercício 39 de \"cotacoes\" para \"precos\".\n",
    "* Exercício 41: Selecione a coluna de preços do dataframe estudado.\n",
    "* Exercício 42: Selecione as duas últimas colunas do dataframe estudado.\n",
    "* Exercício 43: Selecione as informações da Petrobras no dataframe estudado.\n",
    "* Exercício 44: Selecione apenas empresas com P/L menor que 20.\n",
    "* Exercício 45: Selecione empresas com P/L maior que 10 e volume maior que 2000.\n",
    "* Exercício 46: Selecione empresas que a cotação seja maior que 20 ou o volume é maior que 4000."
   ]
  },
  {
   "cell_type": "code",
   "execution_count": null,
   "id": "a5eca4eb",
   "metadata": {},
   "outputs": [],
   "source": []
  },
  {
   "cell_type": "code",
   "execution_count": null,
   "id": "a06146e6",
   "metadata": {},
   "outputs": [],
   "source": []
  },
  {
   "cell_type": "code",
   "execution_count": null,
   "id": "8d34314f",
   "metadata": {},
   "outputs": [],
   "source": []
  },
  {
   "cell_type": "code",
   "execution_count": null,
   "id": "fb997c09",
   "metadata": {},
   "outputs": [],
   "source": []
  },
  {
   "cell_type": "code",
   "execution_count": null,
   "id": "a171bd17",
   "metadata": {},
   "outputs": [],
   "source": []
  },
  {
   "cell_type": "code",
   "execution_count": null,
   "id": "4c7e0335",
   "metadata": {},
   "outputs": [],
   "source": []
  },
  {
   "cell_type": "code",
   "execution_count": null,
   "id": "83b7f129",
   "metadata": {},
   "outputs": [],
   "source": []
  },
  {
   "cell_type": "code",
   "execution_count": 13,
   "id": "409f9ecb",
   "metadata": {},
   "outputs": [
    {
     "data": {
      "text/html": [
       "<div>\n",
       "<style scoped>\n",
       "    .dataframe tbody tr th:only-of-type {\n",
       "        vertical-align: middle;\n",
       "    }\n",
       "\n",
       "    .dataframe tbody tr th {\n",
       "        vertical-align: top;\n",
       "    }\n",
       "\n",
       "    .dataframe thead th {\n",
       "        text-align: right;\n",
       "    }\n",
       "</style>\n",
       "<table border=\"1\" class=\"dataframe\">\n",
       "  <thead>\n",
       "    <tr style=\"text-align: right;\">\n",
       "      <th></th>\n",
       "      <th>nomes</th>\n",
       "      <th>precos</th>\n",
       "      <th>preco_sobre_lucro</th>\n",
       "      <th>volume</th>\n",
       "    </tr>\n",
       "    <tr>\n",
       "      <th>tickers</th>\n",
       "      <th></th>\n",
       "      <th></th>\n",
       "      <th></th>\n",
       "      <th></th>\n",
       "    </tr>\n",
       "  </thead>\n",
       "  <tbody>\n",
       "    <tr>\n",
       "      <th>WEGE3</th>\n",
       "      <td>Weg</td>\n",
       "      <td>20</td>\n",
       "      <td>25</td>\n",
       "      <td>5000</td>\n",
       "    </tr>\n",
       "    <tr>\n",
       "      <th>PETR3</th>\n",
       "      <td>Petrobras</td>\n",
       "      <td>30</td>\n",
       "      <td>6</td>\n",
       "      <td>1000</td>\n",
       "    </tr>\n",
       "    <tr>\n",
       "      <th>VALE3</th>\n",
       "      <td>Vale</td>\n",
       "      <td>40</td>\n",
       "      <td>12</td>\n",
       "      <td>4000</td>\n",
       "    </tr>\n",
       "    <tr>\n",
       "      <th>PETR4</th>\n",
       "      <td>Petrobras</td>\n",
       "      <td>12</td>\n",
       "      <td>7</td>\n",
       "      <td>7000</td>\n",
       "    </tr>\n",
       "    <tr>\n",
       "      <th>LREN3</th>\n",
       "      <td>Lojas Renner</td>\n",
       "      <td>35</td>\n",
       "      <td>25</td>\n",
       "      <td>1200</td>\n",
       "    </tr>\n",
       "  </tbody>\n",
       "</table>\n",
       "</div>"
      ],
      "text/plain": [
       "                nomes  precos  preco_sobre_lucro  volume\n",
       "tickers                                                 \n",
       "WEGE3             Weg      20                 25    5000\n",
       "PETR3       Petrobras      30                  6    1000\n",
       "VALE3            Vale      40                 12    4000\n",
       "PETR4       Petrobras      12                  7    7000\n",
       "LREN3    Lojas Renner      35                 25    1200"
      ]
     },
     "execution_count": 13,
     "metadata": {},
     "output_type": "execute_result"
    }
   ],
   "source": [
    "#gabarito 40\n",
    "\n",
    "dicionario = {\n",
    "       \"nomes\": [\"Weg\", \"Petrobras\", \"Vale\", \"Petrobras\", \"Lojas Renner\"],\n",
    "       \"tickers\": [\"WEGE3\", \"PETR3\", \"VALE3\", \"PETR4\", \"LREN3\"],  \n",
    "       \"cotacoes\": [20, 30, 40, 12, 35],\n",
    "       \"preco_sobre_lucro\": [25, 6, 12, 7, 25],  \n",
    "       \"volume\": [5000, 1000, 4000, 7000, 1200]\n",
    "}\n",
    "\n",
    "df_info_empresas = pd.DataFrame(dicionario)\n",
    "\n",
    "df_info_empresas = df_info_empresas.set_index(\"tickers\")\n",
    "\n",
    "df_info_empresas.columns = ['nomes', 'precos', 'preco_sobre_lucro', 'volume']\n",
    "\n",
    "df_info_empresas"
   ]
  },
  {
   "cell_type": "code",
   "execution_count": 14,
   "id": "91edae30",
   "metadata": {},
   "outputs": [
    {
     "data": {
      "text/plain": [
       "tickers\n",
       "WEGE3    20\n",
       "PETR3    30\n",
       "VALE3    40\n",
       "PETR4    12\n",
       "LREN3    35\n",
       "Name: precos, dtype: int64"
      ]
     },
     "execution_count": 14,
     "metadata": {},
     "output_type": "execute_result"
    }
   ],
   "source": [
    "#gabarito 41\n",
    "\n",
    "precinho = df_info_empresas['precos']\n",
    "precinho"
   ]
  },
  {
   "cell_type": "code",
   "execution_count": 15,
   "id": "c7ba6d0e",
   "metadata": {},
   "outputs": [
    {
     "data": {
      "text/html": [
       "<div>\n",
       "<style scoped>\n",
       "    .dataframe tbody tr th:only-of-type {\n",
       "        vertical-align: middle;\n",
       "    }\n",
       "\n",
       "    .dataframe tbody tr th {\n",
       "        vertical-align: top;\n",
       "    }\n",
       "\n",
       "    .dataframe thead th {\n",
       "        text-align: right;\n",
       "    }\n",
       "</style>\n",
       "<table border=\"1\" class=\"dataframe\">\n",
       "  <thead>\n",
       "    <tr style=\"text-align: right;\">\n",
       "      <th></th>\n",
       "      <th>preco_sobre_lucro</th>\n",
       "      <th>volume</th>\n",
       "    </tr>\n",
       "    <tr>\n",
       "      <th>tickers</th>\n",
       "      <th></th>\n",
       "      <th></th>\n",
       "    </tr>\n",
       "  </thead>\n",
       "  <tbody>\n",
       "    <tr>\n",
       "      <th>WEGE3</th>\n",
       "      <td>25</td>\n",
       "      <td>5000</td>\n",
       "    </tr>\n",
       "    <tr>\n",
       "      <th>PETR3</th>\n",
       "      <td>6</td>\n",
       "      <td>1000</td>\n",
       "    </tr>\n",
       "    <tr>\n",
       "      <th>VALE3</th>\n",
       "      <td>12</td>\n",
       "      <td>4000</td>\n",
       "    </tr>\n",
       "    <tr>\n",
       "      <th>PETR4</th>\n",
       "      <td>7</td>\n",
       "      <td>7000</td>\n",
       "    </tr>\n",
       "    <tr>\n",
       "      <th>LREN3</th>\n",
       "      <td>25</td>\n",
       "      <td>1200</td>\n",
       "    </tr>\n",
       "  </tbody>\n",
       "</table>\n",
       "</div>"
      ],
      "text/plain": [
       "         preco_sobre_lucro  volume\n",
       "tickers                           \n",
       "WEGE3                   25    5000\n",
       "PETR3                    6    1000\n",
       "VALE3                   12    4000\n",
       "PETR4                    7    7000\n",
       "LREN3                   25    1200"
      ]
     },
     "execution_count": 15,
     "metadata": {},
     "output_type": "execute_result"
    }
   ],
   "source": [
    "#gabarito 42\n",
    "\n",
    "pl_e_volume = df_info_empresas[['preco_sobre_lucro', 'volume']]\n",
    "pl_e_volume"
   ]
  },
  {
   "cell_type": "code",
   "execution_count": 16,
   "id": "ef1a5926",
   "metadata": {},
   "outputs": [
    {
     "data": {
      "text/html": [
       "<div>\n",
       "<style scoped>\n",
       "    .dataframe tbody tr th:only-of-type {\n",
       "        vertical-align: middle;\n",
       "    }\n",
       "\n",
       "    .dataframe tbody tr th {\n",
       "        vertical-align: top;\n",
       "    }\n",
       "\n",
       "    .dataframe thead th {\n",
       "        text-align: right;\n",
       "    }\n",
       "</style>\n",
       "<table border=\"1\" class=\"dataframe\">\n",
       "  <thead>\n",
       "    <tr style=\"text-align: right;\">\n",
       "      <th></th>\n",
       "      <th>nomes</th>\n",
       "      <th>precos</th>\n",
       "      <th>preco_sobre_lucro</th>\n",
       "      <th>volume</th>\n",
       "    </tr>\n",
       "    <tr>\n",
       "      <th>tickers</th>\n",
       "      <th></th>\n",
       "      <th></th>\n",
       "      <th></th>\n",
       "      <th></th>\n",
       "    </tr>\n",
       "  </thead>\n",
       "  <tbody>\n",
       "    <tr>\n",
       "      <th>PETR3</th>\n",
       "      <td>Petrobras</td>\n",
       "      <td>30</td>\n",
       "      <td>6</td>\n",
       "      <td>1000</td>\n",
       "    </tr>\n",
       "    <tr>\n",
       "      <th>PETR4</th>\n",
       "      <td>Petrobras</td>\n",
       "      <td>12</td>\n",
       "      <td>7</td>\n",
       "      <td>7000</td>\n",
       "    </tr>\n",
       "  </tbody>\n",
       "</table>\n",
       "</div>"
      ],
      "text/plain": [
       "             nomes  precos  preco_sobre_lucro  volume\n",
       "tickers                                              \n",
       "PETR3    Petrobras      30                  6    1000\n",
       "PETR4    Petrobras      12                  7    7000"
      ]
     },
     "execution_count": 16,
     "metadata": {},
     "output_type": "execute_result"
    }
   ],
   "source": [
    "#gabarito 43\n",
    "\n",
    "petrobras = df_info_empresas[df_info_empresas['nomes'] == \"Petrobras\"]\n",
    "petrobras"
   ]
  },
  {
   "cell_type": "code",
   "execution_count": 17,
   "id": "a05bbc66",
   "metadata": {},
   "outputs": [
    {
     "data": {
      "text/html": [
       "<div>\n",
       "<style scoped>\n",
       "    .dataframe tbody tr th:only-of-type {\n",
       "        vertical-align: middle;\n",
       "    }\n",
       "\n",
       "    .dataframe tbody tr th {\n",
       "        vertical-align: top;\n",
       "    }\n",
       "\n",
       "    .dataframe thead th {\n",
       "        text-align: right;\n",
       "    }\n",
       "</style>\n",
       "<table border=\"1\" class=\"dataframe\">\n",
       "  <thead>\n",
       "    <tr style=\"text-align: right;\">\n",
       "      <th></th>\n",
       "      <th>nomes</th>\n",
       "      <th>precos</th>\n",
       "      <th>preco_sobre_lucro</th>\n",
       "      <th>volume</th>\n",
       "    </tr>\n",
       "    <tr>\n",
       "      <th>tickers</th>\n",
       "      <th></th>\n",
       "      <th></th>\n",
       "      <th></th>\n",
       "      <th></th>\n",
       "    </tr>\n",
       "  </thead>\n",
       "  <tbody>\n",
       "    <tr>\n",
       "      <th>PETR3</th>\n",
       "      <td>Petrobras</td>\n",
       "      <td>30</td>\n",
       "      <td>6</td>\n",
       "      <td>1000</td>\n",
       "    </tr>\n",
       "    <tr>\n",
       "      <th>VALE3</th>\n",
       "      <td>Vale</td>\n",
       "      <td>40</td>\n",
       "      <td>12</td>\n",
       "      <td>4000</td>\n",
       "    </tr>\n",
       "    <tr>\n",
       "      <th>PETR4</th>\n",
       "      <td>Petrobras</td>\n",
       "      <td>12</td>\n",
       "      <td>7</td>\n",
       "      <td>7000</td>\n",
       "    </tr>\n",
       "  </tbody>\n",
       "</table>\n",
       "</div>"
      ],
      "text/plain": [
       "             nomes  precos  preco_sobre_lucro  volume\n",
       "tickers                                              \n",
       "PETR3    Petrobras      30                  6    1000\n",
       "VALE3         Vale      40                 12    4000\n",
       "PETR4    Petrobras      12                  7    7000"
      ]
     },
     "execution_count": 17,
     "metadata": {},
     "output_type": "execute_result"
    }
   ],
   "source": [
    "#gabarito 44\n",
    "\n",
    "pl_menor_20 = df_info_empresas[df_info_empresas['preco_sobre_lucro'] < 20]\n",
    "pl_menor_20"
   ]
  },
  {
   "cell_type": "code",
   "execution_count": 18,
   "id": "5f5c6e7f",
   "metadata": {},
   "outputs": [
    {
     "data": {
      "text/html": [
       "<div>\n",
       "<style scoped>\n",
       "    .dataframe tbody tr th:only-of-type {\n",
       "        vertical-align: middle;\n",
       "    }\n",
       "\n",
       "    .dataframe tbody tr th {\n",
       "        vertical-align: top;\n",
       "    }\n",
       "\n",
       "    .dataframe thead th {\n",
       "        text-align: right;\n",
       "    }\n",
       "</style>\n",
       "<table border=\"1\" class=\"dataframe\">\n",
       "  <thead>\n",
       "    <tr style=\"text-align: right;\">\n",
       "      <th></th>\n",
       "      <th>nomes</th>\n",
       "      <th>precos</th>\n",
       "      <th>preco_sobre_lucro</th>\n",
       "      <th>volume</th>\n",
       "    </tr>\n",
       "    <tr>\n",
       "      <th>tickers</th>\n",
       "      <th></th>\n",
       "      <th></th>\n",
       "      <th></th>\n",
       "      <th></th>\n",
       "    </tr>\n",
       "  </thead>\n",
       "  <tbody>\n",
       "    <tr>\n",
       "      <th>WEGE3</th>\n",
       "      <td>Weg</td>\n",
       "      <td>20</td>\n",
       "      <td>25</td>\n",
       "      <td>5000</td>\n",
       "    </tr>\n",
       "    <tr>\n",
       "      <th>VALE3</th>\n",
       "      <td>Vale</td>\n",
       "      <td>40</td>\n",
       "      <td>12</td>\n",
       "      <td>4000</td>\n",
       "    </tr>\n",
       "  </tbody>\n",
       "</table>\n",
       "</div>"
      ],
      "text/plain": [
       "        nomes  precos  preco_sobre_lucro  volume\n",
       "tickers                                         \n",
       "WEGE3     Weg      20                 25    5000\n",
       "VALE3    Vale      40                 12    4000"
      ]
     },
     "execution_count": 18,
     "metadata": {},
     "output_type": "execute_result"
    }
   ],
   "source": [
    "#gabarito 45 \n",
    "\n",
    "pl_maior_10_e_volume_maior_2000 = df_info_empresas[(df_info_empresas['preco_sobre_lucro'] > 10) &\n",
    "                                                      (df_info_empresas['volume'] > 2000)]\n",
    "pl_maior_10_e_volume_maior_2000"
   ]
  },
  {
   "cell_type": "code",
   "execution_count": 20,
   "id": "fbae522f",
   "metadata": {},
   "outputs": [
    {
     "data": {
      "text/html": [
       "<div>\n",
       "<style scoped>\n",
       "    .dataframe tbody tr th:only-of-type {\n",
       "        vertical-align: middle;\n",
       "    }\n",
       "\n",
       "    .dataframe tbody tr th {\n",
       "        vertical-align: top;\n",
       "    }\n",
       "\n",
       "    .dataframe thead th {\n",
       "        text-align: right;\n",
       "    }\n",
       "</style>\n",
       "<table border=\"1\" class=\"dataframe\">\n",
       "  <thead>\n",
       "    <tr style=\"text-align: right;\">\n",
       "      <th></th>\n",
       "      <th>nomes</th>\n",
       "      <th>precos</th>\n",
       "      <th>preco_sobre_lucro</th>\n",
       "      <th>volume</th>\n",
       "    </tr>\n",
       "    <tr>\n",
       "      <th>tickers</th>\n",
       "      <th></th>\n",
       "      <th></th>\n",
       "      <th></th>\n",
       "      <th></th>\n",
       "    </tr>\n",
       "  </thead>\n",
       "  <tbody>\n",
       "    <tr>\n",
       "      <th>PETR3</th>\n",
       "      <td>Petrobras</td>\n",
       "      <td>30</td>\n",
       "      <td>6</td>\n",
       "      <td>1000</td>\n",
       "    </tr>\n",
       "    <tr>\n",
       "      <th>VALE3</th>\n",
       "      <td>Vale</td>\n",
       "      <td>40</td>\n",
       "      <td>12</td>\n",
       "      <td>4000</td>\n",
       "    </tr>\n",
       "    <tr>\n",
       "      <th>LREN3</th>\n",
       "      <td>Lojas Renner</td>\n",
       "      <td>35</td>\n",
       "      <td>25</td>\n",
       "      <td>1200</td>\n",
       "    </tr>\n",
       "  </tbody>\n",
       "</table>\n",
       "</div>"
      ],
      "text/plain": [
       "                nomes  precos  preco_sobre_lucro  volume\n",
       "tickers                                                 \n",
       "PETR3       Petrobras      30                  6    1000\n",
       "VALE3            Vale      40                 12    4000\n",
       "LREN3    Lojas Renner      35                 25    1200"
      ]
     },
     "execution_count": 20,
     "metadata": {},
     "output_type": "execute_result"
    }
   ],
   "source": [
    "#gabarito 46\n",
    "\n",
    "cotacao_20_e_volume_maior_4000 = df_info_empresas[(df_info_empresas['precos'] > 20) |\n",
    "                                                      (df_info_empresas['volume'] > 7000)]\n",
    "cotacao_20_e_volume_maior_4000"
   ]
  },
  {
   "cell_type": "markdown",
   "id": "951ac161",
   "metadata": {},
   "source": [
    "# Mundo 5\n",
    "\n",
    "Agora que você aprendeu como manipular colunas, chegou a hora de aprender a selecionar dados dentro da tabela. Como pegar um dado específico, como o preço da Weg em algum dia específico? "
   ]
  },
  {
   "cell_type": "code",
   "execution_count": null,
   "id": "fc8e4a55",
   "metadata": {},
   "outputs": [],
   "source": []
  }
 ],
 "metadata": {
  "kernelspec": {
   "display_name": "Python 3 (ipykernel)",
   "language": "python",
   "name": "python3"
  },
  "language_info": {
   "codemirror_mode": {
    "name": "ipython",
    "version": 3
   },
   "file_extension": ".py",
   "mimetype": "text/x-python",
   "name": "python",
   "nbconvert_exporter": "python",
   "pygments_lexer": "ipython3",
   "version": "3.9.12"
  }
 },
 "nbformat": 4,
 "nbformat_minor": 5
}
