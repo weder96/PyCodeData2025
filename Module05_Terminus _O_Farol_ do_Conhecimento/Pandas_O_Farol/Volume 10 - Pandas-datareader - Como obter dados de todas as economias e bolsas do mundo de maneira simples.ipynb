{
 "cells": [
  {
   "cell_type": "markdown",
   "id": "72d31d3f",
   "metadata": {},
   "source": [
    "# Mundo 10\n",
    "\n",
    "### Leitura e extração de dados"
   ]
  },
  {
   "cell_type": "markdown",
   "id": "49e02dea",
   "metadata": {},
   "source": [
    "# Pandas data_reader\n",
    "\n",
    "https://pydata.github.io/pandas-datareader/readers/index.html"
   ]
  },
  {
   "cell_type": "markdown",
   "id": "82a97c29",
   "metadata": {},
   "source": [
    "# Fontes de dados:\n",
    "\n",
    "<br>\n",
    "\n",
    "## Mercado financeiro\n",
    "\n",
    "<br>\n",
    "\n",
    "* AlphaVantage - Equity e FOREX. Dados Intraday dos últimos 3-5 dias. \n",
    "* The Investors Exchange (IEX) - Dados de ações, ETFs e fundos.\n",
    "* Moscow Exchange (MOEX) - Dados de ações\n",
    "* Quandl - Dados de ações, ETFs e fundos. \n",
    "* Tiingo - Dados de ações, ETFs e fundos. \n",
    "* Yahoo Finance - Dados de ações, ETFs e fundos.\n",
    "\n",
    "<br>\n",
    "\n",
    "#### Dados específicos de finanças:\n",
    "\n",
    "* Fama-French Data (Ken French’s Data Library) - Dados sobre factor investing nos EUA\n",
    "* NASDAQ - Todos os símbolos negociados na NASDAQ. (Bizarro)\n",
    "* Naver Finance - Dados do mercado coreano. (Bizarro 2)\n",
    "* Stooq.com - Dados de índices. \n",
    "\n",
    "<br>\n",
    "\n",
    "## Economia\n",
    "<br>\n",
    "\n",
    "* Federal Reserve Economic Data (FRED) - Dados da economia americana\n",
    "* Bank of Canada - Economia canadense. \n",
    "* Econdb - Economia mundial\n",
    "* Organisation for Economic Co-operation and Development (OECD) - Indicadores econômicos \n",
    "* World Bank - Indicadores econômicos\n",
    "\n",
    "<br>\n",
    "\n",
    "\n",
    "## Dados gerais \n",
    "\n",
    "<br>\n",
    "\n",
    "* Enigma - Dados genéricos como todos os recalls de comida dos estados unidos em 1996. \n",
    "* Eurostat - Dados genéricos da união européia, como acidentes de trem da europa nos últimos 10 anos por país.\n",
    "* Thrift Savings Plan (TSP) - dados do fundo de pensão para funcionários e aposentados do serviço público dos Estados Unidos. \n"
   ]
  },
  {
   "cell_type": "markdown",
   "id": "035634f0",
   "metadata": {},
   "source": [
    "# Meta futura\n",
    "\n",
    "Criar uma coisa dessa no Brasil, com IBGE, Banco Central, CVM, B3..."
   ]
  },
  {
   "cell_type": "markdown",
   "id": "aed95472",
   "metadata": {},
   "source": [
    "# Vamos trabalhar:\n",
    "\n",
    "* Yahoo Finance - Dados de ações, ETFs e fundos.\n",
    "* Federal Reserve Economic Data (FRED) - Dados da economia americana\n",
    "* World Bank - Indicadores econômicos\n",
    "* Fama-French Data (Ken French’s Data Library) - Dados sobre factor investing nos EUA"
   ]
  },
  {
   "cell_type": "markdown",
   "id": "f858e8d7",
   "metadata": {},
   "source": [
    "# Mundo 11\n",
    "\n",
    "Vamos aprender a puxar dados do mercado financeiro através do Yahoo finance, então?"
   ]
  }
 ],
 "metadata": {
  "kernelspec": {
   "display_name": "Python 3 (ipykernel)",
   "language": "python",
   "name": "python3"
  },
  "language_info": {
   "codemirror_mode": {
    "name": "ipython",
    "version": 3
   },
   "file_extension": ".py",
   "mimetype": "text/x-python",
   "name": "python",
   "nbconvert_exporter": "python",
   "pygments_lexer": "ipython3",
   "version": "3.9.12"
  }
 },
 "nbformat": 4,
 "nbformat_minor": 5
}
