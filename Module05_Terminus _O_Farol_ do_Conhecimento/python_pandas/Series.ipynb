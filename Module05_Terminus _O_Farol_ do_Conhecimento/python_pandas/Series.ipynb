{
  "nbformat": 4,
  "nbformat_minor": 0,
  "metadata": {
    "colab": {
      "provenance": []
    },
    "kernelspec": {
      "name": "python3",
      "display_name": "Python 3"
    },
    "language_info": {
      "name": "python"
    }
  },
  "cells": [
    {
      "cell_type": "markdown",
      "source": [
        "#Series\n",
        "Uma Series é um objeto unidimensional semelhante a um array, lista ou coluna em\n",
        "uma tabela. Ela pode conter dados de qualquer tipo e possui um índice associado, que permite acessar os elementos por rótulo, além do acesso posicional."
      ],
      "metadata": {
        "id": "BEspT7M-tMT6"
      }
    },
    {
      "cell_type": "code",
      "execution_count": null,
      "metadata": {
        "colab": {
          "base_uri": "https://localhost:8080/"
        },
        "id": "rqXLYRU1IGQG",
        "outputId": "b3f82461-0570-49a2-c106-bacff7308288"
      },
      "outputs": [
        {
          "output_type": "stream",
          "name": "stdout",
          "text": [
            "Series a partir de uma lista de números:\n",
            "0    10\n",
            "1    20\n",
            "2    30\n",
            "3    40\n",
            "4    50\n",
            "dtype: int64\n",
            "<class 'pandas.core.series.Series'>\n",
            "10\n"
          ]
        }
      ],
      "source": [
        "import pandas as pd\n",
        "# Criando uma Series a partir de uma lista\n",
        "numeros = [10, 20, 30, 40, 50]\n",
        "serie1 = pd.Series(numeros)\n",
        "print('Series a partir de uma lista de números:')\n",
        "print(serie1)\n",
        "print(type(serie1))\n",
        "\n",
        "#Acessando um elemento da série\n",
        "print(serie1[0])"
      ]
    },
    {
      "cell_type": "code",
      "source": [
        "# Criando uma Series com índices personalizados\n",
        "lista_num = [100, 200, 300]\n",
        "index = ['a', 'b', 'c']\n",
        "serie_personalizada = pd.Series(lista_num, index)\n",
        "print('\\nSeries com índices personalizados:')\n",
        "print(serie_personalizada)\n",
        "\n",
        "#Acessando uma linha pelo índice\n",
        "print(serie_personalizada['a'])"
      ],
      "metadata": {
        "colab": {
          "base_uri": "https://localhost:8080/"
        },
        "id": "lGbNwBLgMULE",
        "outputId": "0197df86-8651-4dad-8eab-ad54e50e0e4b"
      },
      "execution_count": null,
      "outputs": [
        {
          "output_type": "stream",
          "name": "stdout",
          "text": [
            "\n",
            "Series com índices personalizados:\n",
            "a    100\n",
            "b    200\n",
            "c    300\n",
            "dtype: int64\n",
            "100\n"
          ]
        }
      ]
    },
    {
      "cell_type": "code",
      "source": [
        "# Criando uma Series a partir de um dicionário\n",
        "dados_dict = {'primeiro': 1, 'segundo': 2, 'terceiro': 3}\n",
        "s_dict = pd.Series(dados_dict)\n",
        "print('\\nSeries a partir de dicionário:')\n",
        "print(s_dict)\n",
        "\n",
        "#Acessando um elemento da série\n",
        "print(s_dict['segundo'])"
      ],
      "metadata": {
        "colab": {
          "base_uri": "https://localhost:8080/"
        },
        "id": "37Edp42WMWWQ",
        "outputId": "2b1002ae-da80-4fdb-b18e-87dba01f999e"
      },
      "execution_count": null,
      "outputs": [
        {
          "output_type": "stream",
          "name": "stdout",
          "text": [
            "\n",
            "Series a partir de dicionário:\n",
            "primeiro    1\n",
            "segundo     2\n",
            "terceiro    3\n",
            "dtype: int64\n",
            "2\n"
          ]
        }
      ]
    }
  ]
}