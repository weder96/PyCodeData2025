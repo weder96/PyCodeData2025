{
 "cells": [
  {
   "cell_type": "markdown",
   "id": "1042bb5f",
   "metadata": {},
   "source": [
    "# Volume 16\n",
    "\n",
    "### Limpeza e tratamento de dados"
   ]
  },
  {
   "cell_type": "code",
   "execution_count": null,
   "id": "fd8b3a00",
   "metadata": {},
   "outputs": [
    {
     "name": "stdout",
     "output_type": "stream",
     "text": [
      "Defaulting to user installation because normal site-packages is not writeable\n",
      "Requirement already satisfied: yfinance in /home/weder/.local/lib/python3.10/site-packages (0.2.66)\n",
      "Requirement already satisfied: pandas>=1.3.0 in /home/weder/.local/lib/python3.10/site-packages (from yfinance) (2.2.3)\n",
      "Requirement already satisfied: numpy>=1.16.5 in /home/weder/.local/lib/python3.10/site-packages (from yfinance) (2.2.3)\n",
      "Requirement already satisfied: requests>=2.31 in /home/weder/.local/lib/python3.10/site-packages (from yfinance) (2.32.3)\n",
      "Requirement already satisfied: multitasking>=0.0.7 in /home/weder/.local/lib/python3.10/site-packages (from yfinance) (0.0.12)\n",
      "Requirement already satisfied: platformdirs>=2.0.0 in /home/weder/.local/lib/python3.10/site-packages (from yfinance) (4.3.8)\n",
      "Requirement already satisfied: pytz>=2022.5 in /home/weder/.local/lib/python3.10/site-packages (from yfinance) (2025.2)\n",
      "Requirement already satisfied: frozendict>=2.3.4 in /home/weder/.local/lib/python3.10/site-packages (from yfinance) (2.4.6)\n",
      "Requirement already satisfied: peewee>=3.16.2 in /home/weder/.local/lib/python3.10/site-packages (from yfinance) (3.18.2)\n",
      "Requirement already satisfied: beautifulsoup4>=4.11.1 in /home/weder/.local/lib/python3.10/site-packages (from yfinance) (4.14.2)\n",
      "Requirement already satisfied: curl_cffi>=0.7 in /home/weder/.local/lib/python3.10/site-packages (from yfinance) (0.13.0)\n",
      "Requirement already satisfied: protobuf>=3.19.0 in /home/weder/.local/lib/python3.10/site-packages (from yfinance) (6.32.1)\n",
      "Requirement already satisfied: websockets>=13.0 in /home/weder/.local/lib/python3.10/site-packages (from yfinance) (15.0.1)\n",
      "Requirement already satisfied: soupsieve>1.2 in /usr/lib/python3/dist-packages (from beautifulsoup4>=4.11.1->yfinance) (2.3.1)\n",
      "Requirement already satisfied: typing-extensions>=4.0.0 in /home/weder/.local/lib/python3.10/site-packages (from beautifulsoup4>=4.11.1->yfinance) (4.12.2)\n",
      "Requirement already satisfied: cffi>=1.12.0 in /home/weder/.local/lib/python3.10/site-packages (from curl_cffi>=0.7->yfinance) (1.17.1)\n",
      "Requirement already satisfied: certifi>=2024.2.2 in /home/weder/.local/lib/python3.10/site-packages (from curl_cffi>=0.7->yfinance) (2025.8.3)\n",
      "Requirement already satisfied: pycparser in /home/weder/.local/lib/python3.10/site-packages (from cffi>=1.12.0->curl_cffi>=0.7->yfinance) (2.22)\n",
      "Requirement already satisfied: python-dateutil>=2.8.2 in /home/weder/.local/lib/python3.10/site-packages (from pandas>=1.3.0->yfinance) (2.9.0.post0)\n",
      "Requirement already satisfied: tzdata>=2022.7 in /home/weder/.local/lib/python3.10/site-packages (from pandas>=1.3.0->yfinance) (2025.1)\n",
      "Requirement already satisfied: six>=1.5 in /usr/lib/python3/dist-packages (from python-dateutil>=2.8.2->pandas>=1.3.0->yfinance) (1.16.0)\n",
      "Requirement already satisfied: charset-normalizer<4,>=2 in /usr/lib/python3/dist-packages (from requests>=2.31->yfinance) (2.0.6)\n",
      "Requirement already satisfied: idna<4,>=2.5 in /usr/lib/python3/dist-packages (from requests>=2.31->yfinance) (3.3)\n",
      "Requirement already satisfied: urllib3<3,>=1.21.1 in /usr/lib/python3/dist-packages (from requests>=2.31->yfinance) (1.26.5)\n",
      "Note: you may need to restart the kernel to use updated packages.\n"
     ]
    }
   ],
   "source": [
    "!pip install yfinance"
   ]
  },
  {
   "cell_type": "code",
   "execution_count": 1,
   "id": "1ddb693a",
   "metadata": {},
   "outputs": [],
   "source": [
    "import pandas as pd\n",
    "import yfinance as yf"
   ]
  },
  {
   "cell_type": "code",
   "execution_count": 2,
   "id": "b7fe6b77",
   "metadata": {},
   "outputs": [
    {
     "name": "stderr",
     "output_type": "stream",
     "text": [
      "/tmp/ipykernel_165924/272371380.py:1: FutureWarning: YF.download() has changed argument auto_adjust default to True\n",
      "  dados_acao = yf.download([\"ITUB4.SA\", 'VALE3.SA'], \"2025-01-01\", \"2026-01-01\")['Close']\n",
      "[*********************100%***********************]  2 of 2 completed\n"
     ]
    },
    {
     "data": {
      "text/html": [
       "<div>\n",
       "<style scoped>\n",
       "    .dataframe tbody tr th:only-of-type {\n",
       "        vertical-align: middle;\n",
       "    }\n",
       "\n",
       "    .dataframe tbody tr th {\n",
       "        vertical-align: top;\n",
       "    }\n",
       "\n",
       "    .dataframe thead th {\n",
       "        text-align: right;\n",
       "    }\n",
       "</style>\n",
       "<table border=\"1\" class=\"dataframe\">\n",
       "  <thead>\n",
       "    <tr style=\"text-align: right;\">\n",
       "      <th>Ticker</th>\n",
       "      <th>ITUB4.SA</th>\n",
       "      <th>VALE3.SA</th>\n",
       "    </tr>\n",
       "    <tr>\n",
       "      <th>Date</th>\n",
       "      <th></th>\n",
       "      <th></th>\n",
       "    </tr>\n",
       "  </thead>\n",
       "  <tbody>\n",
       "    <tr>\n",
       "      <th>2025-01-02</th>\n",
       "      <td>25.913849</td>\n",
       "      <td>50.442173</td>\n",
       "    </tr>\n",
       "    <tr>\n",
       "      <th>2025-01-03</th>\n",
       "      <td>25.278088</td>\n",
       "      <td>49.503067</td>\n",
       "    </tr>\n",
       "    <tr>\n",
       "      <th>2025-01-06</th>\n",
       "      <td>26.413990</td>\n",
       "      <td>48.870796</td>\n",
       "    </tr>\n",
       "    <tr>\n",
       "      <th>2025-01-07</th>\n",
       "      <td>26.702202</td>\n",
       "      <td>48.396591</td>\n",
       "    </tr>\n",
       "    <tr>\n",
       "      <th>2025-01-08</th>\n",
       "      <td>26.269880</td>\n",
       "      <td>47.931686</td>\n",
       "    </tr>\n",
       "    <tr>\n",
       "      <th>...</th>\n",
       "      <td>...</td>\n",
       "      <td>...</td>\n",
       "    </tr>\n",
       "    <tr>\n",
       "      <th>2025-10-03</th>\n",
       "      <td>38.209999</td>\n",
       "      <td>58.590000</td>\n",
       "    </tr>\n",
       "    <tr>\n",
       "      <th>2025-10-06</th>\n",
       "      <td>37.770000</td>\n",
       "      <td>59.590000</td>\n",
       "    </tr>\n",
       "    <tr>\n",
       "      <th>2025-10-07</th>\n",
       "      <td>37.169998</td>\n",
       "      <td>58.750000</td>\n",
       "    </tr>\n",
       "    <tr>\n",
       "      <th>2025-10-08</th>\n",
       "      <td>37.240002</td>\n",
       "      <td>59.200001</td>\n",
       "    </tr>\n",
       "    <tr>\n",
       "      <th>2025-10-09</th>\n",
       "      <td>37.180000</td>\n",
       "      <td>59.110001</td>\n",
       "    </tr>\n",
       "  </tbody>\n",
       "</table>\n",
       "<p>195 rows × 2 columns</p>\n",
       "</div>"
      ],
      "text/plain": [
       "Ticker       ITUB4.SA   VALE3.SA\n",
       "Date                            \n",
       "2025-01-02  25.913849  50.442173\n",
       "2025-01-03  25.278088  49.503067\n",
       "2025-01-06  26.413990  48.870796\n",
       "2025-01-07  26.702202  48.396591\n",
       "2025-01-08  26.269880  47.931686\n",
       "...               ...        ...\n",
       "2025-10-03  38.209999  58.590000\n",
       "2025-10-06  37.770000  59.590000\n",
       "2025-10-07  37.169998  58.750000\n",
       "2025-10-08  37.240002  59.200001\n",
       "2025-10-09  37.180000  59.110001\n",
       "\n",
       "[195 rows x 2 columns]"
      ]
     },
     "execution_count": 2,
     "metadata": {},
     "output_type": "execute_result"
    }
   ],
   "source": [
    "dados_acao = yf.download([\"ITUB4.SA\", 'VALE3.SA'], \"2025-01-01\", \"2026-01-01\")['Close']\n",
    "dados_acao"
   ]
  },
  {
   "cell_type": "code",
   "execution_count": 3,
   "id": "5ad80c4b",
   "metadata": {},
   "outputs": [
    {
     "data": {
      "text/html": [
       "<div>\n",
       "<style scoped>\n",
       "    .dataframe tbody tr th:only-of-type {\n",
       "        vertical-align: middle;\n",
       "    }\n",
       "\n",
       "    .dataframe tbody tr th {\n",
       "        vertical-align: top;\n",
       "    }\n",
       "\n",
       "    .dataframe thead th {\n",
       "        text-align: right;\n",
       "    }\n",
       "</style>\n",
       "<table border=\"1\" class=\"dataframe\">\n",
       "  <thead>\n",
       "    <tr style=\"text-align: right;\">\n",
       "      <th></th>\n",
       "      <th>empresa</th>\n",
       "      <th>cotacao</th>\n",
       "      <th>volume</th>\n",
       "    </tr>\n",
       "  </thead>\n",
       "  <tbody>\n",
       "    <tr>\n",
       "      <th>0</th>\n",
       "      <td>ITAU</td>\n",
       "      <td>20</td>\n",
       "      <td>3000</td>\n",
       "    </tr>\n",
       "    <tr>\n",
       "      <th>1</th>\n",
       "      <td>BRADESCO</td>\n",
       "      <td>50</td>\n",
       "      <td>&lt;NA&gt;</td>\n",
       "    </tr>\n",
       "    <tr>\n",
       "      <th>2</th>\n",
       "      <td>SANTANDER</td>\n",
       "      <td>&lt;NA&gt;</td>\n",
       "      <td>&lt;NA&gt;</td>\n",
       "    </tr>\n",
       "    <tr>\n",
       "      <th>3</th>\n",
       "      <td>&lt;NA&gt;</td>\n",
       "      <td>&lt;NA&gt;</td>\n",
       "      <td>&lt;NA&gt;</td>\n",
       "    </tr>\n",
       "  </tbody>\n",
       "</table>\n",
       "</div>"
      ],
      "text/plain": [
       "     empresa cotacao volume\n",
       "0       ITAU      20   3000\n",
       "1   BRADESCO      50   <NA>\n",
       "2  SANTANDER    <NA>   <NA>\n",
       "3       <NA>    <NA>   <NA>"
      ]
     },
     "execution_count": 3,
     "metadata": {},
     "output_type": "execute_result"
    }
   ],
   "source": [
    "dataWithNa = pd.DataFrame({'empresa': ['ITAU', 'BRADESCO', 'SANTANDER', pd.NA],\n",
    "                           'cotacao': [20, 50, pd.NA, pd.NA],\n",
    "                           'volume': [3000, pd.NA, pd.NA ,pd.NA]})\n",
    "\n",
    "dataWithNa"
   ]
  },
  {
   "cell_type": "code",
   "execution_count": 4,
   "id": "658ee874",
   "metadata": {},
   "outputs": [
    {
     "data": {
      "text/html": [
       "<div>\n",
       "<style scoped>\n",
       "    .dataframe tbody tr th:only-of-type {\n",
       "        vertical-align: middle;\n",
       "    }\n",
       "\n",
       "    .dataframe tbody tr th {\n",
       "        vertical-align: top;\n",
       "    }\n",
       "\n",
       "    .dataframe thead th {\n",
       "        text-align: right;\n",
       "    }\n",
       "</style>\n",
       "<table border=\"1\" class=\"dataframe\">\n",
       "  <thead>\n",
       "    <tr style=\"text-align: right;\">\n",
       "      <th>Ticker</th>\n",
       "      <th>ITUB4.SA</th>\n",
       "      <th>VALE3.SA</th>\n",
       "    </tr>\n",
       "    <tr>\n",
       "      <th>Date</th>\n",
       "      <th></th>\n",
       "      <th></th>\n",
       "    </tr>\n",
       "  </thead>\n",
       "  <tbody>\n",
       "    <tr>\n",
       "      <th>2025-01-02</th>\n",
       "      <td>25.913849</td>\n",
       "      <td>50.442173</td>\n",
       "    </tr>\n",
       "    <tr>\n",
       "      <th>2025-01-03</th>\n",
       "      <td>25.278088</td>\n",
       "      <td>49.503067</td>\n",
       "    </tr>\n",
       "    <tr>\n",
       "      <th>2025-01-06</th>\n",
       "      <td>26.413990</td>\n",
       "      <td>48.870796</td>\n",
       "    </tr>\n",
       "    <tr>\n",
       "      <th>2025-01-07</th>\n",
       "      <td>26.702202</td>\n",
       "      <td>48.396591</td>\n",
       "    </tr>\n",
       "    <tr>\n",
       "      <th>2025-01-08</th>\n",
       "      <td>26.269880</td>\n",
       "      <td>47.931686</td>\n",
       "    </tr>\n",
       "    <tr>\n",
       "      <th>...</th>\n",
       "      <td>...</td>\n",
       "      <td>...</td>\n",
       "    </tr>\n",
       "    <tr>\n",
       "      <th>2025-10-03</th>\n",
       "      <td>38.209999</td>\n",
       "      <td>58.590000</td>\n",
       "    </tr>\n",
       "    <tr>\n",
       "      <th>2025-10-06</th>\n",
       "      <td>37.770000</td>\n",
       "      <td>59.590000</td>\n",
       "    </tr>\n",
       "    <tr>\n",
       "      <th>2025-10-07</th>\n",
       "      <td>37.169998</td>\n",
       "      <td>58.750000</td>\n",
       "    </tr>\n",
       "    <tr>\n",
       "      <th>2025-10-08</th>\n",
       "      <td>37.240002</td>\n",
       "      <td>59.200001</td>\n",
       "    </tr>\n",
       "    <tr>\n",
       "      <th>2025-10-09</th>\n",
       "      <td>37.180000</td>\n",
       "      <td>59.110001</td>\n",
       "    </tr>\n",
       "  </tbody>\n",
       "</table>\n",
       "<p>195 rows × 2 columns</p>\n",
       "</div>"
      ],
      "text/plain": [
       "Ticker       ITUB4.SA   VALE3.SA\n",
       "Date                            \n",
       "2025-01-02  25.913849  50.442173\n",
       "2025-01-03  25.278088  49.503067\n",
       "2025-01-06  26.413990  48.870796\n",
       "2025-01-07  26.702202  48.396591\n",
       "2025-01-08  26.269880  47.931686\n",
       "...               ...        ...\n",
       "2025-10-03  38.209999  58.590000\n",
       "2025-10-06  37.770000  59.590000\n",
       "2025-10-07  37.169998  58.750000\n",
       "2025-10-08  37.240002  59.200001\n",
       "2025-10-09  37.180000  59.110001\n",
       "\n",
       "[195 rows x 2 columns]"
      ]
     },
     "execution_count": 4,
     "metadata": {},
     "output_type": "execute_result"
    }
   ],
   "source": [
    "#tirando dados ausentes\n",
    "dados_acao = dados_acao.dropna()\n",
    "dados_acao"
   ]
  },
  {
   "cell_type": "code",
   "execution_count": 19,
   "id": "82169b45",
   "metadata": {},
   "outputs": [
    {
     "name": "stdout",
     "output_type": "stream",
     "text": [
      "  empresa cotacao volume\n",
      "0    ITAU      20   3000\n",
      "     empresa cotacao volume\n",
      "0       ITAU      20   3000\n",
      "1   BRADESCO      50   <NA>\n",
      "2  SANTANDER    <NA>   <NA>\n"
     ]
    },
    {
     "data": {
      "text/html": [
       "<div>\n",
       "<style scoped>\n",
       "    .dataframe tbody tr th:only-of-type {\n",
       "        vertical-align: middle;\n",
       "    }\n",
       "\n",
       "    .dataframe tbody tr th {\n",
       "        vertical-align: top;\n",
       "    }\n",
       "\n",
       "    .dataframe thead th {\n",
       "        text-align: right;\n",
       "    }\n",
       "</style>\n",
       "<table border=\"1\" class=\"dataframe\">\n",
       "  <thead>\n",
       "    <tr style=\"text-align: right;\">\n",
       "      <th></th>\n",
       "      <th>empresa</th>\n",
       "      <th>cotacao</th>\n",
       "      <th>volume</th>\n",
       "    </tr>\n",
       "  </thead>\n",
       "  <tbody>\n",
       "    <tr>\n",
       "      <th>0</th>\n",
       "      <td>ITAU</td>\n",
       "      <td>20</td>\n",
       "      <td>3000</td>\n",
       "    </tr>\n",
       "  </tbody>\n",
       "</table>\n",
       "</div>"
      ],
      "text/plain": [
       "  empresa cotacao volume\n",
       "0    ITAU      20   3000"
      ]
     },
     "execution_count": 19,
     "metadata": {},
     "output_type": "execute_result"
    }
   ],
   "source": [
    "#qualquer na\n",
    "print(dataWithNa.dropna())\n",
    "#todas as colunas tem que ser NA\n",
    "print(dataWithNa.dropna(how = \"all\"))\n",
    "#duas colunas como NA\n",
    "dataWithNa2 = dataWithNa.dropna(subset = ['empresa', 'cotacao','volume'])\n",
    "\n",
    "dataWithNa\n",
    "\n",
    "dataWithNa2\n"
   ]
  },
  {
   "cell_type": "code",
   "execution_count": 6,
   "id": "200bdad1",
   "metadata": {},
   "outputs": [
    {
     "name": "stdout",
     "output_type": "stream",
     "text": [
      "     empresa  cotacao  volume\n",
      "0       ITAU       20    3000\n",
      "1   BRADESCO       50       0\n",
      "2  SANTANDER        0       0\n",
      "3          0        0       0\n"
     ]
    },
    {
     "name": "stderr",
     "output_type": "stream",
     "text": [
      "/tmp/ipykernel_165924/883445185.py:2: FutureWarning: Downcasting object dtype arrays on .fillna, .ffill, .bfill is deprecated and will change in a future version. Call result.infer_objects(copy=False) instead. To opt-in to the future behavior, set `pd.set_option('future.no_silent_downcasting', True)`\n",
      "  print(dataWithNa.fillna(0))\n",
      "/tmp/ipykernel_165924/883445185.py:4: FutureWarning: Downcasting object dtype arrays on .fillna, .ffill, .bfill is deprecated and will change in a future version. Call result.infer_objects(copy=False) instead. To opt-in to the future behavior, set `pd.set_option('future.no_silent_downcasting', True)`\n",
      "  dataWithNa.fillna({'empresa':'Nenhuma',\n"
     ]
    },
    {
     "data": {
      "text/html": [
       "<div>\n",
       "<style scoped>\n",
       "    .dataframe tbody tr th:only-of-type {\n",
       "        vertical-align: middle;\n",
       "    }\n",
       "\n",
       "    .dataframe tbody tr th {\n",
       "        vertical-align: top;\n",
       "    }\n",
       "\n",
       "    .dataframe thead th {\n",
       "        text-align: right;\n",
       "    }\n",
       "</style>\n",
       "<table border=\"1\" class=\"dataframe\">\n",
       "  <thead>\n",
       "    <tr style=\"text-align: right;\">\n",
       "      <th></th>\n",
       "      <th>empresa</th>\n",
       "      <th>cotacao</th>\n",
       "      <th>volume</th>\n",
       "    </tr>\n",
       "  </thead>\n",
       "  <tbody>\n",
       "    <tr>\n",
       "      <th>0</th>\n",
       "      <td>ITAU</td>\n",
       "      <td>20</td>\n",
       "      <td>3000</td>\n",
       "    </tr>\n",
       "    <tr>\n",
       "      <th>1</th>\n",
       "      <td>BRADESCO</td>\n",
       "      <td>50</td>\n",
       "      <td>-10</td>\n",
       "    </tr>\n",
       "    <tr>\n",
       "      <th>2</th>\n",
       "      <td>SANTANDER</td>\n",
       "      <td>0</td>\n",
       "      <td>-10</td>\n",
       "    </tr>\n",
       "    <tr>\n",
       "      <th>3</th>\n",
       "      <td>Nenhuma</td>\n",
       "      <td>0</td>\n",
       "      <td>-10</td>\n",
       "    </tr>\n",
       "  </tbody>\n",
       "</table>\n",
       "</div>"
      ],
      "text/plain": [
       "     empresa  cotacao  volume\n",
       "0       ITAU       20    3000\n",
       "1   BRADESCO       50     -10\n",
       "2  SANTANDER        0     -10\n",
       "3    Nenhuma        0     -10"
      ]
     },
     "execution_count": 6,
     "metadata": {},
     "output_type": "execute_result"
    }
   ],
   "source": [
    "#prenchendo dados ausentes\n",
    "print(dataWithNa.fillna(0))\n",
    "\n",
    "dataWithNa.fillna({'empresa':'Nenhuma', \n",
    "                    'cotacao': 0, \n",
    "                    'volume': -10})"
   ]
  },
  {
   "cell_type": "code",
   "execution_count": 7,
   "id": "68f718d2",
   "metadata": {},
   "outputs": [
    {
     "name": "stderr",
     "output_type": "stream",
     "text": [
      "/tmp/ipykernel_165924/1346231223.py:2: FutureWarning: 'M' is deprecated and will be removed in a future version, please use 'ME' instead.\n",
      "  index = pd.date_range(\"2022-06-30\", freq = \"M\", periods = 8))\n"
     ]
    },
    {
     "data": {
      "text/plain": [
       "2022-06-30      20\n",
       "2022-07-31    <NA>\n",
       "2022-08-31    <NA>\n",
       "2022-09-30    <NA>\n",
       "2022-10-31      23\n",
       "2022-11-30      24\n",
       "2022-12-31    <NA>\n",
       "2023-01-31      25\n",
       "Freq: ME, dtype: object"
      ]
     },
     "execution_count": 7,
     "metadata": {},
     "output_type": "execute_result"
    }
   ],
   "source": [
    "cotacoes = pd.Series([20, pd.NA, pd.NA, pd.NA, 23, 24, pd.NA, 25], \n",
    "                     index = pd.date_range(\"2022-06-30\", freq = \"M\", periods = 8))\n",
    "                                           \n",
    "cotacoes"
   ]
  },
  {
   "cell_type": "code",
   "execution_count": 8,
   "id": "c6b798df",
   "metadata": {},
   "outputs": [
    {
     "name": "stdout",
     "output_type": "stream",
     "text": [
      "2022-06-30    20\n",
      "2022-07-31    20\n",
      "2022-08-31    20\n",
      "2022-09-30    20\n",
      "2022-10-31    23\n",
      "2022-11-30    24\n",
      "2022-12-31    24\n",
      "2023-01-31    25\n",
      "Freq: ME, dtype: int64\n"
     ]
    },
    {
     "name": "stderr",
     "output_type": "stream",
     "text": [
      "/tmp/ipykernel_165924/3177358116.py:1: FutureWarning: Series.fillna with 'method' is deprecated and will raise in a future version. Use obj.ffill() or obj.bfill() instead.\n",
      "  print(cotacoes.fillna(method = 'ffill'))\n",
      "/tmp/ipykernel_165924/3177358116.py:1: FutureWarning: Downcasting object dtype arrays on .fillna, .ffill, .bfill is deprecated and will change in a future version. Call result.infer_objects(copy=False) instead. To opt-in to the future behavior, set `pd.set_option('future.no_silent_downcasting', True)`\n",
      "  print(cotacoes.fillna(method = 'ffill'))\n",
      "/tmp/ipykernel_165924/3177358116.py:3: FutureWarning: Series.fillna with 'method' is deprecated and will raise in a future version. Use obj.ffill() or obj.bfill() instead.\n",
      "  cotacoes.fillna(method = 'ffill', limit = 2)\n"
     ]
    },
    {
     "data": {
      "text/plain": [
       "2022-06-30      20\n",
       "2022-07-31      20\n",
       "2022-08-31      20\n",
       "2022-09-30    <NA>\n",
       "2022-10-31      23\n",
       "2022-11-30      24\n",
       "2022-12-31      24\n",
       "2023-01-31      25\n",
       "Freq: ME, dtype: object"
      ]
     },
     "execution_count": 8,
     "metadata": {},
     "output_type": "execute_result"
    }
   ],
   "source": [
    "print(cotacoes.fillna(method = 'ffill'))\n",
    "\n",
    "cotacoes.fillna(method = 'ffill', limit = 2)"
   ]
  },
  {
   "cell_type": "code",
   "execution_count": 9,
   "id": "339f2a59",
   "metadata": {},
   "outputs": [
    {
     "name": "stderr",
     "output_type": "stream",
     "text": [
      "/tmp/ipykernel_165924/31092932.py:1: FutureWarning: Downcasting object dtype arrays on .fillna, .ffill, .bfill is deprecated and will change in a future version. Call result.infer_objects(copy=False) instead. To opt-in to the future behavior, set `pd.set_option('future.no_silent_downcasting', True)`\n",
      "  cotacoes.fillna(cotacoes.mean())\n"
     ]
    },
    {
     "data": {
      "text/plain": [
       "2022-06-30    20.0\n",
       "2022-07-31    23.0\n",
       "2022-08-31    23.0\n",
       "2022-09-30    23.0\n",
       "2022-10-31    23.0\n",
       "2022-11-30    24.0\n",
       "2022-12-31    23.0\n",
       "2023-01-31    25.0\n",
       "Freq: ME, dtype: float64"
      ]
     },
     "execution_count": 9,
     "metadata": {},
     "output_type": "execute_result"
    }
   ],
   "source": [
    "cotacoes.fillna(cotacoes.mean())"
   ]
  },
  {
   "cell_type": "code",
   "execution_count": 10,
   "id": "8d348f5e",
   "metadata": {},
   "outputs": [
    {
     "name": "stdout",
     "output_type": "stream",
     "text": [
      "--- Cotações com Falhas (Dados Brutos) ---\n",
      "           ticker  abertura  fechamento  volume_negociado\n",
      "data                                                     \n",
      "2025-10-01  ITUB4     28.50        28.9        50000000.0\n",
      "2025-10-02  ITUB4     28.90         NaN        55000000.0\n",
      "2025-10-03  ITUB4     29.10        29.4        62000000.0\n",
      "2025-10-06  BBAS3     35.40        35.8               NaN\n",
      "2025-10-07  BBAS3     35.80        35.7        40000000.0\n",
      "2025-10-08  BBAS3     35.75         NaN        38000000.0\n",
      "\n",
      "--- 1. Preenchendo volume com 0 ---\n"
     ]
    },
    {
     "name": "stderr",
     "output_type": "stream",
     "text": [
      "/tmp/ipykernel_165924/1662732279.py:32: FutureWarning: Series.fillna with 'method' is deprecated and will raise in a future version. Use obj.ffill() or obj.bfill() instead.\n",
      "  df_ffill['fechamento'] = df_ffill['fechamento'].fillna(method='ffill')\n"
     ]
    },
    {
     "name": "stdout",
     "output_type": "stream",
     "text": [
      "           ticker  abertura  fechamento  volume_negociado\n",
      "data                                                     \n",
      "2025-10-01  ITUB4     28.50        28.9        50000000.0\n",
      "2025-10-02  ITUB4     28.90         NaN        55000000.0\n",
      "2025-10-03  ITUB4     29.10        29.4        62000000.0\n",
      "2025-10-06  BBAS3     35.40        35.8               0.0\n",
      "2025-10-07  BBAS3     35.80        35.7        40000000.0\n",
      "2025-10-08  BBAS3     35.75         NaN        38000000.0\n",
      "\n",
      "--- 2. Usando forward fill (ffill) para o fechamento ---\n",
      "           ticker  abertura  fechamento  volume_negociado\n",
      "data                                                     \n",
      "2025-10-01  ITUB4     28.50        28.9        50000000.0\n",
      "2025-10-02  ITUB4     28.90        28.9        55000000.0\n",
      "2025-10-03  ITUB4     29.10        29.4        62000000.0\n",
      "2025-10-06  BBAS3     35.40        35.8               NaN\n",
      "2025-10-07  BBAS3     35.80        35.7        40000000.0\n",
      "2025-10-08  BBAS3     35.75        35.7        38000000.0\n",
      "\n",
      "--- 3. Usando um dicionário para preenchimento customizado ---\n",
      "           ticker  abertura  fechamento  volume_negociado\n",
      "data                                                     \n",
      "2025-10-01  ITUB4     28.50       28.90        50000000.0\n",
      "2025-10-02  ITUB4     28.90       32.45        55000000.0\n",
      "2025-10-03  ITUB4     29.10       29.40        62000000.0\n",
      "2025-10-06  BBAS3     35.40       35.80               0.0\n",
      "2025-10-07  BBAS3     35.80       35.70        40000000.0\n",
      "2025-10-08  BBAS3     35.75       32.45        38000000.0\n"
     ]
    }
   ],
   "source": [
    "import pandas as pd\n",
    "import numpy as np\n",
    "\n",
    "# 1. Criando nosso DataFrame de cotações com falhas\n",
    "data = {\n",
    "    'data': pd.to_datetime(['2025-10-01', '2025-10-02', '2025-10-03', '2025-10-06', \n",
    "                            '2025-10-07', '2025-10-08']),\n",
    "    'ticker': ['ITUB4', 'ITUB4', 'ITUB4', 'BBAS3', 'BBAS3', 'BBAS3'],\n",
    "    'abertura': [28.50, 28.90, 29.10, 35.40, 35.80, 35.75],\n",
    "    'fechamento': [28.90, np.nan, 29.40, 35.80, 35.70, np.nan],\n",
    "    'volume_negociado': [50_000_000, 55_000_000, 62_000_000, np.nan, 40_000_000, 38_000_000]\n",
    "}\n",
    "df = pd.DataFrame(data).set_index('data') # Usar a data como índice é uma boa prática\n",
    "print(\"--- Cotações com Falhas (Dados Brutos) ---\")\n",
    "print(df)\n",
    "\n",
    "\n",
    "# Exemplo 1: Preenchendo volume faltante com um valor fixo (0)\n",
    "# Racional: um volume NaN pode significar que não houve negociação ou \n",
    "# foi um erro de registro. Preencher com 0 é uma abordagem conservadora.\n",
    "print(\"\\n--- 1. Preenchendo volume com 0 ---\")\n",
    "df_vol_zero = df.copy() # Copiamos para não alterar o original\n",
    "df_vol_zero['volume_negociado'] = df_vol_zero['volume_negociado'].fillna(0)\n",
    "print(df_vol_zero)\n",
    "\n",
    "\n",
    "# Exemplo 2: Usando 'ffill' para o preço de fechamento (MUITO COMUM)\n",
    "# Racional: O preço de uma ação em um dia que não houve negociação \n",
    "# (ou falha no dado) é frequentemente considerado o mesmo do dia anterior.\n",
    "print(\"\\n--- 2. Usando forward fill (ffill) para o fechamento ---\")\n",
    "df_ffill = df.copy()\n",
    "df_ffill['fechamento'] = df_ffill['fechamento'].fillna(method='ffill')\n",
    "print(df_ffill)\n",
    "\n",
    "\n",
    "# Exemplo 3: Usando um dicionário para aplicar regras diferentes por coluna\n",
    "# Racional: Vamos aplicar as duas estratégias acima de uma só vez.\n",
    "print(\"\\n--- 3. Usando um dicionário para preenchimento customizado ---\")\n",
    "valores_para_preencher = {\n",
    "    'fechamento': df['fechamento'].mean(), # Poderíamos usar a média também\n",
    "    'volume_negociado': 0\n",
    "}\n",
    "df_dict = df.fillna(value=valores_para_preencher)\n",
    "print(df_dict)"
   ]
  },
  {
   "cell_type": "markdown",
   "id": "bffff6fe",
   "metadata": {},
   "source": [
    "# Exercícios\n",
    "\n",
    "* Exercício 64: Puxe dados de cotação ajustadas das empresas PETR4.SA, LJQQ3.SA e CASH3.SA desde 2015. Crie um dataframe que não possua nenhum dado faltante em nenhuma coluna e, em seguida, um dataframe que filtre NA da coluna LJQQ3 mas aceite NA em CASH3.\n",
    "<br>\n",
    "\n",
    "* Exercício 65: Leia a planilha disponibilizada na aula com as cotações reais de EUCA3 desde 25/05/2022 até 22/09/2022. Preencha as cotações faltantes com o método ffill limitando a dois dias de preenchimento. Obs: Preste atenção se o valor que veio do excel é realmente um NA! "
   ]
  },
  {
   "cell_type": "code",
   "execution_count": null,
   "id": "9b096c28",
   "metadata": {},
   "outputs": [],
   "source": []
  },
  {
   "cell_type": "code",
   "execution_count": null,
   "id": "b8102c86",
   "metadata": {},
   "outputs": [],
   "source": []
  },
  {
   "cell_type": "code",
   "execution_count": 11,
   "id": "c3d489cd",
   "metadata": {},
   "outputs": [
    {
     "name": "stderr",
     "output_type": "stream",
     "text": [
      "/tmp/ipykernel_165924/2946672265.py:7: FutureWarning: YF.download() has changed argument auto_adjust default to True\n",
      "  dados_cotacoes = yf.download(acoes, inicio, final)['Close']\n",
      "[*********************100%***********************]  3 of 3 completed"
     ]
    },
    {
     "name": "stdout",
     "output_type": "stream",
     "text": [
      "Ticker       CASH3.SA   LJQQ3.SA   PETR4.SA\n",
      "Date                                       \n",
      "2015-01-02        NaN        NaN   2.572509\n",
      "2015-01-05        NaN        NaN   2.352638\n",
      "2015-01-06        NaN        NaN   2.275682\n",
      "2015-01-07        NaN        NaN   2.382869\n",
      "2015-01-08        NaN        NaN   2.536780\n",
      "...               ...        ...        ...\n",
      "2021-12-23  30.555468   9.915354  10.325616\n",
      "2021-12-27  30.654034  10.196576  10.478698\n",
      "2021-12-28  30.358335  10.323580  10.489632\n",
      "2021-12-29  29.668373   9.942569  10.402156\n",
      "2021-12-30  31.935392  10.151218  10.369355\n",
      "\n",
      "[1738 rows x 3 columns]\n",
      "Ticker       CASH3.SA   LJQQ3.SA   PETR4.SA\n",
      "Date                                       \n",
      "2020-11-09  15.572405  13.381128   6.401822\n",
      "2020-11-10  16.081093  12.712071   6.837300\n",
      "2020-11-11  16.163139  13.291920   6.778051\n",
      "2020-11-12  15.670861  12.890487   6.490695\n",
      "2020-11-13  15.999046  13.300841   6.703990\n",
      "...               ...        ...        ...\n",
      "2021-12-23  30.555468   9.915354  10.325616\n",
      "2021-12-27  30.654034  10.196576  10.478698\n",
      "2021-12-28  30.358335  10.323580  10.489632\n",
      "2021-12-29  29.668373   9.942569  10.402156\n",
      "2021-12-30  31.935392  10.151218  10.369355\n",
      "\n",
      "[282 rows x 3 columns]\n",
      "Ticker       CASH3.SA   LJQQ3.SA   PETR4.SA\n",
      "Date                                       \n",
      "2020-08-10        NaN  11.409642   6.946911\n",
      "2020-08-11        NaN  11.373960   6.837300\n",
      "2020-08-12        NaN  11.284752   6.955797\n",
      "2020-08-13        NaN  11.507770   6.766201\n",
      "2020-08-14        NaN  12.043017   6.715840\n",
      "...               ...        ...        ...\n",
      "2021-12-23  30.555468   9.915354  10.325616\n",
      "2021-12-27  30.654034  10.196576  10.478698\n",
      "2021-12-28  30.358335  10.323580  10.489632\n",
      "2021-12-29  29.668373   9.942569  10.402156\n",
      "2021-12-30  31.935392  10.151218  10.369355\n",
      "\n",
      "[344 rows x 3 columns]\n"
     ]
    },
    {
     "name": "stderr",
     "output_type": "stream",
     "text": [
      "\n"
     ]
    }
   ],
   "source": [
    "#gabarito 64\n",
    "\n",
    "acoes = ['PETR4.SA', 'LJQQ3.SA', 'CASH3.SA']\n",
    "inicio = '2015-01-01'\n",
    "final = '2022-01-01'\n",
    "\n",
    "dados_cotacoes = yf.download(acoes, inicio, final)['Close']\n",
    "\n",
    "dados_cotacoes_sem_na = dados_cotacoes.dropna()\n",
    "\n",
    "dados_cotacoes_sem_na_ljqq = dados_cotacoes.dropna(subset = ['LJQQ3.SA'])\n",
    "\n",
    "print(dados_cotacoes)\n",
    "print(dados_cotacoes_sem_na)\n",
    "print(dados_cotacoes_sem_na_ljqq)"
   ]
  },
  {
   "cell_type": "code",
   "execution_count": 12,
   "id": "f33a704e",
   "metadata": {},
   "outputs": [
    {
     "ename": "FileNotFoundError",
     "evalue": "[Errno 2] No such file or directory: 'dados_euca3.xlsx'",
     "output_type": "error",
     "traceback": [
      "\u001b[0;31m---------------------------------------------------------------------------\u001b[0m",
      "\u001b[0;31mFileNotFoundError\u001b[0m                         Traceback (most recent call last)",
      "Cell \u001b[0;32mIn[12], line 3\u001b[0m\n\u001b[1;32m      1\u001b[0m \u001b[38;5;66;03m#gabarito 65 \u001b[39;00m\n\u001b[0;32m----> 3\u001b[0m dados_euca3 \u001b[38;5;241m=\u001b[39m \u001b[43mpd\u001b[49m\u001b[38;5;241;43m.\u001b[39;49m\u001b[43mread_excel\u001b[49m\u001b[43m(\u001b[49m\u001b[38;5;124;43m'\u001b[39;49m\u001b[38;5;124;43mdados_euca3.xlsx\u001b[39;49m\u001b[38;5;124;43m'\u001b[39;49m\u001b[43m,\u001b[49m\u001b[43m \u001b[49m\u001b[43mna_values\u001b[49m\u001b[43m \u001b[49m\u001b[38;5;241;43m=\u001b[39;49m\u001b[43m \u001b[49m\u001b[38;5;124;43m\"\u001b[39;49m\u001b[38;5;124;43mnd\u001b[39;49m\u001b[38;5;124;43m\"\u001b[39;49m\u001b[43m)\u001b[49m\n\u001b[1;32m      5\u001b[0m dados_euca3_tratado \u001b[38;5;241m=\u001b[39m dados_euca3\u001b[38;5;241m.\u001b[39mfillna(method \u001b[38;5;241m=\u001b[39m \u001b[38;5;124m'\u001b[39m\u001b[38;5;124mffill\u001b[39m\u001b[38;5;124m'\u001b[39m, limit \u001b[38;5;241m=\u001b[39m \u001b[38;5;241m2\u001b[39m)\n\u001b[1;32m      7\u001b[0m dados_euca3_tratado\u001b[38;5;241m.\u001b[39mtail(\u001b[38;5;241m50\u001b[39m)\n",
      "File \u001b[0;32m~/.local/lib/python3.10/site-packages/pandas/io/excel/_base.py:495\u001b[0m, in \u001b[0;36mread_excel\u001b[0;34m(io, sheet_name, header, names, index_col, usecols, dtype, engine, converters, true_values, false_values, skiprows, nrows, na_values, keep_default_na, na_filter, verbose, parse_dates, date_parser, date_format, thousands, decimal, comment, skipfooter, storage_options, dtype_backend, engine_kwargs)\u001b[0m\n\u001b[1;32m    493\u001b[0m \u001b[38;5;28;01mif\u001b[39;00m \u001b[38;5;129;01mnot\u001b[39;00m \u001b[38;5;28misinstance\u001b[39m(io, ExcelFile):\n\u001b[1;32m    494\u001b[0m     should_close \u001b[38;5;241m=\u001b[39m \u001b[38;5;28;01mTrue\u001b[39;00m\n\u001b[0;32m--> 495\u001b[0m     io \u001b[38;5;241m=\u001b[39m \u001b[43mExcelFile\u001b[49m\u001b[43m(\u001b[49m\n\u001b[1;32m    496\u001b[0m \u001b[43m        \u001b[49m\u001b[43mio\u001b[49m\u001b[43m,\u001b[49m\n\u001b[1;32m    497\u001b[0m \u001b[43m        \u001b[49m\u001b[43mstorage_options\u001b[49m\u001b[38;5;241;43m=\u001b[39;49m\u001b[43mstorage_options\u001b[49m\u001b[43m,\u001b[49m\n\u001b[1;32m    498\u001b[0m \u001b[43m        \u001b[49m\u001b[43mengine\u001b[49m\u001b[38;5;241;43m=\u001b[39;49m\u001b[43mengine\u001b[49m\u001b[43m,\u001b[49m\n\u001b[1;32m    499\u001b[0m \u001b[43m        \u001b[49m\u001b[43mengine_kwargs\u001b[49m\u001b[38;5;241;43m=\u001b[39;49m\u001b[43mengine_kwargs\u001b[49m\u001b[43m,\u001b[49m\n\u001b[1;32m    500\u001b[0m \u001b[43m    \u001b[49m\u001b[43m)\u001b[49m\n\u001b[1;32m    501\u001b[0m \u001b[38;5;28;01melif\u001b[39;00m engine \u001b[38;5;129;01mand\u001b[39;00m engine \u001b[38;5;241m!=\u001b[39m io\u001b[38;5;241m.\u001b[39mengine:\n\u001b[1;32m    502\u001b[0m     \u001b[38;5;28;01mraise\u001b[39;00m \u001b[38;5;167;01mValueError\u001b[39;00m(\n\u001b[1;32m    503\u001b[0m         \u001b[38;5;124m\"\u001b[39m\u001b[38;5;124mEngine should not be specified when passing \u001b[39m\u001b[38;5;124m\"\u001b[39m\n\u001b[1;32m    504\u001b[0m         \u001b[38;5;124m\"\u001b[39m\u001b[38;5;124man ExcelFile - ExcelFile already has the engine set\u001b[39m\u001b[38;5;124m\"\u001b[39m\n\u001b[1;32m    505\u001b[0m     )\n",
      "File \u001b[0;32m~/.local/lib/python3.10/site-packages/pandas/io/excel/_base.py:1550\u001b[0m, in \u001b[0;36mExcelFile.__init__\u001b[0;34m(self, path_or_buffer, engine, storage_options, engine_kwargs)\u001b[0m\n\u001b[1;32m   1548\u001b[0m     ext \u001b[38;5;241m=\u001b[39m \u001b[38;5;124m\"\u001b[39m\u001b[38;5;124mxls\u001b[39m\u001b[38;5;124m\"\u001b[39m\n\u001b[1;32m   1549\u001b[0m \u001b[38;5;28;01melse\u001b[39;00m:\n\u001b[0;32m-> 1550\u001b[0m     ext \u001b[38;5;241m=\u001b[39m \u001b[43minspect_excel_format\u001b[49m\u001b[43m(\u001b[49m\n\u001b[1;32m   1551\u001b[0m \u001b[43m        \u001b[49m\u001b[43mcontent_or_path\u001b[49m\u001b[38;5;241;43m=\u001b[39;49m\u001b[43mpath_or_buffer\u001b[49m\u001b[43m,\u001b[49m\u001b[43m \u001b[49m\u001b[43mstorage_options\u001b[49m\u001b[38;5;241;43m=\u001b[39;49m\u001b[43mstorage_options\u001b[49m\n\u001b[1;32m   1552\u001b[0m \u001b[43m    \u001b[49m\u001b[43m)\u001b[49m\n\u001b[1;32m   1553\u001b[0m     \u001b[38;5;28;01mif\u001b[39;00m ext \u001b[38;5;129;01mis\u001b[39;00m \u001b[38;5;28;01mNone\u001b[39;00m:\n\u001b[1;32m   1554\u001b[0m         \u001b[38;5;28;01mraise\u001b[39;00m \u001b[38;5;167;01mValueError\u001b[39;00m(\n\u001b[1;32m   1555\u001b[0m             \u001b[38;5;124m\"\u001b[39m\u001b[38;5;124mExcel file format cannot be determined, you must specify \u001b[39m\u001b[38;5;124m\"\u001b[39m\n\u001b[1;32m   1556\u001b[0m             \u001b[38;5;124m\"\u001b[39m\u001b[38;5;124man engine manually.\u001b[39m\u001b[38;5;124m\"\u001b[39m\n\u001b[1;32m   1557\u001b[0m         )\n",
      "File \u001b[0;32m~/.local/lib/python3.10/site-packages/pandas/io/excel/_base.py:1402\u001b[0m, in \u001b[0;36minspect_excel_format\u001b[0;34m(content_or_path, storage_options)\u001b[0m\n\u001b[1;32m   1399\u001b[0m \u001b[38;5;28;01mif\u001b[39;00m \u001b[38;5;28misinstance\u001b[39m(content_or_path, \u001b[38;5;28mbytes\u001b[39m):\n\u001b[1;32m   1400\u001b[0m     content_or_path \u001b[38;5;241m=\u001b[39m BytesIO(content_or_path)\n\u001b[0;32m-> 1402\u001b[0m \u001b[38;5;28;01mwith\u001b[39;00m \u001b[43mget_handle\u001b[49m\u001b[43m(\u001b[49m\n\u001b[1;32m   1403\u001b[0m \u001b[43m    \u001b[49m\u001b[43mcontent_or_path\u001b[49m\u001b[43m,\u001b[49m\u001b[43m \u001b[49m\u001b[38;5;124;43m\"\u001b[39;49m\u001b[38;5;124;43mrb\u001b[39;49m\u001b[38;5;124;43m\"\u001b[39;49m\u001b[43m,\u001b[49m\u001b[43m \u001b[49m\u001b[43mstorage_options\u001b[49m\u001b[38;5;241;43m=\u001b[39;49m\u001b[43mstorage_options\u001b[49m\u001b[43m,\u001b[49m\u001b[43m \u001b[49m\u001b[43mis_text\u001b[49m\u001b[38;5;241;43m=\u001b[39;49m\u001b[38;5;28;43;01mFalse\u001b[39;49;00m\n\u001b[1;32m   1404\u001b[0m \u001b[43m\u001b[49m\u001b[43m)\u001b[49m \u001b[38;5;28;01mas\u001b[39;00m handle:\n\u001b[1;32m   1405\u001b[0m     stream \u001b[38;5;241m=\u001b[39m handle\u001b[38;5;241m.\u001b[39mhandle\n\u001b[1;32m   1406\u001b[0m     stream\u001b[38;5;241m.\u001b[39mseek(\u001b[38;5;241m0\u001b[39m)\n",
      "File \u001b[0;32m~/.local/lib/python3.10/site-packages/pandas/io/common.py:882\u001b[0m, in \u001b[0;36mget_handle\u001b[0;34m(path_or_buf, mode, encoding, compression, memory_map, is_text, errors, storage_options)\u001b[0m\n\u001b[1;32m    873\u001b[0m         handle \u001b[38;5;241m=\u001b[39m \u001b[38;5;28mopen\u001b[39m(\n\u001b[1;32m    874\u001b[0m             handle,\n\u001b[1;32m    875\u001b[0m             ioargs\u001b[38;5;241m.\u001b[39mmode,\n\u001b[0;32m   (...)\u001b[0m\n\u001b[1;32m    878\u001b[0m             newline\u001b[38;5;241m=\u001b[39m\u001b[38;5;124m\"\u001b[39m\u001b[38;5;124m\"\u001b[39m,\n\u001b[1;32m    879\u001b[0m         )\n\u001b[1;32m    880\u001b[0m     \u001b[38;5;28;01melse\u001b[39;00m:\n\u001b[1;32m    881\u001b[0m         \u001b[38;5;66;03m# Binary mode\u001b[39;00m\n\u001b[0;32m--> 882\u001b[0m         handle \u001b[38;5;241m=\u001b[39m \u001b[38;5;28;43mopen\u001b[39;49m\u001b[43m(\u001b[49m\u001b[43mhandle\u001b[49m\u001b[43m,\u001b[49m\u001b[43m \u001b[49m\u001b[43mioargs\u001b[49m\u001b[38;5;241;43m.\u001b[39;49m\u001b[43mmode\u001b[49m\u001b[43m)\u001b[49m\n\u001b[1;32m    883\u001b[0m     handles\u001b[38;5;241m.\u001b[39mappend(handle)\n\u001b[1;32m    885\u001b[0m \u001b[38;5;66;03m# Convert BytesIO or file objects passed with an encoding\u001b[39;00m\n",
      "\u001b[0;31mFileNotFoundError\u001b[0m: [Errno 2] No such file or directory: 'dados_euca3.xlsx'"
     ]
    }
   ],
   "source": [
    "#gabarito 65 \n",
    "\n",
    "dados_euca3 = pd.read_excel('dados_euca3.xlsx', na_values = \"nd\")\n",
    "\n",
    "dados_euca3_tratado = dados_euca3.fillna(method = 'ffill', limit = 2)\n",
    "\n",
    "dados_euca3_tratado.tail(50)"
   ]
  },
  {
   "cell_type": "markdown",
   "id": "869185c8",
   "metadata": {},
   "source": [
    "# Mundo 17 \n",
    "\n",
    "Para seguir nosso aprendizado no tratamento de dados, temos que aprender a lidar com valores duplicados dentro dos nossos dataframes. Como podemos, por exemplo, selecionar o código de negociação com maior liquidez em um dia específico?"
   ]
  }
 ],
 "metadata": {
  "kernelspec": {
   "display_name": "Python 3",
   "language": "python",
   "name": "python3"
  },
  "language_info": {
   "codemirror_mode": {
    "name": "ipython",
    "version": 3
   },
   "file_extension": ".py",
   "mimetype": "text/x-python",
   "name": "python",
   "nbconvert_exporter": "python",
   "pygments_lexer": "ipython3",
   "version": "3.10.12"
  },
  "vscode": {
   "interpreter": {
    "hash": "916dbcbb3f70747c44a77c7bcd40155683ae19c65e1c03b4aa3499c5328201f1"
   }
  }
 },
 "nbformat": 4,
 "nbformat_minor": 5
}
