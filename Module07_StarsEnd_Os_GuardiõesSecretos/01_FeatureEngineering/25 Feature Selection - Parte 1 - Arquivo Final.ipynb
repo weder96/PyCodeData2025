{
 "cells": [
  {
   "cell_type": "markdown",
   "id": "749c4794",
   "metadata": {},
   "source": [
    "# Feature Selection\n",
    "- É o processo de selecionar as colunas (recursos / features) **mais importantes** para o modelo e **eliminar tudo que for desnecessário**\n",
    "- **Quanto mais recursos**:\n",
    "    - Maior o **tempo** de processamento\n",
    "    - Maior a chance do modelo sofrer **overfitting** (não ser generalizável)\n",
    "    - Adicionar **ruído** devido a alguma feature\n",
    "    - Mais informações para **monitorar em produção** (aumento do **custo** de monitoramento)\n",
    "    \n",
    "    \n",
    "- O próprio **Scikit-Learn** já oferece **ferramentas para fazermos a seleção de features**\n",
    "    - https://scikit-learn.org/stable/modules/feature_selection.html\n",
    "    \n",
    "\n",
    "- Podemos fazer a seleção das features:\n",
    "    - **Selecionando aquelas mais relacionadas ao target** através de métodos estatísticos\n",
    "    - **separando subsets contendo parte das features e testando sua performance no próprio modelo** \n",
    "        - por exemplo, pego metade das features e vejo o resultado, depois pego metade + 1, ...  \n",
    "    - **Utilizando modelos que já possuem métodos de penalização e seleção de features**"
   ]
  },
  {
   "cell_type": "markdown",
   "id": "4a84a34a",
   "metadata": {},
   "source": [
    "## Remoção de features com baixa variância\n",
    "- https://scikit-learn.org/stable/modules/generated/sklearn.feature_selection.VarianceThreshold.html#sklearn.feature_selection.VarianceThreshold\n",
    "- **Variância: mede o quanto os dados estão dispersos em relação a média**\n",
    "    - Se a **variância for zero, todos os registros possuem exatamente o mesmo valor**\n",
    "    - O **desvio padrão (std)** é a raiz quadrada da variância\n",
    "- O **`VarianceThreshold`** vai **remover todos os recursos em que a variância não chegue até um certo limite**\n",
    "    - Por padrão, remove tudo que a variância for igual a zero\n",
    "- Analisa **apenas os recursos (X)**, sem considerar o target (y)\n",
    "    - Pode ser usado em aprendizado não supervisionado"
   ]
  },
  {
   "cell_type": "code",
   "execution_count": 2,
   "id": "3dff69c5",
   "metadata": {},
   "outputs": [
    {
     "data": {
      "text/html": [
       "<div>\n",
       "<style scoped>\n",
       "    .dataframe tbody tr th:only-of-type {\n",
       "        vertical-align: middle;\n",
       "    }\n",
       "\n",
       "    .dataframe tbody tr th {\n",
       "        vertical-align: top;\n",
       "    }\n",
       "\n",
       "    .dataframe thead th {\n",
       "        text-align: right;\n",
       "    }\n",
       "</style>\n",
       "<table border=\"1\" class=\"dataframe\">\n",
       "  <thead>\n",
       "    <tr style=\"text-align: right;\">\n",
       "      <th></th>\n",
       "      <th>0</th>\n",
       "      <th>1</th>\n",
       "      <th>2</th>\n",
       "      <th>3</th>\n",
       "    </tr>\n",
       "  </thead>\n",
       "  <tbody>\n",
       "    <tr>\n",
       "      <th>0</th>\n",
       "      <td>0</td>\n",
       "      <td>2</td>\n",
       "      <td>0</td>\n",
       "      <td>3</td>\n",
       "    </tr>\n",
       "    <tr>\n",
       "      <th>1</th>\n",
       "      <td>0</td>\n",
       "      <td>1</td>\n",
       "      <td>4</td>\n",
       "      <td>3</td>\n",
       "    </tr>\n",
       "    <tr>\n",
       "      <th>2</th>\n",
       "      <td>0</td>\n",
       "      <td>1</td>\n",
       "      <td>1</td>\n",
       "      <td>3</td>\n",
       "    </tr>\n",
       "  </tbody>\n",
       "</table>\n",
       "</div>"
      ],
      "text/plain": [
       "   0  1  2  3\n",
       "0  0  2  0  3\n",
       "1  0  1  4  3\n",
       "2  0  1  1  3"
      ]
     },
     "execution_count": 2,
     "metadata": {},
     "output_type": "execute_result"
    }
   ],
   "source": [
    "# Sendo o dataset\n",
    "import pandas as pd\n",
    "\n",
    "X = pd.DataFrame([[0, 2, 0, 3], [0, 1, 4, 3], [0, 1, 1, 3]])\n",
    "\n",
    "X"
   ]
  },
  {
   "cell_type": "code",
   "execution_count": 3,
   "id": "86294c23",
   "metadata": {},
   "outputs": [
    {
     "data": {
      "text/html": [
       "<div>\n",
       "<style scoped>\n",
       "    .dataframe tbody tr th:only-of-type {\n",
       "        vertical-align: middle;\n",
       "    }\n",
       "\n",
       "    .dataframe tbody tr th {\n",
       "        vertical-align: top;\n",
       "    }\n",
       "\n",
       "    .dataframe thead th {\n",
       "        text-align: right;\n",
       "    }\n",
       "</style>\n",
       "<table border=\"1\" class=\"dataframe\">\n",
       "  <thead>\n",
       "    <tr style=\"text-align: right;\">\n",
       "      <th></th>\n",
       "      <th>0</th>\n",
       "      <th>1</th>\n",
       "      <th>2</th>\n",
       "      <th>3</th>\n",
       "    </tr>\n",
       "  </thead>\n",
       "  <tbody>\n",
       "    <tr>\n",
       "      <th>count</th>\n",
       "      <td>3.0</td>\n",
       "      <td>3.000000</td>\n",
       "      <td>3.000000</td>\n",
       "      <td>3.0</td>\n",
       "    </tr>\n",
       "    <tr>\n",
       "      <th>mean</th>\n",
       "      <td>0.0</td>\n",
       "      <td>1.333333</td>\n",
       "      <td>1.666667</td>\n",
       "      <td>3.0</td>\n",
       "    </tr>\n",
       "    <tr>\n",
       "      <th>std</th>\n",
       "      <td>0.0</td>\n",
       "      <td>0.577350</td>\n",
       "      <td>2.081666</td>\n",
       "      <td>0.0</td>\n",
       "    </tr>\n",
       "    <tr>\n",
       "      <th>min</th>\n",
       "      <td>0.0</td>\n",
       "      <td>1.000000</td>\n",
       "      <td>0.000000</td>\n",
       "      <td>3.0</td>\n",
       "    </tr>\n",
       "    <tr>\n",
       "      <th>25%</th>\n",
       "      <td>0.0</td>\n",
       "      <td>1.000000</td>\n",
       "      <td>0.500000</td>\n",
       "      <td>3.0</td>\n",
       "    </tr>\n",
       "    <tr>\n",
       "      <th>50%</th>\n",
       "      <td>0.0</td>\n",
       "      <td>1.000000</td>\n",
       "      <td>1.000000</td>\n",
       "      <td>3.0</td>\n",
       "    </tr>\n",
       "    <tr>\n",
       "      <th>75%</th>\n",
       "      <td>0.0</td>\n",
       "      <td>1.500000</td>\n",
       "      <td>2.500000</td>\n",
       "      <td>3.0</td>\n",
       "    </tr>\n",
       "    <tr>\n",
       "      <th>max</th>\n",
       "      <td>0.0</td>\n",
       "      <td>2.000000</td>\n",
       "      <td>4.000000</td>\n",
       "      <td>3.0</td>\n",
       "    </tr>\n",
       "  </tbody>\n",
       "</table>\n",
       "</div>"
      ],
      "text/plain": [
       "         0         1         2    3\n",
       "count  3.0  3.000000  3.000000  3.0\n",
       "mean   0.0  1.333333  1.666667  3.0\n",
       "std    0.0  0.577350  2.081666  0.0\n",
       "min    0.0  1.000000  0.000000  3.0\n",
       "25%    0.0  1.000000  0.500000  3.0\n",
       "50%    0.0  1.000000  1.000000  3.0\n",
       "75%    0.0  1.500000  2.500000  3.0\n",
       "max    0.0  2.000000  4.000000  3.0"
      ]
     },
     "execution_count": 3,
     "metadata": {},
     "output_type": "execute_result"
    }
   ],
   "source": [
    "# Podemos visualizar as informações estatísticas\n",
    "X.describe()"
   ]
  },
  {
   "cell_type": "code",
   "execution_count": 4,
   "id": "ad6d4d23",
   "metadata": {},
   "outputs": [],
   "source": [
    "# Importando o VarianceThreshold\n",
    "from sklearn.feature_selection import VarianceThreshold"
   ]
  },
  {
   "cell_type": "code",
   "execution_count": 5,
   "id": "7de07251",
   "metadata": {},
   "outputs": [],
   "source": [
    "# Criando o seletor \n",
    "selector = VarianceThreshold()"
   ]
  },
  {
   "cell_type": "code",
   "execution_count": 6,
   "id": "0349a7ef",
   "metadata": {},
   "outputs": [],
   "source": [
    "# Fazendo o fit com os dados\n",
    "selector = selector.fit(X)"
   ]
  },
  {
   "cell_type": "code",
   "execution_count": 7,
   "id": "f5dfa3c7",
   "metadata": {},
   "outputs": [
    {
     "data": {
      "text/plain": [
       "array([[2, 0],\n",
       "       [1, 4],\n",
       "       [1, 1]], dtype=int64)"
      ]
     },
     "execution_count": 7,
     "metadata": {},
     "output_type": "execute_result"
    }
   ],
   "source": [
    "# Fazendo a transformação\n",
    "selector.transform(X)"
   ]
  },
  {
   "cell_type": "markdown",
   "id": "b5403c98",
   "metadata": {},
   "source": [
    "- **Agora vamos considerar esse novo dataset**"
   ]
  },
  {
   "cell_type": "code",
   "execution_count": null,
   "id": "8877cf4f",
   "metadata": {},
   "outputs": [],
   "source": [
    "# Considerando esse novo dataset\n",
    "X2 = pd.DataFrame([[0, 0, 1], [0, 1, 0],[0, 0, 1], [1, 0, 0], [0, 1, 1],[0, 0, 1],[0, 1, 1], [0, 1, 0], [0, 1, 1],[0, 0, 1]])\n",
    "\n",
    "X2"
   ]
  },
  {
   "cell_type": "code",
   "execution_count": null,
   "id": "7cddcda5",
   "metadata": {},
   "outputs": [],
   "source": [
    "# Criando o seletor "
   ]
  },
  {
   "cell_type": "code",
   "execution_count": null,
   "id": "5d8a6c9d",
   "metadata": {},
   "outputs": [],
   "source": [
    "# Fazendo o fit com os dados"
   ]
  },
  {
   "cell_type": "code",
   "execution_count": null,
   "id": "dac19c1e",
   "metadata": {},
   "outputs": [],
   "source": [
    "# Fazendo a transformação"
   ]
  },
  {
   "cell_type": "markdown",
   "id": "8be0aa74",
   "metadata": {},
   "source": [
    "- **Os dados estão iguais pois nenhum deles tem variância zero!**"
   ]
  },
  {
   "cell_type": "code",
   "execution_count": null,
   "id": "0cd97dc2",
   "metadata": {},
   "outputs": [],
   "source": [
    "# Visualizando as informações estatísticas"
   ]
  },
  {
   "cell_type": "code",
   "execution_count": null,
   "id": "c17823c2",
   "metadata": {},
   "outputs": [],
   "source": [
    "# Visualizando a variância"
   ]
  },
  {
   "cell_type": "code",
   "execution_count": null,
   "id": "ee1b639f",
   "metadata": {},
   "outputs": [],
   "source": [
    "# Fazendo o cálculo da variância"
   ]
  },
  {
   "cell_type": "code",
   "execution_count": null,
   "id": "327f56e6",
   "metadata": {},
   "outputs": [],
   "source": [
    "# Criando o seletor com limite de 0.15"
   ]
  },
  {
   "cell_type": "code",
   "execution_count": null,
   "id": "8bc87923",
   "metadata": {},
   "outputs": [],
   "source": [
    "# Fazendo o fit com os dados"
   ]
  },
  {
   "cell_type": "code",
   "execution_count": null,
   "id": "6f254ca2",
   "metadata": {},
   "outputs": [],
   "source": [
    "# Fazendo a transformação"
   ]
  }
 ],
 "metadata": {
  "kernelspec": {
   "display_name": "Python 3 (ipykernel)",
   "language": "python",
   "name": "python3"
  },
  "language_info": {
   "codemirror_mode": {
    "name": "ipython",
    "version": 3
   },
   "file_extension": ".py",
   "mimetype": "text/x-python",
   "name": "python",
   "nbconvert_exporter": "python",
   "pygments_lexer": "ipython3",
   "version": "3.9.13"
  }
 },
 "nbformat": 4,
 "nbformat_minor": 5
}
