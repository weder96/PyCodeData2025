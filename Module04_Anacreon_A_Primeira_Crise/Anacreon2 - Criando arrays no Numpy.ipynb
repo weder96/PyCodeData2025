{
  "cells": [
    {
      "cell_type": "markdown",
      "id": "311722ca",
      "metadata": {
        "id": "311722ca"
      },
      "source": [
        "# Anacreon 2"
      ]
    },
    {
      "cell_type": "code",
      "execution_count": 3,
      "id": "25cf728a",
      "metadata": {
        "id": "25cf728a"
      },
      "outputs": [],
      "source": [
        "import numpy as np"
      ]
    },
    {
      "cell_type": "code",
      "execution_count": null,
      "id": "6e5334ef",
      "metadata": {
        "id": "6e5334ef"
      },
      "outputs": [],
      "source": [
        "#a partir de uma lista ou tupla\n",
        "\n",
        "lista = [1, 2, 3, 4]\n",
        "\n",
        "tupla = (1, 2, 3, 4)\n",
        "\n",
        "array_a_partir_de_lista = np.array(lista)\n",
        "\n",
        "array_a_partir_de_tupla = np.array(tupla)\n",
        "\n",
        "print(array_a_partir_de_tupla)"
      ]
    },
    {
      "cell_type": "code",
      "execution_count": null,
      "id": "42f6384a",
      "metadata": {
        "id": "42f6384a"
      },
      "outputs": [],
      "source": [
        "#usando um range\n",
        "\n",
        "array_simples = np.arange(10)\n",
        "\n",
        "array_sequencial = np.arange(10, 100, 10)\n",
        "\n",
        "array_simples, array_sequencial"
      ]
    },
    {
      "cell_type": "code",
      "execution_count": null,
      "id": "bcfd3ce0",
      "metadata": {
        "id": "bcfd3ce0",
        "outputId": "9126cd08-2d24-4579-8542-f483a0597389"
      },
      "outputs": [
        {
          "data": {
            "text/plain": [
              "(array([0., 0., 0., 0., 0.]), array([1., 1., 1., 1., 1.]))"
            ]
          },
          "execution_count": 11,
          "metadata": {},
          "output_type": "execute_result"
        }
      ],
      "source": [
        "#criando arrays de zeros ou ums\n",
        "\n",
        "vetor_zero = np.zeros(5)\n",
        "vetor_um = np.ones(5)\n",
        "\n",
        "vetor_zero, vetor_um"
      ]
    },
    {
      "cell_type": "code",
      "execution_count": null,
      "id": "b3a60622",
      "metadata": {
        "id": "b3a60622",
        "outputId": "635f8160-d422-4711-a179-45b15a9a51fb"
      },
      "outputs": [
        {
          "name": "stdout",
          "output_type": "stream",
          "text": [
            "[[0.86780977 0.27514333]\n",
            " [0.710473   0.34251492]\n",
            " [0.33814048 0.78214966]]\n",
            "[8 0 6]\n",
            "[0.25929168 0.13687392 1.17357021]\n"
          ]
        }
      ],
      "source": [
        "#criando vetores aleatórios\n",
        "\n",
        "vetor_aleatorio_entre_0_1 = np.random.rand(3, 2)\n",
        "vetor_aleatorio_inteiro = np.random.randint(low = 0, high = 10, size = 3)\n",
        "vetor_aleatorio_com_negativos = np.random.uniform(-2, 2, 3)\n",
        "\n",
        "print(vetor_aleatorio_entre_0_1)\n",
        "print(vetor_aleatorio_inteiro)\n",
        "print(vetor_aleatorio_com_negativos)"
      ]
    },
    {
      "cell_type": "code",
      "execution_count": null,
      "id": "be8e7bff",
      "metadata": {
        "id": "be8e7bff",
        "outputId": "f9029a18-ca2c-48ac-804a-0ef9db88be6d"
      },
      "outputs": [
        {
          "data": {
            "text/plain": [
              "(array([[1, 2, 3],\n",
              "        [4, 5, 6]]),\n",
              " array([[1, 2, 3],\n",
              "        [4, 5, 6],\n",
              "        [7, 8, 9]]))"
            ]
          },
          "execution_count": 15,
          "metadata": {},
          "output_type": "execute_result"
        }
      ],
      "source": [
        "#criando arrays bi ou tridimensionais\n",
        "\n",
        "lista1 = [1, 2, 3]\n",
        "lista2 = [4, 5, 6]\n",
        "lista3 = [7, 8, 9]\n",
        "\n",
        "array2d = np.array([lista1, lista2])\n",
        "\n",
        "array3d = np.array([lista1, lista2, lista3])\n",
        "\n",
        "array2d, array3d"
      ]
    },
    {
      "cell_type": "code",
      "execution_count": null,
      "id": "b7686c88",
      "metadata": {
        "id": "b7686c88",
        "outputId": "2576e0c3-2cde-4f08-b2c2-f329369bae0a"
      },
      "outputs": [
        {
          "data": {
            "text/plain": [
              "matrix([[20, 30],\n",
              "        [90, 80]])"
            ]
          },
          "execution_count": 16,
          "metadata": {},
          "output_type": "execute_result"
        }
      ],
      "source": [
        "#criando matrizes\n",
        "\n",
        "matriz = np.matrix([[20, 30], [90, 80]])\n",
        "\n",
        "matriz"
      ]
    },
    {
      "cell_type": "code",
      "execution_count": null,
      "id": "5f634e27",
      "metadata": {
        "id": "5f634e27",
        "outputId": "5041e831-aee4-42ee-9b5b-3fafba5a34ff"
      },
      "outputs": [
        {
          "name": "stdout",
          "output_type": "stream",
          "text": [
            "[1, 1, 1, 1, 1, 1, 1, 1]\n",
            "[2 2 2 2]\n"
          ]
        }
      ],
      "source": [
        "#listas x numpy\n",
        "\n",
        "lista_1 = [1, 1, 1, 1]\n",
        "lista_2 = [1, 1, 1, 1]\n",
        "\n",
        "print(lista_1 + lista_2)\n",
        "print(np.array(lista_1) + np.array(lista_2))"
      ]
    },
    {
      "cell_type": "code",
      "execution_count": 1,
      "id": "c163d571",
      "metadata": {
        "id": "c163d571",
        "outputId": "c3cd4b6b-d054-4155-eb85-679d6e8f6d4c"
      },
      "outputs": [
        {
          "name": "stdout",
          "output_type": "stream",
          "text": [
            "2.1396653020001395 0.08183690499936347\n",
            "Os vetores são 26.145481699445767 vezes mais rápidos.\n"
          ]
        }
      ],
      "source": [
        "#teste lista x numpy\n",
        "\n",
        "import timeit\n",
        "\n",
        "#listas\n",
        "\n",
        "tempo_listas = timeit.timeit('''X = range(1000); Y = range(1000); [X[i] + Y[i] for i in range(len(X))]''', \n",
        "                             number = 10000)\n",
        "                                \n",
        "#vetores\n",
        "\n",
        "tempo_vetor = timeit.timeit('''X = np.arange(1000);Y = np.arange(1000);X + Y''', number = 10000,\n",
        "                             setup=\"import numpy as np\")\n",
        "                                \n",
        "                             \n",
        "\n",
        "print(tempo_listas, tempo_vetor)\n",
        "print(f\"Os vetores são {tempo_listas/tempo_vetor} vezes mais rápidos.\")\n",
        "#print(\"Numpy nesse caso é \" + str(t1/t2) + \" mais rápido!\")"
      ]
    },
    {
      "cell_type": "markdown",
      "id": "0e515fec",
      "metadata": {
        "id": "0e515fec"
      },
      "source": [
        "# Exercícios\n",
        "\n",
        "* Exercício 01: Peça pro usuário inputar a cotação de 3 ações. Crie um array de cotações.\n",
        "* Exercício 02: Peça pro usuário digitar dois números no programa e crie um arrange sequencial entre esse números.\n",
        "* Exercício 03: Crie um programa que gere numeros aleatórios inteiros entre 0 e 60 e devolva 6 números da mega sena pro usuário. Depois, exiba uma probabilidade aleatória de o usuário sair vencedor. Garanta que sejam 6 números diferentes!"
      ]
    },
    {
      "cell_type": "code",
      "execution_count": 4,
      "id": "ccd19442",
      "metadata": {
        "id": "ccd19442",
        "outputId": "da3600c9-397d-45b2-9c7b-980593df1c74"
      },
      "outputs": [
        {
          "name": "stdout",
          "output_type": "stream",
          "text": [
            "[100. 200. 300.]\n"
          ]
        }
      ],
      "source": [
        "acao1 = float(input(\"Digite a cotação da primeira ação: \"))\n",
        "acao2 = float(input(\"Digite a cotação da segunda ação: \"))\n",
        "acao3 = float(input(\"Digite a cotação da terceira ação: \"))\n",
        "\n",
        "array = np.array([acao1, acao2, acao3])\n",
        "\n",
        "print(array)"
      ]
    },
    {
      "cell_type": "code",
      "execution_count": 5,
      "id": "9161a015",
      "metadata": {
        "id": "9161a015",
        "outputId": "7cf5b1f4-e8fd-4abd-b202-46737d66f144"
      },
      "outputs": [
        {
          "data": {
            "text/plain": [
              "array([200., 201., 202., 203., 204., 205., 206., 207., 208., 209., 210.,\n",
              "       211., 212., 213., 214., 215., 216., 217., 218., 219., 220., 221.,\n",
              "       222., 223., 224., 225., 226., 227., 228., 229., 230., 231., 232.,\n",
              "       233., 234., 235., 236., 237., 238., 239., 240., 241., 242., 243.,\n",
              "       244., 245., 246., 247., 248., 249., 250., 251., 252., 253., 254.,\n",
              "       255., 256., 257., 258., 259., 260., 261., 262., 263., 264., 265.,\n",
              "       266., 267., 268., 269., 270., 271., 272., 273., 274., 275., 276.,\n",
              "       277., 278., 279., 280., 281., 282., 283., 284., 285., 286., 287.,\n",
              "       288., 289., 290., 291., 292., 293., 294., 295., 296., 297., 298.,\n",
              "       299.])"
            ]
          },
          "execution_count": 5,
          "metadata": {},
          "output_type": "execute_result"
        }
      ],
      "source": [
        "inicio_sequencia = float(input(\"Digite o primeiro número: \"))\n",
        "final_sequencia = float(input(\"Digite o segundo número: \"))\n",
        "\n",
        "sequencia = np.arange(inicio_sequencia, final_sequencia)\n",
        "\n",
        "sequencia"
      ]
    },
    {
      "cell_type": "code",
      "execution_count": 6,
      "id": "dd02c1af",
      "metadata": {
        "id": "dd02c1af",
        "outputId": "78bb0c5b-02f8-453f-c5a4-8ebab99dc631"
      },
      "outputs": [
        {
          "name": "stdout",
          "output_type": "stream",
          "text": [
            "Seguem os números da mega sena: [np.int64(41), np.int64(59), np.int64(6), np.int64(33), np.int64(40), np.int64(36)]. A probabilidade de vitória é de 0.13645183798400085\n"
          ]
        }
      ],
      "source": [
        "lista_numeros = []\n",
        "\n",
        "lista_numeros.append(np.random.randint(0, 60, 1)[0])\n",
        "\n",
        "while len(lista_numeros) < 6:\n",
        "\n",
        "    mega_sena = np.random.randint(0, 60, 1)\n",
        "\n",
        "    if mega_sena not in lista_numeros:\n",
        "\n",
        "        lista_numeros.append(mega_sena[0])\n",
        "\n",
        "probabilidade_vitoria = np.random.rand(1)[0]\n",
        "\n",
        "print(f\"Seguem os números da mega sena: {lista_numeros}. A probabilidade de vitória é de {probabilidade_vitoria}\")"
      ]
    },
    {
      "cell_type": "markdown",
      "id": "c838dd8f",
      "metadata": {
        "id": "c838dd8f"
      },
      "source": [
        "# Anacreon 3\n",
        "\n",
        "Agora que você já aprendeu sobre como criar vetores, vamos aprender quais características esses vetores possuem através dos seus atributos!\n"
      ]
    }
  ],
  "metadata": {
    "colab": {
      "name": "Mundo 2.ipynb",
      "provenance": []
    },
    "kernelspec": {
      "display_name": "Python 3",
      "language": "python",
      "name": "python3"
    },
    "language_info": {
      "codemirror_mode": {
        "name": "ipython",
        "version": 3
      },
      "file_extension": ".py",
      "mimetype": "text/x-python",
      "name": "python",
      "nbconvert_exporter": "python",
      "pygments_lexer": "ipython3",
      "version": "3.10.12"
    }
  },
  "nbformat": 4,
  "nbformat_minor": 5
}
