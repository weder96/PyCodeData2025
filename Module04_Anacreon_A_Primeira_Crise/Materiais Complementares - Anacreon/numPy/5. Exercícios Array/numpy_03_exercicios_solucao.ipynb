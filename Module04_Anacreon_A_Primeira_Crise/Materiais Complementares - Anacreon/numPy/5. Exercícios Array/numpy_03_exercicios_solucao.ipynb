{
 "cells": [
  {
   "cell_type": "markdown",
   "metadata": {},
   "source": [
    "## Exercício 1\n",
    "\n",
    "Você é um gerente de vendas e tem os dados de vendas de um produto para os últimos 7 dias em uma lista: `[127, 90, 201, 150, 210, 220, 115]`. Calcule a média de vendas durante a semana."
   ]
  },
  {
   "cell_type": "code",
   "execution_count": 1,
   "metadata": {
    "collapsed": false,
    "jupyter": {
     "outputs_hidden": false
    }
   },
   "outputs": [
    {
     "name": "stdout",
     "output_type": "stream",
     "text": [
      "A média de vendas durante a semana foi de 159.0 unidades por dia.\n"
     ]
    }
   ],
   "source": [
    "import numpy as np\n",
    "\n",
    "dados = [127, 90, 201, 150, 210, 220, 115]\n",
    "\n",
    "vendas = np.array(dados)\n",
    "media_vendas = np.mean(vendas)\n",
    "print(f\"A média de vendas durante a semana foi de {media_vendas} unidades por dia.\")"
   ]
  },
  {
   "cell_type": "markdown",
   "metadata": {},
   "source": [
    "## Exercício 2\n",
    "\n",
    "Você é um analista financeiro e tem os preços de fechamento diário de uma ação para a última semana em um array NumPy: `precos = np.array([31.40, 31.25, 30.95, 31.20, 31.60, 31.50])`. Calcule o preço máximo, mínimo e a variação de preço durante a semana."
   ]
  },
  {
   "cell_type": "code",
   "execution_count": 4,
   "metadata": {
    "collapsed": false,
    "jupyter": {
     "outputs_hidden": false
    }
   },
   "outputs": [
    {
     "name": "stdout",
     "output_type": "stream",
     "text": [
      "O preço máximo foi 31.60, o mínimo foi 30.95 e a variação de preço foi 0.65.\n"
     ]
    }
   ],
   "source": [
    "import numpy as np\n",
    "\n",
    "precos = np.array([31.40, 31.25, 30.95, 31.20, 31.60, 31.50])\n",
    "preco_maximo = np.max(precos)\n",
    "preco_minimo = np.min(precos)\n",
    "variacao_preco = preco_maximo - preco_minimo\n",
    "print(f\"O preço máximo foi {preco_maximo:.2f}, o mínimo foi {preco_minimo:.2f} e a variação de preço foi {variacao_preco:.2f}.\") "
   ]
  },
  {
   "cell_type": "markdown",
   "metadata": {},
   "source": [
    "## Exercício 3\n",
    "\n",
    "Sua loja vendeu em um dia 5 unidades do *Produto A*, 3 unidades do *Produto B* e 2 unidades do *Produto C*. Os preços dos produtos são, respectivamente, 100, 200 e 50 reais. Calcule o total de vendas do dia."
   ]
  },
  {
   "cell_type": "code",
   "execution_count": 3,
   "metadata": {},
   "outputs": [
    {
     "name": "stdout",
     "output_type": "stream",
     "text": [
      "O total de vendas do dia é R$ 1200.\n"
     ]
    }
   ],
   "source": [
    "import numpy as np\n",
    "\n",
    "quantidades = np.array([5, 3, 2])\n",
    "precos = np.array([100, 200, 50])\n",
    "total_vendas = np.dot(quantidades, precos)\n",
    "print(f\"O total de vendas do dia é R$ {total_vendas}.\")"
   ]
  }
 ],
 "metadata": {
  "kernelspec": {
   "display_name": "Python 3 (ipykernel)",
   "language": "python",
   "name": "python3"
  },
  "language_info": {
   "codemirror_mode": {
    "name": "ipython",
    "version": 3
   },
   "file_extension": ".py",
   "mimetype": "text/x-python",
   "name": "python",
   "nbconvert_exporter": "python",
   "pygments_lexer": "ipython3",
   "version": "3.10.11"
  }
 },
 "nbformat": 4,
 "nbformat_minor": 4
}
