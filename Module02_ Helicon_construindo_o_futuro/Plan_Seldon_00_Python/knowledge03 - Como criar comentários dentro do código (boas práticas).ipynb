{
 "cells": [
  {
   "cell_type": "markdown",
   "id": "d246e8c6",
   "metadata": {},
   "source": [
    "# Knowledge 3\n",
    "\n",
    "Nesse Knowledge 3 nós iremos falar sobre algo que pode ser utilizado pro bem ou pro mal dentro do seu código: comentários. Como você pode digitar\n",
    "coisas dentro do seu código, sem que o programa execute? Qual a melhor forma de usar comentários pro seu código não ficar um lixo,\n",
    "lotado de texto que mais confunde que ajuda? "
   ]
  },
  {
   "cell_type": "code",
   "execution_count": 4,
   "id": "4ac995ca",
   "metadata": {},
   "outputs": [
    {
     "name": "stdout",
     "output_type": "stream",
     "text": [
      "2\n"
     ]
    }
   ],
   "source": [
    "#comentar assim\n",
    "\n",
    "a = 2\n",
    "\n",
    "'''\n",
    "comentar assim\n",
    "apofjsiajf\n",
    "lsdafjsldkf\n",
    "dsfkjsd\n",
    "'''\n",
    "\n",
    "print(a)"
   ]
  },
  {
   "cell_type": "markdown",
   "id": "5510c2dd",
   "metadata": {},
   "source": [
    "## Boas práticas de comentários\n",
    "\n",
    "Vai ter uma aula só sobre código limpo em breve, mas comentários quanto MENOS melhor, ok? \n",
    "Toda vez que você tem que comentar algo você falhou como programador ao  gerar um código mto complexo ou com nomes HORROROROS."
   ]
  },
  {
   "cell_type": "code",
   "execution_count": 2,
   "id": "5e46fe4a",
   "metadata": {},
   "outputs": [],
   "source": [
    "#exemplo de comentário ruim:\n",
    "\n",
    "#as variáveis a e b representam quantas vezes o palmeiras e o flamengo ganharam no campeonao brasileiro, respectivamente.\n",
    "\n",
    "a = 2\n",
    "b = 4\n",
    "#c = 4\n",
    "\n",
    "#correto:\n",
    "\n",
    "vitorias_palmeiras = 2\n",
    "vitorias_flamengo = 4"
   ]
  },
  {
   "cell_type": "markdown",
   "id": "f1ba129e",
   "metadata": {},
   "source": [
    "Os comentários quebram o código, são linhas \"opacas\" e interrompem o fluxo de raciocínio envolvendo o código. \n",
    "\n",
    "O número ideal de comentarios é ZERO. Comentar uma coisa ou outra esporádicamente pra te lembrar algo é ok, ou explicar momentaneamente enquanto vc nao encontrou bons nomes.\n",
    "\n",
    "NUNCA comentar código em algoritmos finais. Em códigos extensos e de projetos complexos, outros programadores jamais saberão se aquilo ali é util ou inutil e o tempo é escasso. \n"
   ]
  }
 ],
 "metadata": {
  "kernelspec": {
   "display_name": "Python 3 (ipykernel)",
   "language": "python",
   "name": "python3"
  },
  "language_info": {
   "codemirror_mode": {
    "name": "ipython",
    "version": 3
   },
   "file_extension": ".py",
   "mimetype": "text/x-python",
   "name": "python",
   "nbconvert_exporter": "python",
   "pygments_lexer": "ipython3",
   "version": "3.9.12"
  }
 },
 "nbformat": 4,
 "nbformat_minor": 5
}
