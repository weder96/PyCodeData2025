{
 "cells": [
  {
   "cell_type": "markdown",
   "id": "31eb262c",
   "metadata": {},
   "source": [
    "# Discretização\n",
    "- https://scikit-learn.org/stable/modules/preprocessing.html#discretization\n",
    "- **Transforma atributos contínuos de um conjunto de dados em atributos nominais**\n",
    "    - segundo a própria documentação, é o particionamento de recursos contínuos em valores discretos"
   ]
  },
  {
   "cell_type": "markdown",
   "id": "b7402124",
   "metadata": {},
   "source": [
    "### KBinsDiscretizer\n",
    "- https://scikit-learn.org/stable/modules/generated/sklearn.preprocessing.KBinsDiscretizer.html#sklearn.preprocessing.KBinsDiscretizer\n",
    "- Divide os dados contínuos em intervalos, podendo ser ajustado de acordo com o parâmetro **`strategy`** para que todos os intervalos tenham o **mesmo comprimento** (**`uniform`**), um **número similar de pontos** (**`quantile`**, default) ou até mesmo baseado em um procedimento de agrupamento de k-means (**`kmeans`**)\n",
    "- O **`encode`** define a forma que sera codificado o resultado transformado, em geral usamos **`onehot`** para termos o retorno em colunas e **`ordinal`** para valores numéricos"
   ]
  },
  {
   "cell_type": "code",
   "execution_count": 1,
   "id": "56dc43ee",
   "metadata": {},
   "outputs": [],
   "source": [
    "# Importando o pandas\n",
    "import pandas as pd"
   ]
  },
  {
   "cell_type": "code",
   "execution_count": 2,
   "id": "f943829c",
   "metadata": {},
   "outputs": [],
   "source": [
    "# Importando os dados do titanic após as etapas de Data Cleaning\n",
    "titanic = pd.read_csv('train2.csv')"
   ]
  },
  {
   "cell_type": "code",
   "execution_count": 3,
   "id": "1a6f5e4e",
   "metadata": {},
   "outputs": [
    {
     "data": {
      "text/html": [
       "<div>\n",
       "<style scoped>\n",
       "    .dataframe tbody tr th:only-of-type {\n",
       "        vertical-align: middle;\n",
       "    }\n",
       "\n",
       "    .dataframe tbody tr th {\n",
       "        vertical-align: top;\n",
       "    }\n",
       "\n",
       "    .dataframe thead th {\n",
       "        text-align: right;\n",
       "    }\n",
       "</style>\n",
       "<table border=\"1\" class=\"dataframe\">\n",
       "  <thead>\n",
       "    <tr style=\"text-align: right;\">\n",
       "      <th></th>\n",
       "      <th>Survived</th>\n",
       "      <th>Pclass</th>\n",
       "      <th>Sex</th>\n",
       "      <th>Age</th>\n",
       "      <th>SibSp</th>\n",
       "      <th>Parch</th>\n",
       "      <th>Fare</th>\n",
       "      <th>Embarked</th>\n",
       "      <th>Titulos</th>\n",
       "    </tr>\n",
       "  </thead>\n",
       "  <tbody>\n",
       "    <tr>\n",
       "      <th>0</th>\n",
       "      <td>0</td>\n",
       "      <td>3</td>\n",
       "      <td>male</td>\n",
       "      <td>22.0</td>\n",
       "      <td>1</td>\n",
       "      <td>0</td>\n",
       "      <td>7.2500</td>\n",
       "      <td>S</td>\n",
       "      <td>Mr</td>\n",
       "    </tr>\n",
       "    <tr>\n",
       "      <th>1</th>\n",
       "      <td>1</td>\n",
       "      <td>1</td>\n",
       "      <td>female</td>\n",
       "      <td>38.0</td>\n",
       "      <td>1</td>\n",
       "      <td>0</td>\n",
       "      <td>71.2833</td>\n",
       "      <td>C</td>\n",
       "      <td>Mrs</td>\n",
       "    </tr>\n",
       "  </tbody>\n",
       "</table>\n",
       "</div>"
      ],
      "text/plain": [
       "   Survived  Pclass     Sex   Age  SibSp  Parch     Fare Embarked Titulos\n",
       "0         0       3    male  22.0      1      0   7.2500        S      Mr\n",
       "1         1       1  female  38.0      1      0  71.2833        C     Mrs"
      ]
     },
     "execution_count": 3,
     "metadata": {},
     "output_type": "execute_result"
    }
   ],
   "source": [
    "# Visualizando a tabela\n",
    "titanic.head(2)"
   ]
  },
  {
   "cell_type": "code",
   "execution_count": 4,
   "id": "d0c6f4db",
   "metadata": {},
   "outputs": [],
   "source": [
    "# Importando o KBinsDiscretizer\n",
    "from sklearn.preprocessing import KBinsDiscretizer"
   ]
  },
  {
   "cell_type": "code",
   "execution_count": 5,
   "id": "2f79e79d",
   "metadata": {},
   "outputs": [],
   "source": [
    "# Definindo nossa discretização\n",
    "est = KBinsDiscretizer(n_bins=5, encode='ordinal', strategy='uniform')"
   ]
  },
  {
   "cell_type": "code",
   "execution_count": 6,
   "id": "d23adac2",
   "metadata": {},
   "outputs": [],
   "source": [
    "# Fazendo o fit com a coluna Fare\n",
    "est = est.fit(titanic[['Fare']])"
   ]
  },
  {
   "cell_type": "code",
   "execution_count": 7,
   "id": "f1b74042",
   "metadata": {},
   "outputs": [],
   "source": [
    "# Transformando os dados\n",
    "titanic['Fare_disc'] = est.transform(titanic[['Fare']])"
   ]
  },
  {
   "cell_type": "code",
   "execution_count": 8,
   "id": "db567543",
   "metadata": {},
   "outputs": [
    {
     "data": {
      "text/plain": [
       "0.0    838\n",
       "1.0     33\n",
       "2.0     17\n",
       "4.0      3\n",
       "Name: Fare_disc, dtype: int64"
      ]
     },
     "execution_count": 8,
     "metadata": {},
     "output_type": "execute_result"
    }
   ],
   "source": [
    "# Visualizando os dados gerados\n",
    "titanic.Fare_disc.value_counts()"
   ]
  },
  {
   "cell_type": "code",
   "execution_count": 9,
   "id": "9482732f",
   "metadata": {},
   "outputs": [
    {
     "data": {
      "text/plain": [
       "array([838,  33,  17,   3])"
      ]
     },
     "execution_count": 9,
     "metadata": {},
     "output_type": "execute_result"
    }
   ],
   "source": [
    "# Salvando a contagem de valores em uma variável\n",
    "contagem = titanic.Fare_disc.value_counts().values\n",
    "contagem"
   ]
  },
  {
   "cell_type": "code",
   "execution_count": 10,
   "id": "55629a6b",
   "metadata": {},
   "outputs": [
    {
     "data": {
      "text/plain": [
       "array([838,  33,  17,   0,   3])"
      ]
     },
     "execution_count": 10,
     "metadata": {},
     "output_type": "execute_result"
    }
   ],
   "source": [
    "# Adicionando 0 para o valor 3\n",
    "import numpy as np\n",
    "contagem = np.insert(contagem,3,0)\n",
    "contagem"
   ]
  },
  {
   "cell_type": "markdown",
   "id": "bcd6df6c",
   "metadata": {},
   "source": [
    "- Podemos utilizar o aggregate do pandas junto ao group by para verificar o mínimo, máximo e contagem de registros dos grupos gerados\n",
    "    - https://pandas.pydata.org/docs/reference/api/pandas.DataFrame.aggregate.html"
   ]
  },
  {
   "cell_type": "code",
   "execution_count": 11,
   "id": "d28b8168",
   "metadata": {},
   "outputs": [
    {
     "data": {
      "text/html": [
       "<div>\n",
       "<style scoped>\n",
       "    .dataframe tbody tr th:only-of-type {\n",
       "        vertical-align: middle;\n",
       "    }\n",
       "\n",
       "    .dataframe tbody tr th {\n",
       "        vertical-align: top;\n",
       "    }\n",
       "\n",
       "    .dataframe thead th {\n",
       "        text-align: right;\n",
       "    }\n",
       "</style>\n",
       "<table border=\"1\" class=\"dataframe\">\n",
       "  <thead>\n",
       "    <tr style=\"text-align: right;\">\n",
       "      <th></th>\n",
       "      <th>Fare_disc</th>\n",
       "      <th>min</th>\n",
       "      <th>max</th>\n",
       "      <th>count</th>\n",
       "    </tr>\n",
       "  </thead>\n",
       "  <tbody>\n",
       "    <tr>\n",
       "      <th>0</th>\n",
       "      <td>0.0</td>\n",
       "      <td>0.0000</td>\n",
       "      <td>93.5000</td>\n",
       "      <td>838</td>\n",
       "    </tr>\n",
       "    <tr>\n",
       "      <th>1</th>\n",
       "      <td>1.0</td>\n",
       "      <td>106.4250</td>\n",
       "      <td>164.8667</td>\n",
       "      <td>33</td>\n",
       "    </tr>\n",
       "    <tr>\n",
       "      <th>2</th>\n",
       "      <td>2.0</td>\n",
       "      <td>211.3375</td>\n",
       "      <td>263.0000</td>\n",
       "      <td>17</td>\n",
       "    </tr>\n",
       "    <tr>\n",
       "      <th>3</th>\n",
       "      <td>4.0</td>\n",
       "      <td>512.3292</td>\n",
       "      <td>512.3292</td>\n",
       "      <td>3</td>\n",
       "    </tr>\n",
       "  </tbody>\n",
       "</table>\n",
       "</div>"
      ],
      "text/plain": [
       "   Fare_disc       min       max  count\n",
       "0        0.0    0.0000   93.5000    838\n",
       "1        1.0  106.4250  164.8667     33\n",
       "2        2.0  211.3375  263.0000     17\n",
       "3        4.0  512.3292  512.3292      3"
      ]
     },
     "execution_count": 11,
     "metadata": {},
     "output_type": "execute_result"
    }
   ],
   "source": [
    "# Verificando o intervalo em cada um desses grupos\n",
    "grupos = titanic.groupby('Fare_disc')['Fare'].agg(['min','max','count']).reset_index()\n",
    "grupos"
   ]
  },
  {
   "cell_type": "code",
   "execution_count": 12,
   "id": "4504b9ff",
   "metadata": {},
   "outputs": [
    {
     "data": {
      "text/html": [
       "<div>\n",
       "<style scoped>\n",
       "    .dataframe tbody tr th:only-of-type {\n",
       "        vertical-align: middle;\n",
       "    }\n",
       "\n",
       "    .dataframe tbody tr th {\n",
       "        vertical-align: top;\n",
       "    }\n",
       "\n",
       "    .dataframe thead th {\n",
       "        text-align: right;\n",
       "    }\n",
       "</style>\n",
       "<table border=\"1\" class=\"dataframe\">\n",
       "  <thead>\n",
       "    <tr style=\"text-align: right;\">\n",
       "      <th></th>\n",
       "      <th>Fare_disc</th>\n",
       "      <th>min</th>\n",
       "      <th>max</th>\n",
       "      <th>count</th>\n",
       "      <th>comp</th>\n",
       "    </tr>\n",
       "  </thead>\n",
       "  <tbody>\n",
       "    <tr>\n",
       "      <th>0</th>\n",
       "      <td>0.0</td>\n",
       "      <td>0.0000</td>\n",
       "      <td>93.5000</td>\n",
       "      <td>838</td>\n",
       "      <td>93.5000</td>\n",
       "    </tr>\n",
       "    <tr>\n",
       "      <th>1</th>\n",
       "      <td>1.0</td>\n",
       "      <td>106.4250</td>\n",
       "      <td>164.8667</td>\n",
       "      <td>33</td>\n",
       "      <td>58.4417</td>\n",
       "    </tr>\n",
       "    <tr>\n",
       "      <th>2</th>\n",
       "      <td>2.0</td>\n",
       "      <td>211.3375</td>\n",
       "      <td>263.0000</td>\n",
       "      <td>17</td>\n",
       "      <td>51.6625</td>\n",
       "    </tr>\n",
       "    <tr>\n",
       "      <th>3</th>\n",
       "      <td>4.0</td>\n",
       "      <td>512.3292</td>\n",
       "      <td>512.3292</td>\n",
       "      <td>3</td>\n",
       "      <td>0.0000</td>\n",
       "    </tr>\n",
       "  </tbody>\n",
       "</table>\n",
       "</div>"
      ],
      "text/plain": [
       "   Fare_disc       min       max  count     comp\n",
       "0        0.0    0.0000   93.5000    838  93.5000\n",
       "1        1.0  106.4250  164.8667     33  58.4417\n",
       "2        2.0  211.3375  263.0000     17  51.6625\n",
       "3        4.0  512.3292  512.3292      3   0.0000"
      ]
     },
     "execution_count": 12,
     "metadata": {},
     "output_type": "execute_result"
    }
   ],
   "source": [
    "# Calculando os comprimentos\n",
    "grupos['comp'] = grupos['max'] - grupos['min']\n",
    "grupos"
   ]
  },
  {
   "cell_type": "markdown",
   "id": "76103df8",
   "metadata": {},
   "source": [
    "- O comprimento vai ser calculando considerando todo o range e dividindo em 5. Depois os pontos serão agrupando considerando cada uma dessas 5 regiões"
   ]
  },
  {
   "cell_type": "code",
   "execution_count": 13,
   "id": "df16391b",
   "metadata": {},
   "outputs": [
    {
     "data": {
      "text/plain": [
       "count    891.000000\n",
       "mean      32.204208\n",
       "std       49.693429\n",
       "min        0.000000\n",
       "25%        7.910400\n",
       "50%       14.454200\n",
       "75%       31.000000\n",
       "max      512.329200\n",
       "Name: Fare, dtype: float64"
      ]
     },
     "execution_count": 13,
     "metadata": {},
     "output_type": "execute_result"
    }
   ],
   "source": [
    "# Verificando os dados estatísticos da coluna Fare\n",
    "titanic.Fare.describe()"
   ]
  },
  {
   "cell_type": "code",
   "execution_count": 14,
   "id": "caf07589",
   "metadata": {},
   "outputs": [
    {
     "data": {
      "text/plain": [
       "512.3292"
      ]
     },
     "execution_count": 14,
     "metadata": {},
     "output_type": "execute_result"
    }
   ],
   "source": [
    "# Calculando o range\n",
    "titanic.Fare.max() - titanic.Fare.min()"
   ]
  },
  {
   "cell_type": "code",
   "execution_count": 15,
   "id": "28a4e584",
   "metadata": {},
   "outputs": [
    {
     "data": {
      "text/plain": [
       "102.46584"
      ]
     },
     "execution_count": 15,
     "metadata": {},
     "output_type": "execute_result"
    }
   ],
   "source": [
    "# Dividindo esse range em 5\n",
    "(titanic.Fare.max() - titanic.Fare.min()) / 5"
   ]
  },
  {
   "cell_type": "markdown",
   "id": "9145f8fb",
   "metadata": {},
   "source": [
    "- Podemos utilizar o **`bin_edges_`** para determinar os limites dos grupos criados"
   ]
  },
  {
   "cell_type": "code",
   "execution_count": 16,
   "id": "ab070f49",
   "metadata": {},
   "outputs": [
    {
     "data": {
      "text/plain": [
       "array([  0.     , 102.46584, 204.93168, 307.39752, 409.86336])"
      ]
     },
     "execution_count": 16,
     "metadata": {},
     "output_type": "execute_result"
    }
   ],
   "source": [
    "# Podemos utilizar o bin_edges para verificar os limites dos grupos gerados\n",
    "est.bin_edges_[0][:5]"
   ]
  },
  {
   "cell_type": "markdown",
   "id": "be0d9f48",
   "metadata": {},
   "source": [
    "- Vamos utilizar o barplot para visualizar graficamente\n",
    "    - https://matplotlib.org/stable/plot_types/basic/bar.html#sphx-glr-plot-types-basic-bar-py"
   ]
  },
  {
   "cell_type": "code",
   "execution_count": 17,
   "id": "d581e9ac",
   "metadata": {},
   "outputs": [
    {
     "data": {
      "image/png": "[encoded data removed]",
      "text/plain": [
       "<Figure size 640x480 with 1 Axes>"
      ]
     },
     "metadata": {},
     "output_type": "display_data"
    }
   ],
   "source": [
    "# Utilizando um gráfico de barras para visualizar\n",
    "import matplotlib.pyplot as plt\n",
    "\n",
    "fig, ax = plt.subplots()\n",
    "\n",
    "ax.bar(est.bin_edges_[0][:5], \n",
    "       contagem, \n",
    "       width=(titanic.Fare.max() - titanic.Fare.min()) / 5\n",
    "       , edgecolor=\"white\", linewidth=0.7,\n",
    "      align='edge')\n",
    "\n",
    "plt.show()"
   ]
  },
  {
   "cell_type": "markdown",
   "id": "5da9f15a",
   "metadata": {},
   "source": [
    "- Podemos utilizar `strategy=quantile` para que cada região tenha a mesma quantidade de registros\n",
    "    - Segundo a documentação: **\"usa os valores dos quantis para ter compartimentos igualmente preenchidos\"**"
   ]
  },
  {
   "cell_type": "code",
   "execution_count": 18,
   "id": "7d1892bd",
   "metadata": {},
   "outputs": [],
   "source": [
    "# Definindo nossa discretização\n",
    "est = KBinsDiscretizer(n_bins=5, encode='ordinal', strategy='quantile')"
   ]
  },
  {
   "cell_type": "code",
   "execution_count": 19,
   "id": "021418c9",
   "metadata": {},
   "outputs": [],
   "source": [
    "# Fazendo o fit com a coluna Fare\n",
    "est = est.fit(titanic[['Fare']])"
   ]
  },
  {
   "cell_type": "code",
   "execution_count": 20,
   "id": "04699f5b",
   "metadata": {},
   "outputs": [],
   "source": [
    "# Transformando os dados\n",
    "titanic['Fare_quant'] = est.transform(titanic[['Fare']])"
   ]
  },
  {
   "cell_type": "code",
   "execution_count": 21,
   "id": "8cd6493c",
   "metadata": {},
   "outputs": [
    {
     "data": {
      "text/plain": [
       "array([166, 173, 195, 175, 182])"
      ]
     },
     "execution_count": 21,
     "metadata": {},
     "output_type": "execute_result"
    }
   ],
   "source": [
    "# Visualizando os dados gerados\n",
    "titanic.Fare_quant.value_counts().sort_index().values"
   ]
  },
  {
   "cell_type": "code",
   "execution_count": 22,
   "id": "6a39a4ed",
   "metadata": {},
   "outputs": [
    {
     "data": {
      "text/plain": [
       "array([166, 173, 195, 175, 182])"
      ]
     },
     "execution_count": 22,
     "metadata": {},
     "output_type": "execute_result"
    }
   ],
   "source": [
    "# Salvando a contagem de valores em uma variável\n",
    "valores = titanic.Fare_quant.value_counts().sort_index().values\n",
    "valores"
   ]
  },
  {
   "cell_type": "code",
   "execution_count": 23,
   "id": "93e7c430",
   "metadata": {},
   "outputs": [
    {
     "data": {
      "text/html": [
       "<div>\n",
       "<style scoped>\n",
       "    .dataframe tbody tr th:only-of-type {\n",
       "        vertical-align: middle;\n",
       "    }\n",
       "\n",
       "    .dataframe tbody tr th {\n",
       "        vertical-align: top;\n",
       "    }\n",
       "\n",
       "    .dataframe thead th {\n",
       "        text-align: right;\n",
       "    }\n",
       "</style>\n",
       "<table border=\"1\" class=\"dataframe\">\n",
       "  <thead>\n",
       "    <tr style=\"text-align: right;\">\n",
       "      <th></th>\n",
       "      <th>Fare_quant</th>\n",
       "      <th>min</th>\n",
       "      <th>max</th>\n",
       "      <th>count</th>\n",
       "      <th>comp</th>\n",
       "    </tr>\n",
       "  </thead>\n",
       "  <tbody>\n",
       "    <tr>\n",
       "      <th>0</th>\n",
       "      <td>0.0</td>\n",
       "      <td>0.0000</td>\n",
       "      <td>7.8292</td>\n",
       "      <td>166</td>\n",
       "      <td>7.8292</td>\n",
       "    </tr>\n",
       "    <tr>\n",
       "      <th>1</th>\n",
       "      <td>1.0</td>\n",
       "      <td>7.8542</td>\n",
       "      <td>10.4625</td>\n",
       "      <td>173</td>\n",
       "      <td>2.6083</td>\n",
       "    </tr>\n",
       "    <tr>\n",
       "      <th>2</th>\n",
       "      <td>2.0</td>\n",
       "      <td>10.5000</td>\n",
       "      <td>21.0750</td>\n",
       "      <td>195</td>\n",
       "      <td>10.5750</td>\n",
       "    </tr>\n",
       "    <tr>\n",
       "      <th>3</th>\n",
       "      <td>3.0</td>\n",
       "      <td>21.6792</td>\n",
       "      <td>39.6000</td>\n",
       "      <td>175</td>\n",
       "      <td>17.9208</td>\n",
       "    </tr>\n",
       "    <tr>\n",
       "      <th>4</th>\n",
       "      <td>4.0</td>\n",
       "      <td>39.6875</td>\n",
       "      <td>512.3292</td>\n",
       "      <td>182</td>\n",
       "      <td>472.6417</td>\n",
       "    </tr>\n",
       "  </tbody>\n",
       "</table>\n",
       "</div>"
      ],
      "text/plain": [
       "   Fare_quant      min       max  count      comp\n",
       "0         0.0   0.0000    7.8292    166    7.8292\n",
       "1         1.0   7.8542   10.4625    173    2.6083\n",
       "2         2.0  10.5000   21.0750    195   10.5750\n",
       "3         3.0  21.6792   39.6000    175   17.9208\n",
       "4         4.0  39.6875  512.3292    182  472.6417"
      ]
     },
     "execution_count": 23,
     "metadata": {},
     "output_type": "execute_result"
    }
   ],
   "source": [
    "# Verificando o intervalo em cada um desses grupos\n",
    "grupos = titanic.groupby('Fare_quant')['Fare'].agg(['min','max','count']).reset_index()\n",
    "grupos['comp'] = grupos['max'] - grupos['min']\n",
    "grupos"
   ]
  },
  {
   "cell_type": "code",
   "execution_count": 24,
   "id": "5059d245",
   "metadata": {},
   "outputs": [
    {
     "data": {
      "text/plain": [
       "array([array([  0.    ,   7.8542,  10.5   ,  21.6792,  39.6875, 512.3292])],\n",
       "      dtype=object)"
      ]
     },
     "execution_count": 24,
     "metadata": {},
     "output_type": "execute_result"
    }
   ],
   "source": [
    "# Novamente utilizando o bin_edges\n",
    "est.bin_edges_"
   ]
  },
  {
   "cell_type": "markdown",
   "id": "7d61aac9",
   "metadata": {},
   "source": [
    "- Podemos então verificar os **quantis** da coluna Fare\n",
    "    - https://pandas.pydata.org/docs/reference/api/pandas.DataFrame.quantile.html\n",
    "    - Obs: **quartil é o quantil quando dividimos a base em 4 partes iguais**"
   ]
  },
  {
   "cell_type": "code",
   "execution_count": 25,
   "id": "ee799fe5",
   "metadata": {},
   "outputs": [
    {
     "data": {
      "text/plain": [
       "0.0      0.0000\n",
       "0.2      7.8542\n",
       "0.4     10.5000\n",
       "0.6     21.6792\n",
       "0.8     39.6875\n",
       "1.0    512.3292\n",
       "Name: Fare, dtype: float64"
      ]
     },
     "execution_count": 25,
     "metadata": {},
     "output_type": "execute_result"
    }
   ],
   "source": [
    "# Verificando os quantis que dividem essa base em 5 regiões\n",
    "titanic.Fare.quantile([0,0.2,0.4,0.6,0.8,1])"
   ]
  },
  {
   "cell_type": "code",
   "execution_count": 26,
   "id": "05bc3e25",
   "metadata": {},
   "outputs": [
    {
     "data": {
      "text/plain": [
       "array([  7.8542,   2.6458,  11.1792,  18.0083, 472.6417])"
      ]
     },
     "execution_count": 26,
     "metadata": {},
     "output_type": "execute_result"
    }
   ],
   "source": [
    "# Podemos visualizar o comprimento de cada uma dessas regiões\n",
    "comp = est.bin_edges_[0][1:6]-est.bin_edges_[0][0:5]\n",
    "comp"
   ]
  },
  {
   "cell_type": "code",
   "execution_count": 27,
   "id": "251e6dca",
   "metadata": {},
   "outputs": [
    {
     "data": {
      "image/png": "[encoded data removed]",
      "text/plain": [
       "<Figure size 640x480 with 1 Axes>"
      ]
     },
     "metadata": {},
     "output_type": "display_data"
    }
   ],
   "source": [
    "# Utilizando um gráfico de barras para visualizar\n",
    "fig, ax = plt.subplots()\n",
    "\n",
    "ax.bar(est.bin_edges_[0][:5], \n",
    "       valores, \n",
    "       width=comp\n",
    "       , edgecolor=\"white\", linewidth=0.7,\n",
    "      align='edge')\n",
    "\n",
    "plt.show()"
   ]
  },
  {
   "cell_type": "markdown",
   "id": "c371d2bb",
   "metadata": {},
   "source": [
    "### Binarização\n",
    "- https://scikit-learn.org/stable/modules/generated/sklearn.preprocessing.Binarizer.html#sklearn.preprocessing.Binarizer\n",
    "- **Transforma os dados em binários** (0 - se valor for menor ou igual ao limite ou 1 - valor maior que o limite) **baseado em um limite** informado como parâmetro\n",
    "    - **`threshold`**: limite usado para classificação dos valores\n",
    "- **Podemos fazer a binarização na coluna SibSp para determinar se as pessoas estavam viajando sozinhas (SibSp == 0) ou acompanhadas dos irmãos / conjuges (SibSp > 0)**  \n",
    "    - Para isso, **podemos considerar o limite igual a 0** (que é o valor default), por exemplo"
   ]
  },
  {
   "cell_type": "code",
   "execution_count": 28,
   "id": "689f2aa2",
   "metadata": {},
   "outputs": [
    {
     "data": {
      "text/plain": [
       "0    678\n",
       "1    118\n",
       "2     80\n",
       "5      5\n",
       "3      5\n",
       "4      4\n",
       "6      1\n",
       "Name: Parch, dtype: int64"
      ]
     },
     "execution_count": 28,
     "metadata": {},
     "output_type": "execute_result"
    }
   ],
   "source": [
    "# Visualizando os valores de Parch\n",
    "titanic.Parch.value_counts()"
   ]
  },
  {
   "cell_type": "code",
   "execution_count": 29,
   "id": "da8ea723",
   "metadata": {},
   "outputs": [],
   "source": [
    "# Importando o Binarizer\n",
    "from sklearn.preprocessing import Binarizer"
   ]
  },
  {
   "cell_type": "code",
   "execution_count": 31,
   "id": "971a2240",
   "metadata": {},
   "outputs": [],
   "source": [
    "# Criando a binarização\n",
    "binari = Binarizer(threshold=0.5)"
   ]
  },
  {
   "cell_type": "code",
   "execution_count": 32,
   "id": "bb736fce",
   "metadata": {},
   "outputs": [],
   "source": [
    "# Fazendo o fit\n",
    "binari = binari.fit(titanic[['Parch']])"
   ]
  },
  {
   "cell_type": "code",
   "execution_count": 34,
   "id": "bdabb895",
   "metadata": {},
   "outputs": [],
   "source": [
    "# Fazendo a transformação\n",
    "titanic['Viagem_so'] = binari.transform(titanic[['Parch']])"
   ]
  },
  {
   "cell_type": "code",
   "execution_count": 36,
   "id": "146caf3c",
   "metadata": {},
   "outputs": [
    {
     "data": {
      "text/plain": [
       "Parch  Viagem_so\n",
       "0      0            678\n",
       "1      1            118\n",
       "2      1             80\n",
       "3      1              5\n",
       "5      1              5\n",
       "4      1              4\n",
       "6      1              1\n",
       "dtype: int64"
      ]
     },
     "execution_count": 36,
     "metadata": {},
     "output_type": "execute_result"
    }
   ],
   "source": [
    "# Visualizando os valores\n",
    "titanic[['Parch','Viagem_so']].value_counts()"
   ]
  }
 ],
 "metadata": {
  "kernelspec": {
   "display_name": "Python 3 (ipykernel)",
   "language": "python",
   "name": "python3"
  },
  "language_info": {
   "codemirror_mode": {
    "name": "ipython",
    "version": 3
   },
   "file_extension": ".py",
   "mimetype": "text/x-python",
   "name": "python",
   "nbconvert_exporter": "python",
   "pygments_lexer": "ipython3",
   "version": "3.9.13"
  }
 },
 "nbformat": 4,
 "nbformat_minor": 5
}
