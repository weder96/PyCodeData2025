{
 "cells": [
  {
   "cell_type": "markdown",
   "id": "133fbc77",
   "metadata": {},
   "source": [
    "# Mundo 13 - Anotações em gráficos"
   ]
  },
  {
   "cell_type": "code",
   "execution_count": null,
   "id": "53bd7940",
   "metadata": {},
   "outputs": [],
   "source": [
    "import matplotlib.pyplot as plt\n",
    "import pandas as pd\n",
    "import matplotlib.ticker as mtick\n",
    "import matplotlib.dates as mdate\n",
    "import yfinance as yf\n",
    "from datetime import datetime"
   ]
  },
  {
   "cell_type": "code",
   "execution_count": null,
   "id": "57adb7e1",
   "metadata": {},
   "outputs": [],
   "source": [
    "params = {\"ytick.color\" : \"w\",\n",
    "          \"xtick.color\" : \"w\",\n",
    "          \"axes.labelcolor\" : \"w\",\n",
    "          \"axes.edgecolor\" : \"w\"}\n",
    "plt.rcParams.update(params)"
   ]
  },
  {
   "cell_type": "code",
   "execution_count": null,
   "id": "17ace1a3",
   "metadata": {},
   "outputs": [],
   "source": [
    "cotacoes = yf.download([\"^BVSP\"], \"2016-01-01\", \"2018-01-01\")['Adj Close']\n",
    "cotacoes"
   ]
  },
  {
   "cell_type": "code",
   "execution_count": null,
   "id": "8c4c2f05",
   "metadata": {},
   "outputs": [],
   "source": [
    "data_crises = [(datetime(2017, 5, 17), \"Joesley Day\"),\n",
    "              (datetime(2016, 8, 31), \"Impeachment Dilma\")]\n",
    "         \n",
    "\n",
    "\n",
    "fig, ax = plt.subplots()\n",
    "\n",
    "ax.plot(cotacoes)\n",
    "\n",
    "for data, evento in data_crises:\n",
    "    \n",
    "    ax.annotate(evento, xy = (data, cotacoes.asof(data) + 2800), #posição comeco da seta\n",
    "                xytext = (data, cotacoes.asof(data) + 10000), #posição texto da seta\n",
    "                arrowprops = dict(facecolor = 'black', headwidth = 4, width = 2, headlength = 4),\n",
    "               horizontalalignment = \"right\", verticalalignment = \"top\")\n",
    "\n",
    "    \n",
    "ax.xaxis.set_major_locator(mdate.YearLocator(1))"
   ]
  },
  {
   "cell_type": "code",
   "execution_count": null,
   "id": "8723f555",
   "metadata": {},
   "outputs": [],
   "source": [
    "cotacoes.asof(datetime(2016, 8, 31))"
   ]
  },
  {
   "cell_type": "code",
   "execution_count": null,
   "id": "af35076e",
   "metadata": {
    "scrolled": true
   },
   "outputs": [],
   "source": [
    "cotacoes.loc[datetime(2016, 8, 31)]"
   ]
  },
  {
   "cell_type": "markdown",
   "id": "53e606ed",
   "metadata": {},
   "source": [
    "# Exercícios\n",
    "\n",
    "* Exercício 107: Crie um gráfico do ibovespa entre 2020 e 2022 com anotações no início da pandemia e inicío da guerra entre rússia e ucrânia. "
   ]
  },
  {
   "cell_type": "code",
   "execution_count": null,
   "id": "81df6925",
   "metadata": {},
   "outputs": [],
   "source": []
  },
  {
   "cell_type": "code",
   "execution_count": null,
   "id": "cb5dfe67",
   "metadata": {},
   "outputs": [],
   "source": [
    "#gabarito 107\n",
    "\n",
    "cotacoes = yf.download([\"^BVSP\"], \"2020-01-01\", \"2023-01-01\")['Adj Close']\n",
    "\n",
    "data_crises = [(datetime(2020, 2, 20), \"Início pandemia\"),\n",
    "              (datetime(2022, 2, 24), \"Início da guerra Rússia x Ucrânia\")]\n",
    "         \n",
    "\n",
    "\n",
    "fig, ax = plt.subplots()\n",
    "\n",
    "ax.plot(cotacoes)\n",
    "\n",
    "for data, evento in data_crises:\n",
    "    \n",
    "    ax.annotate(evento, xy = (data, cotacoes.asof(data) + 5000), #posição comeco da seta\n",
    "                xytext = (data, cotacoes.asof(data) + 15000), #posição texto da seta\n",
    "                arrowprops = dict(facecolor = 'black', headwidth = 4, width = 2, headlength = 4),\n",
    "               horizontalalignment = \"left\", verticalalignment = \"top\")\n",
    "\n",
    "    \n",
    "ax.xaxis.set_major_locator(mdate.YearLocator(1))"
   ]
  },
  {
   "cell_type": "markdown",
   "id": "400d27bc",
   "metadata": {},
   "source": [
    "# Mundo 14 \n",
    "\n",
    "Animações no Matplotlib"
   ]
  }
 ],
 "metadata": {
  "kernelspec": {
   "display_name": "Python 3",
   "language": "python",
   "name": "python3"
  },
  "language_info": {
   "codemirror_mode": {
    "name": "ipython",
    "version": 3
   },
   "file_extension": ".py",
   "mimetype": "text/x-python",
   "name": "python",
   "nbconvert_exporter": "python",
   "pygments_lexer": "ipython3",
   "version": "3.8.10"
  },
  "vscode": {
   "interpreter": {
    "hash": "916dbcbb3f70747c44a77c7bcd40155683ae19c65e1c03b4aa3499c5328201f1"
   }
  }
 },
 "nbformat": 4,
 "nbformat_minor": 5
}
