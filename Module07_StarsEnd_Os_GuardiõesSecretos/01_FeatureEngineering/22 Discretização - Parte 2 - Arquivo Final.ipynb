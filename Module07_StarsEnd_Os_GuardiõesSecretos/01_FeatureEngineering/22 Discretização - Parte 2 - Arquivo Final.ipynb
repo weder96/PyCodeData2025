{
 "cells": [
  {
   "cell_type": "markdown",
   "id": "31eb262c",
   "metadata": {},
   "source": [
    "# Discretização\n",
    "- https://scikit-learn.org/stable/modules/preprocessing.html#discretization\n",
    "- **Transforma atributos contínuos de um conjunto de dados em atributos nominais**\n",
    "    - segundo a própria documentação, é o particionamento de recursos contínuos em valores discretos"
   ]
  },
  {
   "cell_type": "markdown",
   "id": "b7402124",
   "metadata": {},
   "source": [
    "### KBinsDiscretizer\n",
    "- https://scikit-learn.org/stable/modules/generated/sklearn.preprocessing.KBinsDiscretizer.html#sklearn.preprocessing.KBinsDiscretizer\n",
    "- Divide os dados contínuos em intervalos, podendo ser ajustado de acordo com o parâmetro **`strategy`** para que todos os intervalos tenham o **mesmo comprimento** (**`uniform`**), um **número similar de pontos** (**`quantile`**, default) ou até mesmo baseado em um procedimento de agrupamento de k-means (**`kmeans`**)\n",
    "- O **`encode`** define a forma que sera codificado o resultado transformado, em geral usamos **`onehot`** para termos o retorno em colunas e **`ordinal`** para valores numéricos"
   ]
  },
  {
   "cell_type": "code",
   "execution_count": 1,
   "id": "56dc43ee",
   "metadata": {},
   "outputs": [],
   "source": [
    "# Importando o pandas\n",
    "import pandas as pd"
   ]
  },
  {
   "cell_type": "code",
   "execution_count": 2,
   "id": "f943829c",
   "metadata": {},
   "outputs": [],
   "source": [
    "# Importando os dados do titanic após as etapas de Data Cleaning\n",
    "titanic = pd.read_csv('train2.csv')"
   ]
  },
  {
   "cell_type": "code",
   "execution_count": 3,
   "id": "1a6f5e4e",
   "metadata": {},
   "outputs": [
    {
     "data": {
      "text/html": [
       "<div>\n",
       "<style scoped>\n",
       "    .dataframe tbody tr th:only-of-type {\n",
       "        vertical-align: middle;\n",
       "    }\n",
       "\n",
       "    .dataframe tbody tr th {\n",
       "        vertical-align: top;\n",
       "    }\n",
       "\n",
       "    .dataframe thead th {\n",
       "        text-align: right;\n",
       "    }\n",
       "</style>\n",
       "<table border=\"1\" class=\"dataframe\">\n",
       "  <thead>\n",
       "    <tr style=\"text-align: right;\">\n",
       "      <th></th>\n",
       "      <th>Survived</th>\n",
       "      <th>Pclass</th>\n",
       "      <th>Sex</th>\n",
       "      <th>Age</th>\n",
       "      <th>SibSp</th>\n",
       "      <th>Parch</th>\n",
       "      <th>Fare</th>\n",
       "      <th>Embarked</th>\n",
       "      <th>Titulos</th>\n",
       "    </tr>\n",
       "  </thead>\n",
       "  <tbody>\n",
       "    <tr>\n",
       "      <th>0</th>\n",
       "      <td>0</td>\n",
       "      <td>3</td>\n",
       "      <td>male</td>\n",
       "      <td>22.0</td>\n",
       "      <td>1</td>\n",
       "      <td>0</td>\n",
       "      <td>7.2500</td>\n",
       "      <td>S</td>\n",
       "      <td>Mr</td>\n",
       "    </tr>\n",
       "    <tr>\n",
       "      <th>1</th>\n",
       "      <td>1</td>\n",
       "      <td>1</td>\n",
       "      <td>female</td>\n",
       "      <td>38.0</td>\n",
       "      <td>1</td>\n",
       "      <td>0</td>\n",
       "      <td>71.2833</td>\n",
       "      <td>C</td>\n",
       "      <td>Mrs</td>\n",
       "    </tr>\n",
       "  </tbody>\n",
       "</table>\n",
       "</div>"
      ],
      "text/plain": [
       "   Survived  Pclass     Sex   Age  SibSp  Parch     Fare Embarked Titulos\n",
       "0         0       3    male  22.0      1      0   7.2500        S      Mr\n",
       "1         1       1  female  38.0      1      0  71.2833        C     Mrs"
      ]
     },
     "execution_count": 3,
     "metadata": {},
     "output_type": "execute_result"
    }
   ],
   "source": [
    "# Visualizando a tabela\n",
    "titanic.head(2)"
   ]
  },
  {
   "cell_type": "code",
   "execution_count": 4,
   "id": "d0c6f4db",
   "metadata": {},
   "outputs": [],
   "source": [
    "# Importando o KBinsDiscretizer\n",
    "from sklearn.preprocessing import KBinsDiscretizer"
   ]
  },
  {
   "cell_type": "code",
   "execution_count": 5,
   "id": "2f79e79d",
   "metadata": {},
   "outputs": [],
   "source": [
    "# Definindo nossa discretização\n",
    "est = KBinsDiscretizer(n_bins=5, encode='ordinal', strategy='uniform')"
   ]
  },
  {
   "cell_type": "code",
   "execution_count": 6,
   "id": "d23adac2",
   "metadata": {},
   "outputs": [],
   "source": [
    "# Fazendo o fit com a coluna Fare\n",
    "est = est.fit(titanic[['Fare']])"
   ]
  },
  {
   "cell_type": "code",
   "execution_count": 7,
   "id": "f1b74042",
   "metadata": {},
   "outputs": [],
   "source": [
    "# Transformando os dados\n",
    "titanic['Fare_disc'] = est.transform(titanic[['Fare']])"
   ]
  },
  {
   "cell_type": "code",
   "execution_count": 8,
   "id": "db567543",
   "metadata": {},
   "outputs": [
    {
     "data": {
      "text/plain": [
       "0.0    838\n",
       "1.0     33\n",
       "2.0     17\n",
       "4.0      3\n",
       "Name: Fare_disc, dtype: int64"
      ]
     },
     "execution_count": 8,
     "metadata": {},
     "output_type": "execute_result"
    }
   ],
   "source": [
    "# Visualizando os dados gerados\n",
    "titanic.Fare_disc.value_counts()"
   ]
  },
  {
   "cell_type": "code",
   "execution_count": 9,
   "id": "9482732f",
   "metadata": {},
   "outputs": [
    {
     "data": {
      "text/plain": [
       "array([838,  33,  17,   3])"
      ]
     },
     "execution_count": 9,
     "metadata": {},
     "output_type": "execute_result"
    }
   ],
   "source": [
    "# Salvando a contagem de valores em uma variável\n",
    "contagem = titanic.Fare_disc.value_counts().values\n",
    "contagem"
   ]
  },
  {
   "cell_type": "code",
   "execution_count": 10,
   "id": "55629a6b",
   "metadata": {},
   "outputs": [
    {
     "data": {
      "text/plain": [
       "array([838,  33,  17,   0,   3])"
      ]
     },
     "execution_count": 10,
     "metadata": {},
     "output_type": "execute_result"
    }
   ],
   "source": [
    "# Adicionando 0 para o valor 3\n",
    "import numpy as np\n",
    "contagem = np.insert(contagem,3,0)\n",
    "contagem"
   ]
  },
  {
   "cell_type": "markdown",
   "id": "bcd6df6c",
   "metadata": {},
   "source": [
    "- Podemos utilizar o aggregate do pandas junto ao group by para verificar o mínimo, máximo e contagem de registros dos grupos gerados\n",
    "    - https://pandas.pydata.org/docs/reference/api/pandas.DataFrame.aggregate.html"
   ]
  },
  {
   "cell_type": "code",
   "execution_count": 17,
   "id": "d28b8168",
   "metadata": {},
   "outputs": [
    {
     "data": {
      "text/html": [
       "<div>\n",
       "<style scoped>\n",
       "    .dataframe tbody tr th:only-of-type {\n",
       "        vertical-align: middle;\n",
       "    }\n",
       "\n",
       "    .dataframe tbody tr th {\n",
       "        vertical-align: top;\n",
       "    }\n",
       "\n",
       "    .dataframe thead th {\n",
       "        text-align: right;\n",
       "    }\n",
       "</style>\n",
       "<table border=\"1\" class=\"dataframe\">\n",
       "  <thead>\n",
       "    <tr style=\"text-align: right;\">\n",
       "      <th></th>\n",
       "      <th>Fare_disc</th>\n",
       "      <th>min</th>\n",
       "      <th>max</th>\n",
       "      <th>count</th>\n",
       "    </tr>\n",
       "  </thead>\n",
       "  <tbody>\n",
       "    <tr>\n",
       "      <th>0</th>\n",
       "      <td>0.0</td>\n",
       "      <td>0.0000</td>\n",
       "      <td>93.5000</td>\n",
       "      <td>838</td>\n",
       "    </tr>\n",
       "    <tr>\n",
       "      <th>1</th>\n",
       "      <td>1.0</td>\n",
       "      <td>106.4250</td>\n",
       "      <td>164.8667</td>\n",
       "      <td>33</td>\n",
       "    </tr>\n",
       "    <tr>\n",
       "      <th>2</th>\n",
       "      <td>2.0</td>\n",
       "      <td>211.3375</td>\n",
       "      <td>263.0000</td>\n",
       "      <td>17</td>\n",
       "    </tr>\n",
       "    <tr>\n",
       "      <th>3</th>\n",
       "      <td>4.0</td>\n",
       "      <td>512.3292</td>\n",
       "      <td>512.3292</td>\n",
       "      <td>3</td>\n",
       "    </tr>\n",
       "  </tbody>\n",
       "</table>\n",
       "</div>"
      ],
      "text/plain": [
       "   Fare_disc       min       max  count\n",
       "0        0.0    0.0000   93.5000    838\n",
       "1        1.0  106.4250  164.8667     33\n",
       "2        2.0  211.3375  263.0000     17\n",
       "3        4.0  512.3292  512.3292      3"
      ]
     },
     "execution_count": 17,
     "metadata": {},
     "output_type": "execute_result"
    }
   ],
   "source": [
    "# Verificando o intervalo em cada um desses grupos\n",
    "grupos = titanic.groupby('Fare_disc')['Fare'].agg(['min','max','count']).reset_index()\n",
    "grupos"
   ]
  },
  {
   "cell_type": "code",
   "execution_count": 20,
   "id": "4504b9ff",
   "metadata": {},
   "outputs": [
    {
     "data": {
      "text/html": [
       "<div>\n",
       "<style scoped>\n",
       "    .dataframe tbody tr th:only-of-type {\n",
       "        vertical-align: middle;\n",
       "    }\n",
       "\n",
       "    .dataframe tbody tr th {\n",
       "        vertical-align: top;\n",
       "    }\n",
       "\n",
       "    .dataframe thead th {\n",
       "        text-align: right;\n",
       "    }\n",
       "</style>\n",
       "<table border=\"1\" class=\"dataframe\">\n",
       "  <thead>\n",
       "    <tr style=\"text-align: right;\">\n",
       "      <th></th>\n",
       "      <th>Fare_disc</th>\n",
       "      <th>min</th>\n",
       "      <th>max</th>\n",
       "      <th>count</th>\n",
       "      <th>comp</th>\n",
       "    </tr>\n",
       "  </thead>\n",
       "  <tbody>\n",
       "    <tr>\n",
       "      <th>0</th>\n",
       "      <td>0.0</td>\n",
       "      <td>0.0000</td>\n",
       "      <td>93.5000</td>\n",
       "      <td>838</td>\n",
       "      <td>93.5000</td>\n",
       "    </tr>\n",
       "    <tr>\n",
       "      <th>1</th>\n",
       "      <td>1.0</td>\n",
       "      <td>106.4250</td>\n",
       "      <td>164.8667</td>\n",
       "      <td>33</td>\n",
       "      <td>58.4417</td>\n",
       "    </tr>\n",
       "    <tr>\n",
       "      <th>2</th>\n",
       "      <td>2.0</td>\n",
       "      <td>211.3375</td>\n",
       "      <td>263.0000</td>\n",
       "      <td>17</td>\n",
       "      <td>51.6625</td>\n",
       "    </tr>\n",
       "    <tr>\n",
       "      <th>3</th>\n",
       "      <td>4.0</td>\n",
       "      <td>512.3292</td>\n",
       "      <td>512.3292</td>\n",
       "      <td>3</td>\n",
       "      <td>0.0000</td>\n",
       "    </tr>\n",
       "  </tbody>\n",
       "</table>\n",
       "</div>"
      ],
      "text/plain": [
       "   Fare_disc       min       max  count     comp\n",
       "0        0.0    0.0000   93.5000    838  93.5000\n",
       "1        1.0  106.4250  164.8667     33  58.4417\n",
       "2        2.0  211.3375  263.0000     17  51.6625\n",
       "3        4.0  512.3292  512.3292      3   0.0000"
      ]
     },
     "execution_count": 20,
     "metadata": {},
     "output_type": "execute_result"
    }
   ],
   "source": [
    "# Calculando os comprimentos\n",
    "grupos['comp'] = grupos['max'] - grupos['min']\n",
    "grupos"
   ]
  },
  {
   "cell_type": "markdown",
   "id": "76103df8",
   "metadata": {},
   "source": [
    "- O comprimento vai ser calculando considerando todo o range e dividindo em 5. Depois os pontos serão agrupando considerando cada uma dessas 5 regiões"
   ]
  },
  {
   "cell_type": "code",
   "execution_count": 22,
   "id": "df16391b",
   "metadata": {},
   "outputs": [
    {
     "data": {
      "text/plain": [
       "count    891.000000\n",
       "mean      32.204208\n",
       "std       49.693429\n",
       "min        0.000000\n",
       "25%        7.910400\n",
       "50%       14.454200\n",
       "75%       31.000000\n",
       "max      512.329200\n",
       "Name: Fare, dtype: float64"
      ]
     },
     "execution_count": 22,
     "metadata": {},
     "output_type": "execute_result"
    }
   ],
   "source": [
    "# Verificando os dados estatísticos da coluna Fare\n",
    "titanic.Fare.describe()"
   ]
  },
  {
   "cell_type": "code",
   "execution_count": 24,
   "id": "caf07589",
   "metadata": {},
   "outputs": [
    {
     "data": {
      "text/plain": [
       "512.3292"
      ]
     },
     "execution_count": 24,
     "metadata": {},
     "output_type": "execute_result"
    }
   ],
   "source": [
    "# Calculando o range\n",
    "titanic.Fare.max() - titanic.Fare.min()"
   ]
  },
  {
   "cell_type": "code",
   "execution_count": 25,
   "id": "28a4e584",
   "metadata": {},
   "outputs": [
    {
     "data": {
      "text/plain": [
       "102.46584"
      ]
     },
     "execution_count": 25,
     "metadata": {},
     "output_type": "execute_result"
    }
   ],
   "source": [
    "# Dividindo esse range em 5\n",
    "(titanic.Fare.max() - titanic.Fare.min()) / 5"
   ]
  },
  {
   "cell_type": "markdown",
   "id": "9145f8fb",
   "metadata": {},
   "source": [
    "- Podemos utilizar o **`bin_edges_`** para determinar os limites dos grupos criados"
   ]
  },
  {
   "cell_type": "code",
   "execution_count": 38,
   "id": "ab070f49",
   "metadata": {},
   "outputs": [
    {
     "data": {
      "text/plain": [
       "array([  0.     , 102.46584, 204.93168, 307.39752, 409.86336])"
      ]
     },
     "execution_count": 38,
     "metadata": {},
     "output_type": "execute_result"
    }
   ],
   "source": [
    "# Podemos utilizar o bin_edges para verificar os limites dos grupos gerados\n",
    "est.bin_edges_[0][:5]"
   ]
  },
  {
   "cell_type": "markdown",
   "id": "be0d9f48",
   "metadata": {},
   "source": [
    "- Vamos utilizar o barplot para visualizar graficamente\n",
    "    - https://matplotlib.org/stable/plot_types/basic/bar.html#sphx-glr-plot-types-basic-bar-py"
   ]
  },
  {
   "cell_type": "code",
   "execution_count": 40,
   "id": "d581e9ac",
   "metadata": {},
   "outputs": [
    {
     "data": {
      "image/png": "[encoded data removed]",
      "text/plain": [
       "<Figure size 640x480 with 1 Axes>"
      ]
     },
     "metadata": {},
     "output_type": "display_data"
    }
   ],
   "source": [
    "# Utilizando um gráfico de barras para visualizar\n",
    "import matplotlib.pyplot as plt\n",
    "\n",
    "fig, ax = plt.subplots()\n",
    "\n",
    "ax.bar(est.bin_edges_[0][:5], \n",
    "       contagem, \n",
    "       width=(titanic.Fare.max() - titanic.Fare.min()) / 5\n",
    "       , edgecolor=\"white\", linewidth=0.7,\n",
    "      align='edge')\n",
    "\n",
    "plt.show()"
   ]
  },
  {
   "cell_type": "markdown",
   "id": "5da9f15a",
   "metadata": {},
   "source": [
    "- Podemos utilizar `strategy=quantile` para que cada região tenha a mesma quantidade de registros\n",
    "    - Segundo a documentação: **\"usa os valores dos quantis para ter compartimentos igualmente preenchidos\"**"
   ]
  },
  {
   "cell_type": "code",
   "execution_count": null,
   "id": "7d1892bd",
   "metadata": {},
   "outputs": [],
   "source": [
    "# Definindo nossa discretização"
   ]
  },
  {
   "cell_type": "code",
   "execution_count": null,
   "id": "021418c9",
   "metadata": {},
   "outputs": [],
   "source": [
    "# Fazendo o fit com a coluna Fare"
   ]
  },
  {
   "cell_type": "code",
   "execution_count": null,
   "id": "04699f5b",
   "metadata": {},
   "outputs": [],
   "source": [
    "# Transformando os dados"
   ]
  },
  {
   "cell_type": "code",
   "execution_count": null,
   "id": "8cd6493c",
   "metadata": {},
   "outputs": [],
   "source": [
    "# Visualizando os dados gerados"
   ]
  },
  {
   "cell_type": "code",
   "execution_count": null,
   "id": "6a39a4ed",
   "metadata": {},
   "outputs": [],
   "source": [
    "# Salvando a contagem de valores em uma variável"
   ]
  },
  {
   "cell_type": "code",
   "execution_count": null,
   "id": "93e7c430",
   "metadata": {},
   "outputs": [],
   "source": [
    "# Verificando o intervalo em cada um desses grupos"
   ]
  },
  {
   "cell_type": "code",
   "execution_count": null,
   "id": "5059d245",
   "metadata": {},
   "outputs": [],
   "source": [
    "# Novamente utilizando o bin_edges"
   ]
  },
  {
   "cell_type": "markdown",
   "id": "7d61aac9",
   "metadata": {},
   "source": [
    "- Podemos então verificar os **quantis** da coluna Fare\n",
    "    - https://pandas.pydata.org/docs/reference/api/pandas.DataFrame.quantile.html\n",
    "    - Obs: **quartil é o quantil quando dividimos a base em 4 partes iguais**"
   ]
  },
  {
   "cell_type": "code",
   "execution_count": null,
   "id": "ee799fe5",
   "metadata": {},
   "outputs": [],
   "source": [
    "# Verificando os quantis que dividem essa base em 5 regiões"
   ]
  },
  {
   "cell_type": "code",
   "execution_count": null,
   "id": "05bc3e25",
   "metadata": {},
   "outputs": [],
   "source": [
    "# Podemos visualizar o comprimento de cada uma dessas regiões"
   ]
  },
  {
   "cell_type": "code",
   "execution_count": null,
   "id": "251e6dca",
   "metadata": {},
   "outputs": [],
   "source": [
    "# Utilizando um gráfico de barras para visualizar"
   ]
  },
  {
   "cell_type": "markdown",
   "id": "c371d2bb",
   "metadata": {},
   "source": [
    "### Binarização\n",
    "- https://scikit-learn.org/stable/modules/generated/sklearn.preprocessing.Binarizer.html#sklearn.preprocessing.Binarizer\n",
    "- **Transforma os dados em binários** (0 - se valor for menor ou igual ao limite ou 1 - valor maior que o limite) **baseado em um limite** informado como parâmetro\n",
    "    - **`threshold`**: limite usado para classificação dos valores\n",
    "- **Podemos fazer a binarização na coluna SibSp para determinar se as pessoas estavam viajando sozinhas (SibSp == 0) ou acompanhadas dos irmãos / conjuges (SibSp > 0)**  \n",
    "    - Para isso, **podemos considerar o limite igual a 0** (que é o valor default), por exemplo"
   ]
  },
  {
   "cell_type": "code",
   "execution_count": null,
   "id": "689f2aa2",
   "metadata": {},
   "outputs": [],
   "source": [
    "# Visualizando os valores de Parch"
   ]
  },
  {
   "cell_type": "code",
   "execution_count": null,
   "id": "da8ea723",
   "metadata": {},
   "outputs": [],
   "source": [
    "# Importando o Binarizer"
   ]
  },
  {
   "cell_type": "code",
   "execution_count": null,
   "id": "971a2240",
   "metadata": {},
   "outputs": [],
   "source": [
    "# Criando a binarização"
   ]
  },
  {
   "cell_type": "code",
   "execution_count": null,
   "id": "bb736fce",
   "metadata": {},
   "outputs": [],
   "source": [
    "# Fazendo o fit"
   ]
  },
  {
   "cell_type": "code",
   "execution_count": null,
   "id": "bdabb895",
   "metadata": {},
   "outputs": [],
   "source": [
    "# Fazendo a transformação"
   ]
  },
  {
   "cell_type": "code",
   "execution_count": null,
   "id": "146caf3c",
   "metadata": {},
   "outputs": [],
   "source": [
    "# Visualizando os valores"
   ]
  }
 ],
 "metadata": {
  "kernelspec": {
   "display_name": "Python 3 (ipykernel)",
   "language": "python",
   "name": "python3"
  },
  "language_info": {
   "codemirror_mode": {
    "name": "ipython",
    "version": 3
   },
   "file_extension": ".py",
   "mimetype": "text/x-python",
   "name": "python",
   "nbconvert_exporter": "python",
   "pygments_lexer": "ipython3",
   "version": "3.9.13"
  }
 },
 "nbformat": 4,
 "nbformat_minor": 5
}
