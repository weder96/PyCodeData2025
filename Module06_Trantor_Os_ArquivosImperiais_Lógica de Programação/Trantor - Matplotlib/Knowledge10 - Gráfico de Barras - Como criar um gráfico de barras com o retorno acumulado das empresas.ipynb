{
 "cells": [
  {
   "cell_type": "markdown",
   "id": "8f7338dd",
   "metadata": {},
   "source": [
    "# Mundo 10 - Gráfico de barras"
   ]
  },
  {
   "cell_type": "code",
   "execution_count": null,
   "id": "ff6c6122",
   "metadata": {},
   "outputs": [],
   "source": [
    "!pip install python-bcb"
   ]
  },
  {
   "cell_type": "code",
   "execution_count": null,
   "id": "3c97a4b1",
   "metadata": {},
   "outputs": [],
   "source": [
    "import matplotlib.pyplot as plt\n",
    "import numpy as np\n",
    "import pandas as pd\n",
    "from bcb import sgs\n",
    "import matplotlib.ticker as mtick\n",
    "import matplotlib.dates as mdate\n",
    "from datetime import datetime\n",
    "from datetime import timedelta\n",
    "import yfinance as yf"
   ]
  },
  {
   "cell_type": "code",
   "execution_count": null,
   "id": "c3559b3d",
   "metadata": {},
   "outputs": [],
   "source": [
    "params = {\"ytick.color\" : \"w\",\n",
    "          \"xtick.color\" : \"w\",\n",
    "          \"axes.labelcolor\" : \"w\",\n",
    "          \"axes.edgecolor\" : \"w\"}\n",
    "plt.rcParams.update(params)"
   ]
  },
  {
   "cell_type": "code",
   "execution_count": null,
   "id": "318eb98c",
   "metadata": {},
   "outputs": [],
   "source": [
    "df_lucros = pd.DataFrame({\"Weg\": [2000, 3000, 5000, 6000],\n",
    "                         \"Petrobras\": [150, 6000, 2000, 10000]}, \n",
    "                        index = ['1T', '2T', '3T', '4T'])\n",
    "                         \n",
    "\n",
    "df_lucros"
   ]
  },
  {
   "cell_type": "code",
   "execution_count": null,
   "id": "4fa71c04",
   "metadata": {
    "scrolled": false
   },
   "outputs": [],
   "source": [
    "fig, ax = plt.subplots()\n",
    "\n",
    "ax.bar(df_lucros.index, df_lucros.Weg.values , label = \"Weg\", width=0.3, align='center')\n",
    "ax.bar(df_lucros.index, df_lucros.Petrobras.values, label = \"Petrobras\", width=0.3)\n",
    "# ax.bar(df_lucros.index, df_lucros.Petrobras.values, label = \"Petrobras\", width=0.3, \n",
    "#        bottom=df_lucros.Weg.values)\n",
    "ax.legend()\n",
    "\n"
   ]
  },
  {
   "cell_type": "code",
   "execution_count": null,
   "id": "5763966e",
   "metadata": {},
   "outputs": [],
   "source": [
    "#resolvendo sem stack\n",
    "\n",
    "fig, ax = plt.subplots()\n",
    "\n",
    "\n",
    "numero_de_trimestres = 4\n",
    "posicao_barras = np.arange(numero_de_trimestres)\n",
    "largura_barras = 0.3\n",
    "\n",
    "barras = ax.bar(posicao_barras, df_lucros.Weg.values , label = \"Weg\", width=largura_barras)\n",
    "barras2 = ax.bar(posicao_barras + largura_barras, df_lucros.Petrobras.values, label = \"Petrobras\", \n",
    "       width=largura_barras)\n",
    "plt.xticks(posicao_barras + largura_barras / 2, tuple(df_lucros.index))\n",
    "\n",
    "#adicionando legenda de números\n",
    "\n",
    "ax.bar_label(barras)#pode formatar com o argumento fmt\n",
    "ax.bar_label(barras2)\n",
    "\n",
    "plt.legend()\n",
    "\n",
    "plt.show()"
   ]
  },
  {
   "cell_type": "code",
   "execution_count": null,
   "id": "2fdd237b",
   "metadata": {},
   "outputs": [],
   "source": [
    "# Busca a série do IPCA e IGP-M\n",
    "inflacao = sgs.get({'ipca': 433,\n",
    "             'igp-m': 189}, start = datetime.now() - timedelta(days = 180))\n",
    "\n",
    "inflacao"
   ]
  },
  {
   "cell_type": "code",
   "execution_count": null,
   "id": "3a642f7a",
   "metadata": {},
   "outputs": [],
   "source": [
    "datas_numericas = mdate.date2num(inflacao.index)\n",
    "\n",
    "fig, ax = plt.subplots()\n",
    "\n",
    "ax.bar(datas_numericas, inflacao['ipca'], label = \"IPCA\", width=7)\n",
    "ax.bar(datas_numericas - 7, inflacao['igp-m'], label = \"IGP-M\", width=7)\n",
    "ax.yaxis.set_major_formatter(mtick.PercentFormatter())\n",
    "myFmt = mdate.DateFormatter('%b-%Y')\n",
    "ax.xaxis.set_major_formatter(myFmt)\n",
    "ax.xaxis_date()\n",
    "\n",
    "plt.axhline(y = 0, color = \"black\")\n",
    "\n",
    "\n",
    "plt.legend()\n",
    "\n",
    "plt.show()"
   ]
  },
  {
   "cell_type": "markdown",
   "id": "67fe8245",
   "metadata": {},
   "source": [
    "# Exercícios \n",
    "\n",
    "* Exercício 102: Crie um gráfico de barras com o retorno acumulado da Ambev e do Ibovespa nos últimos 1, 3, 5 e 10 anos utilizando o estilo Cyberpunk."
   ]
  },
  {
   "cell_type": "code",
   "execution_count": null,
   "id": "89d599ab",
   "metadata": {},
   "outputs": [],
   "source": []
  },
  {
   "cell_type": "code",
   "execution_count": null,
   "id": "ef293504",
   "metadata": {},
   "outputs": [],
   "source": [
    "import mplcyberpunk\n",
    "plt.style.use(\"cyberpunk\")"
   ]
  },
  {
   "cell_type": "code",
   "execution_count": null,
   "id": "718c9a8c",
   "metadata": {},
   "outputs": [],
   "source": [
    "#gabarito 102\n",
    "\n",
    "cotacoes = yf.download([\"^BVSP\", \"ABEV3.SA\"], \"2010-01-01\")['Adj Close']\n",
    "\n",
    "retorno_1_ano = (cotacoes.pct_change(periods = 252).dropna()).iloc[-1, :]\n",
    "retorno_3_anos = (cotacoes.pct_change(periods = 252 * 3).dropna()).iloc[-1, :]\n",
    "retorno_5_anos = (cotacoes.pct_change(periods = 252 * 5).dropna()).iloc[-1, :]\n",
    "retorno_10_anos = (cotacoes.pct_change(periods = 252 * 10).dropna()).iloc[-1, :]\n",
    "\n",
    "valores_ibov = np.array([retorno_1_ano.iloc[0], retorno_3_anos.iloc[0], retorno_5_anos.iloc[0], retorno_10_anos.iloc[0]]) * 100\n",
    "valores_abev = np.array([retorno_1_ano.iloc[1], retorno_3_anos.iloc[1], retorno_5_anos.iloc[1], retorno_10_anos.iloc[1]]) * 100\n",
    "\n"
   ]
  },
  {
   "cell_type": "code",
   "execution_count": null,
   "id": "3b957c97",
   "metadata": {},
   "outputs": [],
   "source": [
    "fig, ax = plt.subplots(figsize = (9, 5))\n",
    "\n",
    "\n",
    "numero_de_anos = 4\n",
    "posicao_barras = np.arange(numero_de_anos)\n",
    "largura_barras = 0.3\n",
    "\n",
    "barras = ax.bar(posicao_barras, valores_ibov , label = \"Ibovespa\", width=largura_barras)\n",
    "barras2 = ax.bar(posicao_barras + largura_barras, valores_abev, label = \"Ambev\", width=largura_barras)\n",
    "plt.xticks(posicao_barras + largura_barras / 2, (\"1 ano\", \"3 anos\", \"5 anos\", \"10 anos\"))\n",
    "ax.yaxis.set_major_formatter(mtick.PercentFormatter())\n",
    "\n",
    "#adicionando legenda de números\n",
    "\n",
    "ax.bar_label(barras, fmt = \"%.0f%%\")\n",
    "ax.bar_label(barras2, fmt = \"%.0f%%\")\n",
    "\n",
    "plt.legend()\n",
    "plt.title(\"Performance acumulada Ibov x ABEV3\")\n",
    "\n",
    "plt.show()"
   ]
  },
  {
   "cell_type": "markdown",
   "id": "212e8753",
   "metadata": {},
   "source": [
    "# Mundo 11\n",
    "\n",
    "Histogramas, dispersão e muito mais."
   ]
  }
 ],
 "metadata": {
  "kernelspec": {
   "display_name": "Python 3",
   "language": "python",
   "name": "python3"
  },
  "language_info": {
   "codemirror_mode": {
    "name": "ipython",
    "version": 3
   },
   "file_extension": ".py",
   "mimetype": "text/x-python",
   "name": "python",
   "nbconvert_exporter": "python",
   "pygments_lexer": "ipython3",
   "version": "3.8.10"
  },
  "vscode": {
   "interpreter": {
    "hash": "916dbcbb3f70747c44a77c7bcd40155683ae19c65e1c03b4aa3499c5328201f1"
   }
  }
 },
 "nbformat": 4,
 "nbformat_minor": 5
}
