{
 "cells": [
  {
   "cell_type": "markdown",
   "id": "6b6071ff",
   "metadata": {},
   "source": [
    "# Knowledge 11"
   ]
  },
  {
   "cell_type": "code",
   "execution_count": 1,
   "id": "40e722f8",
   "metadata": {},
   "outputs": [
    {
     "name": "stdout",
     "output_type": "stream",
     "text": [
      "['Weg', 'Raia drogasil', 'Vale', 'Lojas Renner']\n"
     ]
    }
   ],
   "source": [
    "lista_base = ['Weg', 'Raia drogasil', 'Vale', 'Lojas Renner']\n",
    "lista_base = list(['Weg', 'Raia drogasil', 'Vale', 'Lojas Renner'])\n",
    "\n",
    "print(lista_base)"
   ]
  },
  {
   "cell_type": "code",
   "execution_count": 2,
   "id": "db081958",
   "metadata": {},
   "outputs": [],
   "source": [
    "lista_vazia = []\n",
    "lista_tipos_diferentes = ['flamengo', 8, 'campeonatos brasileiros']"
   ]
  },
  {
   "cell_type": "code",
   "execution_count": 3,
   "id": "f8e08d08",
   "metadata": {},
   "outputs": [
    {
     "name": "stdout",
     "output_type": "stream",
     "text": [
      "1 2 3 \n",
      "4 5 6 \n",
      "7 8 9 \n"
     ]
    }
   ],
   "source": [
    "lista_dentro_de_lista = [[1, 2, 3], [4, 5, 6], [7, 8, 9]] #matriz 3 x 3\n",
    "\n",
    "for lista in lista_dentro_de_lista:\n",
    "    for item in lista:\n",
    "        print(item, end=' ')\n",
    "    print()"
   ]
  },
  {
   "cell_type": "markdown",
   "id": "9b7a3dc8",
   "metadata": {},
   "source": [
    "## Manipulação de listas"
   ]
  },
  {
   "cell_type": "code",
   "execution_count": 4,
   "id": "6e9e5a23",
   "metadata": {},
   "outputs": [
    {
     "name": "stdout",
     "output_type": "stream",
     "text": [
      "['compra tudo', 'vende um pouco', 'vende sua casa para comprar', 'compra devagar', 'vende rápido ou vai quebrar', 'compra mais']\n"
     ]
    }
   ],
   "source": [
    "#adicionando novos itens a lista (no final)\n",
    "\n",
    "lista_sinais = []\n",
    "\n",
    "lista_sinais.append('compra tudo')\n",
    "lista_sinais.append('vende um pouco')\n",
    "lista_sinais.append('vende sua casa para comprar')\n",
    "lista_sinais.append('compra devagar')\n",
    "lista_sinais.append('vende rápido ou vai quebrar')\n",
    "lista_sinais.append('compra mais')\n",
    "\n",
    "print(lista_sinais)"
   ]
  },
  {
   "cell_type": "code",
   "execution_count": 5,
   "id": "0f12714d",
   "metadata": {},
   "outputs": [
    {
     "name": "stdout",
     "output_type": "stream",
     "text": [
      "compra tudo\n",
      "vende um pouco\n",
      "compra mais\n",
      "[1, 2, 3]\n",
      "1\n"
     ]
    }
   ],
   "source": [
    "#selecionando elementos na lista\n",
    "\n",
    "print(lista_sinais[0])\n",
    "print(lista_sinais[1])\n",
    "print(lista_sinais[-1])\n",
    "\n",
    "print(lista_dentro_de_lista[0])\n",
    "print(lista_dentro_de_lista[0][0])"
   ]
  },
  {
   "cell_type": "code",
   "execution_count": 6,
   "id": "c9969ebd",
   "metadata": {},
   "outputs": [
    {
     "name": "stdout",
     "output_type": "stream",
     "text": [
      "['compra tudo', 'vende um pouco']\n",
      "['vende um pouco', 'vende sua casa para comprar', 'compra devagar', 'vende rápido ou vai quebrar', 'compra mais']\n",
      "['compra tudo', 'vende um pouco', 'vende sua casa para comprar']\n",
      "['vende rápido ou vai quebrar', 'compra mais']\n"
     ]
    }
   ],
   "source": [
    "#selecionando vários elementos\n",
    "\n",
    "print(lista_sinais[0:2])\n",
    "print(lista_sinais[1: ])\n",
    "print(lista_sinais[ :3])\n",
    "print(lista_sinais[-2:])\n"
   ]
  },
  {
   "cell_type": "code",
   "execution_count": 7,
   "id": "eb4b69e7",
   "metadata": {},
   "outputs": [
    {
     "name": "stdout",
     "output_type": "stream",
     "text": [
      "['vende', 'vende um pouco', 'vende sua casa para comprar', 'compra devagar', 'vende rápido ou vai quebrar', 'compra mais']\n"
     ]
    }
   ],
   "source": [
    "#alterando elementos\n",
    "\n",
    "lista_sinais[0] = 'vende'\n",
    "\n",
    "print(lista_sinais)"
   ]
  },
  {
   "cell_type": "code",
   "execution_count": 8,
   "id": "a9753700",
   "metadata": {},
   "outputs": [
    {
     "name": "stdout",
     "output_type": "stream",
     "text": [
      "['vende', 'vende um pouco', 'compra até acabar o caixa', 'vende sua casa para comprar', 'compra devagar', 'vende rápido ou vai quebrar', 'compra mais']\n"
     ]
    }
   ],
   "source": [
    "#inserindo elementos em uma posição escolhida\n",
    "\n",
    "lista_sinais.insert(2, \"compra até acabar o caixa\")\n",
    "\n",
    "print(lista_sinais)\n"
   ]
  },
  {
   "cell_type": "code",
   "execution_count": 9,
   "id": "accd2477",
   "metadata": {},
   "outputs": [
    {
     "name": "stdout",
     "output_type": "stream",
     "text": [
      "['vende', 'vende um pouco', 'vende sua casa para comprar', 'compra devagar', 'vende rápido ou vai quebrar', 'compra mais']\n"
     ]
    }
   ],
   "source": [
    "#remover elementos da lista\n",
    "\n",
    "lista_sinais.remove('compra até acabar o caixa')\n",
    "\n",
    "print(lista_sinais)"
   ]
  },
  {
   "cell_type": "code",
   "execution_count": 10,
   "id": "c9fe2835",
   "metadata": {},
   "outputs": [
    {
     "name": "stdout",
     "output_type": "stream",
     "text": [
      "['vende um pouco', 'vende sua casa para comprar', 'compra devagar', 'vende rápido ou vai quebrar', 'compra mais']\n"
     ]
    }
   ],
   "source": [
    "#remove de uma posição específica\n",
    "\n",
    "del lista_sinais[0]\n",
    "\n",
    "print(lista_sinais)"
   ]
  },
  {
   "cell_type": "code",
   "execution_count": 11,
   "id": "baed7ecc",
   "metadata": {},
   "outputs": [
    {
     "name": "stdout",
     "output_type": "stream",
     "text": [
      "False True\n"
     ]
    }
   ],
   "source": [
    "#verifica se um elemento está na lista\n",
    "\n",
    "verificando = \"compra tudo\" in lista_sinais\n",
    "\n",
    "verificando2 = \"compra tudo\" not in lista_sinais\n",
    "\n",
    "print(verificando, verificando2)"
   ]
  },
  {
   "cell_type": "code",
   "execution_count": 12,
   "id": "6eea6a6f",
   "metadata": {},
   "outputs": [
    {
     "name": "stdout",
     "output_type": "stream",
     "text": [
      "[1, 2, 3, 4, 5, 6]\n"
     ]
    }
   ],
   "source": [
    "#junção de listas\n",
    "\n",
    "lista_1 = [1, 2, 3]\n",
    "\n",
    "lista_2 = [4, 5, 6]\n",
    "\n",
    "lista_final = lista_1 + lista_2 #listas não são vetores! isso é feito através do pacote numpy e teremos um módulo só dele\n",
    "\n",
    "print(lista_final)\n"
   ]
  },
  {
   "cell_type": "code",
   "execution_count": 13,
   "id": "c5e6eda5",
   "metadata": {},
   "outputs": [
    {
     "name": "stdout",
     "output_type": "stream",
     "text": [
      "[1, 23, 45, 56, 75]\n",
      "[75, 56, 45, 23, 1]\n"
     ]
    }
   ],
   "source": [
    "#ordenação em lista\n",
    "\n",
    "lista_desordenada = [56, 45, 1, 75, 23]\n",
    "\n",
    "lista_ordenada_crescente = sorted(lista_desordenada)\n",
    "\n",
    "print(lista_ordenada_crescente)\n",
    "\n",
    "lista_ordenada_decrescente = sorted(lista_desordenada, reverse=True)\n",
    "\n",
    "print(lista_ordenada_decrescente)"
   ]
  },
  {
   "cell_type": "code",
   "execution_count": 15,
   "id": "31e2b34f",
   "metadata": {},
   "outputs": [
    {
     "name": "stdout",
     "output_type": "stream",
     "text": [
      "5\n"
     ]
    }
   ],
   "source": [
    "#extraidno o tamanho de uma lista\n",
    "\n",
    "print(len(lista_desordenada))\n"
   ]
  },
  {
   "cell_type": "code",
   "execution_count": 16,
   "id": "14b47614",
   "metadata": {},
   "outputs": [
    {
     "name": "stdout",
     "output_type": "stream",
     "text": [
      "75\n",
      "1\n",
      "40.0\n"
     ]
    }
   ],
   "source": [
    "#extraindo valores máximos, mínimos e média de uma lista\n",
    "\n",
    "print(max(lista_desordenada))\n",
    "\n",
    "print(min(lista_desordenada))\n",
    "\n",
    "print(sum(lista_desordenada)/len(lista_desordenada))"
   ]
  },
  {
   "cell_type": "markdown",
   "id": "b97476a3",
   "metadata": {},
   "source": [
    "## Tuplas"
   ]
  },
  {
   "cell_type": "code",
   "execution_count": 18,
   "id": "eebb6992",
   "metadata": {},
   "outputs": [
    {
     "name": "stdout",
     "output_type": "stream",
     "text": [
      "2\n",
      "3\n",
      "0\n"
     ]
    }
   ],
   "source": [
    "tupla = (2, 3, 5, 2, 2)\n",
    "\n",
    "print(tupla[0])\n",
    "\n",
    "print(tupla.count(2))\n",
    "print(tupla.index(2))"
   ]
  },
  {
   "cell_type": "code",
   "execution_count": 19,
   "id": "b768809d",
   "metadata": {},
   "outputs": [
    {
     "name": "stdout",
     "output_type": "stream",
     "text": [
      "5\n",
      "5\n"
     ]
    }
   ],
   "source": [
    "#medindo o tamanho de uma coleção\n",
    "\n",
    "print(len(lista_desordenada))\n",
    "print(len(tupla))"
   ]
  },
  {
   "cell_type": "markdown",
   "id": "d6769546",
   "metadata": {},
   "source": [
    "# Desafios\n",
    "\n",
    "* Exercício 11: Peça ao usuário digitar o ticker de 4 empresas no terminal. Escolha, dentre as empresas digitadas, uma empresa pra emitir a recomendação de compra e mostre uma mensagem na tela dizendo sua recomendação. \n",
    "* Exercício 12: Peça ao usuário digitar o preço/lucro de 5 empresas. Devolva uma mensagem dizendo quais são os dois menores P/L da lista."
   ]
  },
  {
   "cell_type": "code",
   "execution_count": 20,
   "id": "3b5964da",
   "metadata": {},
   "outputs": [
    {
     "name": "stdout",
     "output_type": "stream",
     "text": [
      "Digite o primeiro ticker: WEGE3\n",
      "Digite o segundo ticker: PETR4\n",
      "Digite o terceiro ticker: VALE3\n",
      "Digite o quarto ticker: PCAR3\n",
      "Nosso algoritmo complexo recomenda a compra da empresa VALE3\n"
     ]
    }
   ],
   "source": [
    "import random\n",
    "\n",
    "lista_empresas = []\n",
    "\n",
    "ticker1 = str(input('Digite o primeiro ticker: '))\n",
    "ticker2 = str(input('Digite o segundo ticker: '))\n",
    "ticker3 = str(input('Digite o terceiro ticker: '))\n",
    "ticker4 = str(input('Digite o quarto ticker: '))\n",
    "\n",
    "lista_empresas.append(ticker1)\n",
    "lista_empresas.append(ticker2)\n",
    "lista_empresas.append(ticker3)\n",
    "lista_empresas.append(ticker4)\n",
    "\n",
    "empresa_escolhida = random.choice(lista_empresas)\n",
    "\n",
    "print(f\"Nosso algoritmo complexo recomenda a compra da empresa {empresa_escolhida}\")"
   ]
  },
  {
   "cell_type": "code",
   "execution_count": 21,
   "id": "442af11c",
   "metadata": {},
   "outputs": [
    {
     "name": "stdout",
     "output_type": "stream",
     "text": [
      "Digite o primeiro pl: 3\n",
      "Digite o segundo pl: 4\n",
      "Digite o terceiro pl: 5\n",
      "Digite o quarto pl: 10\n",
      "Digite o quinto pl: 20\n",
      "O menor P/L da lista é 3 e o segundo menor é 4\n"
     ]
    }
   ],
   "source": [
    "pl1 = int(input('Digite o primeiro pl: '))\n",
    "pl2 = int(input('Digite o segundo pl: '))\n",
    "pl3 = int(input('Digite o terceiro pl: '))\n",
    "pl4 = int(input('Digite o quarto pl: '))\n",
    "pl5 = int(input('Digite o quinto pl: '))\n",
    "\n",
    "lista_pls = [pl1, pl2, pl3, pl4, pl5]\n",
    "\n",
    "ordem_pls = sorted(lista_pls)\n",
    "\n",
    "ordem_pls = ordem_pls[:2]\n",
    "\n",
    "print(f'O menor P/L da lista é {ordem_pls[0]} e o segundo menor é {ordem_pls[1]}')\n"
   ]
  }
 ],
 "metadata": {
  "kernelspec": {
   "display_name": "Python 3 (ipykernel)",
   "language": "python",
   "name": "python3"
  },
  "language_info": {
   "codemirror_mode": {
    "name": "ipython",
    "version": 3
   },
   "file_extension": ".py",
   "mimetype": "text/x-python",
   "name": "python",
   "nbconvert_exporter": "python",
   "pygments_lexer": "ipython3",
   "version": "3.9.12"
  }
 },
 "nbformat": 4,
 "nbformat_minor": 5
}
