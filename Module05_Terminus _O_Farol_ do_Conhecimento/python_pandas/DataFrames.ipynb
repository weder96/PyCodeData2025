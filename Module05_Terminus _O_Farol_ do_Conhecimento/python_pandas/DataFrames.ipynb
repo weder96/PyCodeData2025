{
  "nbformat": 4,
  "nbformat_minor": 0,
  "metadata": {
    "colab": {
      "provenance": []
    },
    "kernelspec": {
      "name": "python3",
      "display_name": "Python 3"
    },
    "language_info": {
      "name": "python"
    }
  },
  "cells": [
    {
      "cell_type": "markdown",
      "source": [
        "#DataFrames\n",
        "Um DataFrame é uma estrutura de dados bidimensional, tabular, com rótulos de\n",
        "colunas e linhas (índices). É a estrutura mais utilizada no Pandas e pode ser pensadabcomo uma planilha ou uma tabela de banco de dados. Cada coluna em um DataFrame é uma Series .\n"
      ],
      "metadata": {
        "id": "0UuST1DYtceu"
      }
    },
    {
      "cell_type": "code",
      "source": [
        "import pandas as pd\n",
        "# Criando um DataFrame a partir de um dicionário de listas\n",
        "dados = {\n",
        "'Nome': ['Alice', 'Bob', 'Charlie', 'David'],\n",
        "'Idade': [25, 30, 35, 40],\n",
        "'Cidade': ['Nova York', 'Paris', 'Londres', 'Tóquio']\n",
        "}\n",
        "df = pd.DataFrame(dados)\n",
        "print('DataFrame a partir de dicionário de listas:')\n",
        "print(df)\n",
        "print(type(df))"
      ],
      "metadata": {
        "colab": {
          "base_uri": "https://localhost:8080/"
        },
        "id": "iSPMxqroN4r0",
        "outputId": "3dbf3aad-2c16-44ee-fa65-d0c61d73291e"
      },
      "execution_count": null,
      "outputs": [
        {
          "output_type": "stream",
          "name": "stdout",
          "text": [
            "DataFrame a partir de dicionário de listas:\n",
            "      Nome  Idade     Cidade\n",
            "0    Alice     25  Nova York\n",
            "1      Bob     30      Paris\n",
            "2  Charlie     35    Londres\n",
            "3    David     40     Tóquio\n",
            "<class 'pandas.core.frame.DataFrame'>\n"
          ]
        }
      ]
    },
    {
      "cell_type": "code",
      "source": [
        "#Acessando uma coluna do dataframe\n",
        "print(df.Nome)\n",
        "print(df['Nome'])\n",
        "\n",
        "print(df.Idade)\n",
        "print(df['Idade'])\n",
        "\n",
        "print(df.Cidade)\n",
        "print(df['Cidade'])"
      ],
      "metadata": {
        "id": "WlQJwQe-OMH9"
      },
      "execution_count": null,
      "outputs": []
    },
    {
      "cell_type": "code",
      "execution_count": null,
      "metadata": {
        "colab": {
          "base_uri": "https://localhost:8080/"
        },
        "id": "dx0FY1ChNGI0",
        "outputId": "8bfa9317-159f-49dc-cf3b-daa5dceebe74"
      },
      "outputs": [
        {
          "output_type": "stream",
          "name": "stdout",
          "text": [
            "\n",
            "DataFrame a partir de lista de dicionários:\n",
            "    Nome  Idade  Cidade\n",
            "0    Eva     28  Berlim\n",
            "1  Frank     32    Roma\n"
          ]
        }
      ],
      "source": [
        "# Criando um DataFrame a partir de uma lista de dicionários\n",
        "dados_lista_dict = [\n",
        "{'Nome': 'Eva', 'Idade': 28, 'Cidade': 'Berlim'},\n",
        "{'Nome': 'Frank', 'Idade': 32, 'Cidade': 'Roma'}\n",
        "]\n",
        "df_lista_dict = pd.DataFrame(dados_lista_dict)\n",
        "print('\\nDataFrame a partir de lista de dicionários:')\n",
        "print(df_lista_dict)\n",
        "\n",
        "#Acessando as colunas de um DataFrame\n",
        "#print(df_lista_dict.Nome)"
      ]
    },
    {
      "cell_type": "code",
      "source": [
        "print(df_lista_dict.Nome)\n",
        "print(df_lista_dict.Idade)\n",
        "print(df_lista_dict.Cidade)"
      ],
      "metadata": {
        "colab": {
          "base_uri": "https://localhost:8080/"
        },
        "id": "xny9LaY6PMAr",
        "outputId": "5e768dcb-33fd-42e0-820d-994e85191c62"
      },
      "execution_count": null,
      "outputs": [
        {
          "output_type": "stream",
          "name": "stdout",
          "text": [
            "0      Eva\n",
            "1    Frank\n",
            "Name: Nome, dtype: object\n",
            "0    28\n",
            "1    32\n",
            "Name: Idade, dtype: int64\n",
            "0    Berlim\n",
            "1      Roma\n",
            "Name: Cidade, dtype: object\n"
          ]
        }
      ]
    }
  ]
}