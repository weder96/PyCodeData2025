{
 "cells": [
  {
   "cell_type": "markdown",
   "id": "8dce9052",
   "metadata": {},
   "source": [
    "# Mundo 24\n",
    "\n",
    "### Análise de dados"
   ]
  },
  {
   "cell_type": "code",
   "execution_count": 1,
   "id": "2b88fa13",
   "metadata": {},
   "outputs": [
    {
     "name": "stderr",
     "output_type": "stream",
     "text": [
      "/home/vinicius/.local/lib/python3.8/site-packages/pandas/core/computation/expressions.py:20: UserWarning: Pandas requires version '2.7.3' or newer of 'numexpr' (version '2.7.1' currently installed).\n",
      "  from pandas.core.computation.check import NUMEXPR_INSTALLED\n"
     ]
    }
   ],
   "source": [
    "import pandas as pd\n",
    "import yfinance as yf"
   ]
  },
  {
   "cell_type": "code",
   "execution_count": 2,
   "id": "01470cb8",
   "metadata": {},
   "outputs": [
    {
     "name": "stdout",
     "output_type": "stream",
     "text": [
      "[*********************100%***********************]  1 of 1 completed\n"
     ]
    },
    {
     "data": {
      "text/plain": [
       "Date\n",
       "2017-01-02     5.311528\n",
       "2017-01-03     5.578864\n",
       "2017-01-04     5.445197\n",
       "2017-01-05     5.431126\n",
       "2017-01-06     5.476854\n",
       "                ...    \n",
       "2022-08-24    28.706726\n",
       "2022-08-25    28.866264\n",
       "2022-08-26    28.726665\n",
       "2022-08-29    28.287941\n",
       "2022-08-30    28.307882\n",
       "Name: Adj Close, Length: 1410, dtype: float64"
      ]
     },
     "execution_count": 2,
     "metadata": {},
     "output_type": "execute_result"
    }
   ],
   "source": [
    "inicio = \"2017-01-01\"\n",
    "final = \"2022-08-31\"\n",
    "\n",
    "dados_weg = yf.download(\"WEGE3.SA\", inicio, final)['Adj Close']\n",
    "\n",
    "dados_weg"
   ]
  },
  {
   "cell_type": "code",
   "execution_count": 3,
   "id": "61a7c770",
   "metadata": {},
   "outputs": [
    {
     "data": {
      "text/plain": [
       "Date\n",
       "2017-01-02         NaN\n",
       "2017-01-03    0.050331\n",
       "2017-01-04   -0.023960\n",
       "2017-01-05   -0.002584\n",
       "2017-01-06    0.008420\n",
       "                ...   \n",
       "2022-08-24   -0.000347\n",
       "2022-08-25    0.005558\n",
       "2022-08-26   -0.004836\n",
       "2022-08-29   -0.015272\n",
       "2022-08-30    0.000705\n",
       "Name: Adj Close, Length: 1410, dtype: float64"
      ]
     },
     "execution_count": 3,
     "metadata": {},
     "output_type": "execute_result"
    }
   ],
   "source": [
    "#retorno diário \n",
    "\n",
    "dados_weg.pct_change()"
   ]
  },
  {
   "cell_type": "code",
   "execution_count": 4,
   "id": "ca4929f6",
   "metadata": {},
   "outputs": [
    {
     "data": {
      "text/plain": [
       "Date\n",
       "2018-12-31   -0.037392\n",
       "2019-12-31    1.007021\n",
       "2020-12-31    1.202823\n",
       "2021-12-31   -0.119122\n",
       "2022-12-31   -0.126355\n",
       "Freq: A-DEC, Name: Adj Close, dtype: float64"
      ]
     },
     "execution_count": 4,
     "metadata": {},
     "output_type": "execute_result"
    }
   ],
   "source": [
    "#retorno_anual\n",
    "\n",
    "dados_weg.resample(\"Y\").last().pct_change().dropna()"
   ]
  },
  {
   "cell_type": "code",
   "execution_count": 5,
   "id": "d1dda6d9",
   "metadata": {},
   "outputs": [
    {
     "data": {
      "text/plain": [
       "Date\n",
       "2017-12-28    0.627257\n",
       "2017-12-29    0.549280\n",
       "2018-01-02    0.647222\n",
       "2018-01-03    0.626407\n",
       "2018-01-04    0.597118\n",
       "                ...   \n",
       "2022-08-24   -0.186763\n",
       "2022-08-25   -0.176982\n",
       "2022-08-26   -0.178895\n",
       "2022-08-29   -0.207438\n",
       "2022-08-30   -0.215291\n",
       "Name: Adj Close, Length: 1158, dtype: float64"
      ]
     },
     "execution_count": 5,
     "metadata": {},
     "output_type": "execute_result"
    }
   ],
   "source": [
    "#janela de retorno de 36 meses\n",
    "\n",
    "dias = 252 \n",
    "\n",
    "dados_36m = dados_weg.pct_change(periods = dias).dropna()\n",
    "\n",
    "dados_36m"
   ]
  },
  {
   "cell_type": "code",
   "execution_count": 6,
   "id": "2498f3b2",
   "metadata": {},
   "outputs": [
    {
     "data": {
      "text/plain": [
       "<AxesSubplot: xlabel='Date'>"
      ]
     },
     "execution_count": 6,
     "metadata": {},
     "output_type": "execute_result"
    },
    {
     "data": {
      "image/png": "[encoded data removed]",
      "text/plain": [
       "<Figure size 432x288 with 1 Axes>"
      ]
     },
     "metadata": {
      "needs_background": "light"
     },
     "output_type": "display_data"
    }
   ],
   "source": [
    "dados_36m.plot()"
   ]
  },
  {
   "cell_type": "code",
   "execution_count": 7,
   "id": "0073380f",
   "metadata": {},
   "outputs": [
    {
     "name": "stdout",
     "output_type": "stream",
     "text": [
      "[*********************100%***********************]  2 of 2 completed\n"
     ]
    },
    {
     "data": {
      "text/html": [
       "<div>\n",
       "<style scoped>\n",
       "    .dataframe tbody tr th:only-of-type {\n",
       "        vertical-align: middle;\n",
       "    }\n",
       "\n",
       "    .dataframe tbody tr th {\n",
       "        vertical-align: top;\n",
       "    }\n",
       "\n",
       "    .dataframe thead th {\n",
       "        text-align: right;\n",
       "    }\n",
       "</style>\n",
       "<table border=\"1\" class=\"dataframe\">\n",
       "  <thead>\n",
       "    <tr style=\"text-align: right;\">\n",
       "      <th></th>\n",
       "      <th>WEGE3.SA</th>\n",
       "      <th>^BVSP</th>\n",
       "    </tr>\n",
       "    <tr>\n",
       "      <th>Date</th>\n",
       "      <th></th>\n",
       "      <th></th>\n",
       "    </tr>\n",
       "  </thead>\n",
       "  <tbody>\n",
       "    <tr>\n",
       "      <th>2017-01-02</th>\n",
       "      <td>5.311528</td>\n",
       "      <td>59589.0</td>\n",
       "    </tr>\n",
       "    <tr>\n",
       "      <th>2017-01-03</th>\n",
       "      <td>5.578864</td>\n",
       "      <td>61814.0</td>\n",
       "    </tr>\n",
       "    <tr>\n",
       "      <th>2017-01-04</th>\n",
       "      <td>5.445197</td>\n",
       "      <td>61589.0</td>\n",
       "    </tr>\n",
       "    <tr>\n",
       "      <th>2017-01-05</th>\n",
       "      <td>5.431126</td>\n",
       "      <td>62071.0</td>\n",
       "    </tr>\n",
       "    <tr>\n",
       "      <th>2017-01-06</th>\n",
       "      <td>5.476854</td>\n",
       "      <td>61665.0</td>\n",
       "    </tr>\n",
       "    <tr>\n",
       "      <th>...</th>\n",
       "      <td>...</td>\n",
       "      <td>...</td>\n",
       "    </tr>\n",
       "    <tr>\n",
       "      <th>2022-08-24</th>\n",
       "      <td>28.706726</td>\n",
       "      <td>112898.0</td>\n",
       "    </tr>\n",
       "    <tr>\n",
       "      <th>2022-08-25</th>\n",
       "      <td>28.866264</td>\n",
       "      <td>113532.0</td>\n",
       "    </tr>\n",
       "    <tr>\n",
       "      <th>2022-08-26</th>\n",
       "      <td>28.726665</td>\n",
       "      <td>112299.0</td>\n",
       "    </tr>\n",
       "    <tr>\n",
       "      <th>2022-08-29</th>\n",
       "      <td>28.287941</td>\n",
       "      <td>112323.0</td>\n",
       "    </tr>\n",
       "    <tr>\n",
       "      <th>2022-08-30</th>\n",
       "      <td>28.307882</td>\n",
       "      <td>110431.0</td>\n",
       "    </tr>\n",
       "  </tbody>\n",
       "</table>\n",
       "<p>1410 rows × 2 columns</p>\n",
       "</div>"
      ],
      "text/plain": [
       "             WEGE3.SA     ^BVSP\n",
       "Date                           \n",
       "2017-01-02   5.311528   59589.0\n",
       "2017-01-03   5.578864   61814.0\n",
       "2017-01-04   5.445197   61589.0\n",
       "2017-01-05   5.431126   62071.0\n",
       "2017-01-06   5.476854   61665.0\n",
       "...               ...       ...\n",
       "2022-08-24  28.706726  112898.0\n",
       "2022-08-25  28.866264  113532.0\n",
       "2022-08-26  28.726665  112299.0\n",
       "2022-08-29  28.287941  112323.0\n",
       "2022-08-30  28.307882  110431.0\n",
       "\n",
       "[1410 rows x 2 columns]"
      ]
     },
     "execution_count": 7,
     "metadata": {},
     "output_type": "execute_result"
    }
   ],
   "source": [
    "dados_mercado = yf.download([\"^BVSP\", \"WEGE3.SA\"], inicio, final)['Adj Close']\n",
    "dados_mercado"
   ]
  },
  {
   "cell_type": "code",
   "execution_count": 8,
   "id": "c2f0b990",
   "metadata": {},
   "outputs": [
    {
     "data": {
      "text/html": [
       "<div>\n",
       "<style scoped>\n",
       "    .dataframe tbody tr th:only-of-type {\n",
       "        vertical-align: middle;\n",
       "    }\n",
       "\n",
       "    .dataframe tbody tr th {\n",
       "        vertical-align: top;\n",
       "    }\n",
       "\n",
       "    .dataframe thead th {\n",
       "        text-align: right;\n",
       "    }\n",
       "</style>\n",
       "<table border=\"1\" class=\"dataframe\">\n",
       "  <thead>\n",
       "    <tr style=\"text-align: right;\">\n",
       "      <th></th>\n",
       "      <th>WEGE3.SA</th>\n",
       "      <th>^BVSP</th>\n",
       "    </tr>\n",
       "    <tr>\n",
       "      <th>Date</th>\n",
       "      <th></th>\n",
       "      <th></th>\n",
       "    </tr>\n",
       "  </thead>\n",
       "  <tbody>\n",
       "    <tr>\n",
       "      <th>2017-12-28</th>\n",
       "      <td>0.627257</td>\n",
       "      <td>0.282149</td>\n",
       "    </tr>\n",
       "    <tr>\n",
       "      <th>2017-12-29</th>\n",
       "      <td>0.549280</td>\n",
       "      <td>0.235998</td>\n",
       "    </tr>\n",
       "    <tr>\n",
       "      <th>2018-01-02</th>\n",
       "      <td>0.647222</td>\n",
       "      <td>0.264690</td>\n",
       "    </tr>\n",
       "    <tr>\n",
       "      <th>2018-01-03</th>\n",
       "      <td>0.626407</td>\n",
       "      <td>0.256545</td>\n",
       "    </tr>\n",
       "    <tr>\n",
       "      <th>2018-01-04</th>\n",
       "      <td>0.597118</td>\n",
       "      <td>0.275391</td>\n",
       "    </tr>\n",
       "    <tr>\n",
       "      <th>...</th>\n",
       "      <td>...</td>\n",
       "      <td>...</td>\n",
       "    </tr>\n",
       "    <tr>\n",
       "      <th>2022-08-24</th>\n",
       "      <td>-0.186763</td>\n",
       "      <td>-0.043667</td>\n",
       "    </tr>\n",
       "    <tr>\n",
       "      <th>2022-08-25</th>\n",
       "      <td>-0.176982</td>\n",
       "      <td>-0.033540</td>\n",
       "    </tr>\n",
       "    <tr>\n",
       "      <th>2022-08-26</th>\n",
       "      <td>-0.178895</td>\n",
       "      <td>-0.065818</td>\n",
       "    </tr>\n",
       "    <tr>\n",
       "      <th>2022-08-29</th>\n",
       "      <td>-0.207438</td>\n",
       "      <td>-0.070312</td>\n",
       "    </tr>\n",
       "    <tr>\n",
       "      <th>2022-08-30</th>\n",
       "      <td>-0.215291</td>\n",
       "      <td>-0.069851</td>\n",
       "    </tr>\n",
       "  </tbody>\n",
       "</table>\n",
       "<p>1158 rows × 2 columns</p>\n",
       "</div>"
      ],
      "text/plain": [
       "            WEGE3.SA     ^BVSP\n",
       "Date                          \n",
       "2017-12-28  0.627257  0.282149\n",
       "2017-12-29  0.549280  0.235998\n",
       "2018-01-02  0.647222  0.264690\n",
       "2018-01-03  0.626407  0.256545\n",
       "2018-01-04  0.597118  0.275391\n",
       "...              ...       ...\n",
       "2022-08-24 -0.186763 -0.043667\n",
       "2022-08-25 -0.176982 -0.033540\n",
       "2022-08-26 -0.178895 -0.065818\n",
       "2022-08-29 -0.207438 -0.070312\n",
       "2022-08-30 -0.215291 -0.069851\n",
       "\n",
       "[1158 rows x 2 columns]"
      ]
     },
     "execution_count": 8,
     "metadata": {},
     "output_type": "execute_result"
    }
   ],
   "source": [
    "dados_36m = dados_mercado.pct_change(periods = dias).dropna()\n",
    "\n",
    "dados_36m"
   ]
  },
  {
   "cell_type": "code",
   "execution_count": 9,
   "id": "9f7a1f6f",
   "metadata": {},
   "outputs": [
    {
     "data": {
      "text/plain": [
       "<AxesSubplot: xlabel='Date'>"
      ]
     },
     "execution_count": 9,
     "metadata": {},
     "output_type": "execute_result"
    },
    {
     "data": {
      "image/png": "[encoded data removed]",
      "text/plain": [
       "<Figure size 432x288 with 1 Axes>"
      ]
     },
     "metadata": {
      "needs_background": "light"
     },
     "output_type": "display_data"
    }
   ],
   "source": [
    "dados_36m.plot()"
   ]
  },
  {
   "cell_type": "markdown",
   "id": "488bca5a",
   "metadata": {},
   "source": [
    "# Exercícios\n",
    "\n",
    "* Exercício 79: Puxe as cotações de uma empresa a sua escolha e calcule o retorno diário e o retorno anual.\n",
    "* Exercício 80: Compare as janelas de 12 meses de retorno de uma empresa escolhida pelo usuário com as janelas de 12 meses de retorno do ibovespa. "
   ]
  },
  {
   "cell_type": "code",
   "execution_count": null,
   "id": "85e227ee",
   "metadata": {},
   "outputs": [],
   "source": []
  },
  {
   "cell_type": "code",
   "execution_count": null,
   "id": "f7bba4ff",
   "metadata": {},
   "outputs": [],
   "source": []
  },
  {
   "cell_type": "code",
   "execution_count": 10,
   "id": "158d28da",
   "metadata": {},
   "outputs": [
    {
     "name": "stdout",
     "output_type": "stream",
     "text": [
      "[*********************100%***********************]  1 of 1 completed\n"
     ]
    },
    {
     "data": {
      "text/plain": [
       "Date\n",
       "2018-12-31    0.209546\n",
       "2019-12-31    0.484967\n",
       "2020-12-31   -0.211190\n",
       "2021-12-31   -0.425802\n",
       "2022-12-31    0.135424\n",
       "Freq: A-DEC, Name: Adj Close, dtype: float64"
      ]
     },
     "execution_count": 10,
     "metadata": {},
     "output_type": "execute_result"
    }
   ],
   "source": [
    "#Gabrito 79\n",
    "\n",
    "dados_acao = yf.download(\"LREN3.SA\", inicio, final)['Adj Close']\n",
    "\n",
    "retornos_diarios = dados_acao.pct_change().dropna()\n",
    "retornos_anuais = dados_acao.resample(\"Y\").last().pct_change().dropna()\n",
    "\n",
    "retornos_anuais"
   ]
  },
  {
   "cell_type": "code",
   "execution_count": 11,
   "id": "f0b2ec11",
   "metadata": {
    "scrolled": true
   },
   "outputs": [
    {
     "name": "stdout",
     "output_type": "stream",
     "text": [
      "[*********************100%***********************]  2 of 2 completed\n"
     ]
    },
    {
     "data": {
      "text/plain": [
       "<AxesSubplot: xlabel='Date'>"
      ]
     },
     "execution_count": 11,
     "metadata": {},
     "output_type": "execute_result"
    },
    {
     "data": {
      "image/png": "[encoded data removed]",
      "text/plain": [
       "<Figure size 432x288 with 1 Axes>"
      ]
     },
     "metadata": {
      "needs_background": "light"
     },
     "output_type": "display_data"
    }
   ],
   "source": [
    "#gabarito 80 \n",
    "\n",
    "empresa = input(\"Qual empresa você quer analisar: \")\n",
    "\n",
    "empresa = empresa + \".SA\"\n",
    "\n",
    "dados_mercado = yf.download([\"^BVSP\", empresa], inicio, final)['Adj Close']\n",
    "\n",
    "retornos_12m = dados_mercado.pct_change(periods = 252).dropna()\n",
    "retornos_12m.plot()"
   ]
  },
  {
   "cell_type": "markdown",
   "id": "b0f525a6",
   "metadata": {},
   "source": [
    "# Mundo 25\n",
    "\n",
    "Agora que você já calculou os retornos, como você pode calcular médias móveis no Pandas?"
   ]
  },
  {
   "cell_type": "code",
   "execution_count": null,
   "id": "64238f17",
   "metadata": {},
   "outputs": [],
   "source": []
  }
 ],
 "metadata": {
  "kernelspec": {
   "display_name": "Python 3",
   "language": "python",
   "name": "python3"
  },
  "language_info": {
   "codemirror_mode": {
    "name": "ipython",
    "version": 3
   },
   "file_extension": ".py",
   "mimetype": "text/x-python",
   "name": "python",
   "nbconvert_exporter": "python",
   "pygments_lexer": "ipython3",
   "version": "3.8.10"
  },
  "vscode": {
   "interpreter": {
    "hash": "916dbcbb3f70747c44a77c7bcd40155683ae19c65e1c03b4aa3499c5328201f1"
   }
  }
 },
 "nbformat": 4,
 "nbformat_minor": 5
}
