{
 "cells": [
  {
   "cell_type": "markdown",
   "id": "0384b792",
   "metadata": {},
   "source": [
    "# Mundo 15 - Gráficos especiais - Mapa de calor"
   ]
  },
  {
   "cell_type": "code",
   "execution_count": null,
   "id": "84dd3e8e",
   "metadata": {},
   "outputs": [],
   "source": [
    "import pandas as pd\n",
    "import matplotlib.pyplot as plt\n",
    "import matplotlib.ticker as mtick\n",
    "import numpy as np\n",
    "import matplotlib.dates as mdate\n",
    "import yfinance as yf\n",
    "from datetime import datetime\n",
    "import seaborn as sns"
   ]
  },
  {
   "cell_type": "code",
   "execution_count": null,
   "id": "8735170c",
   "metadata": {},
   "outputs": [],
   "source": [
    "params = {\"ytick.color\" : \"w\",\n",
    "          \"xtick.color\" : \"w\",\n",
    "          \"axes.labelcolor\" : \"w\",\n",
    "          \"axes.edgecolor\" : \"w\"}\n",
    "plt.rcParams.update(params)"
   ]
  },
  {
   "cell_type": "code",
   "execution_count": null,
   "id": "9270486a",
   "metadata": {},
   "outputs": [],
   "source": [
    "lista_acoes_inicial = [\"WEGE3\", \"VALE3\", \"PETR4\", \"ABEV3\", \"IBOV\"]\n",
    "\n",
    "lista_acoes = [acao + \".SA\" for acao in lista_acoes_inicial]\n",
    "\n",
    "if \"IBOV.SA\" in lista_acoes:\n",
    "    \n",
    "    lista_acoes.remove(\"IBOV.SA\")\n",
    "    lista_acoes.append(\"^BVSP\")\n",
    "    \n",
    "if \"BTC.SA\" in lista_acoes:\n",
    "    \n",
    "    lista_acoes.remove(\"BTC.SA\")\n",
    "    lista_acoes.append(\"BTC-USD\")\n",
    "\n",
    "cotacoes = yf.download(lista_acoes ,\"2008-12-28\", \"2023-01-01\")['Adj Close']\n",
    "                              "
   ]
  },
  {
   "cell_type": "code",
   "execution_count": null,
   "id": "982921ee",
   "metadata": {},
   "outputs": [],
   "source": [
    "def janelas_moveis_retorno_acumulado(df, dias, anos):\n",
    "\n",
    "    janela_movel = df.pct_change(periods = dias).dropna()\n",
    "    \n",
    "    lista_retornos = []\n",
    "    \n",
    "    for coluna in df.columns:\n",
    "\n",
    "        media_retorno_acumulado = janela_movel[coluna].mean()\n",
    "        valor_ao_ano = (1 + media_retorno_acumulado)**(1/anos) - 1 \n",
    "        lista_retornos.append(valor_ao_ano)\n",
    "\n",
    "    return lista_retornos"
   ]
  },
  {
   "cell_type": "code",
   "execution_count": null,
   "id": "c0d1c92d",
   "metadata": {},
   "outputs": [],
   "source": [
    "janela_1_ano_geral = janelas_moveis_retorno_acumulado(cotacoes, 250, anos = 1) \n",
    "janela_3_anos_geral = janelas_moveis_retorno_acumulado(cotacoes, 250 * 3, anos = 3) \n",
    "janela_5_anos_geral = janelas_moveis_retorno_acumulado(cotacoes, 250 * 5, anos = 5) \n",
    "janela_10_anos_geral = janelas_moveis_retorno_acumulado(cotacoes, 250 * 10, anos = 10) \n",
    "\n",
    "\n",
    "tabela_janelas_moveis = pd.DataFrame(data = {'1 ano': janela_1_ano_geral,\n",
    "                                            '3 anos': janela_3_anos_geral,\n",
    "                                            '5 anos': janela_5_anos_geral,\n",
    "                                            '10 anos': janela_10_anos_geral}, \n",
    "                                                index=lista_acoes_inicial)\n",
    "\n",
    "for coluna in tabela_janelas_moveis.columns:\n",
    "\n",
    "    tabela_janelas_moveis[f'{coluna}'] = (tabela_janelas_moveis[f'{coluna}'].round(2)) * 100\n",
    "    \n",
    "tabela_janelas_moveis"
   ]
  },
  {
   "cell_type": "code",
   "execution_count": null,
   "id": "0667e152",
   "metadata": {},
   "outputs": [],
   "source": [
    "ax = sns.heatmap(tabela_janelas_moveis, annot=True, cmap=\"RdBu\", fmt = \"g\")\n",
    "\n",
    "plt.title(\"Mapa de calor do retorno médio (ao ano) de cada ativo\", color = \"w\")\n",
    "plt.xticks(fontsize=12)\n",
    "plt.yticks(fontsize=12)\n",
    "\n",
    "for t in ax.texts: \n",
    "    t.set_text(t.get_text() + \"%\")\n",
    "\n",
    "plt.show()"
   ]
  },
  {
   "cell_type": "markdown",
   "id": "fc50e18a",
   "metadata": {},
   "source": [
    "# Mundo 16\n",
    "\n",
    "Gráfico especial - Mapa de calor quantstats"
   ]
  },
  {
   "cell_type": "code",
   "execution_count": null,
   "id": "994ab92a",
   "metadata": {},
   "outputs": [],
   "source": []
  }
 ],
 "metadata": {
  "kernelspec": {
   "display_name": "Python 3",
   "language": "python",
   "name": "python3"
  },
  "language_info": {
   "codemirror_mode": {
    "name": "ipython",
    "version": 3
   },
   "file_extension": ".py",
   "mimetype": "text/x-python",
   "name": "python",
   "nbconvert_exporter": "python",
   "pygments_lexer": "ipython3",
   "version": "3.8.10"
  },
  "vscode": {
   "interpreter": {
    "hash": "916dbcbb3f70747c44a77c7bcd40155683ae19c65e1c03b4aa3499c5328201f1"
   }
  }
 },
 "nbformat": 4,
 "nbformat_minor": 5
}
