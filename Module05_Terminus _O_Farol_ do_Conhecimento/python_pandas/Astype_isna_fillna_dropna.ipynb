{
  "nbformat": 4,
  "nbformat_minor": 0,
  "metadata": {
    "colab": {
      "provenance": []
    },
    "kernelspec": {
      "name": "python3",
      "display_name": "Python 3"
    },
    "language_info": {
      "name": "python"
    }
  },
  "cells": [
    {
      "cell_type": "code",
      "execution_count": null,
      "metadata": {
        "id": "kYY5It84cuQw"
      },
      "outputs": [],
      "source": [
        "#Criação do DataFrame\n",
        "import pandas as pd\n",
        "df = pd.DataFrame({\n",
        "'Numero_String': ['1', '2', '3', '4'],\n",
        "'Preco_Float': [10.5, 20.0, 15.75, 30.0]\n",
        "})\n",
        "print('--- Tipos de dados originais ---\\n', df.dtypes)"
      ]
    },
    {
      "cell_type": "code",
      "source": [
        "# Converter 'Numero_String' para int\n",
        "df['Numero_String'] = df['Numero_String'].astype(int)"
      ],
      "metadata": {
        "id": "O0UOIaGOdMPS"
      },
      "execution_count": null,
      "outputs": []
    },
    {
      "cell_type": "code",
      "source": [
        "# Converter 'Preco_Float' para int (irá truncar os decimais)\n",
        "df['Preco_Float'] = df['Preco_Float'].astype(int)\n",
        "print('\\n--- Tipos de dados após astype() ---\\n', df.dtypes)\n",
        "print('\\n--- DataFrame após astype() ---\\n', df)"
      ],
      "metadata": {
        "id": "qXXIzNZpdNSa"
      },
      "execution_count": null,
      "outputs": []
    },
    {
      "cell_type": "markdown",
      "source": [
        "#Métodos para Valores Ausentes\n",
        "- isna() : Retorna um DataFrame booleano de mesma forma que o original,\n",
        "indicando True onde há valores ausentes e False onde não há.\n",
        "- fillna() : Preenche os valores ausentes com um valor especificado ou com um\n",
        "método de preenchimento (e.g., ffill para preencher para frente, bfill para\n",
        "preencher para trás).\n",
        "- dropna() : Remove linhas ou colunas que contêm valores ausentes."
      ],
      "metadata": {
        "id": "P8pd0cGqdR8t"
      }
    },
    {
      "cell_type": "code",
      "source": [
        "#Criação do DataFrame2\n",
        "import numpy as np\n",
        "df2 = pd.DataFrame({\n",
        "'A': [1, 2, np.nan, 4, 5],\n",
        "'B': [np.nan, 2, 3, 4, np.nan],\n",
        "'C': [1, 2, 3, 4, 5]\n",
        "})"
      ],
      "metadata": {
        "id": "B32G3h0xdcE-"
      },
      "execution_count": null,
      "outputs": []
    },
    {
      "cell_type": "code",
      "source": [
        "print('--- DataFrame com valores ausentes ---\\n', df2)\n",
        "print('\\n--- isna() ---\\n', df2.isna())"
      ],
      "metadata": {
        "id": "Mto8jRUKfaIl"
      },
      "execution_count": null,
      "outputs": []
    },
    {
      "cell_type": "code",
      "source": [
        "# Preencher valores ausentes na coluna 'A' com 0\n",
        "df_filled_A = df2.fillna({'A': 0})\n",
        "print('\\n--- fillna() na coluna A com 0 ---\\n', df_filled_A)"
      ],
      "metadata": {
        "id": "CNYNky8nfbcf"
      },
      "execution_count": null,
      "outputs": []
    },
    {
      "cell_type": "code",
      "source": [
        "# Preencher todos os valores ausentes com a média da coluna\n",
        "df_filled_mean = df2.fillna(df2.mean())\n",
        "print('\\n--- fillna() com a média das colunas ---\\n', df_filled_mean)"
      ],
      "metadata": {
        "id": "fhRQ4F2nfcwU"
      },
      "execution_count": null,
      "outputs": []
    },
    {
      "cell_type": "code",
      "source": [
        "# Remover linhas com qualquer valor ausente\n",
        "df_dropped_rows = df2.dropna()\n",
        "print('\\n--- dropna() (linhas) ---\\n', df_dropped_rows)"
      ],
      "metadata": {
        "id": "acQEXNqjfeCI"
      },
      "execution_count": null,
      "outputs": []
    },
    {
      "cell_type": "code",
      "source": [
        "# Remover colunas com qualquer valor ausente\n",
        "df_dropped_cols = df2.dropna(axis=1)\n",
        "print('\\n--- dropna() (colunas) ---\\n', df_dropped_cols)"
      ],
      "metadata": {
        "id": "r9FZ21xAffHI"
      },
      "execution_count": null,
      "outputs": []
    }
  ]
}