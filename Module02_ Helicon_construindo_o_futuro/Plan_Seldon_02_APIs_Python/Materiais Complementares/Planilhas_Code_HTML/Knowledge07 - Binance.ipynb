{
 "cells": [
  {
   "cell_type": "code",
   "execution_count": null,
   "id": "84c9d8d0",
   "metadata": {},
   "outputs": [],
   "source": [
    "%pip install python-binance"
   ]
  },
  {
   "cell_type": "code",
   "execution_count": null,
   "id": "938a2f56",
   "metadata": {},
   "outputs": [],
   "source": [
    "from binance.client import Client\n",
    "from binance.enums import *\n",
    "from pprint import pprint\n",
    "import os"
   ]
  },
  {
   "cell_type": "markdown",
   "id": "8504219e",
   "metadata": {},
   "source": [
    "# Passo a Passo Binance:\n",
    "\n",
    "* Cria uma conta. Tem que habilitar o 2FA. Vai ter que esperar se não tiver conta.\n",
    "* Criar uma API Key gerada pelo sistema.\n",
    "* Desmarcar caixa de segurança.\n",
    "* Habilitar trades pela API.\n",
    "\n",
    "\n",
    "# Documentação API\n",
    "\n",
    "https://python-binance.readthedocs.io/en/latest/overview.html\n",
    "\n",
    "\n",
    "# Regras de limite da API\n",
    "\n",
    "* 1200 requests per minute\n",
    "* 10 orders per second\n",
    "* 100,000 orders per 24hrs\n",
    "\n",
    "# Conceito importante de aula:\n",
    "\n",
    "* São através das APIs que podemos criar bots que operam."
   ]
  },
  {
   "cell_type": "code",
   "execution_count": null,
   "id": "f7572b09",
   "metadata": {},
   "outputs": [],
   "source": [
    "api_key = os.getenv(\"KEY_BINANCE\")\n",
    "api_secret = os.getenv(\"SECRET_BINANCE\")\n",
    "\n",
    "cliente_binance = Client(api_key, api_secret)\n",
    "\n",
    "print(cliente_binance)"
   ]
  },
  {
   "cell_type": "code",
   "execution_count": null,
   "id": "a022a8ec",
   "metadata": {},
   "outputs": [],
   "source": [
    "%load_ext dotenv"
   ]
  },
  {
   "cell_type": "markdown",
   "id": "2bed72b6",
   "metadata": {},
   "source": [
    "# Pegado dados da sua conta"
   ]
  },
  {
   "cell_type": "code",
   "execution_count": null,
   "id": "c9744740",
   "metadata": {},
   "outputs": [],
   "source": [
    "conta = cliente_binance.get_account()\n",
    "\n",
    "pprint(conta)"
   ]
  },
  {
   "cell_type": "code",
   "execution_count": null,
   "id": "18bfeaba",
   "metadata": {},
   "outputs": [],
   "source": [
    "for ativo in conta[\"balances\"]:\n",
    "\n",
    "    if float(ativo[\"free\"]) > 0:\n",
    "        \n",
    "        print(ativo)"
   ]
  },
  {
   "cell_type": "markdown",
   "id": "b40d0602",
   "metadata": {},
   "source": [
    "# Pegando dados informativos do trade.\n",
    "\n",
    "* Pra pegar o símbolo, tem que ir no site da Binance."
   ]
  },
  {
   "cell_type": "code",
   "execution_count": null,
   "id": "349e2078",
   "metadata": {
    "scrolled": true
   },
   "outputs": [],
   "source": [
    "info = cliente_binance.get_symbol_info('BNBBRL')\n",
    "pprint(info)"
   ]
  },
  {
   "cell_type": "markdown",
   "id": "7f2345b4",
   "metadata": {},
   "source": [
    "# Criando uma ordem de compra\n",
    "\n",
    "* A ordem dos códigos importa. \n",
    "* O primeiro código é a moeda que você ta comprando ou vendendo.\n",
    "* O segundo código é a moeda que você vai usar pra comprar ou a moeda que você vai receber.\n",
    "\n",
    "### Ex:\n",
    "\n",
    "* Se você quer comprar BNB com reais, você deve usar SIDE_BUY. Comprar BNB, usando BRL.\n",
    "* Se você quer vender BNB e transformar em reais, você deve usar SIDE_SELL. Vender BNB, convertando pra BRL."
   ]
  },
  {
   "cell_type": "code",
   "execution_count": null,
   "id": "de8f6f62",
   "metadata": {},
   "outputs": [],
   "source": [
    "order = cliente_binance.create_order(\n",
    "                            symbol='BNBBRL',\n",
    "                            side=SIDE_BUY,\n",
    "                            type=ORDER_TYPE_MARKET,\n",
    "                            quantity=0.01)\n",
    "\n",
    "print(order)"
   ]
  },
  {
   "cell_type": "code",
   "execution_count": null,
   "id": "fa34d798",
   "metadata": {},
   "outputs": [],
   "source": [
    "conta = cliente_binance.get_account()\n",
    "\n",
    "for ativo in conta[\"balances\"]:\n",
    "\n",
    "    if float(ativo[\"free\"]) > 0:\n",
    "        \n",
    "        print(ativo)"
   ]
  },
  {
   "cell_type": "markdown",
   "id": "ee109e7b",
   "metadata": {},
   "source": [
    "# Histórico de transações"
   ]
  },
  {
   "cell_type": "code",
   "execution_count": null,
   "id": "6efbd02c",
   "metadata": {},
   "outputs": [],
   "source": [
    "orders = cliente_binance.get_all_orders(symbol='BNBBRL', limit=10)\n",
    "#print(orders)\n",
    "\n",
    "trades = cliente_binance.get_my_trades(symbol='BNBBRL')\n",
    "pprint(trades)"
   ]
  },
  {
   "cell_type": "markdown",
   "id": "2fd1bbad",
   "metadata": {},
   "source": [
    "# Preços em tempo real"
   ]
  },
  {
   "cell_type": "code",
   "execution_count": null,
   "id": "c4e48085",
   "metadata": {},
   "outputs": [],
   "source": [
    "transacoes_btc = cliente_binance.get_recent_trades(symbol='BNBBRL')\n",
    "pprint(transacoes_btc[-1])"
   ]
  },
  {
   "cell_type": "markdown",
   "id": "b971c858",
   "metadata": {},
   "source": [
    "# Pegando os preços em candle"
   ]
  },
  {
   "cell_type": "code",
   "execution_count": null,
   "id": "d63a02fa",
   "metadata": {},
   "outputs": [],
   "source": [
    "candles = cliente_binance.get_klines(symbol='BNBBRL', interval=Client.KLINE_INTERVAL_30MINUTE)\n",
    "\n",
    "pprint(candles)"
   ]
  }
 ],
 "metadata": {
  "kernelspec": {
   "display_name": "Python 3 (ipykernel)",
   "language": "python",
   "name": "python3"
  },
  "language_info": {
   "codemirror_mode": {
    "name": "ipython",
    "version": 3
   },
   "file_extension": ".py",
   "mimetype": "text/x-python",
   "name": "python",
   "nbconvert_exporter": "python",
   "pygments_lexer": "ipython3",
   "version": "3.9.12"
  },
  "vscode": {
   "interpreter": {
    "hash": "e3901721c1dc43833de5c21f729cdb91c67d656177384520d5b14669c55aa120"
   }
  }
 },
 "nbformat": 4,
 "nbformat_minor": 5
}
