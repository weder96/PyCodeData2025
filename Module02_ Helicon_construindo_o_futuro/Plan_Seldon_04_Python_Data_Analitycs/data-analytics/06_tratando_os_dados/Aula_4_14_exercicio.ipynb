{
  "nbformat": 4,
  "nbformat_minor": 0,
  "metadata": {
    "colab": {
      "provenance": []
    },
    "kernelspec": {
      "name": "python3",
      "display_name": "Python 3"
    },
    "language_info": {
      "name": "python"
    }
  },
  "cells": [
    {
      "cell_type": "markdown",
      "source": [
        "# **A loja vende mais no verão? ⛵**"
      ],
      "metadata": {
        "id": "l7VwytB3_a0W"
      }
    },
    {
      "cell_type": "markdown",
      "source": [
        "# Bibliotecas"
      ],
      "metadata": {
        "id": "iBCFsOCt6kjk"
      }
    },
    {
      "cell_type": "code",
      "execution_count": null,
      "metadata": {
        "id": "r-KG7Y-C6DVU"
      },
      "outputs": [],
      "source": [
        "import pandas as pd\n",
        "import numpy as np\n",
        "import matplotlib.pyplot as plt\n",
        "import seaborn as sns"
      ]
    },
    {
      "cell_type": "code",
      "source": [
        "from scipy.stats import zscore"
      ],
      "metadata": {
        "id": "th5BkbEyHApp"
      },
      "execution_count": null,
      "outputs": []
    },
    {
      "cell_type": "markdown",
      "source": [
        "#Coleta dos dados"
      ],
      "metadata": {
        "id": "iQpsTRl36uat"
      }
    },
    {
      "cell_type": "code",
      "source": [
        "df = pd.read_csv(\"/content/compras_loja_praia.csv\")"
      ],
      "metadata": {
        "id": "wVzI_ITn6xDN"
      },
      "execution_count": null,
      "outputs": []
    },
    {
      "cell_type": "code",
      "source": [
        "df.head()"
      ],
      "metadata": {
        "colab": {
          "base_uri": "https://localhost:8080/"
        },
        "id": "XrYw-C2K6_Ce",
        "outputId": "204665b9-871e-4333-cc7a-8c2b17960acc"
      },
      "execution_count": null,
      "outputs": [
        {
          "output_type": "execute_result",
          "data": {
            "text/plain": [
              "                              id_compra data_compra  \\\n",
              "0  2e1821b8-e57f-4dfd-996e-a52fcf5adbfc  2024-04-15   \n",
              "1  d9692b2b-29be-4910-840c-81fc7376f6b6  2024-12-30   \n",
              "2  335cee92-3f98-42a5-8530-b5ceca1b034f  2023-08-28   \n",
              "3  89825b18-98ee-465c-baaa-eb4b746934f0  2023-11-24   \n",
              "4  6b92128b-0caf-4a20-ad07-f5f67e6511f0  2024-05-16   \n",
              "\n",
              "                             cliente_id  idade_cliente genero_cliente  \\\n",
              "0  f8df1734-6e2a-4b76-9fd9-ec6a73d55f91           54.0      Masculino   \n",
              "1  de6d9a23-1428-4c6f-bba2-74d09990618c           67.0          Outro   \n",
              "2  8e46605c-c76c-455a-8b16-b841fbecf425            NaN       Feminino   \n",
              "3  0ce7c912-6f92-4f70-9907-52d4f812e053           30.0      Masculino   \n",
              "4  09a34955-ba0c-427d-a69a-20f0a94251d7           58.0      Masculino   \n",
              "\n",
              "           produto  quantidade  preco_unitario           cidade  \n",
              "0    Óculos de Sol           3           68.12              NaN  \n",
              "1      Rasteirinha           2           81.55  Lake Robertside  \n",
              "2  Toalha de Praia         100          104.18     Michelleland  \n",
              "3          Biquíni           5          143.24              NaN  \n",
              "4  Toalha de Praia         100          152.24              NaN  "
            ],
            "text/html": [
              "\n",
              "  <div id=\"df-542d2c38-0cad-4967-b90d-9d656bacc434\" class=\"colab-df-container\">\n",
              "    <div>\n",
              "<style scoped>\n",
              "    .dataframe tbody tr th:only-of-type {\n",
              "        vertical-align: middle;\n",
              "    }\n",
              "\n",
              "    .dataframe tbody tr th {\n",
              "        vertical-align: top;\n",
              "    }\n",
              "\n",
              "    .dataframe thead th {\n",
              "        text-align: right;\n",
              "    }\n",
              "</style>\n",
              "<table border=\"1\" class=\"dataframe\">\n",
              "  <thead>\n",
              "    <tr style=\"text-align: right;\">\n",
              "      <th></th>\n",
              "      <th>id_compra</th>\n",
              "      <th>data_compra</th>\n",
              "      <th>cliente_id</th>\n",
              "      <th>idade_cliente</th>\n",
              "      <th>genero_cliente</th>\n",
              "      <th>produto</th>\n",
              "      <th>quantidade</th>\n",
              "      <th>preco_unitario</th>\n",
              "      <th>cidade</th>\n",
              "    </tr>\n",
              "  </thead>\n",
              "  <tbody>\n",
              "    <tr>\n",
              "      <th>0</th>\n",
              "      <td>2e1821b8-e57f-4dfd-996e-a52fcf5adbfc</td>\n",
              "      <td>2024-04-15</td>\n",
              "      <td>f8df1734-6e2a-4b76-9fd9-ec6a73d55f91</td>\n",
              "      <td>54.0</td>\n",
              "      <td>Masculino</td>\n",
              "      <td>Óculos de Sol</td>\n",
              "      <td>3</td>\n",
              "      <td>68.12</td>\n",
              "      <td>NaN</td>\n",
              "    </tr>\n",
              "    <tr>\n",
              "      <th>1</th>\n",
              "      <td>d9692b2b-29be-4910-840c-81fc7376f6b6</td>\n",
              "      <td>2024-12-30</td>\n",
              "      <td>de6d9a23-1428-4c6f-bba2-74d09990618c</td>\n",
              "      <td>67.0</td>\n",
              "      <td>Outro</td>\n",
              "      <td>Rasteirinha</td>\n",
              "      <td>2</td>\n",
              "      <td>81.55</td>\n",
              "      <td>Lake Robertside</td>\n",
              "    </tr>\n",
              "    <tr>\n",
              "      <th>2</th>\n",
              "      <td>335cee92-3f98-42a5-8530-b5ceca1b034f</td>\n",
              "      <td>2023-08-28</td>\n",
              "      <td>8e46605c-c76c-455a-8b16-b841fbecf425</td>\n",
              "      <td>NaN</td>\n",
              "      <td>Feminino</td>\n",
              "      <td>Toalha de Praia</td>\n",
              "      <td>100</td>\n",
              "      <td>104.18</td>\n",
              "      <td>Michelleland</td>\n",
              "    </tr>\n",
              "    <tr>\n",
              "      <th>3</th>\n",
              "      <td>89825b18-98ee-465c-baaa-eb4b746934f0</td>\n",
              "      <td>2023-11-24</td>\n",
              "      <td>0ce7c912-6f92-4f70-9907-52d4f812e053</td>\n",
              "      <td>30.0</td>\n",
              "      <td>Masculino</td>\n",
              "      <td>Biquíni</td>\n",
              "      <td>5</td>\n",
              "      <td>143.24</td>\n",
              "      <td>NaN</td>\n",
              "    </tr>\n",
              "    <tr>\n",
              "      <th>4</th>\n",
              "      <td>6b92128b-0caf-4a20-ad07-f5f67e6511f0</td>\n",
              "      <td>2024-05-16</td>\n",
              "      <td>09a34955-ba0c-427d-a69a-20f0a94251d7</td>\n",
              "      <td>58.0</td>\n",
              "      <td>Masculino</td>\n",
              "      <td>Toalha de Praia</td>\n",
              "      <td>100</td>\n",
              "      <td>152.24</td>\n",
              "      <td>NaN</td>\n",
              "    </tr>\n",
              "  </tbody>\n",
              "</table>\n",
              "</div>\n",
              "    <div class=\"colab-df-buttons\">\n",
              "\n",
              "  <div class=\"colab-df-container\">\n",
              "    <button class=\"colab-df-convert\" onclick=\"convertToInteractive('df-542d2c38-0cad-4967-b90d-9d656bacc434')\"\n",
              "            title=\"Convert this dataframe to an interactive table.\"\n",
              "            style=\"display:none;\">\n",
              "\n",
              "  <svg xmlns=\"http://www.w3.org/2000/svg\" height=\"24px\" viewBox=\"0 -960 960 960\">\n",
              "    <path d=\"M120-120v-720h720v720H120Zm60-500h600v-160H180v160Zm220 220h160v-160H400v160Zm0 220h160v-160H400v160ZM180-400h160v-160H180v160Zm440 0h160v-160H620v160ZM180-180h160v-160H180v160Zm440 0h160v-160H620v160Z\"/>\n",
              "  </svg>\n",
              "    </button>\n",
              "\n",
              "  <style>\n",
              "    .colab-df-container {\n",
              "      display:flex;\n",
              "      gap: 12px;\n",
              "    }\n",
              "\n",
              "    .colab-df-convert {\n",
              "      background-color: #E8F0FE;\n",
              "      border: none;\n",
              "      border-radius: 50%;\n",
              "      cursor: pointer;\n",
              "      display: none;\n",
              "      fill: #1967D2;\n",
              "      height: 32px;\n",
              "      padding: 0 0 0 0;\n",
              "      width: 32px;\n",
              "    }\n",
              "\n",
              "    .colab-df-convert:hover {\n",
              "      background-color: #E2EBFA;\n",
              "      box-shadow: 0px 1px 2px rgba(60, 64, 67, 0.3), 0px 1px 3px 1px rgba(60, 64, 67, 0.15);\n",
              "      fill: #174EA6;\n",
              "    }\n",
              "\n",
              "    .colab-df-buttons div {\n",
              "      margin-bottom: 4px;\n",
              "    }\n",
              "\n",
              "    [theme=dark] .colab-df-convert {\n",
              "      background-color: #3B4455;\n",
              "      fill: #D2E3FC;\n",
              "    }\n",
              "\n",
              "    [theme=dark] .colab-df-convert:hover {\n",
              "      background-color: #434B5C;\n",
              "      box-shadow: 0px 1px 3px 1px rgba(0, 0, 0, 0.15);\n",
              "      filter: drop-shadow(0px 1px 2px rgba(0, 0, 0, 0.3));\n",
              "      fill: #FFFFFF;\n",
              "    }\n",
              "  </style>\n",
              "\n",
              "    <script>\n",
              "      const buttonEl =\n",
              "        document.querySelector('#df-542d2c38-0cad-4967-b90d-9d656bacc434 button.colab-df-convert');\n",
              "      buttonEl.style.display =\n",
              "        google.colab.kernel.accessAllowed ? 'block' : 'none';\n",
              "\n",
              "      async function convertToInteractive(key) {\n",
              "        const element = document.querySelector('#df-542d2c38-0cad-4967-b90d-9d656bacc434');\n",
              "        const dataTable =\n",
              "          await google.colab.kernel.invokeFunction('convertToInteractive',\n",
              "                                                    [key], {});\n",
              "        if (!dataTable) return;\n",
              "\n",
              "        const docLinkHtml = 'Like what you see? Visit the ' +\n",
              "          '<a target=\"_blank\" href=https://colab.research.google.com/notebooks/data_table.ipynb>data table notebook</a>'\n",
              "          + ' to learn more about interactive tables.';\n",
              "        element.innerHTML = '';\n",
              "        dataTable['output_type'] = 'display_data';\n",
              "        await google.colab.output.renderOutput(dataTable, element);\n",
              "        const docLink = document.createElement('div');\n",
              "        docLink.innerHTML = docLinkHtml;\n",
              "        element.appendChild(docLink);\n",
              "      }\n",
              "    </script>\n",
              "  </div>\n",
              "\n",
              "\n",
              "<div id=\"df-54c30d09-e988-49cc-8e86-949939476700\">\n",
              "  <button class=\"colab-df-quickchart\" onclick=\"quickchart('df-54c30d09-e988-49cc-8e86-949939476700')\"\n",
              "            title=\"Suggest charts\"\n",
              "            style=\"display:none;\">\n",
              "\n",
              "<svg xmlns=\"http://www.w3.org/2000/svg\" height=\"24px\"viewBox=\"0 0 24 24\"\n",
              "     width=\"24px\">\n",
              "    <g>\n",
              "        <path d=\"M19 3H5c-1.1 0-2 .9-2 2v14c0 1.1.9 2 2 2h14c1.1 0 2-.9 2-2V5c0-1.1-.9-2-2-2zM9 17H7v-7h2v7zm4 0h-2V7h2v10zm4 0h-2v-4h2v4z\"/>\n",
              "    </g>\n",
              "</svg>\n",
              "  </button>\n",
              "\n",
              "<style>\n",
              "  .colab-df-quickchart {\n",
              "      --bg-color: #E8F0FE;\n",
              "      --fill-color: #1967D2;\n",
              "      --hover-bg-color: #E2EBFA;\n",
              "      --hover-fill-color: #174EA6;\n",
              "      --disabled-fill-color: #AAA;\n",
              "      --disabled-bg-color: #DDD;\n",
              "  }\n",
              "\n",
              "  [theme=dark] .colab-df-quickchart {\n",
              "      --bg-color: #3B4455;\n",
              "      --fill-color: #D2E3FC;\n",
              "      --hover-bg-color: #434B5C;\n",
              "      --hover-fill-color: #FFFFFF;\n",
              "      --disabled-bg-color: #3B4455;\n",
              "      --disabled-fill-color: #666;\n",
              "  }\n",
              "\n",
              "  .colab-df-quickchart {\n",
              "    background-color: var(--bg-color);\n",
              "    border: none;\n",
              "    border-radius: 50%;\n",
              "    cursor: pointer;\n",
              "    display: none;\n",
              "    fill: var(--fill-color);\n",
              "    height: 32px;\n",
              "    padding: 0;\n",
              "    width: 32px;\n",
              "  }\n",
              "\n",
              "  .colab-df-quickchart:hover {\n",
              "    background-color: var(--hover-bg-color);\n",
              "    box-shadow: 0 1px 2px rgba(60, 64, 67, 0.3), 0 1px 3px 1px rgba(60, 64, 67, 0.15);\n",
              "    fill: var(--button-hover-fill-color);\n",
              "  }\n",
              "\n",
              "  .colab-df-quickchart-complete:disabled,\n",
              "  .colab-df-quickchart-complete:disabled:hover {\n",
              "    background-color: var(--disabled-bg-color);\n",
              "    fill: var(--disabled-fill-color);\n",
              "    box-shadow: none;\n",
              "  }\n",
              "\n",
              "  .colab-df-spinner {\n",
              "    border: 2px solid var(--fill-color);\n",
              "    border-color: transparent;\n",
              "    border-bottom-color: var(--fill-color);\n",
              "    animation:\n",
              "      spin 1s steps(1) infinite;\n",
              "  }\n",
              "\n",
              "  @keyframes spin {\n",
              "    0% {\n",
              "      border-color: transparent;\n",
              "      border-bottom-color: var(--fill-color);\n",
              "      border-left-color: var(--fill-color);\n",
              "    }\n",
              "    20% {\n",
              "      border-color: transparent;\n",
              "      border-left-color: var(--fill-color);\n",
              "      border-top-color: var(--fill-color);\n",
              "    }\n",
              "    30% {\n",
              "      border-color: transparent;\n",
              "      border-left-color: var(--fill-color);\n",
              "      border-top-color: var(--fill-color);\n",
              "      border-right-color: var(--fill-color);\n",
              "    }\n",
              "    40% {\n",
              "      border-color: transparent;\n",
              "      border-right-color: var(--fill-color);\n",
              "      border-top-color: var(--fill-color);\n",
              "    }\n",
              "    60% {\n",
              "      border-color: transparent;\n",
              "      border-right-color: var(--fill-color);\n",
              "    }\n",
              "    80% {\n",
              "      border-color: transparent;\n",
              "      border-right-color: var(--fill-color);\n",
              "      border-bottom-color: var(--fill-color);\n",
              "    }\n",
              "    90% {\n",
              "      border-color: transparent;\n",
              "      border-bottom-color: var(--fill-color);\n",
              "    }\n",
              "  }\n",
              "</style>\n",
              "\n",
              "  <script>\n",
              "    async function quickchart(key) {\n",
              "      const quickchartButtonEl =\n",
              "        document.querySelector('#' + key + ' button');\n",
              "      quickchartButtonEl.disabled = true;  // To prevent multiple clicks.\n",
              "      quickchartButtonEl.classList.add('colab-df-spinner');\n",
              "      try {\n",
              "        const charts = await google.colab.kernel.invokeFunction(\n",
              "            'suggestCharts', [key], {});\n",
              "      } catch (error) {\n",
              "        console.error('Error during call to suggestCharts:', error);\n",
              "      }\n",
              "      quickchartButtonEl.classList.remove('colab-df-spinner');\n",
              "      quickchartButtonEl.classList.add('colab-df-quickchart-complete');\n",
              "    }\n",
              "    (() => {\n",
              "      let quickchartButtonEl =\n",
              "        document.querySelector('#df-54c30d09-e988-49cc-8e86-949939476700 button');\n",
              "      quickchartButtonEl.style.display =\n",
              "        google.colab.kernel.accessAllowed ? 'block' : 'none';\n",
              "    })();\n",
              "  </script>\n",
              "</div>\n",
              "\n",
              "    </div>\n",
              "  </div>\n"
            ],
            "application/vnd.google.colaboratory.intrinsic+json": {
              "type": "dataframe",
              "variable_name": "df",
              "summary": "{\n  \"name\": \"df\",\n  \"rows\": 10050,\n  \"fields\": [\n    {\n      \"column\": \"id_compra\",\n      \"properties\": {\n        \"dtype\": \"string\",\n        \"num_unique_values\": 10000,\n        \"samples\": [\n          \"ceac7b59-a9df-4a06-b95e-61c7e5da5755\",\n          \"7c616c45-d7a3-4689-946e-cd2300ae33f8\",\n          \"92cb29eb-c23e-4c15-9cca-e97641788b8e\"\n        ],\n        \"semantic_type\": \"\",\n        \"description\": \"\"\n      }\n    },\n    {\n      \"column\": \"data_compra\",\n      \"properties\": {\n        \"dtype\": \"category\",\n        \"num_unique_values\": 750,\n        \"samples\": [\n          \"2025-03-03\",\n          \"2024-05-17\",\n          \"2024-06-20\"\n        ],\n        \"semantic_type\": \"\",\n        \"description\": \"\"\n      }\n    },\n    {\n      \"column\": \"cliente_id\",\n      \"properties\": {\n        \"dtype\": \"string\",\n        \"num_unique_values\": 10000,\n        \"samples\": [\n          \"6bc80747-f1c5-4ad2-8e27-4e09b46caf11\",\n          \"a7dfe7ff-c0b2-492f-b815-55ab614ccab4\",\n          \"ac3835a3-ab10-4d96-983a-d67e4b47838b\"\n        ],\n        \"semantic_type\": \"\",\n        \"description\": \"\"\n      }\n    },\n    {\n      \"column\": \"idade_cliente\",\n      \"properties\": {\n        \"dtype\": \"number\",\n        \"std\": 75.29691103265901,\n        \"min\": 16.0,\n        \"max\": 999.0,\n        \"num_unique_values\": 55,\n        \"samples\": [\n          60.0,\n          36.0,\n          56.0\n        ],\n        \"semantic_type\": \"\",\n        \"description\": \"\"\n      }\n    },\n    {\n      \"column\": \"genero_cliente\",\n      \"properties\": {\n        \"dtype\": \"category\",\n        \"num_unique_values\": 3,\n        \"samples\": [\n          \"Masculino\",\n          \"Outro\",\n          \"Feminino\"\n        ],\n        \"semantic_type\": \"\",\n        \"description\": \"\"\n      }\n    },\n    {\n      \"column\": \"produto\",\n      \"properties\": {\n        \"dtype\": \"category\",\n        \"num_unique_values\": 8,\n        \"samples\": [\n          \"Rasteirinha\",\n          \"Protetor Solar\",\n          \"\\u00d3culos de Sol\"\n        ],\n        \"semantic_type\": \"\",\n        \"description\": \"\"\n      }\n    },\n    {\n      \"column\": \"quantidade\",\n      \"properties\": {\n        \"dtype\": \"number\",\n        \"std\": 446,\n        \"min\": 1,\n        \"max\": 9999,\n        \"num_unique_values\": 7,\n        \"samples\": [\n          3,\n          2,\n          4\n        ],\n        \"semantic_type\": \"\",\n        \"description\": \"\"\n      }\n    },\n    {\n      \"column\": \"preco_unitario\",\n      \"properties\": {\n        \"dtype\": \"number\",\n        \"std\": 53.73199021518621,\n        \"min\": 0.01,\n        \"max\": 199.99,\n        \"num_unique_values\": 7682,\n        \"samples\": [\n          124.5,\n          137.51,\n          91.28\n        ],\n        \"semantic_type\": \"\",\n        \"description\": \"\"\n      }\n    },\n    {\n      \"column\": \"cidade\",\n      \"properties\": {\n        \"dtype\": \"category\",\n        \"num_unique_values\": 4286,\n        \"samples\": [\n          \"West Danny\",\n          \"Bentleymouth\",\n          \"Lake Jessicachester\"\n        ],\n        \"semantic_type\": \"\",\n        \"description\": \"\"\n      }\n    }\n  ]\n}"
            }
          },
          "metadata": {},
          "execution_count": 42
        }
      ]
    },
    {
      "cell_type": "code",
      "source": [
        "df.info()"
      ],
      "metadata": {
        "colab": {
          "base_uri": "https://localhost:8080/"
        },
        "id": "r8sB6uhe7g5T",
        "outputId": "95165708-ecfb-4116-8b18-e5eb9a1f8b31"
      },
      "execution_count": null,
      "outputs": [
        {
          "output_type": "stream",
          "name": "stdout",
          "text": [
            "<class 'pandas.core.frame.DataFrame'>\n",
            "RangeIndex: 10050 entries, 0 to 10049\n",
            "Data columns (total 9 columns):\n",
            " #   Column          Non-Null Count  Dtype  \n",
            "---  ------          --------------  -----  \n",
            " 0   id_compra       10050 non-null  object \n",
            " 1   data_compra     10050 non-null  object \n",
            " 2   cliente_id      10050 non-null  object \n",
            " 3   idade_cliente   5024 non-null   float64\n",
            " 4   genero_cliente  7555 non-null   object \n",
            " 5   produto         10050 non-null  object \n",
            " 6   quantidade      10050 non-null  int64  \n",
            " 7   preco_unitario  10050 non-null  float64\n",
            " 8   cidade          5023 non-null   object \n",
            "dtypes: float64(2), int64(1), object(6)\n",
            "memory usage: 706.8+ KB\n"
          ]
        }
      ]
    },
    {
      "cell_type": "code",
      "source": [
        "df.describe()"
      ],
      "metadata": {
        "colab": {
          "base_uri": "https://localhost:8080/"
        },
        "id": "_Sm6DSFV7v6Z",
        "outputId": "04c7f86c-dc60-4b7a-9ee1-d5f67a45767c"
      },
      "execution_count": null,
      "outputs": [
        {
          "output_type": "execute_result",
          "data": {
            "text/plain": [
              "       idade_cliente    quantidade  preco_unitario\n",
              "count    5024.000000  10050.000000     10050.00000\n",
              "mean       48.223328     39.355821       107.25190\n",
              "std        75.296911    446.253014        53.73199\n",
              "min        16.000000      1.000000         0.01000\n",
              "25%        30.000000      2.000000        61.50250\n",
              "50%        42.000000      4.000000       106.62000\n",
              "75%        56.000000      5.000000       153.42000\n",
              "max       999.000000   9999.000000       199.99000"
            ],
            "text/html": [
              "\n",
              "  <div id=\"df-984b540e-4306-4ce9-bac1-2e4acd6a324c\" class=\"colab-df-container\">\n",
              "    <div>\n",
              "<style scoped>\n",
              "    .dataframe tbody tr th:only-of-type {\n",
              "        vertical-align: middle;\n",
              "    }\n",
              "\n",
              "    .dataframe tbody tr th {\n",
              "        vertical-align: top;\n",
              "    }\n",
              "\n",
              "    .dataframe thead th {\n",
              "        text-align: right;\n",
              "    }\n",
              "</style>\n",
              "<table border=\"1\" class=\"dataframe\">\n",
              "  <thead>\n",
              "    <tr style=\"text-align: right;\">\n",
              "      <th></th>\n",
              "      <th>idade_cliente</th>\n",
              "      <th>quantidade</th>\n",
              "      <th>preco_unitario</th>\n",
              "    </tr>\n",
              "  </thead>\n",
              "  <tbody>\n",
              "    <tr>\n",
              "      <th>count</th>\n",
              "      <td>5024.000000</td>\n",
              "      <td>10050.000000</td>\n",
              "      <td>10050.00000</td>\n",
              "    </tr>\n",
              "    <tr>\n",
              "      <th>mean</th>\n",
              "      <td>48.223328</td>\n",
              "      <td>39.355821</td>\n",
              "      <td>107.25190</td>\n",
              "    </tr>\n",
              "    <tr>\n",
              "      <th>std</th>\n",
              "      <td>75.296911</td>\n",
              "      <td>446.253014</td>\n",
              "      <td>53.73199</td>\n",
              "    </tr>\n",
              "    <tr>\n",
              "      <th>min</th>\n",
              "      <td>16.000000</td>\n",
              "      <td>1.000000</td>\n",
              "      <td>0.01000</td>\n",
              "    </tr>\n",
              "    <tr>\n",
              "      <th>25%</th>\n",
              "      <td>30.000000</td>\n",
              "      <td>2.000000</td>\n",
              "      <td>61.50250</td>\n",
              "    </tr>\n",
              "    <tr>\n",
              "      <th>50%</th>\n",
              "      <td>42.000000</td>\n",
              "      <td>4.000000</td>\n",
              "      <td>106.62000</td>\n",
              "    </tr>\n",
              "    <tr>\n",
              "      <th>75%</th>\n",
              "      <td>56.000000</td>\n",
              "      <td>5.000000</td>\n",
              "      <td>153.42000</td>\n",
              "    </tr>\n",
              "    <tr>\n",
              "      <th>max</th>\n",
              "      <td>999.000000</td>\n",
              "      <td>9999.000000</td>\n",
              "      <td>199.99000</td>\n",
              "    </tr>\n",
              "  </tbody>\n",
              "</table>\n",
              "</div>\n",
              "    <div class=\"colab-df-buttons\">\n",
              "\n",
              "  <div class=\"colab-df-container\">\n",
              "    <button class=\"colab-df-convert\" onclick=\"convertToInteractive('df-984b540e-4306-4ce9-bac1-2e4acd6a324c')\"\n",
              "            title=\"Convert this dataframe to an interactive table.\"\n",
              "            style=\"display:none;\">\n",
              "\n",
              "  <svg xmlns=\"http://www.w3.org/2000/svg\" height=\"24px\" viewBox=\"0 -960 960 960\">\n",
              "    <path d=\"M120-120v-720h720v720H120Zm60-500h600v-160H180v160Zm220 220h160v-160H400v160Zm0 220h160v-160H400v160ZM180-400h160v-160H180v160Zm440 0h160v-160H620v160ZM180-180h160v-160H180v160Zm440 0h160v-160H620v160Z\"/>\n",
              "  </svg>\n",
              "    </button>\n",
              "\n",
              "  <style>\n",
              "    .colab-df-container {\n",
              "      display:flex;\n",
              "      gap: 12px;\n",
              "    }\n",
              "\n",
              "    .colab-df-convert {\n",
              "      background-color: #E8F0FE;\n",
              "      border: none;\n",
              "      border-radius: 50%;\n",
              "      cursor: pointer;\n",
              "      display: none;\n",
              "      fill: #1967D2;\n",
              "      height: 32px;\n",
              "      padding: 0 0 0 0;\n",
              "      width: 32px;\n",
              "    }\n",
              "\n",
              "    .colab-df-convert:hover {\n",
              "      background-color: #E2EBFA;\n",
              "      box-shadow: 0px 1px 2px rgba(60, 64, 67, 0.3), 0px 1px 3px 1px rgba(60, 64, 67, 0.15);\n",
              "      fill: #174EA6;\n",
              "    }\n",
              "\n",
              "    .colab-df-buttons div {\n",
              "      margin-bottom: 4px;\n",
              "    }\n",
              "\n",
              "    [theme=dark] .colab-df-convert {\n",
              "      background-color: #3B4455;\n",
              "      fill: #D2E3FC;\n",
              "    }\n",
              "\n",
              "    [theme=dark] .colab-df-convert:hover {\n",
              "      background-color: #434B5C;\n",
              "      box-shadow: 0px 1px 3px 1px rgba(0, 0, 0, 0.15);\n",
              "      filter: drop-shadow(0px 1px 2px rgba(0, 0, 0, 0.3));\n",
              "      fill: #FFFFFF;\n",
              "    }\n",
              "  </style>\n",
              "\n",
              "    <script>\n",
              "      const buttonEl =\n",
              "        document.querySelector('#df-984b540e-4306-4ce9-bac1-2e4acd6a324c button.colab-df-convert');\n",
              "      buttonEl.style.display =\n",
              "        google.colab.kernel.accessAllowed ? 'block' : 'none';\n",
              "\n",
              "      async function convertToInteractive(key) {\n",
              "        const element = document.querySelector('#df-984b540e-4306-4ce9-bac1-2e4acd6a324c');\n",
              "        const dataTable =\n",
              "          await google.colab.kernel.invokeFunction('convertToInteractive',\n",
              "                                                    [key], {});\n",
              "        if (!dataTable) return;\n",
              "\n",
              "        const docLinkHtml = 'Like what you see? Visit the ' +\n",
              "          '<a target=\"_blank\" href=https://colab.research.google.com/notebooks/data_table.ipynb>data table notebook</a>'\n",
              "          + ' to learn more about interactive tables.';\n",
              "        element.innerHTML = '';\n",
              "        dataTable['output_type'] = 'display_data';\n",
              "        await google.colab.output.renderOutput(dataTable, element);\n",
              "        const docLink = document.createElement('div');\n",
              "        docLink.innerHTML = docLinkHtml;\n",
              "        element.appendChild(docLink);\n",
              "      }\n",
              "    </script>\n",
              "  </div>\n",
              "\n",
              "\n",
              "<div id=\"df-545bc4d0-3bab-4a2f-9264-6348301908c9\">\n",
              "  <button class=\"colab-df-quickchart\" onclick=\"quickchart('df-545bc4d0-3bab-4a2f-9264-6348301908c9')\"\n",
              "            title=\"Suggest charts\"\n",
              "            style=\"display:none;\">\n",
              "\n",
              "<svg xmlns=\"http://www.w3.org/2000/svg\" height=\"24px\"viewBox=\"0 0 24 24\"\n",
              "     width=\"24px\">\n",
              "    <g>\n",
              "        <path d=\"M19 3H5c-1.1 0-2 .9-2 2v14c0 1.1.9 2 2 2h14c1.1 0 2-.9 2-2V5c0-1.1-.9-2-2-2zM9 17H7v-7h2v7zm4 0h-2V7h2v10zm4 0h-2v-4h2v4z\"/>\n",
              "    </g>\n",
              "</svg>\n",
              "  </button>\n",
              "\n",
              "<style>\n",
              "  .colab-df-quickchart {\n",
              "      --bg-color: #E8F0FE;\n",
              "      --fill-color: #1967D2;\n",
              "      --hover-bg-color: #E2EBFA;\n",
              "      --hover-fill-color: #174EA6;\n",
              "      --disabled-fill-color: #AAA;\n",
              "      --disabled-bg-color: #DDD;\n",
              "  }\n",
              "\n",
              "  [theme=dark] .colab-df-quickchart {\n",
              "      --bg-color: #3B4455;\n",
              "      --fill-color: #D2E3FC;\n",
              "      --hover-bg-color: #434B5C;\n",
              "      --hover-fill-color: #FFFFFF;\n",
              "      --disabled-bg-color: #3B4455;\n",
              "      --disabled-fill-color: #666;\n",
              "  }\n",
              "\n",
              "  .colab-df-quickchart {\n",
              "    background-color: var(--bg-color);\n",
              "    border: none;\n",
              "    border-radius: 50%;\n",
              "    cursor: pointer;\n",
              "    display: none;\n",
              "    fill: var(--fill-color);\n",
              "    height: 32px;\n",
              "    padding: 0;\n",
              "    width: 32px;\n",
              "  }\n",
              "\n",
              "  .colab-df-quickchart:hover {\n",
              "    background-color: var(--hover-bg-color);\n",
              "    box-shadow: 0 1px 2px rgba(60, 64, 67, 0.3), 0 1px 3px 1px rgba(60, 64, 67, 0.15);\n",
              "    fill: var(--button-hover-fill-color);\n",
              "  }\n",
              "\n",
              "  .colab-df-quickchart-complete:disabled,\n",
              "  .colab-df-quickchart-complete:disabled:hover {\n",
              "    background-color: var(--disabled-bg-color);\n",
              "    fill: var(--disabled-fill-color);\n",
              "    box-shadow: none;\n",
              "  }\n",
              "\n",
              "  .colab-df-spinner {\n",
              "    border: 2px solid var(--fill-color);\n",
              "    border-color: transparent;\n",
              "    border-bottom-color: var(--fill-color);\n",
              "    animation:\n",
              "      spin 1s steps(1) infinite;\n",
              "  }\n",
              "\n",
              "  @keyframes spin {\n",
              "    0% {\n",
              "      border-color: transparent;\n",
              "      border-bottom-color: var(--fill-color);\n",
              "      border-left-color: var(--fill-color);\n",
              "    }\n",
              "    20% {\n",
              "      border-color: transparent;\n",
              "      border-left-color: var(--fill-color);\n",
              "      border-top-color: var(--fill-color);\n",
              "    }\n",
              "    30% {\n",
              "      border-color: transparent;\n",
              "      border-left-color: var(--fill-color);\n",
              "      border-top-color: var(--fill-color);\n",
              "      border-right-color: var(--fill-color);\n",
              "    }\n",
              "    40% {\n",
              "      border-color: transparent;\n",
              "      border-right-color: var(--fill-color);\n",
              "      border-top-color: var(--fill-color);\n",
              "    }\n",
              "    60% {\n",
              "      border-color: transparent;\n",
              "      border-right-color: var(--fill-color);\n",
              "    }\n",
              "    80% {\n",
              "      border-color: transparent;\n",
              "      border-right-color: var(--fill-color);\n",
              "      border-bottom-color: var(--fill-color);\n",
              "    }\n",
              "    90% {\n",
              "      border-color: transparent;\n",
              "      border-bottom-color: var(--fill-color);\n",
              "    }\n",
              "  }\n",
              "</style>\n",
              "\n",
              "  <script>\n",
              "    async function quickchart(key) {\n",
              "      const quickchartButtonEl =\n",
              "        document.querySelector('#' + key + ' button');\n",
              "      quickchartButtonEl.disabled = true;  // To prevent multiple clicks.\n",
              "      quickchartButtonEl.classList.add('colab-df-spinner');\n",
              "      try {\n",
              "        const charts = await google.colab.kernel.invokeFunction(\n",
              "            'suggestCharts', [key], {});\n",
              "      } catch (error) {\n",
              "        console.error('Error during call to suggestCharts:', error);\n",
              "      }\n",
              "      quickchartButtonEl.classList.remove('colab-df-spinner');\n",
              "      quickchartButtonEl.classList.add('colab-df-quickchart-complete');\n",
              "    }\n",
              "    (() => {\n",
              "      let quickchartButtonEl =\n",
              "        document.querySelector('#df-545bc4d0-3bab-4a2f-9264-6348301908c9 button');\n",
              "      quickchartButtonEl.style.display =\n",
              "        google.colab.kernel.accessAllowed ? 'block' : 'none';\n",
              "    })();\n",
              "  </script>\n",
              "</div>\n",
              "\n",
              "    </div>\n",
              "  </div>\n"
            ],
            "application/vnd.google.colaboratory.intrinsic+json": {
              "type": "dataframe",
              "summary": "{\n  \"name\": \"df\",\n  \"rows\": 8,\n  \"fields\": [\n    {\n      \"column\": \"idade_cliente\",\n      \"properties\": {\n        \"dtype\": \"number\",\n        \"std\": 1744.6365771548815,\n        \"min\": 16.0,\n        \"max\": 5024.0,\n        \"num_unique_values\": 8,\n        \"samples\": [\n          48.223328025477706,\n          42.0,\n          5024.0\n        ],\n        \"semantic_type\": \"\",\n        \"description\": \"\"\n      }\n    },\n    {\n      \"column\": \"quantidade\",\n      \"properties\": {\n        \"dtype\": \"number\",\n        \"std\": 4604.545049747028,\n        \"min\": 1.0,\n        \"max\": 10050.0,\n        \"num_unique_values\": 8,\n        \"samples\": [\n          39.355820895522385,\n          4.0,\n          10050.0\n        ],\n        \"semantic_type\": \"\",\n        \"description\": \"\"\n      }\n    },\n    {\n      \"column\": \"preco_unitario\",\n      \"properties\": {\n        \"dtype\": \"number\",\n        \"std\": 3519.277195158139,\n        \"min\": 0.01,\n        \"max\": 10050.0,\n        \"num_unique_values\": 8,\n        \"samples\": [\n          107.25190049751245,\n          106.62,\n          10050.0\n        ],\n        \"semantic_type\": \"\",\n        \"description\": \"\"\n      }\n    }\n  ]\n}"
            }
          },
          "metadata": {},
          "execution_count": 44
        }
      ]
    },
    {
      "cell_type": "markdown",
      "source": [
        "# Observação dos dados"
      ],
      "metadata": {
        "id": "l0ME4P_i847N"
      }
    },
    {
      "cell_type": "code",
      "source": [
        "df.isnull().sum()"
      ],
      "metadata": {
        "colab": {
          "base_uri": "https://localhost:8080/",
          "height": 366
        },
        "id": "5aTiHi7p_qP9",
        "outputId": "eecbdd97-fcec-41d2-9b49-73a40bc28340"
      },
      "execution_count": null,
      "outputs": [
        {
          "output_type": "execute_result",
          "data": {
            "text/plain": [
              "id_compra            0\n",
              "data_compra          0\n",
              "cliente_id           0\n",
              "idade_cliente     5026\n",
              "genero_cliente    2495\n",
              "produto              0\n",
              "quantidade           0\n",
              "preco_unitario       0\n",
              "cidade            5027\n",
              "dtype: int64"
            ],
            "text/html": [
              "<div>\n",
              "<style scoped>\n",
              "    .dataframe tbody tr th:only-of-type {\n",
              "        vertical-align: middle;\n",
              "    }\n",
              "\n",
              "    .dataframe tbody tr th {\n",
              "        vertical-align: top;\n",
              "    }\n",
              "\n",
              "    .dataframe thead th {\n",
              "        text-align: right;\n",
              "    }\n",
              "</style>\n",
              "<table border=\"1\" class=\"dataframe\">\n",
              "  <thead>\n",
              "    <tr style=\"text-align: right;\">\n",
              "      <th></th>\n",
              "      <th>0</th>\n",
              "    </tr>\n",
              "  </thead>\n",
              "  <tbody>\n",
              "    <tr>\n",
              "      <th>id_compra</th>\n",
              "      <td>0</td>\n",
              "    </tr>\n",
              "    <tr>\n",
              "      <th>data_compra</th>\n",
              "      <td>0</td>\n",
              "    </tr>\n",
              "    <tr>\n",
              "      <th>cliente_id</th>\n",
              "      <td>0</td>\n",
              "    </tr>\n",
              "    <tr>\n",
              "      <th>idade_cliente</th>\n",
              "      <td>5026</td>\n",
              "    </tr>\n",
              "    <tr>\n",
              "      <th>genero_cliente</th>\n",
              "      <td>2495</td>\n",
              "    </tr>\n",
              "    <tr>\n",
              "      <th>produto</th>\n",
              "      <td>0</td>\n",
              "    </tr>\n",
              "    <tr>\n",
              "      <th>quantidade</th>\n",
              "      <td>0</td>\n",
              "    </tr>\n",
              "    <tr>\n",
              "      <th>preco_unitario</th>\n",
              "      <td>0</td>\n",
              "    </tr>\n",
              "    <tr>\n",
              "      <th>cidade</th>\n",
              "      <td>5027</td>\n",
              "    </tr>\n",
              "  </tbody>\n",
              "</table>\n",
              "</div><br><label><b>dtype:</b> int64</label>"
            ]
          },
          "metadata": {},
          "execution_count": 24
        }
      ]
    },
    {
      "cell_type": "code",
      "source": [
        "df.duplicated().sum()"
      ],
      "metadata": {
        "colab": {
          "base_uri": "https://localhost:8080/"
        },
        "id": "K1gMVpYKAlB2",
        "outputId": "f9a9a638-3fc2-43a3-eb78-fd758cfd64e0"
      },
      "execution_count": null,
      "outputs": [
        {
          "output_type": "execute_result",
          "data": {
            "text/plain": [
              "np.int64(50)"
            ]
          },
          "metadata": {},
          "execution_count": 28
        }
      ]
    },
    {
      "cell_type": "markdown",
      "source": [
        "### Idade"
      ],
      "metadata": {
        "id": "OA_Fl-N7-IB4"
      }
    },
    {
      "cell_type": "code",
      "source": [
        "df[[\"idade_cliente\"]].hist(bins = 100, figsize=(15,5))\n",
        "plt.suptitle(\"Distribuição idade\")\n",
        "plt.show()"
      ],
      "metadata": {
        "colab": {
          "base_uri": "https://localhost:8080/",
          "height": 467
        },
        "id": "aVlrUsgq88mW",
        "outputId": "959e4489-2155-4fa2-97c6-76d08c9e95ff"
      },
      "execution_count": null,
      "outputs": [
        {
          "output_type": "display_data",
          "data": {
            "text/plain": [
              "<Figure size 1500x500 with 1 Axes>"
            ],
            "image/png": "[encoded data removed]"
          },
          "metadata": {}
        }
      ]
    },
    {
      "cell_type": "code",
      "source": [
        "sns.boxplot(x = df[\"idade_cliente\"])\n",
        "plt.title(\"Distribuição idade\")\n",
        "plt.show()"
      ],
      "metadata": {
        "colab": {
          "base_uri": "https://localhost:8080/",
          "height": 472
        },
        "id": "8HEj7oWQ9yxX",
        "outputId": "7d0e6b3d-ec0f-4448-a89d-34bbd5f84bf5"
      },
      "execution_count": null,
      "outputs": [
        {
          "output_type": "display_data",
          "data": {
            "text/plain": [
              "<Figure size 640x480 with 1 Axes>"
            ],
            "image/png": "[encoded data removed]"
          },
          "metadata": {}
        }
      ]
    },
    {
      "cell_type": "markdown",
      "source": [
        "### Valor unitário"
      ],
      "metadata": {
        "id": "zGFUzjve-MpG"
      }
    },
    {
      "cell_type": "code",
      "source": [
        "df[[\"preco_unitario\"]].hist(bins = 30, figsize=(10,4))\n",
        "plt.suptitle(\"Distribuição preço unitario\")\n",
        "plt.show()"
      ],
      "metadata": {
        "colab": {
          "base_uri": "https://localhost:8080/",
          "height": 408
        },
        "id": "Bd6bS6q7-TRl",
        "outputId": "3596c3b9-2435-480d-e73e-94cc2065657a"
      },
      "execution_count": null,
      "outputs": [
        {
          "output_type": "display_data",
          "data": {
            "text/plain": [
              "<Figure size 1000x400 with 1 Axes>"
            ],
            "image/png": "[encoded data removed]"
          },
          "metadata": {}
        }
      ]
    },
    {
      "cell_type": "code",
      "source": [
        "sns.boxplot(x = df[\"preco_unitario\"])\n",
        "plt.title(\"Distribuição preço unitario\")\n",
        "plt.show()"
      ],
      "metadata": {
        "colab": {
          "base_uri": "https://localhost:8080/",
          "height": 472
        },
        "id": "d0F61PZ9-Vs0",
        "outputId": "2de65a78-9dc5-49ad-ae3c-76980b4ca942"
      },
      "execution_count": null,
      "outputs": [
        {
          "output_type": "display_data",
          "data": {
            "text/plain": [
              "<Figure size 640x480 with 1 Axes>"
            ],
            "image/png": "[encoded data removed]"
          },
          "metadata": {}
        }
      ]
    },
    {
      "cell_type": "markdown",
      "source": [
        "### Quantidade"
      ],
      "metadata": {
        "id": "vpyL_u5j-5GE"
      }
    },
    {
      "cell_type": "code",
      "source": [
        "df[[\"quantidade\"]].hist(bins = 30, figsize=(10,4))\n",
        "plt.suptitle(\"Distribuição Quantidade\")\n",
        "plt.show()"
      ],
      "metadata": {
        "colab": {
          "base_uri": "https://localhost:8080/",
          "height": 408
        },
        "id": "yujq7Ayk-623",
        "outputId": "c9932996-ecfe-4e1b-c772-ca64e4fb6b1d"
      },
      "execution_count": null,
      "outputs": [
        {
          "output_type": "display_data",
          "data": {
            "text/plain": [
              "<Figure size 1000x400 with 1 Axes>"
            ],
            "image/png": "[encoded data removed]"
          },
          "metadata": {}
        }
      ]
    },
    {
      "cell_type": "code",
      "source": [
        "sns.boxplot(x = df[\"quantidade\"])\n",
        "plt.title(\"Distribuição Quantidade\")\n",
        "plt.show()"
      ],
      "metadata": {
        "colab": {
          "base_uri": "https://localhost:8080/",
          "height": 472
        },
        "id": "kycrHh-P--K9",
        "outputId": "6b288bdd-98cc-402f-fc27-c79945cc8598"
      },
      "execution_count": null,
      "outputs": [
        {
          "output_type": "display_data",
          "data": {
            "text/plain": [
              "<Figure size 640x480 with 1 Axes>"
            ],
            "image/png": "[encoded data removed]"
          },
          "metadata": {}
        }
      ]
    },
    {
      "cell_type": "markdown",
      "source": [
        "# Tratamento\n",
        "\n",
        "\n",
        "\n",
        "*   Arrumar data ✅\n",
        "*   Replace de genero ✅\n",
        "*   Tratar outlier de quantidade ✅\n",
        "*   Tratar discrepância do preço unitário ✅\n",
        "\n"
      ],
      "metadata": {
        "id": "-bcjochvAsMP"
      }
    },
    {
      "cell_type": "markdown",
      "source": [
        "### Arrumar data"
      ],
      "metadata": {
        "id": "AvXTGRbOC4jI"
      }
    },
    {
      "cell_type": "code",
      "source": [
        "df[\"data_compra_corrigido\"] = pd.to_datetime(df[\"data_compra\"], errors=\"coerce\") #Corrigir tipo do campo data"
      ],
      "metadata": {
        "id": "wNduKQINC6ZL"
      },
      "execution_count": null,
      "outputs": []
    },
    {
      "cell_type": "markdown",
      "source": [
        "### Replace de genero"
      ],
      "metadata": {
        "id": "_yNjIefvEDbo"
      }
    },
    {
      "cell_type": "code",
      "source": [
        "df[\"genero_cliente\"] = df[\"genero_cliente\"].fillna(\"Não informado\") #Preenchimento de gênero ausentes com \"Não informado\""
      ],
      "metadata": {
        "id": "kwdrfxDVEOWi"
      },
      "execution_count": null,
      "outputs": []
    },
    {
      "cell_type": "markdown",
      "source": [
        "### Outlier quantidade"
      ],
      "metadata": {
        "id": "Dic46fukFR1R"
      }
    },
    {
      "cell_type": "code",
      "source": [
        "#Cálculo de oulier usando IQR\n",
        "\n",
        "Q1 = df[\"quantidade\"].quantile(0.25)\n",
        "Q3 = df[\"quantidade\"].quantile(0.75)\n",
        "IQR = Q3 - Q1\n",
        "\n",
        "limite_superior = Q3 + 1.5 * IQR\n",
        "limite_inferior = Q1 - 1.5 * IQR"
      ],
      "metadata": {
        "id": "ScWWUaE8FVBr"
      },
      "execution_count": null,
      "outputs": []
    },
    {
      "cell_type": "code",
      "source": [
        "# Avaliação da quantidade de outliers\n",
        "\n",
        "df_outlier = df.copy()\n",
        "df_outlier = df_outlier[(df_outlier[\"quantidade\"] < limite_inferior) | (df_outlier[\"quantidade\"] > limite_superior)]\n",
        "df_outlier.info()\n",
        "\n",
        "x = 1725/10050\n",
        "x # Outliers representam mais de 17%, logo não podemos tirar por IQR"
      ],
      "metadata": {
        "colab": {
          "base_uri": "https://localhost:8080/"
        },
        "id": "hUH59AuFGSWd",
        "outputId": "71e833b4-2fbe-4f0e-9a25-eaa148c07679"
      },
      "execution_count": null,
      "outputs": [
        {
          "output_type": "stream",
          "name": "stdout",
          "text": [
            "<class 'pandas.core.frame.DataFrame'>\n",
            "Index: 1725 entries, 2 to 10043\n",
            "Data columns (total 11 columns):\n",
            " #   Column                 Non-Null Count  Dtype         \n",
            "---  ------                 --------------  -----         \n",
            " 0   id_compra              1725 non-null   object        \n",
            " 1   data_compra            1725 non-null   object        \n",
            " 2   cliente_id             1725 non-null   object        \n",
            " 3   idade_cliente          847 non-null    float64       \n",
            " 4   genero_cliente         1725 non-null   object        \n",
            " 5   produto                1725 non-null   object        \n",
            " 6   quantidade             1725 non-null   int64         \n",
            " 7   preco_unitario         1725 non-null   float64       \n",
            " 8   cidade                 871 non-null    object        \n",
            " 9   data_compra_corrigido  1722 non-null   datetime64[ns]\n",
            " 10  quantidade_zscore      1725 non-null   float64       \n",
            "dtypes: datetime64[ns](1), float64(3), int64(1), object(6)\n",
            "memory usage: 161.7+ KB\n"
          ]
        },
        {
          "output_type": "execute_result",
          "data": {
            "text/plain": [
              "0.17164179104477612"
            ]
          },
          "metadata": {},
          "execution_count": 70
        }
      ]
    },
    {
      "cell_type": "code",
      "source": [
        "#2 tentativa - Cálculo de outlier usando zscore\n",
        "\n",
        "df[\"quantidade_zscore\"] = zscore(df[\"quantidade\"])\n",
        "df_outlier_z = df.copy()\n",
        "df_outlier_z = df_outlier_z[df_outlier_z[\"quantidade_zscore\"] > 3]\n",
        "df_outlier_z.info()"
      ],
      "metadata": {
        "colab": {
          "base_uri": "https://localhost:8080/"
        },
        "id": "BI7UPNmZHu3I",
        "outputId": "2e80b475-ba7d-43ae-9f35-514eee4b01c1"
      },
      "execution_count": null,
      "outputs": [
        {
          "output_type": "stream",
          "name": "stdout",
          "text": [
            "<class 'pandas.core.frame.DataFrame'>\n",
            "Index: 20 entries, 877 to 9289\n",
            "Data columns (total 11 columns):\n",
            " #   Column                 Non-Null Count  Dtype         \n",
            "---  ------                 --------------  -----         \n",
            " 0   id_compra              20 non-null     object        \n",
            " 1   data_compra            20 non-null     object        \n",
            " 2   cliente_id             20 non-null     object        \n",
            " 3   idade_cliente          5 non-null      float64       \n",
            " 4   genero_cliente         20 non-null     object        \n",
            " 5   produto                20 non-null     object        \n",
            " 6   quantidade             20 non-null     int64         \n",
            " 7   preco_unitario         20 non-null     float64       \n",
            " 8   cidade                 9 non-null      object        \n",
            " 9   data_compra_corrigido  20 non-null     datetime64[ns]\n",
            " 10  quantidade_zscore      20 non-null     float64       \n",
            "dtypes: datetime64[ns](1), float64(3), int64(1), object(6)\n",
            "memory usage: 1.9+ KB\n"
          ]
        }
      ]
    },
    {
      "cell_type": "code",
      "source": [
        "#Retirar outliers de quantidade com Zscore\n",
        "df = df[df[\"quantidade_zscore\"] < 3]\n",
        "df.describe()"
      ],
      "metadata": {
        "colab": {
          "base_uri": "https://localhost:8080/",
          "height": 300
        },
        "id": "mvjxpQG1Ixio",
        "outputId": "6a23817d-0527-4828-9955-eb15bc7b1da5"
      },
      "execution_count": null,
      "outputs": [
        {
          "output_type": "execute_result",
          "data": {
            "text/plain": [
              "       idade_cliente    quantidade  preco_unitario  \\\n",
              "count    5019.000000  10030.000000    10030.000000   \n",
              "mean       48.226141     19.496112      107.238614   \n",
              "min        16.000000      1.000000        0.010000   \n",
              "25%        30.000000      2.000000       61.492500   \n",
              "50%        42.000000      4.000000      106.620000   \n",
              "75%        56.000000      5.000000      153.420000   \n",
              "max       999.000000    100.000000      199.990000   \n",
              "std        75.332075     36.456511       53.738783   \n",
              "\n",
              "               data_compra_corrigido  quantidade_zscore  \n",
              "count                          10010       10030.000000  \n",
              "mean   2024-04-25 04:58:47.352647424          -0.044505  \n",
              "min              2023-04-23 00:00:00          -0.085955  \n",
              "25%              2023-10-26 00:00:00          -0.083714  \n",
              "50%              2024-04-26 00:00:00          -0.079232  \n",
              "75%              2024-10-26 00:00:00          -0.076991  \n",
              "max              2025-04-22 00:00:00           0.135903  \n",
              "std                              NaN           0.081699  "
            ],
            "text/html": [
              "\n",
              "  <div id=\"df-196c2457-9c59-4a89-8428-515fadf3bd95\" class=\"colab-df-container\">\n",
              "    <div>\n",
              "<style scoped>\n",
              "    .dataframe tbody tr th:only-of-type {\n",
              "        vertical-align: middle;\n",
              "    }\n",
              "\n",
              "    .dataframe tbody tr th {\n",
              "        vertical-align: top;\n",
              "    }\n",
              "\n",
              "    .dataframe thead th {\n",
              "        text-align: right;\n",
              "    }\n",
              "</style>\n",
              "<table border=\"1\" class=\"dataframe\">\n",
              "  <thead>\n",
              "    <tr style=\"text-align: right;\">\n",
              "      <th></th>\n",
              "      <th>idade_cliente</th>\n",
              "      <th>quantidade</th>\n",
              "      <th>preco_unitario</th>\n",
              "      <th>data_compra_corrigido</th>\n",
              "      <th>quantidade_zscore</th>\n",
              "    </tr>\n",
              "  </thead>\n",
              "  <tbody>\n",
              "    <tr>\n",
              "      <th>count</th>\n",
              "      <td>5019.000000</td>\n",
              "      <td>10030.000000</td>\n",
              "      <td>10030.000000</td>\n",
              "      <td>10010</td>\n",
              "      <td>10030.000000</td>\n",
              "    </tr>\n",
              "    <tr>\n",
              "      <th>mean</th>\n",
              "      <td>48.226141</td>\n",
              "      <td>19.496112</td>\n",
              "      <td>107.238614</td>\n",
              "      <td>2024-04-25 04:58:47.352647424</td>\n",
              "      <td>-0.044505</td>\n",
              "    </tr>\n",
              "    <tr>\n",
              "      <th>min</th>\n",
              "      <td>16.000000</td>\n",
              "      <td>1.000000</td>\n",
              "      <td>0.010000</td>\n",
              "      <td>2023-04-23 00:00:00</td>\n",
              "      <td>-0.085955</td>\n",
              "    </tr>\n",
              "    <tr>\n",
              "      <th>25%</th>\n",
              "      <td>30.000000</td>\n",
              "      <td>2.000000</td>\n",
              "      <td>61.492500</td>\n",
              "      <td>2023-10-26 00:00:00</td>\n",
              "      <td>-0.083714</td>\n",
              "    </tr>\n",
              "    <tr>\n",
              "      <th>50%</th>\n",
              "      <td>42.000000</td>\n",
              "      <td>4.000000</td>\n",
              "      <td>106.620000</td>\n",
              "      <td>2024-04-26 00:00:00</td>\n",
              "      <td>-0.079232</td>\n",
              "    </tr>\n",
              "    <tr>\n",
              "      <th>75%</th>\n",
              "      <td>56.000000</td>\n",
              "      <td>5.000000</td>\n",
              "      <td>153.420000</td>\n",
              "      <td>2024-10-26 00:00:00</td>\n",
              "      <td>-0.076991</td>\n",
              "    </tr>\n",
              "    <tr>\n",
              "      <th>max</th>\n",
              "      <td>999.000000</td>\n",
              "      <td>100.000000</td>\n",
              "      <td>199.990000</td>\n",
              "      <td>2025-04-22 00:00:00</td>\n",
              "      <td>0.135903</td>\n",
              "    </tr>\n",
              "    <tr>\n",
              "      <th>std</th>\n",
              "      <td>75.332075</td>\n",
              "      <td>36.456511</td>\n",
              "      <td>53.738783</td>\n",
              "      <td>NaN</td>\n",
              "      <td>0.081699</td>\n",
              "    </tr>\n",
              "  </tbody>\n",
              "</table>\n",
              "</div>\n",
              "    <div class=\"colab-df-buttons\">\n",
              "\n",
              "  <div class=\"colab-df-container\">\n",
              "    <button class=\"colab-df-convert\" onclick=\"convertToInteractive('df-196c2457-9c59-4a89-8428-515fadf3bd95')\"\n",
              "            title=\"Convert this dataframe to an interactive table.\"\n",
              "            style=\"display:none;\">\n",
              "\n",
              "  <svg xmlns=\"http://www.w3.org/2000/svg\" height=\"24px\" viewBox=\"0 -960 960 960\">\n",
              "    <path d=\"M120-120v-720h720v720H120Zm60-500h600v-160H180v160Zm220 220h160v-160H400v160Zm0 220h160v-160H400v160ZM180-400h160v-160H180v160Zm440 0h160v-160H620v160ZM180-180h160v-160H180v160Zm440 0h160v-160H620v160Z\"/>\n",
              "  </svg>\n",
              "    </button>\n",
              "\n",
              "  <style>\n",
              "    .colab-df-container {\n",
              "      display:flex;\n",
              "      gap: 12px;\n",
              "    }\n",
              "\n",
              "    .colab-df-convert {\n",
              "      background-color: #E8F0FE;\n",
              "      border: none;\n",
              "      border-radius: 50%;\n",
              "      cursor: pointer;\n",
              "      display: none;\n",
              "      fill: #1967D2;\n",
              "      height: 32px;\n",
              "      padding: 0 0 0 0;\n",
              "      width: 32px;\n",
              "    }\n",
              "\n",
              "    .colab-df-convert:hover {\n",
              "      background-color: #E2EBFA;\n",
              "      box-shadow: 0px 1px 2px rgba(60, 64, 67, 0.3), 0px 1px 3px 1px rgba(60, 64, 67, 0.15);\n",
              "      fill: #174EA6;\n",
              "    }\n",
              "\n",
              "    .colab-df-buttons div {\n",
              "      margin-bottom: 4px;\n",
              "    }\n",
              "\n",
              "    [theme=dark] .colab-df-convert {\n",
              "      background-color: #3B4455;\n",
              "      fill: #D2E3FC;\n",
              "    }\n",
              "\n",
              "    [theme=dark] .colab-df-convert:hover {\n",
              "      background-color: #434B5C;\n",
              "      box-shadow: 0px 1px 3px 1px rgba(0, 0, 0, 0.15);\n",
              "      filter: drop-shadow(0px 1px 2px rgba(0, 0, 0, 0.3));\n",
              "      fill: #FFFFFF;\n",
              "    }\n",
              "  </style>\n",
              "\n",
              "    <script>\n",
              "      const buttonEl =\n",
              "        document.querySelector('#df-196c2457-9c59-4a89-8428-515fadf3bd95 button.colab-df-convert');\n",
              "      buttonEl.style.display =\n",
              "        google.colab.kernel.accessAllowed ? 'block' : 'none';\n",
              "\n",
              "      async function convertToInteractive(key) {\n",
              "        const element = document.querySelector('#df-196c2457-9c59-4a89-8428-515fadf3bd95');\n",
              "        const dataTable =\n",
              "          await google.colab.kernel.invokeFunction('convertToInteractive',\n",
              "                                                    [key], {});\n",
              "        if (!dataTable) return;\n",
              "\n",
              "        const docLinkHtml = 'Like what you see? Visit the ' +\n",
              "          '<a target=\"_blank\" href=https://colab.research.google.com/notebooks/data_table.ipynb>data table notebook</a>'\n",
              "          + ' to learn more about interactive tables.';\n",
              "        element.innerHTML = '';\n",
              "        dataTable['output_type'] = 'display_data';\n",
              "        await google.colab.output.renderOutput(dataTable, element);\n",
              "        const docLink = document.createElement('div');\n",
              "        docLink.innerHTML = docLinkHtml;\n",
              "        element.appendChild(docLink);\n",
              "      }\n",
              "    </script>\n",
              "  </div>\n",
              "\n",
              "\n",
              "<div id=\"df-89dbbad5-b040-4fb5-87c8-d614cd082860\">\n",
              "  <button class=\"colab-df-quickchart\" onclick=\"quickchart('df-89dbbad5-b040-4fb5-87c8-d614cd082860')\"\n",
              "            title=\"Suggest charts\"\n",
              "            style=\"display:none;\">\n",
              "\n",
              "<svg xmlns=\"http://www.w3.org/2000/svg\" height=\"24px\"viewBox=\"0 0 24 24\"\n",
              "     width=\"24px\">\n",
              "    <g>\n",
              "        <path d=\"M19 3H5c-1.1 0-2 .9-2 2v14c0 1.1.9 2 2 2h14c1.1 0 2-.9 2-2V5c0-1.1-.9-2-2-2zM9 17H7v-7h2v7zm4 0h-2V7h2v10zm4 0h-2v-4h2v4z\"/>\n",
              "    </g>\n",
              "</svg>\n",
              "  </button>\n",
              "\n",
              "<style>\n",
              "  .colab-df-quickchart {\n",
              "      --bg-color: #E8F0FE;\n",
              "      --fill-color: #1967D2;\n",
              "      --hover-bg-color: #E2EBFA;\n",
              "      --hover-fill-color: #174EA6;\n",
              "      --disabled-fill-color: #AAA;\n",
              "      --disabled-bg-color: #DDD;\n",
              "  }\n",
              "\n",
              "  [theme=dark] .colab-df-quickchart {\n",
              "      --bg-color: #3B4455;\n",
              "      --fill-color: #D2E3FC;\n",
              "      --hover-bg-color: #434B5C;\n",
              "      --hover-fill-color: #FFFFFF;\n",
              "      --disabled-bg-color: #3B4455;\n",
              "      --disabled-fill-color: #666;\n",
              "  }\n",
              "\n",
              "  .colab-df-quickchart {\n",
              "    background-color: var(--bg-color);\n",
              "    border: none;\n",
              "    border-radius: 50%;\n",
              "    cursor: pointer;\n",
              "    display: none;\n",
              "    fill: var(--fill-color);\n",
              "    height: 32px;\n",
              "    padding: 0;\n",
              "    width: 32px;\n",
              "  }\n",
              "\n",
              "  .colab-df-quickchart:hover {\n",
              "    background-color: var(--hover-bg-color);\n",
              "    box-shadow: 0 1px 2px rgba(60, 64, 67, 0.3), 0 1px 3px 1px rgba(60, 64, 67, 0.15);\n",
              "    fill: var(--button-hover-fill-color);\n",
              "  }\n",
              "\n",
              "  .colab-df-quickchart-complete:disabled,\n",
              "  .colab-df-quickchart-complete:disabled:hover {\n",
              "    background-color: var(--disabled-bg-color);\n",
              "    fill: var(--disabled-fill-color);\n",
              "    box-shadow: none;\n",
              "  }\n",
              "\n",
              "  .colab-df-spinner {\n",
              "    border: 2px solid var(--fill-color);\n",
              "    border-color: transparent;\n",
              "    border-bottom-color: var(--fill-color);\n",
              "    animation:\n",
              "      spin 1s steps(1) infinite;\n",
              "  }\n",
              "\n",
              "  @keyframes spin {\n",
              "    0% {\n",
              "      border-color: transparent;\n",
              "      border-bottom-color: var(--fill-color);\n",
              "      border-left-color: var(--fill-color);\n",
              "    }\n",
              "    20% {\n",
              "      border-color: transparent;\n",
              "      border-left-color: var(--fill-color);\n",
              "      border-top-color: var(--fill-color);\n",
              "    }\n",
              "    30% {\n",
              "      border-color: transparent;\n",
              "      border-left-color: var(--fill-color);\n",
              "      border-top-color: var(--fill-color);\n",
              "      border-right-color: var(--fill-color);\n",
              "    }\n",
              "    40% {\n",
              "      border-color: transparent;\n",
              "      border-right-color: var(--fill-color);\n",
              "      border-top-color: var(--fill-color);\n",
              "    }\n",
              "    60% {\n",
              "      border-color: transparent;\n",
              "      border-right-color: var(--fill-color);\n",
              "    }\n",
              "    80% {\n",
              "      border-color: transparent;\n",
              "      border-right-color: var(--fill-color);\n",
              "      border-bottom-color: var(--fill-color);\n",
              "    }\n",
              "    90% {\n",
              "      border-color: transparent;\n",
              "      border-bottom-color: var(--fill-color);\n",
              "    }\n",
              "  }\n",
              "</style>\n",
              "\n",
              "  <script>\n",
              "    async function quickchart(key) {\n",
              "      const quickchartButtonEl =\n",
              "        document.querySelector('#' + key + ' button');\n",
              "      quickchartButtonEl.disabled = true;  // To prevent multiple clicks.\n",
              "      quickchartButtonEl.classList.add('colab-df-spinner');\n",
              "      try {\n",
              "        const charts = await google.colab.kernel.invokeFunction(\n",
              "            'suggestCharts', [key], {});\n",
              "      } catch (error) {\n",
              "        console.error('Error during call to suggestCharts:', error);\n",
              "      }\n",
              "      quickchartButtonEl.classList.remove('colab-df-spinner');\n",
              "      quickchartButtonEl.classList.add('colab-df-quickchart-complete');\n",
              "    }\n",
              "    (() => {\n",
              "      let quickchartButtonEl =\n",
              "        document.querySelector('#df-89dbbad5-b040-4fb5-87c8-d614cd082860 button');\n",
              "      quickchartButtonEl.style.display =\n",
              "        google.colab.kernel.accessAllowed ? 'block' : 'none';\n",
              "    })();\n",
              "  </script>\n",
              "</div>\n",
              "\n",
              "    </div>\n",
              "  </div>\n"
            ],
            "application/vnd.google.colaboratory.intrinsic+json": {
              "type": "dataframe",
              "summary": "{\n  \"name\": \"df\",\n  \"rows\": 8,\n  \"fields\": [\n    {\n      \"column\": \"idade_cliente\",\n      \"properties\": {\n        \"dtype\": \"number\",\n        \"std\": 1742.899407867719,\n        \"min\": 16.0,\n        \"max\": 5019.0,\n        \"num_unique_values\": 8,\n        \"samples\": [\n          48.226140665471206,\n          56.0,\n          5019.0\n        ],\n        \"semantic_type\": \"\",\n        \"description\": \"\"\n      }\n    },\n    {\n      \"column\": \"quantidade\",\n      \"properties\": {\n        \"dtype\": \"number\",\n        \"std\": 3537.8135996935102,\n        \"min\": 1.0,\n        \"max\": 10030.0,\n        \"num_unique_values\": 8,\n        \"samples\": [\n          19.496111665004985,\n          5.0,\n          10030.0\n        ],\n        \"semantic_type\": \"\",\n        \"description\": \"\"\n      }\n    },\n    {\n      \"column\": \"preco_unitario\",\n      \"properties\": {\n        \"dtype\": \"number\",\n        \"std\": 3512.2080415029104,\n        \"min\": 0.01,\n        \"max\": 10030.0,\n        \"num_unique_values\": 8,\n        \"samples\": [\n          107.23861415752742,\n          153.42,\n          10030.0\n        ],\n        \"semantic_type\": \"\",\n        \"description\": \"\"\n      }\n    },\n    {\n      \"column\": \"data_compra_corrigido\",\n      \"properties\": {\n        \"dtype\": \"date\",\n        \"min\": \"1970-01-01 00:00:00.000010010\",\n        \"max\": \"2025-04-22 00:00:00\",\n        \"num_unique_values\": 7,\n        \"samples\": [\n          \"10010\",\n          \"2024-04-25 04:58:47.352647424\",\n          \"2024-10-26 00:00:00\"\n        ],\n        \"semantic_type\": \"\",\n        \"description\": \"\"\n      }\n    },\n    {\n      \"column\": \"quantidade_zscore\",\n      \"properties\": {\n        \"dtype\": \"number\",\n        \"std\": 3546.148226031152,\n        \"min\": -0.08595511532232827,\n        \"max\": 10030.0,\n        \"num_unique_values\": 8,\n        \"samples\": [\n          -0.0445054637685074,\n          -0.0769911444500623,\n          10030.0\n        ],\n        \"semantic_type\": \"\",\n        \"description\": \"\"\n      }\n    }\n  ]\n}"
            }
          },
          "metadata": {},
          "execution_count": 73
        }
      ]
    },
    {
      "cell_type": "markdown",
      "source": [
        "### Arrumar discrepâncias de preço unitário"
      ],
      "metadata": {
        "id": "htBKtTYLJQr7"
      }
    },
    {
      "cell_type": "code",
      "source": [
        "df[\"preco_unitario\"].describe()"
      ],
      "metadata": {
        "colab": {
          "base_uri": "https://localhost:8080/",
          "height": 335
        },
        "id": "L69qLLj6JlpC",
        "outputId": "1a4402ef-27ef-4c08-c9d2-94dff93fb5f2"
      },
      "execution_count": null,
      "outputs": [
        {
          "output_type": "execute_result",
          "data": {
            "text/plain": [
              "count    10030.000000\n",
              "mean       107.238614\n",
              "std         53.738783\n",
              "min          0.010000\n",
              "25%         61.492500\n",
              "50%        106.620000\n",
              "75%        153.420000\n",
              "max        199.990000\n",
              "Name: preco_unitario, dtype: float64"
            ],
            "text/html": [
              "<div>\n",
              "<style scoped>\n",
              "    .dataframe tbody tr th:only-of-type {\n",
              "        vertical-align: middle;\n",
              "    }\n",
              "\n",
              "    .dataframe tbody tr th {\n",
              "        vertical-align: top;\n",
              "    }\n",
              "\n",
              "    .dataframe thead th {\n",
              "        text-align: right;\n",
              "    }\n",
              "</style>\n",
              "<table border=\"1\" class=\"dataframe\">\n",
              "  <thead>\n",
              "    <tr style=\"text-align: right;\">\n",
              "      <th></th>\n",
              "      <th>preco_unitario</th>\n",
              "    </tr>\n",
              "  </thead>\n",
              "  <tbody>\n",
              "    <tr>\n",
              "      <th>count</th>\n",
              "      <td>10030.000000</td>\n",
              "    </tr>\n",
              "    <tr>\n",
              "      <th>mean</th>\n",
              "      <td>107.238614</td>\n",
              "    </tr>\n",
              "    <tr>\n",
              "      <th>std</th>\n",
              "      <td>53.738783</td>\n",
              "    </tr>\n",
              "    <tr>\n",
              "      <th>min</th>\n",
              "      <td>0.010000</td>\n",
              "    </tr>\n",
              "    <tr>\n",
              "      <th>25%</th>\n",
              "      <td>61.492500</td>\n",
              "    </tr>\n",
              "    <tr>\n",
              "      <th>50%</th>\n",
              "      <td>106.620000</td>\n",
              "    </tr>\n",
              "    <tr>\n",
              "      <th>75%</th>\n",
              "      <td>153.420000</td>\n",
              "    </tr>\n",
              "    <tr>\n",
              "      <th>max</th>\n",
              "      <td>199.990000</td>\n",
              "    </tr>\n",
              "  </tbody>\n",
              "</table>\n",
              "</div><br><label><b>dtype:</b> float64</label>"
            ]
          },
          "metadata": {},
          "execution_count": 78
        }
      ]
    },
    {
      "cell_type": "code",
      "source": [
        "#Cálculo de oulier usando IQR\n",
        "\n",
        "Q1 = df[\"preco_unitario\"].quantile(0.25)\n",
        "Q3 = df[\"preco_unitario\"].quantile(0.75)\n",
        "IQR = Q3 - Q1\n",
        "\n",
        "limite_superior = Q3 + 1.5 * IQR\n",
        "limite_inferior = Q1 - 1.5 * IQR"
      ],
      "metadata": {
        "id": "AcptEF_UJZbx"
      },
      "execution_count": null,
      "outputs": []
    },
    {
      "cell_type": "code",
      "source": [
        "#Verificar a discrepância\n",
        "\n",
        "df_zoom_25 = df.copy()\n",
        "df_zoom_25 = df_zoom_25[(df_zoom_25[\"preco_unitario\"] < 1)]\n",
        "\n",
        "df_zoom_25[[\"preco_unitario\"]].hist(bins = 50, figsize=(10,4))\n",
        "plt.suptitle(\"Distribuição preço unitario\")\n",
        "plt.show()"
      ],
      "metadata": {
        "colab": {
          "base_uri": "https://localhost:8080/",
          "height": 408
        },
        "id": "xNcWIC_MJ37a",
        "outputId": "a2666ff3-0208-4075-ae19-e47b059da79f"
      },
      "execution_count": null,
      "outputs": [
        {
          "output_type": "display_data",
          "data": {
            "text/plain": [
              "<Figure size 1000x400 with 1 Axes>"
            ],
            "image/png": "[encoded data removed]"
          },
          "metadata": {}
        }
      ]
    },
    {
      "cell_type": "code",
      "source": [
        "#Replace de discrepancias (valor = 0.01 centavos) por Q1 do preço unitário\n",
        "\n",
        "df['preco_unitario'] = df['preco_unitario'].replace(0.01, Q1)"
      ],
      "metadata": {
        "id": "wvVEJ6rAK9JA"
      },
      "execution_count": null,
      "outputs": []
    },
    {
      "cell_type": "markdown",
      "source": [
        "### Limpar ausentes da data"
      ],
      "metadata": {
        "id": "fUhhmSuuM51j"
      }
    },
    {
      "cell_type": "code",
      "source": [
        "df = df.dropna(subset=[\"data_compra_corrigido\"])"
      ],
      "metadata": {
        "id": "fGhvM9n-NAN3"
      },
      "execution_count": null,
      "outputs": []
    },
    {
      "cell_type": "markdown",
      "source": [
        "# EDA\n",
        "\n",
        "\n",
        "\n",
        "*   Vende mais no verão? Sim\n",
        "*   O que muda do verão pra outras estação? Os clientes compram em maior quantidade\n",
        "\n"
      ],
      "metadata": {
        "id": "Zp2YVdaDMkS2"
      }
    },
    {
      "cell_type": "code",
      "source": [
        "df.columns"
      ],
      "metadata": {
        "colab": {
          "base_uri": "https://localhost:8080/"
        },
        "id": "AIqTxNUvNQ5X",
        "outputId": "5c62dcb2-6101-4566-d2ea-215c890ca2b5"
      },
      "execution_count": null,
      "outputs": [
        {
          "output_type": "execute_result",
          "data": {
            "text/plain": [
              "Index(['id_compra', 'data_compra', 'cliente_id', 'idade_cliente',\n",
              "       'genero_cliente', 'produto', 'quantidade', 'preco_unitario', 'cidade',\n",
              "       'data_compra_corrigido', 'quantidade_zscore'],\n",
              "      dtype='object')"
            ]
          },
          "metadata": {},
          "execution_count": 94
        }
      ]
    },
    {
      "cell_type": "code",
      "source": [
        "#Gerar o dtaframe tratado só com colunas úteis\n",
        "\n",
        "df_tratado = df[['id_compra','cliente_id', 'produto', 'quantidade', 'preco_unitario','data_compra_corrigido']]"
      ],
      "metadata": {
        "id": "K6L37_MqMmeN"
      },
      "execution_count": null,
      "outputs": []
    },
    {
      "cell_type": "code",
      "source": [
        "# Criar a coluna de mês pra definir a estação\n",
        "\n",
        "df_tratado[\"mes\"] = df_tratado[\"data_compra_corrigido\"].dt.month\n",
        "df_tratado[\"ano\"] = df_tratado[\"data_compra_corrigido\"].dt.year"
      ],
      "metadata": {
        "colab": {
          "base_uri": "https://localhost:8080/"
        },
        "id": "ZmAk8DTDOKFO",
        "outputId": "06a5d8fe-76ff-4278-bc25-5122eb16b099"
      },
      "execution_count": null,
      "outputs": [
        {
          "output_type": "stream",
          "name": "stderr",
          "text": [
            "<ipython-input-103-88cb78dba83a>:3: SettingWithCopyWarning: \n",
            "A value is trying to be set on a copy of a slice from a DataFrame.\n",
            "Try using .loc[row_indexer,col_indexer] = value instead\n",
            "\n",
            "See the caveats in the documentation: https://pandas.pydata.org/pandas-docs/stable/user_guide/indexing.html#returning-a-view-versus-a-copy\n",
            "  df_tratado[\"mes\"] = df_tratado[\"data_compra_corrigido\"].dt.month\n",
            "<ipython-input-103-88cb78dba83a>:4: SettingWithCopyWarning: \n",
            "A value is trying to be set on a copy of a slice from a DataFrame.\n",
            "Try using .loc[row_indexer,col_indexer] = value instead\n",
            "\n",
            "See the caveats in the documentation: https://pandas.pydata.org/pandas-docs/stable/user_guide/indexing.html#returning-a-view-versus-a-copy\n",
            "  df_tratado[\"ano\"] = df_tratado[\"data_compra_corrigido\"].dt.year\n"
          ]
        }
      ]
    },
    {
      "cell_type": "code",
      "source": [
        "#Criar coluna de estção com base no mês do hemisfério sul (hipótese)\n",
        "df_tratado[\"estacao\"] = df_tratado[\"mes\"].map({6: \"Inverno\", 7: \"Inverno\", 8: \"Inverno\", 9: \"Primavera\",\n",
        "                                       10: \"Primavera\", 11: \"Primavera\", 12: \"Verão\",\n",
        "                                       1: \"Verão\", 2: \"Verão\", 3: \"Outono\", 4: \"Outono\", 5: \"Outono\",})"
      ],
      "metadata": {
        "colab": {
          "base_uri": "https://localhost:8080/"
        },
        "id": "o9PNL0IyOZpi",
        "outputId": "23613e5e-530d-4c57-f724-61059070efc8"
      },
      "execution_count": null,
      "outputs": [
        {
          "output_type": "stream",
          "name": "stderr",
          "text": [
            "<ipython-input-106-48ed0c90a628>:1: SettingWithCopyWarning: \n",
            "A value is trying to be set on a copy of a slice from a DataFrame.\n",
            "Try using .loc[row_indexer,col_indexer] = value instead\n",
            "\n",
            "See the caveats in the documentation: https://pandas.pydata.org/pandas-docs/stable/user_guide/indexing.html#returning-a-view-versus-a-copy\n",
            "  df_tratado[\"estacao\"] = df_tratado[\"mes\"].map({6: \"Inverno\", 7: \"Inverno\", 8: \"Inverno\", 9: \"Primavera\",\n"
          ]
        }
      ]
    },
    {
      "cell_type": "code",
      "source": [
        "#Criar coluan do valor total vendido pra análise\n",
        "df_tratado[\"valor_total\"] = df_tratado[\"quantidade\"] * df_tratado[\"preco_unitario\"]"
      ],
      "metadata": {
        "colab": {
          "base_uri": "https://localhost:8080/"
        },
        "id": "6k8kN6G7PYWe",
        "outputId": "f18b9981-f7dc-4a38-d78f-4a338f8695fc"
      },
      "execution_count": null,
      "outputs": [
        {
          "output_type": "stream",
          "name": "stderr",
          "text": [
            "<ipython-input-109-bbfc8ae4dc83>:1: SettingWithCopyWarning: \n",
            "A value is trying to be set on a copy of a slice from a DataFrame.\n",
            "Try using .loc[row_indexer,col_indexer] = value instead\n",
            "\n",
            "See the caveats in the documentation: https://pandas.pydata.org/pandas-docs/stable/user_guide/indexing.html#returning-a-view-versus-a-copy\n",
            "  df_tratado[\"valor_total\"] = df_tratado[\"quantidade\"] * df_tratado[\"preco_unitario\"]\n"
          ]
        }
      ]
    },
    {
      "cell_type": "code",
      "source": [
        "df_tratado.head()"
      ],
      "metadata": {
        "colab": {
          "base_uri": "https://localhost:8080/",
          "height": 293
        },
        "id": "3ND93PytPfWq",
        "outputId": "a138afd3-5a32-4889-d2c8-f60d2b18f7b1"
      },
      "execution_count": null,
      "outputs": [
        {
          "output_type": "execute_result",
          "data": {
            "text/plain": [
              "                              id_compra                            cliente_id  \\\n",
              "0  2e1821b8-e57f-4dfd-996e-a52fcf5adbfc  f8df1734-6e2a-4b76-9fd9-ec6a73d55f91   \n",
              "1  d9692b2b-29be-4910-840c-81fc7376f6b6  de6d9a23-1428-4c6f-bba2-74d09990618c   \n",
              "2  335cee92-3f98-42a5-8530-b5ceca1b034f  8e46605c-c76c-455a-8b16-b841fbecf425   \n",
              "3  89825b18-98ee-465c-baaa-eb4b746934f0  0ce7c912-6f92-4f70-9907-52d4f812e053   \n",
              "4  6b92128b-0caf-4a20-ad07-f5f67e6511f0  09a34955-ba0c-427d-a69a-20f0a94251d7   \n",
              "\n",
              "           produto  quantidade  preco_unitario data_compra_corrigido  mes  \\\n",
              "0    Óculos de Sol           3           68.12            2024-04-15    4   \n",
              "1      Rasteirinha           2           81.55            2024-12-30   12   \n",
              "2  Toalha de Praia         100          104.18            2023-08-28    8   \n",
              "3          Biquíni           5          143.24            2023-11-24   11   \n",
              "4  Toalha de Praia         100          152.24            2024-05-16    5   \n",
              "\n",
              "    ano    estacao  valor_total  \n",
              "0  2024     Outono       204.36  \n",
              "1  2024      Verão       163.10  \n",
              "2  2023    Inverno     10418.00  \n",
              "3  2023  Primavera       716.20  \n",
              "4  2024     Outono     15224.00  "
            ],
            "text/html": [
              "\n",
              "  <div id=\"df-a3a7b727-ae47-4f57-a8ae-7c30580b44f5\" class=\"colab-df-container\">\n",
              "    <div>\n",
              "<style scoped>\n",
              "    .dataframe tbody tr th:only-of-type {\n",
              "        vertical-align: middle;\n",
              "    }\n",
              "\n",
              "    .dataframe tbody tr th {\n",
              "        vertical-align: top;\n",
              "    }\n",
              "\n",
              "    .dataframe thead th {\n",
              "        text-align: right;\n",
              "    }\n",
              "</style>\n",
              "<table border=\"1\" class=\"dataframe\">\n",
              "  <thead>\n",
              "    <tr style=\"text-align: right;\">\n",
              "      <th></th>\n",
              "      <th>id_compra</th>\n",
              "      <th>cliente_id</th>\n",
              "      <th>produto</th>\n",
              "      <th>quantidade</th>\n",
              "      <th>preco_unitario</th>\n",
              "      <th>data_compra_corrigido</th>\n",
              "      <th>mes</th>\n",
              "      <th>ano</th>\n",
              "      <th>estacao</th>\n",
              "      <th>valor_total</th>\n",
              "    </tr>\n",
              "  </thead>\n",
              "  <tbody>\n",
              "    <tr>\n",
              "      <th>0</th>\n",
              "      <td>2e1821b8-e57f-4dfd-996e-a52fcf5adbfc</td>\n",
              "      <td>f8df1734-6e2a-4b76-9fd9-ec6a73d55f91</td>\n",
              "      <td>Óculos de Sol</td>\n",
              "      <td>3</td>\n",
              "      <td>68.12</td>\n",
              "      <td>2024-04-15</td>\n",
              "      <td>4</td>\n",
              "      <td>2024</td>\n",
              "      <td>Outono</td>\n",
              "      <td>204.36</td>\n",
              "    </tr>\n",
              "    <tr>\n",
              "      <th>1</th>\n",
              "      <td>d9692b2b-29be-4910-840c-81fc7376f6b6</td>\n",
              "      <td>de6d9a23-1428-4c6f-bba2-74d09990618c</td>\n",
              "      <td>Rasteirinha</td>\n",
              "      <td>2</td>\n",
              "      <td>81.55</td>\n",
              "      <td>2024-12-30</td>\n",
              "      <td>12</td>\n",
              "      <td>2024</td>\n",
              "      <td>Verão</td>\n",
              "      <td>163.10</td>\n",
              "    </tr>\n",
              "    <tr>\n",
              "      <th>2</th>\n",
              "      <td>335cee92-3f98-42a5-8530-b5ceca1b034f</td>\n",
              "      <td>8e46605c-c76c-455a-8b16-b841fbecf425</td>\n",
              "      <td>Toalha de Praia</td>\n",
              "      <td>100</td>\n",
              "      <td>104.18</td>\n",
              "      <td>2023-08-28</td>\n",
              "      <td>8</td>\n",
              "      <td>2023</td>\n",
              "      <td>Inverno</td>\n",
              "      <td>10418.00</td>\n",
              "    </tr>\n",
              "    <tr>\n",
              "      <th>3</th>\n",
              "      <td>89825b18-98ee-465c-baaa-eb4b746934f0</td>\n",
              "      <td>0ce7c912-6f92-4f70-9907-52d4f812e053</td>\n",
              "      <td>Biquíni</td>\n",
              "      <td>5</td>\n",
              "      <td>143.24</td>\n",
              "      <td>2023-11-24</td>\n",
              "      <td>11</td>\n",
              "      <td>2023</td>\n",
              "      <td>Primavera</td>\n",
              "      <td>716.20</td>\n",
              "    </tr>\n",
              "    <tr>\n",
              "      <th>4</th>\n",
              "      <td>6b92128b-0caf-4a20-ad07-f5f67e6511f0</td>\n",
              "      <td>09a34955-ba0c-427d-a69a-20f0a94251d7</td>\n",
              "      <td>Toalha de Praia</td>\n",
              "      <td>100</td>\n",
              "      <td>152.24</td>\n",
              "      <td>2024-05-16</td>\n",
              "      <td>5</td>\n",
              "      <td>2024</td>\n",
              "      <td>Outono</td>\n",
              "      <td>15224.00</td>\n",
              "    </tr>\n",
              "  </tbody>\n",
              "</table>\n",
              "</div>\n",
              "    <div class=\"colab-df-buttons\">\n",
              "\n",
              "  <div class=\"colab-df-container\">\n",
              "    <button class=\"colab-df-convert\" onclick=\"convertToInteractive('df-a3a7b727-ae47-4f57-a8ae-7c30580b44f5')\"\n",
              "            title=\"Convert this dataframe to an interactive table.\"\n",
              "            style=\"display:none;\">\n",
              "\n",
              "  <svg xmlns=\"http://www.w3.org/2000/svg\" height=\"24px\" viewBox=\"0 -960 960 960\">\n",
              "    <path d=\"M120-120v-720h720v720H120Zm60-500h600v-160H180v160Zm220 220h160v-160H400v160Zm0 220h160v-160H400v160ZM180-400h160v-160H180v160Zm440 0h160v-160H620v160ZM180-180h160v-160H180v160Zm440 0h160v-160H620v160Z\"/>\n",
              "  </svg>\n",
              "    </button>\n",
              "\n",
              "  <style>\n",
              "    .colab-df-container {\n",
              "      display:flex;\n",
              "      gap: 12px;\n",
              "    }\n",
              "\n",
              "    .colab-df-convert {\n",
              "      background-color: #E8F0FE;\n",
              "      border: none;\n",
              "      border-radius: 50%;\n",
              "      cursor: pointer;\n",
              "      display: none;\n",
              "      fill: #1967D2;\n",
              "      height: 32px;\n",
              "      padding: 0 0 0 0;\n",
              "      width: 32px;\n",
              "    }\n",
              "\n",
              "    .colab-df-convert:hover {\n",
              "      background-color: #E2EBFA;\n",
              "      box-shadow: 0px 1px 2px rgba(60, 64, 67, 0.3), 0px 1px 3px 1px rgba(60, 64, 67, 0.15);\n",
              "      fill: #174EA6;\n",
              "    }\n",
              "\n",
              "    .colab-df-buttons div {\n",
              "      margin-bottom: 4px;\n",
              "    }\n",
              "\n",
              "    [theme=dark] .colab-df-convert {\n",
              "      background-color: #3B4455;\n",
              "      fill: #D2E3FC;\n",
              "    }\n",
              "\n",
              "    [theme=dark] .colab-df-convert:hover {\n",
              "      background-color: #434B5C;\n",
              "      box-shadow: 0px 1px 3px 1px rgba(0, 0, 0, 0.15);\n",
              "      filter: drop-shadow(0px 1px 2px rgba(0, 0, 0, 0.3));\n",
              "      fill: #FFFFFF;\n",
              "    }\n",
              "  </style>\n",
              "\n",
              "    <script>\n",
              "      const buttonEl =\n",
              "        document.querySelector('#df-a3a7b727-ae47-4f57-a8ae-7c30580b44f5 button.colab-df-convert');\n",
              "      buttonEl.style.display =\n",
              "        google.colab.kernel.accessAllowed ? 'block' : 'none';\n",
              "\n",
              "      async function convertToInteractive(key) {\n",
              "        const element = document.querySelector('#df-a3a7b727-ae47-4f57-a8ae-7c30580b44f5');\n",
              "        const dataTable =\n",
              "          await google.colab.kernel.invokeFunction('convertToInteractive',\n",
              "                                                    [key], {});\n",
              "        if (!dataTable) return;\n",
              "\n",
              "        const docLinkHtml = 'Like what you see? Visit the ' +\n",
              "          '<a target=\"_blank\" href=https://colab.research.google.com/notebooks/data_table.ipynb>data table notebook</a>'\n",
              "          + ' to learn more about interactive tables.';\n",
              "        element.innerHTML = '';\n",
              "        dataTable['output_type'] = 'display_data';\n",
              "        await google.colab.output.renderOutput(dataTable, element);\n",
              "        const docLink = document.createElement('div');\n",
              "        docLink.innerHTML = docLinkHtml;\n",
              "        element.appendChild(docLink);\n",
              "      }\n",
              "    </script>\n",
              "  </div>\n",
              "\n",
              "\n",
              "<div id=\"df-30687046-8d8c-4ae7-9395-4c2390904710\">\n",
              "  <button class=\"colab-df-quickchart\" onclick=\"quickchart('df-30687046-8d8c-4ae7-9395-4c2390904710')\"\n",
              "            title=\"Suggest charts\"\n",
              "            style=\"display:none;\">\n",
              "\n",
              "<svg xmlns=\"http://www.w3.org/2000/svg\" height=\"24px\"viewBox=\"0 0 24 24\"\n",
              "     width=\"24px\">\n",
              "    <g>\n",
              "        <path d=\"M19 3H5c-1.1 0-2 .9-2 2v14c0 1.1.9 2 2 2h14c1.1 0 2-.9 2-2V5c0-1.1-.9-2-2-2zM9 17H7v-7h2v7zm4 0h-2V7h2v10zm4 0h-2v-4h2v4z\"/>\n",
              "    </g>\n",
              "</svg>\n",
              "  </button>\n",
              "\n",
              "<style>\n",
              "  .colab-df-quickchart {\n",
              "      --bg-color: #E8F0FE;\n",
              "      --fill-color: #1967D2;\n",
              "      --hover-bg-color: #E2EBFA;\n",
              "      --hover-fill-color: #174EA6;\n",
              "      --disabled-fill-color: #AAA;\n",
              "      --disabled-bg-color: #DDD;\n",
              "  }\n",
              "\n",
              "  [theme=dark] .colab-df-quickchart {\n",
              "      --bg-color: #3B4455;\n",
              "      --fill-color: #D2E3FC;\n",
              "      --hover-bg-color: #434B5C;\n",
              "      --hover-fill-color: #FFFFFF;\n",
              "      --disabled-bg-color: #3B4455;\n",
              "      --disabled-fill-color: #666;\n",
              "  }\n",
              "\n",
              "  .colab-df-quickchart {\n",
              "    background-color: var(--bg-color);\n",
              "    border: none;\n",
              "    border-radius: 50%;\n",
              "    cursor: pointer;\n",
              "    display: none;\n",
              "    fill: var(--fill-color);\n",
              "    height: 32px;\n",
              "    padding: 0;\n",
              "    width: 32px;\n",
              "  }\n",
              "\n",
              "  .colab-df-quickchart:hover {\n",
              "    background-color: var(--hover-bg-color);\n",
              "    box-shadow: 0 1px 2px rgba(60, 64, 67, 0.3), 0 1px 3px 1px rgba(60, 64, 67, 0.15);\n",
              "    fill: var(--button-hover-fill-color);\n",
              "  }\n",
              "\n",
              "  .colab-df-quickchart-complete:disabled,\n",
              "  .colab-df-quickchart-complete:disabled:hover {\n",
              "    background-color: var(--disabled-bg-color);\n",
              "    fill: var(--disabled-fill-color);\n",
              "    box-shadow: none;\n",
              "  }\n",
              "\n",
              "  .colab-df-spinner {\n",
              "    border: 2px solid var(--fill-color);\n",
              "    border-color: transparent;\n",
              "    border-bottom-color: var(--fill-color);\n",
              "    animation:\n",
              "      spin 1s steps(1) infinite;\n",
              "  }\n",
              "\n",
              "  @keyframes spin {\n",
              "    0% {\n",
              "      border-color: transparent;\n",
              "      border-bottom-color: var(--fill-color);\n",
              "      border-left-color: var(--fill-color);\n",
              "    }\n",
              "    20% {\n",
              "      border-color: transparent;\n",
              "      border-left-color: var(--fill-color);\n",
              "      border-top-color: var(--fill-color);\n",
              "    }\n",
              "    30% {\n",
              "      border-color: transparent;\n",
              "      border-left-color: var(--fill-color);\n",
              "      border-top-color: var(--fill-color);\n",
              "      border-right-color: var(--fill-color);\n",
              "    }\n",
              "    40% {\n",
              "      border-color: transparent;\n",
              "      border-right-color: var(--fill-color);\n",
              "      border-top-color: var(--fill-color);\n",
              "    }\n",
              "    60% {\n",
              "      border-color: transparent;\n",
              "      border-right-color: var(--fill-color);\n",
              "    }\n",
              "    80% {\n",
              "      border-color: transparent;\n",
              "      border-right-color: var(--fill-color);\n",
              "      border-bottom-color: var(--fill-color);\n",
              "    }\n",
              "    90% {\n",
              "      border-color: transparent;\n",
              "      border-bottom-color: var(--fill-color);\n",
              "    }\n",
              "  }\n",
              "</style>\n",
              "\n",
              "  <script>\n",
              "    async function quickchart(key) {\n",
              "      const quickchartButtonEl =\n",
              "        document.querySelector('#' + key + ' button');\n",
              "      quickchartButtonEl.disabled = true;  // To prevent multiple clicks.\n",
              "      quickchartButtonEl.classList.add('colab-df-spinner');\n",
              "      try {\n",
              "        const charts = await google.colab.kernel.invokeFunction(\n",
              "            'suggestCharts', [key], {});\n",
              "      } catch (error) {\n",
              "        console.error('Error during call to suggestCharts:', error);\n",
              "      }\n",
              "      quickchartButtonEl.classList.remove('colab-df-spinner');\n",
              "      quickchartButtonEl.classList.add('colab-df-quickchart-complete');\n",
              "    }\n",
              "    (() => {\n",
              "      let quickchartButtonEl =\n",
              "        document.querySelector('#df-30687046-8d8c-4ae7-9395-4c2390904710 button');\n",
              "      quickchartButtonEl.style.display =\n",
              "        google.colab.kernel.accessAllowed ? 'block' : 'none';\n",
              "    })();\n",
              "  </script>\n",
              "</div>\n",
              "\n",
              "    </div>\n",
              "  </div>\n"
            ],
            "application/vnd.google.colaboratory.intrinsic+json": {
              "type": "dataframe",
              "variable_name": "df_tratado",
              "summary": "{\n  \"name\": \"df_tratado\",\n  \"rows\": 10010,\n  \"fields\": [\n    {\n      \"column\": \"id_compra\",\n      \"properties\": {\n        \"dtype\": \"string\",\n        \"num_unique_values\": 9960,\n        \"samples\": [\n          \"17d07471-b4fb-4888-8ef6-074583d633ac\",\n          \"37b314a9-cd16-4a01-bb13-5d88127be646\",\n          \"0d11f571-6ed9-4788-ba82-108db77ca472\"\n        ],\n        \"semantic_type\": \"\",\n        \"description\": \"\"\n      }\n    },\n    {\n      \"column\": \"cliente_id\",\n      \"properties\": {\n        \"dtype\": \"string\",\n        \"num_unique_values\": 9960,\n        \"samples\": [\n          \"e6bc2532-56d3-47c4-804f-3419ac71d0d4\",\n          \"e0a3d636-fb97-470f-8ced-4cd5703ae4c4\",\n          \"5013790c-8a70-41a8-bde1-d302a19d233b\"\n        ],\n        \"semantic_type\": \"\",\n        \"description\": \"\"\n      }\n    },\n    {\n      \"column\": \"produto\",\n      \"properties\": {\n        \"dtype\": \"category\",\n        \"num_unique_values\": 8,\n        \"samples\": [\n          \"Rasteirinha\",\n          \"Protetor Solar\",\n          \"\\u00d3culos de Sol\"\n        ],\n        \"semantic_type\": \"\",\n        \"description\": \"\"\n      }\n    },\n    {\n      \"column\": \"quantidade\",\n      \"properties\": {\n        \"dtype\": \"number\",\n        \"std\": 36,\n        \"min\": 1,\n        \"max\": 100,\n        \"num_unique_values\": 6,\n        \"samples\": [\n          3,\n          2,\n          4\n        ],\n        \"semantic_type\": \"\",\n        \"description\": \"\"\n      }\n    },\n    {\n      \"column\": \"preco_unitario\",\n      \"properties\": {\n        \"dtype\": \"number\",\n        \"std\": 53.60920977774878,\n        \"min\": 15.01,\n        \"max\": 199.99,\n        \"num_unique_values\": 7658,\n        \"samples\": [\n          24.25,\n          111.48,\n          29.28\n        ],\n        \"semantic_type\": \"\",\n        \"description\": \"\"\n      }\n    },\n    {\n      \"column\": \"data_compra_corrigido\",\n      \"properties\": {\n        \"dtype\": \"date\",\n        \"min\": \"2023-04-23 00:00:00\",\n        \"max\": \"2025-04-22 00:00:00\",\n        \"num_unique_values\": 731,\n        \"samples\": [\n          \"2024-02-24 00:00:00\",\n          \"2024-10-25 00:00:00\",\n          \"2023-10-10 00:00:00\"\n        ],\n        \"semantic_type\": \"\",\n        \"description\": \"\"\n      }\n    },\n    {\n      \"column\": \"mes\",\n      \"properties\": {\n        \"dtype\": \"int32\",\n        \"num_unique_values\": 12,\n        \"samples\": [\n          3,\n          10,\n          4\n        ],\n        \"semantic_type\": \"\",\n        \"description\": \"\"\n      }\n    },\n    {\n      \"column\": \"ano\",\n      \"properties\": {\n        \"dtype\": \"int32\",\n        \"num_unique_values\": 3,\n        \"samples\": [\n          2024,\n          2023,\n          2025\n        ],\n        \"semantic_type\": \"\",\n        \"description\": \"\"\n      }\n    },\n    {\n      \"column\": \"estacao\",\n      \"properties\": {\n        \"dtype\": \"category\",\n        \"num_unique_values\": 4,\n        \"samples\": [\n          \"Ver\\u00e3o\",\n          \"Primavera\",\n          \"Outono\"\n        ],\n        \"semantic_type\": \"\",\n        \"description\": \"\"\n      }\n    },\n    {\n      \"column\": \"valor_total\",\n      \"properties\": {\n        \"dtype\": \"number\",\n        \"std\": 4456.783915399394,\n        \"min\": 15.08,\n        \"max\": 19980.0,\n        \"num_unique_values\": 9225,\n        \"samples\": [\n          171.21,\n          64.64,\n          277.76\n        ],\n        \"semantic_type\": \"\",\n        \"description\": \"\"\n      }\n    }\n  ]\n}"
            }
          },
          "metadata": {},
          "execution_count": 117
        }
      ]
    },
    {
      "cell_type": "code",
      "source": [
        "#Análise de valor vendido por estação\n",
        "vendas_estacao = df_tratado.groupby(\"estacao\")[\"valor_total\"].sum()\n",
        "vendas_estacao"
      ],
      "metadata": {
        "colab": {
          "base_uri": "https://localhost:8080/",
          "height": 241
        },
        "id": "LZYUx4w2P9jX",
        "outputId": "17ae775f-6985-49c1-e222-ad40b00fd0ff"
      },
      "execution_count": null,
      "outputs": [
        {
          "output_type": "execute_result",
          "data": {
            "text/plain": [
              "estacao\n",
              "Inverno      4.990831e+06\n",
              "Outono       5.294941e+06\n",
              "Primavera    5.134211e+06\n",
              "Verão        5.404102e+06\n",
              "Name: valor_total, dtype: float64"
            ],
            "text/html": [
              "<div>\n",
              "<style scoped>\n",
              "    .dataframe tbody tr th:only-of-type {\n",
              "        vertical-align: middle;\n",
              "    }\n",
              "\n",
              "    .dataframe tbody tr th {\n",
              "        vertical-align: top;\n",
              "    }\n",
              "\n",
              "    .dataframe thead th {\n",
              "        text-align: right;\n",
              "    }\n",
              "</style>\n",
              "<table border=\"1\" class=\"dataframe\">\n",
              "  <thead>\n",
              "    <tr style=\"text-align: right;\">\n",
              "      <th></th>\n",
              "      <th>valor_total</th>\n",
              "    </tr>\n",
              "    <tr>\n",
              "      <th>estacao</th>\n",
              "      <th></th>\n",
              "    </tr>\n",
              "  </thead>\n",
              "  <tbody>\n",
              "    <tr>\n",
              "      <th>Inverno</th>\n",
              "      <td>4.990831e+06</td>\n",
              "    </tr>\n",
              "    <tr>\n",
              "      <th>Outono</th>\n",
              "      <td>5.294941e+06</td>\n",
              "    </tr>\n",
              "    <tr>\n",
              "      <th>Primavera</th>\n",
              "      <td>5.134211e+06</td>\n",
              "    </tr>\n",
              "    <tr>\n",
              "      <th>Verão</th>\n",
              "      <td>5.404102e+06</td>\n",
              "    </tr>\n",
              "  </tbody>\n",
              "</table>\n",
              "</div><br><label><b>dtype:</b> float64</label>"
            ]
          },
          "metadata": {},
          "execution_count": 112
        }
      ]
    },
    {
      "cell_type": "code",
      "source": [
        "#Análise de quantidade de compradores por estação\n",
        "clientes_estacao = df_tratado.groupby(\"estacao\")[\"cliente_id\"].nunique()\n",
        "clientes_estacao"
      ],
      "metadata": {
        "colab": {
          "base_uri": "https://localhost:8080/",
          "height": 241
        },
        "id": "ZTs_kUxbRPyN",
        "outputId": "f2c426ab-8919-4127-b49b-ca5447bb7d5e"
      },
      "execution_count": null,
      "outputs": [
        {
          "output_type": "execute_result",
          "data": {
            "text/plain": [
              "estacao\n",
              "Inverno      2473\n",
              "Outono       2538\n",
              "Primavera    2475\n",
              "Verão        2474\n",
              "Name: cliente_id, dtype: int64"
            ],
            "text/html": [
              "<div>\n",
              "<style scoped>\n",
              "    .dataframe tbody tr th:only-of-type {\n",
              "        vertical-align: middle;\n",
              "    }\n",
              "\n",
              "    .dataframe tbody tr th {\n",
              "        vertical-align: top;\n",
              "    }\n",
              "\n",
              "    .dataframe thead th {\n",
              "        text-align: right;\n",
              "    }\n",
              "</style>\n",
              "<table border=\"1\" class=\"dataframe\">\n",
              "  <thead>\n",
              "    <tr style=\"text-align: right;\">\n",
              "      <th></th>\n",
              "      <th>cliente_id</th>\n",
              "    </tr>\n",
              "    <tr>\n",
              "      <th>estacao</th>\n",
              "      <th></th>\n",
              "    </tr>\n",
              "  </thead>\n",
              "  <tbody>\n",
              "    <tr>\n",
              "      <th>Inverno</th>\n",
              "      <td>2473</td>\n",
              "    </tr>\n",
              "    <tr>\n",
              "      <th>Outono</th>\n",
              "      <td>2538</td>\n",
              "    </tr>\n",
              "    <tr>\n",
              "      <th>Primavera</th>\n",
              "      <td>2475</td>\n",
              "    </tr>\n",
              "    <tr>\n",
              "      <th>Verão</th>\n",
              "      <td>2474</td>\n",
              "    </tr>\n",
              "  </tbody>\n",
              "</table>\n",
              "</div><br><label><b>dtype:</b> int64</label>"
            ]
          },
          "metadata": {},
          "execution_count": 118
        }
      ]
    },
    {
      "cell_type": "code",
      "source": [
        "#Análise de ticket médio por estação\n",
        "ticket_estacao = df_tratado.groupby(\"estacao\")[\"valor_total\"].mean()\n",
        "ticket_estacao"
      ],
      "metadata": {
        "colab": {
          "base_uri": "https://localhost:8080/",
          "height": 241
        },
        "id": "J_l8VNwMRpC1",
        "outputId": "d266e8f4-a689-4ea8-8c5f-3e9718635837"
      },
      "execution_count": null,
      "outputs": [
        {
          "output_type": "execute_result",
          "data": {
            "text/plain": [
              "estacao\n",
              "Inverno      2006.767586\n",
              "Outono       2079.709648\n",
              "Primavera    2061.104343\n",
              "Verão        2173.814287\n",
              "Name: valor_total, dtype: float64"
            ],
            "text/html": [
              "<div>\n",
              "<style scoped>\n",
              "    .dataframe tbody tr th:only-of-type {\n",
              "        vertical-align: middle;\n",
              "    }\n",
              "\n",
              "    .dataframe tbody tr th {\n",
              "        vertical-align: top;\n",
              "    }\n",
              "\n",
              "    .dataframe thead th {\n",
              "        text-align: right;\n",
              "    }\n",
              "</style>\n",
              "<table border=\"1\" class=\"dataframe\">\n",
              "  <thead>\n",
              "    <tr style=\"text-align: right;\">\n",
              "      <th></th>\n",
              "      <th>valor_total</th>\n",
              "    </tr>\n",
              "    <tr>\n",
              "      <th>estacao</th>\n",
              "      <th></th>\n",
              "    </tr>\n",
              "  </thead>\n",
              "  <tbody>\n",
              "    <tr>\n",
              "      <th>Inverno</th>\n",
              "      <td>2006.767586</td>\n",
              "    </tr>\n",
              "    <tr>\n",
              "      <th>Outono</th>\n",
              "      <td>2079.709648</td>\n",
              "    </tr>\n",
              "    <tr>\n",
              "      <th>Primavera</th>\n",
              "      <td>2061.104343</td>\n",
              "    </tr>\n",
              "    <tr>\n",
              "      <th>Verão</th>\n",
              "      <td>2173.814287</td>\n",
              "    </tr>\n",
              "  </tbody>\n",
              "</table>\n",
              "</div><br><label><b>dtype:</b> float64</label>"
            ]
          },
          "metadata": {},
          "execution_count": 119
        }
      ]
    },
    {
      "cell_type": "code",
      "source": [
        "#Análise de quantidade de itens compradas por estação\n",
        "quantidade_estacao = df_tratado.groupby(\"estacao\")[\"quantidade\"].mean()\n",
        "quantidade_estacao"
      ],
      "metadata": {
        "colab": {
          "base_uri": "https://localhost:8080/",
          "height": 241
        },
        "id": "r-cPfSWWR6m6",
        "outputId": "bf460790-91d9-49b2-f7a8-1f8da1e9e165"
      },
      "execution_count": null,
      "outputs": [
        {
          "output_type": "execute_result",
          "data": {
            "text/plain": [
              "estacao\n",
              "Inverno      19.594290\n",
              "Outono       19.309505\n",
              "Primavera    19.004014\n",
              "Verão        20.096943\n",
              "Name: quantidade, dtype: float64"
            ],
            "text/html": [
              "<div>\n",
              "<style scoped>\n",
              "    .dataframe tbody tr th:only-of-type {\n",
              "        vertical-align: middle;\n",
              "    }\n",
              "\n",
              "    .dataframe tbody tr th {\n",
              "        vertical-align: top;\n",
              "    }\n",
              "\n",
              "    .dataframe thead th {\n",
              "        text-align: right;\n",
              "    }\n",
              "</style>\n",
              "<table border=\"1\" class=\"dataframe\">\n",
              "  <thead>\n",
              "    <tr style=\"text-align: right;\">\n",
              "      <th></th>\n",
              "      <th>quantidade</th>\n",
              "    </tr>\n",
              "    <tr>\n",
              "      <th>estacao</th>\n",
              "      <th></th>\n",
              "    </tr>\n",
              "  </thead>\n",
              "  <tbody>\n",
              "    <tr>\n",
              "      <th>Inverno</th>\n",
              "      <td>19.594290</td>\n",
              "    </tr>\n",
              "    <tr>\n",
              "      <th>Outono</th>\n",
              "      <td>19.309505</td>\n",
              "    </tr>\n",
              "    <tr>\n",
              "      <th>Primavera</th>\n",
              "      <td>19.004014</td>\n",
              "    </tr>\n",
              "    <tr>\n",
              "      <th>Verão</th>\n",
              "      <td>20.096943</td>\n",
              "    </tr>\n",
              "  </tbody>\n",
              "</table>\n",
              "</div><br><label><b>dtype:</b> float64</label>"
            ]
          },
          "metadata": {},
          "execution_count": 121
        }
      ]
    },
    {
      "cell_type": "code",
      "source": [
        "#Análise de ticket médio por estação\n",
        "preco_estacao = df_tratado.groupby(\"estacao\")[\"preco_unitario\"].mean()\n",
        "preco_estacao"
      ],
      "metadata": {
        "colab": {
          "base_uri": "https://localhost:8080/",
          "height": 241
        },
        "id": "oES8MrbqSn51",
        "outputId": "b85ee413-d76c-4733-d920-175319d969f0"
      },
      "execution_count": null,
      "outputs": [
        {
          "output_type": "execute_result",
          "data": {
            "text/plain": [
              "estacao\n",
              "Inverno      107.531356\n",
              "Outono       109.054142\n",
              "Primavera    104.983060\n",
              "Verão        107.941101\n",
              "Name: preco_unitario, dtype: float64"
            ],
            "text/html": [
              "<div>\n",
              "<style scoped>\n",
              "    .dataframe tbody tr th:only-of-type {\n",
              "        vertical-align: middle;\n",
              "    }\n",
              "\n",
              "    .dataframe tbody tr th {\n",
              "        vertical-align: top;\n",
              "    }\n",
              "\n",
              "    .dataframe thead th {\n",
              "        text-align: right;\n",
              "    }\n",
              "</style>\n",
              "<table border=\"1\" class=\"dataframe\">\n",
              "  <thead>\n",
              "    <tr style=\"text-align: right;\">\n",
              "      <th></th>\n",
              "      <th>preco_unitario</th>\n",
              "    </tr>\n",
              "    <tr>\n",
              "      <th>estacao</th>\n",
              "      <th></th>\n",
              "    </tr>\n",
              "  </thead>\n",
              "  <tbody>\n",
              "    <tr>\n",
              "      <th>Inverno</th>\n",
              "      <td>107.531356</td>\n",
              "    </tr>\n",
              "    <tr>\n",
              "      <th>Outono</th>\n",
              "      <td>109.054142</td>\n",
              "    </tr>\n",
              "    <tr>\n",
              "      <th>Primavera</th>\n",
              "      <td>104.983060</td>\n",
              "    </tr>\n",
              "    <tr>\n",
              "      <th>Verão</th>\n",
              "      <td>107.941101</td>\n",
              "    </tr>\n",
              "  </tbody>\n",
              "</table>\n",
              "</div><br><label><b>dtype:</b> float64</label>"
            ]
          },
          "metadata": {},
          "execution_count": 123
        }
      ]
    },
    {
      "cell_type": "markdown",
      "source": [
        "# Lição de casa  🏆"
      ],
      "metadata": {
        "id": "wOlHzbw7TQS0"
      }
    },
    {
      "cell_type": "markdown",
      "source": [
        "* Verificar que genêro mais comprou\n",
        "* Extra: Verificar em que estação estão os outliers que não retiramos"
      ],
      "metadata": {
        "id": "4YHxhoqrTEIn"
      }
    }
  ]
}