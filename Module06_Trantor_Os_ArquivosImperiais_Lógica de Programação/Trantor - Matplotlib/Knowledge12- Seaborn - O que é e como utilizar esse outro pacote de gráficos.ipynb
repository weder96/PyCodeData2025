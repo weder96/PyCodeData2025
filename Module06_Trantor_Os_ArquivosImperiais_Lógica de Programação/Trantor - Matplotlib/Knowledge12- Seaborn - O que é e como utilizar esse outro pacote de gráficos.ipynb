{
 "cells": [
  {
   "cell_type": "markdown",
   "id": "a20f9f16",
   "metadata": {},
   "source": [
    "# Mundo 12 - Seaborn\n",
    "\n",
    "# O seaborn é outro pacotes de gráficos do Python.\n",
    "\n",
    "Ele segue e compartilha a estrutura do Matplotlib, mas o único objetivo do seaborn é ser um pouco mais intuitivo e mais bonito \"naturalmente\""
   ]
  },
  {
   "cell_type": "code",
   "execution_count": null,
   "id": "833cd6af",
   "metadata": {},
   "outputs": [],
   "source": [
    "!pip install seaborn"
   ]
  },
  {
   "cell_type": "code",
   "execution_count": null,
   "id": "ca0d6c97",
   "metadata": {},
   "outputs": [],
   "source": [
    "import seaborn as sns\n",
    "import matplotlib.pyplot as plt\n",
    "import pandas as pd\n",
    "import matplotlib.ticker as mtick\n",
    "import yfinance as yf"
   ]
  },
  {
   "cell_type": "code",
   "execution_count": null,
   "id": "acc8368b",
   "metadata": {},
   "outputs": [],
   "source": [
    "params = {\"ytick.color\" : \"w\",\n",
    "          \"xtick.color\" : \"w\",\n",
    "          \"axes.labelcolor\" : \"w\",\n",
    "          \"axes.edgecolor\" : \"w\"}\n",
    "plt.rcParams.update(params)"
   ]
  },
  {
   "cell_type": "markdown",
   "id": "b03172ee",
   "metadata": {},
   "source": [
    "https://seaborn.pydata.org/generated/seaborn.boxplot.html"
   ]
  },
  {
   "cell_type": "code",
   "execution_count": null,
   "id": "5aa3f2d8",
   "metadata": {},
   "outputs": [],
   "source": [
    "cotacoes = yf.download([\"PETR4.SA\", \"^BVSP\"])['Adj Close']\n",
    "\n",
    "retornos_mensais = cotacoes.resample(\"M\").last().pct_change().dropna()"
   ]
  },
  {
   "cell_type": "code",
   "execution_count": null,
   "id": "21208c21",
   "metadata": {},
   "outputs": [],
   "source": [
    "fig, ax = plt.subplots()\n",
    "\n",
    "sns.boxplot(data = retornos_mensais, orient = \"v\")\n",
    "ax.yaxis.set_major_formatter(mtick.PercentFormatter(1, decimals = 0))\n",
    "\n",
    "plt.show()"
   ]
  },
  {
   "cell_type": "code",
   "execution_count": null,
   "id": "d473d493",
   "metadata": {},
   "outputs": [],
   "source": [
    "#histograma\n",
    "\n",
    "fig, ax = plt.subplots()\n",
    "\n",
    "sns.histplot(retornos_mensais['PETR4.SA'])\n",
    "ax.xaxis.set_major_formatter(mtick.PercentFormatter(1, decimals = 0))\n",
    "\n",
    "plt.show()"
   ]
  },
  {
   "cell_type": "code",
   "execution_count": null,
   "id": "b5554c2d",
   "metadata": {},
   "outputs": [],
   "source": [
    "#regressão linear retornos PETR4 x IBOV\n",
    "\n",
    "cotacoes = yf.download([\"PETR4.SA\", \"^BVSP\"])['Adj Close']\n",
    "\n",
    "retornos = cotacoes.pct_change().dropna()\n",
    "\n",
    "fig, ax = plt.subplots()\n",
    "\n",
    "sns.regplot(x = retornos['^BVSP'], y = retornos['PETR4.SA'], line_kws={\"color\" : \"red\" })\n",
    "ax.xaxis.set_major_formatter(mtick.PercentFormatter(1, decimals = 0))\n",
    "ax.yaxis.set_major_formatter(mtick.PercentFormatter(1, decimals = 0))\n",
    "\n",
    "plt.show()\n"
   ]
  },
  {
   "cell_type": "code",
   "execution_count": null,
   "id": "c8cdf6ef",
   "metadata": {},
   "outputs": [],
   "source": [
    "#grafico de linha\n",
    "\n",
    "cotacoes = yf.download([\"PETR4.SA\", \"WEGE3.SA\"])['Adj Close']\n",
    "\n",
    "fig, ax = plt.subplots()\n",
    "\n",
    "sns.lineplot(data = cotacoes)\n",
    "\n",
    "plt.show()"
   ]
  },
  {
   "cell_type": "markdown",
   "id": "e5bcf788",
   "metadata": {},
   "source": [
    "# Exercícios \n",
    "\n",
    "* Exercício 105: Crie um boxsplot utilizando o seaborn com os retornos mensais das empresas LREN3 e EQTL3.\n",
    "* Exercício 106: Crie uma regressão linear com o seaborn entre os retornos de PETR3 e PETR4. "
   ]
  },
  {
   "cell_type": "code",
   "execution_count": null,
   "id": "0d75dbd3",
   "metadata": {},
   "outputs": [],
   "source": []
  },
  {
   "cell_type": "code",
   "execution_count": null,
   "id": "e5e86c67",
   "metadata": {},
   "outputs": [],
   "source": []
  },
  {
   "cell_type": "code",
   "execution_count": null,
   "id": "73b6d36b",
   "metadata": {},
   "outputs": [],
   "source": [
    "#gabarito 105\n",
    "\n",
    "cotacoes = yf.download([\"LREN3.SA\", \"EQTL3.SA\"])['Adj Close']\n",
    "\n",
    "retornos_mensais = cotacoes.resample(\"M\").last().pct_change().dropna()\n",
    "\n",
    "fig, ax = plt.subplots()\n",
    "\n",
    "sns.boxplot(data = retornos_mensais, orient = \"v\")\n",
    "ax.yaxis.set_major_formatter(mtick.PercentFormatter(1, decimals = 0))\n",
    "\n",
    "plt.show()"
   ]
  },
  {
   "cell_type": "code",
   "execution_count": null,
   "id": "6ee468d1",
   "metadata": {},
   "outputs": [],
   "source": [
    "#gabarito 106\n",
    "\n",
    "\n",
    "cotacoes = yf.download([\"PETR4.SA\", \"PETR3.SA\"])['Adj Close']\n",
    "\n",
    "retornos = cotacoes.pct_change().dropna()\n",
    "\n",
    "fig, ax = plt.subplots()\n",
    "\n",
    "sns.regplot(x = retornos['PETR3.SA'], y = retornos['PETR4.SA'], line_kws={\"color\" : \"red\" })\n",
    "ax.xaxis.set_major_formatter(mtick.PercentFormatter(1, decimals = 0))\n",
    "ax.yaxis.set_major_formatter(mtick.PercentFormatter(1, decimals = 0))\n",
    "\n",
    "plt.show()"
   ]
  },
  {
   "cell_type": "code",
   "execution_count": null,
   "id": "ac1ed15d",
   "metadata": {},
   "outputs": [],
   "source": []
  }
 ],
 "metadata": {
  "kernelspec": {
   "display_name": "Python 3",
   "language": "python",
   "name": "python3"
  },
  "language_info": {
   "codemirror_mode": {
    "name": "ipython",
    "version": 3
   },
   "file_extension": ".py",
   "mimetype": "text/x-python",
   "name": "python",
   "nbconvert_exporter": "python",
   "pygments_lexer": "ipython3",
   "version": "3.8.10"
  },
  "vscode": {
   "interpreter": {
    "hash": "916dbcbb3f70747c44a77c7bcd40155683ae19c65e1c03b4aa3499c5328201f1"
   }
  }
 },
 "nbformat": 4,
 "nbformat_minor": 5
}
