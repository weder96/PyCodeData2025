{
  "cells": [
    {
      "cell_type": "markdown",
      "id": "73330d43",
      "metadata": {
        "id": "73330d43"
      },
      "source": [
        "# # Anacreon 5"
      ]
    },
    {
      "cell_type": "code",
      "execution_count": 2,
      "id": "bf1868c3",
      "metadata": {
        "id": "bf1868c3"
      },
      "outputs": [],
      "source": [
        "import numpy as np"
      ]
    },
    {
      "cell_type": "code",
      "execution_count": 5,
      "id": "7003cb95",
      "metadata": {
        "id": "7003cb95",
        "outputId": "2ebfb112-705f-4577-f982-30acc4a63735"
      },
      "outputs": [
        {
          "name": "stdout",
          "output_type": "stream",
          "text": [
            "array 1 : [10 11 12 13 14]\n",
            "array 2 : [ 0  1  2  3  4  5  6  7  8  9 10 11 12 13 14]\n",
            "Array Completo : [10 11 12 13 14  0  1  2  3  4  5  6  7  8  9 10 11 12 13 14]\n"
          ]
        }
      ],
      "source": [
        "#juntar dois arrays\n",
        "import numpy as np\n",
        "\n",
        "array1 = np.arange(10, 15)\n",
        "array2 = np.arange(15)\n",
        "\n",
        "array_completo = np.concatenate([array1, array2])\n",
        "print(\"array 1 :\",array1)\n",
        "print(\"array 2 :\",array2)\n",
        "print(\"Array Completo :\",array_completo)"
      ]
    },
    {
      "cell_type": "code",
      "execution_count": 6,
      "id": "bfc9aa09",
      "metadata": {},
      "outputs": [
        {
          "name": "stdout",
          "output_type": "stream",
          "text": [
            "Array 1: [1 2 3]\n",
            "Array 2: [4 5 6]\n",
            "Array 3: [7 8]\n",
            "\n",
            "Resultado da concatenação:\n",
            "[1 2 3 4 5 6 7 8]\n"
          ]
        }
      ],
      "source": [
        "import numpy as np\n",
        "\n",
        "arr1 = np.array([1, 2, 3])\n",
        "arr2 = np.array([4, 5, 6])\n",
        "arr3 = np.array([7, 8])\n",
        "\n",
        "# Concatena os três arrays\n",
        "resultado = np.concatenate((arr1, arr2, arr3))\n",
        "\n",
        "print(\"Array 1:\", arr1)\n",
        "print(\"Array 2:\", arr2)\n",
        "print(\"Array 3:\", arr3)\n",
        "print(\"\\nResultado da concatenação:\")\n",
        "print(resultado)"
      ]
    },
    {
      "cell_type": "code",
      "execution_count": 8,
      "id": "dbc8b08f",
      "metadata": {},
      "outputs": [
        {
          "name": "stdout",
          "output_type": "stream",
          "text": [
            "Matriz A (2x2):\n",
            " [[1 2]\n",
            " [3 4]]\n",
            "\n",
            "Matriz B (1x2):\n",
            " [[5 6]]\n",
            "\n",
            "Resultado com axis=0 (3x2):\n",
            " [[1 2]\n",
            " [3 4]\n",
            " [5 6]]\n"
          ]
        }
      ],
      "source": [
        "#  Concatenando Arrays 2D (Matrizes)\n",
        "# Aqui é onde o parâmetro axis se torna crucial.\n",
        "# a) Juntando ao longo das Linhas (axis=0)\n",
        "# I#sso significa \"empilhar\" as matrizes uma sobre a outra.\n",
        "\n",
        "# Regra: Para que isso funcione, as matrizes devem ter o mesmo número de colunas.\n",
        "\n",
        "matriz_a = np.array([[1, 2], [3, 4]])\n",
        "matriz_b = np.array([[5, 6]])\n",
        "\n",
        "# Empilha a matriz_b abaixo da matriz_a\n",
        "resultado_axis0 = np.concatenate((matriz_a, matriz_b), axis=0)\n",
        "\n",
        "print(\"Matriz A (2x2):\\n\", matriz_a)\n",
        "print(\"\\nMatriz B (1x2):\\n\", matriz_b)\n",
        "print(\"\\nResultado com axis=0 (3x2):\\n\", resultado_axis0)"
      ]
    },
    {
      "cell_type": "code",
      "execution_count": 9,
      "id": "355ba804",
      "metadata": {},
      "outputs": [
        {
          "name": "stdout",
          "output_type": "stream",
          "text": [
            "Matriz C (2x2):\n",
            " [[1 2]\n",
            " [3 4]]\n",
            "\n",
            "Matriz D (2x1):\n",
            " [[7]\n",
            " [8]]\n",
            "\n",
            "Resultado com axis=1 (2x3):\n",
            " [[1 2 7]\n",
            " [3 4 8]]\n"
          ]
        }
      ],
      "source": [
        "# b) Juntando ao longo das Colunas (axis=1)\n",
        "# Isso significa \"colar\" as matrizes lado a lado.\n",
        "# Regra: Para que isso funcione, as matrizes devem ter o mesmo número de linhas.\n",
        "\n",
        "matriz_c = np.array([[1, 2], [3, 4]])\n",
        "matriz_d = np.array([[7], [8]])\n",
        "\n",
        "# Junta a matriz_d à direita da matriz_c\n",
        "resultado_axis1 = np.concatenate((matriz_c, matriz_d), axis=1)\n",
        "\n",
        "print(\"Matriz C (2x2):\\n\", matriz_c)\n",
        "print(\"\\nMatriz D (2x1):\\n\", matriz_d)\n",
        "print(\"\\nResultado com axis=1 (2x3):\\n\", resultado_axis1)"
      ]
    },
    {
      "cell_type": "code",
      "execution_count": 3,
      "id": "a565da0d",
      "metadata": {
        "id": "a565da0d",
        "outputId": "d7583ebb-a66a-42bb-f5a1-56bcd0a403b5"
      },
      "outputs": [
        {
          "name": "stdout",
          "output_type": "stream",
          "text": [
            "[20 21 22 23 24]\n",
            "[ 0  1  2  3  4  5  6  7  8  9 10 11 12 13 14]\n"
          ]
        }
      ],
      "source": [
        "#separando em dois arrays\n",
        "\n",
        "array_separado1, array_separado2 = np.split(array_completo, [5])\n",
        "\n",
        "print(array_separado1)\n",
        "print(array_separado2)"
      ]
    },
    {
      "cell_type": "code",
      "execution_count": 10,
      "id": "bc621efc",
      "metadata": {},
      "outputs": [
        {
          "name": "stdout",
          "output_type": "stream",
          "text": [
            "Array Original: [ 0  1  2  3  4  5  6  7  8  9 10 11]\n",
            "\n",
            "Resultado da divisão em 3 partes:\n",
            "[array([0, 1, 2, 3]), array([4, 5, 6, 7]), array([ 8,  9, 10, 11])]\n",
            "\n",
            "Tipo do primeiro elemento: <class 'numpy.ndarray'>\n"
          ]
        }
      ],
      "source": [
        "import numpy as np\n",
        "\n",
        "arr = np.arange(12) # Array de 0 a 11\n",
        "print(\"Array Original:\", arr)\n",
        "\n",
        "# Dividir em 3 partes iguais\n",
        "partes = np.split(arr, 3)\n",
        "\n",
        "print(\"\\nResultado da divisão em 3 partes:\")\n",
        "print(partes)\n",
        "print(\"\\nTipo do primeiro elemento:\", type(partes[0]))"
      ]
    },
    {
      "cell_type": "code",
      "execution_count": 4,
      "id": "c7f15b2e",
      "metadata": {
        "id": "c7f15b2e",
        "outputId": "60ffe886-8f09-497f-f3e4-d3c68ee191b5"
      },
      "outputs": [
        {
          "name": "stdout",
          "output_type": "stream",
          "text": [
            "[  20   21   22 3000   23   24    0    1    2    3    4    5    6    7\n",
            "    8    9   10   11   12   13   14 2000]\n"
          ]
        }
      ],
      "source": [
        "#colocar novos dados em um array\n",
        "\n",
        "#[20 21 22 23 24  0  1  2  3  4  5  6  7  8  9 10 11 12 13 14]\n",
        "\n",
        "array_completo = np.append(array_completo, 2000)\n",
        "\n",
        "array_completo = np.insert(array_completo, 3,  3000)\n",
        "\n",
        "print(array_completo)"
      ]
    },
    {
      "cell_type": "code",
      "execution_count": 14,
      "id": "94f1c93f",
      "metadata": {},
      "outputs": [
        {
          "name": "stdout",
          "output_type": "stream",
          "text": [
            "Adicionando um elemento: [1 2 3 4]\n",
            "Inserindo 99 no índice 2: [ 1  2 99  3  4]\n"
          ]
        }
      ],
      "source": [
        "import numpy as np\n",
        "\n",
        "arr1d = np.array([1, 2, 3])\n",
        "\n",
        "# Adicionar um único elemento ao final\n",
        "novo_arr1 = np.append(arr1d, 4)\n",
        "print(\"Adicionando um elemento:\", novo_arr1)\n",
        "novo_arr2 = np.insert(novo_arr1, 2, 99)\n",
        "print(\"Inserindo 99 no índice 2:\", novo_arr2)\n",
        "# Saída: [1 2 3 4]"
      ]
    },
    {
      "cell_type": "code",
      "execution_count": 12,
      "id": "68265df0",
      "metadata": {},
      "outputs": [
        {
          "name": "stdout",
          "output_type": "stream",
          "text": [
            "Inserindo 99 no índice 2: [10 20 99 30 40]\n"
          ]
        }
      ],
      "source": [
        "arr1d = np.array([10, 20, 30, 40])\n",
        "\n",
        "# Inserir o valor 99 na posição de índice 2\n",
        "novo_arr1 = np.insert(arr1d, 2, 99)\n",
        "print(\"Inserindo 99 no índice 2:\", novo_arr1)\n",
        "# Saída: [10 20 99 30 40]"
      ]
    },
    {
      "cell_type": "code",
      "execution_count": 5,
      "id": "2a554660",
      "metadata": {
        "id": "2a554660",
        "outputId": "0cb7053e-9901-41fa-ef7f-2a81b56ec160"
      },
      "outputs": [
        {
          "name": "stdout",
          "output_type": "stream",
          "text": [
            "[  20   21   22 3000   23   24    0    1    2    3    4    5    6    7\n",
            "    8    9   10   11   12   13   14]\n"
          ]
        }
      ],
      "source": [
        "#deletar dados de um array\n",
        "\n",
        "array_completo = np.delete(array_completo, -1)\n",
        "\n",
        "print(array_completo)"
      ]
    },
    {
      "cell_type": "code",
      "execution_count": 17,
      "id": "cb446d93",
      "metadata": {
        "id": "cb446d93",
        "outputId": "59bec4b9-0834-41f6-c223-205d0d54c8be"
      },
      "outputs": [
        {
          "name": "stdout",
          "output_type": "stream",
          "text": [
            "Vetor Unidimensional:  [0 1 2 3 4 5 6 7 8]\n",
            "Matriz 3x3 :  [[0 1 2]\n",
            " [3 4 5]\n",
            " [6 7 8]]\n"
          ]
        }
      ],
      "source": [
        "#reshape\n",
        "vetor = np.arange(9)\n",
        "print(\"Vetor Unidimensional: \",vetor)\n",
        "array_3x3 = vetor.reshape(3, 3) #isso aqui é util na hora de fazer regressão linear\n",
        "print(\"Matriz 3x3 : \",array_3x3)"
      ]
    },
    {
      "cell_type": "code",
      "execution_count": 18,
      "id": "2fb78beb",
      "metadata": {},
      "outputs": [
        {
          "name": "stdout",
          "output_type": "stream",
          "text": [
            "Array Original: [ 10  -5  22  -1   8 -15   4]\n",
            "Array Modificado: [10  0 22  0  8  0  4]\n"
          ]
        }
      ],
      "source": [
        "import numpy as np\n",
        "\n",
        "# Array com valores positivos e negativos\n",
        "dados = np.array([10, -5, 22, -1, 8, -15, 4])\n",
        "print(\"Array Original:\", dados)\n",
        "\n",
        "# A condição é \"o elemento é menor que 0?\"\n",
        "# Modifica o array original nos locais onde a condição é True\n",
        "dados[dados < 0] = 0\n",
        "\n",
        "print(\"Array Modificado:\", dados)"
      ]
    },
    {
      "cell_type": "code",
      "execution_count": 7,
      "id": "319dfc21",
      "metadata": {
        "id": "319dfc21",
        "outputId": "c88ed935-c2a3-4ff1-c4d8-411829bfeed9"
      },
      "outputs": [
        {
          "name": "stdout",
          "output_type": "stream",
          "text": [
            "[  0   0   0   0   0   0   0   0   0   0   0 675  74 465]\n"
          ]
        }
      ],
      "source": [
        "#trocando números dentro de uma condição\n",
        "\n",
        "array_inicial = np.array([4, 4, 4, 4, 7, 6, 5, 32, 13, 2, 32, 675, 74, 465])\n",
        "\n",
        "#como trocar todos os numero menores que 40 por 0?\n",
        "\n",
        "array_inicial[array_inicial < 40] = 0\n",
        "\n",
        "print(array_inicial)"
      ]
    },
    {
      "cell_type": "code",
      "execution_count": 20,
      "id": "31ea6479",
      "metadata": {
        "id": "31ea6479",
        "outputId": "f144e4d6-21f2-4130-fa05-f18996bf9199"
      },
      "outputs": [
        {
          "name": "stdout",
          "output_type": "stream",
          "text": [
            "Array em modo crescente : [    2     9    10   314  1249 18109 25490]\n",
            "Array em modo decrescente : [25490 18109  1249   314    10     9     2]\n"
          ]
        }
      ],
      "source": [
        "#como ordernar objetos dentro de uma lista?\n",
        "array_desordenado = np.array([18109, 1249, 314, 10, 9, 2, 25490])\n",
        "\n",
        "array_crescente = np.sort(array_desordenado)\n",
        "array_decrescente = -np.sort(-array_desordenado)\n",
        "\n",
        "print(\"Array em modo crescente :\",array_crescente)\n",
        "print(\"Array em modo decrescente :\",array_decrescente)"
      ]
    },
    {
      "cell_type": "markdown",
      "id": "d99c5868",
      "metadata": {
        "id": "d99c5868"
      },
      "source": [
        "# Exercício\n",
        "\n",
        "* Exercício 04: Peça ao usuário digitar o lucro da Petrobras, Vale e Weg. Mostre os lucros em ordem do maior pro menor. (Utilize arrays e ferramentas como append, np.sort, etc)"
      ]
    },
    {
      "cell_type": "code",
      "execution_count": 9,
      "id": "fb5b2fc4",
      "metadata": {
        "id": "fb5b2fc4",
        "outputId": "fdf648c3-1689-462f-e510-e58fc396b0b1"
      },
      "outputs": [
        {
          "name": "stdout",
          "output_type": "stream",
          "text": [
            "Lucro das empresas, do maior pro menor: [23. 20. 10.]\n"
          ]
        }
      ],
      "source": [
        "empresas = np.array([\"Weg\", \"Vale\", \"Petrobras\"])\n",
        "\n",
        "array_lucros = np.array([])\n",
        "\n",
        "for empresa in empresas:\n",
        "    \n",
        "    lucro = float(input(f\"Digite o lucro da {empresa}: \"))\n",
        "    array_lucros = np.append(array_lucros, lucro)\n",
        "\n",
        "array_lucros = -np.sort(-array_lucros)\n",
        "\n",
        "print(f'Lucro das empresas, do maior pro menor: {array_lucros}')"
      ]
    },
    {
      "cell_type": "markdown",
      "id": "03e591de",
      "metadata": {
        "id": "03e591de"
      },
      "source": [
        "# Anacreon 6\n",
        "\n",
        "Bom, agora que você já aprendeu a manipular arrays, como a gente pode fazer operações com arrays, que é o mais importante no numpy?\n",
        "Como calcula média, desvio padrão? No mundo 6 a gente vai descobrir! "
      ]
    },
    {
      "cell_type": "code",
      "execution_count": null,
      "id": "4966fde4",
      "metadata": {
        "id": "4966fde4"
      },
      "outputs": [],
      "source": []
    }
  ],
  "metadata": {
    "colab": {
      "name": "Mundo 5.ipynb",
      "provenance": []
    },
    "kernelspec": {
      "display_name": "Python 3",
      "language": "python",
      "name": "python3"
    },
    "language_info": {
      "codemirror_mode": {
        "name": "ipython",
        "version": 3
      },
      "file_extension": ".py",
      "mimetype": "text/x-python",
      "name": "python",
      "nbconvert_exporter": "python",
      "pygments_lexer": "ipython3",
      "version": "3.10.12"
    }
  },
  "nbformat": 4,
  "nbformat_minor": 5
}
