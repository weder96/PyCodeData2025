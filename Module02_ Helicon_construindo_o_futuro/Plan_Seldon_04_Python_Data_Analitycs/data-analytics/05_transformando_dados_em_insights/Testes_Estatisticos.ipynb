{
 "cells": [
  {
   "cell_type": "markdown",
   "id": "098a0d8e",
   "metadata": {
    "id": "098a0d8e"
   },
   "source": [
    "# Testes estatísticos: t, ANOVA e Qui-quadrado\n",
    "\n",
    "**Objetivo:** Compreender quando e como usar os testes t, ANOVA e Qui-quadrado com exemplos práticos.\n",
    "\n",
    "---\n",
    "\n",
    "\n",
    "Eles nos ajudam a responder perguntas como:\n",
    "\n",
    "* “Essa mudança realmente fez diferença?”\n",
    "* “Esses dois grupos são iguais ou diferentes?”\n",
    "* “O que estou vendo é efeito real ou só sorte?”\n",
    "\n"
   ]
  },
  {
   "cell_type": "code",
   "execution_count": 1,
   "id": "mgYoqFKQuwD7",
   "metadata": {
    "executionInfo": {
     "elapsed": 1425,
     "status": "ok",
     "timestamp": 1748376903173,
     "user": {
      "displayName": "Isla Marques",
      "userId": "10478357607822723653"
     },
     "user_tz": 180
    },
    "id": "mgYoqFKQuwD7"
   },
   "outputs": [],
   "source": [
    "import numpy as np\n",
    "from scipy import stats\n",
    "import matplotlib.pyplot as plt\n",
    "import seaborn as sns"
   ]
  },
  {
   "cell_type": "markdown",
   "id": "_8m1qqeiySa7",
   "metadata": {
    "id": "_8m1qqeiySa7"
   },
   "source": [
    "## 🔍 Se as médias são diferentes, não basta olhar e comparar?"
   ]
  },
  {
   "cell_type": "markdown",
   "id": "uRUQfsILyaYm",
   "metadata": {
    "id": "uRUQfsILyaYm"
   },
   "source": [
    "**Não:**\n",
    "\n",
    "📊 Diferença aparente ≠ diferença significativa\n",
    "\n",
    "Duas médias podem parecer diferentes em uma tabela, mas essa diferença pode ter acontecido simplesmente por sorte, flutuação natural, ou ruído nos dados."
   ]
  },
  {
   "cell_type": "markdown",
   "id": "Jy9bG7jJydJM",
   "metadata": {
    "id": "Jy9bG7jJydJM"
   },
   "source": [
    "###*Dois baldes de bolinhas*\n",
    "Imagine dois baldes com bolinhas numeradas.\n",
    "\n",
    "```\n",
    "Você tira 100 bolinhas do balde A e 10 bolinhas do balde B. A média do balde A foi 200, do balde B foi 210.\n",
    "```\n",
    "\n",
    "\n",
    "###🟡 Pergunta:\n",
    "\n",
    "Será que o balde B tem bolinhas com números maiores, ou foi só sorte você tirar bolinhas maiores dessa vez?\n",
    "\n",
    "\n",
    "> 🔍 O teste t vai te dizer se essa diferença de 10 unidades é significativa o suficiente para concluir que os baldes são mesmo diferentes — e não apenas uma variação aleatória.\n",
    "\n",
    "O teste t considera 3 coisas:\n",
    "* A diferença entre as médias:\tQuanto maior a diferença, mais provável ser real\n",
    "* A variabilidade (desvio padrão):\tSe os dados são muito espalhados, a diferença pode não ser tão relevante\n",
    "* O tamanho da amostra:\tCom poucos dados, é mais fácil se enganar por acaso\n",
    "\n",
    "\\\n",
    "\n",
    "| Grupo | Média | Desvio padrão | Tamanho | Visualmente diferente? | Significativo?                                            |\n",
    "| ----- | ----- | ------------- | ------- | ---------------------- | --------------------------------------------------------- |\n",
    "| A     | 200   | 20            | 100     | Sim                    | Depende do teste                                          |\n",
    "| B     | 210   | 40            | 10      | Sim                    | Provavelmente **não** (muito pouco dado e muita variação) |\n",
    "\n",
    "\n",
    "\n",
    "\n",
    "> O teste t faz a pergunta:\n",
    "“Essa diferença seria comum de acontecer se os grupos fossem iguais?”\n"
   ]
  },
  {
   "cell_type": "markdown",
   "id": "1f6404ab",
   "metadata": {
    "id": "1f6404ab"
   },
   "source": [
    "## 🧪 TESTE T – Comparando duas médias\n",
    "Use quando você quer saber se **duas médias** são estatisticamente diferentes."
   ]
  },
  {
   "cell_type": "markdown",
   "id": "i8hZSavSvqxG",
   "metadata": {
    "id": "i8hZSavSvqxG"
   },
   "source": [
    "**O teste t responde à pergunta:**\n",
    "\n",
    "“Será que a diferença entre duas médias que eu observei nos dados aconteceu por acaso, ou indica uma diferença real entre os grupos?”"
   ]
  },
  {
   "cell_type": "markdown",
   "id": "WckJ_jxavwHp",
   "metadata": {
    "id": "WckJ_jxavwHp"
   },
   "source": [
    "📌 Quando usar?\n",
    "\n",
    "*   Você tem duas amostras numéricas (ex: ticket médio, salário, tempo, nota)\n",
    "*   Quer saber se as médias são diferentes\n",
    "*   Os dados são aproximadamente normais (curva em forma de sino)\n",
    "*   Os grupos são independentes (ex: clientes de dois planos diferentes)"
   ]
  },
  {
   "cell_type": "markdown",
   "id": "t99UQREGv-E0",
   "metadata": {
    "id": "t99UQREGv-E0"
   },
   "source": [
    "**Exemplo:** Será que o ticket médio dos clientes do Plano A é diferente do Plano B?"
   ]
  },
  {
   "cell_type": "markdown",
   "id": "HiCSBKPewAt6",
   "metadata": {
    "id": "HiCSBKPewAt6"
   },
   "source": [
    "Defina as hipóteses:\n",
    "\n",
    "*   H₀ (Hipótese Nula): As médias são iguais → ticket_A = ticket_B\n",
    "*   H₁ (Hipótese Alternativa): As médias são diferentes → ticket_A ≠ ticket_B"
   ]
  },
  {
   "cell_type": "code",
   "execution_count": 2,
   "id": "1fcb84fc",
   "metadata": {
    "executionInfo": {
     "elapsed": 68,
     "status": "ok",
     "timestamp": 1748377365440,
     "user": {
      "displayName": "Isla Marques",
      "userId": "10478357607822723653"
     },
     "user_tz": 180
    },
    "id": "1fcb84fc"
   },
   "outputs": [],
   "source": [
    "# Gerando os dados\n",
    "np.random.seed(42) #fixa a aleatoriedade do gerador de números.\n",
    "grupo_a = np.random.normal(200, 20, 10)\n",
    "grupo_b = np.random.normal(205, 20, 10)\n"
   ]
  },
  {
   "cell_type": "code",
   "execution_count": 3,
   "id": "C2ILZT2nwrsv",
   "metadata": {
    "executionInfo": {
     "elapsed": 64,
     "status": "ok",
     "timestamp": 1748377376939,
     "user": {
      "displayName": "Isla Marques",
      "userId": "10478357607822723653"
     },
     "user_tz": 180
    },
    "id": "C2ILZT2nwrsv"
   },
   "outputs": [],
   "source": [
    "# Rodar teste t de Student: É usado para comparar as médias de dois grupos e verificar se há uma diferença estatisticamente significativa entre eles.\n",
    "t_stat, p_val_t = stats.ttest_ind(grupo_a, grupo_b) #Função do SciPy"
   ]
  },
  {
   "cell_type": "code",
   "execution_count": 4,
   "id": "3Spdk-tIwnYE",
   "metadata": {
    "colab": {
     "base_uri": "https://localhost:8080/",
     "height": 35
    },
    "executionInfo": {
     "elapsed": 141,
     "status": "ok",
     "timestamp": 1748377396135,
     "user": {
      "displayName": "Isla Marques",
      "userId": "10478357607822723653"
     },
     "user_tz": 180
    },
    "id": "3Spdk-tIwnYE",
    "outputId": "fb3999b9-89ae-47ea-c57f-88e80c9755be"
   },
   "outputs": [
    {
     "data": {
      "application/vnd.google.colaboratory.intrinsic+json": {
       "type": "string"
      },
      "text/plain": [
       "'Valor-p do Teste t: 0.0078'"
      ]
     },
     "execution_count": 4,
     "metadata": {},
     "output_type": "execute_result"
    }
   ],
   "source": [
    "# Interprete o valor-p - Se valor-p < 0,05 → a diferença nas médias não parece ser por acaso\n",
    "\n",
    "f\"Valor-p do Teste t: {p_val_t:.4f}\""
   ]
  },
  {
   "cell_type": "code",
   "execution_count": 6,
   "id": "KVuLb8FMxtHt",
   "metadata": {
    "colab": {
     "base_uri": "https://localhost:8080/",
     "height": 452
    },
    "executionInfo": {
     "elapsed": 423,
     "status": "ok",
     "timestamp": 1748362593072,
     "user": {
      "displayName": "Isla Marques",
      "userId": "10478357607822723653"
     },
     "user_tz": 180
    },
    "id": "KVuLb8FMxtHt",
    "outputId": "a0a736d5-2b43-439a-d493-cec9d1eaf511"
   },
   "outputs": [
    {
     "data": {
      "image/png": "[encoded data removed]",
      "text/plain": [
       "<Figure size 640x480 with 1 Axes>"
      ]
     },
     "metadata": {},
     "output_type": "display_data"
    }
   ],
   "source": [
    "sns.boxplot(data=[grupo_a, grupo_b])\n",
    "plt.title(\"Ticket médio - Plano A vs Plano B\")\n",
    "plt.xticks([0, 1], ['Plano A', 'Plano B'])\n",
    "plt.show()"
   ]
  },
  {
   "cell_type": "markdown",
   "id": "4qKvoSnIiYSO",
   "metadata": {
    "id": "4qKvoSnIiYSO"
   },
   "source": [
    "![image.png](data:image/png;base64,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)"
   ]
  },
  {
   "cell_type": "code",
   "execution_count": 6,
   "id": "d36twKU0hR-J",
   "metadata": {
    "colab": {
     "base_uri": "https://localhost:8080/"
    },
    "executionInfo": {
     "elapsed": 89,
     "status": "ok",
     "timestamp": 1748377672210,
     "user": {
      "displayName": "Isla Marques",
      "userId": "10478357607822723653"
     },
     "user_tz": 180
    },
    "id": "d36twKU0hR-J",
    "outputId": "78a2e500-5b7b-4413-b7a5-374b3529509b"
   },
   "outputs": [
    {
     "name": "stdout",
     "output_type": "stream",
     "text": [
      "Exemplo 3 – Teste T Independente (Ticket Médio):\n",
      "t = 3.2662\n",
      "Valor-p (unilateral) = 0.0014\n"
     ]
    }
   ],
   "source": [
    "# --- Exemplo 2: Teste T para duas amostras independentes (Ticket Médio) ---\n",
    "\n",
    "# Shopping\n",
    "media_shopping = 312\n",
    "desvio_shopping = 20\n",
    "n_shopping = 15\n",
    "\n",
    "# Rua\n",
    "media_rua = 285\n",
    "desvio_rua = 25\n",
    "n_rua = 15\n",
    "\n",
    "# Erro padrão\n",
    "se_indep = np.sqrt((desvio_shopping**2 / n_shopping) + (desvio_rua**2 / n_rua))\n",
    "t_score_indep = (media_shopping - media_rua) / se_indep\n",
    "df = n_shopping + n_rua - 2\n",
    "p_value_t_indep = 1 - stats.t.cdf(t_score_indep, df)  # unilateral (shopping > rua)\n",
    "\n",
    "print(\"Exemplo 3 – Teste T Independente (Ticket Médio):\")\n",
    "print(f\"t = {t_score_indep:.4f}\")\n",
    "print(f\"Valor-p (unilateral) = {p_value_t_indep:.4f}\")"
   ]
  },
  {
   "cell_type": "markdown",
   "id": "f3tT6op8gzsr",
   "metadata": {
    "id": "f3tT6op8gzsr"
   },
   "source": [
    "## 🧪 TESTE Z – Comparando duas médias maiores\n",
    "Use quando você quer saber se **duas médias** são estatisticamente diferentes."
   ]
  },
  {
   "cell_type": "markdown",
   "id": "1wec0ylbhcgW",
   "metadata": {
    "id": "1wec0ylbhcgW"
   },
   "source": [
    "![image.png](data:image/png;base64,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)"
   ]
  },
  {
   "cell_type": "code",
   "execution_count": 8,
   "id": "thSLctNIhAzV",
   "metadata": {
    "colab": {
     "base_uri": "https://localhost:8080/"
    },
    "executionInfo": {
     "elapsed": 125,
     "status": "ok",
     "timestamp": 1748377855743,
     "user": {
      "displayName": "Isla Marques",
      "userId": "10478357607822723653"
     },
     "user_tz": 180
    },
    "id": "thSLctNIhAzV",
    "outputId": "fa139200-470b-484a-f71e-0956bb7c2f75"
   },
   "outputs": [
    {
     "name": "stdout",
     "output_type": "stream",
     "text": [
      "Exemplo 1 – Teste Z (Campanhas):\n",
      "Z = -2.0520\n",
      "Valor-p = 0.0402\n",
      "\n"
     ]
    }
   ],
   "source": [
    "# Campanha A\n",
    "n1 = 1000\n",
    "x1 = 40\n",
    "p1 = x1 / n1\n",
    "\n",
    "# Campanha B\n",
    "n2 = 1000\n",
    "x2 = 60\n",
    "p2 = x2 / n2\n",
    "\n",
    "# Proporção combinada\n",
    "p_hat = (x1 + x2) / (n1 + n2)\n",
    "#Erro padrao\n",
    "se = np.sqrt(p_hat * (1 - p_hat) * (1/n1 + 1/n2))\n",
    "z_score = (p1 - p2) / se\n",
    "p_value_z = 2 * stats.norm.cdf(z_score)  # Teste bicaudal\n",
    "\n",
    "print(\"Exemplo 1 – Teste Z (Campanhas):\")\n",
    "print(f\"Z = {z_score:.4f}\")\n",
    "print(f\"Valor-p = {p_value_z:.4f}\\n\")"
   ]
  },
  {
   "cell_type": "markdown",
   "id": "4hBJBSPxeVAj",
   "metadata": {
    "id": "4hBJBSPxeVAj"
   },
   "source": [
    "| **Critério**                | **Teste Z**                               | **Teste T**                                    |\n",
    "| --------------------------- | ----------------------------------------- | ---------------------------------------------- |\n",
    "| 📏 **Uso comum**            | Quando o **tamanho da amostra é grande**  | Quando a **amostra é pequena**                 |\n",
    "| 🧠 **Desvio padrão (σ)**    | **Conhecido** ou estimado com precisão    | **Desconhecido** (estimado da própria amostra) |\n",
    "| 📚 **Distribuição usada**   | **Distribuição normal (Z)**               | **Distribuição t de Student**                  |\n",
    "| 👩‍🔬 **Exemplos práticos** | Teste de proporções; grandes experimentos | Comparar médias de 2 grupos com n < 30         |\n",
    "| 📈 **Formato da curva**     | Curva normal (simétrica, fina)            | Curva t (mais “gordinha” nas pontas)           |\n"
   ]
  },
  {
   "cell_type": "markdown",
   "id": "222c8ab9",
   "metadata": {
    "id": "222c8ab9"
   },
   "source": [
    "## 🧪 ANOVA – Comparando três ou mais grupos\n",
    "Use quando você quer saber se **três ou mais grupos** têm médias diferentes.\n",
    "\n",
    "**Exemplo:** A média de satisfação é igual entre filiais Norte, Sul e Sudeste?"
   ]
  },
  {
   "cell_type": "code",
   "execution_count": 9,
   "id": "48cc35ff",
   "metadata": {
    "colab": {
     "base_uri": "https://localhost:8080/",
     "height": 470
    },
    "executionInfo": {
     "elapsed": 243,
     "status": "ok",
     "timestamp": 1748377985036,
     "user": {
      "displayName": "Isla Marques",
      "userId": "10478357607822723653"
     },
     "user_tz": 180
    },
    "id": "48cc35ff",
    "outputId": "2ad5b108-20da-41d7-cddf-7312ef8e2464"
   },
   "outputs": [
    {
     "data": {
      "image/png": "[encoded data removed]",
      "text/plain": [
       "<Figure size 640x480 with 1 Axes>"
      ]
     },
     "metadata": {},
     "output_type": "display_data"
    },
    {
     "data": {
      "application/vnd.google.colaboratory.intrinsic+json": {
       "type": "string"
      },
      "text/plain": [
       "'Valor-p da ANOVA: 0.0000'"
      ]
     },
     "execution_count": 9,
     "metadata": {},
     "output_type": "execute_result"
    }
   ],
   "source": [
    "# Grupos com diferentes médias\n",
    "grupo_1 = np.random.normal(73, 10, 100)\n",
    "grupo_2 = np.random.normal(74, 10, 100)\n",
    "grupo_3 = np.random.normal(79, 10, 100)\n",
    "\n",
    "# ANOVA\n",
    "anova_stat, p_val_anova = stats.f_oneway(grupo_1, grupo_2, grupo_3)\n",
    "\n",
    "# Visualização\n",
    "sns.boxplot(data=[grupo_1, grupo_2, grupo_3])\n",
    "plt.title(\"Satisfação por região\")\n",
    "plt.xticks([0, 1, 2], ['Norte', 'Sul', 'Sudeste'])\n",
    "plt.show()\n",
    "\n",
    "f\"Valor-p da ANOVA: {p_val_anova:.4f}\"\n"
   ]
  },
  {
   "cell_type": "markdown",
   "id": "53f26fd1",
   "metadata": {
    "id": "53f26fd1"
   },
   "source": [
    "## 🧪 Teste Qui-quadrado – Associações entre categorias\n",
    "Use quando você quer saber se há **associação entre variáveis categóricas**.\n",
    "\n",
    "**Exemplo:** O tipo de plano está relacionado à cidade do cliente?\n",
    "\n",
    "H₀ (hipótese nula):\n",
    "❝Não há associação entre o tipo de plano e a cidade do cliente.❞"
   ]
  },
  {
   "cell_type": "code",
   "execution_count": 10,
   "id": "f6a6b810",
   "metadata": {
    "colab": {
     "base_uri": "https://localhost:8080/"
    },
    "executionInfo": {
     "elapsed": 133,
     "status": "ok",
     "timestamp": 1748378062174,
     "user": {
      "displayName": "Isla Marques",
      "userId": "10478357607822723653"
     },
     "user_tz": 180
    },
    "id": "f6a6b810",
    "outputId": "f7c7c196-542b-4c33-fa14-4370a1652acc"
   },
   "outputs": [
    {
     "data": {
      "text/plain": [
       "(          Plano A  Plano B  Plano C\n",
       " Cidade 1       50       30       20\n",
       " Cidade 2       30       45       25\n",
       " Cidade 3       20       25       55,\n",
       " 'Valor-p do Qui-quadrado: 0.0000')"
      ]
     },
     "execution_count": 10,
     "metadata": {},
     "output_type": "execute_result"
    }
   ],
   "source": [
    "import pandas as pd\n",
    "from scipy.stats import chi2_contingency\n",
    "\n",
    "# Criando a tabela de contingência\n",
    "tabela = pd.DataFrame({\n",
    "    'Plano A': [50, 30, 20],\n",
    "    'Plano B': [30, 45, 25],\n",
    "    'Plano C': [20, 25, 55]\n",
    "}, index=['Cidade 1', 'Cidade 2', 'Cidade 3'])\n",
    "\n",
    "# Teste Qui-quadrado\n",
    "chi2_stat, p_val_chi, _, _ = chi2_contingency(tabela)\n",
    "\n",
    "tabela, f\"Valor-p do Qui-quadrado: {p_val_chi:.4f}\"\n"
   ]
  }
 ],
 "metadata": {
  "colab": {
   "provenance": []
  },
  "kernelspec": {
   "display_name": "Python 3",
   "name": "python3"
  },
  "language_info": {
   "name": "python"
  }
 },
 "nbformat": 4,
 "nbformat_minor": 5
}
