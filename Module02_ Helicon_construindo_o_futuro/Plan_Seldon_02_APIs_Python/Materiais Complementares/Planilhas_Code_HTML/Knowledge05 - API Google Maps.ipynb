{
 "cells": [
  {
   "cell_type": "markdown",
   "id": "00f59f5c",
   "metadata": {},
   "source": [
    "# Knowledge 5 - Pegando dados do Google Maps"
   ]
  },
  {
   "cell_type": "markdown",
   "id": "c170d34f",
   "metadata": {},
   "source": [
    "## Conceitos importantes de hoje:\n",
    "\n",
    "* APIs que possuem autenticação.\n",
    "* Gerenciamento de dados sensíveis no código.\n",
    "\n",
    "\n",
    "## Passo a Passo API:\n",
    "\n",
    "1 - Pesquisar \"google maps API\".\n",
    "<br>\n",
    "2 - Site do google: Documentação -> Geocoding -> Bibliotecas do cliente -> Python\n",
    "<br>\n",
    "3 - https://github.com/googlemaps/google-maps-services-python. "
   ]
  },
  {
   "cell_type": "code",
   "execution_count": null,
   "id": "bfd1f48a",
   "metadata": {},
   "outputs": [],
   "source": [
    "%pip install python-dotenv"
   ]
  },
  {
   "cell_type": "code",
   "execution_count": null,
   "id": "c04abda5",
   "metadata": {},
   "outputs": [],
   "source": [
    "%pip install -U googlemaps"
   ]
  },
  {
   "cell_type": "code",
   "execution_count": null,
   "id": "d5d738ea",
   "metadata": {},
   "outputs": [],
   "source": [
    "%pip install pprintpp"
   ]
  },
  {
   "cell_type": "markdown",
   "id": "a57fd2dc",
   "metadata": {},
   "source": [
    "# Passo a Passo Google Cloud:\n",
    "\n",
    "1 - Criar uma conta no Google Cloud.\n",
    "<br>\n",
    "2 - Pesquisar \"geocoding API\" e ativar o serviço.\n",
    "<br>\n",
    "3 - Pegar sua chave de API.\n",
    "<br>\n",
    "* Essa chave que permite que você acesse a API e o Google controle quem é você e quantas requisições você está fazendo. O motivo disso é simples: cobrança. "
   ]
  },
  {
   "cell_type": "code",
   "execution_count": null,
   "id": "5743d81c",
   "metadata": {},
   "outputs": [],
   "source": [
    "import googlemaps\n",
    "from pprint import pprint\n",
    "import time\n",
    "import dotenv\n",
    "import os\n",
    "import pandas as pd"
   ]
  },
  {
   "cell_type": "code",
   "execution_count": null,
   "id": "caa7639a",
   "metadata": {},
   "outputs": [],
   "source": [
    "%load_ext dotenv"
   ]
  },
  {
   "cell_type": "code",
   "execution_count": null,
   "id": "29c86e4d",
   "metadata": {},
   "outputs": [],
   "source": [
    "chave_api = os.getenv(\"API_KEY\")"
   ]
  },
  {
   "cell_type": "code",
   "execution_count": null,
   "id": "bfa40af3",
   "metadata": {},
   "outputs": [],
   "source": [
    "chave_api"
   ]
  },
  {
   "cell_type": "markdown",
   "id": "f502ef91",
   "metadata": {},
   "source": [
    "# Pontos importantes\n",
    "\n",
    "* Ter uma biblioteca que se comunica com a API é o comum de empresas grandes. A partir desa biblioteca você vai:\n",
    "\n",
    "        - Estabelecer conexão.\n",
    "        - Criar seu usuário com sua KEY.\n",
    "        - Escolher qual serviço você irá utilizar.\n",
    "        - Montar a query, igual fizemos no banco central, baseado na documentação.\n",
    "        \n",
    "São passos adicionais devido ao nível de complexidade do serviço. Na AWS é a mesma coisa, você vai ter um pacote que controla como você acessa os serviços de cloud. "
   ]
  },
  {
   "cell_type": "code",
   "execution_count": null,
   "id": "3b8a0f52",
   "metadata": {
    "scrolled": true
   },
   "outputs": [],
   "source": [
    "cliente = googlemaps.Client(chave_api)\n",
    "\n",
    "dir(cliente)"
   ]
  },
  {
   "cell_type": "code",
   "execution_count": null,
   "id": "a8518c8f",
   "metadata": {},
   "outputs": [],
   "source": [
    "endereco_maracana = \"Av. Pres. Castelo Branco, Portão 3 - Maracanã, Rio de Janeiro - RJ\"\n",
    "\n",
    "response = cliente.geocode(endereco_maracana)\n",
    "\n",
    "pprint(response)\n",
    "\n"
   ]
  },
  {
   "cell_type": "markdown",
   "id": "9114aad0",
   "metadata": {},
   "source": [
    "# Aviso importante:\n",
    "\n",
    "* Tome MUITO cuidado com uma chamada pra API dentro de um Loop. Você pode ser bloqueado ou ter que pagar 20 mil reais pro provedor da API :)"
   ]
  },
  {
   "cell_type": "code",
   "execution_count": null,
   "id": "6fdf9129",
   "metadata": {},
   "outputs": [],
   "source": [
    "nome_do_local = \"Lojas Renner\"\n",
    "\n",
    "response = cliente.places(query = nome_do_local)\n",
    "\n",
    "pprint(response)"
   ]
  },
  {
   "cell_type": "code",
   "execution_count": null,
   "id": "32ec364b",
   "metadata": {},
   "outputs": [],
   "source": [
    "coordenada_maracana = (-22.9087371, -43.2381983)\n",
    "\n",
    "results = cliente.places_nearby(location = coordenada_maracana, \n",
    "                                  keyword = \"Lojas Renner\", radius = 50000)\n",
    "\n",
    "results                             "
   ]
  },
  {
   "cell_type": "markdown",
   "id": "1e95e711",
   "metadata": {},
   "source": [
    "# Passo a passo:\n",
    "\n",
    "* Ler a planilha Renner e coletar todos as cidades que a empresa atua.\n",
    "* Pegar as cordenadas de todas as cidades.\n",
    "* Com as cordenadas, filtrar todas as lojas renner em cada cidade e coletar a latitude/longidade de cada uma delas.\n",
    "* Criar um mapa de calor com a coordenada. "
   ]
  },
  {
   "cell_type": "code",
   "execution_count": null,
   "id": "12db0251",
   "metadata": {},
   "outputs": [],
   "source": [
    "nome_sheet = 'Lista de Lojas | Stores List'\n",
    "\n",
    "planilha_renner = pd.read_excel(\"lojas_renner.xlsx\", sheet_name = nome_sheet, skiprows = 5, \n",
    "                                usecols = ['Business', 'Country', 'UF', 'State', 'City'])\n",
    "\n",
    "planilha_renner"
   ]
  },
  {
   "cell_type": "code",
   "execution_count": null,
   "id": "474f7350",
   "metadata": {},
   "outputs": [],
   "source": [
    "planilha_renner = planilha_renner.dropna()\n",
    "\n",
    "planilha_renner = planilha_renner[(planilha_renner['Business'] == \"Renner\") & \n",
    "                                  (planilha_renner['Country'] == \"Brazil\")]\n",
    "\n",
    "planilha_renner"
   ]
  },
  {
   "cell_type": "code",
   "execution_count": null,
   "id": "c0dc07ef",
   "metadata": {},
   "outputs": [],
   "source": [
    "planilha_renner['enderecos'] = (planilha_renner[['City', 'State', 'UF', 'Country']].\n",
    "                                apply(lambda row: '-'.join(row.values.astype(str)), axis=1))\n",
    "\n",
    "enderecos_cidades_renner = list(planilha_renner['enderecos'].unique())\n",
    "\n",
    "enderecos_cidades_renner"
   ]
  },
  {
   "cell_type": "code",
   "execution_count": null,
   "id": "cf95d038",
   "metadata": {
    "scrolled": false
   },
   "outputs": [],
   "source": [
    "lista_cordenadas = []\n",
    "\n",
    "for endereco in enderecos_cidades_renner:\n",
    "\n",
    "    response = cliente.geocode(endereco)\n",
    "\n",
    "    latitude = response[0]['geometry']['location']['lat']\n",
    "    longitude = response[0]['geometry']['location']['lng']\n",
    "    \n",
    "    coordenadas = (latitude, longitude)\n",
    "    \n",
    "    lista_cordenadas.append(coordenadas)\n",
    "    \n",
    "    \n",
    "lista_cordenadas"
   ]
  },
  {
   "cell_type": "code",
   "execution_count": null,
   "id": "32f9e139",
   "metadata": {
    "scrolled": true
   },
   "outputs": [],
   "source": [
    "lista_dfs = []\n",
    "\n",
    "for coordenada in lista_cordenadas:\n",
    "    \n",
    "    print(coordenada)\n",
    "    \n",
    "    results = cliente.places_nearby(location = coordenada, \n",
    "                                  keyword = \"Lojas Renner\", radius = 50000)\n",
    "\n",
    "\n",
    "    while True:\n",
    "        \n",
    "        time.sleep(2)\n",
    "\n",
    "        for store in results['results']:\n",
    "\n",
    "            df = pd.DataFrame({'nome': store['name'],\n",
    "                          'endereco': store['vicinity'],\n",
    "                          'latitude': store['geometry']['location']['lat'],\n",
    "                          'longitudade': store['geometry']['location']['lng']}, index = [0])\n",
    "\n",
    "            lista_dfs.append(df)\n",
    "\n",
    "        if 'next_page_token' in results:\n",
    "            next_page_token = results['next_page_token']\n",
    "            results = cliente.places_nearby(location = coordenada, \n",
    "                                  keyword = \"Lojas Renner\", radius = 50000, page_token = next_page_token)\n",
    "\n",
    "        else:\n",
    "            break\n",
    "        \n",
    "lojas_renner = pd.concat(lista_dfs, ignore_index = True)\n",
    "\n",
    "lojas_renner"
   ]
  },
  {
   "cell_type": "code",
   "execution_count": null,
   "id": "89ecf6c5",
   "metadata": {},
   "outputs": [],
   "source": [
    "lojas_renner_filtrado = lojas_renner[(lojas_renner['nome'] == \"Renner\") |\n",
    "                                    (lojas_renner['nome'] == \"Lojas Renner\") |\n",
    "                                    (lojas_renner['nome'] == \"lojas renner\")]\n",
    "\n",
    "lojas_renner_filtrado = lojas_renner_filtrado.drop_duplicates(subset = ['endereco'])"
   ]
  },
  {
   "cell_type": "code",
   "execution_count": null,
   "id": "a0f0b8b7",
   "metadata": {},
   "outputs": [],
   "source": [
    "coordenadas_lojas = lojas_renner_filtrado[['latitude', 'longitudade']].values\n",
    "coordenadas_lojas"
   ]
  },
  {
   "cell_type": "code",
   "execution_count": null,
   "id": "4433c832",
   "metadata": {
    "scrolled": true
   },
   "outputs": [],
   "source": [
    "%pip install folium"
   ]
  },
  {
   "cell_type": "code",
   "execution_count": null,
   "id": "1a33916e",
   "metadata": {},
   "outputs": [],
   "source": [
    "import folium\n",
    "from folium.plugins import HeatMap"
   ]
  },
  {
   "cell_type": "code",
   "execution_count": null,
   "id": "605887af",
   "metadata": {},
   "outputs": [],
   "source": [
    "mapa = folium.Map(location = [-9.026078, -70.441312], zoom_start = 6)\n",
    "\n",
    "HeatMap(coordenadas_lojas, radius = 50).add_to(mapa)\n",
    "\n",
    "mapa.save('heatmap_renner.html')"
   ]
  },
  {
   "cell_type": "markdown",
   "id": "a8ee7e1e",
   "metadata": {},
   "source": [
    "# Riachuelo"
   ]
  },
  {
   "cell_type": "code",
   "execution_count": null,
   "id": "4216b5eb",
   "metadata": {},
   "outputs": [],
   "source": [
    "nome_sheet = 'Lojas'\n",
    "\n",
    "planilha_riachu = pd.read_excel(\"riachuelo.xlsx\", sheet_name = nome_sheet, skiprows = 4, \n",
    "                               usecols = ['Marcas', 'Estado', 'Cidade'])\n",
    "\n",
    "planilha_riachu = planilha_riachu.dropna()\n",
    "\n",
    "planilha_riachu = planilha_riachu[planilha_riachu['Marcas'] == \"Riachuelo\"]  \n",
    "               \n",
    "planilha_riachu['enderecos'] = (planilha_riachu[['Cidade', 'Estado']].\n",
    "                                apply(lambda row: '- '.join(row.values.astype(str)), axis=1))\n",
    "\n",
    "enderecos_cidades_riachu = list(planilha_riachu['enderecos'].unique())\n",
    "\n",
    "enderecos_cidades_riachu.remove(\"Sinop - Sinop\")\n",
    "enderecos_cidades_riachu.append(\"Sinop - Mato Grosso do Sul\")\n",
    "\n",
    "lista_cordenadas_riachu = []\n",
    "\n",
    "for endereco in enderecos_cidades_riachu:\n",
    "\n",
    "    response = cliente.geocode(endereco)\n",
    "\n",
    "    latitude = response[0]['geometry']['location']['lat']\n",
    "    longitude = response[0]['geometry']['location']['lng']\n",
    "    \n",
    "    coordenadas = (latitude, longitude)\n",
    "    \n",
    "    lista_cordenadas.append(coordenadas)\n",
    "\n",
    "    \n",
    "lista_dfs = []\n",
    "\n",
    "for coordenada in lista_cordenadas_riachu:\n",
    "    \n",
    "    print(coordenada)\n",
    "    \n",
    "    results = cliente.places_nearby(location = coordenada, \n",
    "                                  keyword = \"Riachuelo\", radius = 50000)\n",
    "\n",
    "\n",
    "    while True:\n",
    "        \n",
    "        time.sleep(0.5)\n",
    "\n",
    "        for store in results['results']:\n",
    "\n",
    "            df = pd.DataFrame({'nome': store['name'],\n",
    "                          'endereco': store['vicinity'],\n",
    "                          'latitude': store['geometry']['location']['lat'],\n",
    "                          'longitudade': store['geometry']['location']['lng']}, index = [0])\n",
    "\n",
    "            lista_dfs.append(df)\n",
    "\n",
    "        if 'next_page_token' in results:\n",
    "            next_page_token = results['next_page_token']\n",
    "            results = cliente.places_nearby(location = coordenada, \n",
    "                                  keyword = \"Riachuelo\", radius = 50000, page_token = next_page_token)\n",
    "\n",
    "        else:\n",
    "            break\n",
    "        \n",
    "lojas_riachu = pd.concat(lista_dfs, ignore_index = True)\n",
    "\n",
    "lojas_riachu_filtrado = lojas_riachu[(lojas_riachu['nome'] == \"Riachuelo\") |\n",
    "                                    (lojas_riachu['nome'] == \"RIACHUELO\") |\n",
    "                                    (lojas_riachu['nome'] == \"riachuelo\") |\n",
    "                                    (lojas_riachu['nome'] == \"riachuelo\")]\n",
    "\n",
    "lojas_riachu_filtrado = lojas_riachu_filtrado.drop_duplicates(subset = ['endereco'])\n",
    "\n",
    "coordenadas_lojas_riachu = lojas_riachu_filtrado[['latitude', 'longitudade']].values\n",
    "\n",
    "mapa_ri = folium.Map(location = [-9.026078, -70.441312], zoom_start = 6)\n",
    "\n",
    "HeatMap(coordenadas_lojas_riachu, radius = 50).add_to(mapa_ri)\n",
    "\n",
    "mapa_ri.save('heatmap_riachuelo.html')"
   ]
  },
  {
   "cell_type": "markdown",
   "id": "a017265d",
   "metadata": {},
   "source": [
    "# Quero Quero"
   ]
  },
  {
   "cell_type": "code",
   "execution_count": null,
   "id": "170f3a1c",
   "metadata": {},
   "outputs": [],
   "source": [
    "nome_sheet = 'Lojas'\n",
    "\n",
    "planilha_qq = pd.read_excel(\"quero_quero.xlsx\", sheet_name = nome_sheet, skiprows = 2, \n",
    "                               usecols = ['Cidade (UF)', 'Estado'])\n",
    "\n",
    "planilha_qq = planilha_qq.dropna()\n",
    "\n",
    "planilha_qq['Cidade (UF)'] = planilha_qq['Cidade (UF)'].str.replace(r\"\\(.*\\)\", '') \n",
    "\n",
    "planilha_qq['enderecos'] = (planilha_qq[['Cidade (UF)', 'Estado']].\n",
    "                                apply(lambda row: '- '.join(row.values.astype(str)), axis=1))\n",
    "\n",
    "lista_enderecos_qq = list(planilha_qq['enderecos'].unique())\n",
    "\n",
    "lista_cordenadas_qq = []\n",
    "\n",
    "for endereco in lista_enderecos_qq:\n",
    "\n",
    "    response = cliente.geocode(endereco)\n",
    "\n",
    "    if response != []:\n",
    "\n",
    "        latitude = response[0]['geometry']['location']['lat']\n",
    "        longitude = response[0]['geometry']['location']['lng']\n",
    "\n",
    "        coordenadas = (latitude, longitude)\n",
    "\n",
    "        lista_cordenadas_qq.append(coordenadas)\n",
    "\n",
    "lista_dfs = []\n",
    "\n",
    "for coordenada in lista_cordenadas_qq:\n",
    "    \n",
    "    print(coordenada)\n",
    "    \n",
    "    results = cliente.places_nearby(location = coordenada, \n",
    "                                  keyword = \"lojas quero quero\", radius = 50000)\n",
    "\n",
    "\n",
    "    while True:\n",
    "        \n",
    "        time.sleep(0.5)\n",
    "\n",
    "        for store in results['results']:\n",
    "\n",
    "            df = pd.DataFrame({'nome': store['name'],\n",
    "                          'endereco': store['vicinity'],\n",
    "                          'latitude': store['geometry']['location']['lat'],\n",
    "                          'longitudade': store['geometry']['location']['lng']}, index = [0])\n",
    "\n",
    "            lista_dfs.append(df)\n",
    "\n",
    "        if 'next_page_token' in results:\n",
    "            next_page_token = results['next_page_token']\n",
    "            results = cliente.places_nearby(location = coordenada, \n",
    "                                  keyword = \"lojas quero quero\", radius = 50000, page_token = next_page_token)\n",
    "\n",
    "        else:\n",
    "            break\n",
    "        \n",
    "lojas_qq = pd.concat(lista_dfs, ignore_index = True)\n",
    "\n",
    "lojas_qq_filtrado = lojas_qq[(lojas_qq['nome'] == \"Lojas Quero-Quero\") |\n",
    "                                    (lojas_qq['nome'].str.contains(\"Construção\"))]\n",
    "\n",
    "lojas_qq_filtrado = lojas_qq_filtrado.drop_duplicates(subset = ['endereco'])\n",
    "\n",
    "coordenadas_lojas_qq = lojas_qq_filtrado[['latitude', 'longitudade']].values\n",
    "\n",
    "mapa_qq = folium.Map(location = [-9.026078, -70.441312], zoom_start = 6)\n",
    "\n",
    "HeatMap(coordenadas_lojas_qq, radius = 50).add_to(mapa_qq)\n",
    "\n",
    "mapa_qq.save('heatmap_qq.html')"
   ]
  },
  {
   "cell_type": "markdown",
   "id": "7660e1b5",
   "metadata": {},
   "source": [
    "# Exercícios\n",
    "\n",
    "* Exercício 137: Pegue as coordenadas do endereço da sua casa com Geocode.\n",
    "* Exercício 138: Ache todos os Mc Donalds sua cidade com places_nearby. Caso você more em algum lugar que não tenha Mc Donald, ache os Mc da cidade de Niterói - RJ."
   ]
  },
  {
   "cell_type": "code",
   "execution_count": null,
   "id": "4574154f",
   "metadata": {
    "scrolled": true
   },
   "outputs": [],
   "source": [
    "#gabarito 137\n",
    "\n",
    "endereco_casa_antiga = \"5 de julho, 314 - Icaraí, Niterói - RJ\"\n",
    "\n",
    "response = cliente.geocode(endereco_casa_antiga)\n",
    "\n",
    "latitude = response[0]['geometry']['location']['lat']\n",
    "longitude = response[0]['geometry']['location']['lng']\n",
    "\n",
    "pprint(response)"
   ]
  },
  {
   "cell_type": "code",
   "execution_count": null,
   "id": "aeab0343",
   "metadata": {},
   "outputs": [],
   "source": [
    "#gabarito 138\n",
    "\n",
    "nome_cidade = \"Niterói\"\n",
    "\n",
    "cordenadas = (latitude, longitude)\n",
    "\n",
    "results = cliente.places_nearby(location = cordenadas, \n",
    "                                  keyword = f\"Mc Donalds {nome_cidade}\", radius = 10000)\n",
    "\n",
    "lista_dfs = []\n",
    "\n",
    "while True:\n",
    "        \n",
    "        time.sleep(3)\n",
    "\n",
    "        for mc in results['results']:\n",
    "\n",
    "                    df = pd.DataFrame({'nome': mc['name'],\n",
    "                                  'endereco': mc['vicinity'],\n",
    "                                  'latitude': mc['geometry']['location']['lat'],\n",
    "                                  'longitudade': mc['geometry']['location']['lng']}, index = [0])\n",
    "\n",
    "                    lista_dfs.append(df)\n",
    "\n",
    "\n",
    "        if 'next_page_token' in results:\n",
    "            next_page_token = results['next_page_token']\n",
    "            results = cliente.places_nearby(location = cordenadas, \n",
    "                                  keyword = f\"Mc Donalds {nome_cidade}\", radius = 50000, page_token = next_page_token)\n",
    "\n",
    "        else:\n",
    "            break\n",
    "            \n",
    "\n",
    "lojas_mc = pd.concat(lista_dfs, ignore_index = True)\n",
    "lojas_mc"
   ]
  }
 ],
 "metadata": {
  "kernelspec": {
   "display_name": "Python 3 (ipykernel)",
   "language": "python",
   "name": "python3"
  },
  "language_info": {
   "codemirror_mode": {
    "name": "ipython",
    "version": 3
   },
   "file_extension": ".py",
   "mimetype": "text/x-python",
   "name": "python",
   "nbconvert_exporter": "python",
   "pygments_lexer": "ipython3",
   "version": "3.9.12"
  },
  "vscode": {
   "interpreter": {
    "hash": "e3901721c1dc43833de5c21f729cdb91c67d656177384520d5b14669c55aa120"
   }
  }
 },
 "nbformat": 4,
 "nbformat_minor": 5
}
