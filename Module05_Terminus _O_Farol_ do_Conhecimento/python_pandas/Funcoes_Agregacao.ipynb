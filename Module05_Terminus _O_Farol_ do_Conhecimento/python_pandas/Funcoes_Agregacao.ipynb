{
  "nbformat": 4,
  "nbformat_minor": 0,
  "metadata": {
    "colab": {
      "provenance": []
    },
    "kernelspec": {
      "name": "python3",
      "display_name": "Python 3"
    },
    "language_info": {
      "name": "python"
    }
  },
  "cells": [
    {
      "cell_type": "markdown",
      "source": [
        "#Funções de Agregação\n",
        "\n",
        "As funções de agregação no Pandas permitem resumir e analisar dados, agrupando-os\n",
        "com base em uma ou mais chaves e aplicando funções estatísticas ou outras\n",
        "operações. Isso é fundamental para obter insights a partir de grandes conjuntos de\n",
        "dados.\n",
        "##groupby()\n",
        "- O método groupby() é um dos mais poderosos do Pandas. Ele permite agrupar dados\n",
        "com base em uma ou mais colunas e, em seguida, aplicar uma função de agregação a\n",
        "cada grupo. O processo geralmente envolve três etapas:\n",
        "1. Splitting (Divisão): Os dados são divididos em grupos com base em algum\n",
        "critério.\n",
        "2. Applying (Aplicação): Uma função é aplicada a cada grupo de forma\n",
        "independente.\n",
        "3. Combining (Combinação): Os resultados de cada grupo são combinados em\n",
        "uma única estrutura de dados.\n"
      ],
      "metadata": {
        "id": "f1uG8yiPigDw"
      }
    },
    {
      "cell_type": "code",
      "execution_count": null,
      "metadata": {
        "id": "-w7Xx9Y_iYv-"
      },
      "outputs": [],
      "source": [
        "#Criação do DataFrame\n",
        "import pandas as pd\n",
        "df = pd.DataFrame({\n",
        "'Cidade': ['São Paulo', 'Rio de Janeiro', 'São Paulo', 'Belo Horizonte',\n",
        "'Rio de Janeiro', 'São Paulo'],\n",
        "'Vendas': [100, 150, 120, 80, 200, 90],\n",
        "'Produto': ['A', 'B', 'A', 'C', 'B', 'A']\n",
        "})\n",
        "print('--- DataFrame Original ---\\n', df)"
      ]
    },
    {
      "cell_type": "code",
      "source": [
        "# Agrupar por 'Cidade' e calcular a soma das 'Vendas'\n",
        "vendas_por_cidade = df.groupby('Cidade')['Vendas'].sum()\n",
        "print('\\n--- Vendas por Cidade (sum) ---\\n', vendas_por_cidade)"
      ],
      "metadata": {
        "id": "sm4xOkjKi3QU"
      },
      "execution_count": null,
      "outputs": []
    },
    {
      "cell_type": "code",
      "source": [
        "# Agrupar por 'Cidade' e 'Produto' e calcular a média das 'Vendas'\n",
        "media_vendas_por_cidade_produto = df.groupby(['Cidade', 'Produto'])\n",
        "['Vendas'].mean()\n",
        "print('\\n--- Média de Vendas por Cidade e Produto (mean) ---\\n',\n",
        "media_vendas_por_cidade_produto)"
      ],
      "metadata": {
        "id": "TVfYsmPJi4F_"
      },
      "execution_count": null,
      "outputs": []
    },
    {
      "cell_type": "markdown",
      "source": [
        "Após agrupar os dados com groupby() , você pode aplicar várias funções de\n",
        "agregação:\n",
        "- mean() : Calcula a média dos valores em cada grupo.\n",
        "- sum() : Calcula a soma dos valores em cada grupo.\n",
        "- count() : Conta o número de valores não nulos em cada grupo.\n",
        "- agg() : Permite aplicar múltiplas funções de agregação a uma ou mais colunas\n",
        "simultaneamente. Você pode passar uma lista de strings (nomes das funções) ou\n",
        "um dicionário (para aplicar funções diferentes a colunas diferentes)"
      ],
      "metadata": {
        "id": "4tUirDAKjB4E"
      }
    },
    {
      "cell_type": "code",
      "source": [
        "#Criando o Segundo DataFrame\n",
        "df2 = pd.DataFrame({\n",
        "'Departamento': ['RH', 'TI', 'RH', 'TI', 'Vendas', 'Vendas', 'RH'],\n",
        "'Salario': [5000, 8000, 5500, 9000, 6000, 6500, 5200],\n",
        "'Anos_Experiencia': [2, 5, 3, 6, 4, 3, 2]\n",
        "})\n",
        "print('--- DataFrame Original ---\\n', df2)"
      ],
      "metadata": {
        "id": "mfwm_ADzjFLM"
      },
      "execution_count": null,
      "outputs": []
    },
    {
      "cell_type": "code",
      "source": [
        "# Média de salário por departamento\n",
        "media_salario = df2.groupby('Departamento')['Salario'].mean()\n",
        "print('\\n--- Média de Salário por Departamento ---\\n', media_salario)"
      ],
      "metadata": {
        "id": "sRKa-MQWjPTz"
      },
      "execution_count": null,
      "outputs": []
    },
    {
      "cell_type": "code",
      "source": [
        "# Soma dos anos de experiência por departamento\n",
        "soma_experiencia = df2.groupby('Departamento')['Anos_Experiencia'].sum()\n",
        "print('\\n--- Soma de Anos de Experiência por Departamento ---\\n',soma_experiencia)"
      ],
      "metadata": {
        "id": "AaJL2zPzjUjq"
      },
      "execution_count": null,
      "outputs": []
    },
    {
      "cell_type": "code",
      "source": [
        "# Contagem de funcionários por departamento\n",
        "contagem_funcionarios = df2.groupby('Departamento')['Salario'].count()\n",
        "print('\\n--- Contagem de Funcionários por Departamento ---\\n',contagem_funcionarios)"
      ],
      "metadata": {
        "id": "jotIISLQjVt8"
      },
      "execution_count": null,
      "outputs": []
    },
    {
      "cell_type": "code",
      "source": [
        "# Usando agg() para múltiplas agregações\n",
        "multi_agg = df2.groupby('Departamento').agg({\n",
        "'Salario': ['mean', 'min', 'max'],\n",
        "'Anos_Experiencia': 'sum'})\n",
        "print('\\n--- Múltiplas Agregações com agg() ---\\n', multi_agg)"
      ],
      "metadata": {
        "id": "dwsiTtz-jXJv"
      },
      "execution_count": null,
      "outputs": []
    }
  ]
}