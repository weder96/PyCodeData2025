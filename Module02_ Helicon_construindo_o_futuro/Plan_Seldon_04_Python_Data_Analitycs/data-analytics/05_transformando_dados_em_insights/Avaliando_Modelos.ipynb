{
 "cells": [
  {
   "cell_type": "markdown",
   "id": "d5b7aa9c",
   "metadata": {
    "id": "d5b7aa9c"
   },
   "source": [
    "# Avaliando Modelos: Regressão e Classificação\n",
    "\n",
    "## 🎯 Objetivo da Aula\n",
    "Aprender as principais métricas de avaliação para modelos de regressão e classificação.\n",
    "Compreender quando usar cada métrica e como interpretá-las com exemplos práticos."
   ]
  },
  {
   "cell_type": "markdown",
   "id": "92fbf566",
   "metadata": {
    "id": "92fbf566"
   },
   "source": [
    "## 📊 Parte 1: Avaliação de Modelos de Regressão\n",
    "**Modelos de regressão** têm como saída uma variável **numérica contínua**.\n",
    "\n",
    "**Principais métricas:**\n",
    "- R² (coeficiente de determinação)\n",
    "- RMSE (Root Mean Squared Error)\n",
    "- MAE (Mean Absolute Error)\n"
   ]
  },
  {
   "cell_type": "code",
   "execution_count": 14,
   "id": "04e336eb",
   "metadata": {
    "executionInfo": {
     "elapsed": 33,
     "status": "ok",
     "timestamp": 1748393772860,
     "user": {
      "displayName": "Isla Marques",
      "userId": "10478357607822723653"
     },
     "user_tz": 180
    },
    "id": "04e336eb"
   },
   "outputs": [],
   "source": [
    "import numpy as np\n",
    "import pandas as pd\n",
    "from sklearn.linear_model import LinearRegression\n",
    "from sklearn.metrics import mean_squared_error, mean_absolute_error, r2_score, confusion_matrix, accuracy_score, classification_report\n",
    "import matplotlib.pyplot as plt\n",
    "from sklearn.model_selection import train_test_split\n",
    "import seaborn as sns\n",
    "import statsmodels.api as sm\n",
    "from statsmodels.stats.outliers_influence import variance_inflation_factor\n",
    "\n",
    "np.random.seed(42)\n",
    "n = 1000\n",
    "X = np.random.randint(18, 70, n)\n",
    "y =  700 + 100*X + np.random.normal(500, 400, n)\n",
    "\n",
    "df = pd.DataFrame({'Idade': X, 'Salario': y})\n",
    "\n",
    "X = df[['Idade']]\n",
    "y = df['Salario']\n",
    "\n",
    "X_train, X_test, y_train, y_test = train_test_split(X, y, test_size=0.2, random_state=42)\n",
    "model = LinearRegression()\n",
    "model.fit(X_train, y_train)\n",
    "y_pred = model.predict(X_test)\n",
    "residuos = y_test - y_pred  # resíduo = real - previsto"
   ]
  },
  {
   "cell_type": "code",
   "execution_count": 16,
   "id": "vj5Ss8ywZImy",
   "metadata": {
    "colab": {
     "base_uri": "https://localhost:8080/",
     "height": 300
    },
    "executionInfo": {
     "elapsed": 161,
     "status": "ok",
     "timestamp": 1748393827503,
     "user": {
      "displayName": "Isla Marques",
      "userId": "10478357607822723653"
     },
     "user_tz": 180
    },
    "id": "vj5Ss8ywZImy",
    "outputId": "25e18191-240c-4a20-92ab-2687eebd3331"
   },
   "outputs": [
    {
     "data": {
      "application/vnd.google.colaboratory.intrinsic+json": {
       "summary": "{\n  \"name\": \"df\",\n  \"rows\": 8,\n  \"fields\": [\n    {\n      \"column\": \"Idade\",\n      \"properties\": {\n        \"dtype\": \"number\",\n        \"std\": 340.05931294703913,\n        \"min\": 14.991029650093092,\n        \"max\": 1000.0,\n        \"num_unique_values\": 8,\n        \"samples\": [\n          43.819,\n          44.0,\n          1000.0\n        ],\n        \"semantic_type\": \"\",\n        \"description\": \"\"\n      }\n    },\n    {\n      \"column\": \"Salario\",\n      \"properties\": {\n        \"dtype\": \"number\",\n        \"std\": 2772.8933184320676,\n        \"min\": 1000.0,\n        \"max\": 8800.908177369449,\n        \"num_unique_values\": 8,\n        \"samples\": [\n          5604.929928114661,\n          5640.428693961355,\n          1000.0\n        ],\n        \"semantic_type\": \"\",\n        \"description\": \"\"\n      }\n    }\n  ]\n}",
       "type": "dataframe"
      },
      "text/html": [
       "\n",
       "  <div id=\"df-39235720-6faa-46f3-ae90-545b99e60ce3\" class=\"colab-df-container\">\n",
       "    <div>\n",
       "<style scoped>\n",
       "    .dataframe tbody tr th:only-of-type {\n",
       "        vertical-align: middle;\n",
       "    }\n",
       "\n",
       "    .dataframe tbody tr th {\n",
       "        vertical-align: top;\n",
       "    }\n",
       "\n",
       "    .dataframe thead th {\n",
       "        text-align: right;\n",
       "    }\n",
       "</style>\n",
       "<table border=\"1\" class=\"dataframe\">\n",
       "  <thead>\n",
       "    <tr style=\"text-align: right;\">\n",
       "      <th></th>\n",
       "      <th>Idade</th>\n",
       "      <th>Salario</th>\n",
       "    </tr>\n",
       "  </thead>\n",
       "  <tbody>\n",
       "    <tr>\n",
       "      <th>count</th>\n",
       "      <td>1000.00000</td>\n",
       "      <td>1000.000000</td>\n",
       "    </tr>\n",
       "    <tr>\n",
       "      <th>mean</th>\n",
       "      <td>43.81900</td>\n",
       "      <td>5604.929928</td>\n",
       "    </tr>\n",
       "    <tr>\n",
       "      <th>std</th>\n",
       "      <td>14.99103</td>\n",
       "      <td>1567.577993</td>\n",
       "    </tr>\n",
       "    <tr>\n",
       "      <th>min</th>\n",
       "      <td>18.00000</td>\n",
       "      <td>1978.431546</td>\n",
       "    </tr>\n",
       "    <tr>\n",
       "      <th>25%</th>\n",
       "      <td>31.00000</td>\n",
       "      <td>4329.563624</td>\n",
       "    </tr>\n",
       "    <tr>\n",
       "      <th>50%</th>\n",
       "      <td>44.00000</td>\n",
       "      <td>5640.428694</td>\n",
       "    </tr>\n",
       "    <tr>\n",
       "      <th>75%</th>\n",
       "      <td>56.00000</td>\n",
       "      <td>6860.669502</td>\n",
       "    </tr>\n",
       "    <tr>\n",
       "      <th>max</th>\n",
       "      <td>69.00000</td>\n",
       "      <td>8800.908177</td>\n",
       "    </tr>\n",
       "  </tbody>\n",
       "</table>\n",
       "</div>\n",
       "    <div class=\"colab-df-buttons\">\n",
       "\n",
       "  <div class=\"colab-df-container\">\n",
       "    <button class=\"colab-df-convert\" onclick=\"convertToInteractive('df-39235720-6faa-46f3-ae90-545b99e60ce3')\"\n",
       "            title=\"Convert this dataframe to an interactive table.\"\n",
       "            style=\"display:none;\">\n",
       "\n",
       "  <svg xmlns=\"http://www.w3.org/2000/svg\" height=\"24px\" viewBox=\"0 -960 960 960\">\n",
       "    <path d=\"M120-120v-720h720v720H120Zm60-500h600v-160H180v160Zm220 220h160v-160H400v160Zm0 220h160v-160H400v160ZM180-400h160v-160H180v160Zm440 0h160v-160H620v160ZM180-180h160v-160H180v160Zm440 0h160v-160H620v160Z\"/>\n",
       "  </svg>\n",
       "    </button>\n",
       "\n",
       "  <style>\n",
       "    .colab-df-container {\n",
       "      display:flex;\n",
       "      gap: 12px;\n",
       "    }\n",
       "\n",
       "    .colab-df-convert {\n",
       "      background-color: #E8F0FE;\n",
       "      border: none;\n",
       "      border-radius: 50%;\n",
       "      cursor: pointer;\n",
       "      display: none;\n",
       "      fill: #1967D2;\n",
       "      height: 32px;\n",
       "      padding: 0 0 0 0;\n",
       "      width: 32px;\n",
       "    }\n",
       "\n",
       "    .colab-df-convert:hover {\n",
       "      background-color: #E2EBFA;\n",
       "      box-shadow: 0px 1px 2px rgba(60, 64, 67, 0.3), 0px 1px 3px 1px rgba(60, 64, 67, 0.15);\n",
       "      fill: #174EA6;\n",
       "    }\n",
       "\n",
       "    .colab-df-buttons div {\n",
       "      margin-bottom: 4px;\n",
       "    }\n",
       "\n",
       "    [theme=dark] .colab-df-convert {\n",
       "      background-color: #3B4455;\n",
       "      fill: #D2E3FC;\n",
       "    }\n",
       "\n",
       "    [theme=dark] .colab-df-convert:hover {\n",
       "      background-color: #434B5C;\n",
       "      box-shadow: 0px 1px 3px 1px rgba(0, 0, 0, 0.15);\n",
       "      filter: drop-shadow(0px 1px 2px rgba(0, 0, 0, 0.3));\n",
       "      fill: #FFFFFF;\n",
       "    }\n",
       "  </style>\n",
       "\n",
       "    <script>\n",
       "      const buttonEl =\n",
       "        document.querySelector('#df-39235720-6faa-46f3-ae90-545b99e60ce3 button.colab-df-convert');\n",
       "      buttonEl.style.display =\n",
       "        google.colab.kernel.accessAllowed ? 'block' : 'none';\n",
       "\n",
       "      async function convertToInteractive(key) {\n",
       "        const element = document.querySelector('#df-39235720-6faa-46f3-ae90-545b99e60ce3');\n",
       "        const dataTable =\n",
       "          await google.colab.kernel.invokeFunction('convertToInteractive',\n",
       "                                                    [key], {});\n",
       "        if (!dataTable) return;\n",
       "\n",
       "        const docLinkHtml = 'Like what you see? Visit the ' +\n",
       "          '<a target=\"_blank\" href=https://colab.research.google.com/notebooks/data_table.ipynb>data table notebook</a>'\n",
       "          + ' to learn more about interactive tables.';\n",
       "        element.innerHTML = '';\n",
       "        dataTable['output_type'] = 'display_data';\n",
       "        await google.colab.output.renderOutput(dataTable, element);\n",
       "        const docLink = document.createElement('div');\n",
       "        docLink.innerHTML = docLinkHtml;\n",
       "        element.appendChild(docLink);\n",
       "      }\n",
       "    </script>\n",
       "  </div>\n",
       "\n",
       "\n",
       "    <div id=\"df-f8bf0b60-1661-45d8-b3fc-f761d90fb12d\">\n",
       "      <button class=\"colab-df-quickchart\" onclick=\"quickchart('df-f8bf0b60-1661-45d8-b3fc-f761d90fb12d')\"\n",
       "                title=\"Suggest charts\"\n",
       "                style=\"display:none;\">\n",
       "\n",
       "<svg xmlns=\"http://www.w3.org/2000/svg\" height=\"24px\"viewBox=\"0 0 24 24\"\n",
       "     width=\"24px\">\n",
       "    <g>\n",
       "        <path d=\"M19 3H5c-1.1 0-2 .9-2 2v14c0 1.1.9 2 2 2h14c1.1 0 2-.9 2-2V5c0-1.1-.9-2-2-2zM9 17H7v-7h2v7zm4 0h-2V7h2v10zm4 0h-2v-4h2v4z\"/>\n",
       "    </g>\n",
       "</svg>\n",
       "      </button>\n",
       "\n",
       "<style>\n",
       "  .colab-df-quickchart {\n",
       "      --bg-color: #E8F0FE;\n",
       "      --fill-color: #1967D2;\n",
       "      --hover-bg-color: #E2EBFA;\n",
       "      --hover-fill-color: #174EA6;\n",
       "      --disabled-fill-color: #AAA;\n",
       "      --disabled-bg-color: #DDD;\n",
       "  }\n",
       "\n",
       "  [theme=dark] .colab-df-quickchart {\n",
       "      --bg-color: #3B4455;\n",
       "      --fill-color: #D2E3FC;\n",
       "      --hover-bg-color: #434B5C;\n",
       "      --hover-fill-color: #FFFFFF;\n",
       "      --disabled-bg-color: #3B4455;\n",
       "      --disabled-fill-color: #666;\n",
       "  }\n",
       "\n",
       "  .colab-df-quickchart {\n",
       "    background-color: var(--bg-color);\n",
       "    border: none;\n",
       "    border-radius: 50%;\n",
       "    cursor: pointer;\n",
       "    display: none;\n",
       "    fill: var(--fill-color);\n",
       "    height: 32px;\n",
       "    padding: 0;\n",
       "    width: 32px;\n",
       "  }\n",
       "\n",
       "  .colab-df-quickchart:hover {\n",
       "    background-color: var(--hover-bg-color);\n",
       "    box-shadow: 0 1px 2px rgba(60, 64, 67, 0.3), 0 1px 3px 1px rgba(60, 64, 67, 0.15);\n",
       "    fill: var(--button-hover-fill-color);\n",
       "  }\n",
       "\n",
       "  .colab-df-quickchart-complete:disabled,\n",
       "  .colab-df-quickchart-complete:disabled:hover {\n",
       "    background-color: var(--disabled-bg-color);\n",
       "    fill: var(--disabled-fill-color);\n",
       "    box-shadow: none;\n",
       "  }\n",
       "\n",
       "  .colab-df-spinner {\n",
       "    border: 2px solid var(--fill-color);\n",
       "    border-color: transparent;\n",
       "    border-bottom-color: var(--fill-color);\n",
       "    animation:\n",
       "      spin 1s steps(1) infinite;\n",
       "  }\n",
       "\n",
       "  @keyframes spin {\n",
       "    0% {\n",
       "      border-color: transparent;\n",
       "      border-bottom-color: var(--fill-color);\n",
       "      border-left-color: var(--fill-color);\n",
       "    }\n",
       "    20% {\n",
       "      border-color: transparent;\n",
       "      border-left-color: var(--fill-color);\n",
       "      border-top-color: var(--fill-color);\n",
       "    }\n",
       "    30% {\n",
       "      border-color: transparent;\n",
       "      border-left-color: var(--fill-color);\n",
       "      border-top-color: var(--fill-color);\n",
       "      border-right-color: var(--fill-color);\n",
       "    }\n",
       "    40% {\n",
       "      border-color: transparent;\n",
       "      border-right-color: var(--fill-color);\n",
       "      border-top-color: var(--fill-color);\n",
       "    }\n",
       "    60% {\n",
       "      border-color: transparent;\n",
       "      border-right-color: var(--fill-color);\n",
       "    }\n",
       "    80% {\n",
       "      border-color: transparent;\n",
       "      border-right-color: var(--fill-color);\n",
       "      border-bottom-color: var(--fill-color);\n",
       "    }\n",
       "    90% {\n",
       "      border-color: transparent;\n",
       "      border-bottom-color: var(--fill-color);\n",
       "    }\n",
       "  }\n",
       "</style>\n",
       "\n",
       "      <script>\n",
       "        async function quickchart(key) {\n",
       "          const quickchartButtonEl =\n",
       "            document.querySelector('#' + key + ' button');\n",
       "          quickchartButtonEl.disabled = true;  // To prevent multiple clicks.\n",
       "          quickchartButtonEl.classList.add('colab-df-spinner');\n",
       "          try {\n",
       "            const charts = await google.colab.kernel.invokeFunction(\n",
       "                'suggestCharts', [key], {});\n",
       "          } catch (error) {\n",
       "            console.error('Error during call to suggestCharts:', error);\n",
       "          }\n",
       "          quickchartButtonEl.classList.remove('colab-df-spinner');\n",
       "          quickchartButtonEl.classList.add('colab-df-quickchart-complete');\n",
       "        }\n",
       "        (() => {\n",
       "          let quickchartButtonEl =\n",
       "            document.querySelector('#df-f8bf0b60-1661-45d8-b3fc-f761d90fb12d button');\n",
       "          quickchartButtonEl.style.display =\n",
       "            google.colab.kernel.accessAllowed ? 'block' : 'none';\n",
       "        })();\n",
       "      </script>\n",
       "    </div>\n",
       "\n",
       "    </div>\n",
       "  </div>\n"
      ],
      "text/plain": [
       "            Idade      Salario\n",
       "count  1000.00000  1000.000000\n",
       "mean     43.81900  5604.929928\n",
       "std      14.99103  1567.577993\n",
       "min      18.00000  1978.431546\n",
       "25%      31.00000  4329.563624\n",
       "50%      44.00000  5640.428694\n",
       "75%      56.00000  6860.669502\n",
       "max      69.00000  8800.908177"
      ]
     },
     "execution_count": 16,
     "metadata": {},
     "output_type": "execute_result"
    }
   ],
   "source": [
    "df.describe()"
   ]
  },
  {
   "cell_type": "code",
   "execution_count": 15,
   "id": "2716c4de",
   "metadata": {
    "colab": {
     "base_uri": "https://localhost:8080/"
    },
    "executionInfo": {
     "elapsed": 29,
     "status": "ok",
     "timestamp": 1748393774999,
     "user": {
      "displayName": "Isla Marques",
      "userId": "10478357607822723653"
     },
     "user_tz": 180
    },
    "id": "2716c4de",
    "outputId": "51c4f0c0-4304-4a35-89f9-f7136f6dfb9b"
   },
   "outputs": [
    {
     "name": "stdout",
     "output_type": "stream",
     "text": [
      "R²: 0.95\n",
      "MSE: 140551.48\n",
      "RMSE: 374.90\n",
      "MAE: 299.91\n"
     ]
    }
   ],
   "source": [
    "r2 = r2_score(y_test, y_pred)\n",
    "rmse = np.sqrt(mean_squared_error(y_test, y_pred))\n",
    "mae = mean_absolute_error(y_test, y_pred)\n",
    "mse = mean_squared_error(y_test, y_pred)\n",
    "print(f'R²: {r2:.2f}') #Mede a proporção da variabilidade de Y explicada pelo modelo\n",
    "print(f'MSE: {mse:.2f}') #A média dos quadrados dos erros (diferenças entre valores reais e previstos) - 0 seria o ideal (previsões perfeitas)\n",
    "print(f'RMSE: {rmse:.2f}') # A raiz quadrada do MSE - Quanto menor, melhor. Ideal para avaliar quão longe, em média, você está da resposta correta.\n",
    "print(f'MAE: {mae:.2f}') # A média das distâncias absolutas entre os valores reais e previstos."
   ]
  },
  {
   "cell_type": "markdown",
   "id": "de737e2a",
   "metadata": {
    "id": "de737e2a"
   },
   "source": [
    "### 🧠 Interpretação\n",
    "- **R²**: mostra a proporção da variação explicada pelo modelo. Vai de 0 a 1. Quanto mais perto de 1, melhor.\n",
    "- **RMSE**: penaliza erros maiores. Útil quando queremos evitar grandes desvios.\n",
    "- **MAE**: média dos erros absolutos. Mais fácil de interpretar, mas menos sensível a extremos.\n",
    "\n",
    "**Dica:** use RMSE quando for mais grave errar muito. Use MAE quando todos os erros tiverem o mesmo peso."
   ]
  },
  {
   "cell_type": "markdown",
   "id": "31c5038d",
   "metadata": {
    "id": "31c5038d"
   },
   "source": [
    "## 🧪 Parte 2: Avaliação de Modelos de Classificação\n",
    "Modelos de classificação prevêem **categorias** (ex: sim/não, spam/não spam).\n",
    "\n",
    "**Principais métricas:**\n",
    "- Acurácia\n",
    "- Precisão (Precision)\n",
    "- Revocação (Recall)\n",
    "- F1-Score\n",
    "- AUC (Área sob a curva ROC)"
   ]
  },
  {
   "cell_type": "code",
   "execution_count": 18,
   "id": "ceaf2571",
   "metadata": {
    "executionInfo": {
     "elapsed": 77,
     "status": "ok",
     "timestamp": 1748393961708,
     "user": {
      "displayName": "Isla Marques",
      "userId": "10478357607822723653"
     },
     "user_tz": 180
    },
    "id": "ceaf2571"
   },
   "outputs": [],
   "source": [
    "from sklearn.datasets import make_classification\n",
    "from sklearn.linear_model import LogisticRegression\n",
    "from sklearn.metrics import classification_report, roc_auc_score, roc_curve\n",
    "\n",
    "X, y = make_classification(n_samples=200, n_features=4, weights=[0.6], random_state=42)\n",
    "X_train, X_test, y_train, y_test = train_test_split(X, y, test_size=0.3)\n",
    "clf = LogisticRegression()\n",
    "clf.fit(X_train, y_train)\n",
    "y_pred = clf.predict(X_test)\n",
    "y_prob = clf.predict_proba(X_test)[:, 1]"
   ]
  },
  {
   "cell_type": "code",
   "execution_count": 19,
   "id": "da3d8a37",
   "metadata": {
    "colab": {
     "base_uri": "https://localhost:8080/"
    },
    "executionInfo": {
     "elapsed": 100,
     "status": "ok",
     "timestamp": 1748393970429,
     "user": {
      "displayName": "Isla Marques",
      "userId": "10478357607822723653"
     },
     "user_tz": 180
    },
    "id": "da3d8a37",
    "outputId": "208306b8-95d2-44fe-f802-72a0fc45719a"
   },
   "outputs": [
    {
     "name": "stdout",
     "output_type": "stream",
     "text": [
      "              precision    recall  f1-score   support\n",
      "\n",
      "           0       0.83      0.94      0.88        32\n",
      "           1       0.92      0.79      0.85        28\n",
      "\n",
      "    accuracy                           0.87        60\n",
      "   macro avg       0.88      0.86      0.86        60\n",
      "weighted avg       0.87      0.87      0.87        60\n",
      "\n",
      "AUC: 0.94\n"
     ]
    }
   ],
   "source": [
    "print(classification_report(y_test, y_pred))\n",
    "print(f'AUC: {roc_auc_score(y_test, y_prob):.2f}')"
   ]
  },
  {
   "cell_type": "markdown",
   "id": "W0QKZhNVkk7q",
   "metadata": {
    "id": "W0QKZhNVkk7q"
   },
   "source": [
    "####📩 1. Classificador de spam\n",
    "* Positivo = \"É spam\"\n",
    "* Negativo = \"Não é spam\"\n",
    "\n",
    "| Situação                             | Tipo de erro                                                |\n",
    "| ------------------------------------ | ----------------------------------------------------------- |\n",
    "| Um e-mail importante vai para o spam | ❌ Falso Positivo (foi classificado como spam, mas não era)  |\n",
    "| Um spam chega na caixa de entrada    | ❌ Falso Negativo (era spam, mas o modelo disse que não era) |\n",
    "\n",
    "\n",
    "---\n",
    "\n",
    "\n",
    "####🧬 2. Diagnóstico de doença\n",
    "* Positivo = \"Pessoa tem a doença\"\n",
    "\n",
    "* Negativo = \"Pessoa saudável\"\n",
    "\n",
    "| Situação                                                    | Tipo de erro                                 |\n",
    "| ----------------------------------------------------------- | -------------------------------------------- |\n",
    "| O teste diz que a pessoa está doente, mas ela está saudável | ❌ Falso Positivo                             |\n",
    "| O teste diz que está tudo bem, mas a pessoa tem a doença    | ❌ Falso Negativo (mais perigoso nesse caso!) |\n",
    "\n",
    "\n",
    "> 🧠 Por isso em saúde damos mais peso ao recall: é melhor errar por excesso (FP) do que deixar de detectar (FN).\n",
    "\n",
    "\n",
    "\n",
    "---\n",
    "\n",
    "\n",
    "####💳 3. Detecção de fraude bancária\n",
    "* Positivo = \"É fraude\"\n",
    "\n",
    "* Negativo = \"Transação legítima\"\n",
    "\n",
    "| Situação                                | Tipo de erro     |\n",
    "| --------------------------------------- | ---------------- |\n",
    "| Bloquear uma compra real                | ❌ Falso Positivo |\n",
    "| Permitir uma fraude passar despercebida | ❌ Falso Negativo |\n",
    "\n",
    "\n",
    "> Aqui, o impacto de ambos os erros pode ser alto, então usamos o F1-score para equilibrar."
   ]
  },
  {
   "cell_type": "code",
   "execution_count": 20,
   "id": "30b2343d",
   "metadata": {
    "colab": {
     "base_uri": "https://localhost:8080/",
     "height": 472
    },
    "executionInfo": {
     "elapsed": 360,
     "status": "ok",
     "timestamp": 1748394163620,
     "user": {
      "displayName": "Isla Marques",
      "userId": "10478357607822723653"
     },
     "user_tz": 180
    },
    "id": "30b2343d",
    "outputId": "3c4df6a4-9ebc-47d0-9452-fc6a82c83142"
   },
   "outputs": [
    {
     "data": {
      "image/png": "[encoded data removed]",
      "text/plain": [
       "<Figure size 640x480 with 1 Axes>"
      ]
     },
     "metadata": {},
     "output_type": "display_data"
    }
   ],
   "source": [
    "fpr, tpr, _ = roc_curve(y_test, y_prob)\n",
    "plt.plot(fpr, tpr, label='ROC Curve')\n",
    "plt.plot([0, 1], [0, 1], linestyle='--', color='gray')\n",
    "plt.xlabel('Taxa de Falsos Positivos')\n",
    "plt.ylabel('Taxa de Verdadeiros Positivos')\n",
    "plt.title('Curva ROC')\n",
    "plt.legend()\n",
    "plt.grid()\n",
    "plt.show()"
   ]
  },
  {
   "cell_type": "markdown",
   "id": "52wkSaTpkpAS",
   "metadata": {
    "id": "52wkSaTpkpAS"
   },
   "source": [
    "| Eixo | Nome                          | Significado                                                         |\n",
    "| ---- | ----------------------------- | ------------------------------------------------------------------- |\n",
    "| X    | **FPR** = False Positive Rate | Proporção de negativos reais que foram classificados como positivos |\n",
    "| Y    | **TPR** = True Positive Rate  | Proporção de positivos reais que foram corretamente identificados   |\n"
   ]
  },
  {
   "cell_type": "markdown",
   "id": "ad3088e3",
   "metadata": {
    "id": "ad3088e3"
   },
   "source": [
    "## ✅ Conclusões\n",
    "**Para Regressão:**\n",
    "- Use **R²** para ver o quanto seu modelo explica.\n",
    "- Use **RMSE** se erros grandes forem críticos.\n",
    "- Use **MAE** para uma métrica mais simples e estável.\n",
    "\n",
    "**Para Classificação:**\n",
    "- Use **acurácia** quando as classes estiverem balanceadas.\n",
    "- Use **precisão** quando os falsos positivos forem críticos (ex: spam).\n",
    "- Use **recall** quando os falsos negativos forem críticos (ex: detecção de doença).\n",
    "- Use **F1-score** para equilibrar precisão e recall.\n",
    "- Use **AUC** para avaliar o desempenho geral do modelo."
   ]
  }
 ],
 "metadata": {
  "colab": {
   "provenance": []
  },
  "kernelspec": {
   "display_name": "Python 3",
   "name": "python3"
  },
  "language_info": {
   "name": "python"
  }
 },
 "nbformat": 4,
 "nbformat_minor": 5
}
