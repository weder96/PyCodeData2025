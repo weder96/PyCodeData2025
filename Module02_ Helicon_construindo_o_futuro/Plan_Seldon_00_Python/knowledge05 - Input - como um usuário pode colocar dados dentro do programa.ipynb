{
 "cells": [
  {
   "cell_type": "markdown",
   "id": "8610332d",
   "metadata": {},
   "source": [
    "# Knowledge 5\n",
    "\n",
    "Como colocar dados de fora do programa através de inputs? o python oferece essa ferramenta e nós vamos agora, no Knowledge 5, aprender a utilizar ela!"
   ]
  },
  {
   "cell_type": "code",
   "execution_count": 5,
   "id": "d9cb181f",
   "metadata": {},
   "outputs": [
    {
     "name": "stdout",
     "output_type": "stream",
     "text": [
      "Digite seu time de coração: Flamengo\n",
      "Flamengo é o maior time do mundo!\n"
     ]
    }
   ],
   "source": [
    "time = input('Digite seu time de coração: ')\n",
    "\n",
    "print(f'{time} é o maior time do mundo!')"
   ]
  },
  {
   "cell_type": "code",
   "execution_count": 7,
   "id": "da83d1d6",
   "metadata": {},
   "outputs": [
    {
     "name": "stdout",
     "output_type": "stream",
     "text": [
      "Digite um número inteiro: 2\n",
      "4\n"
     ]
    }
   ],
   "source": [
    "#realizando contas com inputs\n",
    "\n",
    "numero_digitado = int(input('Digite um número inteiro: '))\n",
    "\n",
    "numero_final = numero_digitado + 2\n",
    "\n",
    "print(numero_final)"
   ]
  },
  {
   "cell_type": "markdown",
   "id": "20c91ac2",
   "metadata": {},
   "source": [
    "# Desafios\n",
    "\n",
    "* Exercício 5: Recrie o programa da pessoa mais rica do mundo, só que agora ao invés de ser um variável de dentro do código, a pessoa é um input.\n",
    "* Exercício 6: Crie um programa que devolva o input digitado somado ao valor 3. "
   ]
  },
  {
   "cell_type": "code",
   "execution_count": 8,
   "id": "85c71e46",
   "metadata": {},
   "outputs": [
    {
     "name": "stdout",
     "output_type": "stream",
     "text": [
      "Digite o nome da pessoa mais rica do mundo: Elon musk\n",
      "Elon musk é a pessoa mais rica do mundo!\n"
     ]
    }
   ],
   "source": [
    "nome = input('Digite o nome da pessoa mais rica do mundo: ')\n",
    "\n",
    "string_pessoa_rica  = f'{nome} é a pessoa mais rica do mundo!'\n",
    "\n",
    "print(string_pessoa_rica)\n"
   ]
  },
  {
   "cell_type": "code",
   "execution_count": 9,
   "id": "82d5ee17",
   "metadata": {},
   "outputs": [
    {
     "name": "stdout",
     "output_type": "stream",
     "text": [
      "Digite um número inteiro: 5\n",
      "8\n"
     ]
    }
   ],
   "source": [
    "numero_digitado = int(input('Digite um número inteiro: '))\n",
    "\n",
    "numero_final = numero_digitado + 3\n",
    "\n",
    "print(numero_final)\n"
   ]
  },
  {
   "cell_type": "code",
   "execution_count": null,
   "id": "403a7a9d",
   "metadata": {},
   "outputs": [],
   "source": []
  }
 ],
 "metadata": {
  "kernelspec": {
   "display_name": "Python 3 (ipykernel)",
   "language": "python",
   "name": "python3"
  },
  "language_info": {
   "codemirror_mode": {
    "name": "ipython",
    "version": 3
   },
   "file_extension": ".py",
   "mimetype": "text/x-python",
   "name": "python",
   "nbconvert_exporter": "python",
   "pygments_lexer": "ipython3",
   "version": "3.9.12"
  }
 },
 "nbformat": 4,
 "nbformat_minor": 5
}
