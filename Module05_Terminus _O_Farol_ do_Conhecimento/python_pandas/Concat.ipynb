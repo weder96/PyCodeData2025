{
  "nbformat": 4,
  "nbformat_minor": 0,
  "metadata": {
    "colab": {
      "provenance": []
    },
    "kernelspec": {
      "name": "python3",
      "display_name": "Python 3"
    },
    "language_info": {
      "name": "python"
    }
  },
  "cells": [
    {
      "cell_type": "markdown",
      "source": [
        "#Concat\n",
        "A função pd.concat() é usada para concatenar objetos Pandas (Series ou\n",
        "DataFrames) ao longo de um eixo específico. Isso significa empilhar DataFrames um sobre o outro (linha por linha) ou lado a lado (coluna por coluna).\n",
        "- objs : Uma lista de objetos Series ou DataFrame a serem concatenados.\n",
        "- axis : O eixo ao longo do qual concatenar. 0 para linhas (padrão) e 1 para\n",
        "colunas.\n",
        "- ignore_index : Se True , o índice do DataFrame resultante não incluirá os\n",
        "índices originais, mas sim um novo índice numérico. Útil para evitar índices\n",
        "duplicados."
      ],
      "metadata": {
        "id": "s1wNLcM1peUI"
      }
    },
    {
      "cell_type": "code",
      "execution_count": null,
      "metadata": {
        "id": "9GMiVtU8ondl"
      },
      "outputs": [],
      "source": [
        "import pandas as pd\n",
        "# DataFrames para concatenação por linhas\n",
        "df1 = pd.DataFrame({\n",
        "'A': ['A0', 'A1', 'A2', 'A3'],\n",
        "'B': ['B0', 'B1', 'B2', 'B3'],\n",
        "'C': ['C0', 'C1', 'C2', 'C3'],\n",
        "'D': ['D0', 'D1', 'D2', 'D3']\n",
        "}, index=[0, 1, 2, 3])\n",
        "\n",
        "df2 = pd.DataFrame({\n",
        "'A': ['A4', 'A5', 'A6', 'A7'],\n",
        "'B': ['B4', 'B5', 'B6', 'B7'],\n",
        "'C': ['C4', 'C5', 'C6', 'C7'],\n",
        "'D': ['D4', 'D5', 'D6', 'D7']\n",
        "}, index=[4, 5, 6, 7])"
      ]
    },
    {
      "cell_type": "code",
      "source": [
        "print('--- DataFrame 1 ---\\n', df1)"
      ],
      "metadata": {
        "id": "4GYj4OvWpq6K"
      },
      "execution_count": null,
      "outputs": []
    },
    {
      "cell_type": "code",
      "source": [
        "print('\\n--- DataFrame 2 ---\\n', df2)"
      ],
      "metadata": {
        "id": "a2G6WXcMpr8x"
      },
      "execution_count": null,
      "outputs": []
    },
    {
      "cell_type": "code",
      "source": [
        "# Concatenação por linhas (padrão)\n",
        "result_rows = pd.concat([df1, df2])\n",
        "print('\\n--- Concatenação por Linhas ---\\n', result_rows)"
      ],
      "metadata": {
        "id": "3kBDPYSdptmA"
      },
      "execution_count": null,
      "outputs": []
    },
    {
      "cell_type": "code",
      "source": [
        "# Concatenação por colunas\n",
        "df3 = pd.DataFrame({\n",
        "'E': ['E0', 'E1', 'E2', 'E3'],\n",
        "'F': ['F0', 'F1', 'F2', 'F3']\n",
        "}, index=[0, 1, 2, 3])\n",
        "print('\\n--- DataFrame 3 ---\\n', df3)\n",
        "result_cols = pd.concat([df1, df3], axis=1)\n",
        "print('\\n--- Concatenação por Colunas ---\\n', result_cols)"
      ],
      "metadata": {
        "id": "hTsmTKS4puzr"
      },
      "execution_count": null,
      "outputs": []
    },
    {
      "cell_type": "code",
      "source": [
        "# Concatenação com ignore_index=True\n",
        "result_ignore_index = pd.concat([df1, df2], ignore_index=True)\n",
        "print('\\n--- Concatenação com ignore_index=True ---\\n', result_ignore_index)"
      ],
      "metadata": {
        "id": "zL035bFlpv_a"
      },
      "execution_count": null,
      "outputs": []
    }
  ]
}