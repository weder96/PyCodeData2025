{
 "cells": [
  {
   "cell_type": "markdown",
   "id": "6b6071ff",
   "metadata": {},
   "source": [
    "# Knowledge 16"
   ]
  },
  {
   "cell_type": "code",
   "execution_count": 1,
   "id": "40e722f8",
   "metadata": {},
   "outputs": [],
   "source": [
    "#criando uma condição\n",
    "\n",
    "#banco de dados\n",
    "\n",
    "weg = {\"Ticker\": \"WEGE3\", \"Lucro\": 1700, 'Segmento de listagem': \"Novo mercado\", 'ROE': 0.20}\n",
    "\n",
    "vale = {\"Ticker\": \"VALE3\", \"Lucro\": 21700, 'Segmento de listagem': \"Novo mercado\", 'ROE': 0.19}\n",
    "\n",
    "petrobras = {\"Ticker\": [\"PETR3\", \"PETR4\"], \"Lucro\": 6700, 'Segmento de listagem': \"Nível 2\", 'ROE': 0.15}\n",
    "\n",
    "tranqueira_fc = {\"Ticker\": \"TRNQ3\", \"Lucro\": -20000, 'Segmento de listagem': \"Tradicional\", 'ROE': 0.02}"
   ]
  },
  {
   "cell_type": "code",
   "execution_count": 4,
   "id": "db081958",
   "metadata": {},
   "outputs": [
    {
     "name": "stdout",
     "output_type": "stream",
     "text": [
      "Escolha uma empresa entre Weg, Petrobras e Vale: ldknakd\n"
     ]
    }
   ],
   "source": [
    "empresa_escolhida = str(input(\"Escolha uma empresa entre Weg, Petrobras e Vale: \")).lower()"
   ]
  },
  {
   "cell_type": "code",
   "execution_count": 5,
   "id": "f8e08d08",
   "metadata": {},
   "outputs": [
    {
     "name": "stdout",
     "output_type": "stream",
     "text": [
      "Por favor, digite uma empresa válida!\n"
     ]
    }
   ],
   "source": [
    "if empresa_escolhida == \"weg\":\n",
    "\n",
    "    porcentagem_roe = \"{:.0%}\".format(weg['ROE'])\n",
    "\n",
    "    print(f\"O lucro da Weg é R${weg['Lucro']}, seu código de negociação é {weg['Ticker']}, e o ROE da empresa é de {porcentagem_roe}\")\n",
    "\n",
    "elif empresa_escolhida == \"vale\":\n",
    "\n",
    "    porcentagem_roe = \"{:.0%}\".format(vale['ROE'])\n",
    "\n",
    "    print(f\"O lucro da Vale é R${vale['Lucro']}, seu código de negociação é {vale['Ticker']}, e o ROE da empresa é de {porcentagem_roe}\")\n",
    "\n",
    "elif empresa_escolhida == \"petrobras\":\n",
    "\n",
    "    porcentagem_roe = \"{:.0%}\".format(petrobras['ROE'])\n",
    "\n",
    "    print(f\"O lucro da Petrobras é R${petrobras['Lucro']}, seu código de negociação é {petrobras['Ticker']}, e o ROE da empresa é de {porcentagem_roe}\")\n",
    "\n",
    "else:\n",
    "\n",
    "    print('Por favor, digite uma empresa válida!')"
   ]
  },
  {
   "cell_type": "code",
   "execution_count": 8,
   "id": "6e9e5a23",
   "metadata": {},
   "outputs": [
    {
     "name": "stdout",
     "output_type": "stream",
     "text": [
      "Escolha uma empresa entre Weg, Petrobras, Vale ou Tranqueira: tranqueira\n",
      "Tem certeza que deseja saber sobre a Tranqueira? Digite 'S' para sim e 'N' para não n\n"
     ]
    }
   ],
   "source": [
    "empresa_escolhida = str(input(\"Escolha uma empresa entre Weg, Petrobras, Vale ou Tranqueira: \")).lower()\n",
    "escolha = True\n",
    "\n",
    "if empresa_escolhida == \"tranqueira\":\n",
    "\n",
    "    usuario_escolha = str(input(\"Tem certeza que deseja saber sobre a Tranqueira? Digite 'S' para sim e 'N' para não \")).lower()\n",
    "\n",
    "    if usuario_escolha == \"n\":\n",
    "        \n",
    "        escolha = False\n",
    "    else:\n",
    "        \n",
    "        pass"
   ]
  },
  {
   "cell_type": "code",
   "execution_count": 12,
   "id": "0f12714d",
   "metadata": {},
   "outputs": [
    {
     "name": "stdout",
     "output_type": "stream",
     "text": [
      "Melhor não saber mesmo!\n"
     ]
    }
   ],
   "source": [
    "if empresa_escolhida == \"weg\":\n",
    "\n",
    "    porcentagem_roe = \"{:.0%}\".format(weg['ROE'])\n",
    "\n",
    "    print(f\"O lucro da Weg é R${weg['Lucro']}, seu código de negociação é {weg['Ticker']}, e o ROE da empresa é de {porcentagem_roe}\")\n",
    "\n",
    "elif empresa_escolhida == \"vale\":\n",
    "\n",
    "    porcentagem_roe = \"{:.0%}\".format(vale['ROE'])\n",
    "\n",
    "    print(f\"O lucro da Vale é R${vale['Lucro']}, seu código de negociação é {vale['Ticker']}, e o ROE da empresa é de {porcentagem_roe}\")\n",
    "\n",
    "elif empresa_escolhida == \"petrobras\":\n",
    "\n",
    "    porcentagem_roe = \"{:.0%}\".format(petrobras['ROE'])\n",
    "\n",
    "    print(f\"O lucro da Petrobras é R${petrobras['Lucro']}, seu código de negociação é {petrobras['Ticker']}, e o ROE da empresa é de {porcentagem_roe}\")\n",
    "\n",
    "elif empresa_escolhida == \"tranqueira\" and escolha != False:\n",
    "\n",
    "    porcentagem_roe = \"{:.0%}\".format(tranqueira_fc['ROE'])\n",
    "\n",
    "    print(f\"O lucro da Tranqueira é R${tranqueira_fc['Lucro']}, seu código de negociação é {tranqueira_fc['Ticker']}, e o ROE da empresa é de {porcentagem_roe}\")\n",
    "\n",
    "elif empresa_escolhida == \"tranqueira\" and escolha == False:\n",
    "\n",
    "    print(\"Melhor não saber mesmo!\")\n",
    "\n",
    "else:\n",
    "\n",
    "    print('Por favor, digite uma empresa válida!')"
   ]
  },
  {
   "cell_type": "markdown",
   "id": "d6769546",
   "metadata": {},
   "source": [
    "# Desafios\n",
    "\n",
    "* Exercício 18: Crie um algoritmo que receba um código de negociação e mostra na tela se esse código é PN, ON ou UNIT. Lembrando: Código ON sempre termina em 3, PN sempre termina em 4 e UNIT em 11. \n",
    "\n",
    "* Exercício 19: Crie um programa que receba 3 informações do usuário: nome da empresa, ROE e preço/lucro. Gere recomendações de investimento baseado no ROE e no P/L. Uma condição pra caso o ROE seja maior que 20% e o P/L acima de 20, outra pra caso o ROE seja 20% mas o P/L seja menor que 5, etc. Seja criativo e utilize as condições \"or\" e \"and\".\n",
    "\n",
    "ROE - rentabilidade uma empresa que varia de negativo a infinitos %. Quanto maior, melhor. \n",
    "\n",
    "P/L - preço/lucro. Quanto menor melhor, contando que não seja negativo, pois significa que a empresa teve prejuízo. \n",
    "Uma empresa com alto ROE e baixo P/L seria o ideal. "
   ]
  },
  {
   "cell_type": "code",
   "execution_count": 13,
   "id": "3b5964da",
   "metadata": {},
   "outputs": [
    {
     "name": "stdout",
     "output_type": "stream",
     "text": [
      "Digite o ticker: WEGE3\n",
      "A ação é ON!\n"
     ]
    }
   ],
   "source": [
    "ticker = str(input(\"Digite o ticker: \")).upper()\n",
    "\n",
    "if ticker[-1] == \"3\":\n",
    "\n",
    "    print(\"A ação é ON!\")\n",
    "\n",
    "elif ticker[-1] == \"4\":\n",
    "\n",
    "    print(\"A ação é PN!\")\n",
    "\n",
    "elif ticker[-1] == \"1\":\n",
    "\n",
    "    print(\"A ação é UNIT!\")\n",
    "\n",
    "else:\n",
    "\n",
    "    print(\"Digite um código válido\")"
   ]
  },
  {
   "cell_type": "code",
   "execution_count": 17,
   "id": "442af11c",
   "metadata": {},
   "outputs": [
    {
     "name": "stdout",
     "output_type": "stream",
     "text": [
      "Digite o nome da empresa: PetrobraS\n",
      "Digite o ROE da empresa em decimal: 0.1\n",
      "Digite o P/L da empresa: 20\n",
      "To igual glória pires e não sou capaz de opinar\n"
     ]
    }
   ],
   "source": [
    "nome = str(input(\"Digite o nome da empresa: \")).title()\n",
    "roe = float(input(\"Digite o ROE da empresa em decimal: \"))\n",
    "pl = int(input(\"Digite o P/L da empresa: \"))\n",
    "\n",
    "\n",
    "if roe > 0.15 and pl < 5:\n",
    "\n",
    "    print(\"Compre essa ação agora!\")\n",
    "\n",
    "elif roe < 0.05 or pl < 0:\n",
    "\n",
    "    print(\"Tranqueira braba!\")\n",
    "\n",
    "elif roe > 0.10 and pl > 30:\n",
    "\n",
    "    print(\"Ação cara, hein?\")\n",
    "    \n",
    "else:\n",
    "    \n",
    "    print(\"To igual glória pires e não sou capaz de opinar\")"
   ]
  }
 ],
 "metadata": {
  "kernelspec": {
   "display_name": "Python 3 (ipykernel)",
   "language": "python",
   "name": "python3"
  },
  "language_info": {
   "codemirror_mode": {
    "name": "ipython",
    "version": 3
   },
   "file_extension": ".py",
   "mimetype": "text/x-python",
   "name": "python",
   "nbconvert_exporter": "python",
   "pygments_lexer": "ipython3",
   "version": "3.9.12"
  }
 },
 "nbformat": 4,
 "nbformat_minor": 5
}
