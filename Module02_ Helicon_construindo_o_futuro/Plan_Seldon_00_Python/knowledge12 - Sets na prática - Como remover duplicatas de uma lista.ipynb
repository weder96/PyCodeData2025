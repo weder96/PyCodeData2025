{
 "cells": [
  {
   "cell_type": "markdown",
   "id": "6b6071ff",
   "metadata": {},
   "source": [
    "# Knowledge 12"
   ]
  },
  {
   "cell_type": "code",
   "execution_count": null,
   "id": "40e722f8",
   "metadata": {},
   "outputs": [],
   "source": [
    "set_teste = {'weg', 'renner', 'c&a', 'SLC agricola'}\n",
    "set_numero = {1, 4, 5, 8}\n",
    "\n",
    "print(set_teste)"
   ]
  },
  {
   "cell_type": "code",
   "execution_count": null,
   "id": "db081958",
   "metadata": {},
   "outputs": [],
   "source": [
    "#remover duplicatas\n",
    "\n",
    "lista_duplicada = ['renner', 'renner', 'weg', 'weg']\n",
    "\n",
    "lista_unica = list(set(lista_duplicada)) #você pode converter listas em sets ou tuplas sem problemas\n",
    "\n",
    "print(lista_unica)"
   ]
  },
  {
   "cell_type": "code",
   "execution_count": null,
   "id": "f8e08d08",
   "metadata": {},
   "outputs": [],
   "source": [
    "#adicionando um ou mais elementos a sets\n",
    "\n",
    "set_numero.add(10)\n",
    "\n",
    "print(set_numero)\n",
    "\n",
    "set_numero.update([20, 25, 60])\n",
    "\n",
    "print(set_numero)"
   ]
  },
  {
   "cell_type": "code",
   "execution_count": null,
   "id": "6e9e5a23",
   "metadata": {},
   "outputs": [],
   "source": [
    "#removendo elementos\n",
    "\n",
    "set_numero.discard(1)\n",
    "\n",
    "print(set_numero)"
   ]
  },
  {
   "cell_type": "code",
   "execution_count": null,
   "id": "0f12714d",
   "metadata": {},
   "outputs": [],
   "source": [
    "#operações matemáticas de união, interseção, diferença \n",
    "\n",
    "\n",
    "meu_set = {1, 2, 3, 5, 8, 9}\n",
    "meu_set_2 = {1, 4, 5, 6, 8, 11, 12}\n"
   ]
  },
  {
   "cell_type": "code",
   "execution_count": 29,
   "id": "c9969ebd",
   "metadata": {},
   "outputs": [
    {
     "name": "stdout",
     "output_type": "stream",
     "text": [
      "{1, 2, 3, 4, 5, 6, 8, 9, 11, 12}\n",
      "{1, 2, 3, 4, 5, 6, 8, 9, 11, 12}\n"
     ]
    }
   ],
   "source": [
    "#União\n",
    "\n",
    "uniao = meu_set | meu_set_2\n",
    "\n",
    "print(uniao)\n",
    "print(meu_set.union(meu_set_2))\n"
   ]
  },
  {
   "cell_type": "code",
   "execution_count": 30,
   "id": "db9c7b5d",
   "metadata": {},
   "outputs": [
    {
     "name": "stdout",
     "output_type": "stream",
     "text": [
      "{8, 1, 5}\n",
      "{8, 1, 5}\n"
     ]
    }
   ],
   "source": [
    "#Interseção - Tem que estar nos dois ao mesmo tempo\n",
    "\n",
    "print(meu_set & meu_set_2)\n",
    "print(meu_set.intersection(meu_set_2))"
   ]
  },
  {
   "cell_type": "code",
   "execution_count": 31,
   "id": "a21f05ce",
   "metadata": {},
   "outputs": [
    {
     "name": "stdout",
     "output_type": "stream",
     "text": [
      "{9, 2, 3}\n",
      "{9, 2, 3}\n"
     ]
    }
   ],
   "source": [
    "#Diferença - só pode estar presente no set 1\n",
    "\n",
    "print(meu_set - meu_set_2)\n",
    "print(meu_set.difference(meu_set_2))"
   ]
  },
  {
   "cell_type": "markdown",
   "id": "d6769546",
   "metadata": {},
   "source": [
    "# Desafios\n",
    "\n",
    "* Exercício 13: Crie um programa que receba o nome do usuário, dê boas vindas e colete as informações de 2 carteiras de investimentos com 3 nomes de empresas cada. Devolva pro usuário a interceção entre as carteiras de investimento, a difereça e a união entre elas.\n"
   ]
  },
  {
   "cell_type": "code",
   "execution_count": 32,
   "id": "3b5964da",
   "metadata": {
    "scrolled": true
   },
   "outputs": [
    {
     "name": "stdout",
     "output_type": "stream",
     "text": [
      "Digite seu nome: Brenno\n",
      "Olá Brenno, como você está?\n",
      "Estamos coletando informações de duas carteiras de investimento diferentes. \n",
      " Poderia nos ajudar fornecendo o nome de 3 empresas?\n",
      "Digite o nome de uma empresa: Vale\n",
      "Digite o nome de uma empresa: Petrobras\n",
      "Digite o nome de uma empresa: Weg\n",
      "Obrigado pelas informações! Poderia nos fornecer dados de mais 3 empresas?\n",
      "Digite o nome de uma empresa: Vale\n",
      "Digite o nome de uma empresa: Weg\n",
      "Digite o nome de uma empresa: Lojas Renner\n",
      "Ótimo, agora nós podemos fornecer as informações necessárias.\n",
      "A diferença entre a carteira 1 e 2 são as ações {'Petrobras'}\n",
      "A interseção entre a carteira 1 e 2 são as ações {'Vale', 'Weg'}\n",
      "A união entre a carteira 1 e 2 são as ações {'Petrobras', 'Vale', 'Lojas Renner', 'Weg'}\n"
     ]
    }
   ],
   "source": [
    "nome = str(input('Digite seu nome: '))\n",
    "\n",
    "print(f'Olá {nome}, como você está?')\n",
    "print('Estamos coletando informações de duas carteiras de investimento diferentes. \\n Poderia nos ajudar fornecendo o nome de 3 empresas?')\n",
    "\n",
    "empresa1_carteira_1 = str(input('Digite o nome de uma empresa: '))\n",
    "empresa2_carteira_1 = str(input('Digite o nome de uma empresa: '))\n",
    "empresa3_carteira_1 = str(input('Digite o nome de uma empresa: '))\n",
    "\n",
    "set_carteira_1 = {empresa1_carteira_1, empresa2_carteira_1, empresa3_carteira_1}\n",
    "\n",
    "print('Obrigado pelas informações! Poderia nos fornecer dados de mais 3 empresas?')\n",
    "\n",
    "\n",
    "empresa1_carteira_2 = str(input('Digite o nome de uma empresa: '))\n",
    "empresa2_carteira_2 = str(input('Digite o nome de uma empresa: '))\n",
    "empresa3_carteira_2 = str(input('Digite o nome de uma empresa: '))\n",
    "\n",
    "set_carteira_2 = {empresa1_carteira_2, empresa2_carteira_2, empresa3_carteira_2}\n",
    "\n",
    "print(\"Ótimo, agora nós podemos fornecer as informações necessárias.\")\n",
    "\n",
    "diferenca = set_carteira_1 - set_carteira_2\n",
    "\n",
    "intersecao = set_carteira_1 & set_carteira_2\n",
    "\n",
    "uniao = set_carteira_1 | set_carteira_2\n",
    "\n",
    "\n",
    "print(f\"A diferença entre a carteira 1 e 2 são as ações {diferenca}\")\n",
    "\n",
    "print(f\"A interseção entre a carteira 1 e 2 são as ações {intersecao}\")\n",
    "\n",
    "print(f\"A união entre a carteira 1 e 2 são as ações {uniao}\")"
   ]
  }
 ],
 "metadata": {
  "kernelspec": {
   "display_name": "Python 3 (ipykernel)",
   "language": "python",
   "name": "python3"
  },
  "language_info": {
   "codemirror_mode": {
    "name": "ipython",
    "version": 3
   },
   "file_extension": ".py",
   "mimetype": "text/x-python",
   "name": "python",
   "nbconvert_exporter": "python",
   "pygments_lexer": "ipython3",
   "version": "3.9.12"
  }
 },
 "nbformat": 4,
 "nbformat_minor": 5
}
