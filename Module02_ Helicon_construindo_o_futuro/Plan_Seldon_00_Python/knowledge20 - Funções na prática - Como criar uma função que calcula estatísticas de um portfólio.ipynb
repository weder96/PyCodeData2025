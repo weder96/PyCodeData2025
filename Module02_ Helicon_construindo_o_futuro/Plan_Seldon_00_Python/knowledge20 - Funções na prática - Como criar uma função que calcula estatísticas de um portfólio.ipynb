{
 "cells": [
  {
   "cell_type": "markdown",
   "id": "6b6071ff",
   "metadata": {},
   "source": [
    "# Knowledge 20"
   ]
  },
  {
   "cell_type": "code",
   "execution_count": 12,
   "id": "40e722f8",
   "metadata": {},
   "outputs": [
    {
     "name": "stdout",
     "output_type": "stream",
     "text": [
      "Digite um número inteiro: 4\n",
      "6\n",
      "10\n"
     ]
    }
   ],
   "source": [
    "#escrevendo nossa primeira função\n",
    "\n",
    "numero_digitado = int(input('Digite um número inteiro: '))\n",
    "\n",
    "def soma_numeros(numero, soma = 2):\n",
    "    \n",
    "    numero_somado = numero + soma\n",
    "    \n",
    "    return numero_somado\n",
    "\n",
    "\n",
    "novo_numero = soma_numeros(numero = numero_digitado)\n",
    "\n",
    "novo_numero_opcional = soma_numeros(numero = numero_digitado, soma = 6)\n",
    "\n",
    "print(novo_numero)\n",
    "print(novo_numero_opcional)"
   ]
  },
  {
   "cell_type": "code",
   "execution_count": 13,
   "id": "f8e08d08",
   "metadata": {},
   "outputs": [
    {
     "name": "stdout",
     "output_type": "stream",
     "text": [
      "Digite a cotação inicial: 20\n",
      "Digite a cotação final: 30\n",
      "50.00%\n"
     ]
    }
   ],
   "source": [
    "def calcula_rentabilidade(valor_inicial, valor_final):\n",
    "\n",
    "    rentabilidade = valor_final/valor_inicial - 1\n",
    "\n",
    "    rentabilidade_em_porcentagem = \"{:.2%}\".format(rentabilidade)\n",
    "\n",
    "    return rentabilidade_em_porcentagem\n",
    "\n",
    "\n",
    "valor_inicial = float(input('Digite a cotação inicial: '))\n",
    "valor_final = float(input('Digite a cotação final: '))\n",
    "\n",
    "rentabilidade = calcula_rentabilidade(valor_inicial=valor_inicial, valor_final=valor_final)\n",
    "\n",
    "print(rentabilidade)"
   ]
  },
  {
   "cell_type": "code",
   "execution_count": null,
   "id": "6e9e5a23",
   "metadata": {},
   "outputs": [],
   "source": [
    "#funções lambda\n",
    "\n",
    "'''o principal motivo para usar lambdas é usar funções como parâmetros de outras funções\n",
    "ao invés da gente criar uma função inteira so pra usar de parâmetro.'''\n"
   ]
  },
  {
   "cell_type": "code",
   "execution_count": 15,
   "id": "0f12714d",
   "metadata": {},
   "outputs": [
    {
     "name": "stdout",
     "output_type": "stream",
     "text": [
      "2.0\n",
      "2.0\n"
     ]
    }
   ],
   "source": [
    "def calcular_desconto(preco):\n",
    "\n",
    "    return preco*0.2 #isso aqui é muito simples, pode ser escrito numa lambda. \n",
    "\n",
    "calcular_desconto2 = lambda x: x * 0.2\n",
    "\n",
    "desconto = calcular_desconto(10)\n",
    "desconto2 = calcular_desconto2(10)\n",
    "\n",
    "print(desconto)\n",
    "print(desconto)"
   ]
  },
  {
   "cell_type": "code",
   "execution_count": 17,
   "id": "c9969ebd",
   "metadata": {},
   "outputs": [
    {
     "name": "stdout",
     "output_type": "stream",
     "text": [
      "[2.0, 4.0, 6.0, 8.0]\n",
      "[2.0, 4.0, 6.0, 8.0]\n"
     ]
    }
   ],
   "source": [
    "#aplicação prática\n",
    "\n",
    "precos = [10, 20, 30, 40]\n",
    "\n",
    "#como a gente pode aplicar a função de desconto a todos os elementos da lista? \n",
    "#o comando map aplica uma função a todos os itens da lista\n",
    "\n",
    "descontos = list(map(calcular_desconto, precos))\n",
    "\n",
    "descontos2 = list(map(lambda x: x * 0.2, precos)) #só com a lambda nós conseguimos fazer isso e poupar código.\n",
    "\n",
    "print(descontos)\n",
    "print(descontos2)\n",
    "\n",
    "# a gente vai ter uma aula só disso!"
   ]
  },
  {
   "cell_type": "markdown",
   "id": "d6769546",
   "metadata": {},
   "source": [
    "# Desafios\n",
    "\n",
    "* Exercício 22: Crie uma função que recebe graus celsius digitado pelo usuário e converte para Fº.\n",
    "\n",
    "\n",
    "* Exercício 23: Crie uma função recebe uma lista de cotações e retorna o retorno diário dessa lista de cotações. \n",
    "\n"
   ]
  },
  {
   "cell_type": "code",
   "execution_count": 19,
   "id": "3b5964da",
   "metadata": {},
   "outputs": [
    {
     "name": "stdout",
     "output_type": "stream",
     "text": [
      "Digite os graus celsius: 30\n",
      "A temperatura em fahrenheit é de 86.0ºF \n"
     ]
    }
   ],
   "source": [
    "graus_celsius = float(input(\"Digite os graus celsius: \"))\n",
    "\n",
    "def convertendo_temperatura(graus):\n",
    "\n",
    "    fahrenheit = (graus * (9/5)) + 32\n",
    "\n",
    "    return fahrenheit\n",
    "\n",
    "temperatura_fahrenheit = convertendo_temperatura(graus = graus_celsius)\n",
    "\n",
    "print(f\"A temperatura em fahrenheit é de {temperatura_fahrenheit}ºF \")"
   ]
  },
  {
   "cell_type": "code",
   "execution_count": 18,
   "id": "442af11c",
   "metadata": {},
   "outputs": [
    {
     "name": "stdout",
     "output_type": "stream",
     "text": [
      "Digite a cotação: 20\n",
      "Deseja continuar? [S/N]n\n",
      "Não é possível calcular retornos com apenas uma cotação. Por favor, digite mais uma.\n",
      "Digite a cotação: 21\n",
      "Deseja continuar? [S/N]afkjsk\n",
      "Por favor, digite um comando válido: [S/N]N\n",
      "{'Retorno dia 1': '5.00%'}\n"
     ]
    }
   ],
   "source": [
    "lista_cotacoes = []\n",
    "\n",
    "continuar = True\n",
    "\n",
    "while continuar:\n",
    "\n",
    "    cotacao = float(input('Digite a cotação: '))\n",
    "\n",
    "    lista_cotacoes.append(cotacao)\n",
    "\n",
    "    deseja_continuar = str(input(\"Deseja continuar? [S/N]\")).lower()\n",
    "\n",
    "    if deseja_continuar != \"n\" and deseja_continuar != \"s\":\n",
    "\n",
    "        invalido = True\n",
    "\n",
    "        while invalido:\n",
    "\n",
    "            deseja_continuar = str(input(\"Por favor, digite um comando válido: [S/N]\")).lower()\n",
    "\n",
    "            if deseja_continuar == \"n\" or deseja_continuar == \"s\":\n",
    "\n",
    "                break\n",
    "\n",
    "    if deseja_continuar == \"n\" and len(lista_cotacoes) > 1:\n",
    "\n",
    "        break\n",
    "\n",
    "    elif deseja_continuar == \"n\" and len(lista_cotacoes) == 1:\n",
    "\n",
    "        print(\"Não é possível calcular retornos com apenas uma cotação. Por favor, digite mais uma.\")\n",
    "\n",
    "dicionario_retornos = {}\n",
    "\n",
    "def calcula_retornos(lista_cotacoes):\n",
    "\n",
    "    for i in range(1, len(lista_cotacoes)):\n",
    "\n",
    "        retorno = lista_cotacoes[i]/lista_cotacoes[i - 1] - 1 \n",
    "\n",
    "        retorno_percentual = \"{:.2%}\".format(retorno)\n",
    "\n",
    "        dicionario_retornos[f\"Retorno dia {i}\"] = retorno_percentual \n",
    "\n",
    "\n",
    "calcula_retornos(lista_cotacoes=lista_cotacoes)\n",
    "\n",
    "print(dicionario_retornos)"
   ]
  },
  {
   "cell_type": "markdown",
   "id": "aecd6815",
   "metadata": {},
   "source": [
    "# Mundo 21\n",
    "\n",
    "Na próxima aula nos vamos falar sobre tratamento de erros dentro do Python! Como nós podemos mandar o programa TENTAR executar algo e, caso dê erro, faça outra coisa? Te vejo no mundo 21! "
   ]
  },
  {
   "cell_type": "code",
   "execution_count": null,
   "id": "771719d4",
   "metadata": {},
   "outputs": [],
   "source": []
  },
  {
   "cell_type": "code",
   "execution_count": null,
   "id": "fbd1f78f",
   "metadata": {},
   "outputs": [],
   "source": []
  },
  {
   "cell_type": "code",
   "execution_count": null,
   "id": "bc39ae13",
   "metadata": {},
   "outputs": [],
   "source": []
  },
  {
   "cell_type": "code",
   "execution_count": null,
   "id": "b61c5162",
   "metadata": {},
   "outputs": [],
   "source": []
  },
  {
   "cell_type": "code",
   "execution_count": null,
   "id": "79351760",
   "metadata": {},
   "outputs": [],
   "source": []
  },
  {
   "cell_type": "code",
   "execution_count": null,
   "id": "e2dea382",
   "metadata": {},
   "outputs": [],
   "source": []
  },
  {
   "cell_type": "code",
   "execution_count": null,
   "id": "c7179705",
   "metadata": {},
   "outputs": [],
   "source": []
  },
  {
   "cell_type": "code",
   "execution_count": null,
   "id": "d37f50a6",
   "metadata": {},
   "outputs": [],
   "source": []
  },
  {
   "cell_type": "code",
   "execution_count": null,
   "id": "ffbcde0c",
   "metadata": {},
   "outputs": [],
   "source": []
  },
  {
   "cell_type": "code",
   "execution_count": null,
   "id": "dd16de42",
   "metadata": {},
   "outputs": [],
   "source": []
  },
  {
   "cell_type": "code",
   "execution_count": null,
   "id": "12e12c89",
   "metadata": {},
   "outputs": [],
   "source": []
  },
  {
   "cell_type": "code",
   "execution_count": null,
   "id": "709f9796",
   "metadata": {},
   "outputs": [],
   "source": []
  }
 ],
 "metadata": {
  "kernelspec": {
   "display_name": "Python 3 (ipykernel)",
   "language": "python",
   "name": "python3"
  },
  "language_info": {
   "codemirror_mode": {
    "name": "ipython",
    "version": 3
   },
   "file_extension": ".py",
   "mimetype": "text/x-python",
   "name": "python",
   "nbconvert_exporter": "python",
   "pygments_lexer": "ipython3",
   "version": "3.9.12"
  }
 },
 "nbformat": 4,
 "nbformat_minor": 5
}
