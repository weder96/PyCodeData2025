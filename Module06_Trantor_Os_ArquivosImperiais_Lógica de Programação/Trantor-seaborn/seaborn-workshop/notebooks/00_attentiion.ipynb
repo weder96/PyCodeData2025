{
 "cells": [
  {
   "cell_type": "markdown",
   "id": "4ae46ca8",
   "metadata": {},
   "source": [
    "[https://seaborn.pydata.org/examples/index.html](https://seaborn.pydata.org/examples/index.html)"
   ]
  },
  {
   "cell_type": "code",
   "execution_count": 2,
   "id": "ce646287",
   "metadata": {},
   "outputs": [],
   "source": [
    "import pandas as pd\n",
    "\n",
    "df = pd.read_csv(\"../../data/raw/attention.csv\")\n",
    "df = pd.melt(df, [\"subidr\", \"attnr\"], var_name=\"solutions\", value_name=\"score\")\n",
    "df.solutions = df.solutions.str[-1].astype(int)\n",
    "df.columns = [\"subject\", \"attention\", \"solutions\", \"score\"]\n",
    "df.to_csv(\"attention.csv\")"
   ]
  }
 ],
 "metadata": {
  "kernelspec": {
   "display_name": "Python 3",
   "language": "python",
   "name": "python3"
  },
  "language_info": {
   "codemirror_mode": {
    "name": "ipython",
    "version": 3
   },
   "file_extension": ".py",
   "mimetype": "text/x-python",
   "name": "python",
   "nbconvert_exporter": "python",
   "pygments_lexer": "ipython3",
   "version": "3.10.12"
  }
 },
 "nbformat": 4,
 "nbformat_minor": 5
}
