{
  "cells": [
    {
      "cell_type": "markdown",
      "id": "79703e3b",
      "metadata": {
        "id": "79703e3b"
      },
      "source": [
        "# Anacreon 3"
      ]
    },
    {
      "cell_type": "code",
      "execution_count": 1,
      "id": "e263de2f",
      "metadata": {
        "id": "e263de2f"
      },
      "outputs": [],
      "source": [
        "import numpy as np"
      ]
    },
    {
      "cell_type": "code",
      "execution_count": 3,
      "id": "5bc26450",
      "metadata": {
        "id": "5bc26450",
        "outputId": "c2cbaba6-e5e2-4d6d-e0ae-afc95cbdd6d1",
        "scrolled": true
      },
      "outputs": [
        {
          "name": "stdout",
          "output_type": "stream",
          "text": [
            "[0 1 2 3 4 5 6 7 8 9]\n",
            "80\n",
            "8\n"
          ]
        }
      ],
      "source": [
        "array = np.arange(10)\n",
        "\n",
        "# a importancia de ser homogêneo\n",
        "\n",
        "print(array)\n",
        "print(array.nbytes)\n",
        "print(array.itemsize)"
      ]
    },
    {
      "cell_type": "code",
      "execution_count": 4,
      "id": "2d247c27",
      "metadata": {
        "id": "2d247c27",
        "outputId": "adb5377f-4b95-47ef-f6cf-910737562df6"
      },
      "outputs": [
        {
          "name": "stdout",
          "output_type": "stream",
          "text": [
            "2\n",
            "(2, 3)\n"
          ]
        }
      ],
      "source": [
        "array2d = np.array([[1, 2, 3], [4, 5, 6]])\n",
        "\n",
        "#numero de dimensões\n",
        "\n",
        "print(array2d.ndim)\n",
        "\n",
        "print(array2d.shape)"
      ]
    },
    {
      "cell_type": "code",
      "execution_count": 5,
      "id": "11e3ce2a",
      "metadata": {
        "id": "11e3ce2a",
        "outputId": "3f82570d-610f-46d2-a0f7-d986e670b792"
      },
      "outputs": [
        {
          "name": "stdout",
          "output_type": "stream",
          "text": [
            "3\n",
            "6\n",
            "2\n"
          ]
        }
      ],
      "source": [
        "#tamanho do vetor\n",
        "\n",
        "print(len([1, 2 ,3]))\n",
        "\n",
        "print(array2d.size)\n",
        "\n",
        "print(len(array2d))\n",
        "\n",
        "#o importante dessa aula é você entender a lógica dos atributos. \n",
        "# Sempre que você precisar de uma característica de um objeto, busque nos seus atributos"
      ]
    }
  ],
  "metadata": {
    "colab": {
      "name": "Mundo 3.ipynb",
      "provenance": []
    },
    "kernelspec": {
      "display_name": "Python 3",
      "language": "python",
      "name": "python3"
    },
    "language_info": {
      "codemirror_mode": {
        "name": "ipython",
        "version": 3
      },
      "file_extension": ".py",
      "mimetype": "text/x-python",
      "name": "python",
      "nbconvert_exporter": "python",
      "pygments_lexer": "ipython3",
      "version": "3.10.12"
    }
  },
  "nbformat": 4,
  "nbformat_minor": 5
}
