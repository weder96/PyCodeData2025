{
 "cells": [
  {
   "cell_type": "markdown",
   "id": "35a4708e",
   "metadata": {},
   "source": [
    "# Knowledge 7\n",
    "\n",
    "Agora que você já conhece os operadores, chegou a hora de praticar."
   ]
  },
  {
   "cell_type": "code",
   "execution_count": 1,
   "id": "7c61d442",
   "metadata": {},
   "outputs": [
    {
     "name": "stdout",
     "output_type": "stream",
     "text": [
      "Digite um número inteiro qualquer: 2\n",
      "Digite um número inteiro qualquer: 4\n",
      "\n",
      " A soma dos dois números é 6\n",
      " \n",
      "A multiplicação é 8\n",
      " \n",
      "A divisão é 0.5\n",
      " \n",
      "O primeiro número elevado ao segundo chega ao resultado de 16\n",
      " \n",
      "A raiz quadrada do 1º número é 1.4142135623730951 e do segundo número é 2.0\n",
      " \n",
      "A divisão inteira é 0 e o resto é 2\n"
     ]
    }
   ],
   "source": [
    "numero = int(input('Digite um número inteiro qualquer: '))\n",
    "numero2  = int(input('Digite um número inteiro qualquer: '))\n",
    "\n",
    "soma = numero + numero2\n",
    "multiplicar = numero * numero2\n",
    "dividir = numero / numero2\n",
    "elevar = numero ** numero2\n",
    "raiz = numero ** (1/2)\n",
    "raiz2 = numero2 ** (1/2)\n",
    "dividir_inteiro = numero // numero2\n",
    "resto = numero % numero2\n",
    "\n",
    "print(\"\")\n",
    "print(f''' A soma dos dois números é {soma}\\n \n",
    "A multiplicação é {multiplicar}\\n \n",
    "A divisão é {dividir}\\n \n",
    "O primeiro número elevado ao segundo chega ao resultado de {elevar}\\n \n",
    "A raiz quadrada do 1º número é {raiz} e do segundo número é {raiz2}\\n \n",
    "A divisão inteira é {dividir_inteiro} e o resto é {resto}''')"
   ]
  },
  {
   "cell_type": "code",
   "execution_count": 3,
   "id": "b4db7d7c",
   "metadata": {},
   "outputs": [
    {
     "name": "stdout",
     "output_type": "stream",
     "text": [
      "Python e legal Python e legal Python e legal Python e legal Python e legal Python e legal Python e legal Python e legal Python e legal Python e legal Python e legal Python e legal Python e legal Python e legal Python e legal Python e legal Python e legal Python e legal Python e legal Python e legal \n"
     ]
    }
   ],
   "source": [
    "#multiplicar strings\n",
    "\n",
    "string = 'Python e legal '\n",
    "\n",
    "string_multiplicada = string * 20\n",
    "\n",
    "print(string_multiplicada)"
   ]
  },
  {
   "cell_type": "markdown",
   "id": "6aea1b92",
   "metadata": {},
   "source": [
    "# Desafios\n",
    "\n",
    "* Exercício 7: Crie um algoritmo que receba uma cotação (float), um ticker e mostre na tela o valor da empresa caso a empresa suba 100% ou caia 50%.\n",
    "* Execício 8: Crie um programa que receba um input de número e retorne as seguintes características do número para o usuário:\n",
    "    - O dobro\n",
    "    - A raiz quadrada\n",
    "    - Elevado ao quadrado\n",
    "    - Dividido por dois\n",
    "    - Seu antecessor e seu sucessor"
   ]
  },
  {
   "cell_type": "code",
   "execution_count": 4,
   "id": "20cd54b4",
   "metadata": {},
   "outputs": [
    {
     "name": "stdout",
     "output_type": "stream",
     "text": [
      "Digite o ticker da empresa: wege3\n",
      "Digite a cotação da empresa: 20.56\n",
      "Caso a empresa suba 100%, a cotação será de 41.12. \n",
      "Caso a empresa caia 50%, a cotação será de 10.28.\n"
     ]
    }
   ],
   "source": [
    "empresa = input(\"Digite o ticker da empresa: \")\n",
    "cotacao = float(input(\"Digite a cotação da empresa: \"))\n",
    "\n",
    "valor_dobrado_da_empresa = cotacao * 2\n",
    "caiu_50 = cotacao/2\n",
    "\n",
    "print(f\"Caso a empresa suba 100%, a cotação será de {valor_dobrado_da_empresa}. \")\n",
    "print(f\"Caso a empresa caia 50%, a cotação será de {caiu_50}.\")"
   ]
  },
  {
   "cell_type": "code",
   "execution_count": 5,
   "id": "0dd54897",
   "metadata": {},
   "outputs": [
    {
     "name": "stdout",
     "output_type": "stream",
     "text": [
      "Digite um número: 2\n",
      "\n",
      " O dobro é 4.0\n",
      " \n",
      "A raiz quadrada é 1.4142135623730951\n",
      " \n",
      "O quadrado é 4.0\n",
      " \n",
      "O sucessor é 3.0\n",
      " \n",
      "O antecessor é 1.0\n",
      " \n",
      "A divisão por 2 é 1.0\n"
     ]
    }
   ],
   "source": [
    "numero = float(input(\"Digite um número: \"))\n",
    "\n",
    "dobro = numero * 2\n",
    "raiz_quadrada = numero ** (1/2)\n",
    "elevado_ao_quadrado = numero ** 2\n",
    "dividido_por_2 = numero / 2\n",
    "antecessor = numero - 1\n",
    "sucessor = numero + 1\n",
    "\n",
    "\n",
    "print(\"\")\n",
    "print(f''' O dobro é {dobro}\\n \n",
    "A raiz quadrada é {raiz_quadrada}\\n \n",
    "O quadrado é {elevado_ao_quadrado}\\n \n",
    "O sucessor é {sucessor}\\n \n",
    "O antecessor é {antecessor}\\n \n",
    "A divisão por 2 é {dividido_por_2}''')"
   ]
  }
 ],
 "metadata": {
  "kernelspec": {
   "display_name": "Python 3 (ipykernel)",
   "language": "python",
   "name": "python3"
  },
  "language_info": {
   "codemirror_mode": {
    "name": "ipython",
    "version": 3
   },
   "file_extension": ".py",
   "mimetype": "text/x-python",
   "name": "python",
   "nbconvert_exporter": "python",
   "pygments_lexer": "ipython3",
   "version": "3.9.12"
  }
 },
 "nbformat": 4,
 "nbformat_minor": 5
}
