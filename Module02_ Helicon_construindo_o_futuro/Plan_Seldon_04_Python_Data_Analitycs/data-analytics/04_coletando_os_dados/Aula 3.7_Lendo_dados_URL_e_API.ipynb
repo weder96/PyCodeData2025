{
 "cells": [
  {
   "cell_type": "markdown",
   "id": "67e48a86",
   "metadata": {
    "id": "67e48a86"
   },
   "source": [
    "# Lendo dados de URL e APIs com Python\n"
   ]
  },
  {
   "cell_type": "markdown",
   "id": "d70b42c8",
   "metadata": {
    "id": "d70b42c8"
   },
   "source": [
    "## Parte 1 – Lendo um CSV de uma URL\n",
    "Você pode usar `pd.read_csv()` diretamente com o link para o arquivo."
   ]
  },
  {
   "cell_type": "code",
   "execution_count": 6,
   "id": "bd65fe27",
   "metadata": {
    "colab": {
     "base_uri": "https://localhost:8080/",
     "height": 206
    },
    "executionInfo": {
     "elapsed": 1386,
     "status": "ok",
     "timestamp": 1744073649726,
     "user": {
      "displayName": "Isla Marques",
      "userId": "10478357607822723653"
     },
     "user_tz": 180
    },
    "id": "bd65fe27",
    "outputId": "ca66b7db-0fee-4113-95ba-703280b21886"
   },
   "outputs": [
    {
     "data": {
      "text/html": [
       "<div>\n",
       "<style scoped>\n",
       "    .dataframe tbody tr th:only-of-type {\n",
       "        vertical-align: middle;\n",
       "    }\n",
       "\n",
       "    .dataframe tbody tr th {\n",
       "        vertical-align: top;\n",
       "    }\n",
       "\n",
       "    .dataframe thead th {\n",
       "        text-align: right;\n",
       "    }\n",
       "</style>\n",
       "<table border=\"1\" class=\"dataframe\">\n",
       "  <thead>\n",
       "    <tr style=\"text-align: right;\">\n",
       "      <th></th>\n",
       "      <th>Month</th>\n",
       "      <th>\"1958\"</th>\n",
       "      <th>\"1959\"</th>\n",
       "      <th>\"1960\"</th>\n",
       "    </tr>\n",
       "  </thead>\n",
       "  <tbody>\n",
       "    <tr>\n",
       "      <th>0</th>\n",
       "      <td>JAN</td>\n",
       "      <td>340</td>\n",
       "      <td>360</td>\n",
       "      <td>417</td>\n",
       "    </tr>\n",
       "    <tr>\n",
       "      <th>1</th>\n",
       "      <td>FEB</td>\n",
       "      <td>318</td>\n",
       "      <td>342</td>\n",
       "      <td>391</td>\n",
       "    </tr>\n",
       "    <tr>\n",
       "      <th>2</th>\n",
       "      <td>MAR</td>\n",
       "      <td>362</td>\n",
       "      <td>406</td>\n",
       "      <td>419</td>\n",
       "    </tr>\n",
       "    <tr>\n",
       "      <th>3</th>\n",
       "      <td>APR</td>\n",
       "      <td>348</td>\n",
       "      <td>396</td>\n",
       "      <td>461</td>\n",
       "    </tr>\n",
       "    <tr>\n",
       "      <th>4</th>\n",
       "      <td>MAY</td>\n",
       "      <td>363</td>\n",
       "      <td>420</td>\n",
       "      <td>472</td>\n",
       "    </tr>\n",
       "  </tbody>\n",
       "</table>\n",
       "</div>"
      ],
      "text/plain": [
       "  Month   \"1958\"   \"1959\"   \"1960\"\n",
       "0   JAN      340      360      417\n",
       "1   FEB      318      342      391\n",
       "2   MAR      362      406      419\n",
       "3   APR      348      396      461\n",
       "4   MAY      363      420      472"
      ]
     },
     "execution_count": 6,
     "metadata": {},
     "output_type": "execute_result"
    }
   ],
   "source": [
    "import pandas as pd\n",
    "\n",
    "# Exemplo: base pública do IBGE (ajustável conforme disponibilidade)\n",
    "csv_url = \"https://people.sc.fsu.edu/~jburkardt/data/csv/airtravel.csv\"\n",
    "df_url = pd.read_csv(csv_url)\n",
    "df_url.head()"
   ]
  },
  {
   "cell_type": "markdown",
   "id": "df071c33",
   "metadata": {
    "id": "df071c33"
   },
   "source": [
    "## Parte 2 – Lendo dados de uma API com `requests`\n",
    "Uma API geralmente retorna dados no formato JSON, que podemos converter em DataFrame."
   ]
  },
  {
   "cell_type": "code",
   "execution_count": 7,
   "id": "975a32ea",
   "metadata": {
    "colab": {
     "base_uri": "https://localhost:8080/"
    },
    "executionInfo": {
     "elapsed": 189,
     "status": "ok",
     "timestamp": 1744073981900,
     "user": {
      "displayName": "Isla Marques",
      "userId": "10478357607822723653"
     },
     "user_tz": 180
    },
    "id": "975a32ea",
    "outputId": "e303efa7-6e17-44c0-904f-d4aedeb95333"
   },
   "outputs": [
    {
     "data": {
      "text/plain": [
       "{'fact': 'Unlike humans, cats are usually lefties. Studies indicate that their left paw is typically their dominant paw.',\n",
       " 'length': 110}"
      ]
     },
     "execution_count": 7,
     "metadata": {},
     "output_type": "execute_result"
    }
   ],
   "source": [
    "import requests\n",
    "\n",
    "# Exemplo: API pública de fatos sobre gatos (https://catfact.ninja)\n",
    "url = \"https://catfact.ninja/fact\"\n",
    "resposta = requests.get(url)\n",
    "dados = resposta.json()\n",
    "dados"
   ]
  },
  {
   "cell_type": "markdown",
   "id": "d4233399",
   "metadata": {
    "id": "d4233399"
   },
   "source": [
    "### Transformando resposta JSON em DataFrame"
   ]
  },
  {
   "cell_type": "code",
   "execution_count": 3,
   "id": "82f8667f",
   "metadata": {
    "colab": {
     "base_uri": "https://localhost:8080/",
     "height": 89
    },
    "executionInfo": {
     "elapsed": 54,
     "status": "ok",
     "timestamp": 1744073985153,
     "user": {
      "displayName": "Isla Marques",
      "userId": "10478357607822723653"
     },
     "user_tz": 180
    },
    "id": "82f8667f",
    "outputId": "b04c70a1-f536-4847-e503-b4dd83cb007b"
   },
   "outputs": [
    {
     "data": {
      "text/html": [
       "<div>\n",
       "<style scoped>\n",
       "    .dataframe tbody tr th:only-of-type {\n",
       "        vertical-align: middle;\n",
       "    }\n",
       "\n",
       "    .dataframe tbody tr th {\n",
       "        vertical-align: top;\n",
       "    }\n",
       "\n",
       "    .dataframe thead th {\n",
       "        text-align: right;\n",
       "    }\n",
       "</style>\n",
       "<table border=\"1\" class=\"dataframe\">\n",
       "  <thead>\n",
       "    <tr style=\"text-align: right;\">\n",
       "      <th></th>\n",
       "      <th>fact</th>\n",
       "      <th>length</th>\n",
       "    </tr>\n",
       "  </thead>\n",
       "  <tbody>\n",
       "    <tr>\n",
       "      <th>0</th>\n",
       "      <td>It has been scientifically proven that owning ...</td>\n",
       "      <td>149</td>\n",
       "    </tr>\n",
       "  </tbody>\n",
       "</table>\n",
       "</div>"
      ],
      "text/plain": [
       "                                                fact  length\n",
       "0  It has been scientifically proven that owning ...     149"
      ]
     },
     "execution_count": 3,
     "metadata": {},
     "output_type": "execute_result"
    }
   ],
   "source": [
    "df_api = pd.DataFrame([dados])\n",
    "df_api"
   ]
  },
  {
   "cell_type": "markdown",
   "id": "55f6f99a",
   "metadata": {
    "id": "55f6f99a"
   },
   "source": [
    "## Extras úteis:\n",
    "- Nem toda API retorna uma tabela pronta\n",
    "- Às vezes você precisa navegar dentro da estrutura do JSON (listas, dicionários)\n",
    "- Use `.json()` para explorar a estrutura primeiro"
   ]
  },
  {
   "cell_type": "code",
   "execution_count": 9,
   "id": "b709dbdf",
   "metadata": {
    "colab": {
     "base_uri": "https://localhost:8080/"
    },
    "executionInfo": {
     "elapsed": 221,
     "status": "ok",
     "timestamp": 1744074059422,
     "user": {
      "displayName": "Isla Marques",
      "userId": "10478357607822723653"
     },
     "user_tz": 180
    },
    "id": "b709dbdf",
    "outputId": "9e0fbad0-60c7-49fc-fe5d-f15ff09de1e0"
   },
   "outputs": [
    {
     "data": {
      "text/plain": [
       "dict_keys(['current_page', 'data', 'first_page_url', 'from', 'last_page', 'last_page_url', 'links', 'next_page_url', 'path', 'per_page', 'prev_page_url', 'to', 'total'])"
      ]
     },
     "execution_count": 9,
     "metadata": {},
     "output_type": "execute_result"
    }
   ],
   "source": [
    "# Outro exemplo: lista de fatos (mais de um registro)\n",
    "url = \"https://catfact.ninja/facts\"\n",
    "resposta = requests.get(url)\n",
    "dados = resposta.json()\n",
    "dados.keys()"
   ]
  },
  {
   "cell_type": "code",
   "execution_count": 10,
   "id": "39b93575",
   "metadata": {
    "colab": {
     "base_uri": "https://localhost:8080/",
     "height": 206
    },
    "executionInfo": {
     "elapsed": 289,
     "status": "ok",
     "timestamp": 1744074069790,
     "user": {
      "displayName": "Isla Marques",
      "userId": "10478357607822723653"
     },
     "user_tz": 180
    },
    "id": "39b93575",
    "outputId": "047a3725-20a0-4842-b40c-b671549d318e"
   },
   "outputs": [
    {
     "data": {
      "text/html": [
       "<div>\n",
       "<style scoped>\n",
       "    .dataframe tbody tr th:only-of-type {\n",
       "        vertical-align: middle;\n",
       "    }\n",
       "\n",
       "    .dataframe tbody tr th {\n",
       "        vertical-align: top;\n",
       "    }\n",
       "\n",
       "    .dataframe thead th {\n",
       "        text-align: right;\n",
       "    }\n",
       "</style>\n",
       "<table border=\"1\" class=\"dataframe\">\n",
       "  <thead>\n",
       "    <tr style=\"text-align: right;\">\n",
       "      <th></th>\n",
       "      <th>fact</th>\n",
       "      <th>length</th>\n",
       "    </tr>\n",
       "  </thead>\n",
       "  <tbody>\n",
       "    <tr>\n",
       "      <th>0</th>\n",
       "      <td>Unlike dogs, cats do not have a sweet tooth. S...</td>\n",
       "      <td>114</td>\n",
       "    </tr>\n",
       "    <tr>\n",
       "      <th>1</th>\n",
       "      <td>When a cat chases its prey, it keeps its head ...</td>\n",
       "      <td>97</td>\n",
       "    </tr>\n",
       "    <tr>\n",
       "      <th>2</th>\n",
       "      <td>The technical term for a cat’s hairball is a “...</td>\n",
       "      <td>54</td>\n",
       "    </tr>\n",
       "    <tr>\n",
       "      <th>3</th>\n",
       "      <td>A group of cats is called a “clowder.”</td>\n",
       "      <td>38</td>\n",
       "    </tr>\n",
       "    <tr>\n",
       "      <th>4</th>\n",
       "      <td>A cat can’t climb head first down a tree becau...</td>\n",
       "      <td>142</td>\n",
       "    </tr>\n",
       "  </tbody>\n",
       "</table>\n",
       "</div>"
      ],
      "text/plain": [
       "                                                fact  length\n",
       "0  Unlike dogs, cats do not have a sweet tooth. S...     114\n",
       "1  When a cat chases its prey, it keeps its head ...      97\n",
       "2  The technical term for a cat’s hairball is a “...      54\n",
       "3             A group of cats is called a “clowder.”      38\n",
       "4  A cat can’t climb head first down a tree becau...     142"
      ]
     },
     "execution_count": 10,
     "metadata": {},
     "output_type": "execute_result"
    }
   ],
   "source": [
    "# Acessando os fatos\n",
    "fatos = dados['data']\n",
    "\n",
    "# Convertendo em DataFrame\n",
    "df_fatos = pd.DataFrame(fatos)\n",
    "df_fatos.head()"
   ]
  },
  {
   "cell_type": "markdown",
   "id": "352f9cce",
   "metadata": {
    "id": "352f9cce"
   },
   "source": [
    "## Conclusão\n",
    "- Você aprendeu a ler dados diretamente da internet (URLs e APIs)\n",
    "- Agora consegue buscar dados em tempo real sem depender de arquivos locais\n",
    "- Isso é muito útil para automações, dashboards e análises vivas."
   ]
  }
 ],
 "metadata": {
  "colab": {
   "provenance": []
  },
  "kernelspec": {
   "display_name": "Python 3",
   "name": "python3"
  },
  "language_info": {
   "codemirror_mode": {
    "name": "ipython",
    "version": 3
   },
   "file_extension": ".py",
   "mimetype": "text/x-python",
   "name": "python",
   "nbconvert_exporter": "python",
   "pygments_lexer": "ipython3",
   "version": "3.10.12"
  }
 },
 "nbformat": 4,
 "nbformat_minor": 5
}
