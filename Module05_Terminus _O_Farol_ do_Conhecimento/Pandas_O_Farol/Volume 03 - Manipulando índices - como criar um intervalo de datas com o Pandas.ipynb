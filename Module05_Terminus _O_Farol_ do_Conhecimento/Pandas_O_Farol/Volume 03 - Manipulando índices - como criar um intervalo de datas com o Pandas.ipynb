{
 "cells": [
  {
   "cell_type": "markdown",
   "id": "265af71b",
   "metadata": {},
   "source": [
    "# Volume 03\n",
    "### Introdução ao Pandas"
   ]
  },
  {
   "cell_type": "code",
   "execution_count": 1,
   "id": "1de54781",
   "metadata": {},
   "outputs": [],
   "source": [
    "import pandas as pd"
   ]
  },
  {
   "cell_type": "code",
   "execution_count": 2,
   "id": "48f4fe96",
   "metadata": {},
   "outputs": [
    {
     "name": "stdout",
     "output_type": "stream",
     "text": [
      "Index(['America_do_sul', 'Europa', 'Oceania'], dtype='object')\n"
     ]
    },
    {
     "data": {
      "text/plain": [
       "'Europa'"
      ]
     },
     "execution_count": 2,
     "metadata": {},
     "output_type": "execute_result"
    }
   ],
   "source": [
    "#como criar um indice\n",
    "\n",
    "serie = pd.Series([\"Brasil\", \"França\", \"Austrália\"], \n",
    "                  index = [\"America_do_sul\", \"Europa\", \"Oceania\"])\n",
    "\n",
    "print(serie.index) #-> acessar a partir do atributo\n",
    "serie.index[1]"
   ]
  },
  {
   "cell_type": "code",
   "execution_count": null,
   "id": "3c413a31",
   "metadata": {},
   "outputs": [
    {
     "name": "stdout",
     "output_type": "stream",
     "text": [
      "--- DataFrame Original de Bancos ---\n",
      "   ticker            banco  lucro_bi_2023\n",
      "0   ITUB4    Itaú Unibanco           35.6\n",
      "1   BBDC4         Bradesco           14.5\n",
      "2   BBAS3  Banco do Brasil           35.5\n",
      "3  SANB11        Santander            9.4\n",
      "\n",
      "Índice original: RangeIndex(start=0, stop=4, step=1)\n"
     ]
    }
   ],
   "source": [
    "import pandas as pd\n",
    "# Criando um DataFrame com dados de bancos\n",
    "dados_bancos = {\n",
    "    'ticker': ['ITUB4', 'BBDC4', 'BBAS3', 'SANB11'],\n",
    "    'banco': ['Itaú Unibanco', 'Bradesco', 'Banco do Brasil', 'Santander'],\n",
    "    'lucro_bi_2023': [35.6, 14.5, 35.5, 9.4] \n",
    "    # Lucro em Bilhões de Reais (valores aproximados para ilustração)\n",
    "}\n",
    "df_bancos = pd.DataFrame(dados_bancos)\n",
    "print(\"--- DataFrame Original de Bancos ---\")\n",
    "print(df_bancos)\n",
    "print(\"\\nÍndice original:\", df_bancos.index)\n"
   ]
  },
  {
   "cell_type": "code",
   "execution_count": 12,
   "id": "09bfa36c",
   "metadata": {},
   "outputs": [
    {
     "name": "stdout",
     "output_type": "stream",
     "text": [
      "\n",
      "--- Novo DataFrame (comportamento padrão) ---\n",
      "                  banco  lucro_bi_2023\n",
      "ticker                                \n",
      "ITUB4     Itaú Unibanco           35.6\n",
      "BBDC4          Bradesco           14.5\n",
      "BBAS3   Banco do Brasil           35.5\n",
      "SANB11        Santander            9.4\n",
      "\n",
      "Índice novo: Index(['ITUB4', 'BBDC4', 'BBAS3', 'SANB11'], dtype='object', name='ticker')\n"
     ]
    }
   ],
   "source": [
    "# --- Exemplo 1: Comportamento Padrão (inplace=False, drop=True) ---\n",
    "# A coluna 'ticker' vira o índice e é removida das colunas.\n",
    "# O df_bancos original não é modificado.\n",
    "df_bancos_novo_indice = df_bancos.set_index('ticker')\n",
    "\n",
    "print(\"\\n--- Novo DataFrame (comportamento padrão) ---\")\n",
    "print(df_bancos_novo_indice)\n",
    "print(\"\\nÍndice novo:\", df_bancos_novo_indice.index)"
   ]
  },
  {
   "cell_type": "code",
   "execution_count": 17,
   "id": "db636260",
   "metadata": {},
   "outputs": [
    {
     "name": "stdout",
     "output_type": "stream",
     "text": [
      "\n",
      "--- DataFrame Original Modificado (inplace=True, drop=False) ---\n",
      "        ticker            banco  lucro_bi_2023\n",
      "ticker                                        \n",
      "ITUB4    ITUB4    Itaú Unibanco           35.6\n",
      "BBDC4    BBDC4         Bradesco           14.5\n",
      "BBAS3    BBAS3  Banco do Brasil           35.5\n",
      "SANB11  SANB11        Santander            9.4\n",
      "\n",
      "Índice do DF original agora: Index(['ITUB4', 'BBDC4', 'BBAS3', 'SANB11'], dtype='object', name='ticker')\n"
     ]
    }
   ],
   "source": [
    "# --- Exemplo 2: Modificando o DataFrame Original (inplace=True, drop=False) ---\n",
    "# A coluna 'ticker' vira o índice, MAS TAMBÉM é mantida como coluna.\n",
    "# A alteração é feita diretamente no 'df_bancos'.\n",
    "df_bancos.set_index('ticker', inplace=True, drop=False)\n",
    "\n",
    "print(\"\\n--- DataFrame Original Modificado (inplace=True, drop=False) ---\")\n",
    "print(df_bancos)\n",
    "print(\"\\nÍndice do DF original agora:\", df_bancos.index)"
   ]
  },
  {
   "cell_type": "code",
   "execution_count": 20,
   "id": "40a6ab1f",
   "metadata": {},
   "outputs": [
    {
     "name": "stdout",
     "output_type": "stream",
     "text": [
      "   index  ticker            banco  lucro_bi_2023\n",
      "0      0   ITUB4    Itaú Unibanco           35.6\n",
      "1      1   BBDC4         Bradesco           14.5\n",
      "2      2   BBAS3  Banco do Brasil           35.5\n",
      "3      3  SANB11        Santander            9.4\n"
     ]
    },
    {
     "data": {
      "text/html": [
       "<div>\n",
       "<style scoped>\n",
       "    .dataframe tbody tr th:only-of-type {\n",
       "        vertical-align: middle;\n",
       "    }\n",
       "\n",
       "    .dataframe tbody tr th {\n",
       "        vertical-align: top;\n",
       "    }\n",
       "\n",
       "    .dataframe thead th {\n",
       "        text-align: right;\n",
       "    }\n",
       "</style>\n",
       "<table border=\"1\" class=\"dataframe\">\n",
       "  <thead>\n",
       "    <tr style=\"text-align: right;\">\n",
       "      <th></th>\n",
       "      <th>index</th>\n",
       "      <th>ticker</th>\n",
       "      <th>banco</th>\n",
       "      <th>lucro_bi_2023</th>\n",
       "    </tr>\n",
       "  </thead>\n",
       "  <tbody>\n",
       "    <tr>\n",
       "      <th>I</th>\n",
       "      <td>0</td>\n",
       "      <td>ITUB4</td>\n",
       "      <td>Itaú Unibanco</td>\n",
       "      <td>35.6</td>\n",
       "    </tr>\n",
       "    <tr>\n",
       "      <th>B</th>\n",
       "      <td>1</td>\n",
       "      <td>BBDC4</td>\n",
       "      <td>Bradesco</td>\n",
       "      <td>14.5</td>\n",
       "    </tr>\n",
       "    <tr>\n",
       "      <th>BB</th>\n",
       "      <td>2</td>\n",
       "      <td>BBAS3</td>\n",
       "      <td>Banco do Brasil</td>\n",
       "      <td>35.5</td>\n",
       "    </tr>\n",
       "    <tr>\n",
       "      <th>S</th>\n",
       "      <td>3</td>\n",
       "      <td>SANB11</td>\n",
       "      <td>Santander</td>\n",
       "      <td>9.4</td>\n",
       "    </tr>\n",
       "  </tbody>\n",
       "</table>\n",
       "</div>"
      ],
      "text/plain": [
       "    index  ticker            banco  lucro_bi_2023\n",
       "I       0   ITUB4    Itaú Unibanco           35.6\n",
       "B       1   BBDC4         Bradesco           14.5\n",
       "BB      2   BBAS3  Banco do Brasil           35.5\n",
       "S       3  SANB11        Santander            9.4"
      ]
     },
     "execution_count": 20,
     "metadata": {},
     "output_type": "execute_result"
    }
   ],
   "source": [
    "#como criar um novo index, do zero ou de forma aleatória\n",
    "df_bancos = pd.DataFrame(dados_bancos)\n",
    "df_new_bancos = df_bancos.reset_index()\n",
    "\n",
    "print(df_new_bancos)\n",
    "\n",
    "df_new_bancos.index = ['I', 'B', 'BB','S']\n",
    "\n",
    "df_new_bancos"
   ]
  },
  {
   "cell_type": "code",
   "execution_count": 21,
   "id": "114431f7",
   "metadata": {},
   "outputs": [
    {
     "name": "stdout",
     "output_type": "stream",
     "text": [
      "--- DataFrame Original com Índice 'ticker' ---\n",
      "                  banco  lucro_bi_2023\n",
      "ticker                                \n",
      "ITUB4     Itaú Unibanco           35.6\n",
      "BBDC4          Bradesco           14.5\n",
      "BBAS3   Banco do Brasil           35.5\n",
      "\n",
      "--- DataFrame após reset_index() padrão ---\n",
      "  ticker            banco  lucro_bi_2023\n",
      "0  ITUB4    Itaú Unibanco           35.6\n",
      "1  BBDC4         Bradesco           14.5\n",
      "2  BBAS3  Banco do Brasil           35.5\n",
      "\n",
      "--- DataFrame após reset_index(drop=True) ---\n",
      "             banco  lucro_bi_2023\n",
      "0    Itaú Unibanco           35.6\n",
      "1         Bradesco           14.5\n",
      "2  Banco do Brasil           35.5\n"
     ]
    }
   ],
   "source": [
    "import pandas as pd\n",
    "\n",
    "# 1. Criando nosso DataFrame e definindo 'ticker' como índice\n",
    "dados_bancos = {\n",
    "    'ticker': ['ITUB4', 'BBDC4', 'BBAS3'],\n",
    "    'banco': ['Itaú Unibanco', 'Bradesco', 'Banco do Brasil'],\n",
    "    'lucro_bi_2023': [35.6, 14.5, 35.5]\n",
    "}\n",
    "df_bancos = pd.DataFrame(dados_bancos).set_index('ticker')\n",
    "\n",
    "print(\"--- DataFrame Original com Índice 'ticker' ---\")\n",
    "print(df_bancos)\n",
    "\n",
    "# --- Exemplo 1: Comportamento Padrão (drop=False) ---\n",
    "# O índice 'ticker' vira uma coluna e um novo índice numérico é criado.\n",
    "df_resetado = df_bancos.reset_index()\n",
    "\n",
    "print(\"\\n--- DataFrame após reset_index() padrão ---\")\n",
    "print(df_resetado)\n",
    "\n",
    "\n",
    "# --- Exemplo 2: Descartando o Índice com drop=True ---\n",
    "# O índice 'ticker' é completamente removido.\n",
    "df_com_drop = df_bancos.reset_index(drop=True)\n",
    "\n",
    "print(\"\\n--- DataFrame após reset_index(drop=True) ---\")\n",
    "print(df_com_drop)"
   ]
  },
  {
   "cell_type": "code",
   "execution_count": 5,
   "id": "b4255bd6",
   "metadata": {
    "scrolled": true
   },
   "outputs": [
    {
     "name": "stdout",
     "output_type": "stream",
     "text": [
      "DatetimeIndex(['2000-01-04', '2000-01-05', '2000-01-06', '2000-01-07'], dtype='datetime64[ns]', freq='D')\n"
     ]
    },
    {
     "name": "stderr",
     "output_type": "stream",
     "text": [
      "/tmp/ipykernel_325870/245816401.py:7: FutureWarning: 'M' is deprecated and will be removed in a future version, please use 'ME' instead.\n",
      "  fim_mes = pd.date_range(start = \"1/1/2000\", end = \"31/12/2000\", freq = \"M\")\n"
     ]
    },
    {
     "data": {
      "text/plain": [
       "DatetimeIndex(['2000-01-31', '2000-02-29', '2000-03-31', '2000-04-30',\n",
       "               '2000-05-31', '2000-06-30', '2000-07-31', '2000-08-31',\n",
       "               '2000-09-30', '2000-10-31', '2000-11-30', '2000-12-31'],\n",
       "              dtype='datetime64[ns]', freq='ME')"
      ]
     },
     "execution_count": 5,
     "metadata": {},
     "output_type": "execute_result"
    }
   ],
   "source": [
    "#como criar um range de data como um indice\n",
    "\n",
    "quatro_dias = pd.date_range(\"1/4/2000\", periods = 4)\n",
    "\n",
    "print(quatro_dias)\n",
    "\n",
    "fim_mes = pd.date_range(start = \"1/1/2000\", end = \"31/12/2000\", freq = \"M\")\n",
    "\n",
    "fim_mes"
   ]
  },
  {
   "cell_type": "code",
   "execution_count": 6,
   "id": "9b899530",
   "metadata": {},
   "outputs": [
    {
     "name": "stdout",
     "output_type": "stream",
     "text": [
      "DatetimeIndex(['2000-01-31', '2000-02-29', '2000-03-31', '2000-04-30'], dtype='datetime64[ns]', freq='ME')\n",
      "            cotacao\n",
      "2000-01-31    20.54\n",
      "2000-02-29    20.00\n",
      "2000-03-31    21.00\n",
      "2000-04-30    22.00\n"
     ]
    },
    {
     "name": "stderr",
     "output_type": "stream",
     "text": [
      "/tmp/ipykernel_325870/2713522762.py:1: FutureWarning: 'M' is deprecated and will be removed in a future version, please use 'ME' instead.\n",
      "  fim_mes_weg = pd.date_range(start = \"1/1/2000\", end = \"30/4/2000\", freq = \"M\")\n"
     ]
    }
   ],
   "source": [
    "fim_mes_weg = pd.date_range(start = \"1/1/2000\", end = \"30/4/2000\", freq = \"M\")\n",
    "\n",
    "print(fim_mes_weg)\n",
    "\n",
    "dicionario = {\"cotacao\": [20.54, 20, 21, 22]}\n",
    "              \n",
    "cotacao_weg = pd.DataFrame(dicionario, index = fim_mes_weg)\n",
    "\n",
    "print(cotacao_weg)"
   ]
  },
  {
   "cell_type": "code",
   "execution_count": 7,
   "id": "58bddbde",
   "metadata": {},
   "outputs": [
    {
     "data": {
      "text/html": [
       "<div>\n",
       "<style scoped>\n",
       "    .dataframe tbody tr th:only-of-type {\n",
       "        vertical-align: middle;\n",
       "    }\n",
       "\n",
       "    .dataframe tbody tr th {\n",
       "        vertical-align: top;\n",
       "    }\n",
       "\n",
       "    .dataframe thead th {\n",
       "        text-align: right;\n",
       "    }\n",
       "</style>\n",
       "<table border=\"1\" class=\"dataframe\">\n",
       "  <thead>\n",
       "    <tr style=\"text-align: right;\">\n",
       "      <th></th>\n",
       "      <th>cotacao</th>\n",
       "    </tr>\n",
       "  </thead>\n",
       "  <tbody>\n",
       "    <tr>\n",
       "      <th>2000-02-29</th>\n",
       "      <td>20.0</td>\n",
       "    </tr>\n",
       "    <tr>\n",
       "      <th>2000-03-31</th>\n",
       "      <td>21.0</td>\n",
       "    </tr>\n",
       "    <tr>\n",
       "      <th>2000-04-30</th>\n",
       "      <td>22.0</td>\n",
       "    </tr>\n",
       "  </tbody>\n",
       "</table>\n",
       "</div>"
      ],
      "text/plain": [
       "            cotacao\n",
       "2000-02-29     20.0\n",
       "2000-03-31     21.0\n",
       "2000-04-30     22.0"
      ]
     },
     "execution_count": 7,
     "metadata": {},
     "output_type": "execute_result"
    }
   ],
   "source": [
    "cotacao_weg[cotacao_weg.index > \"2000-02-25\"]"
   ]
  },
  {
   "cell_type": "code",
   "execution_count": 26,
   "id": "80f2e8e3",
   "metadata": {},
   "outputs": [
    {
     "name": "stdout",
     "output_type": "stream",
     "text": [
      "--- Exemplo 1: Início e Fim ---\n",
      "DatetimeIndex(['2025-01-01', '2025-01-02', '2025-01-03', '2025-01-04',\n",
      "               '2025-01-05', '2025-01-06', '2025-01-07'],\n",
      "              dtype='datetime64[ns]', freq='D')\n",
      "\n",
      "--- Exemplo 2: Início e Períodos ---\n",
      "DatetimeIndex(['2025-09-01', '2025-09-02', '2025-09-03', '2025-09-04',\n",
      "               '2025-09-05'],\n",
      "              dtype='datetime64[ns]', freq='D')\n",
      "\n",
      "--- Exemplo 3: Frequência de Dias Úteis ('B') ---\n",
      "DatetimeIndex(['2025-09-26', '2025-09-29', '2025-09-30', '2025-10-01',\n",
      "               '2025-10-02'],\n",
      "              dtype='datetime64[ns]', freq='B')\n",
      "\n",
      "--- Exemplo 4: Frequência Mensal ('MS') ---\n",
      "DatetimeIndex(['2025-01-01', '2025-02-01', '2025-03-01', '2025-04-01'], dtype='datetime64[ns]', freq='MS')\n",
      "\n",
      "--- Exemplo 5: Frequência de Horas e Fuso Horário ---\n",
      "DatetimeIndex(['2025-09-23 00:00:00-03:00', '2025-09-23 08:00:00-03:00',\n",
      "               '2025-09-23 16:00:00-03:00', '2025-09-24 00:00:00-03:00',\n",
      "               '2025-09-24 08:00:00-03:00'],\n",
      "              dtype='datetime64[ns, America/Sao_Paulo]', freq='8h')\n",
      "\n",
      "--- DataFrame com DatetimeIndex ---\n",
      "            Variacao\n",
      "2025-01-01 -0.101525\n",
      "2025-01-02 -0.338621\n",
      "2025-01-03 -0.505662\n",
      "2025-01-04  0.648598\n",
      "2025-01-05 -0.294643\n",
      "2025-01-06 -1.337514\n",
      "2025-01-07 -0.927342\n"
     ]
    },
    {
     "name": "stderr",
     "output_type": "stream",
     "text": [
      "/tmp/ipykernel_325870/2031063870.py:27: FutureWarning: 'H' is deprecated and will be removed in a future version, please use 'h' instead.\n",
      "  idx5 = pd.date_range(start='2025-09-23 00:00', periods=5, freq='8H', tz='America/Sao_Paulo')\n"
     ]
    }
   ],
   "source": [
    "import pandas as pd\n",
    "import numpy as np\n",
    "\n",
    "# Exemplo 1: Definindo início e fim (frequência diária padrão)\n",
    "idx1 = pd.date_range(start='2025-01-01', end='2025-01-07')\n",
    "print(\"--- Exemplo 1: Início e Fim ---\")\n",
    "print(idx1)\n",
    "\n",
    "# Exemplo 2: Definindo início e número de períodos\n",
    "idx2 = pd.date_range(start='2025-09-01', periods=5)\n",
    "print(\"\\n--- Exemplo 2: Início e Períodos ---\")\n",
    "print(idx2)\n",
    "\n",
    "# Exemplo 3: Usando frequência de dias úteis ('B')\n",
    "# Note como ele pula o fim de semana (27 e 28 de Setembro de 2025)\n",
    "idx3 = pd.date_range(start='2025-09-26', periods=5, freq='B')\n",
    "print(\"\\n--- Exemplo 3: Frequência de Dias Úteis ('B') ---\")\n",
    "print(idx3)\n",
    "\n",
    "# Exemplo 4: Usando frequência de início de mês ('MS')\n",
    "idx4 = pd.date_range(start='2025-01-01', periods=4, freq='MS')\n",
    "print(\"\\n--- Exemplo 4: Frequência Mensal ('MS') ---\")\n",
    "print(idx4)\n",
    "\n",
    "# Exemplo 5: Frequência de 8 em 8 horas com fuso horário\n",
    "# Usando a data e hora atuais como referência\n",
    "idx5 = pd.date_range(start='2025-09-23 00:00', periods=5, freq='8H', tz='America/Sao_Paulo')\n",
    "print(\"\\n--- Exemplo 5: Frequência de Horas e Fuso Horário ---\")\n",
    "print(idx5)\n",
    "\n",
    "# Exemplo 6: Criando um DataFrame com um DatetimeIndex\n",
    "cotacoes = np.random.randn(len(idx1))\n",
    "df_cotacoes = pd.DataFrame(cotacoes, index=idx1, columns=['Variacao'])\n",
    "print(\"\\n--- DataFrame com DatetimeIndex ---\")\n",
    "print(df_cotacoes)"
   ]
  },
  {
   "cell_type": "code",
   "execution_count": 23,
   "id": "b89f7041",
   "metadata": {},
   "outputs": [
    {
     "name": "stdout",
     "output_type": "stream",
     "text": [
      "DataFrame de Bancos antes das modificações:\n",
      "                        cotacao segmento\n",
      "ticker nome                             \n",
      "ITUB4  Itau                32.5  Privado\n",
      "BBDC4  Bradesco            14.8  Privado\n",
      "BBAS3  Banco do Brasil     55.1  Estatal\n",
      "\n",
      "DataFrame de Bancos após as modificações:\n",
      "  codigo            banco  cotacao segmento\n",
      "0  ITUB4             Itau     32.5  Privado\n",
      "1  BBDC4         Bradesco     14.8  Privado\n",
      "2  BBAS3  Banco do Brasil     55.1  Estatal\n"
     ]
    }
   ],
   "source": [
    "import pandas as pd\n",
    "dicionario_bancos = {\n",
    "    \"ticker\": [\"ITUB4\", \"BBDC4\", \"BBAS3\"], \n",
    "    \"nome\": [\"Itau\", \"Bradesco\", \"Banco do Brasil\"],\n",
    "    \"cotacao\": [32.50, 14.80, 55.10], \n",
    "    \"segmento\": [\"Privado\", \"Privado\", \"Estatal\"]\n",
    "}\n",
    "\n",
    "dataframe_bancos = pd.DataFrame(dicionario_bancos)\n",
    "dataframe_bancos = dataframe_bancos.set_index([\"ticker\", \"nome\"])\n",
    "print(f'DataFrame de Bancos antes das modificações:\\n{dataframe_bancos}')\n",
    "\n",
    "dataframe_bancos = dataframe_bancos.reset_index(\n",
    "    level=[\"ticker\", \"nome\"], \n",
    "    names=['codigo', 'banco'], \n",
    "    allow_duplicates=True\n",
    ")\n",
    "print(f'\\nDataFrame de Bancos após as modificações:\\n{dataframe_bancos}')"
   ]
  },
  {
   "cell_type": "markdown",
   "id": "4f239777",
   "metadata": {},
   "source": [
    "# Exercícios\n",
    "\n",
    "* Exercício 37: Crie um dataframe que as colunas tenham informações fictícias de cotações, volumes e a data de cada dado. Utilize pd.date_range para criar a coluna de datas.\n",
    "* Exercício 38: Converta a coluna \"datas\" para índice. \n",
    "* Exercício 39: Converta a coluna \"tickers\" do dataframe do exercício 36 como índice. \n",
    "       "
   ]
  },
  {
   "cell_type": "code",
   "execution_count": null,
   "id": "f191e1c7",
   "metadata": {},
   "outputs": [],
   "source": []
  },
  {
   "cell_type": "code",
   "execution_count": null,
   "id": "7c3d9ac9",
   "metadata": {},
   "outputs": [],
   "source": []
  },
  {
   "cell_type": "code",
   "execution_count": null,
   "id": "3e10324b",
   "metadata": {},
   "outputs": [],
   "source": []
  },
  {
   "cell_type": "code",
   "execution_count": 8,
   "id": "a71d0999",
   "metadata": {},
   "outputs": [
    {
     "data": {
      "text/html": [
       "<div>\n",
       "<style scoped>\n",
       "    .dataframe tbody tr th:only-of-type {\n",
       "        vertical-align: middle;\n",
       "    }\n",
       "\n",
       "    .dataframe tbody tr th {\n",
       "        vertical-align: top;\n",
       "    }\n",
       "\n",
       "    .dataframe thead th {\n",
       "        text-align: right;\n",
       "    }\n",
       "</style>\n",
       "<table border=\"1\" class=\"dataframe\">\n",
       "  <thead>\n",
       "    <tr style=\"text-align: right;\">\n",
       "      <th></th>\n",
       "      <th>cotacao</th>\n",
       "      <th>volume</th>\n",
       "      <th>data</th>\n",
       "    </tr>\n",
       "  </thead>\n",
       "  <tbody>\n",
       "    <tr>\n",
       "      <th>0</th>\n",
       "      <td>20</td>\n",
       "      <td>100</td>\n",
       "      <td>2000-01-04</td>\n",
       "    </tr>\n",
       "    <tr>\n",
       "      <th>1</th>\n",
       "      <td>21</td>\n",
       "      <td>200</td>\n",
       "      <td>2000-01-05</td>\n",
       "    </tr>\n",
       "    <tr>\n",
       "      <th>2</th>\n",
       "      <td>22</td>\n",
       "      <td>5000</td>\n",
       "      <td>2000-01-06</td>\n",
       "    </tr>\n",
       "  </tbody>\n",
       "</table>\n",
       "</div>"
      ],
      "text/plain": [
       "   cotacao  volume       data\n",
       "0       20     100 2000-01-04\n",
       "1       21     200 2000-01-05\n",
       "2       22    5000 2000-01-06"
      ]
     },
     "execution_count": 8,
     "metadata": {},
     "output_type": "execute_result"
    }
   ],
   "source": [
    "#Gabarito 37\n",
    "\n",
    "dicionario = {\"cotacao\": [20, 21, 22], \n",
    "              \"volume\":[100, 200, 5000], \n",
    "              \"data\": pd.date_range(\"1/4/2000\", periods = 3)}\n",
    "\n",
    "df_dados = pd.DataFrame(dicionario)\n",
    "df_dados"
   ]
  },
  {
   "cell_type": "code",
   "execution_count": 9,
   "id": "c3232879",
   "metadata": {},
   "outputs": [
    {
     "data": {
      "text/html": [
       "<div>\n",
       "<style scoped>\n",
       "    .dataframe tbody tr th:only-of-type {\n",
       "        vertical-align: middle;\n",
       "    }\n",
       "\n",
       "    .dataframe tbody tr th {\n",
       "        vertical-align: top;\n",
       "    }\n",
       "\n",
       "    .dataframe thead th {\n",
       "        text-align: right;\n",
       "    }\n",
       "</style>\n",
       "<table border=\"1\" class=\"dataframe\">\n",
       "  <thead>\n",
       "    <tr style=\"text-align: right;\">\n",
       "      <th></th>\n",
       "      <th>cotacao</th>\n",
       "      <th>volume</th>\n",
       "    </tr>\n",
       "    <tr>\n",
       "      <th>data</th>\n",
       "      <th></th>\n",
       "      <th></th>\n",
       "    </tr>\n",
       "  </thead>\n",
       "  <tbody>\n",
       "    <tr>\n",
       "      <th>2000-01-04</th>\n",
       "      <td>20</td>\n",
       "      <td>100</td>\n",
       "    </tr>\n",
       "    <tr>\n",
       "      <th>2000-01-05</th>\n",
       "      <td>21</td>\n",
       "      <td>200</td>\n",
       "    </tr>\n",
       "    <tr>\n",
       "      <th>2000-01-06</th>\n",
       "      <td>22</td>\n",
       "      <td>5000</td>\n",
       "    </tr>\n",
       "  </tbody>\n",
       "</table>\n",
       "</div>"
      ],
      "text/plain": [
       "            cotacao  volume\n",
       "data                       \n",
       "2000-01-04       20     100\n",
       "2000-01-05       21     200\n",
       "2000-01-06       22    5000"
      ]
     },
     "execution_count": 9,
     "metadata": {},
     "output_type": "execute_result"
    }
   ],
   "source": [
    "#gabarito 38\n",
    "\n",
    "df_dados = df_dados.set_index(\"data\")\n",
    "df_dados"
   ]
  },
  {
   "cell_type": "code",
   "execution_count": 10,
   "id": "4f3a5232",
   "metadata": {},
   "outputs": [
    {
     "data": {
      "text/html": [
       "<div>\n",
       "<style scoped>\n",
       "    .dataframe tbody tr th:only-of-type {\n",
       "        vertical-align: middle;\n",
       "    }\n",
       "\n",
       "    .dataframe tbody tr th {\n",
       "        vertical-align: top;\n",
       "    }\n",
       "\n",
       "    .dataframe thead th {\n",
       "        text-align: right;\n",
       "    }\n",
       "</style>\n",
       "<table border=\"1\" class=\"dataframe\">\n",
       "  <thead>\n",
       "    <tr style=\"text-align: right;\">\n",
       "      <th></th>\n",
       "      <th>nomes</th>\n",
       "      <th>cotacoes</th>\n",
       "      <th>preco_sobre_lucro</th>\n",
       "      <th>volume</th>\n",
       "    </tr>\n",
       "    <tr>\n",
       "      <th>tickers</th>\n",
       "      <th></th>\n",
       "      <th></th>\n",
       "      <th></th>\n",
       "      <th></th>\n",
       "    </tr>\n",
       "  </thead>\n",
       "  <tbody>\n",
       "    <tr>\n",
       "      <th>WEGE3</th>\n",
       "      <td>Weg</td>\n",
       "      <td>20</td>\n",
       "      <td>25</td>\n",
       "      <td>5000</td>\n",
       "    </tr>\n",
       "    <tr>\n",
       "      <th>PETR3</th>\n",
       "      <td>Petrobras</td>\n",
       "      <td>30</td>\n",
       "      <td>6</td>\n",
       "      <td>1000</td>\n",
       "    </tr>\n",
       "    <tr>\n",
       "      <th>VALE3</th>\n",
       "      <td>Vale</td>\n",
       "      <td>40</td>\n",
       "      <td>12</td>\n",
       "      <td>4000</td>\n",
       "    </tr>\n",
       "    <tr>\n",
       "      <th>PETR4</th>\n",
       "      <td>Petrobras</td>\n",
       "      <td>12</td>\n",
       "      <td>7</td>\n",
       "      <td>7000</td>\n",
       "    </tr>\n",
       "    <tr>\n",
       "      <th>LREN3</th>\n",
       "      <td>Lojas Renner</td>\n",
       "      <td>35</td>\n",
       "      <td>25</td>\n",
       "      <td>1200</td>\n",
       "    </tr>\n",
       "  </tbody>\n",
       "</table>\n",
       "</div>"
      ],
      "text/plain": [
       "                nomes  cotacoes  preco_sobre_lucro  volume\n",
       "tickers                                                   \n",
       "WEGE3             Weg        20                 25    5000\n",
       "PETR3       Petrobras        30                  6    1000\n",
       "VALE3            Vale        40                 12    4000\n",
       "PETR4       Petrobras        12                  7    7000\n",
       "LREN3    Lojas Renner        35                 25    1200"
      ]
     },
     "execution_count": 10,
     "metadata": {},
     "output_type": "execute_result"
    }
   ],
   "source": [
    "#gabarito 39\n",
    "\n",
    "dicionario = {\n",
    "       \"nomes\": [\"Weg\", \"Petrobras\", \"Vale\", \"Petrobras\", \"Lojas Renner\"],\n",
    "       \"tickers\": [\"WEGE3\", \"PETR3\", \"VALE3\", \"PETR4\", \"LREN3\"],  \n",
    "       \"cotacoes\": [20, 30, 40, 12, 35],\n",
    "       \"preco_sobre_lucro\": [25, 6, 12, 7, 25],  \n",
    "       \"volume\": [5000, 1000, 4000, 7000, 1200]\n",
    "}\n",
    "\n",
    "df_info_empresas = pd.DataFrame(dicionario)\n",
    "\n",
    "df_info_empresas = df_info_empresas.set_index(\"tickers\")\n",
    "\n",
    "df_info_empresas\n"
   ]
  },
  {
   "cell_type": "markdown",
   "id": "52f6b661",
   "metadata": {},
   "source": [
    "# Mundo 4\n",
    "\n",
    "Agora que você aprendeu a criar e editar índices, chegou a hora de ver a outra dimensão do dataframe: Colunas! "
   ]
  }
 ],
 "metadata": {
  "kernelspec": {
   "display_name": "Python 3",
   "language": "python",
   "name": "python3"
  },
  "language_info": {
   "codemirror_mode": {
    "name": "ipython",
    "version": 3
   },
   "file_extension": ".py",
   "mimetype": "text/x-python",
   "name": "python",
   "nbconvert_exporter": "python",
   "pygments_lexer": "ipython3",
   "version": "3.10.12"
  }
 },
 "nbformat": 4,
 "nbformat_minor": 5
}
