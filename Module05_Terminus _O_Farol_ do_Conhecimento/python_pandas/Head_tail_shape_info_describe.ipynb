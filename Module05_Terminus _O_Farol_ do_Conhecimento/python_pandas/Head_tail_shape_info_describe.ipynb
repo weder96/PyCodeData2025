{
  "nbformat": 4,
  "nbformat_minor": 0,
  "metadata": {
    "colab": {
      "provenance": []
    },
    "kernelspec": {
      "name": "python3",
      "display_name": "Python 3"
    },
    "language_info": {
      "name": "python"
    }
  },
  "cells": [
    {
      "cell_type": "code",
      "execution_count": null,
      "metadata": {
        "id": "T11tVVLhSJdq"
      },
      "outputs": [],
      "source": [
        "import pandas as pd\n",
        "# Criando um DataFrame de exemplo\n",
        "df = pd.DataFrame({\n",
        "'Nome': ['Ana', 'Bruno', 'Carla', 'Daniel', 'Eduarda', 'Fernando', 'Gabriela', 'Hugo', 'Isabela', 'Julio'],\n",
        "'Idade': [22, 35, 28, 41, 29, 33, 25, 45, 30, 38],\n",
        "'Cidade': ['São Paulo', 'Rio de Janeiro', 'Belo Horizonte', 'Curitiba', 'Porto Alegre', 'São Paulo', 'Rio de Janeiro', 'Curitiba', 'Belo Horizonte', 'Porto Alegre'],\n",
        "'Salario': [3000, 5500, 4000, 7000, 4200, 6000, 3500, 8000, 4800, 6500]\n",
        "})"
      ]
    },
    {
      "cell_type": "code",
      "source": [
        "#Exibindo o DataFrame\n",
        "print(df)"
      ],
      "metadata": {
        "id": "JlilEKBHSeP3"
      },
      "execution_count": null,
      "outputs": []
    },
    {
      "cell_type": "code",
      "source": [
        "#head(n) : Retorna as primeiras n linhas do DataFrame. Por padrão, n é 5\n",
        "print('--- head() ---')\n",
        "print(df.head(3))"
      ],
      "metadata": {
        "id": "-BDG8ghdSeFc"
      },
      "execution_count": null,
      "outputs": []
    },
    {
      "cell_type": "code",
      "source": [
        "#tail(n) : Retorna as últimas n linhas do DataFrame. Por padrão, n é 5\n",
        "print('\\n--- tail() ---')\n",
        "print(df.tail(2))"
      ],
      "metadata": {
        "id": "Tg74fjvESd-d"
      },
      "execution_count": null,
      "outputs": []
    },
    {
      "cell_type": "code",
      "source": [
        "#shape : Retorna uma tupla representando as dimensões do DataFrame (linhas, colunas).\n",
        "print('\\n--- shape ---')\n",
        "print(df.shape)"
      ],
      "metadata": {
        "id": "Wkj-aEwRSd2m"
      },
      "execution_count": null,
      "outputs": []
    },
    {
      "cell_type": "code",
      "source": [
        "#info() : Fornece um resumo conciso do DataFrame, incluindo o tipo de índice, tipos de dados das colunas, valores não nulos e uso de memória.\n",
        "print('\\n--- info() ---')\n",
        "df.info()"
      ],
      "metadata": {
        "id": "u5wi27FMSdrs"
      },
      "execution_count": null,
      "outputs": []
    },
    {
      "cell_type": "code",
      "source": [
        "#describe() : Gera estatísticas descritivas (contagem, média, desvio padrão, mínimo, quartis, máximo) das colunas numéricas do DataFrame.\n",
        "print('\\n--- describe() ---')\n",
        "print(df.describe())"
      ],
      "metadata": {
        "id": "rcgyCBtlS6MX"
      },
      "execution_count": null,
      "outputs": []
    }
  ]
}