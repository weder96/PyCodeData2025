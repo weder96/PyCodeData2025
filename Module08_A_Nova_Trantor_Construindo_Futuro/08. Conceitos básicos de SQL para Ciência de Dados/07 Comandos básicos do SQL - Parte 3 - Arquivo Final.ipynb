{
 "cells": [
  {
   "cell_type": "markdown",
   "metadata": {},
   "source": [
    "### Comandos básicos do SQL"
   ]
  },
  {
   "cell_type": "code",
   "execution_count": 1,
   "metadata": {},
   "outputs": [],
   "source": [
    "# Importando o pandas\n",
    "import pandas as pd"
   ]
  },
  {
   "cell_type": "code",
   "execution_count": 2,
   "metadata": {},
   "outputs": [],
   "source": [
    "# Criando a conexão\n",
    "import sqlite3\n",
    "con = sqlite3.connect('BaseDados.db')"
   ]
  },
  {
   "cell_type": "code",
   "execution_count": 3,
   "metadata": {},
   "outputs": [],
   "source": [
    "# Criando um cursor\n",
    "cur = con.cursor()"
   ]
  },
  {
   "cell_type": "code",
   "execution_count": 10,
   "metadata": {},
   "outputs": [],
   "source": [
    "# Criando uma função para consultar os dados\n",
    "def executa_sql(comando):\n",
    "    cur.execute(comando)\n",
    "    resultado = cur.fetchall()\n",
    "    resultado = pd.DataFrame(resultado)\n",
    "    if resultado.shape[1] > 0:\n",
    "        resultado.columns = [i[0] for i in cur.description]\n",
    "    print(resultado.shape)\n",
    "    display(resultado.head())\n",
    "    return resultado"
   ]
  },
  {
   "cell_type": "markdown",
   "metadata": {},
   "source": [
    "### Funções de agregação"
   ]
  },
  {
   "cell_type": "code",
   "execution_count": 25,
   "metadata": {},
   "outputs": [
    {
     "name": "stdout",
     "output_type": "stream",
     "text": [
      "(43, 11)\n"
     ]
    },
    {
     "data": {
      "text/html": [
       "<div>\n",
       "<style scoped>\n",
       "    .dataframe tbody tr th:only-of-type {\n",
       "        vertical-align: middle;\n",
       "    }\n",
       "\n",
       "    .dataframe tbody tr th {\n",
       "        vertical-align: top;\n",
       "    }\n",
       "\n",
       "    .dataframe thead th {\n",
       "        text-align: right;\n",
       "    }\n",
       "</style>\n",
       "<table border=\"1\" class=\"dataframe\">\n",
       "  <thead>\n",
       "    <tr style=\"text-align: right;\">\n",
       "      <th></th>\n",
       "      <th>index</th>\n",
       "      <th>id_aluno</th>\n",
       "      <th>nome_aluno</th>\n",
       "      <th>cod_matricula</th>\n",
       "      <th>e-mail</th>\n",
       "      <th>acesso_plataforma</th>\n",
       "      <th>acesso_liberado</th>\n",
       "      <th>dias_ultimo_acesso</th>\n",
       "      <th>nr_prova</th>\n",
       "      <th>prova_feita</th>\n",
       "      <th>nota_prova</th>\n",
       "    </tr>\n",
       "  </thead>\n",
       "  <tbody>\n",
       "    <tr>\n",
       "      <th>0</th>\n",
       "      <td>0</td>\n",
       "      <td>1</td>\n",
       "      <td>Maria Eduarda da Rocha</td>\n",
       "      <td>38273</td>\n",
       "      <td>maria@hashtag.com</td>\n",
       "      <td>0</td>\n",
       "      <td>1</td>\n",
       "      <td>12</td>\n",
       "      <td>1</td>\n",
       "      <td>1</td>\n",
       "      <td>9.0</td>\n",
       "    </tr>\n",
       "    <tr>\n",
       "      <th>1</th>\n",
       "      <td>1</td>\n",
       "      <td>2</td>\n",
       "      <td>Bárbara da Cunha</td>\n",
       "      <td>63546</td>\n",
       "      <td>barbara@hashtag.com</td>\n",
       "      <td>0</td>\n",
       "      <td>1</td>\n",
       "      <td>2</td>\n",
       "      <td>1</td>\n",
       "      <td>1</td>\n",
       "      <td>10.0</td>\n",
       "    </tr>\n",
       "    <tr>\n",
       "      <th>2</th>\n",
       "      <td>2</td>\n",
       "      <td>3</td>\n",
       "      <td>Kevin Melo</td>\n",
       "      <td>80515</td>\n",
       "      <td>kevin@hashtag.com</td>\n",
       "      <td>1</td>\n",
       "      <td>1</td>\n",
       "      <td>3</td>\n",
       "      <td>1</td>\n",
       "      <td>1</td>\n",
       "      <td>7.0</td>\n",
       "    </tr>\n",
       "    <tr>\n",
       "      <th>3</th>\n",
       "      <td>3</td>\n",
       "      <td>4</td>\n",
       "      <td>Pedro Henrique da Costa</td>\n",
       "      <td>68004</td>\n",
       "      <td>pedro@hashtag.com</td>\n",
       "      <td>1</td>\n",
       "      <td>1</td>\n",
       "      <td>1</td>\n",
       "      <td>1</td>\n",
       "      <td>1</td>\n",
       "      <td>4.0</td>\n",
       "    </tr>\n",
       "    <tr>\n",
       "      <th>4</th>\n",
       "      <td>4</td>\n",
       "      <td>5</td>\n",
       "      <td>Mirella Viana</td>\n",
       "      <td>28421</td>\n",
       "      <td>mirella@hashtag.com</td>\n",
       "      <td>1</td>\n",
       "      <td>1</td>\n",
       "      <td>1</td>\n",
       "      <td>1</td>\n",
       "      <td>1</td>\n",
       "      <td>7.0</td>\n",
       "    </tr>\n",
       "  </tbody>\n",
       "</table>\n",
       "</div>"
      ],
      "text/plain": [
       "   index  id_aluno               nome_aluno  cod_matricula  \\\n",
       "0      0         1   Maria Eduarda da Rocha          38273   \n",
       "1      1         2         Bárbara da Cunha          63546   \n",
       "2      2         3               Kevin Melo          80515   \n",
       "3      3         4  Pedro Henrique da Costa          68004   \n",
       "4      4         5            Mirella Viana          28421   \n",
       "\n",
       "                e-mail  acesso_plataforma  acesso_liberado  \\\n",
       "0    maria@hashtag.com                  0                1   \n",
       "1  barbara@hashtag.com                  0                1   \n",
       "2    kevin@hashtag.com                  1                1   \n",
       "3    pedro@hashtag.com                  1                1   \n",
       "4  mirella@hashtag.com                  1                1   \n",
       "\n",
       "   dias_ultimo_acesso  nr_prova  prova_feita  nota_prova  \n",
       "0                  12         1            1         9.0  \n",
       "1                   2         1            1        10.0  \n",
       "2                   3         1            1         7.0  \n",
       "3                   1         1            1         4.0  \n",
       "4                   1         1            1         7.0  "
      ]
     },
     "metadata": {},
     "output_type": "display_data"
    }
   ],
   "source": [
    "# Visualizando a base\n",
    "resultado_sql = executa_sql('SELECT * FROM dados')"
   ]
  },
  {
   "cell_type": "code",
   "execution_count": 26,
   "metadata": {},
   "outputs": [
    {
     "name": "stdout",
     "output_type": "stream",
     "text": [
      "(1, 1)\n"
     ]
    },
    {
     "data": {
      "text/html": [
       "<div>\n",
       "<style scoped>\n",
       "    .dataframe tbody tr th:only-of-type {\n",
       "        vertical-align: middle;\n",
       "    }\n",
       "\n",
       "    .dataframe tbody tr th {\n",
       "        vertical-align: top;\n",
       "    }\n",
       "\n",
       "    .dataframe thead th {\n",
       "        text-align: right;\n",
       "    }\n",
       "</style>\n",
       "<table border=\"1\" class=\"dataframe\">\n",
       "  <thead>\n",
       "    <tr style=\"text-align: right;\">\n",
       "      <th></th>\n",
       "      <th>minimo</th>\n",
       "    </tr>\n",
       "  </thead>\n",
       "  <tbody>\n",
       "    <tr>\n",
       "      <th>0</th>\n",
       "      <td>1</td>\n",
       "    </tr>\n",
       "  </tbody>\n",
       "</table>\n",
       "</div>"
      ],
      "text/plain": [
       "   minimo\n",
       "0       1"
      ]
     },
     "metadata": {},
     "output_type": "display_data"
    }
   ],
   "source": [
    "# Verificando o valor MÍNIMO da coluna dias_ultimo_acesso\n",
    "resultado_sql = executa_sql('SELECT MIN(dias_ultimo_acesso) as minimo FROM dados')"
   ]
  },
  {
   "cell_type": "code",
   "execution_count": 27,
   "metadata": {},
   "outputs": [
    {
     "name": "stdout",
     "output_type": "stream",
     "text": [
      "(1, 1)\n"
     ]
    },
    {
     "data": {
      "text/html": [
       "<div>\n",
       "<style scoped>\n",
       "    .dataframe tbody tr th:only-of-type {\n",
       "        vertical-align: middle;\n",
       "    }\n",
       "\n",
       "    .dataframe tbody tr th {\n",
       "        vertical-align: top;\n",
       "    }\n",
       "\n",
       "    .dataframe thead th {\n",
       "        text-align: right;\n",
       "    }\n",
       "</style>\n",
       "<table border=\"1\" class=\"dataframe\">\n",
       "  <thead>\n",
       "    <tr style=\"text-align: right;\">\n",
       "      <th></th>\n",
       "      <th>maximo</th>\n",
       "    </tr>\n",
       "  </thead>\n",
       "  <tbody>\n",
       "    <tr>\n",
       "      <th>0</th>\n",
       "      <td>14</td>\n",
       "    </tr>\n",
       "  </tbody>\n",
       "</table>\n",
       "</div>"
      ],
      "text/plain": [
       "   maximo\n",
       "0      14"
      ]
     },
     "metadata": {},
     "output_type": "display_data"
    }
   ],
   "source": [
    "# Verificando o valor MÍNIMO da coluna dias_ultimo_acesso\n",
    "resultado_sql = executa_sql('SELECT MAX(dias_ultimo_acesso) as maximo FROM dados')"
   ]
  },
  {
   "cell_type": "code",
   "execution_count": 28,
   "metadata": {},
   "outputs": [
    {
     "name": "stdout",
     "output_type": "stream",
     "text": [
      "(1, 1)\n"
     ]
    },
    {
     "data": {
      "text/html": [
       "<div>\n",
       "<style scoped>\n",
       "    .dataframe tbody tr th:only-of-type {\n",
       "        vertical-align: middle;\n",
       "    }\n",
       "\n",
       "    .dataframe tbody tr th {\n",
       "        vertical-align: top;\n",
       "    }\n",
       "\n",
       "    .dataframe thead th {\n",
       "        text-align: right;\n",
       "    }\n",
       "</style>\n",
       "<table border=\"1\" class=\"dataframe\">\n",
       "  <thead>\n",
       "    <tr style=\"text-align: right;\">\n",
       "      <th></th>\n",
       "      <th>media</th>\n",
       "    </tr>\n",
       "  </thead>\n",
       "  <tbody>\n",
       "    <tr>\n",
       "      <th>0</th>\n",
       "      <td>5.116279</td>\n",
       "    </tr>\n",
       "  </tbody>\n",
       "</table>\n",
       "</div>"
      ],
      "text/plain": [
       "      media\n",
       "0  5.116279"
      ]
     },
     "metadata": {},
     "output_type": "display_data"
    }
   ],
   "source": [
    "# Verificando a MÉDIA da coluna dias_ultimo_acesso\n",
    "resultado_sql = executa_sql('SELECT AVG(dias_ultimo_acesso) as media FROM dados')"
   ]
  },
  {
   "cell_type": "code",
   "execution_count": 30,
   "metadata": {},
   "outputs": [
    {
     "name": "stdout",
     "output_type": "stream",
     "text": [
      "(1, 3)\n"
     ]
    },
    {
     "data": {
      "text/html": [
       "<div>\n",
       "<style scoped>\n",
       "    .dataframe tbody tr th:only-of-type {\n",
       "        vertical-align: middle;\n",
       "    }\n",
       "\n",
       "    .dataframe tbody tr th {\n",
       "        vertical-align: top;\n",
       "    }\n",
       "\n",
       "    .dataframe thead th {\n",
       "        text-align: right;\n",
       "    }\n",
       "</style>\n",
       "<table border=\"1\" class=\"dataframe\">\n",
       "  <thead>\n",
       "    <tr style=\"text-align: right;\">\n",
       "      <th></th>\n",
       "      <th>media</th>\n",
       "      <th>minimo</th>\n",
       "      <th>maximo</th>\n",
       "    </tr>\n",
       "  </thead>\n",
       "  <tbody>\n",
       "    <tr>\n",
       "      <th>0</th>\n",
       "      <td>5.116279</td>\n",
       "      <td>1</td>\n",
       "      <td>14</td>\n",
       "    </tr>\n",
       "  </tbody>\n",
       "</table>\n",
       "</div>"
      ],
      "text/plain": [
       "      media  minimo  maximo\n",
       "0  5.116279       1      14"
      ]
     },
     "metadata": {},
     "output_type": "display_data"
    }
   ],
   "source": [
    "resultado_sql = executa_sql('SELECT AVG(dias_ultimo_acesso) as media, \\\n",
    "                                    MIN(dias_ultimo_acesso) as minimo, \\\n",
    "                                    MAX(dias_ultimo_acesso) as maximo \\\n",
    "                            FROM dados')"
   ]
  },
  {
   "cell_type": "markdown",
   "metadata": {},
   "source": [
    "### O GROUP BY NO SQL\n",
    "- O `GROUP BY` permite que a gente agregue os valores das colunas\n",
    "- Para usar o group by no SQL, vamos passar a `função de agregação` na seleção das colunas e depois usamos o `GROUP BY` após o `WHERE` (quando existir) informando as colunas pelas quais iremos agrupar"
   ]
  },
  {
   "cell_type": "code",
   "execution_count": 32,
   "metadata": {},
   "outputs": [
    {
     "name": "stdout",
     "output_type": "stream",
     "text": [
      "(43, 11)\n"
     ]
    },
    {
     "data": {
      "text/html": [
       "<div>\n",
       "<style scoped>\n",
       "    .dataframe tbody tr th:only-of-type {\n",
       "        vertical-align: middle;\n",
       "    }\n",
       "\n",
       "    .dataframe tbody tr th {\n",
       "        vertical-align: top;\n",
       "    }\n",
       "\n",
       "    .dataframe thead th {\n",
       "        text-align: right;\n",
       "    }\n",
       "</style>\n",
       "<table border=\"1\" class=\"dataframe\">\n",
       "  <thead>\n",
       "    <tr style=\"text-align: right;\">\n",
       "      <th></th>\n",
       "      <th>index</th>\n",
       "      <th>id_aluno</th>\n",
       "      <th>nome_aluno</th>\n",
       "      <th>cod_matricula</th>\n",
       "      <th>e-mail</th>\n",
       "      <th>acesso_plataforma</th>\n",
       "      <th>acesso_liberado</th>\n",
       "      <th>dias_ultimo_acesso</th>\n",
       "      <th>nr_prova</th>\n",
       "      <th>prova_feita</th>\n",
       "      <th>nota_prova</th>\n",
       "    </tr>\n",
       "  </thead>\n",
       "  <tbody>\n",
       "    <tr>\n",
       "      <th>0</th>\n",
       "      <td>0</td>\n",
       "      <td>1</td>\n",
       "      <td>Maria Eduarda da Rocha</td>\n",
       "      <td>38273</td>\n",
       "      <td>maria@hashtag.com</td>\n",
       "      <td>0</td>\n",
       "      <td>1</td>\n",
       "      <td>12</td>\n",
       "      <td>1</td>\n",
       "      <td>1</td>\n",
       "      <td>9.0</td>\n",
       "    </tr>\n",
       "    <tr>\n",
       "      <th>1</th>\n",
       "      <td>1</td>\n",
       "      <td>2</td>\n",
       "      <td>Bárbara da Cunha</td>\n",
       "      <td>63546</td>\n",
       "      <td>barbara@hashtag.com</td>\n",
       "      <td>0</td>\n",
       "      <td>1</td>\n",
       "      <td>2</td>\n",
       "      <td>1</td>\n",
       "      <td>1</td>\n",
       "      <td>10.0</td>\n",
       "    </tr>\n",
       "    <tr>\n",
       "      <th>2</th>\n",
       "      <td>2</td>\n",
       "      <td>3</td>\n",
       "      <td>Kevin Melo</td>\n",
       "      <td>80515</td>\n",
       "      <td>kevin@hashtag.com</td>\n",
       "      <td>1</td>\n",
       "      <td>1</td>\n",
       "      <td>3</td>\n",
       "      <td>1</td>\n",
       "      <td>1</td>\n",
       "      <td>7.0</td>\n",
       "    </tr>\n",
       "    <tr>\n",
       "      <th>3</th>\n",
       "      <td>3</td>\n",
       "      <td>4</td>\n",
       "      <td>Pedro Henrique da Costa</td>\n",
       "      <td>68004</td>\n",
       "      <td>pedro@hashtag.com</td>\n",
       "      <td>1</td>\n",
       "      <td>1</td>\n",
       "      <td>1</td>\n",
       "      <td>1</td>\n",
       "      <td>1</td>\n",
       "      <td>4.0</td>\n",
       "    </tr>\n",
       "    <tr>\n",
       "      <th>4</th>\n",
       "      <td>4</td>\n",
       "      <td>5</td>\n",
       "      <td>Mirella Viana</td>\n",
       "      <td>28421</td>\n",
       "      <td>mirella@hashtag.com</td>\n",
       "      <td>1</td>\n",
       "      <td>1</td>\n",
       "      <td>1</td>\n",
       "      <td>1</td>\n",
       "      <td>1</td>\n",
       "      <td>7.0</td>\n",
       "    </tr>\n",
       "  </tbody>\n",
       "</table>\n",
       "</div>"
      ],
      "text/plain": [
       "   index  id_aluno               nome_aluno  cod_matricula  \\\n",
       "0      0         1   Maria Eduarda da Rocha          38273   \n",
       "1      1         2         Bárbara da Cunha          63546   \n",
       "2      2         3               Kevin Melo          80515   \n",
       "3      3         4  Pedro Henrique da Costa          68004   \n",
       "4      4         5            Mirella Viana          28421   \n",
       "\n",
       "                e-mail  acesso_plataforma  acesso_liberado  \\\n",
       "0    maria@hashtag.com                  0                1   \n",
       "1  barbara@hashtag.com                  0                1   \n",
       "2    kevin@hashtag.com                  1                1   \n",
       "3    pedro@hashtag.com                  1                1   \n",
       "4  mirella@hashtag.com                  1                1   \n",
       "\n",
       "   dias_ultimo_acesso  nr_prova  prova_feita  nota_prova  \n",
       "0                  12         1            1         9.0  \n",
       "1                   2         1            1        10.0  \n",
       "2                   3         1            1         7.0  \n",
       "3                   1         1            1         4.0  \n",
       "4                   1         1            1         7.0  "
      ]
     },
     "metadata": {},
     "output_type": "display_data"
    }
   ],
   "source": [
    "resultado_sql = executa_sql('SELECT * FROM dados')"
   ]
  },
  {
   "cell_type": "code",
   "execution_count": 33,
   "metadata": {},
   "outputs": [
    {
     "data": {
      "text/plain": [
       "nome_aluno\n",
       "Antônio Azevedo            2\n",
       "Bárbara Freitas            3\n",
       "Bárbara da Cunha           2\n",
       "Cauã Porto                 1\n",
       "Eloah Aragão               5\n",
       "Francisco Pires            1\n",
       "Gabriela Costela           2\n",
       "Isabelly Souza             2\n",
       "Júlia Pinto                3\n",
       "Kevin Melo                 2\n",
       "Lara Lopes                 1\n",
       "Laura Melo                 2\n",
       "Lavínia Carvalho           1\n",
       "Lucca Cardoso              1\n",
       "Lívia Jesus                2\n",
       "Maria Eduarda da Rocha     4\n",
       "Maria Ferreira             3\n",
       "Melissa Ribeiro            3\n",
       "Mirella Viana              2\n",
       "Pedro Henrique da Costa    1\n",
       "Name: id_aluno, dtype: int64"
      ]
     },
     "execution_count": 33,
     "metadata": {},
     "output_type": "execute_result"
    }
   ],
   "source": [
    "# Relembrando o groupby no pandas para verificar quantas vezes cada aluno aparece\n",
    "resultado_sql.groupby('nome_aluno')['id_aluno'].count()"
   ]
  },
  {
   "cell_type": "code",
   "execution_count": 37,
   "metadata": {},
   "outputs": [
    {
     "name": "stdout",
     "output_type": "stream",
     "text": [
      "(20, 2)\n"
     ]
    },
    {
     "data": {
      "text/html": [
       "<div>\n",
       "<style scoped>\n",
       "    .dataframe tbody tr th:only-of-type {\n",
       "        vertical-align: middle;\n",
       "    }\n",
       "\n",
       "    .dataframe tbody tr th {\n",
       "        vertical-align: top;\n",
       "    }\n",
       "\n",
       "    .dataframe thead th {\n",
       "        text-align: right;\n",
       "    }\n",
       "</style>\n",
       "<table border=\"1\" class=\"dataframe\">\n",
       "  <thead>\n",
       "    <tr style=\"text-align: right;\">\n",
       "      <th></th>\n",
       "      <th>nome_aluno</th>\n",
       "      <th>registros</th>\n",
       "    </tr>\n",
       "  </thead>\n",
       "  <tbody>\n",
       "    <tr>\n",
       "      <th>0</th>\n",
       "      <td>Antônio Azevedo</td>\n",
       "      <td>2</td>\n",
       "    </tr>\n",
       "    <tr>\n",
       "      <th>1</th>\n",
       "      <td>Bárbara Freitas</td>\n",
       "      <td>3</td>\n",
       "    </tr>\n",
       "    <tr>\n",
       "      <th>2</th>\n",
       "      <td>Bárbara da Cunha</td>\n",
       "      <td>2</td>\n",
       "    </tr>\n",
       "    <tr>\n",
       "      <th>3</th>\n",
       "      <td>Cauã Porto</td>\n",
       "      <td>1</td>\n",
       "    </tr>\n",
       "    <tr>\n",
       "      <th>4</th>\n",
       "      <td>Eloah Aragão</td>\n",
       "      <td>5</td>\n",
       "    </tr>\n",
       "  </tbody>\n",
       "</table>\n",
       "</div>"
      ],
      "text/plain": [
       "         nome_aluno  registros\n",
       "0   Antônio Azevedo          2\n",
       "1   Bárbara Freitas          3\n",
       "2  Bárbara da Cunha          2\n",
       "3        Cauã Porto          1\n",
       "4      Eloah Aragão          5"
      ]
     },
     "metadata": {},
     "output_type": "display_data"
    }
   ],
   "source": [
    "# Fazendo o group by no SQL para contar a quantidade de linhas por alunos\n",
    "resultado_sql = executa_sql('SELECT nome_aluno, COUNT(id_aluno) as registros FROM dados GROUP BY nome_aluno')"
   ]
  },
  {
   "cell_type": "code",
   "execution_count": 38,
   "metadata": {},
   "outputs": [
    {
     "name": "stdout",
     "output_type": "stream",
     "text": [
      "(15, 2)\n"
     ]
    },
    {
     "data": {
      "text/html": [
       "<div>\n",
       "<style scoped>\n",
       "    .dataframe tbody tr th:only-of-type {\n",
       "        vertical-align: middle;\n",
       "    }\n",
       "\n",
       "    .dataframe tbody tr th {\n",
       "        vertical-align: top;\n",
       "    }\n",
       "\n",
       "    .dataframe thead th {\n",
       "        text-align: right;\n",
       "    }\n",
       "</style>\n",
       "<table border=\"1\" class=\"dataframe\">\n",
       "  <thead>\n",
       "    <tr style=\"text-align: right;\">\n",
       "      <th></th>\n",
       "      <th>nome_aluno</th>\n",
       "      <th>media</th>\n",
       "    </tr>\n",
       "  </thead>\n",
       "  <tbody>\n",
       "    <tr>\n",
       "      <th>0</th>\n",
       "      <td>Antônio Azevedo</td>\n",
       "      <td>6.0</td>\n",
       "    </tr>\n",
       "    <tr>\n",
       "      <th>1</th>\n",
       "      <td>Bárbara Freitas</td>\n",
       "      <td>8.0</td>\n",
       "    </tr>\n",
       "    <tr>\n",
       "      <th>2</th>\n",
       "      <td>Bárbara da Cunha</td>\n",
       "      <td>10.0</td>\n",
       "    </tr>\n",
       "    <tr>\n",
       "      <th>3</th>\n",
       "      <td>Eloah Aragão</td>\n",
       "      <td>7.5</td>\n",
       "    </tr>\n",
       "    <tr>\n",
       "      <th>4</th>\n",
       "      <td>Gabriela Costela</td>\n",
       "      <td>8.0</td>\n",
       "    </tr>\n",
       "  </tbody>\n",
       "</table>\n",
       "</div>"
      ],
      "text/plain": [
       "         nome_aluno  media\n",
       "0   Antônio Azevedo    6.0\n",
       "1   Bárbara Freitas    8.0\n",
       "2  Bárbara da Cunha   10.0\n",
       "3      Eloah Aragão    7.5\n",
       "4  Gabriela Costela    8.0"
      ]
     },
     "metadata": {},
     "output_type": "display_data"
    }
   ],
   "source": [
    "# Fazendo o group by para calcular a média das provas\n",
    "resultado_sql = executa_sql('SELECT nome_aluno, AVG(nota_prova) as media FROM dados \\\n",
    "                            where nota_prova is not null \\\n",
    "                            GROUP BY nome_aluno')"
   ]
  },
  {
   "cell_type": "markdown",
   "metadata": {},
   "source": [
    "### O ORDER BY NO SQL\n",
    "- O `ORDER BY` vai permitir a ordenação do resultado\n",
    "    - ASC: ascendente\n",
    "    - DESC: descendente\n",
    "- Vamos passar o `ORDER BY` logo após o `GROUP BY` (quando existir)"
   ]
  },
  {
   "cell_type": "code",
   "execution_count": 40,
   "metadata": {},
   "outputs": [
    {
     "name": "stdout",
     "output_type": "stream",
     "text": [
      "(15, 2)\n"
     ]
    },
    {
     "data": {
      "text/html": [
       "<div>\n",
       "<style scoped>\n",
       "    .dataframe tbody tr th:only-of-type {\n",
       "        vertical-align: middle;\n",
       "    }\n",
       "\n",
       "    .dataframe tbody tr th {\n",
       "        vertical-align: top;\n",
       "    }\n",
       "\n",
       "    .dataframe thead th {\n",
       "        text-align: right;\n",
       "    }\n",
       "</style>\n",
       "<table border=\"1\" class=\"dataframe\">\n",
       "  <thead>\n",
       "    <tr style=\"text-align: right;\">\n",
       "      <th></th>\n",
       "      <th>nome_aluno</th>\n",
       "      <th>media</th>\n",
       "    </tr>\n",
       "  </thead>\n",
       "  <tbody>\n",
       "    <tr>\n",
       "      <th>0</th>\n",
       "      <td>Bárbara da Cunha</td>\n",
       "      <td>10.0</td>\n",
       "    </tr>\n",
       "    <tr>\n",
       "      <th>1</th>\n",
       "      <td>Melissa Ribeiro</td>\n",
       "      <td>8.0</td>\n",
       "    </tr>\n",
       "    <tr>\n",
       "      <th>2</th>\n",
       "      <td>Lívia Jesus</td>\n",
       "      <td>8.0</td>\n",
       "    </tr>\n",
       "    <tr>\n",
       "      <th>3</th>\n",
       "      <td>Júlia Pinto</td>\n",
       "      <td>8.0</td>\n",
       "    </tr>\n",
       "    <tr>\n",
       "      <th>4</th>\n",
       "      <td>Gabriela Costela</td>\n",
       "      <td>8.0</td>\n",
       "    </tr>\n",
       "  </tbody>\n",
       "</table>\n",
       "</div>"
      ],
      "text/plain": [
       "         nome_aluno  media\n",
       "0  Bárbara da Cunha   10.0\n",
       "1   Melissa Ribeiro    8.0\n",
       "2       Lívia Jesus    8.0\n",
       "3       Júlia Pinto    8.0\n",
       "4  Gabriela Costela    8.0"
      ]
     },
     "metadata": {},
     "output_type": "display_data"
    }
   ],
   "source": [
    "# Ordenando as notas da maior para a menor\n",
    "resultado_sql = executa_sql('SELECT nome_aluno, AVG(nota_prova) as media FROM dados \\\n",
    "                            where nota_prova is not null \\\n",
    "                            GROUP BY nome_aluno \\\n",
    "                            ORDER BY AVG(nota_prova) desc')"
   ]
  }
 ],
 "metadata": {
  "kernelspec": {
   "display_name": "Python 3",
   "language": "python",
   "name": "python3"
  },
  "language_info": {
   "codemirror_mode": {
    "name": "ipython",
    "version": 3
   },
   "file_extension": ".py",
   "mimetype": "text/x-python",
   "name": "python",
   "nbconvert_exporter": "python",
   "pygments_lexer": "ipython3",
   "version": "3.8.5"
  }
 },
 "nbformat": 4,
 "nbformat_minor": 4
}
