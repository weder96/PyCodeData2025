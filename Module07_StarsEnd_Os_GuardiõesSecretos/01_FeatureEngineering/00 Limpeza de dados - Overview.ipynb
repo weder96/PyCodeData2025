{
 "cells": [
  {
   "cell_type": "markdown",
   "id": "de986e15",
   "metadata": {},
   "source": [
    "### A limpeza de dados (ou Data Cleaning)\n",
    "\n",
    "A limpeza de dados (ou Data Cleaning) é uma das etapas mais cruciais e demoradas em qualquer projeto de ciência de dados. A qualidade da sua análise e dos seus modelos de Machine Learning depende diretamente da qualidade dos seus dados.\n",
    "\n",
    "Usando a biblioteca Pandas em Python, o processo de limpeza geralmente segue estas etapas bem definidas. Vamos usar um exemplo prático para ilustrar cada uma delas.\n",
    "\n",
    "Imagine que temos o seguinte DataFrame \"sujo\":"
   ]
  },
  {
   "cell_type": "code",
   "execution_count": 35,
   "id": "23539881",
   "metadata": {},
   "outputs": [
    {
     "data": {
      "text/html": [
       "<div>\n",
       "<style scoped>\n",
       "    .dataframe tbody tr th:only-of-type {\n",
       "        vertical-align: middle;\n",
       "    }\n",
       "\n",
       "    .dataframe tbody tr th {\n",
       "        vertical-align: top;\n",
       "    }\n",
       "\n",
       "    .dataframe thead th {\n",
       "        text-align: right;\n",
       "    }\n",
       "</style>\n",
       "<table border=\"1\" class=\"dataframe\">\n",
       "  <thead>\n",
       "    <tr style=\"text-align: right;\">\n",
       "      <th></th>\n",
       "      <th>produto</th>\n",
       "      <th>data_venda</th>\n",
       "      <th>valor</th>\n",
       "      <th>estoque</th>\n",
       "      <th>cidade</th>\n",
       "    </tr>\n",
       "  </thead>\n",
       "  <tbody>\n",
       "    <tr>\n",
       "      <th>0</th>\n",
       "      <td>Produto A</td>\n",
       "      <td>2025-10-01</td>\n",
       "      <td>R$ 50,50</td>\n",
       "      <td>100.0</td>\n",
       "      <td>São Paulo</td>\n",
       "    </tr>\n",
       "    <tr>\n",
       "      <th>1</th>\n",
       "      <td>Produto B</td>\n",
       "      <td>2025-10-02</td>\n",
       "      <td>R$ 70,00</td>\n",
       "      <td>50.0</td>\n",
       "      <td>sp</td>\n",
       "    </tr>\n",
       "    <tr>\n",
       "      <th>2</th>\n",
       "      <td>Produto C</td>\n",
       "      <td>2025-10-03</td>\n",
       "      <td>R$ 30,25</td>\n",
       "      <td>NaN</td>\n",
       "      <td>Rio de Janeiro</td>\n",
       "    </tr>\n",
       "    <tr>\n",
       "      <th>3</th>\n",
       "      <td>Produto A</td>\n",
       "      <td>2025-10-01</td>\n",
       "      <td>R$ 50,50</td>\n",
       "      <td>100.0</td>\n",
       "      <td>São Paulo</td>\n",
       "    </tr>\n",
       "    <tr>\n",
       "      <th>4</th>\n",
       "      <td>Produto D</td>\n",
       "      <td>2025-10-05</td>\n",
       "      <td>R$ 1500,00</td>\n",
       "      <td>5.0</td>\n",
       "      <td>Belo Horizonte</td>\n",
       "    </tr>\n",
       "    <tr>\n",
       "      <th>5</th>\n",
       "      <td>Produto E</td>\n",
       "      <td>2025-10-06</td>\n",
       "      <td>None</td>\n",
       "      <td>200.0</td>\n",
       "      <td>são paulo</td>\n",
       "    </tr>\n",
       "    <tr>\n",
       "      <th>6</th>\n",
       "      <td>Produto E</td>\n",
       "      <td>2025-10-06</td>\n",
       "      <td>None</td>\n",
       "      <td>200.0</td>\n",
       "      <td>são paulo</td>\n",
       "    </tr>\n",
       "    <tr>\n",
       "      <th>7</th>\n",
       "      <td>None</td>\n",
       "      <td>2025-10-07</td>\n",
       "      <td>R$ 90,10</td>\n",
       "      <td>10.0</td>\n",
       "      <td>Recife</td>\n",
       "    </tr>\n",
       "  </tbody>\n",
       "</table>\n",
       "</div>"
      ],
      "text/plain": [
       "        produto  data_venda       valor  estoque          cidade\n",
       "0    Produto A   2025-10-01    R$ 50,50    100.0       São Paulo\n",
       "1     Produto B  2025-10-02    R$ 70,00     50.0              sp\n",
       "2     Produto C  2025-10-03    R$ 30,25      NaN  Rio de Janeiro\n",
       "3     Produto A  2025-10-01    R$ 50,50    100.0       São Paulo\n",
       "4     Produto D  2025-10-05  R$ 1500,00      5.0  Belo Horizonte\n",
       "5     Produto E  2025-10-06        None    200.0       são paulo\n",
       "6     Produto E  2025-10-06        None    200.0       são paulo\n",
       "7          None  2025-10-07    R$ 90,10     10.0          Recife"
      ]
     },
     "execution_count": 35,
     "metadata": {},
     "output_type": "execute_result"
    }
   ],
   "source": [
    "import pandas as pd\n",
    "import numpy as np\n",
    "\n",
    "data = {\n",
    "    'produto': ['  Produto A ', 'Produto B', 'Produto C', 'Produto A', 'Produto D', 'Produto E', 'Produto E', None],\n",
    "    'data_venda': ['2025-10-01', '2025-10-02', '2025-10-03', '2025-10-01', '2025-10-05', '2025-10-06','2025-10-06', '2025-10-07'],\n",
    "    'valor': ['R$ 50,50', 'R$ 70,00', 'R$ 30,25', 'R$ 50,50', 'R$ 1500,00', None, None, 'R$ 90,10'],\n",
    "    'estoque': [100, 50, None, 100, 5, 200, 200, 10],\n",
    "    'cidade': ['São Paulo', 'sp', 'Rio de Janeiro', 'São Paulo', 'Belo Horizonte', 'são paulo', 'são paulo', 'Recife']\n",
    "}\n",
    "df = pd.DataFrame(data)\n",
    "df"
   ]
  },
  {
   "cell_type": "markdown",
   "id": "6731bdf7",
   "metadata": {},
   "source": [
    "## Este é o nosso ponto de partida. Agora, vamos limpar!\n",
    "\n",
    "### **Passo 0:** Inspeção Inicial dos Dados\n",
    "\n",
    "Antes de modificar qualquer coisa, você precisa entender a \"sujeira\".\n",
    "Visualizar as primeiras linhas: Para ter uma ideia da estrutura."
   ]
  },
  {
   "cell_type": "code",
   "execution_count": 36,
   "id": "f65e7f00",
   "metadata": {},
   "outputs": [
    {
     "name": "stdout",
     "output_type": "stream",
     "text": [
      "        produto  data_venda       valor  estoque          cidade\n",
      "0    Produto A   2025-10-01    R$ 50,50    100.0       São Paulo\n",
      "1     Produto B  2025-10-02    R$ 70,00     50.0              sp\n",
      "2     Produto C  2025-10-03    R$ 30,25      NaN  Rio de Janeiro\n",
      "3     Produto A  2025-10-01    R$ 50,50    100.0       São Paulo\n",
      "4     Produto D  2025-10-05  R$ 1500,00      5.0  Belo Horizonte\n"
     ]
    }
   ],
   "source": [
    "print(df.head())"
   ]
  },
  {
   "cell_type": "code",
   "execution_count": 37,
   "id": "9ed91609",
   "metadata": {},
   "outputs": [
    {
     "name": "stdout",
     "output_type": "stream",
     "text": [
      "<class 'pandas.core.frame.DataFrame'>\n",
      "RangeIndex: 8 entries, 0 to 7\n",
      "Data columns (total 5 columns):\n",
      " #   Column      Non-Null Count  Dtype  \n",
      "---  ------      --------------  -----  \n",
      " 0   produto     7 non-null      object \n",
      " 1   data_venda  8 non-null      object \n",
      " 2   valor       6 non-null      object \n",
      " 3   estoque     7 non-null      float64\n",
      " 4   cidade      8 non-null      object \n",
      "dtypes: float64(1), object(4)\n",
      "memory usage: 448.0+ bytes\n",
      "None\n"
     ]
    }
   ],
   "source": [
    "# Obter informações gerais: \n",
    "# Essencial para ver os tipos de dados (Dtype) e a contagem de valores não nulos.\n",
    "\n",
    "\n",
    "print(df.info())\n",
    "\n",
    "# Nesta etapa, você já notaria que valor é do tipo object (texto) e não um número, \n",
    "# e que produto, valor e estoque têm valores ausentes."
   ]
  },
  {
   "cell_type": "code",
   "execution_count": 38,
   "id": "e3d4d837",
   "metadata": {},
   "outputs": [
    {
     "name": "stdout",
     "output_type": "stream",
     "text": [
      "          estoque\n",
      "count    7.000000\n",
      "mean    95.000000\n",
      "std     81.086374\n",
      "min      5.000000\n",
      "25%     30.000000\n",
      "50%    100.000000\n",
      "75%    150.000000\n",
      "max    200.000000\n"
     ]
    }
   ],
   "source": [
    "## Resumo estatístico: Útil para ter uma noção da distribuição dos dados numéricos \n",
    "# e identificar possíveis outliers (como o valor 1500 em estoque, talvez?).\n",
    "\n",
    "print(df.describe())"
   ]
  },
  {
   "cell_type": "markdown",
   "id": "dbff77a8",
   "metadata": {},
   "source": [
    "### **Passo 1:** Tratamento de Dados Duplicados\n",
    "Dados duplicados podem distorcer análises e resultados de modelos.\n",
    "\n",
    "Identificar duplicatas:"
   ]
  },
  {
   "cell_type": "code",
   "execution_count": 39,
   "id": "7d8cf3a3",
   "metadata": {},
   "outputs": [
    {
     "name": "stdout",
     "output_type": "stream",
     "text": [
      "1\n"
     ]
    }
   ],
   "source": [
    "\n",
    "print(df.duplicated().sum()) # Retorna o número de linhas duplicadas"
   ]
  },
  {
   "cell_type": "code",
   "execution_count": 40,
   "id": "d81c3c96",
   "metadata": {},
   "outputs": [],
   "source": [
    "# Remover duplicatas:\n",
    "\n",
    "\n",
    "df = df.drop_duplicates(keep='first', inplace=False)\n",
    "\n",
    "# keep='first': Mantém a primeira ocorrência da linha duplicada.\n",
    "# inplace=False: Retorna um novo DataFrame com as alterações (boa prática). \n",
    "# Se True, altera o DataFrame original."
   ]
  },
  {
   "cell_type": "code",
   "execution_count": 41,
   "id": "bafebb78",
   "metadata": {},
   "outputs": [
    {
     "name": "stdout",
     "output_type": "stream",
     "text": [
      "0\n"
     ]
    }
   ],
   "source": [
    "print(df.duplicated().sum()) # Retorna o número de linhas duplicadas"
   ]
  },
  {
   "cell_type": "code",
   "execution_count": 42,
   "id": "a6c1f6ed",
   "metadata": {},
   "outputs": [
    {
     "data": {
      "text/html": [
       "<div>\n",
       "<style scoped>\n",
       "    .dataframe tbody tr th:only-of-type {\n",
       "        vertical-align: middle;\n",
       "    }\n",
       "\n",
       "    .dataframe tbody tr th {\n",
       "        vertical-align: top;\n",
       "    }\n",
       "\n",
       "    .dataframe thead th {\n",
       "        text-align: right;\n",
       "    }\n",
       "</style>\n",
       "<table border=\"1\" class=\"dataframe\">\n",
       "  <thead>\n",
       "    <tr style=\"text-align: right;\">\n",
       "      <th></th>\n",
       "      <th>produto</th>\n",
       "      <th>data_venda</th>\n",
       "      <th>valor</th>\n",
       "      <th>estoque</th>\n",
       "      <th>cidade</th>\n",
       "    </tr>\n",
       "  </thead>\n",
       "  <tbody>\n",
       "    <tr>\n",
       "      <th>0</th>\n",
       "      <td>Produto A</td>\n",
       "      <td>2025-10-01</td>\n",
       "      <td>R$ 50,50</td>\n",
       "      <td>100.0</td>\n",
       "      <td>São Paulo</td>\n",
       "    </tr>\n",
       "    <tr>\n",
       "      <th>1</th>\n",
       "      <td>Produto B</td>\n",
       "      <td>2025-10-02</td>\n",
       "      <td>R$ 70,00</td>\n",
       "      <td>50.0</td>\n",
       "      <td>sp</td>\n",
       "    </tr>\n",
       "    <tr>\n",
       "      <th>2</th>\n",
       "      <td>Produto C</td>\n",
       "      <td>2025-10-03</td>\n",
       "      <td>R$ 30,25</td>\n",
       "      <td>NaN</td>\n",
       "      <td>Rio de Janeiro</td>\n",
       "    </tr>\n",
       "    <tr>\n",
       "      <th>3</th>\n",
       "      <td>Produto A</td>\n",
       "      <td>2025-10-01</td>\n",
       "      <td>R$ 50,50</td>\n",
       "      <td>100.0</td>\n",
       "      <td>São Paulo</td>\n",
       "    </tr>\n",
       "    <tr>\n",
       "      <th>4</th>\n",
       "      <td>Produto D</td>\n",
       "      <td>2025-10-05</td>\n",
       "      <td>R$ 1500,00</td>\n",
       "      <td>5.0</td>\n",
       "      <td>Belo Horizonte</td>\n",
       "    </tr>\n",
       "    <tr>\n",
       "      <th>5</th>\n",
       "      <td>Produto E</td>\n",
       "      <td>2025-10-06</td>\n",
       "      <td>None</td>\n",
       "      <td>200.0</td>\n",
       "      <td>são paulo</td>\n",
       "    </tr>\n",
       "    <tr>\n",
       "      <th>7</th>\n",
       "      <td>None</td>\n",
       "      <td>2025-10-07</td>\n",
       "      <td>R$ 90,10</td>\n",
       "      <td>10.0</td>\n",
       "      <td>Recife</td>\n",
       "    </tr>\n",
       "  </tbody>\n",
       "</table>\n",
       "</div>"
      ],
      "text/plain": [
       "        produto  data_venda       valor  estoque          cidade\n",
       "0    Produto A   2025-10-01    R$ 50,50    100.0       São Paulo\n",
       "1     Produto B  2025-10-02    R$ 70,00     50.0              sp\n",
       "2     Produto C  2025-10-03    R$ 30,25      NaN  Rio de Janeiro\n",
       "3     Produto A  2025-10-01    R$ 50,50    100.0       São Paulo\n",
       "4     Produto D  2025-10-05  R$ 1500,00      5.0  Belo Horizonte\n",
       "5     Produto E  2025-10-06        None    200.0       são paulo\n",
       "7          None  2025-10-07    R$ 90,10     10.0          Recife"
      ]
     },
     "execution_count": 42,
     "metadata": {},
     "output_type": "execute_result"
    }
   ],
   "source": [
    "# Check New Dataframe\n",
    "df"
   ]
  },
  {
   "cell_type": "markdown",
   "id": "bc18afdf",
   "metadata": {},
   "source": [
    "## **Passo 2:** Tratamento de Valores Ausentes (NaN)\n",
    "Valores ausentes (nulos ou NaN) são um dos problemas mais comuns.\n",
    "Identificar valores ausentes:"
   ]
  },
  {
   "cell_type": "code",
   "execution_count": 43,
   "id": "ae965634",
   "metadata": {},
   "outputs": [
    {
     "name": "stdout",
     "output_type": "stream",
     "text": [
      "produto       1\n",
      "data_venda    0\n",
      "valor         1\n",
      "estoque       1\n",
      "cidade        0\n",
      "dtype: int64\n"
     ]
    }
   ],
   "source": [
    "\n",
    "print(df.isnull().sum()) # Mostra a contagem de nulos por coluna"
   ]
  },
  {
   "cell_type": "markdown",
   "id": "3f50bc5b",
   "metadata": {},
   "source": [
    "## Decidir a estratégia:\n",
    "\n",
    "Remover: Se a quantidade de dados ausentes for pequena ou se a linha/coluna for irrelevante.\n",
    "\n"
   ]
  },
  {
   "cell_type": "code",
   "execution_count": 44,
   "id": "63ec3359",
   "metadata": {},
   "outputs": [],
   "source": [
    "# Remove todas as linhas que contêm pelo menos um valor nulo\n",
    "df_sem_nulos = df.dropna()"
   ]
  },
  {
   "cell_type": "markdown",
   "id": "65752863",
   "metadata": {},
   "source": [
    "## Preencher (Imputação): A estratégia mais comum.\n"
   ]
  },
  {
   "cell_type": "code",
   "execution_count": 45,
   "id": "ba6cdb33",
   "metadata": {},
   "outputs": [
    {
     "name": "stderr",
     "output_type": "stream",
     "text": [
      "/tmp/ipykernel_56500/1483688868.py:3: FutureWarning: A value is trying to be set on a copy of a DataFrame or Series through chained assignment using an inplace method.\n",
      "The behavior will change in pandas 3.0. This inplace method will never work because the intermediate object on which we are setting values always behaves as a copy.\n",
      "\n",
      "For example, when doing 'df[col].method(value, inplace=True)', try using 'df.method({col: value}, inplace=True)' or df[col] = df[col].method(value) instead, to perform the operation inplace on the original object.\n",
      "\n",
      "\n",
      "  df['estoque'].fillna(mediana_estoque, inplace=True)\n",
      "/tmp/ipykernel_56500/1483688868.py:3: SettingWithCopyWarning: \n",
      "A value is trying to be set on a copy of a slice from a DataFrame\n",
      "\n",
      "See the caveats in the documentation: https://pandas.pydata.org/pandas-docs/stable/user_guide/indexing.html#returning-a-view-versus-a-copy\n",
      "  df['estoque'].fillna(mediana_estoque, inplace=True)\n",
      "/tmp/ipykernel_56500/1483688868.py:6: FutureWarning: A value is trying to be set on a copy of a DataFrame or Series through chained assignment using an inplace method.\n",
      "The behavior will change in pandas 3.0. This inplace method will never work because the intermediate object on which we are setting values always behaves as a copy.\n",
      "\n",
      "For example, when doing 'df[col].method(value, inplace=True)', try using 'df.method({col: value}, inplace=True)' or df[col] = df[col].method(value) instead, to perform the operation inplace on the original object.\n",
      "\n",
      "\n",
      "  df['produto'].fillna('desconhecido', inplace=True)\n",
      "/tmp/ipykernel_56500/1483688868.py:6: SettingWithCopyWarning: \n",
      "A value is trying to be set on a copy of a slice from a DataFrame\n",
      "\n",
      "See the caveats in the documentation: https://pandas.pydata.org/pandas-docs/stable/user_guide/indexing.html#returning-a-view-versus-a-copy\n",
      "  df['produto'].fillna('desconhecido', inplace=True)\n",
      "/tmp/ipykernel_56500/1483688868.py:9: SettingWithCopyWarning: \n",
      "A value is trying to be set on a copy of a slice from a DataFrame\n",
      "\n",
      "See the caveats in the documentation: https://pandas.pydata.org/pandas-docs/stable/user_guide/indexing.html#returning-a-view-versus-a-copy\n",
      "  df.dropna(subset=['valor'], inplace=True)\n"
     ]
    }
   ],
   "source": [
    "# Preencher 'estoque' com a mediana (robusto a outliers)\n",
    "mediana_estoque = df['estoque'].median()\n",
    "df['estoque'].fillna(mediana_estoque, inplace=True)\n",
    "\n",
    "# Para dados categóricos como 'produto', podemos preencher com 'desconhecido'\n",
    "df['produto'].fillna('desconhecido', inplace=True)\n",
    "\n",
    "# Vamos remover a linha onde 'valor' é nulo neste exemplo\n",
    "df.dropna(subset=['valor'], inplace=True)"
   ]
  },
  {
   "cell_type": "code",
   "execution_count": 46,
   "id": "6ffe61b0",
   "metadata": {},
   "outputs": [
    {
     "data": {
      "text/html": [
       "<div>\n",
       "<style scoped>\n",
       "    .dataframe tbody tr th:only-of-type {\n",
       "        vertical-align: middle;\n",
       "    }\n",
       "\n",
       "    .dataframe tbody tr th {\n",
       "        vertical-align: top;\n",
       "    }\n",
       "\n",
       "    .dataframe thead th {\n",
       "        text-align: right;\n",
       "    }\n",
       "</style>\n",
       "<table border=\"1\" class=\"dataframe\">\n",
       "  <thead>\n",
       "    <tr style=\"text-align: right;\">\n",
       "      <th></th>\n",
       "      <th>produto</th>\n",
       "      <th>data_venda</th>\n",
       "      <th>valor</th>\n",
       "      <th>estoque</th>\n",
       "      <th>cidade</th>\n",
       "    </tr>\n",
       "  </thead>\n",
       "  <tbody>\n",
       "    <tr>\n",
       "      <th>0</th>\n",
       "      <td>Produto A</td>\n",
       "      <td>2025-10-01</td>\n",
       "      <td>R$ 50,50</td>\n",
       "      <td>100.0</td>\n",
       "      <td>São Paulo</td>\n",
       "    </tr>\n",
       "    <tr>\n",
       "      <th>1</th>\n",
       "      <td>Produto B</td>\n",
       "      <td>2025-10-02</td>\n",
       "      <td>R$ 70,00</td>\n",
       "      <td>50.0</td>\n",
       "      <td>sp</td>\n",
       "    </tr>\n",
       "    <tr>\n",
       "      <th>2</th>\n",
       "      <td>Produto C</td>\n",
       "      <td>2025-10-03</td>\n",
       "      <td>R$ 30,25</td>\n",
       "      <td>75.0</td>\n",
       "      <td>Rio de Janeiro</td>\n",
       "    </tr>\n",
       "    <tr>\n",
       "      <th>3</th>\n",
       "      <td>Produto A</td>\n",
       "      <td>2025-10-01</td>\n",
       "      <td>R$ 50,50</td>\n",
       "      <td>100.0</td>\n",
       "      <td>São Paulo</td>\n",
       "    </tr>\n",
       "    <tr>\n",
       "      <th>4</th>\n",
       "      <td>Produto D</td>\n",
       "      <td>2025-10-05</td>\n",
       "      <td>R$ 1500,00</td>\n",
       "      <td>5.0</td>\n",
       "      <td>Belo Horizonte</td>\n",
       "    </tr>\n",
       "    <tr>\n",
       "      <th>7</th>\n",
       "      <td>desconhecido</td>\n",
       "      <td>2025-10-07</td>\n",
       "      <td>R$ 90,10</td>\n",
       "      <td>10.0</td>\n",
       "      <td>Recife</td>\n",
       "    </tr>\n",
       "  </tbody>\n",
       "</table>\n",
       "</div>"
      ],
      "text/plain": [
       "        produto  data_venda       valor  estoque          cidade\n",
       "0    Produto A   2025-10-01    R$ 50,50    100.0       São Paulo\n",
       "1     Produto B  2025-10-02    R$ 70,00     50.0              sp\n",
       "2     Produto C  2025-10-03    R$ 30,25     75.0  Rio de Janeiro\n",
       "3     Produto A  2025-10-01    R$ 50,50    100.0       São Paulo\n",
       "4     Produto D  2025-10-05  R$ 1500,00      5.0  Belo Horizonte\n",
       "7  desconhecido  2025-10-07    R$ 90,10     10.0          Recife"
      ]
     },
     "execution_count": 46,
     "metadata": {},
     "output_type": "execute_result"
    }
   ],
   "source": [
    "# Check New Dataframe\n",
    "df"
   ]
  },
  {
   "cell_type": "markdown",
   "id": "2c331d8f",
   "metadata": {},
   "source": [
    "### Passo 3: Correção dos Tipos de Dados (Data Types)\n",
    "Garantir que cada coluna esteja no formato correto é fundamental para realizar cálculos e análises.\n",
    "\n",
    "Coluna valor (de texto para número): Precisamos remover \"R$\", espaços e trocar a vírgula por ponto.\n"
   ]
  },
  {
   "cell_type": "code",
   "execution_count": 47,
   "id": "92ae3dee",
   "metadata": {},
   "outputs": [
    {
     "name": "stderr",
     "output_type": "stream",
     "text": [
      "/tmp/ipykernel_56500/722994490.py:1: SettingWithCopyWarning: \n",
      "A value is trying to be set on a copy of a slice from a DataFrame.\n",
      "Try using .loc[row_indexer,col_indexer] = value instead\n",
      "\n",
      "See the caveats in the documentation: https://pandas.pydata.org/pandas-docs/stable/user_guide/indexing.html#returning-a-view-versus-a-copy\n",
      "  df['valor'] = df['valor'].str.replace('R$', '', regex=False).str.replace(',', '.').str.strip()\n",
      "/tmp/ipykernel_56500/722994490.py:2: SettingWithCopyWarning: \n",
      "A value is trying to be set on a copy of a slice from a DataFrame.\n",
      "Try using .loc[row_indexer,col_indexer] = value instead\n",
      "\n",
      "See the caveats in the documentation: https://pandas.pydata.org/pandas-docs/stable/user_guide/indexing.html#returning-a-view-versus-a-copy\n",
      "  df['valor'] = pd.to_numeric(df['valor'])\n"
     ]
    }
   ],
   "source": [
    "df['valor'] = df['valor'].str.replace('R$', '', regex=False).str.replace(',', '.').str.strip()\n",
    "df['valor'] = pd.to_numeric(df['valor'])"
   ]
  },
  {
   "cell_type": "code",
   "execution_count": 48,
   "id": "002f0d5c",
   "metadata": {},
   "outputs": [
    {
     "data": {
      "text/html": [
       "<div>\n",
       "<style scoped>\n",
       "    .dataframe tbody tr th:only-of-type {\n",
       "        vertical-align: middle;\n",
       "    }\n",
       "\n",
       "    .dataframe tbody tr th {\n",
       "        vertical-align: top;\n",
       "    }\n",
       "\n",
       "    .dataframe thead th {\n",
       "        text-align: right;\n",
       "    }\n",
       "</style>\n",
       "<table border=\"1\" class=\"dataframe\">\n",
       "  <thead>\n",
       "    <tr style=\"text-align: right;\">\n",
       "      <th></th>\n",
       "      <th>produto</th>\n",
       "      <th>data_venda</th>\n",
       "      <th>valor</th>\n",
       "      <th>estoque</th>\n",
       "      <th>cidade</th>\n",
       "    </tr>\n",
       "  </thead>\n",
       "  <tbody>\n",
       "    <tr>\n",
       "      <th>0</th>\n",
       "      <td>Produto A</td>\n",
       "      <td>2025-10-01</td>\n",
       "      <td>50.50</td>\n",
       "      <td>100.0</td>\n",
       "      <td>São Paulo</td>\n",
       "    </tr>\n",
       "    <tr>\n",
       "      <th>1</th>\n",
       "      <td>Produto B</td>\n",
       "      <td>2025-10-02</td>\n",
       "      <td>70.00</td>\n",
       "      <td>50.0</td>\n",
       "      <td>sp</td>\n",
       "    </tr>\n",
       "    <tr>\n",
       "      <th>2</th>\n",
       "      <td>Produto C</td>\n",
       "      <td>2025-10-03</td>\n",
       "      <td>30.25</td>\n",
       "      <td>75.0</td>\n",
       "      <td>Rio de Janeiro</td>\n",
       "    </tr>\n",
       "    <tr>\n",
       "      <th>3</th>\n",
       "      <td>Produto A</td>\n",
       "      <td>2025-10-01</td>\n",
       "      <td>50.50</td>\n",
       "      <td>100.0</td>\n",
       "      <td>São Paulo</td>\n",
       "    </tr>\n",
       "    <tr>\n",
       "      <th>4</th>\n",
       "      <td>Produto D</td>\n",
       "      <td>2025-10-05</td>\n",
       "      <td>1500.00</td>\n",
       "      <td>5.0</td>\n",
       "      <td>Belo Horizonte</td>\n",
       "    </tr>\n",
       "    <tr>\n",
       "      <th>7</th>\n",
       "      <td>desconhecido</td>\n",
       "      <td>2025-10-07</td>\n",
       "      <td>90.10</td>\n",
       "      <td>10.0</td>\n",
       "      <td>Recife</td>\n",
       "    </tr>\n",
       "  </tbody>\n",
       "</table>\n",
       "</div>"
      ],
      "text/plain": [
       "        produto  data_venda    valor  estoque          cidade\n",
       "0    Produto A   2025-10-01    50.50    100.0       São Paulo\n",
       "1     Produto B  2025-10-02    70.00     50.0              sp\n",
       "2     Produto C  2025-10-03    30.25     75.0  Rio de Janeiro\n",
       "3     Produto A  2025-10-01    50.50    100.0       São Paulo\n",
       "4     Produto D  2025-10-05  1500.00      5.0  Belo Horizonte\n",
       "7  desconhecido  2025-10-07    90.10     10.0          Recife"
      ]
     },
     "execution_count": 48,
     "metadata": {},
     "output_type": "execute_result"
    }
   ],
   "source": [
    "# Check New Dataframe\n",
    "df"
   ]
  },
  {
   "cell_type": "code",
   "execution_count": 49,
   "id": "43813aed",
   "metadata": {},
   "outputs": [
    {
     "name": "stderr",
     "output_type": "stream",
     "text": [
      "/tmp/ipykernel_56500/1693358689.py:3: SettingWithCopyWarning: \n",
      "A value is trying to be set on a copy of a slice from a DataFrame.\n",
      "Try using .loc[row_indexer,col_indexer] = value instead\n",
      "\n",
      "See the caveats in the documentation: https://pandas.pydata.org/pandas-docs/stable/user_guide/indexing.html#returning-a-view-versus-a-copy\n",
      "  df['data_venda'] = pd.to_datetime(df['data_venda'])\n"
     ]
    },
    {
     "data": {
      "text/html": [
       "<div>\n",
       "<style scoped>\n",
       "    .dataframe tbody tr th:only-of-type {\n",
       "        vertical-align: middle;\n",
       "    }\n",
       "\n",
       "    .dataframe tbody tr th {\n",
       "        vertical-align: top;\n",
       "    }\n",
       "\n",
       "    .dataframe thead th {\n",
       "        text-align: right;\n",
       "    }\n",
       "</style>\n",
       "<table border=\"1\" class=\"dataframe\">\n",
       "  <thead>\n",
       "    <tr style=\"text-align: right;\">\n",
       "      <th></th>\n",
       "      <th>produto</th>\n",
       "      <th>data_venda</th>\n",
       "      <th>valor</th>\n",
       "      <th>estoque</th>\n",
       "      <th>cidade</th>\n",
       "    </tr>\n",
       "  </thead>\n",
       "  <tbody>\n",
       "    <tr>\n",
       "      <th>0</th>\n",
       "      <td>Produto A</td>\n",
       "      <td>2025-10-01</td>\n",
       "      <td>50.50</td>\n",
       "      <td>100.0</td>\n",
       "      <td>São Paulo</td>\n",
       "    </tr>\n",
       "    <tr>\n",
       "      <th>1</th>\n",
       "      <td>Produto B</td>\n",
       "      <td>2025-10-02</td>\n",
       "      <td>70.00</td>\n",
       "      <td>50.0</td>\n",
       "      <td>sp</td>\n",
       "    </tr>\n",
       "    <tr>\n",
       "      <th>2</th>\n",
       "      <td>Produto C</td>\n",
       "      <td>2025-10-03</td>\n",
       "      <td>30.25</td>\n",
       "      <td>75.0</td>\n",
       "      <td>Rio de Janeiro</td>\n",
       "    </tr>\n",
       "    <tr>\n",
       "      <th>3</th>\n",
       "      <td>Produto A</td>\n",
       "      <td>2025-10-01</td>\n",
       "      <td>50.50</td>\n",
       "      <td>100.0</td>\n",
       "      <td>São Paulo</td>\n",
       "    </tr>\n",
       "    <tr>\n",
       "      <th>4</th>\n",
       "      <td>Produto D</td>\n",
       "      <td>2025-10-05</td>\n",
       "      <td>1500.00</td>\n",
       "      <td>5.0</td>\n",
       "      <td>Belo Horizonte</td>\n",
       "    </tr>\n",
       "    <tr>\n",
       "      <th>7</th>\n",
       "      <td>desconhecido</td>\n",
       "      <td>2025-10-07</td>\n",
       "      <td>90.10</td>\n",
       "      <td>10.0</td>\n",
       "      <td>Recife</td>\n",
       "    </tr>\n",
       "  </tbody>\n",
       "</table>\n",
       "</div>"
      ],
      "text/plain": [
       "        produto data_venda    valor  estoque          cidade\n",
       "0    Produto A  2025-10-01    50.50    100.0       São Paulo\n",
       "1     Produto B 2025-10-02    70.00     50.0              sp\n",
       "2     Produto C 2025-10-03    30.25     75.0  Rio de Janeiro\n",
       "3     Produto A 2025-10-01    50.50    100.0       São Paulo\n",
       "4     Produto D 2025-10-05  1500.00      5.0  Belo Horizonte\n",
       "7  desconhecido 2025-10-07    90.10     10.0          Recife"
      ]
     },
     "execution_count": 49,
     "metadata": {},
     "output_type": "execute_result"
    }
   ],
   "source": [
    "## Coluna data_venda (de texto para data):\n",
    "\n",
    "df['data_venda'] = pd.to_datetime(df['data_venda'])\n",
    "df"
   ]
  },
  {
   "cell_type": "code",
   "execution_count": 50,
   "id": "637d4850",
   "metadata": {},
   "outputs": [
    {
     "name": "stdout",
     "output_type": "stream",
     "text": [
      "<class 'pandas.core.frame.DataFrame'>\n",
      "Index: 6 entries, 0 to 7\n",
      "Data columns (total 5 columns):\n",
      " #   Column      Non-Null Count  Dtype         \n",
      "---  ------      --------------  -----         \n",
      " 0   produto     6 non-null      object        \n",
      " 1   data_venda  6 non-null      datetime64[ns]\n",
      " 2   valor       6 non-null      float64       \n",
      " 3   estoque     6 non-null      float64       \n",
      " 4   cidade      6 non-null      object        \n",
      "dtypes: datetime64[ns](1), float64(2), object(2)\n",
      "memory usage: 288.0+ bytes\n"
     ]
    }
   ],
   "source": [
    "### Após essas conversões, mostrará os tipos corretos: \n",
    "# float64 para valor e datetime64[ns] para data_venda.\n",
    "df.info() "
   ]
  },
  {
   "cell_type": "markdown",
   "id": "005b6643",
   "metadata": {},
   "source": [
    "## **Passo 4:** Padronização e Limpeza de Texto\n",
    "\n",
    "Dados de texto inconsistentes podem agrupar a mesma categoria em nomes diferentes.\n",
    "Remover espaços em branco no início/fim:\n",
    "\n"
   ]
  },
  {
   "cell_type": "code",
   "execution_count": 51,
   "id": "82911491",
   "metadata": {},
   "outputs": [
    {
     "name": "stderr",
     "output_type": "stream",
     "text": [
      "/tmp/ipykernel_56500/225531729.py:1: SettingWithCopyWarning: \n",
      "A value is trying to be set on a copy of a slice from a DataFrame.\n",
      "Try using .loc[row_indexer,col_indexer] = value instead\n",
      "\n",
      "See the caveats in the documentation: https://pandas.pydata.org/pandas-docs/stable/user_guide/indexing.html#returning-a-view-versus-a-copy\n",
      "  df['produto'] = df['produto'].str.strip()\n"
     ]
    },
    {
     "data": {
      "text/html": [
       "<div>\n",
       "<style scoped>\n",
       "    .dataframe tbody tr th:only-of-type {\n",
       "        vertical-align: middle;\n",
       "    }\n",
       "\n",
       "    .dataframe tbody tr th {\n",
       "        vertical-align: top;\n",
       "    }\n",
       "\n",
       "    .dataframe thead th {\n",
       "        text-align: right;\n",
       "    }\n",
       "</style>\n",
       "<table border=\"1\" class=\"dataframe\">\n",
       "  <thead>\n",
       "    <tr style=\"text-align: right;\">\n",
       "      <th></th>\n",
       "      <th>produto</th>\n",
       "      <th>data_venda</th>\n",
       "      <th>valor</th>\n",
       "      <th>estoque</th>\n",
       "      <th>cidade</th>\n",
       "    </tr>\n",
       "  </thead>\n",
       "  <tbody>\n",
       "    <tr>\n",
       "      <th>0</th>\n",
       "      <td>Produto A</td>\n",
       "      <td>2025-10-01</td>\n",
       "      <td>50.50</td>\n",
       "      <td>100.0</td>\n",
       "      <td>São Paulo</td>\n",
       "    </tr>\n",
       "    <tr>\n",
       "      <th>1</th>\n",
       "      <td>Produto B</td>\n",
       "      <td>2025-10-02</td>\n",
       "      <td>70.00</td>\n",
       "      <td>50.0</td>\n",
       "      <td>sp</td>\n",
       "    </tr>\n",
       "    <tr>\n",
       "      <th>2</th>\n",
       "      <td>Produto C</td>\n",
       "      <td>2025-10-03</td>\n",
       "      <td>30.25</td>\n",
       "      <td>75.0</td>\n",
       "      <td>Rio de Janeiro</td>\n",
       "    </tr>\n",
       "    <tr>\n",
       "      <th>3</th>\n",
       "      <td>Produto A</td>\n",
       "      <td>2025-10-01</td>\n",
       "      <td>50.50</td>\n",
       "      <td>100.0</td>\n",
       "      <td>São Paulo</td>\n",
       "    </tr>\n",
       "    <tr>\n",
       "      <th>4</th>\n",
       "      <td>Produto D</td>\n",
       "      <td>2025-10-05</td>\n",
       "      <td>1500.00</td>\n",
       "      <td>5.0</td>\n",
       "      <td>Belo Horizonte</td>\n",
       "    </tr>\n",
       "    <tr>\n",
       "      <th>7</th>\n",
       "      <td>desconhecido</td>\n",
       "      <td>2025-10-07</td>\n",
       "      <td>90.10</td>\n",
       "      <td>10.0</td>\n",
       "      <td>Recife</td>\n",
       "    </tr>\n",
       "  </tbody>\n",
       "</table>\n",
       "</div>"
      ],
      "text/plain": [
       "        produto data_venda    valor  estoque          cidade\n",
       "0     Produto A 2025-10-01    50.50    100.0       São Paulo\n",
       "1     Produto B 2025-10-02    70.00     50.0              sp\n",
       "2     Produto C 2025-10-03    30.25     75.0  Rio de Janeiro\n",
       "3     Produto A 2025-10-01    50.50    100.0       São Paulo\n",
       "4     Produto D 2025-10-05  1500.00      5.0  Belo Horizonte\n",
       "7  desconhecido 2025-10-07    90.10     10.0          Recife"
      ]
     },
     "execution_count": 51,
     "metadata": {},
     "output_type": "execute_result"
    }
   ],
   "source": [
    "df['produto'] = df['produto'].str.strip()\n",
    "df"
   ]
  },
  {
   "cell_type": "code",
   "execution_count": 52,
   "id": "ffe58c40",
   "metadata": {},
   "outputs": [
    {
     "name": "stderr",
     "output_type": "stream",
     "text": [
      "/tmp/ipykernel_56500/3364137540.py:2: SettingWithCopyWarning: \n",
      "A value is trying to be set on a copy of a slice from a DataFrame.\n",
      "Try using .loc[row_indexer,col_indexer] = value instead\n",
      "\n",
      "See the caveats in the documentation: https://pandas.pydata.org/pandas-docs/stable/user_guide/indexing.html#returning-a-view-versus-a-copy\n",
      "  df['cidade'] = df['cidade'].str.lower()\n"
     ]
    },
    {
     "data": {
      "text/html": [
       "<div>\n",
       "<style scoped>\n",
       "    .dataframe tbody tr th:only-of-type {\n",
       "        vertical-align: middle;\n",
       "    }\n",
       "\n",
       "    .dataframe tbody tr th {\n",
       "        vertical-align: top;\n",
       "    }\n",
       "\n",
       "    .dataframe thead th {\n",
       "        text-align: right;\n",
       "    }\n",
       "</style>\n",
       "<table border=\"1\" class=\"dataframe\">\n",
       "  <thead>\n",
       "    <tr style=\"text-align: right;\">\n",
       "      <th></th>\n",
       "      <th>produto</th>\n",
       "      <th>data_venda</th>\n",
       "      <th>valor</th>\n",
       "      <th>estoque</th>\n",
       "      <th>cidade</th>\n",
       "    </tr>\n",
       "  </thead>\n",
       "  <tbody>\n",
       "    <tr>\n",
       "      <th>0</th>\n",
       "      <td>Produto A</td>\n",
       "      <td>2025-10-01</td>\n",
       "      <td>50.50</td>\n",
       "      <td>100.0</td>\n",
       "      <td>são paulo</td>\n",
       "    </tr>\n",
       "    <tr>\n",
       "      <th>1</th>\n",
       "      <td>Produto B</td>\n",
       "      <td>2025-10-02</td>\n",
       "      <td>70.00</td>\n",
       "      <td>50.0</td>\n",
       "      <td>sp</td>\n",
       "    </tr>\n",
       "    <tr>\n",
       "      <th>2</th>\n",
       "      <td>Produto C</td>\n",
       "      <td>2025-10-03</td>\n",
       "      <td>30.25</td>\n",
       "      <td>75.0</td>\n",
       "      <td>rio de janeiro</td>\n",
       "    </tr>\n",
       "    <tr>\n",
       "      <th>3</th>\n",
       "      <td>Produto A</td>\n",
       "      <td>2025-10-01</td>\n",
       "      <td>50.50</td>\n",
       "      <td>100.0</td>\n",
       "      <td>são paulo</td>\n",
       "    </tr>\n",
       "    <tr>\n",
       "      <th>4</th>\n",
       "      <td>Produto D</td>\n",
       "      <td>2025-10-05</td>\n",
       "      <td>1500.00</td>\n",
       "      <td>5.0</td>\n",
       "      <td>belo horizonte</td>\n",
       "    </tr>\n",
       "    <tr>\n",
       "      <th>7</th>\n",
       "      <td>desconhecido</td>\n",
       "      <td>2025-10-07</td>\n",
       "      <td>90.10</td>\n",
       "      <td>10.0</td>\n",
       "      <td>recife</td>\n",
       "    </tr>\n",
       "  </tbody>\n",
       "</table>\n",
       "</div>"
      ],
      "text/plain": [
       "        produto data_venda    valor  estoque          cidade\n",
       "0     Produto A 2025-10-01    50.50    100.0       são paulo\n",
       "1     Produto B 2025-10-02    70.00     50.0              sp\n",
       "2     Produto C 2025-10-03    30.25     75.0  rio de janeiro\n",
       "3     Produto A 2025-10-01    50.50    100.0       são paulo\n",
       "4     Produto D 2025-10-05  1500.00      5.0  belo horizonte\n",
       "7  desconhecido 2025-10-07    90.10     10.0          recife"
      ]
     },
     "execution_count": 52,
     "metadata": {},
     "output_type": "execute_result"
    }
   ],
   "source": [
    "# Padronizar para maiúsculas ou minúsculas (consistência):\n",
    "df['cidade'] = df['cidade'].str.lower()\n",
    "df"
   ]
  },
  {
   "cell_type": "code",
   "execution_count": 53,
   "id": "12584c80",
   "metadata": {},
   "outputs": [
    {
     "data": {
      "text/html": [
       "<div>\n",
       "<style scoped>\n",
       "    .dataframe tbody tr th:only-of-type {\n",
       "        vertical-align: middle;\n",
       "    }\n",
       "\n",
       "    .dataframe tbody tr th {\n",
       "        vertical-align: top;\n",
       "    }\n",
       "\n",
       "    .dataframe thead th {\n",
       "        text-align: right;\n",
       "    }\n",
       "</style>\n",
       "<table border=\"1\" class=\"dataframe\">\n",
       "  <thead>\n",
       "    <tr style=\"text-align: right;\">\n",
       "      <th></th>\n",
       "      <th>produto</th>\n",
       "      <th>data_venda</th>\n",
       "      <th>valor</th>\n",
       "      <th>estoque</th>\n",
       "      <th>cidade</th>\n",
       "    </tr>\n",
       "  </thead>\n",
       "  <tbody>\n",
       "    <tr>\n",
       "      <th>0</th>\n",
       "      <td>Produto A</td>\n",
       "      <td>2025-10-01</td>\n",
       "      <td>50.50</td>\n",
       "      <td>100.0</td>\n",
       "      <td>são paulo</td>\n",
       "    </tr>\n",
       "    <tr>\n",
       "      <th>1</th>\n",
       "      <td>Produto B</td>\n",
       "      <td>2025-10-02</td>\n",
       "      <td>70.00</td>\n",
       "      <td>50.0</td>\n",
       "      <td>são paulo</td>\n",
       "    </tr>\n",
       "    <tr>\n",
       "      <th>2</th>\n",
       "      <td>Produto C</td>\n",
       "      <td>2025-10-03</td>\n",
       "      <td>30.25</td>\n",
       "      <td>75.0</td>\n",
       "      <td>rio de janeiro</td>\n",
       "    </tr>\n",
       "    <tr>\n",
       "      <th>3</th>\n",
       "      <td>Produto A</td>\n",
       "      <td>2025-10-01</td>\n",
       "      <td>50.50</td>\n",
       "      <td>100.0</td>\n",
       "      <td>são paulo</td>\n",
       "    </tr>\n",
       "    <tr>\n",
       "      <th>4</th>\n",
       "      <td>Produto D</td>\n",
       "      <td>2025-10-05</td>\n",
       "      <td>1500.00</td>\n",
       "      <td>5.0</td>\n",
       "      <td>belo horizonte</td>\n",
       "    </tr>\n",
       "    <tr>\n",
       "      <th>7</th>\n",
       "      <td>desconhecido</td>\n",
       "      <td>2025-10-07</td>\n",
       "      <td>90.10</td>\n",
       "      <td>10.0</td>\n",
       "      <td>recife</td>\n",
       "    </tr>\n",
       "  </tbody>\n",
       "</table>\n",
       "</div>"
      ],
      "text/plain": [
       "        produto data_venda    valor  estoque          cidade\n",
       "0     Produto A 2025-10-01    50.50    100.0       são paulo\n",
       "1     Produto B 2025-10-02    70.00     50.0       são paulo\n",
       "2     Produto C 2025-10-03    30.25     75.0  rio de janeiro\n",
       "3     Produto A 2025-10-01    50.50    100.0       são paulo\n",
       "4     Produto D 2025-10-05  1500.00      5.0  belo horizonte\n",
       "7  desconhecido 2025-10-07    90.10     10.0          recife"
      ]
     },
     "execution_count": 53,
     "metadata": {},
     "output_type": "execute_result"
    }
   ],
   "source": [
    "# Substituir valores inconsistentes:\n",
    "# Mapear 'sp' para 'são paulo' para unificar a categoria\n",
    "mapeamento = {'sp': 'são paulo'}\n",
    "# df['cidade'] = df['cidade'].replace(mapeamento)\n",
    "\n",
    "# Aplica o replace apenas na fatia selecionada com .loc\n",
    "condicao = df['cidade'] == 'sp'\n",
    "coluna = 'cidade'\n",
    "df.loc[condicao, coluna] = df.loc[condicao, coluna].replace(mapeamento)\n",
    "\n",
    "df"
   ]
  },
  {
   "cell_type": "markdown",
   "id": "8bf49360",
   "metadata": {},
   "source": [
    "## **Passo 5:** Tratamento de Outliers (Valores Extremos)\n",
    "Outliers são valores que se desviam significativamente dos outros. Eles podem ser erros ou dados genuinamente extremos. A decisão de como tratá-los depende do contexto do problema.\n",
    "\n",
    "Identificação (Visual): Gráficos de boxplot são ótimos para isso."
   ]
  },
  {
   "cell_type": "code",
   "execution_count": 54,
   "id": "d95d819f",
   "metadata": {},
   "outputs": [
    {
     "data": {
      "image/png": "[encoded data removed]",
      "text/plain": [
       "<Figure size 640x480 with 2 Axes>"
      ]
     },
     "metadata": {},
     "output_type": "display_data"
    }
   ],
   "source": [
    "import matplotlib.pyplot as plt\n",
    "df[['valor', 'estoque']].plot(kind='box', subplots=True, layout=(1, 2))\n",
    "plt.show()\n",
    "# O valor 1500 em 'valor' apareceria como um outlier."
   ]
  },
  {
   "cell_type": "markdown",
   "id": "53fe91e0",
   "metadata": {},
   "source": [
    "## Tratamento:\n",
    "\n",
    "Investigar: É um erro de digitação ou um dado real?\n",
    "\n",
    "Remover: Se for um erro claro."
   ]
  },
  {
   "cell_type": "code",
   "execution_count": 55,
   "id": "d5f04a62",
   "metadata": {},
   "outputs": [
    {
     "data": {
      "text/html": [
       "<div>\n",
       "<style scoped>\n",
       "    .dataframe tbody tr th:only-of-type {\n",
       "        vertical-align: middle;\n",
       "    }\n",
       "\n",
       "    .dataframe tbody tr th {\n",
       "        vertical-align: top;\n",
       "    }\n",
       "\n",
       "    .dataframe thead th {\n",
       "        text-align: right;\n",
       "    }\n",
       "</style>\n",
       "<table border=\"1\" class=\"dataframe\">\n",
       "  <thead>\n",
       "    <tr style=\"text-align: right;\">\n",
       "      <th></th>\n",
       "      <th>produto</th>\n",
       "      <th>data_venda</th>\n",
       "      <th>valor</th>\n",
       "      <th>estoque</th>\n",
       "      <th>cidade</th>\n",
       "    </tr>\n",
       "  </thead>\n",
       "  <tbody>\n",
       "    <tr>\n",
       "      <th>0</th>\n",
       "      <td>Produto A</td>\n",
       "      <td>2025-10-01</td>\n",
       "      <td>50.50</td>\n",
       "      <td>100.0</td>\n",
       "      <td>são paulo</td>\n",
       "    </tr>\n",
       "    <tr>\n",
       "      <th>1</th>\n",
       "      <td>Produto B</td>\n",
       "      <td>2025-10-02</td>\n",
       "      <td>70.00</td>\n",
       "      <td>50.0</td>\n",
       "      <td>são paulo</td>\n",
       "    </tr>\n",
       "    <tr>\n",
       "      <th>2</th>\n",
       "      <td>Produto C</td>\n",
       "      <td>2025-10-03</td>\n",
       "      <td>30.25</td>\n",
       "      <td>75.0</td>\n",
       "      <td>rio de janeiro</td>\n",
       "    </tr>\n",
       "    <tr>\n",
       "      <th>3</th>\n",
       "      <td>Produto A</td>\n",
       "      <td>2025-10-01</td>\n",
       "      <td>50.50</td>\n",
       "      <td>100.0</td>\n",
       "      <td>são paulo</td>\n",
       "    </tr>\n",
       "    <tr>\n",
       "      <th>7</th>\n",
       "      <td>desconhecido</td>\n",
       "      <td>2025-10-07</td>\n",
       "      <td>90.10</td>\n",
       "      <td>10.0</td>\n",
       "      <td>recife</td>\n",
       "    </tr>\n",
       "  </tbody>\n",
       "</table>\n",
       "</div>"
      ],
      "text/plain": [
       "        produto data_venda  valor  estoque          cidade\n",
       "0     Produto A 2025-10-01  50.50    100.0       são paulo\n",
       "1     Produto B 2025-10-02  70.00     50.0       são paulo\n",
       "2     Produto C 2025-10-03  30.25     75.0  rio de janeiro\n",
       "3     Produto A 2025-10-01  50.50    100.0       são paulo\n",
       "7  desconhecido 2025-10-07  90.10     10.0          recife"
      ]
     },
     "execution_count": 55,
     "metadata": {},
     "output_type": "execute_result"
    }
   ],
   "source": [
    "# Exemplo: remover vendas com valor acima de 1000\n",
    "df = df[df['valor'] <= 1000]\n",
    "df\n",
    "#Transformar: Aplicar transformações matemáticas como logaritmo pode reduzir o efeito do outlier."
   ]
  },
  {
   "cell_type": "markdown",
   "id": "a946f915",
   "metadata": {},
   "source": [
    "### Resumo do Fluxo de Limpeza:\n",
    "\n",
    "**Inspeção:** head(), info(), describe(), isnull().sum().\n",
    "\n",
    "**Duplicatas:** duplicated(), drop_duplicates().\n",
    "\n",
    "**Valores Ausentes:** dropna(), fillna() (com média, mediana, moda ou um valor constante).\n",
    "\n",
    "**Tipos de Dados:** astype(), pd.to_numeric(), pd.to_datetime().\n",
    "\n",
    "**Padronização de Texto:** .str.strip(), .str.lower(), replace().\n",
    "\n",
    "**Outliers:** Identificar (com boxplots ou estatísticas) e decidir se remove, transforma ou mantém.\n",
    "\n",
    "Seguir essas etapas de forma metódica garante que **seus dados estarão robustos e prontos para a próxima fase** do seu projeto de ciência de dados."
   ]
  }
 ],
 "metadata": {
  "kernelspec": {
   "display_name": "Python 3",
   "language": "python",
   "name": "python3"
  },
  "language_info": {
   "codemirror_mode": {
    "name": "ipython",
    "version": 3
   },
   "file_extension": ".py",
   "mimetype": "text/x-python",
   "name": "python",
   "nbconvert_exporter": "python",
   "pygments_lexer": "ipython3",
   "version": "3.10.12"
  }
 },
 "nbformat": 4,
 "nbformat_minor": 5
}
