{
  "nbformat": 4,
  "nbformat_minor": 0,
  "metadata": {
    "colab": {
      "provenance": []
    },
    "kernelspec": {
      "name": "python3",
      "display_name": "Python 3"
    },
    "language_info": {
      "name": "python"
    }
  },
  "cells": [
    {
      "cell_type": "code",
      "execution_count": null,
      "metadata": {
        "colab": {
          "base_uri": "https://localhost:8080/"
        },
        "id": "dq53be-CTGSZ",
        "outputId": "0621a6f2-995f-4e54-916a-5c2e4ef32dc3"
      },
      "outputs": [
        {
          "output_type": "stream",
          "name": "stdout",
          "text": [
            "Requirement already satisfied: numpy in /usr/local/lib/python3.11/dist-packages (2.0.2)\n"
          ]
        }
      ],
      "source": [
        "#Para instalar o numpy\n",
        "!pip install numpy"
      ]
    },
    {
      "cell_type": "code",
      "source": [
        "#Importação do Numpy\n",
        "import numpy as np"
      ],
      "metadata": {
        "id": "npdpH3amTOUI"
      },
      "execution_count": null,
      "outputs": []
    },
    {
      "cell_type": "code",
      "source": [
        "#Diferença no tempo de execução entre uma lista e um array numpy\n",
        "from time import time\n",
        "inicio = time()\n",
        "lista1 = list(range(10**8))\n",
        "soma1 = 0\n",
        "for i in lista1:\n",
        "  soma1 += i\n",
        "\n",
        "fim = time()\n",
        "tempo1 = fim - inicio\n",
        "print(tempo1)"
      ],
      "metadata": {
        "id": "h05WlBXYTSWp"
      },
      "execution_count": null,
      "outputs": []
    },
    {
      "cell_type": "code",
      "source": [
        "#Diferença no tempo de execução entre uma lista e um array numpy\n",
        "inicio = time()\n",
        "arr = np.array(lista1, dtype=float)\n",
        "soma2 = arr.sum()\n",
        "\n",
        "fim = time()\n",
        "tempo2 = fim - inicio\n",
        "print(tempo2)"
      ],
      "metadata": {
        "id": "6YSAFIABTdCK"
      },
      "execution_count": null,
      "outputs": []
    },
    {
      "cell_type": "code",
      "source": [
        "tempo2/tempo1"
      ],
      "metadata": {
        "id": "D8nKnywYTeuK"
      },
      "execution_count": null,
      "outputs": []
    }
  ]
}