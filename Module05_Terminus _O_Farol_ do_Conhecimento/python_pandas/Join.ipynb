{
  "nbformat": 4,
  "nbformat_minor": 0,
  "metadata": {
    "colab": {
      "provenance": []
    },
    "kernelspec": {
      "name": "python3",
      "display_name": "Python 3"
    },
    "language_info": {
      "name": "python"
    }
  },
  "cells": [
    {
      "cell_type": "markdown",
      "source": [
        "#JOIN\n",
        "\n",
        "O método .join() é uma forma conveniente de combinar DataFrames com base em\n",
        "seus índices (ou em uma coluna do DataFrame esquerdo com o índice do DataFrame\n",
        "direito). É um atalho para merge quando a mesclagem é baseada em índices.\n",
        "- other : O outro DataFrame para unir.\n",
        "- on : Coluna(s) no DataFrame esquerdo para usar como chave de união. Se None\n",
        "(padrão), usa o índice do DataFrame esquerdo.\n",
        "- how : Tipo de união ( left é o padrão, right , outer , inner )"
      ],
      "metadata": {
        "id": "ovCfKXorqdLz"
      }
    },
    {
      "cell_type": "code",
      "source": [
        "import pandas as pd"
      ],
      "metadata": {
        "id": "CFn7Qcftd2MD"
      },
      "execution_count": null,
      "outputs": []
    },
    {
      "cell_type": "code",
      "execution_count": null,
      "metadata": {
        "id": "MnAduX3aqcpV"
      },
      "outputs": [],
      "source": [
        "import pandas as pd\n",
        "# DataFrames para união (join)\n",
        "df_vendas_loja_A = pd.DataFrame({\n",
        "'Item': ['TV', 'Geladeira', 'Fogão'],\n",
        "'Vendas_A': [100, 50, 30]\n",
        "}, index=['TV', 'Geladeira', 'Fogão'])\n",
        "\n",
        "df_vendas_loja_B = pd.DataFrame({\n",
        "'Vendas_B': [80, 60, 20],\n",
        "'Estoque_B': [10, 5, 2]\n",
        "}, index=['TV', 'Geladeira', 'Máquina de Lavar'])"
      ]
    },
    {
      "cell_type": "code",
      "source": [
        "print('--- Vendas Loja A ---\\n', df_vendas_loja_A)"
      ],
      "metadata": {
        "id": "qyraSSr8qpiQ"
      },
      "execution_count": null,
      "outputs": []
    },
    {
      "cell_type": "code",
      "source": [
        "print('\\n--- Vendas Loja B ---\\n', df_vendas_loja_B)"
      ],
      "metadata": {
        "id": "vcnYnWxBqqpN"
      },
      "execution_count": null,
      "outputs": []
    },
    {
      "cell_type": "code",
      "source": [
        "# Left Join (padrão): Une df_vendas_loja_B ao df_vendas_loja_A pelo índice\n",
        "joined_left = df_vendas_loja_A.join(df_vendas_loja_B)\n",
        "print('\\n--- Left Join ---\\n', joined_left)"
      ],
      "metadata": {
        "id": "U2eySV5-qr4D"
      },
      "execution_count": null,
      "outputs": []
    },
    {
      "cell_type": "code",
      "source": [
        "# Inner Join: Apenas itens presentes em ambos\n",
        "joined_inner = df_vendas_loja_A.join(df_vendas_loja_B, how='inner')\n",
        "print('\\n--- Inner Join ---\\n', joined_inner)"
      ],
      "metadata": {
        "id": "7PsOre8XqtFk"
      },
      "execution_count": null,
      "outputs": []
    },
    {
      "cell_type": "code",
      "source": [
        "# Outer Join: Todos os itens de ambos\n",
        "joined_outer = df_vendas_loja_A.join(df_vendas_loja_B, how='outer')\n",
        "print('\\n--- Outer Join ---\\n', joined_outer)"
      ],
      "metadata": {
        "id": "8tA8CbLqquSz"
      },
      "execution_count": null,
      "outputs": []
    },
    {
      "cell_type": "code",
      "source": [
        "# Join em uma coluna específica (df_vendas_loja_A.Item com o índice de df_vendas_loja_B)\n",
        "df_vendas_loja_A_reset = df_vendas_loja_A.reset_index().rename(columns= {'index': 'Produto_Loja_A'})\n",
        "joined_on_column = df_vendas_loja_A_reset.join(df_vendas_loja_B, on='Produto_Loja_A')\n",
        "print('\\n--- Join em coluna específica ---\\n', joined_on_column)"
      ],
      "metadata": {
        "id": "P5YQh_7VqydO"
      },
      "execution_count": null,
      "outputs": []
    }
  ]
}