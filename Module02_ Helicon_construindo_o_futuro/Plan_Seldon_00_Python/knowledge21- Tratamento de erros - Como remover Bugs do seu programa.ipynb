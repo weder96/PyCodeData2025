{
 "cells": [
  {
   "cell_type": "markdown",
   "id": "6b6071ff",
   "metadata": {},
   "source": [
    "# Knowledge 21"
   ]
  },
  {
   "cell_type": "code",
   "execution_count": 1,
   "id": "40e722f8",
   "metadata": {
    "scrolled": true
   },
   "outputs": [
    {
     "name": "stdout",
     "output_type": "stream",
     "text": [
      "A divisão entre o 1º e o 2º número é 0.6666666666666666\n"
     ]
    }
   ],
   "source": [
    "#calculadora\n",
    "\n",
    "numero1 = float(input(\"Digite um número: \"))\n",
    "numero2 = float(input(\"Digite outro número: \"))\n",
    "\n",
    "divisao = numero1/numero2\n",
    "\n",
    "print(f'A divisão entre o 1º e o 2º número é {divisao}')\n"
   ]
  },
  {
   "cell_type": "code",
   "execution_count": 9,
   "id": "db081958",
   "metadata": {},
   "outputs": [
    {
     "name": "stdout",
     "output_type": "stream",
     "text": [
      "Digite um número: 20\n",
      "Digite outro número: sete\n",
      "Ocorreu um erro com o tipo de dado digitado\n",
      "Obrigado por participar!\n"
     ]
    }
   ],
   "source": [
    "#calculadora 2 \n",
    "\n",
    "try:\n",
    "\n",
    "    numero1 = float(input(\"Digite um número: \"))\n",
    "    numero2 = float(input(\"Digite outro número: \"))\n",
    "\n",
    "    divisao = numero1/numero2\n",
    "    \n",
    "except ZeroDivisionError:\n",
    "\n",
    "    print(\"Não é possível dividir um número por 0!\")\n",
    "    \n",
    "except ValueError:\n",
    "    \n",
    "    print(\"Ocorreu um erro com o tipo de dado digitado\")\n",
    "\n",
    "else:\n",
    "\n",
    "    print(f'A divisão entre o 1º e o 2º número é {divisao}')\n",
    "\n",
    "finally:\n",
    "\n",
    "    print(\"Obrigado por participar!\")"
   ]
  },
  {
   "cell_type": "code",
   "execution_count": 14,
   "id": "f8e08d08",
   "metadata": {},
   "outputs": [
    {
     "name": "stdout",
     "output_type": "stream",
     "text": [
      "Digite um número: 20\n",
      "Digite outro número: 10\n"
     ]
    }
   ],
   "source": [
    "#calculadora 3\n",
    "\n",
    "\n",
    "numero1 = float(input(\"Digite um número: \"))\n",
    "numero2 = float(input(\"Digite outro número: \"))\n",
    "\n",
    "divisao = numero1/numero2\n"
   ]
  },
  {
   "cell_type": "markdown",
   "id": "d6769546",
   "metadata": {},
   "source": [
    "# Desafios\n",
    "\n",
    "* Exercício 24: Crie um programa que receba dois dados do usuário: nome e idade. O programa deve parabenizar por estar participando do curso codigo.py e indicar que quando ele tiver a idade atual + 3 anos ele será muito bom em python. Além disso, o programa deve tratar erros caso sejam digitados dados estranhos no input.  "
   ]
  },
  {
   "cell_type": "code",
   "execution_count": 16,
   "id": "3b5964da",
   "metadata": {},
   "outputs": [
    {
     "name": "stdout",
     "output_type": "stream",
     "text": [
      "Digite seu nome: Brenno\n",
      "Digite quantos anos você tem: 40\n",
      "Parabens por estar fazendo o curso código.py Brenno! Quando você tiver 43 anos, você será um monstro no python!\n",
      "Siga para o próximo mundo para avançar no seu conhecimento em python!\n"
     ]
    }
   ],
   "source": [
    "try:\n",
    "\n",
    "    nome = str(input(\"Digite seu nome: \")).title()\n",
    "    idade = int(input(\"Digite quantos anos você tem: \"))\n",
    "\n",
    "except ValueError:\n",
    "\n",
    "    print(\"Ocorreu um problema com os dados digitados!\")\n",
    "\n",
    "else:\n",
    "    print(f\"Parabens por estar fazendo o curso código.py {nome}! Quando você tiver {idade + 3} anos, você será um monstro no python!\")\n",
    "\n",
    "finally:\n",
    "\n",
    "    print(\"Siga para o próximo mundo para avançar no seu conhecimento em python!\")"
   ]
  }
 ],
 "metadata": {
  "kernelspec": {
   "display_name": "Python 3",
   "language": "python",
   "name": "python3"
  },
  "language_info": {
   "codemirror_mode": {
    "name": "ipython",
    "version": 3
   },
   "file_extension": ".py",
   "mimetype": "text/x-python",
   "name": "python",
   "nbconvert_exporter": "python",
   "pygments_lexer": "ipython3",
   "version": "3.10.12"
  }
 },
 "nbformat": 4,
 "nbformat_minor": 5
}
