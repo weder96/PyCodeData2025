{
  "nbformat": 4,
  "nbformat_minor": 0,
  "metadata": {
    "colab": {
      "provenance": []
    },
    "kernelspec": {
      "name": "python3",
      "display_name": "Python 3"
    },
    "language_info": {
      "name": "python"
    }
  },
  "cells": [
    {
      "cell_type": "code",
      "execution_count": null,
      "metadata": {
        "id": "150LhvCUZd1x"
      },
      "outputs": [],
      "source": [
        "#Criação do DataFrame\n",
        "import pandas as pd\n",
        "df = pd.DataFrame({\n",
        "'Produto': ['Maçã', 'Banana', 'Laranja', 'Uva', 'Pera'],\n",
        "'Preco': [2.50, 1.80, 3.00, 4.20, 2.10],\n",
        "'Quantidade': [100, 150, 75, 200, 120]\n",
        "})\n",
        "print('--- DataFrame Original ---')\n",
        "print(df)"
      ]
    },
    {
      "cell_type": "code",
      "source": [
        "# Ordenar por 'Preco' em ordem crescente\n",
        "df_ordenado_preco = df.sort_values(by='Preco')\n",
        "print('\\n--- Ordenado por Preco (crescente) ---')\n",
        "print(df_ordenado_preco)"
      ],
      "metadata": {
        "id": "fIcZHLkiaCjl"
      },
      "execution_count": null,
      "outputs": []
    },
    {
      "cell_type": "code",
      "source": [
        "# Ordenar por 'Quantidade' em ordem decrescente\n",
        "df_ordenado_quantidade = df.sort_values(by='Quantidade',\n",
        "ascending=False)\n",
        "print('\\n--- Ordenado por Quantidade (decrescente) ---')\n",
        "print(df_ordenado_quantidade)"
      ],
      "metadata": {
        "id": "EcsRy5lKaEBU"
      },
      "execution_count": null,
      "outputs": []
    },
    {
      "cell_type": "code",
      "source": [
        "# Ordenar por múltiplas colunas (Preco crescente, Quantidade decrescente)\n",
        "df_ordenado_multi = df.sort_values(by=['Preco', 'Quantidade'],\n",
        "ascending=[True, False])\n",
        "print('\\n--- Ordenado por Preco (crescente) e Quantidade (decrescente) ---')\n",
        "print(df_ordenado_multi)"
      ],
      "metadata": {
        "id": "q7cZHzreaFxv"
      },
      "execution_count": null,
      "outputs": []
    }
  ]
}