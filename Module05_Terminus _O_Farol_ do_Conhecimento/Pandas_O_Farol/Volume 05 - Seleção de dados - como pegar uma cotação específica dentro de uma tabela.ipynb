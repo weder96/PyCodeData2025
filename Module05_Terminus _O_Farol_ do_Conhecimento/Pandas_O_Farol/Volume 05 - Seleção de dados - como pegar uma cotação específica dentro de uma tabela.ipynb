{
 "cells": [
  {
   "cell_type": "markdown",
   "id": "7f98ad22",
   "metadata": {},
   "source": [
    "# Volume 5\n",
    "### Introdução ao Pandas"
   ]
  },
  {
   "cell_type": "code",
   "execution_count": 1,
   "id": "ac11993b",
   "metadata": {},
   "outputs": [],
   "source": [
    "import pandas as pd\n",
    "import numpy as np"
   ]
  },
  {
   "cell_type": "code",
   "execution_count": 2,
   "id": "66e2cb06",
   "metadata": {},
   "outputs": [
    {
     "name": "stdout",
     "output_type": "stream",
     "text": [
      "              banco  cotacao_acao       data\n",
      "0     Itaú Unibanco         45.50 2025-01-08\n",
      "1          Bradesco         28.75 2025-01-08\n",
      "2   Banco do Brasil         52.10 2025-01-09\n",
      "3  Santander Brasil         35.90 2025-01-09\n",
      "4     Itaú Unibanco         46.20 2025-01-10\n",
      "5          Bradesco         29.10 2025-01-10\n",
      "6   Banco do Brasil         51.80 2025-01-11\n",
      "7  Santander Brasil         36.50 2025-01-11\n",
      "Filtro - Ações do Itaú com cotação maior que R$ 46.00:\n",
      "           banco  cotacao_acao       data\n",
      "4  Itaú Unibanco          46.2 2025-01-10\n"
     ]
    }
   ],
   "source": [
    "# Criação do DataFrame com dados de bancos brasileiros\n",
    "df_bancos = pd.DataFrame({\n",
    "    \"banco\": ['Itaú Unibanco', 'Bradesco', 'Banco do Brasil', 'Santander Brasil'] * 2,\n",
    "    \"cotacao_acao\": [45.50, 28.75, 52.10, 35.90, 46.20, 29.10, 51.80, 36.50],\n",
    "    \"data\": sorted(list(pd.date_range(\"1/8/2025\", periods = 4)) * 2)\n",
    "})\n",
    "print(df_bancos)\n",
    "# Filtro: Ações do Itaú Unibanco com cotação maior que 46.00\n",
    "itau_maior_que_46 = df_bancos[(df_bancos['banco'] == 'Itaú Unibanco') & (df_bancos['cotacao_acao'] > 46.00)]\n",
    "\n",
    "# Exibindo o resultado do filtro\n",
    "print(\"Filtro - Ações do Itaú com cotação maior que R$ 46.00:\")\n",
    "print(itau_maior_que_46)"
   ]
  },
  {
   "cell_type": "markdown",
   "id": "cbffcc78",
   "metadata": {},
   "source": [
    "# Explicação da Lógica do Filtro:\n",
    "| (Operador \"OU\"): Diferente do filtro anterior que usava o & (e), o | (ou) é usado aqui.\n",
    "\n",
    "Condição: O código seleciona todas as linhas onde o banco é 'Banco do Brasil' OU onde a cotacao_acao é maior que 50.00.\n",
    "\n",
    "Resultado: O resultado incluirá todas as entradas do \"Banco do Brasil\", independentemente do preço, e também qualquer outra ação de outro banco cujo preço esteja acima de R$ 50,00. No nosso exemplo, isso inclui as duas linhas do \"Banco do Brasil\" e as duas do \"Itaú Unibanco\" que têm cotações acima de 50."
   ]
  },
  {
   "cell_type": "code",
   "execution_count": 3,
   "id": "1999f688",
   "metadata": {},
   "outputs": [
    {
     "name": "stdout",
     "output_type": "stream",
     "text": [
      "DataFrame Original:\n",
      "              banco  cotacao_acao       data\n",
      "0     Itaú Unibanco         45.50 2025-01-08\n",
      "1          Bradesco         28.75 2025-01-08\n",
      "2   Banco do Brasil         52.10 2025-01-09\n",
      "3  Santander Brasil         35.90 2025-01-09\n",
      "4     Itaú Unibanco         46.20 2025-01-10\n",
      "5          Bradesco         29.10 2025-01-10\n",
      "6   Banco do Brasil         51.80 2025-01-11\n",
      "7  Santander Brasil         36.50 2025-01-11\n",
      "\n",
      "========================================\n",
      "\n",
      "Filtro - Ações do 'Banco do Brasil' OU cotação > R$ 50.00:\n",
      "             banco  cotacao_acao       data\n",
      "2  Banco do Brasil          52.1 2025-01-09\n",
      "6  Banco do Brasil          51.8 2025-01-11\n"
     ]
    }
   ],
   "source": [
    "import pandas as pd\n",
    "import numpy as np\n",
    "\n",
    "# Criação do DataFrame com dados de bancos brasileiros\n",
    "df_bancos = pd.DataFrame({\n",
    "    \"banco\": ['Itaú Unibanco', 'Bradesco', 'Banco do Brasil', 'Santander Brasil'] * 2,\n",
    "    \"cotacao_acao\": [45.50, 28.75, 52.10, 35.90, 46.20, 29.10, 51.80, 36.50],\n",
    "    \"data\": sorted(list(pd.date_range(\"1/8/2025\", periods = 4)) * 2)\n",
    "})\n",
    "print(\"DataFrame Original:\")\n",
    "print(df_bancos)\n",
    "print(\"\\n\" + \"=\"*40 + \"\\n\")\n",
    "banco_brasil_ou_maior_50 = df_bancos[(df_bancos['banco'] == 'Banco do Brasil') | (df_bancos['cotacao_acao'] > 50.00)]\n",
    "print(\"Filtro - Ações do 'Banco do Brasil' OU cotação > R$ 50.00:\")\n",
    "print(banco_brasil_ou_maior_50)"
   ]
  },
  {
   "cell_type": "code",
   "execution_count": 4,
   "id": "761a797a",
   "metadata": {},
   "outputs": [
    {
     "name": "stdout",
     "output_type": "stream",
     "text": [
      "DataFrame Original com Índice de Datas:\n",
      "                       banco  cotacao_acao\n",
      "2025-09-22     Itaú Unibanco          45.5\n",
      "2025-09-22          Bradesco          29.1\n",
      "2025-09-23   Banco do Brasil          52.1\n",
      "2025-09-23  Santander Brasil          36.5\n",
      "\n",
      "========================================\n",
      "\n",
      "Filtro - Cotações do dia 2025-09-23:\n",
      "                       banco  cotacao_acao\n",
      "2025-09-23   Banco do Brasil          52.1\n",
      "2025-09-23  Santander Brasil          36.5\n"
     ]
    }
   ],
   "source": [
    "import pandas as pd\n",
    "dados_bancos = {\n",
    "    'banco': ['Itaú Unibanco', 'Bradesco', 'Banco do Brasil', 'Santander Brasil'],\n",
    "    'cotacao_acao': [45.50, 29.10, 52.10, 36.50]\n",
    "}\n",
    "df_bancos = pd.DataFrame(\n",
    "    dados_bancos, \n",
    "    index=['2025-09-22', '2025-09-22', '2025-09-23', '2025-09-23']\n",
    ")\n",
    "print(\"DataFrame Original com Índice de Datas:\")\n",
    "print(df_bancos)\n",
    "print(\"\\n\" + \"=\"*40 + \"\\n\")\n",
    "\n",
    "dados_dia_23 = df_bancos[(df_bancos.index == '2025-09-23')]\n",
    "print(\"Filtro - Cotações do dia 2025-09-23:\")\n",
    "print(dados_dia_23)"
   ]
  },
  {
   "cell_type": "code",
   "execution_count": 5,
   "id": "3d0eb777",
   "metadata": {},
   "outputs": [
    {
     "name": "stdout",
     "output_type": "stream",
     "text": [
      "DataFrame Original:\n",
      "                       banco  cotacao_acao     segmento\n",
      "2025-09-22     Itaú Unibanco          45.5  Tradicional\n",
      "2025-09-23          Bradesco          29.1  Tradicional\n",
      "2025-09-24   Banco do Brasil          52.1  Tradicional\n",
      "2025-09-25  Santander Brasil          36.5  Tradicional\n"
     ]
    }
   ],
   "source": [
    "df_bancos = pd.DataFrame({\n",
    "    'banco': ['Itaú Unibanco', 'Bradesco', 'Banco do Brasil', 'Santander Brasil'],\n",
    "    'cotacao_acao': [45.50, 29.10, 52.10, 36.50],\n",
    "    'segmento': ['Tradicional', 'Tradicional', 'Tradicional', 'Tradicional']\n",
    "}, index=['2025-09-22', '2025-09-23', '2025-09-24', '2025-09-25'])\n",
    "\n",
    "print(\"DataFrame Original:\")\n",
    "print(df_bancos)"
   ]
  },
  {
   "cell_type": "code",
   "execution_count": 6,
   "id": "6275eb2e",
   "metadata": {},
   "outputs": [
    {
     "name": "stdout",
     "output_type": "stream",
     "text": [
      "banco           Itaú Unibanco\n",
      "cotacao_acao             45.5\n",
      "segmento          Tradicional\n",
      "Name: 2025-09-22, dtype: object\n"
     ]
    }
   ],
   "source": [
    "#um unico dia\n",
    "print(df_bancos.loc['2025-09-22'])"
   ]
  },
  {
   "cell_type": "code",
   "execution_count": 7,
   "id": "81321476",
   "metadata": {},
   "outputs": [
    {
     "name": "stdout",
     "output_type": "stream",
     "text": [
      "\n",
      "1. Selecionando a linha '2025-09-23':\n",
      "banco              Bradesco\n",
      "cotacao_acao           29.1\n",
      "segmento        Tradicional\n",
      "Name: 2025-09-23, dtype: object\n"
     ]
    }
   ],
   "source": [
    "# Retorna uma Series com os dados daquela linha\n",
    "linha_bradesco = df_bancos.loc['2025-09-23']\n",
    "print(\"\\n1. Selecionando a linha '2025-09-23':\")\n",
    "print(linha_bradesco)"
   ]
  },
  {
   "cell_type": "code",
   "execution_count": 8,
   "id": "82783077",
   "metadata": {},
   "outputs": [
    {
     "name": "stdout",
     "output_type": "stream",
     "text": [
      "\n",
      "2. Selecionando múltiplas linhas com uma lista:\n",
      "                       banco  cotacao_acao     segmento\n",
      "2025-09-25  Santander Brasil          36.5  Tradicional\n",
      "2025-09-22     Itaú Unibanco          45.5  Tradicional\n"
     ]
    }
   ],
   "source": [
    "# A ordem na lista determina a ordem no resultado\n",
    "linhas_especificas = df_bancos.loc[['2025-09-25', '2025-09-22']]\n",
    "print(\"\\n2. Selecionando múltiplas linhas com uma lista:\")\n",
    "print(linhas_especificas)"
   ]
  },
  {
   "cell_type": "code",
   "execution_count": 9,
   "id": "15895826",
   "metadata": {},
   "outputs": [
    {
     "name": "stdout",
     "output_type": "stream",
     "text": [
      "\n",
      "3. Selecionando um intervalo de linhas:\n",
      "                       banco  cotacao_acao     segmento\n",
      "2025-09-23          Bradesco          29.1  Tradicional\n",
      "2025-09-24   Banco do Brasil          52.1  Tradicional\n",
      "2025-09-25  Santander Brasil          36.5  Tradicional\n"
     ]
    }
   ],
   "source": [
    "# Pega todas as linhas no intervalo, incluindo o início e o fim\n",
    "intervalo_linhas = df_bancos.loc['2025-09-23':'2025-09-25']\n",
    "print(\"\\n3. Selecionando um intervalo de linhas:\")\n",
    "print(intervalo_linhas)"
   ]
  },
  {
   "cell_type": "code",
   "execution_count": 10,
   "id": "49340575",
   "metadata": {},
   "outputs": [
    {
     "name": "stdout",
     "output_type": "stream",
     "text": [
      "\n",
      "4.1. Selecionando uma única célula:\n",
      "Banco do Brasil\n",
      "\n",
      "4.2. Selecionando um intervalo de linhas e uma coluna:\n",
      "2025-09-23    29.1\n",
      "2025-09-24    52.1\n",
      "2025-09-25    36.5\n",
      "Name: cotacao_acao, dtype: float64\n",
      "\n",
      "4.3. Selecionando uma linha e múltiplas colunas:\n",
      "banco       Itaú Unibanco\n",
      "segmento      Tradicional\n",
      "Name: 2025-09-22, dtype: object\n"
     ]
    }
   ],
   "source": [
    "# Valor específico (uma célula): linha '2025-09-24', coluna 'banco'\n",
    "celula = df_bancos.loc['2025-09-24', 'banco']\n",
    "print(\"\\n4.1. Selecionando uma única célula:\")\n",
    "print(celula) # Retorna o valor diretamente\n",
    "\n",
    "# Múltiplas linhas e uma coluna específica\n",
    "coluna_parcial = df_bancos.loc['2025-09-23':'2025-09-25', 'cotacao_acao']\n",
    "print(\"\\n4.2. Selecionando um intervalo de linhas e uma coluna:\")\n",
    "print(coluna_parcial)\n",
    "\n",
    "# Uma linha e múltiplas colunas\n",
    "linha_parcial = df_bancos.loc['2025-09-22', ['banco', 'segmento']]\n",
    "print(\"\\n4.3. Selecionando uma linha e múltiplas colunas:\")\n",
    "print(linha_parcial)"
   ]
  },
  {
   "cell_type": "code",
   "execution_count": 11,
   "id": "5aca8be3",
   "metadata": {},
   "outputs": [
    {
     "name": "stdout",
     "output_type": "stream",
     "text": [
      "\n",
      "5. Selecionando com condição (cotação > 40):\n",
      "                      banco  cotacao_acao     segmento\n",
      "2025-09-22    Itaú Unibanco          45.5  Tradicional\n",
      "2025-09-24  Banco do Brasil          52.1  Tradicional\n",
      "\n",
      "5.1. Condição nas linhas e colunas específicas:\n",
      "                      banco  cotacao_acao\n",
      "2025-09-22    Itaú Unibanco          45.5\n",
      "2025-09-24  Banco do Brasil          52.1\n"
     ]
    }
   ],
   "source": [
    "# Selecionar todas as linhas onde a cotação é maior que 40\n",
    "altas = df_bancos.loc[df_bancos['cotacao_acao'] > 40]\n",
    "print(\"\\n5. Selecionando com condição (cotação > 40):\")\n",
    "print(altas)\n",
    "\n",
    "# Combinando condição e seleção de coluna\n",
    "# 'Me dê o nome do banco e a cotação das ações que valem mais de 40'\n",
    "altas_info = df_bancos.loc[df_bancos['cotacao_acao'] > 40, ['banco', 'cotacao_acao']]\n",
    "print(\"\\n5.1. Condição nas linhas e colunas específicas:\")\n",
    "print(altas_info)"
   ]
  },
  {
   "cell_type": "code",
   "execution_count": 12,
   "id": "74bb5ca5",
   "metadata": {},
   "outputs": [
    {
     "name": "stdout",
     "output_type": "stream",
     "text": [
      "\n",
      "6. Modificando valores com .loc\n",
      "Valor antigo do Itaú: 45.5\n",
      "Valor novo do Itaú: 46.75\n",
      "\n",
      "DataFrame após modificações:\n",
      "                       banco  cotacao_acao       segmento\n",
      "2025-09-22     Itaú Unibanco         46.75    Tradicional\n",
      "2025-09-23          Bradesco         29.10    Tradicional\n",
      "2025-09-24   Banco do Brasil         52.10  Banco Público\n",
      "2025-09-25  Santander Brasil         36.50    Tradicional\n"
     ]
    }
   ],
   "source": [
    "# Modificar um valor específico\n",
    "print(\"\\n6. Modificando valores com .loc\")\n",
    "print(\"Valor antigo do Itaú:\", df_bancos.loc['2025-09-22', 'cotacao_acao'])\n",
    "df_bancos.loc['2025-09-22', 'cotacao_acao'] = 46.75 # Novo valor\n",
    "print(\"Valor novo do Itaú:\", df_bancos.loc['2025-09-22', 'cotacao_acao'])\n",
    "\n",
    "# Modificar uma coluna inteira com base em uma condição\n",
    "# Mudar o segmento para 'Banco Público' se o banco for 'Banco do Brasil'\n",
    "df_bancos.loc[df_bancos['banco'] == 'Banco do Brasil', 'segmento'] = 'Banco Público'\n",
    "print(\"\\nDataFrame após modificações:\")\n",
    "print(df_bancos)"
   ]
  },
  {
   "cell_type": "code",
   "execution_count": null,
   "id": "b3cb71bd",
   "metadata": {},
   "outputs": [
    {
     "name": "stdout",
     "output_type": "stream",
     "text": [
      "DataFrame de Cotações de Bancos:\n",
      "            ITUB4  BBDC4  BBAS3  SANB11\n",
      "2025-09-22  32.50  15.20   55.8   30.10\n",
      "2025-09-23  32.80  15.10   56.1   30.00\n",
      "2025-09-24  32.75  15.35   55.9   30.25\n",
      "2025-09-25  33.10  15.40   56.5   30.50\n",
      "2025-09-26  33.45  15.25   57.0   30.40\n"
     ]
    }
   ],
   "source": [
    "import pandas as pd\n",
    "datas = pd.date_range(start='2025-09-22', periods=5, freq='B') # 'B' = Business Day\n",
    "precos = {\n",
    "    'ITUB4': [32.50, 32.80, 32.75, 33.10, 33.45], # Itaú Unibanco\n",
    "    'BBDC4': [15.20, 15.10, 15.35, 15.40, 15.25], # Bradesco\n",
    "    'BBAS3': [55.80, 56.10, 55.90, 56.50, 57.00], # Banco do Brasil\n",
    "    'SANB11': [30.10, 30.00, 30.25, 30.50, 30.40] # Santander Brasil\n",
    "}\n",
    "df_bancos = pd.DataFrame(precos, index=datas)\n",
    "print(df_bancos)"
   ]
  },
  {
   "cell_type": "code",
   "execution_count": null,
   "id": "b35ce0f8",
   "metadata": {},
   "outputs": [
    {
     "name": "stdout",
     "output_type": "stream",
     "text": [
      "\n",
      "Preço de fechamento do ITUB4 no primeiro dia: R$ 32.50\n"
     ]
    }
   ],
   "source": [
    "# Linha na posição 0, Coluna na posição 0\n",
    "preco_inicial_itub4 = df_bancos.iloc[0, 0]\n",
    "print(f\"\\nPreço de fechamento do ITUB4 no primeiro dia: R$ {preco_inicial_itub4:.2f}\")"
   ]
  },
  {
   "cell_type": "code",
   "execution_count": null,
   "id": "c579db22",
   "metadata": {},
   "outputs": [
    {
     "name": "stdout",
     "output_type": "stream",
     "text": [
      "\n",
      "Preços de todos os bancos no terceiro dia de negociação:\n",
      "ITUB4     32.75\n",
      "BBDC4     15.35\n",
      "BBAS3     55.90\n",
      "SANB11    30.25\n",
      "Name: 2025-09-24 00:00:00, dtype: float64\n"
     ]
    }
   ],
   "source": [
    "# Linha na posição 2 (que corresponde ao terceiro dia)\n",
    "precos_terceiro_dia = df_bancos.iloc[2]\n",
    "print(\"\\nPreços de todos os bancos no terceiro dia de negociação:\")\n",
    "print(precos_terceiro_dia)"
   ]
  },
  {
   "cell_type": "code",
   "execution_count": 17,
   "id": "fca936d4",
   "metadata": {},
   "outputs": [
    {
     "name": "stdout",
     "output_type": "stream",
     "text": [
      "\n",
      "Série de preços do Banco do Brasil (BBAS3):\n",
      "2025-09-22    55.8\n",
      "2025-09-23    56.1\n",
      "2025-09-24    55.9\n",
      "2025-09-25    56.5\n",
      "2025-09-26    57.0\n",
      "Freq: B, Name: BBAS3, dtype: float64\n"
     ]
    }
   ],
   "source": [
    "\n",
    "serie_bbas3 = df_bancos.iloc[:, 2]\n",
    "print(\"\\nSérie de preços do Banco do Brasil (BBAS3):\")\n",
    "print(serie_bbas3)"
   ]
  },
  {
   "cell_type": "code",
   "execution_count": null,
   "id": "feb2e919",
   "metadata": {},
   "outputs": [
    {
     "name": "stdout",
     "output_type": "stream",
     "text": [
      "\n",
      "Cotações dos três primeiros dias:\n",
      "            ITUB4  BBDC4  BBAS3  SANB11\n",
      "2025-09-22  32.50  15.20   55.8   30.10\n",
      "2025-09-23  32.80  15.10   56.1   30.00\n",
      "2025-09-24  32.75  15.35   55.9   30.25\n"
     ]
    }
   ],
   "source": [
    "# Linhas da posição 0 até 3 (sem incluir a 3), todas as colunas\n",
    "tres_primeiros_dias = df_bancos.iloc[0:3]\n",
    "\n",
    "print(\"\\nCotações dos três primeiros dias:\")\n",
    "print(tres_primeiros_dias)"
   ]
  },
  {
   "cell_type": "code",
   "execution_count": 19,
   "id": "0c2c541f",
   "metadata": {},
   "outputs": [
    {
     "name": "stdout",
     "output_type": "stream",
     "text": [
      "\n",
      "Comparativo Itaú vs. Bradesco nos últimos 2 dias:\n",
      "            ITUB4  BBDC4\n",
      "2025-09-25  33.10  15.40\n",
      "2025-09-26  33.45  15.25\n"
     ]
    }
   ],
   "source": [
    "# Usando indexação negativa: -2: significa \"comece da penúltima linha e vá até o fim\"\n",
    "# Colunas 0 e 1 (slice 0:2)\n",
    "ultimos_dias_itau_bradesco = df_bancos.iloc[-2:, 0:2]\n",
    "\n",
    "print(\"\\nComparativo Itaú vs. Bradesco nos últimos 2 dias:\")\n",
    "print(ultimos_dias_itau_bradesco)"
   ]
  },
  {
   "cell_type": "code",
   "execution_count": null,
   "id": "772369e1",
   "metadata": {},
   "outputs": [
    {
     "name": "stdout",
     "output_type": "stream",
     "text": [
      "\n",
      "Relatório customizado:\n",
      "            ITUB4  SANB11\n",
      "2025-09-22  32.50   30.10\n",
      "2025-09-24  32.75   30.25\n",
      "2025-09-26  33.45   30.40\n"
     ]
    }
   ],
   "source": [
    "# Linhas nas posições 0, 2 e -1 (última)\n",
    "# Colunas nas posições 0 (ITUB4) e 3 (SANB11)\n",
    "relatorio_customizado = df_bancos.iloc[[0, 2, -1], [0, 3]]\n",
    "print(\"\\nRelatório customizado:\")\n",
    "print(relatorio_customizado)"
   ]
  },
  {
   "cell_type": "markdown",
   "id": "b78c9e20",
   "metadata": {},
   "source": [
    "# Exercícios \n",
    "\n",
    "A partir do DataFrame desenvolvido no exercício 40:\n",
    "\n",
    "* Exercício 47: Selecione a primeira linha inteira e a primeira coluna inteira com loc.\n",
    "* Exercício 48: Selecione o preço da weg com iat e com at.\n",
    "* Exercício 49: Selecione as duas primeiras linhas e todas as colunas com iloc."
   ]
  }
 ],
 "metadata": {
  "kernelspec": {
   "display_name": "Python 3",
   "language": "python",
   "name": "python3"
  },
  "language_info": {
   "codemirror_mode": {
    "name": "ipython",
    "version": 3
   },
   "file_extension": ".py",
   "mimetype": "text/x-python",
   "name": "python",
   "nbconvert_exporter": "python",
   "pygments_lexer": "ipython3",
   "version": "3.10.12"
  }
 },
 "nbformat": 4,
 "nbformat_minor": 5
}
