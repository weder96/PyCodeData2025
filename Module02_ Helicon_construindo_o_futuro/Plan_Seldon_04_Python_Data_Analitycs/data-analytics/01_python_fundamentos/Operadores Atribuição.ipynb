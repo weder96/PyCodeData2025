{
 "cells": [
  {
   "cell_type": "markdown",
   "id": "c1dfab9b",
   "metadata": {},
   "source": [
    "## Operadores de Atribuição  \n",
    "Os operadores de atribuição são usados para armazenar valores em variáveis, e também para atualizar esses valores com base em operações matemáticas ou lógicas."
   ]
  },
  {
   "cell_type": "code",
   "execution_count": null,
   "id": "1e667d6b",
   "metadata": {},
   "outputs": [],
   "source": [
    "#Operador de atribuição simples (=)\n",
    "nome = 'João'\n",
    "idade = 25\n",
    "print(nome)\n",
    "print(idade)"
   ]
  },
  {
   "cell_type": "code",
   "execution_count": null,
   "id": "7f23ea0c",
   "metadata": {},
   "outputs": [],
   "source": [
    "#Operador de atribuição com soma (+=)\n",
    "qtd = 5\n",
    "\n",
    "#qtd = qtd + 3\n",
    "#print(qtd)\n",
    "\n",
    "qtd += 3\n",
    "print(qtd)"
   ]
  },
  {
   "cell_type": "code",
   "execution_count": null,
   "id": "5df380c5",
   "metadata": {},
   "outputs": [],
   "source": [
    "#Operador de atribuição com subtração (-=)\n",
    "qtd = 8\n",
    "\n",
    "#qtd = qtd - 2\n",
    "#print(qtd)\n",
    "\n",
    "qtd -= 2\n",
    "print(qtd)"
   ]
  },
  {
   "cell_type": "code",
   "execution_count": null,
   "id": "ef73c56e",
   "metadata": {},
   "outputs": [],
   "source": [
    "#Operador de atribuição com multiplicação (*=)\n",
    "qtd = 2\n",
    "\n",
    "#qtd = qtd * 4\n",
    "#print(qtd)\n",
    "\n",
    "qtd *= 4\n",
    "print(qtd)"
   ]
  },
  {
   "cell_type": "code",
   "execution_count": null,
   "id": "0bdabc9f",
   "metadata": {},
   "outputs": [],
   "source": [
    "#Operador de atribuição com divisão (/=)\n",
    "qtd = 10\n",
    "\n",
    "#qtd = qtd / 5\n",
    "#print(qtd)\n",
    "\n",
    "qtd /= 5\n",
    "print(qtd)"
   ]
  },
  {
   "cell_type": "code",
   "execution_count": null,
   "id": "6edd91b5",
   "metadata": {},
   "outputs": [],
   "source": [
    "#Operador de atribuição com divisão exata (//=)\n",
    "qtd = 7\n",
    "\n",
    "#qtd = qtd // 2\n",
    "#print(qtd)\n",
    "\n",
    "qtd //= 2\n",
    "print(qtd)"
   ]
  },
  {
   "cell_type": "code",
   "execution_count": null,
   "id": "ed3e6723",
   "metadata": {},
   "outputs": [],
   "source": [
    "#Operador de atribuição com potência (**=)\n",
    "qtd = 4\n",
    "\n",
    "#qtd = qtd ** 3\n",
    "#print(qtd)\n",
    "\n",
    "qtd **= 3\n",
    "print(qtd)"
   ]
  },
  {
   "cell_type": "code",
   "execution_count": null,
   "id": "702c83fa",
   "metadata": {},
   "outputs": [],
   "source": [
    "#Operador de atribuição com resto da divisão (%=)\n",
    "qtd = 8\n",
    "\n",
    "#qtd = qtd % 3\n",
    "#print(qtd)\n",
    "\n",
    "qtd %= 3\n",
    "print(qtd)"
   ]
  }
 ],
 "metadata": {},
 "nbformat": 4,
 "nbformat_minor": 5
}
