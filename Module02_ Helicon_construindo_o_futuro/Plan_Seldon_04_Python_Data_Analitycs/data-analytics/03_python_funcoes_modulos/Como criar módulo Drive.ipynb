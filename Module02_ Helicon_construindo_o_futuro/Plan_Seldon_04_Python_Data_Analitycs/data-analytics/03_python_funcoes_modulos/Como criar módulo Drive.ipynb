{
 "cells": [
  {
   "cell_type": "markdown",
   "metadata": {},
   "source": [
    "# Como criar um módulo no Google Drive"
   ]
  },
  {
   "cell_type": "code",
   "execution_count": null,
   "metadata": {},
   "outputs": [],
   "source": [
    "#calculadora.py para usar no Drive\n",
    "def soma(n1, n2):\n",
    "    return n1 + n2\n",
    "\n",
    "def subtracao(n1, n2):\n",
    "    return n1 - n2\n",
    "\n",
    "def multiplicacao(n1, n2):\n",
    "    return n1 * n2\n",
    "\n",
    "def divisao(n1, n2):\n",
    "    if n2 == 0:\n",
    "        return \"O segundo valor não pode ser zero!\"\n",
    "    else:\n",
    "        return n1 / n2"
   ]
  },
  {
   "cell_type": "code",
   "execution_count": null,
   "metadata": {},
   "outputs": [],
   "source": [
    "# Montar o Drive\n",
    "from google.colab import drive\n",
    "drive.mount(\"/content/drive\")"
   ]
  },
  {
   "cell_type": "code",
   "execution_count": null,
   "metadata": {},
   "outputs": [],
   "source": [
    "# Adicionar a pasta dos módulos\n",
    "import sys\n",
    "sys.path.append(\"/content/drive/MyDrive/meus_modulos\")"
   ]
  },
  {
   "cell_type": "code",
   "execution_count": null,
   "metadata": {},
   "outputs": [],
   "source": [
    "import calculadora"
   ]
  },
  {
   "cell_type": "code",
   "execution_count": null,
   "metadata": {},
   "outputs": [],
   "source": [
    "print(calculadora.divisao(10, 5))"
   ]
  }
 ],
 "metadata": {
  "kernelspec": {
   "display_name": "Python 3",
   "language": "python",
   "name": "python3"
  },
  "language_info": {
   "name": "python",
   "version": "3.11.0"
  }
 },
 "nbformat": 4,
 "nbformat_minor": 2
}
