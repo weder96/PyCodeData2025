{
 "cells": [
  {
   "cell_type": "markdown",
   "id": "34e9bd1a",
   "metadata": {},
   "source": [
    "# Mundo 16 - Gráficos especiais - Mapa de calor quantstats"
   ]
  },
  {
   "cell_type": "code",
   "execution_count": null,
   "id": "20a24b82",
   "metadata": {},
   "outputs": [],
   "source": [
    "!pip install quantstats"
   ]
  },
  {
   "cell_type": "code",
   "execution_count": null,
   "id": "80aa21a0",
   "metadata": {},
   "outputs": [],
   "source": [
    "import quantstats as qs\n",
    "import yfinance as yf\n",
    "import pandas as pd"
   ]
  },
  {
   "cell_type": "code",
   "execution_count": null,
   "id": "4ce2e5a0",
   "metadata": {},
   "outputs": [],
   "source": [
    "cotacoes = yf.download('PETR4.SA' ,\"2008-12-28\", \"2023-01-01\")['Adj Close']\n",
    "\n",
    "retornos = cotacoes.resample(\"M\").last().pct_change().dropna()"
   ]
  },
  {
   "cell_type": "code",
   "execution_count": null,
   "id": "90dd05f4",
   "metadata": {},
   "outputs": [],
   "source": [
    "retornos"
   ]
  },
  {
   "cell_type": "code",
   "execution_count": null,
   "id": "d6b09cbe",
   "metadata": {},
   "outputs": [],
   "source": [
    "qs.extend_pandas()\n",
    "\n",
    "retornos.plot_monthly_heatmap()"
   ]
  },
  {
   "cell_type": "markdown",
   "id": "17e82fd1",
   "metadata": {},
   "source": [
    "# Exercícios\n",
    "\n",
    "* Exercício 110: Crie um mapa de calor com os retornos da WEGE3."
   ]
  },
  {
   "cell_type": "code",
   "execution_count": null,
   "id": "d5382366",
   "metadata": {},
   "outputs": [],
   "source": []
  },
  {
   "cell_type": "code",
   "execution_count": null,
   "id": "a4df93fe",
   "metadata": {},
   "outputs": [],
   "source": []
  },
  {
   "cell_type": "code",
   "execution_count": null,
   "id": "f03948d4",
   "metadata": {},
   "outputs": [],
   "source": [
    "#gabarito 110\n",
    "\n",
    "cotacoes = yf.download('WEGE3.SA' ,\"2008-12-28\", \"2023-01-01\")['Adj Close']\n",
    "\n",
    "retornos = cotacoes.resample(\"M\").last().pct_change().dropna()\n",
    "\n",
    "qs.extend_pandas()\n",
    "\n",
    "retornos.plot_monthly_heatmap()"
   ]
  },
  {
   "cell_type": "markdown",
   "id": "32b252ae",
   "metadata": {},
   "source": [
    "# Galaxia 6\n",
    "\n",
    "Vamos aprender orientação a objeto de uma vez por todas?"
   ]
  }
 ],
 "metadata": {
  "kernelspec": {
   "display_name": "Python 3",
   "language": "python",
   "name": "python3"
  },
  "language_info": {
   "codemirror_mode": {
    "name": "ipython",
    "version": 3
   },
   "file_extension": ".py",
   "mimetype": "text/x-python",
   "name": "python",
   "nbconvert_exporter": "python",
   "pygments_lexer": "ipython3",
   "version": "3.8.10"
  },
  "vscode": {
   "interpreter": {
    "hash": "916dbcbb3f70747c44a77c7bcd40155683ae19c65e1c03b4aa3499c5328201f1"
   }
  }
 },
 "nbformat": 4,
 "nbformat_minor": 5
}
