{
 "cells": [
  {
   "cell_type": "markdown",
   "id": "59546a41",
   "metadata": {},
   "source": [
    "# Knowledge 11 - Histograma, dispersão e boxsplot"
   ]
  },
  {
   "cell_type": "code",
   "execution_count": 1,
   "id": "1fd615bf",
   "metadata": {},
   "outputs": [],
   "source": [
    "import matplotlib.pyplot as plt\n",
    "import numpy as np\n",
    "import pandas as pd\n",
    "from bcb import sgs\n",
    "import matplotlib.ticker as mtick\n",
    "import matplotlib.dates as mdate\n",
    "from datetime import datetime\n",
    "from datetime import timedelta\n",
    "import yfinance as yf\n",
    "import matplotlib as mpl\n",
    "import matplotlib.pylab as lab\n",
    "import mplcyberpunk"
   ]
  },
  {
   "cell_type": "code",
   "execution_count": 2,
   "id": "88b24453",
   "metadata": {},
   "outputs": [],
   "source": [
    "params = {\"ytick.color\" : \"w\",\n",
    "          \"xtick.color\" : \"w\",\n",
    "          \"axes.labelcolor\" : \"w\",\n",
    "          \"axes.edgecolor\" : \"w\"}\n",
    "plt.rcParams.update(params)"
   ]
  },
  {
   "cell_type": "code",
   "execution_count": 3,
   "id": "26357c98",
   "metadata": {},
   "outputs": [
    {
     "name": "stderr",
     "output_type": "stream",
     "text": [
      "/tmp/ipykernel_25601/1726247934.py:1: FutureWarning: YF.download() has changed argument auto_adjust default to True\n",
      "  cotacoes = yf.download([\"WEGE3.SA\"])['Close']\n",
      "[*********************100%***********************]  1 of 1 completed\n"
     ]
    }
   ],
   "source": [
    "cotacoes = yf.download([\"WEGE3.SA\"])['Close']\n",
    "\n",
    "retornos_diarios = cotacoes.pct_change().dropna()"
   ]
  },
  {
   "cell_type": "code",
   "execution_count": 4,
   "id": "5d273e28",
   "metadata": {},
   "outputs": [
    {
     "data": {
      "image/png": "[encoded data removed]",
      "text/plain": [
       "<Figure size 640x480 with 1 Axes>"
      ]
     },
     "metadata": {},
     "output_type": "display_data"
    }
   ],
   "source": [
    "#histograma\n",
    "\n",
    "fig, ax = plt.subplots()\n",
    "\n",
    "ax.hist(retornos_diarios.values, bins = 120)\n",
    "ax.xaxis.set_major_formatter(mtick.PercentFormatter(1, decimals = 0))\n",
    "\n",
    "plt.show()"
   ]
  },
  {
   "cell_type": "code",
   "execution_count": 5,
   "id": "43c49024",
   "metadata": {},
   "outputs": [
    {
     "name": "stderr",
     "output_type": "stream",
     "text": [
      "/tmp/ipykernel_25601/2497905292.py:1: FutureWarning: YF.download() has changed argument auto_adjust default to True\n",
      "  cotacoes = yf.download([\"WEGE3.SA\", \"^BVSP\"])['Close']\n",
      "[*********************100%***********************]  2 of 2 completed\n",
      "/tmp/ipykernel_25601/2497905292.py:3: FutureWarning: 'Y' is deprecated and will be removed in a future version, please use 'YE' instead.\n",
      "  retornos_anuais = cotacoes.resample(\"Y\").last().pct_change().dropna()\n"
     ]
    },
    {
     "data": {
      "text/html": [
       "<div>\n",
       "<style scoped>\n",
       "    .dataframe tbody tr th:only-of-type {\n",
       "        vertical-align: middle;\n",
       "    }\n",
       "\n",
       "    .dataframe tbody tr th {\n",
       "        vertical-align: top;\n",
       "    }\n",
       "\n",
       "    .dataframe thead th {\n",
       "        text-align: right;\n",
       "    }\n",
       "</style>\n",
       "<table border=\"1\" class=\"dataframe\">\n",
       "  <thead>\n",
       "    <tr style=\"text-align: right;\">\n",
       "      <th>Ticker</th>\n",
       "      <th>WEGE3.SA</th>\n",
       "      <th>^BVSP</th>\n",
       "      <th>Ano</th>\n",
       "    </tr>\n",
       "    <tr>\n",
       "      <th>Date</th>\n",
       "      <th></th>\n",
       "      <th></th>\n",
       "      <th></th>\n",
       "    </tr>\n",
       "  </thead>\n",
       "  <tbody>\n",
       "  </tbody>\n",
       "</table>\n",
       "</div>"
      ],
      "text/plain": [
       "Empty DataFrame\n",
       "Columns: [WEGE3.SA, ^BVSP, Ano]\n",
       "Index: []"
      ]
     },
     "execution_count": 5,
     "metadata": {},
     "output_type": "execute_result"
    }
   ],
   "source": [
    "cotacoes = yf.download([\"WEGE3.SA\", \"^BVSP\"])['Close']\n",
    "\n",
    "retornos_anuais = cotacoes.resample(\"Y\").last().pct_change().dropna()\n",
    "\n",
    "retornos_anuais['Ano'] = retornos_anuais.index.year\n",
    "\n",
    "retornos_anuais"
   ]
  },
  {
   "cell_type": "code",
   "execution_count": 6,
   "id": "97415e73",
   "metadata": {},
   "outputs": [],
   "source": [
    "plt.style.use(\"cyberpunk\")"
   ]
  },
  {
   "cell_type": "markdown",
   "id": "15be5f49",
   "metadata": {},
   "source": [
    "https://matplotlib.org/stable/tutorials/colors/colormaps.html"
   ]
  },
  {
   "cell_type": "code",
   "execution_count": 7,
   "id": "53b2afb6",
   "metadata": {},
   "outputs": [],
   "source": [
    "def barra_discreta(vetor_categoria):\n",
    "    \n",
    "    cmap = lab.cm.cool  # define a cor\n",
    "    cmaplist = [cmap(i) for i in range(cmap.N)]\n",
    "    cmap = mpl.colors.LinearSegmentedColormap.from_list(\n",
    "        'cmap escolhido', cmaplist, cmap.N)\n",
    "    bounds = np.linspace(np.min(vetor_categoria), np.max(vetor_categoria) + 0.5, len(vetor_categoria) + 1)\n",
    "    norm = mpl.colors.BoundaryNorm(bounds, cmap.N)\n",
    "    \n",
    "    return bounds, norm"
   ]
  },
  {
   "cell_type": "code",
   "execution_count": 11,
   "id": "f6a3e99c",
   "metadata": {},
   "outputs": [
    {
     "ename": "ValueError",
     "evalue": "You must provide at least 2 boundaries (1 region) but you passed in array([nan])",
     "output_type": "error",
     "traceback": [
      "\u001b[0;31m---------------------------------------------------------------------------\u001b[0m",
      "\u001b[0;31mValueError\u001b[0m                                Traceback (most recent call last)",
      "Cell \u001b[0;32mIn[11], line 7\u001b[0m\n\u001b[1;32m      3\u001b[0m fig, ax \u001b[38;5;241m=\u001b[39m plt\u001b[38;5;241m.\u001b[39msubplots()\n\u001b[1;32m      5\u001b[0m ax\u001b[38;5;241m.\u001b[39mscatter(retornos_anuais[\u001b[38;5;124m'\u001b[39m\u001b[38;5;124mWEGE3.SA\u001b[39m\u001b[38;5;124m'\u001b[39m], retornos_anuais[\u001b[38;5;124m\"\u001b[39m\u001b[38;5;124m^BVSP\u001b[39m\u001b[38;5;124m\"\u001b[39m], c \u001b[38;5;241m=\u001b[39m retornos_anuais[\u001b[38;5;124m'\u001b[39m\u001b[38;5;124mAno\u001b[39m\u001b[38;5;124m'\u001b[39m], cmap\u001b[38;5;241m=\u001b[39m\u001b[38;5;124m\"\u001b[39m\u001b[38;5;124mcool\u001b[39m\u001b[38;5;124m\"\u001b[39m)\n\u001b[0;32m----> 7\u001b[0m bounds, norm \u001b[38;5;241m=\u001b[39m \u001b[43mbarra_discreta\u001b[49m\u001b[43m(\u001b[49m\u001b[43mretornos_anuais\u001b[49m\u001b[43m[\u001b[49m\u001b[38;5;124;43m'\u001b[39;49m\u001b[38;5;124;43mAno\u001b[39;49m\u001b[38;5;124;43m'\u001b[39;49m\u001b[43m]\u001b[49m\u001b[43m)\u001b[49m     \n\u001b[1;32m      9\u001b[0m \u001b[38;5;66;03m#cria um novo eixo pra barra\u001b[39;00m\n\u001b[1;32m     11\u001b[0m ax2 \u001b[38;5;241m=\u001b[39m fig\u001b[38;5;241m.\u001b[39madd_axes([\u001b[38;5;241m0.95\u001b[39m, \u001b[38;5;241m0.1\u001b[39m, \u001b[38;5;241m0.03\u001b[39m, \u001b[38;5;241m0.8\u001b[39m])\n",
      "Cell \u001b[0;32mIn[7], line 8\u001b[0m, in \u001b[0;36mbarra_discreta\u001b[0;34m(vetor_categoria)\u001b[0m\n\u001b[1;32m      5\u001b[0m cmap \u001b[38;5;241m=\u001b[39m mpl\u001b[38;5;241m.\u001b[39mcolors\u001b[38;5;241m.\u001b[39mLinearSegmentedColormap\u001b[38;5;241m.\u001b[39mfrom_list(\n\u001b[1;32m      6\u001b[0m     \u001b[38;5;124m'\u001b[39m\u001b[38;5;124mcmap escolhido\u001b[39m\u001b[38;5;124m'\u001b[39m, cmaplist, cmap\u001b[38;5;241m.\u001b[39mN)\n\u001b[1;32m      7\u001b[0m bounds \u001b[38;5;241m=\u001b[39m np\u001b[38;5;241m.\u001b[39mlinspace(np\u001b[38;5;241m.\u001b[39mmin(vetor_categoria), np\u001b[38;5;241m.\u001b[39mmax(vetor_categoria) \u001b[38;5;241m+\u001b[39m \u001b[38;5;241m0.5\u001b[39m, \u001b[38;5;28mlen\u001b[39m(vetor_categoria) \u001b[38;5;241m+\u001b[39m \u001b[38;5;241m1\u001b[39m)\n\u001b[0;32m----> 8\u001b[0m norm \u001b[38;5;241m=\u001b[39m \u001b[43mmpl\u001b[49m\u001b[38;5;241;43m.\u001b[39;49m\u001b[43mcolors\u001b[49m\u001b[38;5;241;43m.\u001b[39;49m\u001b[43mBoundaryNorm\u001b[49m\u001b[43m(\u001b[49m\u001b[43mbounds\u001b[49m\u001b[43m,\u001b[49m\u001b[43m \u001b[49m\u001b[43mcmap\u001b[49m\u001b[38;5;241;43m.\u001b[39;49m\u001b[43mN\u001b[49m\u001b[43m)\u001b[49m\n\u001b[1;32m     10\u001b[0m \u001b[38;5;28;01mreturn\u001b[39;00m bounds, norm\n",
      "File \u001b[0;32m~/.local/lib/python3.10/site-packages/matplotlib/colors.py:2985\u001b[0m, in \u001b[0;36mBoundaryNorm.__init__\u001b[0;34m(self, boundaries, ncolors, clip, extend)\u001b[0m\n\u001b[1;32m   2983\u001b[0m \u001b[38;5;28mself\u001b[39m\u001b[38;5;241m.\u001b[39mN \u001b[38;5;241m=\u001b[39m \u001b[38;5;28mlen\u001b[39m(\u001b[38;5;28mself\u001b[39m\u001b[38;5;241m.\u001b[39mboundaries)\n\u001b[1;32m   2984\u001b[0m \u001b[38;5;28;01mif\u001b[39;00m \u001b[38;5;28mself\u001b[39m\u001b[38;5;241m.\u001b[39mN \u001b[38;5;241m<\u001b[39m \u001b[38;5;241m2\u001b[39m:\n\u001b[0;32m-> 2985\u001b[0m     \u001b[38;5;28;01mraise\u001b[39;00m \u001b[38;5;167;01mValueError\u001b[39;00m(\u001b[38;5;124m\"\u001b[39m\u001b[38;5;124mYou must provide at least 2 boundaries \u001b[39m\u001b[38;5;124m\"\u001b[39m\n\u001b[1;32m   2986\u001b[0m                      \u001b[38;5;124mf\u001b[39m\u001b[38;5;124m\"\u001b[39m\u001b[38;5;124m(1 region) but you passed in \u001b[39m\u001b[38;5;132;01m{\u001b[39;00mboundaries\u001b[38;5;132;01m!r}\u001b[39;00m\u001b[38;5;124m\"\u001b[39m)\n\u001b[1;32m   2987\u001b[0m \u001b[38;5;28mself\u001b[39m\u001b[38;5;241m.\u001b[39mNcmap \u001b[38;5;241m=\u001b[39m ncolors\n\u001b[1;32m   2988\u001b[0m \u001b[38;5;28mself\u001b[39m\u001b[38;5;241m.\u001b[39mextend \u001b[38;5;241m=\u001b[39m extend\n",
      "\u001b[0;31mValueError\u001b[0m: You must provide at least 2 boundaries (1 region) but you passed in array([nan])"
     ]
    },
    {
     "data": {
      "image/png": "[encoded data removed]",
      "text/plain": [
       "<Figure size 640x480 with 1 Axes>"
      ]
     },
     "metadata": {},
     "output_type": "display_data"
    }
   ],
   "source": [
    "#Dispersão \n",
    "\n",
    "fig, ax = plt.subplots()\n",
    "\n",
    "ax.scatter(retornos_anuais['WEGE3.SA'], retornos_anuais[\"^BVSP\"], c = retornos_anuais['Ano'], cmap=\"cool\")\n",
    "\n",
    "bounds, norm = barra_discreta(retornos_anuais['Ano'])     \n",
    "\n",
    "#cria um novo eixo pra barra\n",
    "\n",
    "ax2 = fig.add_axes([0.95, 0.1, 0.03, 0.8])\n",
    "cb = mpl.colorbar.ColorbarBase(ax2, cmap=\"cool\", norm=norm,\n",
    "    spacing='proportional', ticks=bounds + 0.5, boundaries=bounds, format='%1i')\n",
    "\n",
    "ax.xaxis.set_major_formatter(mtick.PercentFormatter(1, decimals = 0))\n",
    "ax.yaxis.set_major_formatter(mtick.PercentFormatter(1, decimals = 0))\n",
    "ax.set_ylabel(\"Ibovespa\")\n",
    "ax.set_xlabel(\"WEGE3\")\n",
    "ax.axhline(y = 0)\n",
    "ax.axvline(x = 0)\n",
    "ax.set_title(\"Retornos anuais WEGE3 X Ibovespa\")\n",
    "\n",
    "plt.show()"
   ]
  },
  {
   "cell_type": "markdown",
   "id": "b722ef67",
   "metadata": {},
   "source": [
    "# Replique essa estrutura pra qualquer gráfico que você quiser.\n",
    "\n",
    "É impossível cobrir 100% de tudo de gráficos, utilize o google ao seu favor!\n",
    "No limite, a única diferença vai ser um \"ax.scatter\" para um \"ax.boxsplot\""
   ]
  },
  {
   "cell_type": "code",
   "execution_count": null,
   "id": "1da8364d",
   "metadata": {},
   "outputs": [],
   "source": [
    "plt.style.use(\"default\")"
   ]
  },
  {
   "cell_type": "code",
   "execution_count": 15,
   "id": "ca69396a",
   "metadata": {},
   "outputs": [
    {
     "name": "stderr",
     "output_type": "stream",
     "text": [
      "/tmp/ipykernel_25601/578656406.py:1: FutureWarning: YF.download() has changed argument auto_adjust default to True\n",
      "  cotacoes = yf.download([\"WEGE3.SA\", \"^BVSP\"])['Volume']\n",
      "[*********************100%***********************]  2 of 2 completed\n"
     ]
    }
   ],
   "source": [
    "cotacoes = yf.download([\"WEGE3.SA\", \"^BVSP\"])['Volume']\n",
    "\n",
    "retornos_mensais = cotacoes.resample(\"ME\").last().pct_change().dropna()"
   ]
  },
  {
   "cell_type": "code",
   "execution_count": 16,
   "id": "0db19eac",
   "metadata": {
    "scrolled": false
   },
   "outputs": [
    {
     "data": {
      "image/png": "[encoded data removed]",
      "text/plain": [
       "<Figure size 640x480 with 1 Axes>"
      ]
     },
     "metadata": {},
     "output_type": "display_data"
    }
   ],
   "source": [
    "fig, ax = plt.subplots()\n",
    "\n",
    "ax.boxplot(x = retornos_mensais)\n",
    "ax.yaxis.set_major_formatter(mtick.PercentFormatter(1, decimals = 0))\n",
    "ax.set_xticks([1, 2], [\"WEGE3\", \"Ibovespa\"])\n",
    "\n",
    "plt.show()"
   ]
  },
  {
   "cell_type": "markdown",
   "id": "7c7e8a69",
   "metadata": {},
   "source": [
    "# Exercícios\n",
    "\n",
    "* Exercício 103: Crie um histograma com os retornos mensais da Petrobras.\n",
    "* Exercício 104: Crie um gráfico de dispersão com os retornos anuais do S&P500 contra o Ibovespa.\n"
   ]
  },
  {
   "cell_type": "code",
   "execution_count": null,
   "id": "3f60245c",
   "metadata": {},
   "outputs": [],
   "source": []
  },
  {
   "cell_type": "code",
   "execution_count": null,
   "id": "2c1e86d2",
   "metadata": {},
   "outputs": [],
   "source": []
  },
  {
   "cell_type": "code",
   "execution_count": null,
   "id": "badcec06",
   "metadata": {
    "scrolled": true
   },
   "outputs": [],
   "source": [
    "#gabarito 103\n",
    "\n",
    "cotacoes = yf.download([\"PETR4.SA\"])['Close']\n",
    "\n",
    "retornos_diarios = cotacoes.resample(\"M\").last().pct_change().dropna()\n",
    "\n",
    "fig, ax = plt.subplots()\n",
    "\n",
    "ax.hist(retornos_diarios.values, bins = 35)\n",
    "ax.xaxis.set_major_formatter(mtick.PercentFormatter(1, decimals = 0))\n",
    "\n",
    "plt.show()"
   ]
  },
  {
   "cell_type": "code",
   "execution_count": null,
   "id": "cd222935",
   "metadata": {},
   "outputs": [],
   "source": [
    "#gabarito 104\n",
    "\n",
    "plt.style.use(\"cyberpunk\")\n",
    "\n",
    "cotacoes = yf.download([\"^GSPC\", \"^BVSP\"])['Close']\n",
    "\n",
    "retornos_anuais = cotacoes.resample(\"y\").last().pct_change().dropna()\n",
    "\n",
    "retornos_anuais['Ano'] = retornos_anuais.index.year"
   ]
  },
  {
   "cell_type": "code",
   "execution_count": null,
   "id": "195b8dd9",
   "metadata": {},
   "outputs": [],
   "source": [
    "fig, ax = plt.subplots()\n",
    "\n",
    "ax.scatter(retornos_anuais['^GSPC'], retornos_anuais[\"^BVSP\"], c = retornos_anuais['Ano'], cmap=\"cool\")\n",
    "\n",
    "bounds, norm = barra_discreta(retornos_anuais['Ano'])     \n",
    "\n",
    "\n",
    "ax2 = fig.add_axes([0.95, 0.1, 0.03, 0.8])\n",
    "cb = mpl.colorbar.ColorbarBase(ax2, cmap=\"cool\", norm=norm,\n",
    "    spacing='proportional', ticks=bounds + 0.5, boundaries=bounds, format='%1i')\n",
    "\n",
    "ax.xaxis.set_major_formatter(mtick.PercentFormatter(1, decimals = 0))\n",
    "ax.yaxis.set_major_formatter(mtick.PercentFormatter(1, decimals = 0))\n",
    "ax.set_ylabel(\"Ibovespa\")\n",
    "ax.set_xlabel(\"S&P500\")\n",
    "ax.axhline(y = 0)\n",
    "ax.axvline(x = 0)\n",
    "ax.set_title(\"Retornos anuais S&P500 X Ibovespa\")\n",
    "\n",
    "plt.show()"
   ]
  },
  {
   "cell_type": "markdown",
   "id": "80a73f97",
   "metadata": {},
   "source": []
  }
 ],
 "metadata": {
  "kernelspec": {
   "display_name": "Python 3",
   "language": "python",
   "name": "python3"
  },
  "language_info": {
   "codemirror_mode": {
    "name": "ipython",
    "version": 3
   },
   "file_extension": ".py",
   "mimetype": "text/x-python",
   "name": "python",
   "nbconvert_exporter": "python",
   "pygments_lexer": "ipython3",
   "version": "3.10.12"
  },
  "vscode": {
   "interpreter": {
    "hash": "916dbcbb3f70747c44a77c7bcd40155683ae19c65e1c03b4aa3499c5328201f1"
   }
  }
 },
 "nbformat": 4,
 "nbformat_minor": 5
}
